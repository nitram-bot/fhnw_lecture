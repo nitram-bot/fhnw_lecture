{
 "cells": [
  {
   "cell_type": "markdown",
   "id": "d4f8b813",
   "metadata": {},
   "source": [
    "conda env: autosklearn"
   ]
  },
  {
   "cell_type": "code",
   "execution_count": 1,
   "id": "patient-white",
   "metadata": {},
   "outputs": [],
   "source": [
    "%load_ext autoreload\n",
    "%autoreload 2"
   ]
  },
  {
   "cell_type": "markdown",
   "id": "threaded-booth",
   "metadata": {},
   "source": [
    "## let's attack our house-prices example"
   ]
  },
  {
   "cell_type": "code",
   "execution_count": 2,
   "id": "useful-rally",
   "metadata": {},
   "outputs": [],
   "source": [
    "import pandas as pd\n",
    "import numpy as np\n",
    "from sklearn.preprocessing import OneHotEncoder\n",
    "\n",
    "\n",
    "from sklearn.model_selection import train_test_split\n",
    "train = pd.read_csv('../data/train.csv', sep=\",\")\n",
    "test = pd.read_csv('../data/test.csv')\n",
    "\n",
    "import sklearn\n",
    "y = train['SalePrice']\n",
    "X = train.drop('SalePrice', axis=1)\n",
    "categorical = [var for var in X.columns if X[var].dtype=='O']\n",
    "numerical = [var for var in X.columns if X[var].dtype!='O']\n",
    "X[categorical] = X[categorical].fillna('None')\n",
    "\n",
    "# auto-sklearn can not deal with categorical variables\n",
    "X= pd.concat([pd.get_dummies(X[categorical], dummy_na=True), X[numerical]], axis=1)\n",
    "# enc = OneHotEncoder(handle_unknown='ignore')\n",
    "# X = pd.concat([pd.DataFrame(enc.fit_transform(X[categorical])), X[numerical]], axis=1)\n",
    "\n",
    "y = np.log1p(y)\n",
    "to_convert = {i: int for i,j in list(zip(X.dtypes.index, X.dtypes.values)) if j == 'bool'}\n",
    "X = X.astype(to_convert)\n",
    "X_train, X_test, y_train, y_test = \\\n",
    "    train_test_split(X, y, random_state=42, test_size=0.2)"
   ]
  },
  {
   "cell_type": "code",
   "execution_count": 3,
   "id": "f482b5c5",
   "metadata": {},
   "outputs": [
    {
     "data": {
      "text/plain": [
       "MSZoning_C (all)    int64\n",
       "MSZoning_FV         int64\n",
       "MSZoning_RH         int64\n",
       "MSZoning_RL         int64\n",
       "MSZoning_RM         int64\n",
       "                    ...  \n",
       "ScreenPorch         int64\n",
       "PoolArea            int64\n",
       "MiscVal             int64\n",
       "MoSold              int64\n",
       "YrSold              int64\n",
       "Length: 347, dtype: object"
      ]
     },
     "execution_count": 3,
     "metadata": {},
     "output_type": "execute_result"
    }
   ],
   "source": [
    "X.dtypes"
   ]
  },
  {
   "cell_type": "markdown",
   "id": "lovely-spokesman",
   "metadata": {},
   "source": [
    "# Auto-Sklearn"
   ]
  },
  {
   "cell_type": "markdown",
   "id": "eastern-friendship",
   "metadata": {},
   "source": [
    "[install auto-sklearn](https://automl.github.io/auto-sklearn/master/installation.html)"
   ]
  },
  {
   "cell_type": "code",
   "execution_count": 4,
   "id": "spectacular-printer",
   "metadata": {},
   "outputs": [],
   "source": [
    "import sklearn.metrics\n",
    "import autosklearn.regression\n",
    "import pandas as pd\n",
    "import numpy as np\n",
    "import warnings\n",
    "warnings.filterwarnings(\"default\")"
   ]
  },
  {
   "cell_type": "markdown",
   "id": "intensive-contributor",
   "metadata": {},
   "source": [
    "[Parameters](https://automl.github.io/auto-sklearn/master/api.html#regression)"
   ]
  },
  {
   "cell_type": "code",
   "execution_count": 5,
   "id": "09b2d5b0",
   "metadata": {},
   "outputs": [
    {
     "data": {
      "text/plain": [
       "'0.15.0'"
      ]
     },
     "execution_count": 5,
     "metadata": {},
     "output_type": "execute_result"
    }
   ],
   "source": [
    "autosklearn.__version__"
   ]
  },
  {
   "cell_type": "code",
   "execution_count": 6,
   "id": "stupid-solution",
   "metadata": {},
   "outputs": [
    {
     "name": "stderr",
     "output_type": "stream",
     "text": [
      "/tmp/ipykernel_20897/234507563.py:2: DeprecationWarning: `ensemble_size` has been deprecated, please use `ensemble_kwargs = {'ensemble_size': 8}`. Inserting `ensemble_size` into `ensemble_kwargs` for now. `ensemble_size` will be removed in auto-sklearn 0.16.\n",
      "  automl = autosklearn.regression.AutoSklearnRegressor(\n"
     ]
    }
   ],
   "source": [
    "! rm -rf /tmp/autosklearn_*\n",
    "automl = autosklearn.regression.AutoSklearnRegressor(\n",
    "    time_left_for_this_task=300,\n",
    "    #time_left_for_this_task=60,\n",
    "    per_run_time_limit=30,\n",
    "    memory_limit = 4096,\n",
    "    ensemble_size = 8, \n",
    "    ensemble_nbest=4,\n",
    "    max_models_on_disc = 16,\n",
    "    n_jobs = 4,\n",
    "    include = {'regressor': ['gradient_boosting', 'ard_regression', 'sgd', 'random_forest'],\n",
    "    'feature_preprocessor': [\"no_preprocessing\"]\n",
    "              },\n",
    "    resampling_strategy = 'cv',\n",
    "    # include_preprocessors=[\"no_preprocessing\"],\n",
    "    tmp_folder='/tmp/autosklearn_regression_example_tmp',\n",
    "    # output_folder='/tmp/autosklearn_regression_example_out',\n",
    "    delete_tmp_folder_after_terminate = True,\n",
    "    # delete_output_folder_after_terminate = False\n",
    ")"
   ]
  },
  {
   "cell_type": "code",
   "execution_count": 7,
   "id": "immune-release",
   "metadata": {
    "scrolled": false
   },
   "outputs": [
    {
     "name": "stdout",
     "output_type": "stream",
     "text": [
      "[WARNING] [2024-04-06 13:47:49,901:Client-AutoMLSMBO(1)::house-prices] Configuration 257 not found\n",
      "[WARNING] [2024-04-06 13:47:49,901:Client-AutoMLSMBO(1)::house-prices] Configuration 23 not found\n",
      "[WARNING] [2024-04-06 13:47:49,901:Client-AutoMLSMBO(1)::house-prices] Configuration 224 not found\n",
      "[WARNING] [2024-04-06 13:47:49,901:Client-AutoMLSMBO(1)::house-prices] Configuration 58 not found\n",
      "[WARNING] [2024-04-06 13:47:49,901:Client-AutoMLSMBO(1)::house-prices] Configuration 66 not found\n",
      "[WARNING] [2024-04-06 13:47:49,901:Client-AutoMLSMBO(1)::house-prices] Configuration 138 not found\n",
      "[WARNING] [2024-04-06 13:47:49,901:Client-AutoMLSMBO(1)::house-prices] Configuration 282 not found\n",
      "[WARNING] [2024-04-06 13:47:49,901:Client-AutoMLSMBO(1)::house-prices] Configuration 252 not found\n",
      "[WARNING] [2024-04-06 13:47:49,901:Client-AutoMLSMBO(1)::house-prices] Configuration 240 not found\n",
      "[WARNING] [2024-04-06 13:47:49,901:Client-AutoMLSMBO(1)::house-prices] Configuration 124 not found\n",
      "[WARNING] [2024-04-06 13:47:49,901:Client-AutoMLSMBO(1)::house-prices] Configuration 197 not found\n",
      "[WARNING] [2024-04-06 13:47:49,901:Client-AutoMLSMBO(1)::house-prices] Configuration 245 not found\n",
      "[WARNING] [2024-04-06 13:47:49,901:Client-AutoMLSMBO(1)::house-prices] Configuration 266 not found\n",
      "[WARNING] [2024-04-06 13:47:49,901:Client-AutoMLSMBO(1)::house-prices] Configuration 176 not found\n",
      "[WARNING] [2024-04-06 13:47:49,901:Client-AutoMLSMBO(1)::house-prices] Configuration 17 not found\n",
      "[WARNING] [2024-04-06 13:47:49,901:Client-AutoMLSMBO(1)::house-prices] Configuration 140 not found\n",
      "[WARNING] [2024-04-06 13:47:49,901:Client-AutoMLSMBO(1)::house-prices] Configuration 171 not found\n",
      "[WARNING] [2024-04-06 13:47:49,901:Client-AutoMLSMBO(1)::house-prices] Configuration 270 not found\n",
      "[WARNING] [2024-04-06 13:47:49,901:Client-AutoMLSMBO(1)::house-prices] Configuration 119 not found\n",
      "[WARNING] [2024-04-06 13:47:49,901:Client-AutoMLSMBO(1)::house-prices] Configuration 7 not found\n",
      "[WARNING] [2024-04-06 13:47:49,901:Client-AutoMLSMBO(1)::house-prices] Configuration 235 not found\n",
      "[WARNING] [2024-04-06 13:47:49,901:Client-AutoMLSMBO(1)::house-prices] Configuration 163 not found\n",
      "[WARNING] [2024-04-06 13:47:49,901:Client-AutoMLSMBO(1)::house-prices] Configuration 86 not found\n",
      "[WARNING] [2024-04-06 13:47:49,901:Client-AutoMLSMBO(1)::house-prices] Configuration 237 not found\n",
      "[WARNING] [2024-04-06 13:47:49,901:Client-AutoMLSMBO(1)::house-prices] Configuration 262 not found\n",
      "[WARNING] [2024-04-06 13:47:49,901:Client-AutoMLSMBO(1)::house-prices] Configuration 276 not found\n",
      "[WARNING] [2024-04-06 13:47:49,901:Client-AutoMLSMBO(1)::house-prices] Configuration 40 not found\n",
      "[WARNING] [2024-04-06 13:47:49,901:Client-AutoMLSMBO(1)::house-prices] Configuration 92 not found\n",
      "[WARNING] [2024-04-06 13:47:49,901:Client-AutoMLSMBO(1)::house-prices] Configuration 191 not found\n",
      "[WARNING] [2024-04-06 13:47:49,901:Client-AutoMLSMBO(1)::house-prices] Configuration 98 not found\n",
      "[WARNING] [2024-04-06 13:47:49,901:Client-AutoMLSMBO(1)::house-prices] Configuration 67 not found\n",
      "[WARNING] [2024-04-06 13:47:49,901:Client-AutoMLSMBO(1)::house-prices] Configuration 199 not found\n",
      "[WARNING] [2024-04-06 13:47:49,901:Client-AutoMLSMBO(1)::house-prices] Configuration 225 not found\n",
      "[WARNING] [2024-04-06 13:47:49,901:Client-AutoMLSMBO(1)::house-prices] Configuration 57 not found\n",
      "[WARNING] [2024-04-06 13:47:49,901:Client-AutoMLSMBO(1)::house-prices] Configuration 28 not found\n",
      "[WARNING] [2024-04-06 13:47:49,901:Client-AutoMLSMBO(1)::house-prices] Configuration 115 not found\n",
      "[WARNING] [2024-04-06 13:47:49,901:Client-AutoMLSMBO(1)::house-prices] Configuration 10 not found\n",
      "[WARNING] [2024-04-06 13:47:49,901:Client-AutoMLSMBO(1)::house-prices] Configuration 217 not found\n",
      "[WARNING] [2024-04-06 13:47:49,901:Client-AutoMLSMBO(1)::house-prices] Configuration 26 not found\n",
      "[WARNING] [2024-04-06 13:47:49,901:Client-AutoMLSMBO(1)::house-prices] Configuration 43 not found\n",
      "[WARNING] [2024-04-06 13:47:49,901:Client-AutoMLSMBO(1)::house-prices] Configuration 158 not found\n",
      "[WARNING] [2024-04-06 13:47:49,901:Client-AutoMLSMBO(1)::house-prices] Configuration 258 not found\n",
      "[WARNING] [2024-04-06 13:47:49,901:Client-AutoMLSMBO(1)::house-prices] Configuration 247 not found\n",
      "[WARNING] [2024-04-06 13:47:49,901:Client-AutoMLSMBO(1)::house-prices] Configuration 31 not found\n",
      "[WARNING] [2024-04-06 13:47:49,901:Client-AutoMLSMBO(1)::house-prices] Configuration 207 not found\n",
      "[WARNING] [2024-04-06 13:47:49,901:Client-AutoMLSMBO(1)::house-prices] Configuration 2 not found\n",
      "[WARNING] [2024-04-06 13:47:49,901:Client-AutoMLSMBO(1)::house-prices] Configuration 79 not found\n",
      "[WARNING] [2024-04-06 13:47:49,901:Client-AutoMLSMBO(1)::house-prices] Configuration 77 not found\n",
      "[WARNING] [2024-04-06 13:47:49,901:Client-AutoMLSMBO(1)::house-prices] Configuration 19 not found\n",
      "[WARNING] [2024-04-06 13:47:49,901:Client-AutoMLSMBO(1)::house-prices] Configuration 232 not found\n",
      "[WARNING] [2024-04-06 13:47:49,901:Client-AutoMLSMBO(1)::house-prices] Configuration 150 not found\n",
      "[WARNING] [2024-04-06 13:47:49,901:Client-AutoMLSMBO(1)::house-prices] Configuration 117 not found\n",
      "[WARNING] [2024-04-06 13:47:49,901:Client-AutoMLSMBO(1)::house-prices] Configuration 186 not found\n",
      "[WARNING] [2024-04-06 13:47:49,901:Client-AutoMLSMBO(1)::house-prices] Configuration 132 not found\n",
      "[WARNING] [2024-04-06 13:47:49,901:Client-AutoMLSMBO(1)::house-prices] Configuration 268 not found\n",
      "[WARNING] [2024-04-06 13:47:49,902:Client-AutoMLSMBO(1)::house-prices] Configuration 39 not found\n",
      "[WARNING] [2024-04-06 13:47:49,902:Client-AutoMLSMBO(1)::house-prices] Configuration 184 not found\n",
      "[WARNING] [2024-04-06 13:47:49,902:Client-AutoMLSMBO(1)::house-prices] Configuration 211 not found\n",
      "[WARNING] [2024-04-06 13:47:49,902:Client-AutoMLSMBO(1)::house-prices] Configuration 54 not found\n",
      "[WARNING] [2024-04-06 13:47:49,902:Client-AutoMLSMBO(1)::house-prices] Configuration 174 not found\n",
      "[WARNING] [2024-04-06 13:47:49,902:Client-AutoMLSMBO(1)::house-prices] Configuration 70 not found\n",
      "[WARNING] [2024-04-06 13:47:49,902:Client-AutoMLSMBO(1)::house-prices] Configuration 214 not found\n",
      "[WARNING] [2024-04-06 13:47:49,902:Client-AutoMLSMBO(1)::house-prices] Configuration 201 not found\n",
      "[WARNING] [2024-04-06 13:47:49,902:Client-AutoMLSMBO(1)::house-prices] Configuration 73 not found\n",
      "[WARNING] [2024-04-06 13:47:49,902:Client-AutoMLSMBO(1)::house-prices] Configuration 13 not found\n",
      "[WARNING] [2024-04-06 13:47:49,902:Client-AutoMLSMBO(1)::house-prices] Configuration 160 not found\n",
      "[WARNING] [2024-04-06 13:47:49,902:Client-AutoMLSMBO(1)::house-prices] Configuration 285 not found\n",
      "[WARNING] [2024-04-06 13:47:49,902:Client-AutoMLSMBO(1)::house-prices] Configuration 182 not found\n",
      "[WARNING] [2024-04-06 13:47:49,902:Client-AutoMLSMBO(1)::house-prices] Configuration 279 not found\n",
      "[WARNING] [2024-04-06 13:47:49,902:Client-AutoMLSMBO(1)::house-prices] Configuration 6 not found\n",
      "[WARNING] [2024-04-06 13:47:49,902:Client-AutoMLSMBO(1)::house-prices] Configuration 107 not found\n",
      "[WARNING] [2024-04-06 13:47:49,902:Client-AutoMLSMBO(1)::house-prices] Configuration 126 not found\n",
      "[WARNING] [2024-04-06 13:47:49,902:Client-AutoMLSMBO(1)::house-prices] Configuration 102 not found\n",
      "[WARNING] [2024-04-06 13:47:49,902:Client-AutoMLSMBO(1)::house-prices] Configuration 82 not found\n",
      "[WARNING] [2024-04-06 13:47:49,902:Client-AutoMLSMBO(1)::house-prices] Configuration 156 not found\n",
      "[WARNING] [2024-04-06 13:47:49,902:Client-AutoMLSMBO(1)::house-prices] Configuration 274 not found\n",
      "[WARNING] [2024-04-06 13:47:49,902:Client-AutoMLSMBO(1)::house-prices] Configuration 63 not found\n",
      "[WARNING] [2024-04-06 13:47:49,902:Client-AutoMLSMBO(1)::house-prices] Configuration 144 not found\n",
      "[WARNING] [2024-04-06 13:47:49,902:Client-AutoMLSMBO(1)::house-prices] Configuration 105 not found\n",
      "[WARNING] [2024-04-06 13:47:49,902:Client-AutoMLSMBO(1)::house-prices] Configuration 153 not found\n",
      "[WARNING] [2024-04-06 13:47:49,902:Client-AutoMLSMBO(1)::house-prices] Configuration 48 not found\n",
      "[WARNING] [2024-04-06 13:47:49,903:Client-AutoMLSMBO(1)::house-prices] Configuration 193 not found\n",
      "[WARNING] [2024-04-06 13:47:49,903:Client-AutoMLSMBO(1)::house-prices] Configuration 136 not found\n",
      "[WARNING] [2024-04-06 13:47:49,903:Client-AutoMLSMBO(1)::house-prices] Configuration 148 not found\n",
      "[WARNING] [2024-04-06 13:47:49,903:Client-AutoMLSMBO(1)::house-prices] Configuration 251 not found\n",
      "[WARNING] [2024-04-06 13:47:49,903:Client-AutoMLSMBO(1)::house-prices] Configuration 50 not found\n",
      "[WARNING] [2024-04-06 13:47:49,903:Client-AutoMLSMBO(1)::house-prices] Configuration 168 not found\n",
      "[WARNING] [2024-04-06 13:47:49,903:Client-AutoMLSMBO(1)::house-prices] Configuration 221 not found\n",
      "[WARNING] [2024-04-06 13:47:49,903:Client-AutoMLSMBO(1)::house-prices] Configuration 228 not found\n",
      "[WARNING] [2024-04-06 13:47:49,903:Client-AutoMLSMBO(1)::house-prices] Configuration 110 not found\n",
      "[WARNING] [2024-04-06 13:47:49,903:Client-AutoMLSMBO(1)::house-prices] Configuration 179 not found\n",
      "[WARNING] [2024-04-06 13:47:49,903:Client-AutoMLSMBO(1)::house-prices] Configuration 204 not found\n"
     ]
    },
    {
     "name": "stderr",
     "output_type": "stream",
     "text": [
      "sys:1: ResourceWarning: Unclosed socket <zmq.Socket(zmq.PUSH) at 0xffff75d65a20>\n",
      "ResourceWarning: Enable tracemalloc to get the object allocation traceback\n",
      "sys:1: ResourceWarning: Unclosed socket <zmq.Socket(zmq.PUSH) at 0xffff76055240>\n",
      "ResourceWarning: Enable tracemalloc to get the object allocation traceback\n",
      "sys:1: ResourceWarning: Unclosed socket <zmq.Socket(zmq.PUSH) at 0xffff75e6ada0>\n",
      "ResourceWarning: Enable tracemalloc to get the object allocation traceback\n",
      "sys:1: ResourceWarning: Unclosed socket <zmq.Socket(zmq.PUSH) at 0xffff75b43280>\n",
      "ResourceWarning: Enable tracemalloc to get the object allocation traceback\n"
     ]
    },
    {
     "data": {
      "text/plain": [
       "AutoSklearnRegressor(ensemble_class=<class 'autosklearn.ensembles.ensemble_selection.EnsembleSelection'>,\n",
       "                     ensemble_kwargs={'ensemble_size': 8}, ensemble_nbest=4,\n",
       "                     ensemble_size=8,\n",
       "                     include={'feature_preprocessor': ['no_preprocessing'],\n",
       "                              'regressor': ['gradient_boosting',\n",
       "                                            'ard_regression', 'sgd',\n",
       "                                            'random_forest']},\n",
       "                     max_models_on_disc=16, memory_limit=4096, n_jobs=4,\n",
       "                     per_run_time_limit=30, resampling_strategy='cv',\n",
       "                     time_left_for_this_task=300,\n",
       "                     tmp_folder='/tmp/autosklearn_regression_example_tmp')"
      ]
     },
     "execution_count": 7,
     "metadata": {},
     "output_type": "execute_result"
    }
   ],
   "source": [
    "automl.fit(X_train, y_train, dataset_name='house-prices')"
   ]
  },
  {
   "cell_type": "code",
   "execution_count": 8,
   "id": "objective-destruction",
   "metadata": {},
   "outputs": [
    {
     "name": "stdout",
     "output_type": "stream",
     "text": [
      "{10: {'model_id': 10, 'rank': 1, 'cost': 0.1072230037893749, 'ensemble_weight': 0.375, 'voting_model': VotingRegressor(estimators=None), 'estimators': [{'data_preprocessor': <autosklearn.pipeline.components.data_preprocessing.DataPreprocessorChoice object at 0xffff573ca050>, 'feature_preprocessor': <autosklearn.pipeline.components.feature_preprocessing.FeaturePreprocessorChoice object at 0xffff49a21de0>, 'regressor': <autosklearn.pipeline.components.regression.RegressorChoice object at 0xffff49a20a30>, 'sklearn_regressor': HistGradientBoostingRegressor(l2_regularization=3.6734319587405976e-07,\n",
      "                              learning_rate=0.12625079807858527, max_iter=512,\n",
      "                              max_leaf_nodes=12, min_samples_leaf=2,\n",
      "                              n_iter_no_change=3, random_state=1,\n",
      "                              validation_fraction=None, warm_start=True)}, {'data_preprocessor': <autosklearn.pipeline.components.data_preprocessing.DataPreprocessorChoice object at 0xffff494b0a60>, 'feature_preprocessor': <autosklearn.pipeline.components.feature_preprocessing.FeaturePreprocessorChoice object at 0xffff494b0160>, 'regressor': <autosklearn.pipeline.components.regression.RegressorChoice object at 0xffff494b0910>, 'sklearn_regressor': HistGradientBoostingRegressor(l2_regularization=3.6734319587405976e-07,\n",
      "                              learning_rate=0.12625079807858527, max_iter=512,\n",
      "                              max_leaf_nodes=12, min_samples_leaf=2,\n",
      "                              n_iter_no_change=3, random_state=1,\n",
      "                              validation_fraction=None, warm_start=True)}, {'data_preprocessor': <autosklearn.pipeline.components.data_preprocessing.DataPreprocessorChoice object at 0xffff4ac54f10>, 'feature_preprocessor': <autosklearn.pipeline.components.feature_preprocessing.FeaturePreprocessorChoice object at 0xffff75f19b40>, 'regressor': <autosklearn.pipeline.components.regression.RegressorChoice object at 0xffff75f18d00>, 'sklearn_regressor': HistGradientBoostingRegressor(l2_regularization=3.6734319587405976e-07,\n",
      "                              learning_rate=0.12625079807858527, max_iter=512,\n",
      "                              max_leaf_nodes=12, min_samples_leaf=2,\n",
      "                              n_iter_no_change=3, random_state=1,\n",
      "                              validation_fraction=None, warm_start=True)}, {'data_preprocessor': <autosklearn.pipeline.components.data_preprocessing.DataPreprocessorChoice object at 0xffff2a2e7ac0>, 'feature_preprocessor': <autosklearn.pipeline.components.feature_preprocessing.FeaturePreprocessorChoice object at 0xffff2a3495a0>, 'regressor': <autosklearn.pipeline.components.regression.RegressorChoice object at 0xffff2a349600>, 'sklearn_regressor': HistGradientBoostingRegressor(l2_regularization=3.6734319587405976e-07,\n",
      "                              learning_rate=0.12625079807858527, max_iter=512,\n",
      "                              max_leaf_nodes=12, min_samples_leaf=2,\n",
      "                              n_iter_no_change=3, random_state=1,\n",
      "                              validation_fraction=None, warm_start=True)}, {'data_preprocessor': <autosklearn.pipeline.components.data_preprocessing.DataPreprocessorChoice object at 0xffff2a110820>, 'feature_preprocessor': <autosklearn.pipeline.components.feature_preprocessing.FeaturePreprocessorChoice object at 0xffff2a1122c0>, 'regressor': <autosklearn.pipeline.components.regression.RegressorChoice object at 0xffff2a112320>, 'sklearn_regressor': HistGradientBoostingRegressor(l2_regularization=3.6734319587405976e-07,\n",
      "                              learning_rate=0.12625079807858527, max_iter=512,\n",
      "                              max_leaf_nodes=12, min_samples_leaf=2,\n",
      "                              n_iter_no_change=3, random_state=1,\n",
      "                              validation_fraction=None, warm_start=True)}]}, 30: {'model_id': 30, 'rank': 2, 'cost': 0.10977700447170664, 'ensemble_weight': 0.25, 'voting_model': VotingRegressor(estimators=None), 'estimators': [{'data_preprocessor': <autosklearn.pipeline.components.data_preprocessing.DataPreprocessorChoice object at 0xffff5a0c9d80>, 'feature_preprocessor': <autosklearn.pipeline.components.feature_preprocessing.FeaturePreprocessorChoice object at 0xffff4a6c84c0>, 'regressor': <autosklearn.pipeline.components.regression.RegressorChoice object at 0xffff4a6c96f0>, 'sklearn_regressor': HistGradientBoostingRegressor(l2_regularization=5.971301459538469e-06,\n",
      "                              learning_rate=0.056612932541853865, max_iter=512,\n",
      "                              max_leaf_nodes=5, min_samples_leaf=8,\n",
      "                              n_iter_no_change=0, random_state=1,\n",
      "                              validation_fraction=None, warm_start=True)}, {'data_preprocessor': <autosklearn.pipeline.components.data_preprocessing.DataPreprocessorChoice object at 0xffff49703a00>, 'feature_preprocessor': <autosklearn.pipeline.components.feature_preprocessing.FeaturePreprocessorChoice object at 0xffff4aeed810>, 'regressor': <autosklearn.pipeline.components.regression.RegressorChoice object at 0xffff4aeed240>, 'sklearn_regressor': HistGradientBoostingRegressor(l2_regularization=5.971301459538469e-06,\n",
      "                              learning_rate=0.056612932541853865, max_iter=512,\n",
      "                              max_leaf_nodes=5, min_samples_leaf=8,\n",
      "                              n_iter_no_change=0, random_state=1,\n",
      "                              validation_fraction=None, warm_start=True)}, {'data_preprocessor': <autosklearn.pipeline.components.data_preprocessing.DataPreprocessorChoice object at 0xffff2a2e6710>, 'feature_preprocessor': <autosklearn.pipeline.components.feature_preprocessing.FeaturePreprocessorChoice object at 0xffff2a3489d0>, 'regressor': <autosklearn.pipeline.components.regression.RegressorChoice object at 0xffff2a348a30>, 'sklearn_regressor': HistGradientBoostingRegressor(l2_regularization=5.971301459538469e-06,\n",
      "                              learning_rate=0.056612932541853865, max_iter=512,\n",
      "                              max_leaf_nodes=5, min_samples_leaf=8,\n",
      "                              n_iter_no_change=0, random_state=1,\n",
      "                              validation_fraction=None, warm_start=True)}, {'data_preprocessor': <autosklearn.pipeline.components.data_preprocessing.DataPreprocessorChoice object at 0xffff4ac3b970>, 'feature_preprocessor': <autosklearn.pipeline.components.feature_preprocessing.FeaturePreprocessorChoice object at 0xffff59d6be50>, 'regressor': <autosklearn.pipeline.components.regression.RegressorChoice object at 0xffff59d6aa70>, 'sklearn_regressor': HistGradientBoostingRegressor(l2_regularization=5.971301459538469e-06,\n",
      "                              learning_rate=0.056612932541853865, max_iter=512,\n",
      "                              max_leaf_nodes=5, min_samples_leaf=8,\n",
      "                              n_iter_no_change=0, random_state=1,\n",
      "                              validation_fraction=None, warm_start=True)}, {'data_preprocessor': <autosklearn.pipeline.components.data_preprocessing.DataPreprocessorChoice object at 0xffff59d6d570>, 'feature_preprocessor': <autosklearn.pipeline.components.feature_preprocessing.FeaturePreprocessorChoice object at 0xffff5a073ac0>, 'regressor': <autosklearn.pipeline.components.regression.RegressorChoice object at 0xffff5a070df0>, 'sklearn_regressor': HistGradientBoostingRegressor(l2_regularization=5.971301459538469e-06,\n",
      "                              learning_rate=0.056612932541853865, max_iter=512,\n",
      "                              max_leaf_nodes=5, min_samples_leaf=8,\n",
      "                              n_iter_no_change=0, random_state=1,\n",
      "                              validation_fraction=None, warm_start=True)}]}, 86: {'model_id': 86, 'rank': 3, 'cost': 0.1095210082883931, 'ensemble_weight': 0.375, 'voting_model': VotingRegressor(estimators=None), 'estimators': [{'data_preprocessor': <autosklearn.pipeline.components.data_preprocessing.DataPreprocessorChoice object at 0xffff59d44d60>, 'feature_preprocessor': <autosklearn.pipeline.components.feature_preprocessing.FeaturePreprocessorChoice object at 0xffff2a45bdc0>, 'regressor': <autosklearn.pipeline.components.regression.RegressorChoice object at 0xffff2a45bee0>, 'sklearn_regressor': HistGradientBoostingRegressor(l2_regularization=0.13062652581009054,\n",
      "                              learning_rate=0.12407177183333644, max_iter=512,\n",
      "                              max_leaf_nodes=9, min_samples_leaf=22,\n",
      "                              n_iter_no_change=0, random_state=1,\n",
      "                              validation_fraction=None, warm_start=True)}, {'data_preprocessor': <autosklearn.pipeline.components.data_preprocessing.DataPreprocessorChoice object at 0xffff2a056e30>, 'feature_preprocessor': <autosklearn.pipeline.components.feature_preprocessing.FeaturePreprocessorChoice object at 0xffff2a34a470>, 'regressor': <autosklearn.pipeline.components.regression.RegressorChoice object at 0xffff2a34a4d0>, 'sklearn_regressor': HistGradientBoostingRegressor(l2_regularization=0.13062652581009054,\n",
      "                              learning_rate=0.12407177183333644, max_iter=512,\n",
      "                              max_leaf_nodes=9, min_samples_leaf=22,\n",
      "                              n_iter_no_change=0, random_state=1,\n",
      "                              validation_fraction=None, warm_start=True)}, {'data_preprocessor': <autosklearn.pipeline.components.data_preprocessing.DataPreprocessorChoice object at 0xffff4a7a2860>, 'feature_preprocessor': <autosklearn.pipeline.components.feature_preprocessing.FeaturePreprocessorChoice object at 0xffff59dd1c60>, 'regressor': <autosklearn.pipeline.components.regression.RegressorChoice object at 0xffff59dd1e70>, 'sklearn_regressor': HistGradientBoostingRegressor(l2_regularization=0.13062652581009054,\n",
      "                              learning_rate=0.12407177183333644, max_iter=512,\n",
      "                              max_leaf_nodes=9, min_samples_leaf=22,\n",
      "                              n_iter_no_change=0, random_state=1,\n",
      "                              validation_fraction=None, warm_start=True)}, {'data_preprocessor': <autosklearn.pipeline.components.data_preprocessing.DataPreprocessorChoice object at 0xffff29c5ea70>, 'feature_preprocessor': <autosklearn.pipeline.components.feature_preprocessing.FeaturePreprocessorChoice object at 0xffff29b34640>, 'regressor': <autosklearn.pipeline.components.regression.RegressorChoice object at 0xffff29b346a0>, 'sklearn_regressor': HistGradientBoostingRegressor(l2_regularization=0.13062652581009054,\n",
      "                              learning_rate=0.12407177183333644, max_iter=512,\n",
      "                              max_leaf_nodes=9, min_samples_leaf=22,\n",
      "                              n_iter_no_change=0, random_state=1,\n",
      "                              validation_fraction=None, warm_start=True)}, {'data_preprocessor': <autosklearn.pipeline.components.data_preprocessing.DataPreprocessorChoice object at 0xffff29a1f610>, 'feature_preprocessor': <autosklearn.pipeline.components.feature_preprocessing.FeaturePreprocessorChoice object at 0xffff29a44fa0>, 'regressor': <autosklearn.pipeline.components.regression.RegressorChoice object at 0xffff29a45000>, 'sklearn_regressor': HistGradientBoostingRegressor(l2_regularization=0.13062652581009054,\n",
      "                              learning_rate=0.12407177183333644, max_iter=512,\n",
      "                              max_leaf_nodes=9, min_samples_leaf=22,\n",
      "                              n_iter_no_change=0, random_state=1,\n",
      "                              validation_fraction=None, warm_start=True)}]}}\n"
     ]
    },
    {
     "data": {
      "text/plain": [
       "'0.15.0'"
      ]
     },
     "execution_count": 8,
     "metadata": {},
     "output_type": "execute_result"
    }
   ],
   "source": [
    "print(automl.show_models())\n",
    "\n",
    "autosklearn.__version__"
   ]
  },
  {
   "cell_type": "code",
   "execution_count": 9,
   "id": "forward-gender",
   "metadata": {},
   "outputs": [
    {
     "name": "stdout",
     "output_type": "stream",
     "text": [
      "R2 score: 0.9069894618026599\n",
      "mean-squared-error: 0.1317451649291293\n"
     ]
    }
   ],
   "source": [
    "predictions = automl.predict(X_test)\n",
    "print(\"R2 score:\", sklearn.metrics.r2_score(y_test, predictions))\n",
    "print(\"mean-squared-error:\", sklearn.metrics.mean_squared_error(y_test, predictions, squared=False))"
   ]
  },
  {
   "cell_type": "code",
   "execution_count": null,
   "id": "b2bb9113",
   "metadata": {},
   "outputs": [],
   "source": []
  }
 ],
 "metadata": {
  "kernelspec": {
   "display_name": "Python [conda env:autosklearn]",
   "language": "python",
   "name": "conda-env-autosklearn-py"
  },
  "language_info": {
   "codemirror_mode": {
    "name": "ipython",
    "version": 3
   },
   "file_extension": ".py",
   "mimetype": "text/x-python",
   "name": "python",
   "nbconvert_exporter": "python",
   "pygments_lexer": "ipython3",
   "version": "3.10.10"
  },
  "latex_envs": {
   "LaTeX_envs_menu_present": true,
   "autoclose": false,
   "autocomplete": true,
   "bibliofile": "biblio.bib",
   "cite_by": "apalike",
   "current_citInitial": 1,
   "eqLabelWithNumbers": true,
   "eqNumInitial": 1,
   "hotkeys": {
    "equation": "Ctrl-E",
    "itemize": "Ctrl-I"
   },
   "labels_anchors": false,
   "latex_user_defs": false,
   "report_style_numbering": false,
   "user_envs_cfg": false
  }
 },
 "nbformat": 4,
 "nbformat_minor": 5
}
