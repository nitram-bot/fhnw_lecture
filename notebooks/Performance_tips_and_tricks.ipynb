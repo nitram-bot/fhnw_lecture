{
 "cells": [
  {
   "cell_type": "markdown",
   "metadata": {},
   "source": [
    "### unlist list of lists"
   ]
  },
  {
   "cell_type": "code",
   "execution_count": null,
   "metadata": {},
   "outputs": [
    {
     "data": {
      "text/plain": [
       "[['9CHT', 'P4K', 'L5FI', 'RDS3N'],\n",
       " ['QF', '8', 'S0U0', '04E'],\n",
       " ['FQ', 'ZB', 'SAZ9', 'TEZL'],\n",
       " ['JO', 'L3EG', '7', '2J9'],\n",
       " ['0K', 'MN', 'MS', 'M']]"
      ]
     },
     "metadata": {},
     "output_type": "display_data"
    }
   ],
   "source": [
    "import random\n",
    "import string\n",
    "import numpy as np\n",
    "list_of_lists_of_strings = [[''.join(random.choices(\n",
    "    string.ascii_uppercase + string.digits, k=kl)) for kl in np.random.randint(1, 6, 4)] for _ in range(1000)]\n",
    "display(list_of_lists_of_strings[0:5])"
   ]
  },
  {
   "cell_type": "code",
   "execution_count": null,
   "metadata": {},
   "outputs": [
    {
     "data": {
      "text/plain": [
       "['RTRZ9', '0W27', 'EHV', '34', 'TVFB']"
      ]
     },
     "metadata": {},
     "output_type": "display_data"
    },
    {
     "data": {
      "text/plain": [
       "['RTRZ9', '0W27', 'EHV', '34', 'TVFB']"
      ]
     },
     "metadata": {},
     "output_type": "display_data"
    }
   ],
   "source": [
    "from itertools import chain\n",
    "unlisted_list_comprehension = [s for l in list_of_lists_of_strings for s  in l]\n",
    "unlisted_itertools = list(chain(*list_of_lists_of_strings))\n",
    "display(unlisted_list_comprehension[50:55])\n",
    "display(unlisted_itertools[50:55])"
   ]
  },
  {
   "cell_type": "code",
   "execution_count": null,
   "metadata": {},
   "outputs": [
    {
     "name": "stdout",
     "output_type": "stream",
     "text": [
      "185 µs ± 111 ns per loop (mean ± std. dev. of 7 runs, 10000 loops each)\n",
      "91.7 µs ± 11.7 ns per loop (mean ± std. dev. of 7 runs, 10000 loops each)\n"
     ]
    }
   ],
   "source": [
    "%timeit [s for l in list_of_lists_of_strings for s  in l]\n",
    "%timeit list(chain(*list_of_lists_of_strings))"
   ]
  }
 ],
 "metadata": {
  "kernelspec": {
   "display_name": "Python 3",
   "language": "python",
   "name": "python3"
  }
 },
 "nbformat": 4,
 "nbformat_minor": 2
}
