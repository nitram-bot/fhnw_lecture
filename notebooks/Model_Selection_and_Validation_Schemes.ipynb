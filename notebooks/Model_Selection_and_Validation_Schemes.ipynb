{
 "cells": [
  {
   "cell_type": "markdown",
   "metadata": {},
   "source": [
    "# Cross-Validation\n",
    "In most real-word applications we do not know the data universe, i.e. we do not know all possible data points that might be there. Our training data is possibly just a biased subsample of the population.<br>\n",
    "When we fit our algorithm to such a subsample its performance will degrade, when applied to new, unseen data points. In order to have an idea, how well our algorithm will perform in such cases, we can use a cross-validation scheme:<br>\n",
    "In the example below, a 5-fold cross-validation is illustrated.\n",
    "* split the training data in 5 equal sized parts. In sklearn you can choose StratifiedKFold, what essentially tries to keep the percentage of all classes within the folds.\n",
    "* train your algorithmm on 4 folds and classify data in the 5th hold-out fold. Keep the performance on this fold.\n",
    "* repeat the last step 4 more times and use each time another fold as your hold-out fold.\n",
    "* at the end, you have 5 independent estimates of your algorithm's performance\n",
    "* compute the mean of theses 5 estimates for an overall estimate\n",
    "\n",
    "<img alt=\"generated with latex\" caption=\"The gradient boosting algorithm\" id=\"gradient_boosting\" src=\"../images/cross_validation.png\">\n",
    "\n",
    "### Pseudo python code:"
   ]
  },
  {
   "cell_type": "code",
   "execution_count": null,
   "metadata": {},
   "outputs": [
    {
     "ename": "NameError",
     "evalue": "name 'y_train' is not defined",
     "output_type": "error",
     "traceback": [
      "\u001b[0;31m---------------------------------------------------------------------------\u001b[0m",
      "\u001b[0;31mNameError\u001b[0m                                 Traceback (most recent call last)",
      "\u001b[0;32m<ipython-input-2-87cc092634a6>\u001b[0m in \u001b[0;36m<module>\u001b[0;34m\u001b[0m\n\u001b[1;32m      3\u001b[0m \u001b[0;32mfrom\u001b[0m \u001b[0msklearn\u001b[0m\u001b[0;34m.\u001b[0m\u001b[0mmetrics\u001b[0m \u001b[0;32mimport\u001b[0m \u001b[0mroc_auc_score\u001b[0m\u001b[0;34m\u001b[0m\u001b[0;34m\u001b[0m\u001b[0m\n\u001b[1;32m      4\u001b[0m \u001b[0;34m\u001b[0m\u001b[0m\n\u001b[0;32m----> 5\u001b[0;31m \u001b[0mfive_fold\u001b[0m \u001b[0;34m=\u001b[0m \u001b[0mStratifiedKFold\u001b[0m\u001b[0;34m(\u001b[0m\u001b[0my\u001b[0m\u001b[0;34m=\u001b[0m\u001b[0my_train\u001b[0m\u001b[0;34m,\u001b[0m \u001b[0mn_folds\u001b[0m\u001b[0;34m=\u001b[0m\u001b[0;36m5\u001b[0m\u001b[0;34m,\u001b[0m \u001b[0mshuffle\u001b[0m\u001b[0;34m=\u001b[0m\u001b[0;32mTrue\u001b[0m\u001b[0;34m)\u001b[0m\u001b[0;34m\u001b[0m\u001b[0;34m\u001b[0m\u001b[0m\n\u001b[0m\u001b[1;32m      6\u001b[0m \u001b[0;34m\u001b[0m\u001b[0m\n\u001b[1;32m      7\u001b[0m \u001b[0mauc_scores\u001b[0m \u001b[0;34m=\u001b[0m \u001b[0;34m[\u001b[0m\u001b[0;34m]\u001b[0m\u001b[0;34m\u001b[0m\u001b[0;34m\u001b[0m\u001b[0m\n",
      "\u001b[0;31mNameError\u001b[0m: name 'y_train' is not defined"
     ]
    }
   ],
   "source": [
    "# this is pseudo-code...algorithm and data are not defined here\n",
    "from sklearn.model_selection import StratifiedKFold\n",
    "from sklearn.metrics import roc_auc_score\n",
    "\n",
    "five_fold = StratifiedKFold(y=y_train, n_folds=5, shuffle=True)\n",
    "\n",
    "auc_scores = []\n",
    "for train_idx, val_idx in five_fold: \n",
    "    algorithm.fit(X_train[train_idx], y_train[train_idx])\n",
    "    prediction = algorithm.predict(X_train[val_idx])\n",
    "    auc_scores.append(roc_auc_score(y_true = y_train[val_idx], y_score = prediction))\n",
    "    \n",
    "print(f'mean area under the curve: {np.mean(auc_scores)}')    "
   ]
  },
  {
   "cell_type": "code",
   "execution_count": null,
   "metadata": {},
   "outputs": [],
   "source": []
  },
  {
   "cell_type": "markdown",
   "metadata": {},
   "source": [
    "# Nested cross-validation\n",
    "We learned how to estimate the true performance of an algorithm. Now, suppose we have to find the best parameters for an algorithm. We use a grid search and use for each setting the cross-validation scheme as described. We then use the best parameter combination and report the estimate of the true performance on unseen data.<br>\n",
    "Here, we introduce a bias, because we do an extensive search over different settings and in the end get the parameters with best cross-validation result on the training data. In other words, we probably fitted to peciuliarities of the training data. The right way to do it is to use the trainings-folds as well for the parameter search. We then evaluate on the hold-out fold only once. This is called nested cross-validation because the cross-validation scheme for finding the best parameters is nested within our cross-validation that aims to get a unbiased estimate of the algorithm's performance:\n",
    "<img alt=\"generated with latex\" caption=\"The gradient boosting algorithm\" id=\"gradient_boosting\" src=\"../images/nested_cross_validation.png\">"
   ]
  },
  {
   "cell_type": "markdown",
   "metadata": {},
   "source": [
    "# Stacking\n",
    "Stacking is a technique that is related to cross-validation methods. It became very famous for kaggle competitions. Now, it is exhaustively used in every competition.<br>\n",
    "Imagine, you think of using the output of one algorithm as an input to just another algorithm. If you fit the first algorithm to all the trainings data, the algorithm will certainly overfit. The generalization to unseen test data or to productive data will be bad. But, as we learned, we can mitigate these problems by the use of a cross-validation scheme. Stacking uses cross-validation for scoring the trainings data and algorithm ensembling for the test data. The important thing here to remember is, that the scores in the training data are __independent__. __The part of the training data scored in each iteration is not part of the data used to fit the algorithm__.\n",
    "<img alt=\"generated with latex\" caption=\"The gradient boosting algorithm\" id=\"gradient_boosting\" src=\"../images/stacking.png\">"
   ]
  },
  {
   "cell_type": "code",
   "execution_count": null,
   "metadata": {},
   "outputs": [
    {
     "data": {
      "text/html": [
       "<style  type=\"text/css\" >\n",
       "    #T_9aff8168_7d62_11ea_9216_5753795118b6  {\n",
       "    }    #T_9aff8168_7d62_11ea_9216_5753795118b6  {\n",
       "    }</style><table id=\"T_9aff8168_7d62_11ea_9216_5753795118b6\" style='display:inline'><caption>Caption table 1</caption><thead>    <tr>        <th class=\"blank level0\" ></th>        <th class=\"col_heading level0 col0\" >category</th>        <th class=\"col_heading level0 col1\" >y</th>    </tr></thead><tbody>\n",
       "                <tr>\n",
       "                        <th id=\"T_9aff8168_7d62_11ea_9216_5753795118b6level0_row0\" class=\"row_heading level0 row0\" >0</th>\n",
       "                        <td id=\"T_9aff8168_7d62_11ea_9216_5753795118b6row0_col0\" class=\"data row0 col0\" >A</td>\n",
       "                        <td id=\"T_9aff8168_7d62_11ea_9216_5753795118b6row0_col1\" class=\"data row0 col1\" >1</td>\n",
       "            </tr>\n",
       "            <tr>\n",
       "                        <th id=\"T_9aff8168_7d62_11ea_9216_5753795118b6level0_row1\" class=\"row_heading level0 row1\" >1</th>\n",
       "                        <td id=\"T_9aff8168_7d62_11ea_9216_5753795118b6row1_col0\" class=\"data row1 col0\" >A</td>\n",
       "                        <td id=\"T_9aff8168_7d62_11ea_9216_5753795118b6row1_col1\" class=\"data row1 col1\" >0</td>\n",
       "            </tr>\n",
       "            <tr>\n",
       "                        <th id=\"T_9aff8168_7d62_11ea_9216_5753795118b6level0_row2\" class=\"row_heading level0 row2\" >2</th>\n",
       "                        <td id=\"T_9aff8168_7d62_11ea_9216_5753795118b6row2_col0\" class=\"data row2 col0\" >A</td>\n",
       "                        <td id=\"T_9aff8168_7d62_11ea_9216_5753795118b6row2_col1\" class=\"data row2 col1\" >1</td>\n",
       "            </tr>\n",
       "            <tr>\n",
       "                        <th id=\"T_9aff8168_7d62_11ea_9216_5753795118b6level0_row3\" class=\"row_heading level0 row3\" >3</th>\n",
       "                        <td id=\"T_9aff8168_7d62_11ea_9216_5753795118b6row3_col0\" class=\"data row3 col0\" >A</td>\n",
       "                        <td id=\"T_9aff8168_7d62_11ea_9216_5753795118b6row3_col1\" class=\"data row3 col1\" >0</td>\n",
       "            </tr>\n",
       "            <tr>\n",
       "                        <th id=\"T_9aff8168_7d62_11ea_9216_5753795118b6level0_row4\" class=\"row_heading level0 row4\" >4</th>\n",
       "                        <td id=\"T_9aff8168_7d62_11ea_9216_5753795118b6row4_col0\" class=\"data row4 col0\" >A</td>\n",
       "                        <td id=\"T_9aff8168_7d62_11ea_9216_5753795118b6row4_col1\" class=\"data row4 col1\" >1</td>\n",
       "            </tr>\n",
       "            <tr>\n",
       "                        <th id=\"T_9aff8168_7d62_11ea_9216_5753795118b6level0_row5\" class=\"row_heading level0 row5\" >5</th>\n",
       "                        <td id=\"T_9aff8168_7d62_11ea_9216_5753795118b6row5_col0\" class=\"data row5 col0\" >A</td>\n",
       "                        <td id=\"T_9aff8168_7d62_11ea_9216_5753795118b6row5_col1\" class=\"data row5 col1\" >1</td>\n",
       "            </tr>\n",
       "            <tr>\n",
       "                        <th id=\"T_9aff8168_7d62_11ea_9216_5753795118b6level0_row6\" class=\"row_heading level0 row6\" >6</th>\n",
       "                        <td id=\"T_9aff8168_7d62_11ea_9216_5753795118b6row6_col0\" class=\"data row6 col0\" >B</td>\n",
       "                        <td id=\"T_9aff8168_7d62_11ea_9216_5753795118b6row6_col1\" class=\"data row6 col1\" >0</td>\n",
       "            </tr>\n",
       "            <tr>\n",
       "                        <th id=\"T_9aff8168_7d62_11ea_9216_5753795118b6level0_row7\" class=\"row_heading level0 row7\" >7</th>\n",
       "                        <td id=\"T_9aff8168_7d62_11ea_9216_5753795118b6row7_col0\" class=\"data row7 col0\" >B</td>\n",
       "                        <td id=\"T_9aff8168_7d62_11ea_9216_5753795118b6row7_col1\" class=\"data row7 col1\" >0</td>\n",
       "            </tr>\n",
       "            <tr>\n",
       "                        <th id=\"T_9aff8168_7d62_11ea_9216_5753795118b6level0_row8\" class=\"row_heading level0 row8\" >8</th>\n",
       "                        <td id=\"T_9aff8168_7d62_11ea_9216_5753795118b6row8_col0\" class=\"data row8 col0\" >B</td>\n",
       "                        <td id=\"T_9aff8168_7d62_11ea_9216_5753795118b6row8_col1\" class=\"data row8 col1\" >0</td>\n",
       "            </tr>\n",
       "            <tr>\n",
       "                        <th id=\"T_9aff8168_7d62_11ea_9216_5753795118b6level0_row9\" class=\"row_heading level0 row9\" >9</th>\n",
       "                        <td id=\"T_9aff8168_7d62_11ea_9216_5753795118b6row9_col0\" class=\"data row9 col0\" >C</td>\n",
       "                        <td id=\"T_9aff8168_7d62_11ea_9216_5753795118b6row9_col1\" class=\"data row9 col1\" >1</td>\n",
       "            </tr>\n",
       "            <tr>\n",
       "                        <th id=\"T_9aff8168_7d62_11ea_9216_5753795118b6level0_row10\" class=\"row_heading level0 row10\" >10</th>\n",
       "                        <td id=\"T_9aff8168_7d62_11ea_9216_5753795118b6row10_col0\" class=\"data row10 col0\" >C</td>\n",
       "                        <td id=\"T_9aff8168_7d62_11ea_9216_5753795118b6row10_col1\" class=\"data row10 col1\" >1</td>\n",
       "            </tr>\n",
       "            <tr>\n",
       "                        <th id=\"T_9aff8168_7d62_11ea_9216_5753795118b6level0_row11\" class=\"row_heading level0 row11\" >11</th>\n",
       "                        <td id=\"T_9aff8168_7d62_11ea_9216_5753795118b6row11_col0\" class=\"data row11 col0\" >C</td>\n",
       "                        <td id=\"T_9aff8168_7d62_11ea_9216_5753795118b6row11_col1\" class=\"data row11 col1\" >1</td>\n",
       "            </tr>\n",
       "            <tr>\n",
       "                        <th id=\"T_9aff8168_7d62_11ea_9216_5753795118b6level0_row12\" class=\"row_heading level0 row12\" >12</th>\n",
       "                        <td id=\"T_9aff8168_7d62_11ea_9216_5753795118b6row12_col0\" class=\"data row12 col0\" >C</td>\n",
       "                        <td id=\"T_9aff8168_7d62_11ea_9216_5753795118b6row12_col1\" class=\"data row12 col1\" >0</td>\n",
       "            </tr>\n",
       "    </tbody></table> <style  type=\"text/css\" >\n",
       "</style><table id=\"T_9affe3e2_7d62_11ea_9216_5753795118b6\" style='display:inline'><caption>Caption table 2</caption><thead>    <tr>        <th class=\"blank level0\" ></th>        <th class=\"col_heading level0 col0\" >category</th>        <th class=\"col_heading level0 col1\" >y</th>    </tr></thead><tbody>\n",
       "                <tr>\n",
       "                        <th id=\"T_9affe3e2_7d62_11ea_9216_5753795118b6level0_row0\" class=\"row_heading level0 row0\" >0</th>\n",
       "                        <td id=\"T_9affe3e2_7d62_11ea_9216_5753795118b6row0_col0\" class=\"data row0 col0\" >A</td>\n",
       "                        <td id=\"T_9affe3e2_7d62_11ea_9216_5753795118b6row0_col1\" class=\"data row0 col1\" >1</td>\n",
       "            </tr>\n",
       "            <tr>\n",
       "                        <th id=\"T_9affe3e2_7d62_11ea_9216_5753795118b6level0_row1\" class=\"row_heading level0 row1\" >1</th>\n",
       "                        <td id=\"T_9affe3e2_7d62_11ea_9216_5753795118b6row1_col0\" class=\"data row1 col0\" >A</td>\n",
       "                        <td id=\"T_9affe3e2_7d62_11ea_9216_5753795118b6row1_col1\" class=\"data row1 col1\" >0</td>\n",
       "            </tr>\n",
       "            <tr>\n",
       "                        <th id=\"T_9affe3e2_7d62_11ea_9216_5753795118b6level0_row2\" class=\"row_heading level0 row2\" >2</th>\n",
       "                        <td id=\"T_9affe3e2_7d62_11ea_9216_5753795118b6row2_col0\" class=\"data row2 col0\" >A</td>\n",
       "                        <td id=\"T_9affe3e2_7d62_11ea_9216_5753795118b6row2_col1\" class=\"data row2 col1\" >1</td>\n",
       "            </tr>\n",
       "            <tr>\n",
       "                        <th id=\"T_9affe3e2_7d62_11ea_9216_5753795118b6level0_row3\" class=\"row_heading level0 row3\" >3</th>\n",
       "                        <td id=\"T_9affe3e2_7d62_11ea_9216_5753795118b6row3_col0\" class=\"data row3 col0\" >A</td>\n",
       "                        <td id=\"T_9affe3e2_7d62_11ea_9216_5753795118b6row3_col1\" class=\"data row3 col1\" >0</td>\n",
       "            </tr>\n",
       "    </tbody></table>"
      ]
     },
     "metadata": {},
     "output_type": "display_data"
    }
   ],
   "source": [
    "import pandas as pd\n",
    "from IPython.display import display, display_html\n",
    "\n",
    "df = pd.DataFrame(dict(category = ['A', 'A', 'A', 'A', 'A',\n",
    "                                'A', 'B', 'B', 'B', 'C',\n",
    "                                'C', 'C', 'C'],\n",
    "                         y = [ 1, 0, 1, 0, 1,\n",
    "                                 1, 0, 0, 0, 1,\n",
    "                                 1, 1, 0]\n",
    "                  ))\n",
    "df1 = df\n",
    "df2 = df.iloc[0:4,:]\n",
    "df1_styler = df1.style.set_table_attributes(\"style='display:inline'\")\\\n",
    ".set_caption('Caption table 1').set_table_styles(dict(\n",
    "    selector=\"th\", props=[(\"font-size\", \"150%\"),\n",
    "                          (\"text-align\", \"center\")])\n",
    "                                                )\n",
    "                                                 \n",
    "df2_styler = df2.style.set_table_attributes(\"style='display:inline'\").set_caption('Caption table 2')\n",
    "\n",
    "#df1_styler.style.set_properties({'margin:10px'})\n",
    "display_html(df1_styler._repr_html_() + ' ' + df2_styler._repr_html_(), raw=True)"
   ]
  }
 ],
 "metadata": {
  "kernelspec": {
   "display_name": "Python 3",
   "language": "python",
   "name": "python3"
  },
  "language_info": {
   "codemirror_mode": {
    "name": "ipython",
    "version": 3
   },
   "file_extension": ".py",
   "mimetype": "text/x-python",
   "name": "python",
   "nbconvert_exporter": "python",
   "pygments_lexer": "ipython3",
   "version": "3.6.13"
  }
 },
 "nbformat": 4,
 "nbformat_minor": 4
}
