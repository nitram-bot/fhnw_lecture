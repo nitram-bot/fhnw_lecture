{
 "cells": [
  {
   "cell_type": "code",
   "execution_count": null,
   "id": "36de4f0d",
   "metadata": {
    "tags": [
     "parameters"
    ]
   },
   "outputs": [],
   "source": [
    "text = 'this is added as default'"
   ]
  },
  {
   "cell_type": "code",
   "execution_count": 5,
   "id": "5ec5e405",
   "metadata": {},
   "outputs": [],
   "source": [
    "with open('/home/martin/python/fhnw_lecture/notebooks/papermill_out.txt', 'w') as outputfile:\n",
    "    outputfile.write(f'this is written with papermill call new and: {text}')"
   ]
  }
 ],
 "metadata": {
  "celltoolbar": "Tags",
  "kernelspec": {
   "display_name": "Python 3",
   "language": "python",
   "name": "python3"
  },
  "language_info": {
   "codemirror_mode": {
    "name": "ipython",
    "version": 3
   },
   "file_extension": ".py",
   "mimetype": "text/x-python",
   "name": "python",
   "nbconvert_exporter": "python",
   "pygments_lexer": "ipython3",
   "version": "3.6.13"
  }
 },
 "nbformat": 4,
 "nbformat_minor": 5
}
