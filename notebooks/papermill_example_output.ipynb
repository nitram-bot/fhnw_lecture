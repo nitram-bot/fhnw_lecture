{
 "cells": [
  {
   "cell_type": "code",
   "execution_count": 1,
   "id": "36de4f0d",
   "metadata": {
    "execution": {
     "iopub.execute_input": "2022-06-24T09:21:43.705201Z",
     "iopub.status.busy": "2022-06-24T09:21:43.704174Z",
     "iopub.status.idle": "2022-06-24T09:21:43.707145Z",
     "shell.execute_reply": "2022-06-24T09:21:43.707561Z"
    },
    "papermill": {
     "duration": 0.016903,
     "end_time": "2022-06-24T09:21:43.707842",
     "exception": false,
     "start_time": "2022-06-24T09:21:43.690939",
     "status": "completed"
    },
    "tags": [
     "parameters"
    ]
   },
   "outputs": [],
   "source": [
    "text = 'this is added as default'"
   ]
  },
  {
   "cell_type": "code",
   "execution_count": 2,
   "id": "26da553c",
   "metadata": {
    "execution": {
     "iopub.execute_input": "2022-06-24T09:21:43.722326Z",
     "iopub.status.busy": "2022-06-24T09:21:43.721760Z",
     "iopub.status.idle": "2022-06-24T09:21:43.724320Z",
     "shell.execute_reply": "2022-06-24T09:21:43.724672Z"
    },
    "papermill": {
     "duration": 0.011129,
     "end_time": "2022-06-24T09:21:43.724862",
     "exception": false,
     "start_time": "2022-06-24T09:21:43.713733",
     "status": "completed"
    },
    "tags": [
     "injected-parameters"
    ]
   },
   "outputs": [],
   "source": [
    "# Parameters\n",
    "text = \"this is the new text\"\n"
   ]
  },
  {
   "cell_type": "code",
   "execution_count": 3,
   "id": "5ec5e405",
   "metadata": {
    "execution": {
     "iopub.execute_input": "2022-06-24T09:21:43.742017Z",
     "iopub.status.busy": "2022-06-24T09:21:43.741206Z",
     "iopub.status.idle": "2022-06-24T09:21:43.747924Z",
     "shell.execute_reply": "2022-06-24T09:21:43.747392Z"
    },
    "papermill": {
     "duration": 0.018007,
     "end_time": "2022-06-24T09:21:43.748081",
     "exception": false,
     "start_time": "2022-06-24T09:21:43.730074",
     "status": "completed"
    },
    "tags": []
   },
   "outputs": [],
   "source": [
    "with open('/home/martin/python/fhnw_lecture/notebooks/papermill_out.txt', 'w') as outputfile:\n",
    "    outputfile.write(f'this is written with papermill call new and: {text}')"
   ]
  }
 ],
 "metadata": {
  "celltoolbar": "Tags",
  "kernelspec": {
   "display_name": "Python 3",
   "language": "python",
   "name": "python3"
  },
  "language_info": {
   "codemirror_mode": {
    "name": "ipython",
    "version": 3
   },
   "file_extension": ".py",
   "mimetype": "text/x-python",
   "name": "python",
   "nbconvert_exporter": "python",
   "pygments_lexer": "ipython3",
   "version": "3.6.13"
  },
  "papermill": {
   "default_parameters": {},
   "duration": 3.791606,
   "end_time": "2022-06-24T09:21:43.963318",
   "environment_variables": {},
   "exception": null,
   "input_path": "papermill_example.ipynb",
   "output_path": "papermill_example_output.ipynb",
   "parameters": {
    "text": "this is the new text"
   },
   "start_time": "2022-06-24T09:21:40.171712",
   "version": "2.3.4"
  }
 },
 "nbformat": 4,
 "nbformat_minor": 5
}
