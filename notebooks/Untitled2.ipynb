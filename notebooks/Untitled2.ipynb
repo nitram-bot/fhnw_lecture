{
 "cells": [
  {
   "cell_type": "code",
   "execution_count": 1,
   "id": "703ac9fe",
   "metadata": {},
   "outputs": [
    {
     "name": "stdout",
     "output_type": "stream",
     "text": [
      "/home/martin/python/fhnw_lecture/notebooks\r\n"
     ]
    }
   ],
   "source": [
    "!pwd"
   ]
  },
  {
   "cell_type": "code",
   "execution_count": 2,
   "id": "baa2daad",
   "metadata": {},
   "outputs": [],
   "source": [
    "import os\n",
    "\n",
    "my_dir = \"/home/martin/python/fhnw_lecture/notebooks/automl_envs2\"\n",
    "entries = os.listdir(my_dir)"
   ]
  },
  {
   "cell_type": "code",
   "execution_count": 3,
   "id": "b164da4a",
   "metadata": {},
   "outputs": [
    {
     "data": {
      "text/plain": [
       "['TabPFN.txt',\n",
       " 'automl.txt',\n",
       " 'autosklearn.txt',\n",
       " 'clustering.txt',\n",
       " 'flaml.txt',\n",
       " 'skopt.txt',\n",
       " 'tpot.txt']"
      ]
     },
     "execution_count": 3,
     "metadata": {},
     "output_type": "execute_result"
    }
   ],
   "source": [
    "entries\n"
   ]
  },
  {
   "cell_type": "code",
   "execution_count": 9,
   "id": "389daced",
   "metadata": {},
   "outputs": [],
   "source": [
    "\n",
    "my_dir = \"/home/martin/python/fhnw_lecture/notebooks/automl_envs2/\"\n",
    "out_dir = \"/home/martin/python/fhnw_lecture/notebooks/no_equal/\"\n",
    "sec_out_dir = \"/home/martin/python/fhnw_lecture/notebooks/one_equal/\"\n",
    "\n",
    "for ent in entries:\n",
    "    with open(my_dir + ent , \"r\") as in_file, open(out_dir + ent, \"w\") as out_file, open(sec_out_dir + ent, \"w\") as sec_out_file:\n",
    "        for line in in_file:\n",
    "            if '=' in line:\n",
    "                transformed_line = ''.join(line.split('=')[0])  # \n",
    "                out_file.write(transformed_line)\n",
    "                out_file.write('\\n')\n",
    "                transformed_line = '='.join(line.split('=')[:-1])  # \n",
    "                sec_out_file.write(transformed_line)\n",
    "                sec_out_file.write('\\n')\n",
    "            else:\n",
    "                out_file.write(line)\n",
    "                sec_out_file.write(line)\n",
    "                \n",
    "            "
   ]
  }
 ],
 "metadata": {
  "kernelspec": {
   "display_name": "Python 3 (ipykernel)",
   "language": "python",
   "name": "python3"
  },
  "language_info": {
   "codemirror_mode": {
    "name": "ipython",
    "version": 3
   },
   "file_extension": ".py",
   "mimetype": "text/x-python",
   "name": "python",
   "nbconvert_exporter": "python",
   "pygments_lexer": "ipython3",
   "version": "3.8.16"
  }
 },
 "nbformat": 4,
 "nbformat_minor": 5
}
