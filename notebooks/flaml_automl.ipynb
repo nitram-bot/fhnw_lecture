{
 "cells": [
  {
   "cell_type": "markdown",
   "id": "69f6ef4a",
   "metadata": {},
   "source": [
    "conda env: flaml"
   ]
  },
  {
   "cell_type": "markdown",
   "id": "5fde2f3a",
   "metadata": {},
   "source": [
    "# FLAML"
   ]
  },
  {
   "cell_type": "code",
   "execution_count": 1,
   "id": "0a9d7daa",
   "metadata": {},
   "outputs": [
    {
     "name": "stdout",
     "output_type": "stream",
     "text": [
      "[flaml.automl.logger: 04-06 14:15:25] {1768} INFO - task = regression\n",
      "[flaml.automl.logger: 04-06 14:15:25] {1775} INFO - Data split method: uniform\n",
      "[flaml.automl.logger: 04-06 14:15:25] {1778} INFO - Evaluation method: cv\n",
      "[flaml.automl.logger: 04-06 14:15:25] {1891} INFO - Minimizing error metric: 1-r2\n",
      "[flaml.automl.logger: 04-06 14:15:25] {2011} INFO - List of ML learners in AutoML Run: ['lgbm', 'rf', 'extra_tree']\n",
      "[flaml.automl.logger: 04-06 14:15:25] {2341} INFO - iteration 0, current learner lgbm\n",
      "[flaml.automl.logger: 04-06 14:15:26] {2479} INFO - Estimated sufficient time budget=8814s. Estimated necessary time budget=9s.\n",
      "[flaml.automl.logger: 04-06 14:15:26] {2526} INFO -  at 1.0s,\testimator lgbm's best error=0.6546,\tbest estimator lgbm's best error=0.6546\n",
      "[flaml.automl.logger: 04-06 14:15:26] {2341} INFO - iteration 1, current learner lgbm\n",
      "[flaml.automl.logger: 04-06 14:15:27] {2526} INFO -  at 1.6s,\testimator lgbm's best error=0.6546,\tbest estimator lgbm's best error=0.6546\n",
      "[flaml.automl.logger: 04-06 14:15:27] {2341} INFO - iteration 2, current learner lgbm\n",
      "[flaml.automl.logger: 04-06 14:15:27] {2526} INFO -  at 2.0s,\testimator lgbm's best error=0.3607,\tbest estimator lgbm's best error=0.3607\n",
      "[flaml.automl.logger: 04-06 14:15:27] {2341} INFO - iteration 3, current learner lgbm\n",
      "[flaml.automl.logger: 04-06 14:15:28] {2526} INFO -  at 2.6s,\testimator lgbm's best error=0.1918,\tbest estimator lgbm's best error=0.1918\n",
      "[flaml.automl.logger: 04-06 14:15:28] {2341} INFO - iteration 4, current learner lgbm\n",
      "[flaml.automl.logger: 04-06 14:15:28] {2526} INFO -  at 3.3s,\testimator lgbm's best error=0.1918,\tbest estimator lgbm's best error=0.1918\n",
      "[flaml.automl.logger: 04-06 14:15:28] {2341} INFO - iteration 5, current learner lgbm\n",
      "[flaml.automl.logger: 04-06 14:15:29] {2526} INFO -  at 4.1s,\testimator lgbm's best error=0.1918,\tbest estimator lgbm's best error=0.1918\n",
      "[flaml.automl.logger: 04-06 14:15:29] {2341} INFO - iteration 6, current learner lgbm\n",
      "[flaml.automl.logger: 04-06 14:15:30] {2526} INFO -  at 4.5s,\testimator lgbm's best error=0.1918,\tbest estimator lgbm's best error=0.1918\n",
      "[flaml.automl.logger: 04-06 14:15:30] {2341} INFO - iteration 7, current learner extra_tree\n",
      "[flaml.automl.logger: 04-06 14:15:30] {2526} INFO -  at 4.6s,\testimator extra_tree's best error=0.3714,\tbest estimator lgbm's best error=0.1918\n",
      "[flaml.automl.logger: 04-06 14:15:30] {2341} INFO - iteration 8, current learner extra_tree\n",
      "[flaml.automl.logger: 04-06 14:15:30] {2526} INFO -  at 4.7s,\testimator extra_tree's best error=0.2732,\tbest estimator lgbm's best error=0.1918\n",
      "[flaml.automl.logger: 04-06 14:15:30] {2341} INFO - iteration 9, current learner extra_tree\n",
      "[flaml.automl.logger: 04-06 14:15:30] {2526} INFO -  at 4.8s,\testimator extra_tree's best error=0.2732,\tbest estimator lgbm's best error=0.1918\n",
      "[flaml.automl.logger: 04-06 14:15:30] {2341} INFO - iteration 10, current learner extra_tree\n",
      "[flaml.automl.logger: 04-06 14:15:30] {2526} INFO -  at 4.9s,\testimator extra_tree's best error=0.2067,\tbest estimator lgbm's best error=0.1918\n",
      "[flaml.automl.logger: 04-06 14:15:30] {2341} INFO - iteration 11, current learner extra_tree\n",
      "[flaml.automl.logger: 04-06 14:15:31] {2526} INFO -  at 5.5s,\testimator extra_tree's best error=0.1762,\tbest estimator extra_tree's best error=0.1762\n",
      "[flaml.automl.logger: 04-06 14:15:31] {2341} INFO - iteration 12, current learner extra_tree\n",
      "[flaml.automl.logger: 04-06 14:15:31] {2526} INFO -  at 5.7s,\testimator extra_tree's best error=0.1762,\tbest estimator extra_tree's best error=0.1762\n",
      "[flaml.automl.logger: 04-06 14:15:31] {2341} INFO - iteration 13, current learner extra_tree\n",
      "[flaml.automl.logger: 04-06 14:15:31] {2526} INFO -  at 5.8s,\testimator extra_tree's best error=0.1704,\tbest estimator extra_tree's best error=0.1704\n",
      "[flaml.automl.logger: 04-06 14:15:31] {2341} INFO - iteration 14, current learner extra_tree\n",
      "[flaml.automl.logger: 04-06 14:15:31] {2526} INFO -  at 6.0s,\testimator extra_tree's best error=0.1704,\tbest estimator extra_tree's best error=0.1704\n",
      "[flaml.automl.logger: 04-06 14:15:31] {2341} INFO - iteration 15, current learner extra_tree\n",
      "[flaml.automl.logger: 04-06 14:15:31] {2526} INFO -  at 6.2s,\testimator extra_tree's best error=0.1561,\tbest estimator extra_tree's best error=0.1561\n",
      "[flaml.automl.logger: 04-06 14:15:31] {2341} INFO - iteration 16, current learner lgbm\n",
      "[flaml.automl.logger: 04-06 14:15:32] {2526} INFO -  at 7.3s,\testimator lgbm's best error=0.1918,\tbest estimator extra_tree's best error=0.1561\n",
      "[flaml.automl.logger: 04-06 14:15:32] {2341} INFO - iteration 17, current learner extra_tree\n",
      "[flaml.automl.logger: 04-06 14:15:33] {2526} INFO -  at 7.5s,\testimator extra_tree's best error=0.1561,\tbest estimator extra_tree's best error=0.1561\n",
      "[flaml.automl.logger: 04-06 14:15:33] {2341} INFO - iteration 18, current learner extra_tree\n",
      "[flaml.automl.logger: 04-06 14:15:33] {2526} INFO -  at 7.6s,\testimator extra_tree's best error=0.1561,\tbest estimator extra_tree's best error=0.1561\n",
      "[flaml.automl.logger: 04-06 14:15:33] {2341} INFO - iteration 19, current learner extra_tree\n",
      "[flaml.automl.logger: 04-06 14:15:33] {2526} INFO -  at 8.0s,\testimator extra_tree's best error=0.1528,\tbest estimator extra_tree's best error=0.1528\n",
      "[flaml.automl.logger: 04-06 14:15:33] {2341} INFO - iteration 20, current learner lgbm\n",
      "[flaml.automl.logger: 04-06 14:15:35] {2526} INFO -  at 10.3s,\testimator lgbm's best error=0.1431,\tbest estimator lgbm's best error=0.1431\n",
      "[flaml.automl.logger: 04-06 14:15:35] {2341} INFO - iteration 21, current learner rf\n",
      "[flaml.automl.logger: 04-06 14:15:35] {2526} INFO -  at 10.4s,\testimator rf's best error=0.3695,\tbest estimator lgbm's best error=0.1431\n",
      "[flaml.automl.logger: 04-06 14:15:35] {2341} INFO - iteration 22, current learner rf\n",
      "[flaml.automl.logger: 04-06 14:15:36] {2526} INFO -  at 10.6s,\testimator rf's best error=0.2646,\tbest estimator lgbm's best error=0.1431\n",
      "[flaml.automl.logger: 04-06 14:15:36] {2341} INFO - iteration 23, current learner rf\n",
      "[flaml.automl.logger: 04-06 14:15:36] {2526} INFO -  at 10.7s,\testimator rf's best error=0.2646,\tbest estimator lgbm's best error=0.1431\n",
      "[flaml.automl.logger: 04-06 14:15:36] {2341} INFO - iteration 24, current learner extra_tree\n",
      "[flaml.automl.logger: 04-06 14:15:36] {2526} INFO -  at 10.9s,\testimator extra_tree's best error=0.1528,\tbest estimator lgbm's best error=0.1431\n",
      "[flaml.automl.logger: 04-06 14:15:36] {2341} INFO - iteration 25, current learner rf\n",
      "[flaml.automl.logger: 04-06 14:15:36] {2526} INFO -  at 11.1s,\testimator rf's best error=0.2100,\tbest estimator lgbm's best error=0.1431\n",
      "[flaml.automl.logger: 04-06 14:15:36] {2341} INFO - iteration 26, current learner rf\n",
      "[flaml.automl.logger: 04-06 14:15:36] {2526} INFO -  at 11.3s,\testimator rf's best error=0.1745,\tbest estimator lgbm's best error=0.1431\n",
      "[flaml.automl.logger: 04-06 14:15:36] {2341} INFO - iteration 27, current learner rf\n",
      "[flaml.automl.logger: 04-06 14:15:37] {2526} INFO -  at 11.5s,\testimator rf's best error=0.1745,\tbest estimator lgbm's best error=0.1431\n",
      "[flaml.automl.logger: 04-06 14:15:37] {2341} INFO - iteration 28, current learner extra_tree\n",
      "[flaml.automl.logger: 04-06 14:15:37] {2526} INFO -  at 12.2s,\testimator extra_tree's best error=0.1414,\tbest estimator extra_tree's best error=0.1414\n",
      "[flaml.automl.logger: 04-06 14:15:37] {2341} INFO - iteration 29, current learner rf\n",
      "[flaml.automl.logger: 04-06 14:15:37] {2526} INFO -  at 12.4s,\testimator rf's best error=0.1646,\tbest estimator extra_tree's best error=0.1414\n",
      "[flaml.automl.logger: 04-06 14:15:37] {2341} INFO - iteration 30, current learner lgbm\n",
      "[flaml.automl.logger: 04-06 14:15:38] {2526} INFO -  at 13.3s,\testimator lgbm's best error=0.1431,\tbest estimator extra_tree's best error=0.1414\n",
      "[flaml.automl.logger: 04-06 14:15:38] {2341} INFO - iteration 31, current learner rf\n",
      "[flaml.automl.logger: 04-06 14:15:39] {2526} INFO -  at 13.7s,\testimator rf's best error=0.1646,\tbest estimator extra_tree's best error=0.1414\n",
      "[flaml.automl.logger: 04-06 14:15:39] {2341} INFO - iteration 32, current learner extra_tree\n",
      "[flaml.automl.logger: 04-06 14:15:39] {2526} INFO -  at 14.0s,\testimator extra_tree's best error=0.1414,\tbest estimator extra_tree's best error=0.1414\n"
     ]
    },
    {
     "name": "stdout",
     "output_type": "stream",
     "text": [
      "[flaml.automl.logger: 04-06 14:15:39] {2341} INFO - iteration 33, current learner lgbm\n",
      "[flaml.automl.logger: 04-06 14:15:46] {2526} INFO -  at 20.8s,\testimator lgbm's best error=0.1117,\tbest estimator lgbm's best error=0.1117\n",
      "[flaml.automl.logger: 04-06 14:15:46] {2341} INFO - iteration 34, current learner rf\n",
      "[flaml.automl.logger: 04-06 14:15:46] {2526} INFO -  at 21.2s,\testimator rf's best error=0.1480,\tbest estimator lgbm's best error=0.1117\n",
      "[flaml.automl.logger: 04-06 14:15:46] {2341} INFO - iteration 35, current learner extra_tree\n",
      "[flaml.automl.logger: 04-06 14:15:47] {2526} INFO -  at 22.1s,\testimator extra_tree's best error=0.1335,\tbest estimator lgbm's best error=0.1117\n",
      "[flaml.automl.logger: 04-06 14:15:47] {2341} INFO - iteration 36, current learner rf\n",
      "[flaml.automl.logger: 04-06 14:15:48] {2526} INFO -  at 22.9s,\testimator rf's best error=0.1480,\tbest estimator lgbm's best error=0.1117\n",
      "[flaml.automl.logger: 04-06 14:15:48] {2341} INFO - iteration 37, current learner extra_tree\n",
      "[flaml.automl.logger: 04-06 14:15:49] {2526} INFO -  at 23.5s,\testimator extra_tree's best error=0.1335,\tbest estimator lgbm's best error=0.1117\n",
      "[flaml.automl.logger: 04-06 14:15:49] {2341} INFO - iteration 38, current learner lgbm\n",
      "[flaml.automl.logger: 04-06 14:15:59] {2526} INFO -  at 34.2s,\testimator lgbm's best error=0.1117,\tbest estimator lgbm's best error=0.1117\n",
      "[flaml.automl.logger: 04-06 14:15:59] {2341} INFO - iteration 39, current learner rf\n",
      "[flaml.automl.logger: 04-06 14:16:00] {2526} INFO -  at 35.0s,\testimator rf's best error=0.1480,\tbest estimator lgbm's best error=0.1117\n",
      "[flaml.automl.logger: 04-06 14:16:00] {2341} INFO - iteration 40, current learner extra_tree\n",
      "[flaml.automl.logger: 04-06 14:16:02] {2526} INFO -  at 37.4s,\testimator extra_tree's best error=0.1334,\tbest estimator lgbm's best error=0.1117\n",
      "[flaml.automl.logger: 04-06 14:16:02] {2341} INFO - iteration 41, current learner lgbm\n",
      "[flaml.automl.logger: 04-06 14:16:08] {2526} INFO -  at 42.7s,\testimator lgbm's best error=0.1117,\tbest estimator lgbm's best error=0.1117\n",
      "[flaml.automl.logger: 04-06 14:16:08] {2341} INFO - iteration 42, current learner rf\n",
      "[flaml.automl.logger: 04-06 14:16:08] {2526} INFO -  at 43.4s,\testimator rf's best error=0.1395,\tbest estimator lgbm's best error=0.1117\n",
      "[flaml.automl.logger: 04-06 14:16:08] {2341} INFO - iteration 43, current learner rf\n",
      "[flaml.automl.logger: 04-06 14:16:09] {2526} INFO -  at 43.7s,\testimator rf's best error=0.1395,\tbest estimator lgbm's best error=0.1117\n",
      "[flaml.automl.logger: 04-06 14:16:09] {2341} INFO - iteration 44, current learner rf\n",
      "[flaml.automl.logger: 04-06 14:16:10] {2526} INFO -  at 44.7s,\testimator rf's best error=0.1346,\tbest estimator lgbm's best error=0.1117\n",
      "[flaml.automl.logger: 04-06 14:16:10] {2341} INFO - iteration 45, current learner lgbm\n",
      "[flaml.automl.logger: 04-06 14:16:11] {2526} INFO -  at 45.8s,\testimator lgbm's best error=0.1117,\tbest estimator lgbm's best error=0.1117\n",
      "[flaml.automl.logger: 04-06 14:16:11] {2341} INFO - iteration 46, current learner rf\n",
      "[flaml.automl.logger: 04-06 14:16:12] {2526} INFO -  at 47.0s,\testimator rf's best error=0.1346,\tbest estimator lgbm's best error=0.1117\n",
      "[flaml.automl.logger: 04-06 14:16:12] {2341} INFO - iteration 47, current learner lgbm\n",
      "[flaml.automl.logger: 04-06 14:16:15] {2526} INFO -  at 50.3s,\testimator lgbm's best error=0.1117,\tbest estimator lgbm's best error=0.1117\n",
      "[flaml.automl.logger: 04-06 14:16:15] {2341} INFO - iteration 48, current learner lgbm\n",
      "[flaml.automl.logger: 04-06 14:16:16] {2526} INFO -  at 50.7s,\testimator lgbm's best error=0.1117,\tbest estimator lgbm's best error=0.1117\n",
      "[flaml.automl.logger: 04-06 14:16:16] {2341} INFO - iteration 49, current learner rf\n",
      "[flaml.automl.logger: 04-06 14:16:18] {2526} INFO -  at 52.6s,\testimator rf's best error=0.1313,\tbest estimator lgbm's best error=0.1117\n",
      "[flaml.automl.logger: 04-06 14:16:18] {2341} INFO - iteration 50, current learner lgbm\n",
      "[flaml.automl.logger: 04-06 14:16:22] {2526} INFO -  at 56.8s,\testimator lgbm's best error=0.1117,\tbest estimator lgbm's best error=0.1117\n",
      "[flaml.automl.logger: 04-06 14:16:22] {2341} INFO - iteration 51, current learner lgbm\n",
      "[flaml.automl.logger: 04-06 14:16:37] {2526} INFO -  at 71.9s,\testimator lgbm's best error=0.1117,\tbest estimator lgbm's best error=0.1117\n",
      "[flaml.automl.logger: 04-06 14:16:37] {2341} INFO - iteration 52, current learner lgbm\n",
      "[flaml.automl.logger: 04-06 14:16:41] {2526} INFO -  at 75.6s,\testimator lgbm's best error=0.1117,\tbest estimator lgbm's best error=0.1117\n",
      "[flaml.automl.logger: 04-06 14:16:41] {2341} INFO - iteration 53, current learner lgbm\n",
      "[flaml.automl.logger: 04-06 14:16:44] {2526} INFO -  at 79.0s,\testimator lgbm's best error=0.1117,\tbest estimator lgbm's best error=0.1117\n",
      "[flaml.automl.logger: 04-06 14:16:44] {2341} INFO - iteration 54, current learner rf\n",
      "[flaml.automl.logger: 04-06 14:16:45] {2526} INFO -  at 80.2s,\testimator rf's best error=0.1313,\tbest estimator lgbm's best error=0.1117\n",
      "[flaml.automl.logger: 04-06 14:16:45] {2341} INFO - iteration 55, current learner lgbm\n",
      "[flaml.automl.logger: 04-06 14:17:01] {2526} INFO -  at 96.4s,\testimator lgbm's best error=0.1117,\tbest estimator lgbm's best error=0.1117\n",
      "[flaml.automl.logger: 04-06 14:17:01] {2341} INFO - iteration 56, current learner rf\n",
      "[flaml.automl.logger: 04-06 14:17:02] {2526} INFO -  at 97.3s,\testimator rf's best error=0.1313,\tbest estimator lgbm's best error=0.1117\n",
      "[flaml.automl.logger: 04-06 14:17:02] {2341} INFO - iteration 57, current learner rf\n",
      "[flaml.automl.logger: 04-06 14:17:05] {2526} INFO -  at 100.3s,\testimator rf's best error=0.1297,\tbest estimator lgbm's best error=0.1117\n",
      "[flaml.automl.logger: 04-06 14:17:08] {2790} INFO - retrain lgbm for 2.2s\n",
      "[flaml.automl.logger: 04-06 14:17:08] {2797} INFO - retrained model: LGBMRegressor(colsample_bytree=0.763007791741338,\n",
      "              learning_rate=0.16645809713264254, max_bin=1023,\n",
      "              min_child_samples=6, n_estimators=42, num_leaves=11,\n",
      "              reg_alpha=0.0009765625, reg_lambda=0.10626868868028042,\n",
      "              verbose=-1)\n",
      "[flaml.automl.logger: 04-06 14:17:08] {2041} INFO - fit succeeded\n",
      "[flaml.automl.logger: 04-06 14:17:08] {2042} INFO - Time taken to find the best model: 20.77975606918335\n",
      "lgbm\n",
      "{'n_estimators': 42, 'num_leaves': 11, 'min_child_samples': 6, 'learning_rate': 0.16645809713264254, 'log_max_bin': 10, 'colsample_bytree': 0.763007791741338, 'reg_alpha': 0.0009765625, 'reg_lambda': 0.10626868868028042}\n",
      "{'lgbm': {'n_estimators': 42, 'num_leaves': 11, 'min_child_samples': 6, 'learning_rate': 0.16645809713264254, 'log_max_bin': 10, 'colsample_bytree': 0.763007791741338, 'reg_alpha': 0.0009765625, 'reg_lambda': 0.10626868868028042}, 'rf': {'n_estimators': 210, 'max_features': 0.4621065185993496, 'max_leaves': 477}, 'extra_tree': {'n_estimators': 254, 'max_features': 0.5097299122960709, 'max_leaves': 205}}\n"
     ]
    }
   ],
   "source": [
    "from sklearn.model_selection import train_test_split\n",
    "import pandas as pd\n",
    "import numpy as np\n",
    "\n",
    "train = pd.read_csv('../data/train.csv', sep=\",\")\n",
    "test = pd.read_csv('../data/test.csv')\n",
    "\n",
    "import sklearn\n",
    "y = train['SalePrice']\n",
    "X = train.drop('SalePrice', axis=1)\n",
    "y = np.log1p(y)\n",
    "X_train, X_test, y_train, y_test = \\\n",
    "    train_test_split(X, y, random_state=42, test_size=0.2)\n",
    "\n",
    "from flaml import AutoML\n",
    "from flaml.default import LGBMRegressor\n",
    "automl = AutoML()\n",
    "# X_train, X_test, y_train, y_test\n",
    "automl.fit(X_train, y_train, task=\"regression\", estimator_list=[\"lgbm\", \"rf\", \"extra_tree\"],\n",
    "           train_time_limit=60,\n",
    "           time_budget=100,\n",
    "           n_jobs=-1,\n",
    "          ## ensemble=dict(final_estimator= LGBMRegressor(),\n",
    "          ## passthrough = True), \n",
    "           log_file_name='flaml_.log', log_type='all')\n",
    "\n",
    "print(automl.best_estimator)\n",
    "\n",
    "print(automl.best_config)\n",
    "\n",
    "print(automl.best_config_per_estimator)"
   ]
  },
  {
   "cell_type": "code",
   "execution_count": 2,
   "id": "94986e63",
   "metadata": {},
   "outputs": [
    {
     "name": "stdout",
     "output_type": "stream",
     "text": [
      "Requirement already satisfied: matplotlib in /home/martin/miniconda3/envs/flaml/lib/python3.9/site-packages (3.7.1)\n",
      "Requirement already satisfied: pillow>=6.2.0 in /home/martin/miniconda3/envs/flaml/lib/python3.9/site-packages (from matplotlib) (9.5.0)\n",
      "Requirement already satisfied: packaging>=20.0 in /home/martin/miniconda3/envs/flaml/lib/python3.9/site-packages (from matplotlib) (23.0)\n",
      "Requirement already satisfied: pyparsing>=2.3.1 in /home/martin/miniconda3/envs/flaml/lib/python3.9/site-packages (from matplotlib) (3.0.9)\n",
      "Requirement already satisfied: cycler>=0.10 in /home/martin/miniconda3/envs/flaml/lib/python3.9/site-packages (from matplotlib) (0.11.0)\n",
      "Requirement already satisfied: contourpy>=1.0.1 in /home/martin/miniconda3/envs/flaml/lib/python3.9/site-packages (from matplotlib) (1.0.7)\n",
      "Requirement already satisfied: importlib-resources>=3.2.0 in /home/martin/miniconda3/envs/flaml/lib/python3.9/site-packages (from matplotlib) (5.12.0)\n",
      "Requirement already satisfied: fonttools>=4.22.0 in /home/martin/miniconda3/envs/flaml/lib/python3.9/site-packages (from matplotlib) (4.39.3)\n",
      "Requirement already satisfied: kiwisolver>=1.0.1 in /home/martin/miniconda3/envs/flaml/lib/python3.9/site-packages (from matplotlib) (1.4.4)\n",
      "Requirement already satisfied: numpy>=1.20 in /home/martin/miniconda3/envs/flaml/lib/python3.9/site-packages (from matplotlib) (1.24.2)\n",
      "Requirement already satisfied: python-dateutil>=2.7 in /home/martin/miniconda3/envs/flaml/lib/python3.9/site-packages (from matplotlib) (2.8.2)\n",
      "Requirement already satisfied: zipp>=3.1.0 in /home/martin/miniconda3/envs/flaml/lib/python3.9/site-packages (from importlib-resources>=3.2.0->matplotlib) (3.11.0)\n",
      "Requirement already satisfied: six>=1.5 in /home/martin/miniconda3/envs/flaml/lib/python3.9/site-packages (from python-dateutil>=2.7->matplotlib) (1.16.0)\n"
     ]
    },
    {
     "data": {
      "image/png": "[encoded data removed]",
      "text/plain": [
       "<Figure size 640x480 with 1 Axes>"
      ]
     },
     "metadata": {},
     "output_type": "display_data"
    },
    {
     "data": {
      "text/plain": [
       "0.13636149524087587"
      ]
     },
     "execution_count": 2,
     "metadata": {},
     "output_type": "execute_result"
    }
   ],
   "source": [
    "from flaml.data import get_output_from_log\n",
    "\n",
    "time_history, best_valid_loss_history, valid_loss_history, config_history, metric_history = \\\n",
    "    get_output_from_log(filename='flaml_.log', time_budget=120)\n",
    "\n",
    "\n",
    "!pip install matplotlib\n",
    "\n",
    "import matplotlib.pyplot as plt\n",
    "import numpy as np\n",
    "\n",
    "plt.title(\"Learning Curve\")\n",
    "plt.xlabel(\"Wall Clock Time (s)\")\n",
    "plt.ylabel(\"Validation Accuracy\")\n",
    "plt.step(time_history, 1 - np.array(best_valid_loss_history), where=\"post\")\n",
    "plt.show()\n",
    "\n",
    "prediction = automl.predict(X_test)\n",
    "\n",
    "np.sqrt(np.mean((prediction - y_test)**2))"
   ]
  },
  {
   "cell_type": "code",
   "execution_count": 3,
   "id": "29a23a27",
   "metadata": {},
   "outputs": [
    {
     "name": "stdout",
     "output_type": "stream",
     "text": [
      "lgbm\n"
     ]
    }
   ],
   "source": [
    "print(automl.best_estimator)"
   ]
  }
 ],
 "metadata": {
  "kernelspec": {
   "display_name": "Python [conda env:flaml]",
   "language": "python",
   "name": "conda-env-flaml-py"
  },
  "language_info": {
   "codemirror_mode": {
    "name": "ipython",
    "version": 3
   },
   "file_extension": ".py",
   "mimetype": "text/x-python",
   "name": "python",
   "nbconvert_exporter": "python",
   "pygments_lexer": "ipython3",
   "version": "3.9.16"
  }
 },
 "nbformat": 4,
 "nbformat_minor": 5
}
