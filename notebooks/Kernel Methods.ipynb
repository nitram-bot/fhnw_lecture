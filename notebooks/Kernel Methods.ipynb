{
 "cells": [
  {
   "cell_type": "markdown",
   "metadata": {},
   "source": [
    "### maximum margin classification"
   ]
  },
  {
   "cell_type": "code",
   "execution_count": null,
   "metadata": {},
   "outputs": [],
   "source": [
    "import numpy as np\n",
    "import matplotlib.pyplot as plt"
   ]
  },
  {
   "cell_type": "code",
   "execution_count": null,
   "metadata": {},
   "outputs": [
    {
     "name": "stdout",
     "output_type": "stream",
     "text": [
      "[0. 0. 0. 0. 0. 0. 0. 0. 0. 0. 0. 0. 0. 0. 0. 0. 0. 0. 0. 0. 0. 0. 0. 0.\n",
      " 0. 0. 0. 0. 0. 0. 0. 0. 0. 0. 0. 0. 0. 0. 0. 0. 0. 0. 0. 0. 0. 0. 0. 0.\n",
      " 0. 0. 0. 0. 0. 0. 0. 0. 0. 0. 0. 0. 0. 0. 0. 0. 0. 0. 0. 0. 0. 0. 0. 0.\n",
      " 0. 0. 0. 0. 0. 0. 0. 0. 0. 0. 0. 0. 0. 0. 0. 0. 0. 0. 0. 0. 0. 0. 0. 0.\n",
      " 0. 0. 0. 0.]\n"
     ]
    },
    {
     "data": {
      "image/png": "[encoded data removed]",
      "text/plain": [
       "<Figure size 432x288 with 1 Axes>"
      ]
     },
     "metadata": {
      "needs_background": "light"
     },
     "output_type": "display_data"
    }
   ],
   "source": [
    "# seperating line\n",
    "b = 10\n",
    "w1 = -1.5\n",
    "w2 = -1\n",
    "# as vector and the normal to the separating line\n",
    "w = np.array([w1, w2])\n",
    "w_norm = w/np.sqrt(np.dot(w, w))\n",
    "this_is_the_lenth = np.dot(w_norm, w_norm)\n",
    "# class 1\n",
    "cl1 = np.array([np.random.normal(loc=1.5, scale=1.1, size=5), \n",
    "          np.random.normal(loc=0, scale = 1.2, size = 5)]).T\n",
    "# support vectors class 1:\n",
    "cl1_s = np.array([np.array([5, 7]), (b+4) + w1 * np.array([5, 7])]).T\n",
    "\n",
    "\n",
    "# class 2\n",
    "cl2 = np.array([np.random.normal(loc=11, scale=2., size=7),\n",
    "                np.random.normal(loc=4, scale=0.6, size=7)]).T \n",
    "# support vectors class 2:\n",
    "cl2_s = np.array([np.array([3, 5]), (b-4) + w1 * np.array([3, 5])]).T\n",
    "\n",
    "fig = plt.figure() \n",
    "ax = plt.axes()\n",
    "plt.xlim(-3, 15)\n",
    "plt.ylim(-5, 10)\n",
    "plt.gca().set_aspect('equal', adjustable='box')\n",
    "x = np.linspace(-5, 15, 100)\n",
    "y = b + w1 * x\n",
    "ax.plot(x, b + w1 * x)\n",
    "ax.plot(x, (b-4) + w1 * x, color='red')\n",
    "ax.plot(x, (b+4) + w1 * x, color='red')\n",
    "ax.scatter(cl1[:, 0], cl1[:, 1], color='blue', alpha=0.5)\n",
    "ax.scatter(cl2[:, 0], cl2[:, 1], color='red', alpha=0.5)\n",
    "ax.scatter(cl1_s[:, 0], cl1_s[:, 1], color='black', alpha=0.7)\n",
    "ax.scatter(cl2_s[:, 0], cl2_s[:, 1], color='blue', alpha=0.6)\n",
    "#ax.scatter(7, b + w[0] * 7, color='black')\n",
    "ax.scatter(41/13, b + w1 *(41/13), color = 'black')\n",
    "ax.plot([41/13, cl1_s[0,0]],[b + w1 * (41/13), cl1_s[0,1]], color='black')\n",
    "plt.annotate(text='d',xy=(45/13, 6.5))\n",
    "\n",
    "plt.arrow(-2.5, -2.5, w[0] * -2, w[1] * -2, head_width=0.5)\n",
    "plt.annotate(text='w', xy=(-1,-0.5))\n",
    "# plt.scatter(x, y, color='red', alpha = 0.45)\n",
    "print(f'{b + w1 * x + w2 * y}')"
   ]
  },
  {
   "cell_type": "markdown",
   "metadata": {},
   "source": [
    "Im 2-dimensionalen Raum haben wir die Variablen x, y. Alle Punkte auf einer Geraden (separating plane) bekommt man: $$ a + b\\cdot x = c\\cdot y$$. Trivialerweise ist $$c=1$$ meist gültig. Umgekehrt kann man die Gerade auch als die Menge aller Punkte definieren, die folgender Bedingung genügen:<br>\n",
    "$$ a + b\\cdot x + c\\cdot y = 0$$; im trivialen Fall wäre $$c=-1$$\n",
    "\n",
    "Für alle Punkte unterhalb der Gerade gilt\n",
    "$$ a + b\\cdot x + c\\cdot y < 0$$\n",
    "und für alle Punkte oberhalb der Geraden gilt\n",
    "$$ a + b\\cdot x + c\\cdot y > 0$$\n",
    "\n",
    "Für die Klassification gilt, dass die Klassen immer mit $-1$ und $1$ benannt werden. Ein neuer Punkt $(x, y)$ wird klassifiziert:\n",
    "$$\\hat{\\text{pred}} = \\text{sign}(a + b\\cdot x + c\\cdot y)$$\n",
    "\n",
    "### Aenderung der Schreibweise:\n",
    "Weil wir kein Regressionsproblem haben, sondern ein Klassifikationsproblem, benennen wir im obigen Beispiel die Koeffizienten und die Variablen um:\n",
    "$$\\hat{\\text{pred}} = \\text{sign}(b + \\omega_1\\cdot x_i + \\omega_2\\cdot x_2)$$\n",
    "und in Vektorschreibweise:\n",
    "$$\\hat{\\text{pred}} = \\text{sign}(b + \\mathbf{\\omega}\\mathbf{x})$$\n",
    "\n",
    "Es kann gezeigt werden, dass der Vektor $\\mathbf{\\omega}$ senkrecht auf die Trennungs-Ebene (in der Graphik oben die mittlere Gerade) steht. Dies habe ich als Pfeil eingezeichnet.\n",
    "\n",
    "Nun soll eine Ebene gefunden werden, deren margin maximal ist; als margin wird der Abstand zu den nähesten data-Punkten. Die Datenpunkte, die auf den margins zu liegen kommen heissen support vectors. Die Enfernung dieser Punkte von der Trennlinie kann anegeben werden:\n",
    "$$ d= y_i(\\mathbf{\\omega}\\mathbf{x}_i + b)/|\\mathbf{\\omega}|$$\n",
    "$y_i$ ändert das Vorzeichen, so dass die Distanz immer positiv ist, $|\\mathbf{\\omega}|$ ist die Länge des Vektors $\\mathbf{\\omega}$. Sie dient zur normierung. Weil alle Punkte auf dem margin dieselbe Distanz zur Trennlinie haben und weil der margin symmetrisch ist muss\n",
    "$$p=2/|\\mathbf{\\omega}|$$ maximiert werden, um den margin möglichst gross zu machen. Damit haben wir die formulierung unseres minimal-margin classifiers:<br>\n",
    "Finde $\\mathbf{\\omega}$ und $b$ so, dass:\n",
    "* $\\frac{1}{2}\\omega^{T}\\omega$ minimiert wird, für alle\n",
    "* $(\\mathbf{x}_i, y_i), y_i(\\mathbf{\\omega}\\mathbf{x}_i + b) \\geq 1$\n",
    "\n",
    "Will man das lösen, ergibt sich ein quadratische Optimierungsproblem, welches mit Lagrange Multiplikatoren gelöst werden kann.\n",
    "\n",
    "Die characteristische Gleichung ergibt sich zu:\n",
    "* $\\text{max}_{\\alpha}\\sum_i\\alpha_i - \\frac{1}{2}\\alpha_i\\alpha_j y_i y_j, \\mathbf{x}_i^{T} \\cdot \\mathbf{x}_j$\n",
    "* mit: $\\sum_i\\alpha_i y_i = 0$\n",
    "\n",
    "Für das Verständnis der nachfolgenden Erklärungen zu kernels, ist der Ausdruck $\\mathbf{x}_i^{T} \\cdot \\mathbf{x}_j$ entscheidend. Hierbei wird das Skalarprodukt eines jeden Daten-Punktes mit jedem anderen Daten-Punkt berechnet. Für normierte Vektoren $\\mathbf{x}_i$ ist das Skalarprodukt ein Ähnlichkeitsmass (cosine-similarity, correlation-coefficient).\n"
   ]
  },
  {
   "cell_type": "code",
   "execution_count": null,
   "metadata": {},
   "outputs": [],
   "source": [
    "cl1_x = np.random.normal(loc=6, scale=0.5, size=5)\n",
    "cl1_y = np.random.normal(loc=11, scale = 0.5, size = 5)"
   ]
  },
  {
   "cell_type": "code",
   "execution_count": null,
   "metadata": {},
   "outputs": [],
   "source": []
  },
  {
   "cell_type": "code",
   "execution_count": null,
   "metadata": {},
   "outputs": [],
   "source": []
  },
  {
   "cell_type": "code",
   "execution_count": null,
   "metadata": {},
   "outputs": [],
   "source": []
  },
  {
   "cell_type": "code",
   "execution_count": null,
   "metadata": {},
   "outputs": [],
   "source": []
  },
  {
   "cell_type": "code",
   "execution_count": null,
   "metadata": {},
   "outputs": [],
   "source": []
  },
  {
   "cell_type": "code",
   "execution_count": null,
   "metadata": {},
   "outputs": [],
   "source": [
    "from sklearn.datasets import make_circles\n",
    "import matplotlib.pyplot as plt\n",
    "import numpy as np"
   ]
  },
  {
   "cell_type": "code",
   "execution_count": null,
   "metadata": {},
   "outputs": [],
   "source": [
    "x, y = make_circles(n_samples = (70, 30), random_state=42, factor=0.8)"
   ]
  },
  {
   "cell_type": "code",
   "execution_count": null,
   "metadata": {},
   "outputs": [
    {
     "data": {
      "text/plain": [
       "Text(0, 0.5, '2nd dimension')"
      ]
     },
     "execution_count": null,
     "metadata": {},
     "output_type": "execute_result"
    },
    {
     "data": {
      "image/png": "[encoded data removed]",
      "text/plain": [
       "<Figure size 576x432 with 1 Axes>"
      ]
     },
     "metadata": {
      "needs_background": "light"
     },
     "output_type": "display_data"
    }
   ],
   "source": [
    "plt.figure(figsize = (8,6))\n",
    "plt.scatter(x[y==1, 0], x[y==1, 1], color='red', alpha = 0.45)\n",
    "plt.scatter(x[y==0, 0], x[y==0, 1], color='blue', alpha = 0.45)\n",
    "plt.title('inseparable datasets')\n",
    "plt.xlabel('1st dimension')\n",
    "plt.ylabel('2nd dimension')"
   ]
  },
  {
   "cell_type": "code",
   "execution_count": null,
   "metadata": {},
   "outputs": [
    {
     "data": {
      "text/plain": [
       "numpy.ndarray"
      ]
     },
     "execution_count": null,
     "metadata": {},
     "output_type": "execute_result"
    }
   ],
   "source": [
    "type(x)"
   ]
  },
  {
   "cell_type": "code",
   "execution_count": null,
   "metadata": {},
   "outputs": [
    {
     "data": {
      "text/plain": [
       "(100, 3)"
      ]
     },
     "execution_count": null,
     "metadata": {},
     "output_type": "execute_result"
    }
   ],
   "source": [
    "x3 = np.sqrt(2) * x[:, 0] * x[:, 1]\n",
    "x3 = x3.reshape((-1, 1))\n",
    "mapped_x = np.concatenate((x ** 2, x3), axis=1)\n",
    "mapped_x.shape"
   ]
  },
  {
   "cell_type": "code",
   "execution_count": null,
   "metadata": {},
   "outputs": [
    {
     "data": {
      "text/plain": [
       "Text(0.5, 0, '3rd dimension')"
      ]
     },
     "execution_count": null,
     "metadata": {},
     "output_type": "execute_result"
    },
    {
     "data": {
      "image/png": "[encoded data removed]",
      "text/plain": [
       "<Figure size 576x432 with 1 Axes>"
      ]
     },
     "metadata": {
      "needs_background": "light"
     },
     "output_type": "display_data"
    }
   ],
   "source": [
    "fig = plt.figure(figsize = (8,6))\n",
    "ax = fig.add_subplot(111, projection='3d')\n",
    "ax.scatter(mapped_x[y==1, 0], mapped_x[y==1, 1], mapped_x[y==1, 2], color='red', alpha = 0.45)\n",
    "ax.scatter(mapped_x[y==0, 0], mapped_x[y==0, 1], mapped_x[y==0, 2], color='blue', alpha = 0.45)\n",
    "#plt.title('inseparable datasets')\n",
    "ax.set_xlabel('1st dimension')\n",
    "ax.set_ylabel('2nd dimension')\n",
    "ax.set_zlabel('3rd dimension')"
   ]
  },
  {
   "cell_type": "code",
   "execution_count": null,
   "metadata": {},
   "outputs": [
    {
     "name": "stderr",
     "output_type": "stream",
     "text": [
      "/home/martin/miniconda3/lib/python3.6/site-packages/ipykernel_launcher.py:7: DeprecationWarning: scipy.exp is deprecated and will be removed in SciPy 2.0.0, use numpy.exp instead\n",
      "  import sys\n"
     ]
    }
   ],
   "source": [
    "# not 100 % correct though\n",
    "# https://stats.stackexchange.com/questions/63881/use-gaussian-rbf-kernel-for-mapping-of-2d-data-to-3d\n",
    "\n",
    "from scipy.spatial.distance import pdist, squareform\n",
    "from scipy import exp\n",
    "pairwise_d = squareform(pdist(x, 'euclidean'))\n",
    "K = exp(-pairwise_d **2 / (2 ** 2))\n",
    "new_dim = np.sum(K, axis=1)"
   ]
  },
  {
   "cell_type": "code",
   "execution_count": null,
   "metadata": {},
   "outputs": [
    {
     "data": {
      "text/plain": [
       "Text(0.5, 0, '3rd dimension')"
      ]
     },
     "execution_count": null,
     "metadata": {},
     "output_type": "execute_result"
    },
    {
     "data": {
      "image/png": "[encoded data removed]",
      "text/plain": [
       "<Figure size 576x432 with 1 Axes>"
      ]
     },
     "metadata": {
      "needs_background": "light"
     },
     "output_type": "display_data"
    }
   ],
   "source": [
    "fig = plt.figure(figsize = (8,6))\n",
    "ax = fig.add_subplot(111, projection='3d')\n",
    "ax.scatter(x[y==1, 0], x[y==1, 1], new_dim[y==1], color='red', alpha = 0.45)\n",
    "ax.scatter(x[y==0, 0], x[y==0, 1], new_dim[y==0], color='blue', alpha = 0.45)\n",
    "#plt.title('inseparable datasets')\n",
    "ax.set_xlabel('1st dimension')\n",
    "ax.set_ylabel('2nd dimension')\n",
    "ax.set_zlabel('3rd dimension')"
   ]
  },
  {
   "cell_type": "markdown",
   "metadata": {},
   "source": [
    "Wir erinnern die charakteristische Formel des maximal-margin classifiers:\n",
    "* $\\text{max}_{\\alpha}\\sum_i\\alpha_i - \\frac{1}{2}\\alpha_i\\alpha_j y_i y_j, \\mathbf{x}_i^{T} \\cdot \\mathbf{x}_j$\n",
    "* mit: $\\sum_i\\alpha_i y_i = 0$\n",
    "\n",
    "Anstatt mit den urspr. Daten-Punkten $\\mathbf{x}_i$ und $\\mathbf{x}_j$ muss diese Gleichung jetzt für die Projektionen der Daten vorgenommen werden:\n",
    "\n",
    "\n",
    "### unsere erste Projektion:\n",
    "\n",
    "$\\Phi(\\mathbf{x})\\rightarrow \\mathbf{x}_1^{2}, \\mathbf{x}_2^{2},\\sqrt{2}\\mathbf{x}_1\\mathbf{x}_2$\n",
    "\n",
    "einsetzen in die characteristische Gleichung für 2 Daten-Punkte $\\mathbf{x}_i$ und $\\mathbf{x}_j$:\n",
    "$$\n",
    "\\langle\\Phi(\\mathbf{x}_i),\\Phi(\\mathbf{x}_j)\\rangle = $$\n",
    "$$\\langle[x_{i1}^{2},x_{i2}^{2}, \\sqrt{2}x_{i1}x_{i2}],[x_{j1}^{2},x_{j2}^{2}, \\sqrt{2}x_{j1}x_{j2}]\\rangle =\n",
    "$$\n",
    "$$\n",
    "x_{i1}^{2}x_{j1}^{2} + x_{i2}^{2}x_{j2}^{2} +2 x_{i1}x_{i2}x_{j1}x_{j2}\n",
    "$$\n",
    "\n",
    "Trick: Es gibt eine einfachere Rechenvorschrift, die zum selben Ergebnis kommt. Das ist der Kernel-Trick\n",
    "\n",
    "$$\\langle\\Phi(\\mathbf{x}_i),\\Phi(\\mathbf{x}_j)\\rangle = \\langle\\mathbf{x}_i,\\mathbf{x}_j\\rangle^{2} =$$\n",
    "$$\\langle[x_{i1}, x_{i2}],[x_{j1}, x_{j2}]\\rangle^{2} = $$\n",
    "$$(x_{i1}x_{j1} + x_{i2}x_{j2})^{2} = $$\n",
    "$$x_{i1}^{2}x_{j1}^{2} + x_{i2}^{2}x_{j2}^{2} + 2 x_{i1}x_{i2}x_{j1}x_{j2}$$\n",
    "\n",
    "Unterschied:<br>\n",
    "1.Methode:\n",
    "* Projektion in höher-dimensionalen Raum\n",
    "* Multiplikation in höher-dimensionalen Raum\n",
    "\n",
    "2.Method:\n",
    "* Multiplikation im ausgangs-Raum\n",
    "* Quadratur des Ergebnisses"
   ]
  },
  {
   "cell_type": "markdown",
   "metadata": {},
   "source": [
    "Basically, kernels are similarity measures outside the usual Euclidean space."
   ]
  },
  {
   "cell_type": "code",
   "execution_count": null,
   "metadata": {},
   "outputs": [],
   "source": [
    "\n"
   ]
  },
  {
   "cell_type": "code",
   "execution_count": 1,
   "metadata": {},
   "outputs": [],
   "source": [
    "import requests"
   ]
  },
  {
   "cell_type": "code",
   "execution_count": 40,
   "metadata": {},
   "outputs": [
    {
     "data": {
      "text/plain": [
       "2003153"
      ]
     },
     "execution_count": 40,
     "metadata": {},
     "output_type": "execute_result"
    }
   ],
   "source": [
    "url = 'https://archive.ics.uci.edu/ml/machine-learning-databases/adult/adult.data'\n",
    "r = requests.get(url, allow_redirects=True)\n",
    "open('adult.data', 'wb').write(r.content)\n",
    "\n",
    "url = 'https://archive.ics.uci.edu/ml/machine-learning-databases/adult/adult.test'\n",
    "r = requests.get(url, allow_redirects=True)\n",
    "open('adult.test', 'wb').write(r.content)\n"
   ]
  },
  {
   "cell_type": "code",
   "execution_count": 41,
   "metadata": {},
   "outputs": [],
   "source": [
    "import pandas as pd\n",
    "column_names = ['age', 'workclass', 'fnlwgt', 'education', 'educational-num','marital-status', 'occupation', 'relationship', 'race', 'gender','capital-gain', 'capital-loss', 'hours-per-week', 'native-country','income']\n",
    "\n",
    "train = pd.read_csv('adult.data', sep=\",\\s\", header=None, names = column_names, engine = 'python')\n",
    "test = pd.read_csv('adult.test', sep=\",\\s\", header=None, names = column_names, engine = 'python')\n",
    "\n",
    "# test['income'].replace(regex=True,inplace=True,to_replace=r'\\.',value=r'')"
   ]
  },
  {
   "cell_type": "code",
   "execution_count": 42,
   "metadata": {},
   "outputs": [
    {
     "data": {
      "text/plain": [
       "array(['<=50K', '>50K'], dtype=object)"
      ]
     },
     "metadata": {},
     "output_type": "display_data"
    },
    {
     "data": {
      "text/plain": [
       "array([None, '<=50K.', '>50K.'], dtype=object)"
      ]
     },
     "metadata": {},
     "output_type": "display_data"
    }
   ],
   "source": [
    "display(train.income.unique(), test.income.unique())"
   ]
  },
  {
   "cell_type": "code",
   "execution_count": 43,
   "metadata": {},
   "outputs": [
    {
     "data": {
      "text/html": [
       "<div>\n",
       "<style scoped>\n",
       "    .dataframe tbody tr th:only-of-type {\n",
       "        vertical-align: middle;\n",
       "    }\n",
       "\n",
       "    .dataframe tbody tr th {\n",
       "        vertical-align: top;\n",
       "    }\n",
       "\n",
       "    .dataframe thead th {\n",
       "        text-align: right;\n",
       "    }\n",
       "</style>\n",
       "<table border=\"1\" class=\"dataframe\">\n",
       "  <thead>\n",
       "    <tr style=\"text-align: right;\">\n",
       "      <th></th>\n",
       "      <th>age</th>\n",
       "      <th>workclass</th>\n",
       "      <th>fnlwgt</th>\n",
       "      <th>education</th>\n",
       "      <th>educational-num</th>\n",
       "      <th>marital-status</th>\n",
       "      <th>occupation</th>\n",
       "      <th>relationship</th>\n",
       "      <th>race</th>\n",
       "      <th>gender</th>\n",
       "      <th>capital-gain</th>\n",
       "      <th>capital-loss</th>\n",
       "      <th>hours-per-week</th>\n",
       "      <th>native-country</th>\n",
       "      <th>income</th>\n",
       "    </tr>\n",
       "  </thead>\n",
       "  <tbody>\n",
       "    <tr>\n",
       "      <th>0</th>\n",
       "      <td>|1x3 Cross validator</td>\n",
       "      <td>None</td>\n",
       "      <td>NaN</td>\n",
       "      <td>None</td>\n",
       "      <td>NaN</td>\n",
       "      <td>None</td>\n",
       "      <td>None</td>\n",
       "      <td>None</td>\n",
       "      <td>None</td>\n",
       "      <td>None</td>\n",
       "      <td>NaN</td>\n",
       "      <td>NaN</td>\n",
       "      <td>NaN</td>\n",
       "      <td>None</td>\n",
       "      <td>None</td>\n",
       "    </tr>\n",
       "    <tr>\n",
       "      <th>1</th>\n",
       "      <td>25</td>\n",
       "      <td>Private</td>\n",
       "      <td>226802.0</td>\n",
       "      <td>11th</td>\n",
       "      <td>7.0</td>\n",
       "      <td>Never-married</td>\n",
       "      <td>Machine-op-inspct</td>\n",
       "      <td>Own-child</td>\n",
       "      <td>Black</td>\n",
       "      <td>Male</td>\n",
       "      <td>0.0</td>\n",
       "      <td>0.0</td>\n",
       "      <td>40.0</td>\n",
       "      <td>United-States</td>\n",
       "      <td>&lt;=50K.</td>\n",
       "    </tr>\n",
       "    <tr>\n",
       "      <th>2</th>\n",
       "      <td>38</td>\n",
       "      <td>Private</td>\n",
       "      <td>89814.0</td>\n",
       "      <td>HS-grad</td>\n",
       "      <td>9.0</td>\n",
       "      <td>Married-civ-spouse</td>\n",
       "      <td>Farming-fishing</td>\n",
       "      <td>Husband</td>\n",
       "      <td>White</td>\n",
       "      <td>Male</td>\n",
       "      <td>0.0</td>\n",
       "      <td>0.0</td>\n",
       "      <td>50.0</td>\n",
       "      <td>United-States</td>\n",
       "      <td>&lt;=50K.</td>\n",
       "    </tr>\n",
       "    <tr>\n",
       "      <th>3</th>\n",
       "      <td>28</td>\n",
       "      <td>Local-gov</td>\n",
       "      <td>336951.0</td>\n",
       "      <td>Assoc-acdm</td>\n",
       "      <td>12.0</td>\n",
       "      <td>Married-civ-spouse</td>\n",
       "      <td>Protective-serv</td>\n",
       "      <td>Husband</td>\n",
       "      <td>White</td>\n",
       "      <td>Male</td>\n",
       "      <td>0.0</td>\n",
       "      <td>0.0</td>\n",
       "      <td>40.0</td>\n",
       "      <td>United-States</td>\n",
       "      <td>&gt;50K.</td>\n",
       "    </tr>\n",
       "    <tr>\n",
       "      <th>4</th>\n",
       "      <td>44</td>\n",
       "      <td>Private</td>\n",
       "      <td>160323.0</td>\n",
       "      <td>Some-college</td>\n",
       "      <td>10.0</td>\n",
       "      <td>Married-civ-spouse</td>\n",
       "      <td>Machine-op-inspct</td>\n",
       "      <td>Husband</td>\n",
       "      <td>Black</td>\n",
       "      <td>Male</td>\n",
       "      <td>7688.0</td>\n",
       "      <td>0.0</td>\n",
       "      <td>40.0</td>\n",
       "      <td>United-States</td>\n",
       "      <td>&gt;50K.</td>\n",
       "    </tr>\n",
       "  </tbody>\n",
       "</table>\n",
       "</div>"
      ],
      "text/plain": [
       "                    age  workclass    fnlwgt     education  educational-num  \\\n",
       "0  |1x3 Cross validator       None       NaN          None              NaN   \n",
       "1                    25    Private  226802.0          11th              7.0   \n",
       "2                    38    Private   89814.0       HS-grad              9.0   \n",
       "3                    28  Local-gov  336951.0    Assoc-acdm             12.0   \n",
       "4                    44    Private  160323.0  Some-college             10.0   \n",
       "\n",
       "       marital-status         occupation relationship   race gender  \\\n",
       "0                None               None         None   None   None   \n",
       "1       Never-married  Machine-op-inspct    Own-child  Black   Male   \n",
       "2  Married-civ-spouse    Farming-fishing      Husband  White   Male   \n",
       "3  Married-civ-spouse    Protective-serv      Husband  White   Male   \n",
       "4  Married-civ-spouse  Machine-op-inspct      Husband  Black   Male   \n",
       "\n",
       "   capital-gain  capital-loss  hours-per-week native-country  income  \n",
       "0           NaN           NaN             NaN           None    None  \n",
       "1           0.0           0.0            40.0  United-States  <=50K.  \n",
       "2           0.0           0.0            50.0  United-States  <=50K.  \n",
       "3           0.0           0.0            40.0  United-States   >50K.  \n",
       "4        7688.0           0.0            40.0  United-States   >50K.  "
      ]
     },
     "execution_count": 43,
     "metadata": {},
     "output_type": "execute_result"
    }
   ],
   "source": [
    "test.head()"
   ]
  },
  {
   "cell_type": "code",
   "execution_count": 44,
   "metadata": {},
   "outputs": [],
   "source": [
    "test.drop(axis=0, index=0, inplace=True)"
   ]
  },
  {
   "cell_type": "code",
   "execution_count": 45,
   "metadata": {},
   "outputs": [],
   "source": [
    "test.income = [int(i == '>50K.') for i in test.income]\n",
    "train.income = [int(i == '>50K') for i in train.income]\n",
    "test_label = test.income\n",
    "test =test.drop('income', axis=1)\n",
    "train_label = train.income\n",
    "train = train.drop('income', axis=1)"
   ]
  },
  {
   "cell_type": "code",
   "execution_count": 46,
   "metadata": {},
   "outputs": [
    {
     "data": {
      "text/html": [
       "<div>\n",
       "<style scoped>\n",
       "    .dataframe tbody tr th:only-of-type {\n",
       "        vertical-align: middle;\n",
       "    }\n",
       "\n",
       "    .dataframe tbody tr th {\n",
       "        vertical-align: top;\n",
       "    }\n",
       "\n",
       "    .dataframe thead th {\n",
       "        text-align: right;\n",
       "    }\n",
       "</style>\n",
       "<table border=\"1\" class=\"dataframe\">\n",
       "  <thead>\n",
       "    <tr style=\"text-align: right;\">\n",
       "      <th></th>\n",
       "      <th>age</th>\n",
       "      <th>workclass</th>\n",
       "      <th>fnlwgt</th>\n",
       "      <th>education</th>\n",
       "      <th>educational-num</th>\n",
       "      <th>marital-status</th>\n",
       "      <th>occupation</th>\n",
       "      <th>relationship</th>\n",
       "      <th>race</th>\n",
       "      <th>gender</th>\n",
       "      <th>capital-gain</th>\n",
       "      <th>capital-loss</th>\n",
       "      <th>hours-per-week</th>\n",
       "      <th>native-country</th>\n",
       "    </tr>\n",
       "  </thead>\n",
       "  <tbody>\n",
       "    <tr>\n",
       "      <th>0</th>\n",
       "      <td>39</td>\n",
       "      <td>State-gov</td>\n",
       "      <td>77516</td>\n",
       "      <td>Bachelors</td>\n",
       "      <td>13</td>\n",
       "      <td>Never-married</td>\n",
       "      <td>Adm-clerical</td>\n",
       "      <td>Not-in-family</td>\n",
       "      <td>White</td>\n",
       "      <td>Male</td>\n",
       "      <td>2174</td>\n",
       "      <td>0</td>\n",
       "      <td>40</td>\n",
       "      <td>United-States</td>\n",
       "    </tr>\n",
       "    <tr>\n",
       "      <th>1</th>\n",
       "      <td>50</td>\n",
       "      <td>Self-emp-not-inc</td>\n",
       "      <td>83311</td>\n",
       "      <td>Bachelors</td>\n",
       "      <td>13</td>\n",
       "      <td>Married-civ-spouse</td>\n",
       "      <td>Exec-managerial</td>\n",
       "      <td>Husband</td>\n",
       "      <td>White</td>\n",
       "      <td>Male</td>\n",
       "      <td>0</td>\n",
       "      <td>0</td>\n",
       "      <td>13</td>\n",
       "      <td>United-States</td>\n",
       "    </tr>\n",
       "    <tr>\n",
       "      <th>2</th>\n",
       "      <td>38</td>\n",
       "      <td>Private</td>\n",
       "      <td>215646</td>\n",
       "      <td>HS-grad</td>\n",
       "      <td>9</td>\n",
       "      <td>Divorced</td>\n",
       "      <td>Handlers-cleaners</td>\n",
       "      <td>Not-in-family</td>\n",
       "      <td>White</td>\n",
       "      <td>Male</td>\n",
       "      <td>0</td>\n",
       "      <td>0</td>\n",
       "      <td>40</td>\n",
       "      <td>United-States</td>\n",
       "    </tr>\n",
       "    <tr>\n",
       "      <th>3</th>\n",
       "      <td>53</td>\n",
       "      <td>Private</td>\n",
       "      <td>234721</td>\n",
       "      <td>11th</td>\n",
       "      <td>7</td>\n",
       "      <td>Married-civ-spouse</td>\n",
       "      <td>Handlers-cleaners</td>\n",
       "      <td>Husband</td>\n",
       "      <td>Black</td>\n",
       "      <td>Male</td>\n",
       "      <td>0</td>\n",
       "      <td>0</td>\n",
       "      <td>40</td>\n",
       "      <td>United-States</td>\n",
       "    </tr>\n",
       "    <tr>\n",
       "      <th>4</th>\n",
       "      <td>28</td>\n",
       "      <td>Private</td>\n",
       "      <td>338409</td>\n",
       "      <td>Bachelors</td>\n",
       "      <td>13</td>\n",
       "      <td>Married-civ-spouse</td>\n",
       "      <td>Prof-specialty</td>\n",
       "      <td>Wife</td>\n",
       "      <td>Black</td>\n",
       "      <td>Female</td>\n",
       "      <td>0</td>\n",
       "      <td>0</td>\n",
       "      <td>40</td>\n",
       "      <td>Cuba</td>\n",
       "    </tr>\n",
       "  </tbody>\n",
       "</table>\n",
       "</div>"
      ],
      "text/plain": [
       "   age         workclass  fnlwgt  education  educational-num  \\\n",
       "0   39         State-gov   77516  Bachelors               13   \n",
       "1   50  Self-emp-not-inc   83311  Bachelors               13   \n",
       "2   38           Private  215646    HS-grad                9   \n",
       "3   53           Private  234721       11th                7   \n",
       "4   28           Private  338409  Bachelors               13   \n",
       "\n",
       "       marital-status         occupation   relationship   race  gender  \\\n",
       "0       Never-married       Adm-clerical  Not-in-family  White    Male   \n",
       "1  Married-civ-spouse    Exec-managerial        Husband  White    Male   \n",
       "2            Divorced  Handlers-cleaners  Not-in-family  White    Male   \n",
       "3  Married-civ-spouse  Handlers-cleaners        Husband  Black    Male   \n",
       "4  Married-civ-spouse     Prof-specialty           Wife  Black  Female   \n",
       "\n",
       "   capital-gain  capital-loss  hours-per-week native-country  \n",
       "0          2174             0              40  United-States  \n",
       "1             0             0              13  United-States  \n",
       "2             0             0              40  United-States  \n",
       "3             0             0              40  United-States  \n",
       "4             0             0              40           Cuba  "
      ]
     },
     "execution_count": 46,
     "metadata": {},
     "output_type": "execute_result"
    }
   ],
   "source": [
    "train.head()"
   ]
  },
  {
   "cell_type": "code",
   "execution_count": 47,
   "metadata": {},
   "outputs": [
    {
     "data": {
      "text/plain": [
       "7841"
      ]
     },
     "metadata": {},
     "output_type": "display_data"
    },
    {
     "data": {
      "text/plain": [
       "3846"
      ]
     },
     "metadata": {},
     "output_type": "display_data"
    }
   ],
   "source": [
    "display(sum(train_label), sum(test_label))"
   ]
  },
  {
   "cell_type": "code",
   "execution_count": 48,
   "metadata": {},
   "outputs": [],
   "source": [
    "import numpy as np\n",
    "from sklearn.preprocessing import StandardScaler\n",
    "from sklearn.preprocessing import OneHotEncoder\n",
    "from sklearn.compose import ColumnTransformer\n",
    "from sklearn import preprocessing\n",
    "from sklearn.pipeline import Pipeline\n",
    "\n",
    "integer_columns = ['age','fnlwgt','educational-num','capital-gain', 'capital-loss', 'hours-per-week']\n",
    "categorical_columns = ['workclass', 'education', 'marital-status', 'occupation', 'relationship', 'race', 'gender', 'native-country']\n",
    "\n",
    "\n",
    "numeric_transformer = Pipeline(steps=[\n",
    "    ('scaler', StandardScaler())])\n",
    "categorical_transformer = Pipeline(steps=[('one_hot', OneHotEncoder(handle_unknown='ignore'))])\n",
    "    \n",
    "preprocessor = ColumnTransformer(\n",
    "    transformers=[\n",
    "        ('num', numeric_transformer, integer_columns),\n",
    "        ('cat', categorical_transformer, categorical_columns)])\n"
   ]
  },
  {
   "cell_type": "code",
   "execution_count": 49,
   "metadata": {},
   "outputs": [
    {
     "name": "stdout",
     "output_type": "stream",
     "text": [
      "model score: 0.860\n"
     ]
    }
   ],
   "source": [
    "from sklearn import svm\n",
    "clf = Pipeline(steps=[('preprocessor', preprocessor),\n",
    "                      ('classifier', svm.SVC(kernel = 'rbf', C = 1, tol = 1e-3))])\n",
    "\n",
    "clf.fit(train, train_label)\n",
    "print(\"model score: %.3f\" % clf.score(test, test_label))"
   ]
  },
  {
   "cell_type": "code",
   "execution_count": 50,
   "metadata": {},
   "outputs": [
    {
     "name": "stdout",
     "output_type": "stream",
     "text": [
      "model score: 0.853\n"
     ]
    }
   ],
   "source": [
    "from sklearn import svm\n",
    "clf = Pipeline(steps=[('preprocessor', preprocessor),\n",
    "                      ('classifier', svm.SVC(kernel = 'linear'))])\n",
    "\n",
    "clf.fit(train, train_label)\n",
    "print(\"model score: %.3f\" % clf.score(test, test_label))"
   ]
  },
  {
   "cell_type": "code",
   "execution_count": 51,
   "metadata": {},
   "outputs": [
    {
     "name": "stdout",
     "output_type": "stream",
     "text": [
      "model score: 0.857\n"
     ]
    }
   ],
   "source": [
    "from sklearn import svm\n",
    "clf = Pipeline(steps=[('preprocessor', preprocessor),\n",
    "                      ('classifier', svm.SVC(kernel = 'poly'))])\n",
    "\n",
    "clf.fit(train, train_label)\n",
    "print(\"model score: %.3f\" % clf.score(test, test_label))"
   ]
  },
  {
   "cell_type": "code",
   "execution_count": 52,
   "metadata": {},
   "outputs": [
    {
     "name": "stdout",
     "output_type": "stream",
     "text": [
      "model score: 0.780\n"
     ]
    }
   ],
   "source": [
    "from sklearn import svm\n",
    "clf = Pipeline(steps=[('preprocessor', preprocessor),\n",
    "                      ('classifier', svm.SVC(kernel = 'sigmoid'))])\n",
    "\n",
    "clf.fit(train, train_label)\n",
    "print(\"model score: %.3f\" % clf.score(test, test_label))"
   ]
  },
  {
   "cell_type": "code",
   "execution_count": null,
   "metadata": {},
   "outputs": [],
   "source": [
    "https://archive.ics.uci.edu/ml/datasets/adult\n",
    "https://github.com/saravrajavelu/Adult-Income-Analysis/blob/master/Adult_Income_Analysis.py"
   ]
  },
  {
   "cell_type": "markdown",
   "metadata": {},
   "source": [
    "## One-Class SVM\n",
    "Finde die kleinst mögliche Kugel (hyper sphere), die alle Datenpunkte umschliesst.\n",
    "Angewendet auf neue Datenpunkte:\n",
    "    - finde die Distanz zum Mittelpunkt: ist diese Grösser als der Radius der hyper sphere, dann ist der Datenpunkt nicht in der Klasse\n",
    "    - finde die Distanz zur Begrenuzungsebene: pos Distanz -> in-class; neg Distanz -> out-class"
   ]
  }
 ],
 "metadata": {
  "kernelspec": {
   "display_name": "Python 3",
   "language": "python",
   "name": "python3"
  },
  "language_info": {
   "codemirror_mode": {
    "name": "ipython",
    "version": 3
   },
   "file_extension": ".py",
   "mimetype": "text/x-python",
   "name": "python",
   "nbconvert_exporter": "python",
   "pygments_lexer": "ipython3",
   "version": "3.6.13"
  }
 },
 "nbformat": 4,
 "nbformat_minor": 4
}
