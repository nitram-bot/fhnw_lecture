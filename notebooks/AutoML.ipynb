{
 "cells": [
  {
   "cell_type": "markdown",
   "id": "seven-burke",
   "metadata": {},
   "source": [
    "__Xgboost__ is one of the most popular machine-learning algorithms but the number of possible parameter combinations goes towards infinity:\n",
    "- Booster: gbtree, gblinear or dart; gbtree and dart \n",
    "- disable_default_eval_metric \n",
    "- eta [default=0.3, alias: learning_rate]\n",
    "- gamma [default=0, alias: min_split_loss]\n",
    "- max_depth [default=6]\n",
    "- min_child_weight [default=1]\n",
    "- max_delta_step [default=0]\n",
    "- subsample [default=1]\n",
    "- colsample_bytree \n",
    "- colsample_bylevel \n",
    "- colsample_bynode \n",
    "- lambda [default=1, alias: reg_lambda]\n",
    "- alpha [default=0, alias: reg_alpha]\n",
    "- tree_method string [default= auto\n",
    "- sketch_eps [default=0.03]\n",
    "- scale_pos_weight [default=1]\n",
    "- refresh_leaf [default=1]\n",
    "- process_type [default= default]\n",
    "- grow_policy [default= depthwise]\n",
    "- max_leaves [default=0]\n",
    "- max_bin, [default=256]\n",
    "- sample_type [default= uniform]\n",
    "- normalize_type [default= tree]\n",
    "- rate_drop [default=0.0]\n",
    "- one_drop [default=0]\n",
    "- skip_drop [default=0.0]\n",
    "- updater [default= shotgun]\n",
    "\n"
   ]
  },
  {
   "cell_type": "markdown",
   "id": "handled-swing",
   "metadata": {},
   "source": [
    " - [BigML](https://bigml.com/)\n",
    " - [H2O.ai](http://docs.h2o.ai/h2o/latest-stable/h2o-docs/automl.html)\n",
    " - [rapidminer](https://rapidminer.com/products/go/)\n",
    " - [DataRobot](https://www.datarobot.com/solutions/data-scientists/)\n",
    " - [Microsoft Azure](https://azure.microsoft.com/en-us/services/machine-learning/automatedml/)\n",
    " - [Google Cloud AutoML](https://cloud.google.com/automl)\n",
    " - [Amazon AutoML](https://aws.amazon.com/blogs/machine-learning/code-free-machine-learning-automl-with-autogluon-amazon-sagemaker-and-aws-lambda/)\n",
    "\n",
    "A competitor from Zurich:\n",
    " - [Modulus.ai](https://www.modulos.ai/)"
   ]
  },
  {
   "cell_type": "markdown",
   "id": "threaded-andrew",
   "metadata": {},
   "source": [
    "<img alt=\"\" caption=\"Bayesian Optimization: surrogate function (black, blue) and acquisition function (green)\" \n",
    "id=\"bayesian_optimization\" src=\"../images/image4.png\" width=\"320\" height=\"320\">\n"
   ]
  },
  {
   "cell_type": "markdown",
   "id": "minute-knock",
   "metadata": {},
   "source": [
    "<img alt=\"\" caption=\"Auto-Sklearn\" \n",
    "id=\"auto-sklearn\" src=\"../images/image3.png\" width=\"720\" height=\"520\">\n"
   ]
  },
  {
   "cell_type": "markdown",
   "id": "interracial-radar",
   "metadata": {},
   "source": [
    "__SMAC__ (sequential model-based algorithm configuration)\n",
    "\n",
    " - Data Set gets divided into n folds\n",
    " - For each fold, characteristics of the data are determined and a signature for this fold is calculated with PCA\n",
    " - A hyperparameter configuration applied to a fold leads to the following result c (cost) `[h1, h2, h3, h4, h5][s1, s2, s3] -> c`\n",
    " - Initially, random combinations of hyperparameters and data folds are evaluated to obtain measurement points\n",
    " - For these combinations random forests are calculated\n",
    " - New configurations (candidates) are combined with all data-folds signatures and classified by the random forest\n",
    " - The predictions of the end-leaves of the random forest are averaged over all data-fold signatures and these results are summed up over all trees in the forest. This results in mean values and variances that are used in the acquisition function (max. objective, min uncertainty).\n",
    " - In this way, many different parameter combinations can be tested without having to teach the actual ML algorithm with the new parameter configurations.\n",
    " - The hyperparameter combinations with the highest values in the acquisition function are tested against the incumbent (best combination so far) on the ML algorithm. Thus, new measuring points are created and the random forest is relearned.\n"
   ]
  },
  {
   "cell_type": "markdown",
   "id": "biblical-sheet",
   "metadata": {},
   "source": [
    "[install auto-sklearn](https://automl.github.io/auto-sklearn/master/installation.html)"
   ]
  },
  {
   "cell_type": "code",
   "execution_count": 1,
   "id": "herbal-mistake",
   "metadata": {},
   "outputs": [
    {
     "name": "stdout",
     "output_type": "stream",
     "text": [
      "Requirement already satisfied: setuptools in /home/martin/miniconda3/envs/autoML/lib/python3.7/site-packages (52.0.0.post20210125)\n",
      "Requirement already satisfied: numpy>=1.9.0 in /home/martin/miniconda3/envs/autoML/lib/python3.7/site-packages (1.20.1)\n",
      "Requirement already satisfied: scipy>=0.14.1 in /home/martin/miniconda3/envs/autoML/lib/python3.7/site-packages (1.4.1)\n",
      "Requirement already satisfied: numpy>=1.13.3 in /home/martin/miniconda3/envs/autoML/lib/python3.7/site-packages (from scipy>=0.14.1) (1.20.1)\n",
      "Requirement already satisfied: joblib in /home/martin/miniconda3/envs/autoML/lib/python3.7/site-packages (1.0.1)\n",
      "Requirement already satisfied: scikit-learn<0.25.0,>=0.24.0 in /home/martin/miniconda3/envs/autoML/lib/python3.7/site-packages (0.24.0)\n",
      "Requirement already satisfied: numpy>=1.13.3 in /home/martin/miniconda3/envs/autoML/lib/python3.7/site-packages (from scikit-learn<0.25.0,>=0.24.0) (1.20.1)\n",
      "Requirement already satisfied: scipy>=0.19.1 in /home/martin/miniconda3/envs/autoML/lib/python3.7/site-packages (from scikit-learn<0.25.0,>=0.24.0) (1.4.1)\n",
      "Requirement already satisfied: joblib>=0.11 in /home/martin/miniconda3/envs/autoML/lib/python3.7/site-packages (from scikit-learn<0.25.0,>=0.24.0) (1.0.1)\n",
      "Requirement already satisfied: threadpoolctl>=2.0.0 in /home/martin/miniconda3/envs/autoML/lib/python3.7/site-packages (from scikit-learn<0.25.0,>=0.24.0) (2.1.0)\n",
      "Requirement already satisfied: dask in /home/martin/miniconda3/envs/autoML/lib/python3.7/site-packages (2021.3.0)\n",
      "Requirement already satisfied: pyyaml in /home/martin/miniconda3/envs/autoML/lib/python3.7/site-packages (from dask) (5.4.1)\n",
      "Requirement already satisfied: distributed>=2.2.0 in /home/martin/miniconda3/envs/autoML/lib/python3.7/site-packages (2021.3.0)\n",
      "Requirement already satisfied: msgpack>=0.6.0 in /home/martin/miniconda3/envs/autoML/lib/python3.7/site-packages (from distributed>=2.2.0) (1.0.2)\n",
      "Requirement already satisfied: toolz>=0.8.2 in /home/martin/miniconda3/envs/autoML/lib/python3.7/site-packages (from distributed>=2.2.0) (0.11.1)\n",
      "Requirement already satisfied: cloudpickle>=1.5.0 in /home/martin/miniconda3/envs/autoML/lib/python3.7/site-packages (from distributed>=2.2.0) (1.6.0)\n",
      "Requirement already satisfied: psutil>=5.0 in /home/martin/miniconda3/envs/autoML/lib/python3.7/site-packages (from distributed>=2.2.0) (5.7.0)\n",
      "Requirement already satisfied: click>=6.6 in /home/martin/miniconda3/envs/autoML/lib/python3.7/site-packages (from distributed>=2.2.0) (7.1.2)\n",
      "Requirement already satisfied: tornado>=5 in /home/martin/miniconda3/envs/autoML/lib/python3.7/site-packages (from distributed>=2.2.0) (6.1)\n",
      "Requirement already satisfied: zict>=0.1.3 in /home/martin/miniconda3/envs/autoML/lib/python3.7/site-packages (from distributed>=2.2.0) (2.0.0)\n",
      "Requirement already satisfied: setuptools in /home/martin/miniconda3/envs/autoML/lib/python3.7/site-packages (from distributed>=2.2.0) (52.0.0.post20210125)\n",
      "Requirement already satisfied: tblib>=1.6.0 in /home/martin/miniconda3/envs/autoML/lib/python3.7/site-packages (from distributed>=2.2.0) (1.7.0)\n",
      "Requirement already satisfied: dask>=2021.03.0 in /home/martin/miniconda3/envs/autoML/lib/python3.7/site-packages (from distributed>=2.2.0) (2021.3.0)\n",
      "Requirement already satisfied: sortedcontainers!=2.0.0,!=2.0.1 in /home/martin/miniconda3/envs/autoML/lib/python3.7/site-packages (from distributed>=2.2.0) (2.3.0)\n",
      "Requirement already satisfied: pyyaml in /home/martin/miniconda3/envs/autoML/lib/python3.7/site-packages (from distributed>=2.2.0) (5.4.1)\n",
      "Requirement already satisfied: heapdict in /home/martin/miniconda3/envs/autoML/lib/python3.7/site-packages (from zict>=0.1.3->distributed>=2.2.0) (1.0.1)\n",
      "Requirement already satisfied: pyyaml in /home/martin/miniconda3/envs/autoML/lib/python3.7/site-packages (5.4.1)\n",
      "Requirement already satisfied: pandas>=1.0 in /home/martin/miniconda3/envs/autoML/lib/python3.7/site-packages (1.2.3)\n",
      "Requirement already satisfied: pytz>=2017.3 in /home/martin/miniconda3/envs/autoML/lib/python3.7/site-packages (from pandas>=1.0) (2021.1)\n",
      "Requirement already satisfied: numpy>=1.16.5 in /home/martin/miniconda3/envs/autoML/lib/python3.7/site-packages (from pandas>=1.0) (1.20.1)\n",
      "Requirement already satisfied: python-dateutil>=2.7.3 in /home/martin/miniconda3/envs/autoML/lib/python3.7/site-packages (from pandas>=1.0) (2.8.1)\n",
      "Requirement already satisfied: six>=1.5 in /home/martin/miniconda3/envs/autoML/lib/python3.7/site-packages (from python-dateutil>=2.7.3->pandas>=1.0) (1.15.0)\n",
      "Requirement already satisfied: liac-arff in /home/martin/miniconda3/envs/autoML/lib/python3.7/site-packages (2.5.0)\n",
      "Requirement already satisfied: ConfigSpace<0.5,>=0.4.14 in /home/martin/miniconda3/envs/autoML/lib/python3.7/site-packages (0.4.16)\n",
      "Requirement already satisfied: cython in /home/martin/miniconda3/envs/autoML/lib/python3.7/site-packages (from ConfigSpace<0.5,>=0.4.14) (0.29.22)\n",
      "Requirement already satisfied: pyparsing in /home/martin/miniconda3/envs/autoML/lib/python3.7/site-packages (from ConfigSpace<0.5,>=0.4.14) (2.4.7)\n",
      "Requirement already satisfied: numpy in /home/martin/miniconda3/envs/autoML/lib/python3.7/site-packages (from ConfigSpace<0.5,>=0.4.14) (1.20.1)\n",
      "Requirement already satisfied: pynisher>=0.6.3 in /home/martin/miniconda3/envs/autoML/lib/python3.7/site-packages (0.6.4)\n",
      "Requirement already satisfied: setuptools in /home/martin/miniconda3/envs/autoML/lib/python3.7/site-packages (from pynisher>=0.6.3) (52.0.0.post20210125)\n",
      "Requirement already satisfied: psutil in /home/martin/miniconda3/envs/autoML/lib/python3.7/site-packages (from pynisher>=0.6.3) (5.7.0)\n",
      "Requirement already satisfied: pyrfr<0.9,>=0.7 in /home/martin/miniconda3/envs/autoML/lib/python3.7/site-packages (0.8.1)\n",
      "Requirement already satisfied: smac<0.14,>=0.13.1 in /home/martin/miniconda3/envs/autoML/lib/python3.7/site-packages (0.13.1)\n",
      "Requirement already satisfied: numpy>=1.7.1 in /home/martin/miniconda3/envs/autoML/lib/python3.7/site-packages (from smac<0.14,>=0.13.1) (1.20.1)\n",
      "Requirement already satisfied: ConfigSpace<0.5,>=0.4.14 in /home/martin/miniconda3/envs/autoML/lib/python3.7/site-packages (from smac<0.14,>=0.13.1) (0.4.16)\n",
      "Requirement already satisfied: scikit-learn>=0.22.0 in /home/martin/miniconda3/envs/autoML/lib/python3.7/site-packages (from smac<0.14,>=0.13.1) (0.24.0)\n",
      "Requirement already satisfied: pyrfr>=0.8.0 in /home/martin/miniconda3/envs/autoML/lib/python3.7/site-packages (from smac<0.14,>=0.13.1) (0.8.1)\n",
      "Requirement already satisfied: lazy-import in /home/martin/miniconda3/envs/autoML/lib/python3.7/site-packages (from smac<0.14,>=0.13.1) (0.2.2)\n",
      "Requirement already satisfied: distributed in /home/martin/miniconda3/envs/autoML/lib/python3.7/site-packages (from smac<0.14,>=0.13.1) (2021.3.0)\n",
      "Requirement already satisfied: joblib in /home/martin/miniconda3/envs/autoML/lib/python3.7/site-packages (from smac<0.14,>=0.13.1) (1.0.1)\n",
      "Requirement already satisfied: dask in /home/martin/miniconda3/envs/autoML/lib/python3.7/site-packages (from smac<0.14,>=0.13.1) (2021.3.0)\n",
      "Requirement already satisfied: pynisher>=0.4.1 in /home/martin/miniconda3/envs/autoML/lib/python3.7/site-packages (from smac<0.14,>=0.13.1) (0.6.4)\n",
      "Requirement already satisfied: scipy>=0.18.1 in /home/martin/miniconda3/envs/autoML/lib/python3.7/site-packages (from smac<0.14,>=0.13.1) (1.4.1)\n",
      "Requirement already satisfied: psutil in /home/martin/miniconda3/envs/autoML/lib/python3.7/site-packages (from smac<0.14,>=0.13.1) (5.7.0)\n",
      "Requirement already satisfied: pyparsing in /home/martin/miniconda3/envs/autoML/lib/python3.7/site-packages (from ConfigSpace<0.5,>=0.4.14->smac<0.14,>=0.13.1) (2.4.7)\n",
      "Requirement already satisfied: cython in /home/martin/miniconda3/envs/autoML/lib/python3.7/site-packages (from ConfigSpace<0.5,>=0.4.14->smac<0.14,>=0.13.1) (0.29.22)\n",
      "Requirement already satisfied: setuptools in /home/martin/miniconda3/envs/autoML/lib/python3.7/site-packages (from pynisher>=0.4.1->smac<0.14,>=0.13.1) (52.0.0.post20210125)\n",
      "Requirement already satisfied: threadpoolctl>=2.0.0 in /home/martin/miniconda3/envs/autoML/lib/python3.7/site-packages (from scikit-learn>=0.22.0->smac<0.14,>=0.13.1) (2.1.0)\n",
      "Requirement already satisfied: pyyaml in /home/martin/miniconda3/envs/autoML/lib/python3.7/site-packages (from dask->smac<0.14,>=0.13.1) (5.4.1)\n",
      "Requirement already satisfied: toolz>=0.8.2 in /home/martin/miniconda3/envs/autoML/lib/python3.7/site-packages (from distributed->smac<0.14,>=0.13.1) (0.11.1)\n",
      "Requirement already satisfied: sortedcontainers!=2.0.0,!=2.0.1 in /home/martin/miniconda3/envs/autoML/lib/python3.7/site-packages (from distributed->smac<0.14,>=0.13.1) (2.3.0)\n",
      "Requirement already satisfied: click>=6.6 in /home/martin/miniconda3/envs/autoML/lib/python3.7/site-packages (from distributed->smac<0.14,>=0.13.1) (7.1.2)\n",
      "Requirement already satisfied: msgpack>=0.6.0 in /home/martin/miniconda3/envs/autoML/lib/python3.7/site-packages (from distributed->smac<0.14,>=0.13.1) (1.0.2)\n",
      "Requirement already satisfied: tblib>=1.6.0 in /home/martin/miniconda3/envs/autoML/lib/python3.7/site-packages (from distributed->smac<0.14,>=0.13.1) (1.7.0)\n",
      "Requirement already satisfied: cloudpickle>=1.5.0 in /home/martin/miniconda3/envs/autoML/lib/python3.7/site-packages (from distributed->smac<0.14,>=0.13.1) (1.6.0)\n",
      "Requirement already satisfied: tornado>=5 in /home/martin/miniconda3/envs/autoML/lib/python3.7/site-packages (from distributed->smac<0.14,>=0.13.1) (6.1)\n",
      "Requirement already satisfied: zict>=0.1.3 in /home/martin/miniconda3/envs/autoML/lib/python3.7/site-packages (from distributed->smac<0.14,>=0.13.1) (2.0.0)\n"
     ]
    },
    {
     "name": "stdout",
     "output_type": "stream",
     "text": [
      "Requirement already satisfied: heapdict in /home/martin/miniconda3/envs/autoML/lib/python3.7/site-packages (from zict>=0.1.3->distributed->smac<0.14,>=0.13.1) (1.0.1)\r\n",
      "Requirement already satisfied: six in /home/martin/miniconda3/envs/autoML/lib/python3.7/site-packages (from lazy-import->smac<0.14,>=0.13.1) (1.15.0)\r\n"
     ]
    }
   ],
   "source": [
    "# curl https://raw.githubusercontent.com/automl/auto-sklearn/master/requirements.txt | xargs -n 1 -L 1 pip3 install\n",
    "! cat auto-sklearn-requirements.txt | xargs -n 1 -L 1 pip3 install"
   ]
  },
  {
   "cell_type": "code",
   "execution_count": 2,
   "id": "distinct-negative",
   "metadata": {},
   "outputs": [
    {
     "name": "stdout",
     "output_type": "stream",
     "text": [
      "Requirement already satisfied: auto-sklearn==0.12.4 in /home/martin/miniconda3/envs/autoML/lib/python3.7/site-packages (0.12.4)\n",
      "Requirement already satisfied: distributed>=2.2.0 in /home/martin/miniconda3/envs/autoML/lib/python3.7/site-packages (from auto-sklearn==0.12.4) (2021.3.0)\n",
      "Requirement already satisfied: joblib in /home/martin/miniconda3/envs/autoML/lib/python3.7/site-packages (from auto-sklearn==0.12.4) (1.0.1)\n",
      "Requirement already satisfied: pynisher>=0.6.3 in /home/martin/miniconda3/envs/autoML/lib/python3.7/site-packages (from auto-sklearn==0.12.4) (0.6.4)\n",
      "Requirement already satisfied: scipy>=0.14.1 in /home/martin/miniconda3/envs/autoML/lib/python3.7/site-packages (from auto-sklearn==0.12.4) (1.4.1)\n",
      "Requirement already satisfied: numpy>=1.9.0 in /home/martin/miniconda3/envs/autoML/lib/python3.7/site-packages (from auto-sklearn==0.12.4) (1.20.1)\n",
      "Requirement already satisfied: ConfigSpace<0.5,>=0.4.14 in /home/martin/miniconda3/envs/autoML/lib/python3.7/site-packages (from auto-sklearn==0.12.4) (0.4.16)\n",
      "Requirement already satisfied: scikit-learn<0.25.0,>=0.24.0 in /home/martin/miniconda3/envs/autoML/lib/python3.7/site-packages (from auto-sklearn==0.12.4) (0.24.0)\n",
      "Requirement already satisfied: liac-arff in /home/martin/miniconda3/envs/autoML/lib/python3.7/site-packages (from auto-sklearn==0.12.4) (2.5.0)\n",
      "Requirement already satisfied: smac<0.14,>=0.13.1 in /home/martin/miniconda3/envs/autoML/lib/python3.7/site-packages (from auto-sklearn==0.12.4) (0.13.1)\n",
      "Requirement already satisfied: pyyaml in /home/martin/miniconda3/envs/autoML/lib/python3.7/site-packages (from auto-sklearn==0.12.4) (5.4.1)\n",
      "Requirement already satisfied: setuptools in /home/martin/miniconda3/envs/autoML/lib/python3.7/site-packages (from auto-sklearn==0.12.4) (52.0.0.post20210125)\n",
      "Requirement already satisfied: pyrfr<0.9,>=0.8.1 in /home/martin/miniconda3/envs/autoML/lib/python3.7/site-packages (from auto-sklearn==0.12.4) (0.8.1)\n",
      "Requirement already satisfied: pandas>=1.0 in /home/martin/miniconda3/envs/autoML/lib/python3.7/site-packages (from auto-sklearn==0.12.4) (1.2.3)\n",
      "Requirement already satisfied: dask in /home/martin/miniconda3/envs/autoML/lib/python3.7/site-packages (from auto-sklearn==0.12.4) (2021.3.0)\n",
      "Requirement already satisfied: cython in /home/martin/miniconda3/envs/autoML/lib/python3.7/site-packages (from ConfigSpace<0.5,>=0.4.14->auto-sklearn==0.12.4) (0.29.22)\n",
      "Requirement already satisfied: pyparsing in /home/martin/miniconda3/envs/autoML/lib/python3.7/site-packages (from ConfigSpace<0.5,>=0.4.14->auto-sklearn==0.12.4) (2.4.7)\n",
      "Requirement already satisfied: tblib>=1.6.0 in /home/martin/miniconda3/envs/autoML/lib/python3.7/site-packages (from distributed>=2.2.0->auto-sklearn==0.12.4) (1.7.0)\n",
      "Requirement already satisfied: zict>=0.1.3 in /home/martin/miniconda3/envs/autoML/lib/python3.7/site-packages (from distributed>=2.2.0->auto-sklearn==0.12.4) (2.0.0)\n",
      "Requirement already satisfied: sortedcontainers!=2.0.0,!=2.0.1 in /home/martin/miniconda3/envs/autoML/lib/python3.7/site-packages (from distributed>=2.2.0->auto-sklearn==0.12.4) (2.3.0)\n",
      "Requirement already satisfied: click>=6.6 in /home/martin/miniconda3/envs/autoML/lib/python3.7/site-packages (from distributed>=2.2.0->auto-sklearn==0.12.4) (7.1.2)\n",
      "Requirement already satisfied: cloudpickle>=1.5.0 in /home/martin/miniconda3/envs/autoML/lib/python3.7/site-packages (from distributed>=2.2.0->auto-sklearn==0.12.4) (1.6.0)\n",
      "Requirement already satisfied: msgpack>=0.6.0 in /home/martin/miniconda3/envs/autoML/lib/python3.7/site-packages (from distributed>=2.2.0->auto-sklearn==0.12.4) (1.0.2)\n",
      "Requirement already satisfied: psutil>=5.0 in /home/martin/miniconda3/envs/autoML/lib/python3.7/site-packages (from distributed>=2.2.0->auto-sklearn==0.12.4) (5.7.0)\n",
      "Requirement already satisfied: tornado>=5 in /home/martin/miniconda3/envs/autoML/lib/python3.7/site-packages (from distributed>=2.2.0->auto-sklearn==0.12.4) (6.1)\n",
      "Requirement already satisfied: toolz>=0.8.2 in /home/martin/miniconda3/envs/autoML/lib/python3.7/site-packages (from distributed>=2.2.0->auto-sklearn==0.12.4) (0.11.1)\n",
      "Requirement already satisfied: pytz>=2017.3 in /home/martin/miniconda3/envs/autoML/lib/python3.7/site-packages (from pandas>=1.0->auto-sklearn==0.12.4) (2021.1)\n",
      "Requirement already satisfied: python-dateutil>=2.7.3 in /home/martin/miniconda3/envs/autoML/lib/python3.7/site-packages (from pandas>=1.0->auto-sklearn==0.12.4) (2.8.1)\n",
      "Requirement already satisfied: six>=1.5 in /home/martin/miniconda3/envs/autoML/lib/python3.7/site-packages (from python-dateutil>=2.7.3->pandas>=1.0->auto-sklearn==0.12.4) (1.15.0)\n",
      "Requirement already satisfied: threadpoolctl>=2.0.0 in /home/martin/miniconda3/envs/autoML/lib/python3.7/site-packages (from scikit-learn<0.25.0,>=0.24.0->auto-sklearn==0.12.4) (2.1.0)\n",
      "Requirement already satisfied: lazy-import in /home/martin/miniconda3/envs/autoML/lib/python3.7/site-packages (from smac<0.14,>=0.13.1->auto-sklearn==0.12.4) (0.2.2)\n",
      "Requirement already satisfied: heapdict in /home/martin/miniconda3/envs/autoML/lib/python3.7/site-packages (from zict>=0.1.3->distributed>=2.2.0->auto-sklearn==0.12.4) (1.0.1)\n"
     ]
    }
   ],
   "source": [
    "!pip install -U auto-sklearn==0.12.4"
   ]
  },
  {
   "cell_type": "code",
   "execution_count": 3,
   "id": "material-ceramic",
   "metadata": {},
   "outputs": [
    {
     "name": "stdout",
     "output_type": "stream",
     "text": [
      "Requirement already satisfied: scikit-learn==0.24.0 in /home/martin/miniconda3/envs/autoML/lib/python3.7/site-packages (0.24.0)\n",
      "Requirement already satisfied: scipy>=0.19.1 in /home/martin/miniconda3/envs/autoML/lib/python3.7/site-packages (from scikit-learn==0.24.0) (1.4.1)\n",
      "Requirement already satisfied: numpy>=1.13.3 in /home/martin/miniconda3/envs/autoML/lib/python3.7/site-packages (from scikit-learn==0.24.0) (1.20.1)\n",
      "Requirement already satisfied: joblib>=0.11 in /home/martin/miniconda3/envs/autoML/lib/python3.7/site-packages (from scikit-learn==0.24.0) (1.0.1)\n",
      "Requirement already satisfied: threadpoolctl>=2.0.0 in /home/martin/miniconda3/envs/autoML/lib/python3.7/site-packages (from scikit-learn==0.24.0) (2.1.0)\n"
     ]
    }
   ],
   "source": [
    "!pip install -U scikit-learn==0.24.0"
   ]
  },
  {
   "cell_type": "code",
   "execution_count": 4,
   "id": "voluntary-demographic",
   "metadata": {},
   "outputs": [
    {
     "name": "stderr",
     "output_type": "stream",
     "text": [
      "/home/martin/miniconda3/envs/autoML/lib/python3.7/site-packages/pyparsing.py:3190: FutureWarning: Possible set intersection at position 3\n",
      "  self.re = re.compile(self.reString)\n"
     ]
    }
   ],
   "source": [
    "import sklearn.metrics\n",
    "import autosklearn.regression\n",
    "import pandas as pd\n",
    "import numpy as np"
   ]
  },
  {
   "cell_type": "markdown",
   "id": "pleased-siemens",
   "metadata": {},
   "source": [
    "## let's attack our house-prices example"
   ]
  },
  {
   "cell_type": "code",
   "execution_count": 87,
   "id": "identified-microwave",
   "metadata": {},
   "outputs": [
    {
     "name": "stdout",
     "output_type": "stream",
     "text": [
      "/home/martin/python/fhnw_lecture/notebooks\r\n"
     ]
    }
   ],
   "source": [
    "!pwd"
   ]
  },
  {
   "cell_type": "code",
   "execution_count": 5,
   "id": "beautiful-dependence",
   "metadata": {},
   "outputs": [],
   "source": [
    "train = pd.read_csv('../data/train.csv', sep=\",\")\n",
    "test = pd.read_csv('../data/test.csv')"
   ]
  },
  {
   "cell_type": "code",
   "execution_count": 6,
   "id": "acting-parks",
   "metadata": {},
   "outputs": [],
   "source": [
    "y = train['SalePrice']\n",
    "X = train.drop('SalePrice', axis=1)\n",
    "categorical = [var for var in X.columns if X[var].dtype=='O']\n",
    "numerical = [var for var in X.columns if X[var].dtype!='O']\n",
    "X[categorical] = X[categorical].fillna('None')\n",
    "\n",
    "# auto-sklearn can not deal with categorical variables\n",
    "X= pd.concat([pd.get_dummies(X[categorical], dummy_na=True), X[numerical]], axis=1)\n",
    "\n",
    "y = np.log1p(y)\n",
    "X_train, X_test, y_train, y_test = \\\n",
    "    sklearn.model_selection.train_test_split(X, y, random_state=42, test_size=0.2)"
   ]
  },
  {
   "cell_type": "markdown",
   "id": "russian-checkout",
   "metadata": {},
   "source": [
    "[Parameters](https://automl.github.io/auto-sklearn/master/api.html#regression)"
   ]
  },
  {
   "cell_type": "code",
   "execution_count": 7,
   "id": "exciting-present",
   "metadata": {},
   "outputs": [],
   "source": [
    "! rm -rf /tmp/autosklearn_*\n",
    "automl = autosklearn.regression.AutoSklearnRegressor(\n",
    "    time_left_for_this_task=600,\n",
    "    per_run_time_limit=30,\n",
    "    memory_limit = 4096,\n",
    "    ensemble_size = 8, \n",
    "    ensemble_nbest=4,\n",
    "    max_models_on_disc = 16,\n",
    "    n_jobs = 2,\n",
    "    include_estimators = ['gradient_boosting', 'ard_regression', 'sgd'],\n",
    "    resampling_strategy = 'cv',\n",
    "    # include_preprocessors=[\"no_preprocessing\"],\n",
    "    tmp_folder='/tmp/autosklearn_regression_example_tmp',\n",
    "    output_folder='/tmp/autosklearn_regression_example_out',\n",
    "    delete_tmp_folder_after_terminate = True,\n",
    "    delete_output_folder_after_terminate = False\n",
    ")"
   ]
  },
  {
   "cell_type": "code",
   "execution_count": 8,
   "id": "happy-privacy",
   "metadata": {},
   "outputs": [
    {
     "data": {
      "text/plain": [
       "AutoSklearnRegressor(delete_output_folder_after_terminate=False,\n",
       "                     ensemble_nbest=4, ensemble_size=8,\n",
       "                     include_estimators=['gradient_boosting', 'ard_regression',\n",
       "                                         'sgd'],\n",
       "                     max_models_on_disc=16, memory_limit=4096, n_jobs=2,\n",
       "                     output_folder='/tmp/autosklearn_regression_example_out',\n",
       "                     per_run_time_limit=30, resampling_strategy='cv',\n",
       "                     time_left_for_this_task=600,\n",
       "                     tmp_folder='/tmp/autosklearn_regression_example_tmp')"
      ]
     },
     "execution_count": 8,
     "metadata": {},
     "output_type": "execute_result"
    }
   ],
   "source": [
    "automl.fit(X_train, y_train, dataset_name='house-prices')"
   ]
  },
  {
   "cell_type": "code",
   "execution_count": null,
   "id": "buried-syndrome",
   "metadata": {},
   "outputs": [],
   "source": [
    "print(automl.show_models())"
   ]
  },
  {
   "cell_type": "code",
   "execution_count": 9,
   "id": "artistic-calgary",
   "metadata": {},
   "outputs": [
    {
     "data": {
      "text/plain": [
       "'0.12.4'"
      ]
     },
     "execution_count": 9,
     "metadata": {},
     "output_type": "execute_result"
    }
   ],
   "source": [
    "autosklearn.__version__"
   ]
  },
  {
   "cell_type": "code",
   "execution_count": 10,
   "id": "plain-accommodation",
   "metadata": {
    "scrolled": false
   },
   "outputs": [
    {
     "name": "stdout",
     "output_type": "stream",
     "text": [
      "R2 score: 0.8929860278928468\n",
      "mean-squared-error: 0.14131519071831905\n"
     ]
    }
   ],
   "source": [
    "predictions = automl.predict(X_test)\n",
    "print(\"R2 score:\", sklearn.metrics.r2_score(y_test, predictions))\n",
    "print(\"mean-squared-error:\", sklearn.metrics.mean_squared_error(y_test, predictions, squared=False))"
   ]
  },
  {
   "cell_type": "markdown",
   "id": "lesser-palmer",
   "metadata": {},
   "source": [
    "# autogluon.tabular"
   ]
  },
  {
   "cell_type": "code",
   "execution_count": 11,
   "id": "minor-stuff",
   "metadata": {},
   "outputs": [
    {
     "name": "stdout",
     "output_type": "stream",
     "text": [
      "Requirement already satisfied: mxnet==1.7.0.post1 in /home/martin/miniconda3/envs/autoML/lib/python3.7/site-packages (1.7.0.post1)\r\n",
      "Requirement already satisfied: graphviz<0.9.0,>=0.8.1 in /home/martin/miniconda3/envs/autoML/lib/python3.7/site-packages (from mxnet==1.7.0.post1) (0.8.4)\r\n",
      "Requirement already satisfied: numpy<2.0.0,>1.16.0 in /home/martin/miniconda3/envs/autoML/lib/python3.7/site-packages (from mxnet==1.7.0.post1) (1.20.1)\r\n",
      "Requirement already satisfied: requests<3,>=2.20.0 in /home/martin/miniconda3/envs/autoML/lib/python3.7/site-packages (from mxnet==1.7.0.post1) (2.25.1)\r\n",
      "Requirement already satisfied: urllib3<1.27,>=1.21.1 in /home/martin/miniconda3/envs/autoML/lib/python3.7/site-packages (from requests<3,>=2.20.0->mxnet==1.7.0.post1) (1.26.4)\r\n",
      "Requirement already satisfied: certifi>=2017.4.17 in /home/martin/miniconda3/envs/autoML/lib/python3.7/site-packages (from requests<3,>=2.20.0->mxnet==1.7.0.post1) (2020.12.5)\r\n",
      "Requirement already satisfied: idna<3,>=2.5 in /home/martin/miniconda3/envs/autoML/lib/python3.7/site-packages (from requests<3,>=2.20.0->mxnet==1.7.0.post1) (2.10)\r\n",
      "Requirement already satisfied: chardet<5,>=3.0.2 in /home/martin/miniconda3/envs/autoML/lib/python3.7/site-packages (from requests<3,>=2.20.0->mxnet==1.7.0.post1) (4.0.0)\r\n"
     ]
    }
   ],
   "source": [
    "!pip install mxnet==1.7.0.post1"
   ]
  },
  {
   "cell_type": "code",
   "execution_count": 12,
   "id": "governing-portfolio",
   "metadata": {},
   "outputs": [
    {
     "name": "stdout",
     "output_type": "stream",
     "text": [
      "Requirement already satisfied: autogluon-core==0.0.16b20210114 in /home/martin/miniconda3/envs/autoML/lib/python3.7/site-packages (0.0.16b20210114)\n",
      "Requirement already satisfied: autogluon-tabular==0.0.16b20210114 in /home/martin/miniconda3/envs/autoML/lib/python3.7/site-packages (0.0.16b20210114)\n",
      "Requirement already satisfied: scipy<1.5.0,>=1.3.3 in /home/martin/miniconda3/envs/autoML/lib/python3.7/site-packages (from autogluon-core==0.0.16b20210114) (1.4.1)\n",
      "Requirement already satisfied: distributed>=2.6.0 in /home/martin/miniconda3/envs/autoML/lib/python3.7/site-packages (from autogluon-core==0.0.16b20210114) (2021.3.0)\n",
      "Requirement already satisfied: pytest in /home/martin/miniconda3/envs/autoML/lib/python3.7/site-packages (from autogluon-core==0.0.16b20210114) (6.2.2)\n",
      "Requirement already satisfied: requests in /home/martin/miniconda3/envs/autoML/lib/python3.7/site-packages (from autogluon-core==0.0.16b20210114) (2.25.1)\n",
      "Requirement already satisfied: autograd>=1.3 in /home/martin/miniconda3/envs/autoML/lib/python3.7/site-packages (from autogluon-core==0.0.16b20210114) (1.3)\n",
      "Requirement already satisfied: dill==0.3.3 in /home/martin/miniconda3/envs/autoML/lib/python3.7/site-packages (from autogluon-core==0.0.16b20210114) (0.3.3)\n",
      "Requirement already satisfied: boto3 in /home/martin/miniconda3/envs/autoML/lib/python3.7/site-packages (from autogluon-core==0.0.16b20210114) (1.17.33)\n",
      "Requirement already satisfied: scikit-optimize in /home/martin/miniconda3/envs/autoML/lib/python3.7/site-packages (from autogluon-core==0.0.16b20210114) (0.8.1)\n",
      "Requirement already satisfied: graphviz<0.9.0,>=0.8.1 in /home/martin/miniconda3/envs/autoML/lib/python3.7/site-packages (from autogluon-core==0.0.16b20210114) (0.8.4)\n",
      "Requirement already satisfied: dask>=2.6.0 in /home/martin/miniconda3/envs/autoML/lib/python3.7/site-packages (from autogluon-core==0.0.16b20210114) (2021.3.0)\n",
      "Requirement already satisfied: paramiko>=2.4 in /home/martin/miniconda3/envs/autoML/lib/python3.7/site-packages (from autogluon-core==0.0.16b20210114) (2.7.2)\n",
      "Collecting scikit-learn<0.24,>=0.22.0\n",
      "  Using cached scikit_learn-0.23.2-cp37-cp37m-manylinux1_x86_64.whl (6.8 MB)\n",
      "Requirement already satisfied: matplotlib in /home/martin/miniconda3/envs/autoML/lib/python3.7/site-packages (from autogluon-core==0.0.16b20210114) (3.3.4)\n",
      "Requirement already satisfied: numpy>=1.16.0 in /home/martin/miniconda3/envs/autoML/lib/python3.7/site-packages (from autogluon-core==0.0.16b20210114) (1.20.1)\n",
      "Requirement already satisfied: tornado>=5.0.1 in /home/martin/miniconda3/envs/autoML/lib/python3.7/site-packages (from autogluon-core==0.0.16b20210114) (6.1)\n",
      "Requirement already satisfied: cython in /home/martin/miniconda3/envs/autoML/lib/python3.7/site-packages (from autogluon-core==0.0.16b20210114) (0.29.22)\n",
      "Requirement already satisfied: pandas<2.0,>=1.0.0 in /home/martin/miniconda3/envs/autoML/lib/python3.7/site-packages (from autogluon-core==0.0.16b20210114) (1.2.3)\n",
      "Requirement already satisfied: tqdm>=4.38.0 in /home/martin/miniconda3/envs/autoML/lib/python3.7/site-packages (from autogluon-core==0.0.16b20210114) (4.59.0)\n",
      "Requirement already satisfied: ConfigSpace<=0.4.16 in /home/martin/miniconda3/envs/autoML/lib/python3.7/site-packages (from autogluon-core==0.0.16b20210114) (0.4.16)\n",
      "Requirement already satisfied: networkx<3.0,>=2.3 in /home/martin/miniconda3/envs/autoML/lib/python3.7/site-packages (from autogluon-tabular==0.0.16b20210114) (2.5)\n",
      "Requirement already satisfied: psutil<=5.7.0,>=5.0.0 in /home/martin/miniconda3/envs/autoML/lib/python3.7/site-packages (from autogluon-tabular==0.0.16b20210114) (5.7.0)\n",
      "Requirement already satisfied: gluoncv<1.0,>=0.9.1 in /home/martin/miniconda3/envs/autoML/lib/python3.7/site-packages (from autogluon-tabular==0.0.16b20210114) (0.10.0)\n",
      "Requirement already satisfied: fastai<2.0,>=1.0 in /home/martin/miniconda3/envs/autoML/lib/python3.7/site-packages (from autogluon-tabular==0.0.16b20210114) (1.0.61)\n",
      "Requirement already satisfied: torch<2.0,>=1.0 in /home/martin/miniconda3/envs/autoML/lib/python3.7/site-packages (from autogluon-tabular==0.0.16b20210114) (1.8.0)\n",
      "Requirement already satisfied: xgboost<1.3,>=1.2 in /home/martin/miniconda3/envs/autoML/lib/python3.7/site-packages (from autogluon-tabular==0.0.16b20210114) (1.2.1)\n",
      "Requirement already satisfied: lightgbm<4.0,>=3.0 in /home/martin/miniconda3/envs/autoML/lib/python3.7/site-packages (from autogluon-tabular==0.0.16b20210114) (3.1.1)\n",
      "Requirement already satisfied: catboost<0.25,>=0.23.0 in /home/martin/miniconda3/envs/autoML/lib/python3.7/site-packages (from autogluon-tabular==0.0.16b20210114) (0.24.4)\n",
      "Requirement already satisfied: future>=0.15.2 in /home/martin/miniconda3/envs/autoML/lib/python3.7/site-packages (from autograd>=1.3->autogluon-core==0.0.16b20210114) (0.18.2)\n",
      "Requirement already satisfied: plotly in /home/martin/miniconda3/envs/autoML/lib/python3.7/site-packages (from catboost<0.25,>=0.23.0->autogluon-tabular==0.0.16b20210114) (4.14.3)\n",
      "Requirement already satisfied: six in /home/martin/miniconda3/envs/autoML/lib/python3.7/site-packages (from catboost<0.25,>=0.23.0->autogluon-tabular==0.0.16b20210114) (1.15.0)\n",
      "Requirement already satisfied: pyparsing in /home/martin/miniconda3/envs/autoML/lib/python3.7/site-packages (from ConfigSpace<=0.4.16->autogluon-core==0.0.16b20210114) (2.4.7)\n",
      "Requirement already satisfied: pyyaml in /home/martin/miniconda3/envs/autoML/lib/python3.7/site-packages (from dask>=2.6.0->autogluon-core==0.0.16b20210114) (5.4.1)\n",
      "Requirement already satisfied: tblib>=1.6.0 in /home/martin/miniconda3/envs/autoML/lib/python3.7/site-packages (from distributed>=2.6.0->autogluon-core==0.0.16b20210114) (1.7.0)\n",
      "Requirement already satisfied: msgpack>=0.6.0 in /home/martin/miniconda3/envs/autoML/lib/python3.7/site-packages (from distributed>=2.6.0->autogluon-core==0.0.16b20210114) (1.0.2)\n",
      "Requirement already satisfied: sortedcontainers!=2.0.0,!=2.0.1 in /home/martin/miniconda3/envs/autoML/lib/python3.7/site-packages (from distributed>=2.6.0->autogluon-core==0.0.16b20210114) (2.3.0)\n",
      "Requirement already satisfied: toolz>=0.8.2 in /home/martin/miniconda3/envs/autoML/lib/python3.7/site-packages (from distributed>=2.6.0->autogluon-core==0.0.16b20210114) (0.11.1)\n",
      "Requirement already satisfied: click>=6.6 in /home/martin/miniconda3/envs/autoML/lib/python3.7/site-packages (from distributed>=2.6.0->autogluon-core==0.0.16b20210114) (7.1.2)\n",
      "Requirement already satisfied: zict>=0.1.3 in /home/martin/miniconda3/envs/autoML/lib/python3.7/site-packages (from distributed>=2.6.0->autogluon-core==0.0.16b20210114) (2.0.0)\n",
      "Requirement already satisfied: setuptools in /home/martin/miniconda3/envs/autoML/lib/python3.7/site-packages (from distributed>=2.6.0->autogluon-core==0.0.16b20210114) (52.0.0.post20210125)\n",
      "Requirement already satisfied: cloudpickle>=1.5.0 in /home/martin/miniconda3/envs/autoML/lib/python3.7/site-packages (from distributed>=2.6.0->autogluon-core==0.0.16b20210114) (1.6.0)\n",
      "Requirement already satisfied: packaging in /home/martin/miniconda3/envs/autoML/lib/python3.7/site-packages (from fastai<2.0,>=1.0->autogluon-tabular==0.0.16b20210114) (20.9)\n",
      "Requirement already satisfied: beautifulsoup4 in /home/martin/miniconda3/envs/autoML/lib/python3.7/site-packages (from fastai<2.0,>=1.0->autogluon-tabular==0.0.16b20210114) (4.9.3)\n",
      "Requirement already satisfied: spacy>=2.0.18 in /home/martin/miniconda3/envs/autoML/lib/python3.7/site-packages (from fastai<2.0,>=1.0->autogluon-tabular==0.0.16b20210114) (3.0.5)\n",
      "Requirement already satisfied: numexpr in /home/martin/miniconda3/envs/autoML/lib/python3.7/site-packages (from fastai<2.0,>=1.0->autogluon-tabular==0.0.16b20210114) (2.7.3)\n",
      "Requirement already satisfied: nvidia-ml-py3 in /home/martin/miniconda3/envs/autoML/lib/python3.7/site-packages (from fastai<2.0,>=1.0->autogluon-tabular==0.0.16b20210114) (7.352.0)\n",
      "Requirement already satisfied: bottleneck in /home/martin/miniconda3/envs/autoML/lib/python3.7/site-packages (from fastai<2.0,>=1.0->autogluon-tabular==0.0.16b20210114) (1.3.2)\n",
      "Requirement already satisfied: torchvision in /home/martin/miniconda3/envs/autoML/lib/python3.7/site-packages (from fastai<2.0,>=1.0->autogluon-tabular==0.0.16b20210114) (0.9.0)\n",
      "Requirement already satisfied: Pillow in /home/martin/miniconda3/envs/autoML/lib/python3.7/site-packages (from fastai<2.0,>=1.0->autogluon-tabular==0.0.16b20210114) (8.1.2)\n",
      "Requirement already satisfied: fastprogress>=0.2.1 in /home/martin/miniconda3/envs/autoML/lib/python3.7/site-packages (from fastai<2.0,>=1.0->autogluon-tabular==0.0.16b20210114) (1.0.0)\n",
      "Requirement already satisfied: yacs in /home/martin/miniconda3/envs/autoML/lib/python3.7/site-packages (from gluoncv<1.0,>=0.9.1->autogluon-tabular==0.0.16b20210114) (0.1.8)\n",
      "Requirement already satisfied: autocfg in /home/martin/miniconda3/envs/autoML/lib/python3.7/site-packages (from gluoncv<1.0,>=0.9.1->autogluon-tabular==0.0.16b20210114) (0.0.8)\n",
      "Requirement already satisfied: tensorboardx in /home/martin/miniconda3/envs/autoML/lib/python3.7/site-packages (from gluoncv<1.0,>=0.9.1->autogluon-tabular==0.0.16b20210114) (2.1)\n",
      "Requirement already satisfied: portalocker in /home/martin/miniconda3/envs/autoML/lib/python3.7/site-packages (from gluoncv<1.0,>=0.9.1->autogluon-tabular==0.0.16b20210114) (2.2.1)\n"
     ]
    },
    {
     "name": "stdout",
     "output_type": "stream",
     "text": [
      "Requirement already satisfied: opencv-python in /home/martin/miniconda3/envs/autoML/lib/python3.7/site-packages (from gluoncv<1.0,>=0.9.1->autogluon-tabular==0.0.16b20210114) (4.5.1.48)\n",
      "Requirement already satisfied: decord in /home/martin/miniconda3/envs/autoML/lib/python3.7/site-packages (from gluoncv<1.0,>=0.9.1->autogluon-tabular==0.0.16b20210114) (0.5.2)\n",
      "Requirement already satisfied: wheel in /home/martin/miniconda3/envs/autoML/lib/python3.7/site-packages (from lightgbm<4.0,>=3.0->autogluon-tabular==0.0.16b20210114) (0.36.2)\n",
      "Requirement already satisfied: decorator>=4.3.0 in /home/martin/miniconda3/envs/autoML/lib/python3.7/site-packages (from networkx<3.0,>=2.3->autogluon-tabular==0.0.16b20210114) (4.4.2)\n",
      "Requirement already satisfied: python-dateutil>=2.7.3 in /home/martin/miniconda3/envs/autoML/lib/python3.7/site-packages (from pandas<2.0,>=1.0.0->autogluon-core==0.0.16b20210114) (2.8.1)\n",
      "Requirement already satisfied: pytz>=2017.3 in /home/martin/miniconda3/envs/autoML/lib/python3.7/site-packages (from pandas<2.0,>=1.0.0->autogluon-core==0.0.16b20210114) (2021.1)\n",
      "Requirement already satisfied: bcrypt>=3.1.3 in /home/martin/miniconda3/envs/autoML/lib/python3.7/site-packages (from paramiko>=2.4->autogluon-core==0.0.16b20210114) (3.2.0)\n",
      "Requirement already satisfied: pynacl>=1.0.1 in /home/martin/miniconda3/envs/autoML/lib/python3.7/site-packages (from paramiko>=2.4->autogluon-core==0.0.16b20210114) (1.4.0)\n",
      "Requirement already satisfied: cryptography>=2.5 in /home/martin/miniconda3/envs/autoML/lib/python3.7/site-packages (from paramiko>=2.4->autogluon-core==0.0.16b20210114) (3.4.6)\n",
      "Requirement already satisfied: cffi>=1.1 in /home/martin/miniconda3/envs/autoML/lib/python3.7/site-packages (from bcrypt>=3.1.3->paramiko>=2.4->autogluon-core==0.0.16b20210114) (1.14.5)\n",
      "Requirement already satisfied: pycparser in /home/martin/miniconda3/envs/autoML/lib/python3.7/site-packages (from cffi>=1.1->bcrypt>=3.1.3->paramiko>=2.4->autogluon-core==0.0.16b20210114) (2.20)\n",
      "Requirement already satisfied: joblib>=0.11 in /home/martin/miniconda3/envs/autoML/lib/python3.7/site-packages (from scikit-learn<0.24,>=0.22.0->autogluon-core==0.0.16b20210114) (1.0.1)\n",
      "Requirement already satisfied: threadpoolctl>=2.0.0 in /home/martin/miniconda3/envs/autoML/lib/python3.7/site-packages (from scikit-learn<0.24,>=0.22.0->autogluon-core==0.0.16b20210114) (2.1.0)\n",
      "Requirement already satisfied: pydantic<1.8.0,>=1.7.1 in /home/martin/miniconda3/envs/autoML/lib/python3.7/site-packages (from spacy>=2.0.18->fastai<2.0,>=1.0->autogluon-tabular==0.0.16b20210114) (1.7.3)\n",
      "Requirement already satisfied: preshed<3.1.0,>=3.0.2 in /home/martin/miniconda3/envs/autoML/lib/python3.7/site-packages (from spacy>=2.0.18->fastai<2.0,>=1.0->autogluon-tabular==0.0.16b20210114) (3.0.5)\n",
      "Requirement already satisfied: jinja2 in /home/martin/miniconda3/envs/autoML/lib/python3.7/site-packages (from spacy>=2.0.18->fastai<2.0,>=1.0->autogluon-tabular==0.0.16b20210114) (2.11.3)\n",
      "Requirement already satisfied: catalogue<2.1.0,>=2.0.1 in /home/martin/miniconda3/envs/autoML/lib/python3.7/site-packages (from spacy>=2.0.18->fastai<2.0,>=1.0->autogluon-tabular==0.0.16b20210114) (2.0.1)\n",
      "Requirement already satisfied: thinc<8.1.0,>=8.0.2 in /home/martin/miniconda3/envs/autoML/lib/python3.7/site-packages (from spacy>=2.0.18->fastai<2.0,>=1.0->autogluon-tabular==0.0.16b20210114) (8.0.2)\n",
      "Requirement already satisfied: typing-extensions<4.0.0.0,>=3.7.4 in /home/martin/miniconda3/envs/autoML/lib/python3.7/site-packages (from spacy>=2.0.18->fastai<2.0,>=1.0->autogluon-tabular==0.0.16b20210114) (3.7.4.3)\n",
      "Requirement already satisfied: murmurhash<1.1.0,>=0.28.0 in /home/martin/miniconda3/envs/autoML/lib/python3.7/site-packages (from spacy>=2.0.18->fastai<2.0,>=1.0->autogluon-tabular==0.0.16b20210114) (1.0.5)\n",
      "Requirement already satisfied: pathy>=0.3.5 in /home/martin/miniconda3/envs/autoML/lib/python3.7/site-packages (from spacy>=2.0.18->fastai<2.0,>=1.0->autogluon-tabular==0.0.16b20210114) (0.4.0)\n",
      "Requirement already satisfied: blis<0.8.0,>=0.4.0 in /home/martin/miniconda3/envs/autoML/lib/python3.7/site-packages (from spacy>=2.0.18->fastai<2.0,>=1.0->autogluon-tabular==0.0.16b20210114) (0.7.4)\n",
      "Requirement already satisfied: spacy-legacy<3.1.0,>=3.0.0 in /home/martin/miniconda3/envs/autoML/lib/python3.7/site-packages (from spacy>=2.0.18->fastai<2.0,>=1.0->autogluon-tabular==0.0.16b20210114) (3.0.1)\n",
      "Requirement already satisfied: cymem<2.1.0,>=2.0.2 in /home/martin/miniconda3/envs/autoML/lib/python3.7/site-packages (from spacy>=2.0.18->fastai<2.0,>=1.0->autogluon-tabular==0.0.16b20210114) (2.0.5)\n",
      "Requirement already satisfied: srsly<3.0.0,>=2.4.0 in /home/martin/miniconda3/envs/autoML/lib/python3.7/site-packages (from spacy>=2.0.18->fastai<2.0,>=1.0->autogluon-tabular==0.0.16b20210114) (2.4.0)\n",
      "Requirement already satisfied: importlib-metadata>=0.20 in /home/martin/miniconda3/envs/autoML/lib/python3.7/site-packages (from spacy>=2.0.18->fastai<2.0,>=1.0->autogluon-tabular==0.0.16b20210114) (3.7.3)\n",
      "Requirement already satisfied: wasabi<1.1.0,>=0.8.1 in /home/martin/miniconda3/envs/autoML/lib/python3.7/site-packages (from spacy>=2.0.18->fastai<2.0,>=1.0->autogluon-tabular==0.0.16b20210114) (0.8.2)\n",
      "Requirement already satisfied: typer<0.4.0,>=0.3.0 in /home/martin/miniconda3/envs/autoML/lib/python3.7/site-packages (from spacy>=2.0.18->fastai<2.0,>=1.0->autogluon-tabular==0.0.16b20210114) (0.3.2)\n",
      "Requirement already satisfied: zipp>=0.5 in /home/martin/miniconda3/envs/autoML/lib/python3.7/site-packages (from importlib-metadata>=0.20->spacy>=2.0.18->fastai<2.0,>=1.0->autogluon-tabular==0.0.16b20210114) (3.4.1)\n",
      "Requirement already satisfied: smart-open<4.0.0,>=2.2.0 in /home/martin/miniconda3/envs/autoML/lib/python3.7/site-packages (from pathy>=0.3.5->spacy>=2.0.18->fastai<2.0,>=1.0->autogluon-tabular==0.0.16b20210114) (3.0.0)\n",
      "Requirement already satisfied: certifi>=2017.4.17 in /home/martin/miniconda3/envs/autoML/lib/python3.7/site-packages (from requests->autogluon-core==0.0.16b20210114) (2020.12.5)\n",
      "Requirement already satisfied: urllib3<1.27,>=1.21.1 in /home/martin/miniconda3/envs/autoML/lib/python3.7/site-packages (from requests->autogluon-core==0.0.16b20210114) (1.26.4)\n",
      "Requirement already satisfied: idna<3,>=2.5 in /home/martin/miniconda3/envs/autoML/lib/python3.7/site-packages (from requests->autogluon-core==0.0.16b20210114) (2.10)\n",
      "Requirement already satisfied: chardet<5,>=3.0.2 in /home/martin/miniconda3/envs/autoML/lib/python3.7/site-packages (from requests->autogluon-core==0.0.16b20210114) (4.0.0)\n",
      "Requirement already satisfied: heapdict in /home/martin/miniconda3/envs/autoML/lib/python3.7/site-packages (from zict>=0.1.3->distributed>=2.6.0->autogluon-core==0.0.16b20210114) (1.0.1)\n",
      "Requirement already satisfied: soupsieve>1.2 in /home/martin/miniconda3/envs/autoML/lib/python3.7/site-packages (from beautifulsoup4->fastai<2.0,>=1.0->autogluon-tabular==0.0.16b20210114) (2.2.1)\n",
      "Requirement already satisfied: botocore<1.21.0,>=1.20.33 in /home/martin/miniconda3/envs/autoML/lib/python3.7/site-packages (from boto3->autogluon-core==0.0.16b20210114) (1.20.33)\n",
      "Requirement already satisfied: jmespath<1.0.0,>=0.7.1 in /home/martin/miniconda3/envs/autoML/lib/python3.7/site-packages (from boto3->autogluon-core==0.0.16b20210114) (0.10.0)\n",
      "Requirement already satisfied: s3transfer<0.4.0,>=0.3.0 in /home/martin/miniconda3/envs/autoML/lib/python3.7/site-packages (from boto3->autogluon-core==0.0.16b20210114) (0.3.6)\n",
      "Requirement already satisfied: MarkupSafe>=0.23 in /home/martin/miniconda3/envs/autoML/lib/python3.7/site-packages (from jinja2->spacy>=2.0.18->fastai<2.0,>=1.0->autogluon-tabular==0.0.16b20210114) (1.1.1)\n",
      "Requirement already satisfied: cycler>=0.10 in /home/martin/miniconda3/envs/autoML/lib/python3.7/site-packages (from matplotlib->autogluon-core==0.0.16b20210114) (0.10.0)\n",
      "Requirement already satisfied: kiwisolver>=1.0.1 in /home/martin/miniconda3/envs/autoML/lib/python3.7/site-packages (from matplotlib->autogluon-core==0.0.16b20210114) (1.3.1)\n",
      "Requirement already satisfied: retrying>=1.3.3 in /home/martin/miniconda3/envs/autoML/lib/python3.7/site-packages (from plotly->catboost<0.25,>=0.23.0->autogluon-tabular==0.0.16b20210114) (1.3.3)\n"
     ]
    },
    {
     "name": "stdout",
     "output_type": "stream",
     "text": [
      "Requirement already satisfied: pluggy<1.0.0a1,>=0.12 in /home/martin/miniconda3/envs/autoML/lib/python3.7/site-packages (from pytest->autogluon-core==0.0.16b20210114) (0.13.1)\n",
      "Requirement already satisfied: iniconfig in /home/martin/miniconda3/envs/autoML/lib/python3.7/site-packages (from pytest->autogluon-core==0.0.16b20210114) (1.1.1)\n",
      "Requirement already satisfied: toml in /home/martin/miniconda3/envs/autoML/lib/python3.7/site-packages (from pytest->autogluon-core==0.0.16b20210114) (0.10.2)\n",
      "Requirement already satisfied: py>=1.8.2 in /home/martin/miniconda3/envs/autoML/lib/python3.7/site-packages (from pytest->autogluon-core==0.0.16b20210114) (1.10.0)\n",
      "Requirement already satisfied: attrs>=19.2.0 in /home/martin/miniconda3/envs/autoML/lib/python3.7/site-packages (from pytest->autogluon-core==0.0.16b20210114) (20.3.0)\n",
      "Requirement already satisfied: pyaml>=16.9 in /home/martin/miniconda3/envs/autoML/lib/python3.7/site-packages (from scikit-optimize->autogluon-core==0.0.16b20210114) (20.4.0)\n",
      "Requirement already satisfied: protobuf>=3.8.0 in /home/martin/miniconda3/envs/autoML/lib/python3.7/site-packages (from tensorboardx->gluoncv<1.0,>=0.9.1->autogluon-tabular==0.0.16b20210114) (3.15.6)\n",
      "Installing collected packages: scikit-learn\n",
      "  Attempting uninstall: scikit-learn\n",
      "    Found existing installation: scikit-learn 0.24.0\n",
      "    Uninstalling scikit-learn-0.24.0:\n",
      "      Successfully uninstalled scikit-learn-0.24.0\n",
      "\u001b[31mERROR: pip's dependency resolver does not currently take into account all the packages that are installed. This behaviour is the source of the following dependency conflicts.\n",
      "auto-sklearn 0.12.4 requires scikit-learn<0.25.0,>=0.24.0, but you have scikit-learn 0.23.2 which is incompatible.\u001b[0m\n",
      "Successfully installed scikit-learn-0.23.2\n"
     ]
    }
   ],
   "source": [
    "!pip install autogluon-core==0.0.16b20210114 autogluon-tabular==0.0.16b20210114"
   ]
  },
  {
   "cell_type": "code",
   "execution_count": 13,
   "id": "assured-journal",
   "metadata": {},
   "outputs": [
    {
     "name": "stderr",
     "output_type": "stream",
     "text": [
      "/home/martin/miniconda3/envs/autoML/lib/python3.7/site-packages/autograd/numpy/numpy_wrapper.py:20: DeprecationWarning: `np.int` is a deprecated alias for the builtin `int`. To silence this warning, use `int` by itself. Doing this will not modify any behavior and is safe. When replacing `np.int`, you may wish to use e.g. `np.int64` or `np.int32` to specify the precision. If you wish to review your current use, check the release note link for additional information.\n",
      "Deprecated in NumPy 1.20; for more details and guidance: https://numpy.org/devdocs/release/1.20.0-notes.html#deprecations\n",
      "  int_types = {_np.int, _np.int8, _np.int16, _np.int32, _np.int64, _np.integer}\n",
      "/home/martin/miniconda3/envs/autoML/lib/python3.7/site-packages/mxnet/numpy/utils.py:37: DeprecationWarning: `np.bool` is a deprecated alias for the builtin `bool`. To silence this warning, use `bool` by itself. Doing this will not modify any behavior and is safe. If you specifically wanted the numpy scalar type, use `np.bool_` here.\n",
      "Deprecated in NumPy 1.20; for more details and guidance: https://numpy.org/devdocs/release/1.20.0-notes.html#deprecations\n",
      "  bool = onp.bool\n",
      "/home/martin/miniconda3/envs/autoML/lib/python3.7/site-packages/mxnet/numpy/fallback.py:143: DeprecationWarning: In accordance with NEP 32, the function mirr was removed from NumPy version 1.20.  A replacement for this function is available in the numpy_financial library: https://pypi.org/project/numpy-financial\n",
      "  mirr = onp.mirr\n",
      "/home/martin/miniconda3/envs/autoML/lib/python3.7/site-packages/mxnet/numpy/fallback.py:160: DeprecationWarning: In accordance with NEP 32, the function npv was removed from NumPy version 1.20.  A replacement for this function is available in the numpy_financial library: https://pypi.org/project/numpy-financial\n",
      "  npv = onp.npv\n",
      "/home/martin/miniconda3/envs/autoML/lib/python3.7/site-packages/mxnet/numpy/fallback.py:164: DeprecationWarning: In accordance with NEP 32, the function pmt was removed from NumPy version 1.20.  A replacement for this function is available in the numpy_financial library: https://pypi.org/project/numpy-financial\n",
      "  pmt = onp.pmt\n",
      "/home/martin/miniconda3/envs/autoML/lib/python3.7/site-packages/mxnet/numpy/fallback.py:173: DeprecationWarning: In accordance with NEP 32, the function ppmt was removed from NumPy version 1.20.  A replacement for this function is available in the numpy_financial library: https://pypi.org/project/numpy-financial\n",
      "  ppmt = onp.ppmt\n",
      "/home/martin/miniconda3/envs/autoML/lib/python3.7/site-packages/mxnet/numpy/fallback.py:176: DeprecationWarning: In accordance with NEP 32, the function pv was removed from NumPy version 1.20.  A replacement for this function is available in the numpy_financial library: https://pypi.org/project/numpy-financial\n",
      "  pv = onp.pv\n",
      "/home/martin/miniconda3/envs/autoML/lib/python3.7/site-packages/mxnet/numpy/fallback.py:177: DeprecationWarning: In accordance with NEP 32, the function rate was removed from NumPy version 1.20.  A replacement for this function is available in the numpy_financial library: https://pypi.org/project/numpy-financial\n",
      "  rate = onp.rate\n",
      "/home/martin/miniconda3/envs/autoML/lib/python3.7/site-packages/sklearn/feature_extraction/image.py:172: DeprecationWarning: `np.int` is a deprecated alias for the builtin `int`. To silence this warning, use `int` by itself. Doing this will not modify any behavior and is safe. When replacing `np.int`, you may wish to use e.g. `np.int64` or `np.int32` to specify the precision. If you wish to review your current use, check the release note link for additional information.\n",
      "Deprecated in NumPy 1.20; for more details and guidance: https://numpy.org/devdocs/release/1.20.0-notes.html#deprecations\n",
      "  dtype=np.int):\n",
      "/home/martin/miniconda3/envs/autoML/lib/python3.7/site-packages/scipy/io/matlab/mio5.py:98: DeprecationWarning: `np.bool` is a deprecated alias for the builtin `bool`. To silence this warning, use `bool` by itself. Doing this will not modify any behavior and is safe. If you specifically wanted the numpy scalar type, use `np.bool_` here.\n",
      "Deprecated in NumPy 1.20; for more details and guidance: https://numpy.org/devdocs/release/1.20.0-notes.html#deprecations\n",
      "  from .mio5_utils import VarReader5\n"
     ]
    }
   ],
   "source": [
    "from autogluon.tabular import TabularPrediction as task\n",
    "label_column = 'class'\n",
    "X_train = pd.concat([X_train, y_train], axis=1)"
   ]
  },
  {
   "cell_type": "code",
   "execution_count": 16,
   "id": "artificial-coordinate",
   "metadata": {},
   "outputs": [
    {
     "name": "stdout",
     "output_type": "stream",
     "text": [
      "[WARNING] [2021-03-22 14:37:44,820:root] WARNING: Using deprecated argument `time_limits`. Use `time_limit` instead! This will cause an exception in future releases.\n",
      "[WARNING] [2021-03-22 14:37:44,825:root] Warning: `cache_data=False` will disable or limit advanced functionality after training such as feature importance calculations. It is recommended to set `cache_data=True` unless you explicitly wish to not have the data saved to disk.\n",
      "[WARNING] [2021-03-22 14:37:44,827:autogluon.core.utils.utils] Warning: output_directory already exists! This predictor may overwrite an existing predictor! output_directory=\"/tmp/autogluon_regression_example_tmp\"\n",
      "[WARNING] [2021-03-22 14:37:44,831:autogluon.tabular.learner.abstract_learner] Warning: `cache_data=False` will disable or limit advanced functionality after training such as feature importance calculations. It is recommended to set `cache_data=True` unless you explicitly wish to not have the data saved to disk.\n",
      "[1000]\ttrain_set's rmse: 0.00456947\tvalid_set's rmse: 0.133531\n",
      "[2000]\ttrain_set's rmse: 0.0010747\tvalid_set's rmse: 0.133358\n",
      "[1000]\ttrain_set's rmse: 0.00732903\tvalid_set's rmse: 0.165941\n",
      "[2000]\ttrain_set's rmse: 0.00174502\tvalid_set's rmse: 0.163439\n",
      "[3000]\ttrain_set's rmse: 0.000438622\tvalid_set's rmse: 0.162985\n",
      "[4000]\ttrain_set's rmse: 0.000112624\tvalid_set's rmse: 0.162895\n",
      "[5000]\ttrain_set's rmse: 2.95958e-05\tvalid_set's rmse: 0.162879\n",
      "[6000]\ttrain_set's rmse: 7.70912e-06\tvalid_set's rmse: 0.162875\n",
      "[7000]\ttrain_set's rmse: 2.05131e-06\tvalid_set's rmse: 0.162874\n",
      "[8000]\ttrain_set's rmse: 5.91651e-07\tvalid_set's rmse: 0.162873\n",
      "[9000]\ttrain_set's rmse: 1.94868e-07\tvalid_set's rmse: 0.162873\n",
      "[10000]\ttrain_set's rmse: 6.65949e-08\tvalid_set's rmse: 0.162873\n",
      "[1000]\ttrain_set's rmse: 0.00491533\tvalid_set's rmse: 0.122266\n",
      "[2000]\ttrain_set's rmse: 0.00101376\tvalid_set's rmse: 0.119548\n",
      "[3000]\ttrain_set's rmse: 0.00023835\tvalid_set's rmse: 0.118962\n",
      "[4000]\ttrain_set's rmse: 5.69615e-05\tvalid_set's rmse: 0.118818\n",
      "[5000]\ttrain_set's rmse: 1.41307e-05\tvalid_set's rmse: 0.118785\n",
      "[6000]\ttrain_set's rmse: 3.49591e-06\tvalid_set's rmse: 0.118779\n",
      "[7000]\ttrain_set's rmse: 8.92567e-07\tvalid_set's rmse: 0.118778\n",
      "[8000]\ttrain_set's rmse: 2.3804e-07\tvalid_set's rmse: 0.118777\n",
      "[9000]\ttrain_set's rmse: 6.51518e-08\tvalid_set's rmse: 0.118777\n",
      "[10000]\ttrain_set's rmse: 1.80519e-08\tvalid_set's rmse: 0.118777\n",
      "[1000]\ttrain_set's rmse: 0.00788461\tvalid_set's rmse: 0.174703\n",
      "[2000]\ttrain_set's rmse: 0.00187286\tvalid_set's rmse: 0.172813\n",
      "[3000]\ttrain_set's rmse: 0.000554974\tvalid_set's rmse: 0.172339\n",
      "[4000]\ttrain_set's rmse: 0.000173655\tvalid_set's rmse: 0.172232\n",
      "[1000]\ttrain_set's rmse: 0.00896266\tvalid_set's rmse: 0.122928\n",
      "[2000]\ttrain_set's rmse: 0.00267546\tvalid_set's rmse: 0.120154\n",
      "[3000]\ttrain_set's rmse: 0.000752284\tvalid_set's rmse: 0.119306\n",
      "[4000]\ttrain_set's rmse: 0.000242538\tvalid_set's rmse: 0.119148\n",
      "[1000]\ttrain_set's rmse: 0.000442992\tvalid_set's rmse: 0.179714\n",
      "[2000]\ttrain_set's rmse: 1.36068e-05\tvalid_set's rmse: 0.179674\n",
      "[1000]\ttrain_set's rmse: 0.0052852\tvalid_set's rmse: 0.153197\n",
      "[2000]\ttrain_set's rmse: 0.000943732\tvalid_set's rmse: 0.152956\n",
      "[3000]\ttrain_set's rmse: 0.000216624\tvalid_set's rmse: 0.152796\n",
      "[4000]\ttrain_set's rmse: 6.47335e-05\tvalid_set's rmse: 0.152741\n",
      "[5000]\ttrain_set's rmse: 2.42404e-05\tvalid_set's rmse: 0.152729\n",
      "[6000]\ttrain_set's rmse: 8.29404e-06\tvalid_set's rmse: 0.152727\n",
      "[7000]\ttrain_set's rmse: 3.20374e-06\tvalid_set's rmse: 0.152727\n",
      "[8000]\ttrain_set's rmse: 1.1156e-06\tvalid_set's rmse: 0.152726\n",
      "[9000]\ttrain_set's rmse: 3.32339e-07\tvalid_set's rmse: 0.152726\n",
      "[1000]\ttrain_set's rmse: 0.00837283\tvalid_set's rmse: 0.150451\n",
      "[2000]\ttrain_set's rmse: 0.0018469\tvalid_set's rmse: 0.148982\n",
      "[3000]\ttrain_set's rmse: 0.000455694\tvalid_set's rmse: 0.148602\n",
      "[4000]\ttrain_set's rmse: 0.000124136\tvalid_set's rmse: 0.148497\n",
      "[5000]\ttrain_set's rmse: 3.47122e-05\tvalid_set's rmse: 0.148474\n",
      "[6000]\ttrain_set's rmse: 8.63134e-06\tvalid_set's rmse: 0.14847\n",
      "[7000]\ttrain_set's rmse: 1.90755e-06\tvalid_set's rmse: 0.148469\n",
      "[1000]\ttrain_set's rmse: 0.0065787\tvalid_set's rmse: 0.0994657\n",
      "[2000]\ttrain_set's rmse: 0.00131256\tvalid_set's rmse: 0.0990827\n",
      "[1000]\ttrain_set's rmse: 0.00583988\tvalid_set's rmse: 0.15883\n",
      "[2000]\ttrain_set's rmse: 0.000956697\tvalid_set's rmse: 0.157369\n",
      "[3000]\ttrain_set's rmse: 0.000199869\tvalid_set's rmse: 0.157134\n",
      "[4000]\ttrain_set's rmse: 4.65814e-05\tvalid_set's rmse: 0.157098\n",
      "[5000]\ttrain_set's rmse: 1.16169e-05\tvalid_set's rmse: 0.157092\n",
      "[6000]\ttrain_set's rmse: 2.92213e-06\tvalid_set's rmse: 0.157091\n",
      "[7000]\ttrain_set's rmse: 7.52577e-07\tvalid_set's rmse: 0.157091\n",
      "[1000]\ttrain_set's rmse: 0.00567891\tvalid_set's rmse: 0.111206\n",
      "[2000]\ttrain_set's rmse: 0.00120036\tvalid_set's rmse: 0.110308\n",
      "[3000]\ttrain_set's rmse: 0.000223101\tvalid_set's rmse: 0.110172\n",
      "[4000]\ttrain_set's rmse: 5.09838e-05\tvalid_set's rmse: 0.110159\n",
      "[1000]\ttrain_set's rmse: 0.00713977\tvalid_set's rmse: 0.118791\n",
      "[2000]\ttrain_set's rmse: 0.00129369\tvalid_set's rmse: 0.117534\n",
      "[3000]\ttrain_set's rmse: 0.00033709\tvalid_set's rmse: 0.117265\n",
      "[4000]\ttrain_set's rmse: 7.92505e-05\tvalid_set's rmse: 0.117213\n",
      "[1000]\ttrain_set's rmse: 0.00666311\tvalid_set's rmse: 0.139394\n",
      "*** Summary of fit() ***\n",
      "Estimated performance of each model:\n",
      "                     model  score_val  pred_time_val    fit_time  pred_time_val_marginal  fit_time_marginal  stack_level  can_infer  fit_order\n",
      "0      WeightedEnsemble_L1  -0.118848       0.417547   90.089786                0.000632           0.466106            1       True          9\n",
      "1          CatBoost_BAG_L0  -0.121112       0.079443   36.910612                0.079443          36.910612            0       True          6\n",
      "2      WeightedEnsemble_L2  -0.121711       8.848371  395.486255                0.000540           0.422603            2       True         18\n",
      "3          CatBoost_BAG_L1  -0.122422       3.968343  201.612188                0.309650          55.970777            1       True         15\n",
      "4          LightGBM_BAG_L1  -0.123874       3.922244  190.083329                0.263551          44.441918            1       True         13\n",
      "5   RandomForestMSE_BAG_L1  -0.125688       7.966625  251.801924                4.307932         106.160513            1       True         10\n",
      "6           XGBoost_BAG_L0  -0.125811       0.079837    9.349385                0.079837           9.349385            0       True          7\n",
      "7        LightGBMXT_BAG_L1  -0.125846       3.966697  188.490444                0.308005          42.849033            1       True         14\n",
      "8        LightGBMXT_BAG_L0  -0.127079       0.087313   12.432927                0.087313          12.432927            0       True          5\n",
      "9           XGBoost_BAG_L1  -0.127194       3.985095  173.612823                0.326402          27.971411            1       True         16\n",
      "10   LightGBMCustom_BAG_L1  -0.127580       3.867663  219.939290                0.208970          74.297879            1       True         17\n",
      "11         LightGBM_BAG_L0  -0.129466       0.170320   30.930756                0.170320          30.930756            0       True          4\n",
      "12   LightGBMCustom_BAG_L0  -0.142634       0.094321   35.456572                0.094321          35.456572            0       True          8\n",
      "13  RandomForestMSE_BAG_L0  -0.146803       1.063704   20.397941                1.063704          20.397941            0       True          1\n",
      "14   KNeighborsDist_BAG_L1  -0.228129       7.829659  145.980002                4.170966           0.338591            1       True         12\n",
      "15   KNeighborsUnif_BAG_L1  -0.229783       7.831974  145.993199                4.173281           0.351788            1       True         11\n",
      "16   KNeighborsDist_BAG_L0  -0.232939       1.040415    0.080051                1.040415           0.080051            0       True          3\n",
      "17   KNeighborsUnif_BAG_L0  -0.234407       1.043339    0.083167                1.043339           0.083167            0       True          2\n",
      "Number of models trained: 18\n",
      "Types of models trained:\n",
      "{'StackerEnsembleModel_XGBoost', 'StackerEnsembleModel_RF', 'StackerEnsembleModel_LGB', 'StackerEnsembleModel_KNN', 'WeightedEnsembleModel', 'StackerEnsembleModel_CatBoost'}\n",
      "Bagging used: True  (with 10 folds)\n",
      "Multi-layer stack-ensembling used: True  (with 2 levels)\n",
      "Hyperparameter-tuning used: False \n",
      "Feature Metadata (Processed):\n",
      "(raw dtype, special dtypes):\n",
      "('float', []) :   3 | ['LotFrontage', 'MasVnrArea', 'GarageYrBlt']\n",
      "('int', [])   : 299 | ['MSZoning_C (all)', 'MSZoning_FV', 'MSZoning_RH', 'MSZoning_RL', 'MSZoning_RM', ...]\n",
      "*** End of fit() summary ***\n"
     ]
    },
    {
     "name": "stderr",
     "output_type": "stream",
     "text": [
      "/home/martin/miniconda3/envs/autoML/lib/python3.7/site-packages/autogluon/core/utils/plots.py:141: UserWarning: AutoGluon summary plots cannot be created because bokeh is not installed. To see plots, please do: \"pip install bokeh==2.0.1\"\n",
      "  warnings.warn('AutoGluon summary plots cannot be created because bokeh is not installed. To see plots, please do: \"pip install bokeh==2.0.1\"')\n"
     ]
    },
    {
     "data": {
      "text/plain": [
       "{'model_types': {'RandomForestMSE_BAG_L0': 'StackerEnsembleModel_RF',\n",
       "  'KNeighborsUnif_BAG_L0': 'StackerEnsembleModel_KNN',\n",
       "  'KNeighborsDist_BAG_L0': 'StackerEnsembleModel_KNN',\n",
       "  'LightGBM_BAG_L0': 'StackerEnsembleModel_LGB',\n",
       "  'LightGBMXT_BAG_L0': 'StackerEnsembleModel_LGB',\n",
       "  'CatBoost_BAG_L0': 'StackerEnsembleModel_CatBoost',\n",
       "  'XGBoost_BAG_L0': 'StackerEnsembleModel_XGBoost',\n",
       "  'LightGBMCustom_BAG_L0': 'StackerEnsembleModel_LGB',\n",
       "  'WeightedEnsemble_L1': 'WeightedEnsembleModel',\n",
       "  'RandomForestMSE_BAG_L1': 'StackerEnsembleModel_RF',\n",
       "  'KNeighborsUnif_BAG_L1': 'StackerEnsembleModel_KNN',\n",
       "  'KNeighborsDist_BAG_L1': 'StackerEnsembleModel_KNN',\n",
       "  'LightGBM_BAG_L1': 'StackerEnsembleModel_LGB',\n",
       "  'LightGBMXT_BAG_L1': 'StackerEnsembleModel_LGB',\n",
       "  'CatBoost_BAG_L1': 'StackerEnsembleModel_CatBoost',\n",
       "  'XGBoost_BAG_L1': 'StackerEnsembleModel_XGBoost',\n",
       "  'LightGBMCustom_BAG_L1': 'StackerEnsembleModel_LGB',\n",
       "  'WeightedEnsemble_L2': 'WeightedEnsembleModel'},\n",
       " 'model_performance': {'RandomForestMSE_BAG_L0': -0.14680348763546588,\n",
       "  'KNeighborsUnif_BAG_L0': -0.23440669073635853,\n",
       "  'KNeighborsDist_BAG_L0': -0.23293947678590082,\n",
       "  'LightGBM_BAG_L0': -0.12946567427783584,\n",
       "  'LightGBMXT_BAG_L0': -0.12707891182260622,\n",
       "  'CatBoost_BAG_L0': -0.1211119657240855,\n",
       "  'XGBoost_BAG_L0': -0.1258106832414674,\n",
       "  'LightGBMCustom_BAG_L0': -0.14263430523021123,\n",
       "  'WeightedEnsemble_L1': -0.11884846917987332,\n",
       "  'RandomForestMSE_BAG_L1': -0.1256879507788052,\n",
       "  'KNeighborsUnif_BAG_L1': -0.22978333174346097,\n",
       "  'KNeighborsDist_BAG_L1': -0.2281290973424551,\n",
       "  'LightGBM_BAG_L1': -0.1238736804287228,\n",
       "  'LightGBMXT_BAG_L1': -0.12584597914732062,\n",
       "  'CatBoost_BAG_L1': -0.1224217909704758,\n",
       "  'XGBoost_BAG_L1': -0.12719363087673202,\n",
       "  'LightGBMCustom_BAG_L1': -0.12757988103433385,\n",
       "  'WeightedEnsemble_L2': -0.12171122369204145},\n",
       " 'model_best': 'WeightedEnsemble_L1',\n",
       " 'model_paths': {'RandomForestMSE_BAG_L0': '/tmp/autogluon_regression_example_tmp/models/RandomForestMSE_BAG_L0/',\n",
       "  'KNeighborsUnif_BAG_L0': '/tmp/autogluon_regression_example_tmp/models/KNeighborsUnif_BAG_L0/',\n",
       "  'KNeighborsDist_BAG_L0': '/tmp/autogluon_regression_example_tmp/models/KNeighborsDist_BAG_L0/',\n",
       "  'LightGBM_BAG_L0': '/tmp/autogluon_regression_example_tmp/models/LightGBM_BAG_L0/',\n",
       "  'LightGBMXT_BAG_L0': '/tmp/autogluon_regression_example_tmp/models/LightGBMXT_BAG_L0/',\n",
       "  'CatBoost_BAG_L0': '/tmp/autogluon_regression_example_tmp/models/CatBoost_BAG_L0/',\n",
       "  'XGBoost_BAG_L0': '/tmp/autogluon_regression_example_tmp/models/XGBoost_BAG_L0/',\n",
       "  'LightGBMCustom_BAG_L0': '/tmp/autogluon_regression_example_tmp/models/LightGBMCustom_BAG_L0/',\n",
       "  'WeightedEnsemble_L1': '/tmp/autogluon_regression_example_tmp/models/WeightedEnsemble_L1/',\n",
       "  'RandomForestMSE_BAG_L1': '/tmp/autogluon_regression_example_tmp/models/RandomForestMSE_BAG_L1/',\n",
       "  'KNeighborsUnif_BAG_L1': '/tmp/autogluon_regression_example_tmp/models/KNeighborsUnif_BAG_L1/',\n",
       "  'KNeighborsDist_BAG_L1': '/tmp/autogluon_regression_example_tmp/models/KNeighborsDist_BAG_L1/',\n",
       "  'LightGBM_BAG_L1': '/tmp/autogluon_regression_example_tmp/models/LightGBM_BAG_L1/',\n",
       "  'LightGBMXT_BAG_L1': '/tmp/autogluon_regression_example_tmp/models/LightGBMXT_BAG_L1/',\n",
       "  'CatBoost_BAG_L1': '/tmp/autogluon_regression_example_tmp/models/CatBoost_BAG_L1/',\n",
       "  'XGBoost_BAG_L1': '/tmp/autogluon_regression_example_tmp/models/XGBoost_BAG_L1/',\n",
       "  'LightGBMCustom_BAG_L1': '/tmp/autogluon_regression_example_tmp/models/LightGBMCustom_BAG_L1/',\n",
       "  'WeightedEnsemble_L2': '/tmp/autogluon_regression_example_tmp/models/WeightedEnsemble_L2/'},\n",
       " 'model_fit_times': {'RandomForestMSE_BAG_L0': 20.39794135093689,\n",
       "  'KNeighborsUnif_BAG_L0': 0.08316683769226074,\n",
       "  'KNeighborsDist_BAG_L0': 0.08005118370056152,\n",
       "  'LightGBM_BAG_L0': 30.930756092071533,\n",
       "  'LightGBMXT_BAG_L0': 12.432926893234253,\n",
       "  'CatBoost_BAG_L0': 36.91061234474182,\n",
       "  'XGBoost_BAG_L0': 9.349384784698486,\n",
       "  'LightGBMCustom_BAG_L0': 35.45657157897949,\n",
       "  'WeightedEnsemble_L1': 0.46610593795776367,\n",
       "  'RandomForestMSE_BAG_L1': 106.16051316261292,\n",
       "  'KNeighborsUnif_BAG_L1': 0.3517875671386719,\n",
       "  'KNeighborsDist_BAG_L1': 0.3385906219482422,\n",
       "  'LightGBM_BAG_L1': 44.44191765785217,\n",
       "  'LightGBMXT_BAG_L1': 42.84903311729431,\n",
       "  'CatBoost_BAG_L1': 55.9707772731781,\n",
       "  'XGBoost_BAG_L1': 27.97141146659851,\n",
       "  'LightGBMCustom_BAG_L1': 74.2978789806366,\n",
       "  'WeightedEnsemble_L2': 0.42260313034057617},\n",
       " 'model_pred_times': {'RandomForestMSE_BAG_L0': 1.0637037754058838,\n",
       "  'KNeighborsUnif_BAG_L0': 1.0433387756347656,\n",
       "  'KNeighborsDist_BAG_L0': 1.0404150485992432,\n",
       "  'LightGBM_BAG_L0': 0.1703202724456787,\n",
       "  'LightGBMXT_BAG_L0': 0.08731317520141602,\n",
       "  'CatBoost_BAG_L0': 0.07944345474243164,\n",
       "  'XGBoost_BAG_L0': 0.07983732223510742,\n",
       "  'LightGBMCustom_BAG_L0': 0.09432101249694824,\n",
       "  'WeightedEnsemble_L1': 0.0006322860717773438,\n",
       "  'RandomForestMSE_BAG_L1': 4.307932138442993,\n",
       "  'KNeighborsUnif_BAG_L1': 4.173280715942383,\n",
       "  'KNeighborsDist_BAG_L1': 4.170966386795044,\n",
       "  'LightGBM_BAG_L1': 0.2635507583618164,\n",
       "  'LightGBMXT_BAG_L1': 0.30800461769104004,\n",
       "  'CatBoost_BAG_L1': 0.309650182723999,\n",
       "  'XGBoost_BAG_L1': 0.3264024257659912,\n",
       "  'LightGBMCustom_BAG_L1': 0.2089698314666748,\n",
       "  'WeightedEnsemble_L2': 0.0005404949188232422},\n",
       " 'num_bagging_folds': 10,\n",
       " 'max_stack_level': 2,\n",
       " 'feature_prune': False,\n",
       " 'hyperparameter_tune': False,\n",
       " 'model_hyperparams': {'RandomForestMSE_BAG_L0': {'use_orig_features': True,\n",
       "   'max_base_models': 25,\n",
       "   'max_base_models_per_type': 5},\n",
       "  'KNeighborsUnif_BAG_L0': {'use_orig_features': True,\n",
       "   'max_base_models': 25,\n",
       "   'max_base_models_per_type': 5},\n",
       "  'KNeighborsDist_BAG_L0': {'use_orig_features': True,\n",
       "   'max_base_models': 25,\n",
       "   'max_base_models_per_type': 5},\n",
       "  'LightGBM_BAG_L0': {'use_orig_features': True,\n",
       "   'max_base_models': 25,\n",
       "   'max_base_models_per_type': 5},\n",
       "  'LightGBMXT_BAG_L0': {'use_orig_features': True,\n",
       "   'max_base_models': 25,\n",
       "   'max_base_models_per_type': 5},\n",
       "  'CatBoost_BAG_L0': {'use_orig_features': True,\n",
       "   'max_base_models': 25,\n",
       "   'max_base_models_per_type': 5},\n",
       "  'XGBoost_BAG_L0': {'use_orig_features': True,\n",
       "   'max_base_models': 25,\n",
       "   'max_base_models_per_type': 5},\n",
       "  'LightGBMCustom_BAG_L0': {'use_orig_features': True,\n",
       "   'max_base_models': 25,\n",
       "   'max_base_models_per_type': 5},\n",
       "  'WeightedEnsemble_L1': {'use_orig_features': False,\n",
       "   'max_base_models': 25,\n",
       "   'max_base_models_per_type': 5},\n",
       "  'RandomForestMSE_BAG_L1': {'use_orig_features': True,\n",
       "   'max_base_models': 25,\n",
       "   'max_base_models_per_type': 5},\n",
       "  'KNeighborsUnif_BAG_L1': {'use_orig_features': True,\n",
       "   'max_base_models': 25,\n",
       "   'max_base_models_per_type': 5},\n",
       "  'KNeighborsDist_BAG_L1': {'use_orig_features': True,\n",
       "   'max_base_models': 25,\n",
       "   'max_base_models_per_type': 5},\n",
       "  'LightGBM_BAG_L1': {'use_orig_features': True,\n",
       "   'max_base_models': 25,\n",
       "   'max_base_models_per_type': 5},\n",
       "  'LightGBMXT_BAG_L1': {'use_orig_features': True,\n",
       "   'max_base_models': 25,\n",
       "   'max_base_models_per_type': 5},\n",
       "  'CatBoost_BAG_L1': {'use_orig_features': True,\n",
       "   'max_base_models': 25,\n",
       "   'max_base_models_per_type': 5},\n",
       "  'XGBoost_BAG_L1': {'use_orig_features': True,\n",
       "   'max_base_models': 25,\n",
       "   'max_base_models_per_type': 5},\n",
       "  'LightGBMCustom_BAG_L1': {'use_orig_features': True,\n",
       "   'max_base_models': 25,\n",
       "   'max_base_models_per_type': 5},\n",
       "  'WeightedEnsemble_L2': {'use_orig_features': False,\n",
       "   'max_base_models': 25,\n",
       "   'max_base_models_per_type': 5}},\n",
       " 'leaderboard':                      model  score_val  pred_time_val    fit_time  \\\n",
       " 0      WeightedEnsemble_L1  -0.118848       0.417547   90.089786   \n",
       " 1          CatBoost_BAG_L0  -0.121112       0.079443   36.910612   \n",
       " 2      WeightedEnsemble_L2  -0.121711       8.848371  395.486255   \n",
       " 3          CatBoost_BAG_L1  -0.122422       3.968343  201.612188   \n",
       " 4          LightGBM_BAG_L1  -0.123874       3.922244  190.083329   \n",
       " 5   RandomForestMSE_BAG_L1  -0.125688       7.966625  251.801924   \n",
       " 6           XGBoost_BAG_L0  -0.125811       0.079837    9.349385   \n",
       " 7        LightGBMXT_BAG_L1  -0.125846       3.966697  188.490444   \n",
       " 8        LightGBMXT_BAG_L0  -0.127079       0.087313   12.432927   \n",
       " 9           XGBoost_BAG_L1  -0.127194       3.985095  173.612823   \n",
       " 10   LightGBMCustom_BAG_L1  -0.127580       3.867663  219.939290   \n",
       " 11         LightGBM_BAG_L0  -0.129466       0.170320   30.930756   \n",
       " 12   LightGBMCustom_BAG_L0  -0.142634       0.094321   35.456572   \n",
       " 13  RandomForestMSE_BAG_L0  -0.146803       1.063704   20.397941   \n",
       " 14   KNeighborsDist_BAG_L1  -0.228129       7.829659  145.980002   \n",
       " 15   KNeighborsUnif_BAG_L1  -0.229783       7.831974  145.993199   \n",
       " 16   KNeighborsDist_BAG_L0  -0.232939       1.040415    0.080051   \n",
       " 17   KNeighborsUnif_BAG_L0  -0.234407       1.043339    0.083167   \n",
       " \n",
       "     pred_time_val_marginal  fit_time_marginal  stack_level  can_infer  \\\n",
       " 0                 0.000632           0.466106            1       True   \n",
       " 1                 0.079443          36.910612            0       True   \n",
       " 2                 0.000540           0.422603            2       True   \n",
       " 3                 0.309650          55.970777            1       True   \n",
       " 4                 0.263551          44.441918            1       True   \n",
       " 5                 4.307932         106.160513            1       True   \n",
       " 6                 0.079837           9.349385            0       True   \n",
       " 7                 0.308005          42.849033            1       True   \n",
       " 8                 0.087313          12.432927            0       True   \n",
       " 9                 0.326402          27.971411            1       True   \n",
       " 10                0.208970          74.297879            1       True   \n",
       " 11                0.170320          30.930756            0       True   \n",
       " 12                0.094321          35.456572            0       True   \n",
       " 13                1.063704          20.397941            0       True   \n",
       " 14                4.170966           0.338591            1       True   \n",
       " 15                4.173281           0.351788            1       True   \n",
       " 16                1.040415           0.080051            0       True   \n",
       " 17                1.043339           0.083167            0       True   \n",
       " \n",
       "     fit_order  \n",
       " 0           9  \n",
       " 1           6  \n",
       " 2          18  \n",
       " 3          15  \n",
       " 4          13  \n",
       " 5          10  \n",
       " 6           7  \n",
       " 7          14  \n",
       " 8           5  \n",
       " 9          16  \n",
       " 10         17  \n",
       " 11          4  \n",
       " 12          8  \n",
       " 13          1  \n",
       " 14         12  \n",
       " 15         11  \n",
       " 16          3  \n",
       " 17          2  }"
      ]
     },
     "execution_count": 16,
     "metadata": {},
     "output_type": "execute_result"
    }
   ],
   "source": [
    "predictor = task.fit(train_data=X_train, label='SalePrice',\n",
    "                    time_limits=600, output_directory='/tmp/autogluon_regression_example_tmp',\n",
    "                    presets='best_quality', problem_type='regression',\n",
    "                    eval_metric='root_mean_squared_error', auto_stack=True, save_space=True,\n",
    "                    cache_data=False,\n",
    "                    excluded_model_types = ['XT', 'NN', 'FASTAI'],\n",
    "                    nthreads_per_trial=2)\n",
    "y_pred = predictor.predict(X_test)\n",
    "perf = predictor.evaluate_predictions(y_true=y_test, y_pred=y_pred)\n",
    "predictor.fit_summary()"
   ]
  },
  {
   "cell_type": "code",
   "execution_count": 18,
   "id": "clean-dispute",
   "metadata": {},
   "outputs": [
    {
     "data": {
      "text/plain": [
       "0.13033138813696107"
      ]
     },
     "execution_count": 18,
     "metadata": {},
     "output_type": "execute_result"
    }
   ],
   "source": [
    "perf"
   ]
  },
  {
   "cell_type": "code",
   "execution_count": null,
   "id": "mounted-allen",
   "metadata": {},
   "outputs": [],
   "source": []
  },
  {
   "cell_type": "markdown",
   "id": "quick-trainer",
   "metadata": {},
   "source": [
    "## other optimization frameworks"
   ]
  },
  {
   "cell_type": "markdown",
   "id": "legendary-alfred",
   "metadata": {},
   "source": [
    "### scikit-optimize"
   ]
  },
  {
   "cell_type": "code",
   "execution_count": null,
   "id": "aboriginal-binding",
   "metadata": {},
   "outputs": [],
   "source": [
    "from skopt.space import Real, Categorical, Integer\n",
    "from skopt import BayesSearchCV\n",
    "regressor = BayesSearchCV(\n",
    "    GradientBoostingRegressor(),\n",
    "      {\n",
    "         'learning_rate': Real(0.1,0.3),\n",
    "         'loss': Categorical(['lad','ls','huber','quantile']),\n",
    "         'max_depth': Integer(3,6),\n",
    "      },\n",
    "    n_iter=32,\n",
    "    random_state=0,\n",
    "    verbose=1,\n",
    "    cv=5, n_jobs=-1,\n",
    "  )\n",
    "regressor.fit(X_train,y_train)"
   ]
  },
  {
   "cell_type": "markdown",
   "id": "amber-algeria",
   "metadata": {},
   "source": [
    "### TPOT"
   ]
  },
  {
   "cell_type": "code",
   "execution_count": null,
   "id": "considered-citation",
   "metadata": {},
   "outputs": [],
   "source": [
    "from tpot import TPOTClassifier \n",
    "from sklearn.datasets import load_digits \n",
    "from sklearn.model_selection import train_test_split \n",
    "\n",
    "digits = load_digits() \n",
    "X_train, X_test, y_train, y_test = train_test_split(digits.data, digits.target, train_size=0.75, test_size=0.25, random_state=42) \n",
    "tpot = TPOTClassifier(generations=5, population_size=50, verbosity=2, random_state=42) \n",
    "tpot.fit(X_train, y_train) \n",
    "print(tpot.score(X_test, y_test)) \n",
    "tpot.export('tpot_digits_pipeline.py')"
   ]
  }
 ],
 "metadata": {
  "kernelspec": {
   "display_name": "Python [conda env:autoML]",
   "language": "python",
   "name": "conda-env-autoML-py"
  },
  "language_info": {
   "codemirror_mode": {
    "name": "ipython",
    "version": 3
   },
   "file_extension": ".py",
   "mimetype": "text/x-python",
   "name": "python",
   "nbconvert_exporter": "python",
   "pygments_lexer": "ipython3",
   "version": "3.7.10"
  }
 },
 "nbformat": 4,
 "nbformat_minor": 5
}
