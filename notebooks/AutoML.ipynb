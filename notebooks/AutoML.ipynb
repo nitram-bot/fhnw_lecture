{
 "cells": [
  {
   "cell_type": "markdown",
   "id": "seven-burke",
   "metadata": {},
   "source": [
    "__Xgboost__ is one of the most popular machine-learning algorithms but the number of possible parameter combinations goes towards infinity:\n",
    "- Booster: gbtree, gblinear or dart; gbtree and dart \n",
    "- disable_default_eval_metric \n",
    "- eta [default=0.3, alias: learning_rate]\n",
    "- gamma [default=0, alias: min_split_loss]\n",
    "- max_depth [default=6]\n",
    "- min_child_weight [default=1]\n",
    "- max_delta_step [default=0]\n",
    "- subsample [default=1]\n",
    "- colsample_bytree \n",
    "- colsample_bylevel \n",
    "- colsample_bynode \n",
    "- lambda [default=1, alias: reg_lambda]\n",
    "- alpha [default=0, alias: reg_alpha]\n",
    "- tree_method string [default= auto\n",
    "- sketch_eps [default=0.03]\n",
    "- scale_pos_weight [default=1]\n",
    "- refresh_leaf [default=1]\n",
    "- process_type [default= default]\n",
    "- grow_policy [default= depthwise]\n",
    "- max_leaves [default=0]\n",
    "- max_bin, [default=256]\n",
    "- sample_type [default= uniform]\n",
    "- normalize_type [default= tree]\n",
    "- rate_drop [default=0.0]\n",
    "- one_drop [default=0]\n",
    "- skip_drop [default=0.0]\n",
    "- updater [default= shotgun]\n",
    "\n"
   ]
  },
  {
   "cell_type": "markdown",
   "id": "handled-swing",
   "metadata": {},
   "source": [
    " - [BigML](https://bigml.com/)\n",
    " - [H2O.ai](http://docs.h2o.ai/h2o/latest-stable/h2o-docs/automl.html)\n",
    " - [rapidminer](https://rapidminer.com/products/go/)\n",
    " - [DataRobot](https://www.datarobot.com/solutions/data-scientists/)\n",
    " - [Microsoft Azure](https://azure.microsoft.com/en-us/services/machine-learning/automatedml/)\n",
    " - [Google Cloud AutoML](https://cloud.google.com/automl)\n",
    " - [Amazon AutoML](https://aws.amazon.com/blogs/machine-learning/code-free-machine-learning-automl-with-autogluon-amazon-sagemaker-and-aws-lambda/)\n",
    "\n",
    "A competitor from Zurich:\n",
    " - [Modulus.ai](https://www.modulos.ai/)"
   ]
  },
  {
   "cell_type": "markdown",
   "id": "threaded-andrew",
   "metadata": {},
   "source": [
    "<img alt=\"\" caption=\"Bayesian Optimization: surrogate function (black, blue) and acquisition function (green)\" \n",
    "id=\"bayesian_optimization\" src=\"../images/image4.png\" width=\"320\" height=\"320\">\n"
   ]
  },
  {
   "cell_type": "markdown",
   "id": "minute-knock",
   "metadata": {},
   "source": [
    "<img alt=\"\" caption=\"Auto-Sklearn\" \n",
    "id=\"auto-sklearn\" src=\"../images/image3.png\" width=\"720\" height=\"520\">\n"
   ]
  },
  {
   "cell_type": "markdown",
   "id": "interracial-radar",
   "metadata": {},
   "source": [
    "__SMAC__ (sequential model-based algorithm configuration)\n",
    "\n",
    " - Data Set gets divided into n folds\n",
    " - For each fold, characteristics of the data are determined and a signature for this fold is calculated with PCA\n",
    " - A hyperparameter configuration applied to a fold leads to the following result c (cost) `[h1, h2, h3, h4, h5][s1, s2, s3] -> c`\n",
    " - Initially, random combinations of hyperparameters and data folds are evaluated to obtain measurement points\n",
    " - For these combinations random forests are calculated\n",
    " - New configurations (candidates) are combined with all data-folds signatures and classified by the random forest\n",
    " - The predictions of the end-leaves of the random forest are averaged over all data-fold signatures and these results are summed up over all trees in the forest. This results in mean values and variances that are used in the acquisition function (max. objective, min uncertainty).\n",
    " - In this way, many different parameter combinations can be tested without having to teach the actual ML algorithm with the new parameter configurations.\n",
    " - The hyperparameter combinations with the highest values in the acquisition function are tested against the incumbent (best combination so far) on the ML algorithm. Thus, new measuring points are created and the random forest is relearned.\n"
   ]
  },
  {
   "cell_type": "markdown",
   "id": "biblical-sheet",
   "metadata": {},
   "source": [
    "[install auto-sklearn](https://automl.github.io/auto-sklearn/master/installation.html)"
   ]
  },
  {
   "cell_type": "code",
   "execution_count": 1,
   "id": "latest-belarus",
   "metadata": {},
   "outputs": [
    {
     "name": "stdout",
     "output_type": "stream",
     "text": [
      "Requirement already satisfied: setuptools in /home/martin/miniconda3/envs/autoML/lib/python3.7/site-packages (52.0.0.post20210125)\n",
      "Requirement already satisfied: numpy>=1.9.0 in /home/martin/miniconda3/envs/autoML/lib/python3.7/site-packages (1.20.1)\n",
      "Requirement already satisfied: scipy>=0.14.1 in /home/martin/miniconda3/envs/autoML/lib/python3.7/site-packages (1.6.1)\n",
      "Requirement already satisfied: numpy>=1.16.5 in /home/martin/miniconda3/envs/autoML/lib/python3.7/site-packages (from scipy>=0.14.1) (1.20.1)\n",
      "Requirement already satisfied: joblib in /home/martin/miniconda3/envs/autoML/lib/python3.7/site-packages (1.0.1)\n",
      "Requirement already satisfied: scikit-learn<0.25.0,>=0.24.0 in /home/martin/miniconda3/envs/autoML/lib/python3.7/site-packages (0.24.1)\n",
      "Requirement already satisfied: threadpoolctl>=2.0.0 in /home/martin/miniconda3/envs/autoML/lib/python3.7/site-packages (from scikit-learn<0.25.0,>=0.24.0) (2.1.0)\n",
      "Requirement already satisfied: numpy>=1.13.3 in /home/martin/miniconda3/envs/autoML/lib/python3.7/site-packages (from scikit-learn<0.25.0,>=0.24.0) (1.20.1)\n",
      "Requirement already satisfied: scipy>=0.19.1 in /home/martin/miniconda3/envs/autoML/lib/python3.7/site-packages (from scikit-learn<0.25.0,>=0.24.0) (1.6.1)\n",
      "Requirement already satisfied: joblib>=0.11 in /home/martin/miniconda3/envs/autoML/lib/python3.7/site-packages (from scikit-learn<0.25.0,>=0.24.0) (1.0.1)\n",
      "Collecting dask\n",
      "  Using cached dask-2021.3.0-py3-none-any.whl (925 kB)\n",
      "Collecting pyyaml\n",
      "  Downloading PyYAML-5.4.1-cp37-cp37m-manylinux1_x86_64.whl (636 kB)\n",
      "\u001b[K     |████████████████████████████████| 636 kB 6.2 MB/s eta 0:00:01\n",
      "\u001b[?25hInstalling collected packages: pyyaml, dask\n",
      "Successfully installed dask-2021.3.0 pyyaml-5.4.1\n",
      "Collecting distributed>=2.2.0\n",
      "  Using cached distributed-2021.3.0-py3-none-any.whl (675 kB)\n",
      "Collecting msgpack>=0.6.0\n",
      "  Downloading msgpack-1.0.2-cp37-cp37m-manylinux1_x86_64.whl (273 kB)\n",
      "\u001b[K     |████████████████████████████████| 273 kB 4.3 MB/s eta 0:00:01\n",
      "\u001b[?25hRequirement already satisfied: pyyaml in /home/martin/miniconda3/envs/autoML/lib/python3.7/site-packages (from distributed>=2.2.0) (5.4.1)\n",
      "Collecting psutil>=5.0\n",
      "  Downloading psutil-5.8.0-cp37-cp37m-manylinux2010_x86_64.whl (296 kB)\n",
      "\u001b[K     |████████████████████████████████| 296 kB 7.1 MB/s eta 0:00:01\n",
      "\u001b[?25hRequirement already satisfied: tornado>=5 in /home/martin/miniconda3/envs/autoML/lib/python3.7/site-packages (from distributed>=2.2.0) (6.1)\n",
      "Requirement already satisfied: setuptools in /home/martin/miniconda3/envs/autoML/lib/python3.7/site-packages (from distributed>=2.2.0) (52.0.0.post20210125)\n",
      "Collecting toolz>=0.8.2\n",
      "  Using cached toolz-0.11.1-py3-none-any.whl (55 kB)\n",
      "Collecting cloudpickle>=1.5.0\n",
      "  Using cached cloudpickle-1.6.0-py3-none-any.whl (23 kB)\n",
      "Collecting click>=6.6\n",
      "  Using cached click-7.1.2-py2.py3-none-any.whl (82 kB)\n",
      "Collecting zict>=0.1.3\n",
      "  Using cached zict-2.0.0-py3-none-any.whl (10 kB)\n",
      "Collecting tblib>=1.6.0\n",
      "  Using cached tblib-1.7.0-py2.py3-none-any.whl (12 kB)\n",
      "Requirement already satisfied: dask>=2021.03.0 in /home/martin/miniconda3/envs/autoML/lib/python3.7/site-packages (from distributed>=2.2.0) (2021.3.0)\n",
      "Collecting sortedcontainers!=2.0.0,!=2.0.1\n",
      "  Using cached sortedcontainers-2.3.0-py2.py3-none-any.whl (29 kB)\n",
      "Collecting heapdict\n",
      "  Using cached HeapDict-1.0.1-py3-none-any.whl (3.9 kB)\n",
      "Installing collected packages: heapdict, zict, toolz, tblib, sortedcontainers, psutil, msgpack, cloudpickle, click, distributed\n",
      "Successfully installed click-7.1.2 cloudpickle-1.6.0 distributed-2021.3.0 heapdict-1.0.1 msgpack-1.0.2 psutil-5.8.0 sortedcontainers-2.3.0 tblib-1.7.0 toolz-0.11.1 zict-2.0.0\n",
      "Requirement already satisfied: pyyaml in /home/martin/miniconda3/envs/autoML/lib/python3.7/site-packages (5.4.1)\n",
      "Collecting pandas>=1.0\n",
      "  Downloading pandas-1.2.3-cp37-cp37m-manylinux1_x86_64.whl (9.9 MB)\n",
      "\u001b[K     |████████████████████████████████| 9.9 MB 7.7 MB/s eta 0:00:01     |▋                               | 184 kB 4.9 MB/s eta 0:00:02     |█████████████████████▎          | 6.6 MB 4.9 MB/s eta 0:00:01\n",
      "\u001b[?25hRequirement already satisfied: python-dateutil>=2.7.3 in /home/martin/miniconda3/envs/autoML/lib/python3.7/site-packages (from pandas>=1.0) (2.8.1)\n",
      "Collecting pytz>=2017.3\n",
      "  Downloading pytz-2021.1-py2.py3-none-any.whl (510 kB)\n",
      "\u001b[K     |████████████████████████████████| 510 kB 7.3 MB/s eta 0:00:01\n",
      "\u001b[?25hRequirement already satisfied: numpy>=1.16.5 in /home/martin/miniconda3/envs/autoML/lib/python3.7/site-packages (from pandas>=1.0) (1.20.1)\n",
      "Requirement already satisfied: six>=1.5 in /home/martin/miniconda3/envs/autoML/lib/python3.7/site-packages (from python-dateutil>=2.7.3->pandas>=1.0) (1.15.0)\n",
      "Installing collected packages: pytz, pandas\n",
      "Successfully installed pandas-1.2.3 pytz-2021.1\n",
      "Collecting liac-arff\n",
      "  Using cached liac-arff-2.5.0.tar.gz (13 kB)\n",
      "Building wheels for collected packages: liac-arff\n",
      "  Building wheel for liac-arff (setup.py) ... \u001b[?25ldone\n",
      "\u001b[?25h  Created wheel for liac-arff: filename=liac_arff-2.5.0-py3-none-any.whl size=11731 sha256=48e7ef22426cd10149b7567e8535b1e35147cbf73fe76c06ea6330fc17330bd0\n",
      "  Stored in directory: /home/martin/.cache/pip/wheels/1f/0f/15/332ca86cbebf25ddf98518caaf887945fbe1712b97a0f2493b\n",
      "Successfully built liac-arff\n",
      "Installing collected packages: liac-arff\n",
      "Successfully installed liac-arff-2.5.0\n",
      "Collecting ConfigSpace<0.5,>=0.4.14\n",
      "  Using cached ConfigSpace-0.4.18.tar.gz (950 kB)\n",
      "  Installing build dependencies ... \u001b[?25ldone\n",
      "\u001b[?25h  Getting requirements to build wheel ... \u001b[?25ldone\n",
      "\u001b[?25h    Preparing wheel metadata ... \u001b[?25ldone\n",
      "\u001b[?25hRequirement already satisfied: numpy in /home/martin/miniconda3/envs/autoML/lib/python3.7/site-packages (from ConfigSpace<0.5,>=0.4.14) (1.20.1)\n",
      "Collecting cython\n",
      "  Using cached Cython-0.29.22-cp37-cp37m-manylinux1_x86_64.whl (2.0 MB)\n",
      "Collecting pyparsing\n",
      "  Downloading pyparsing-2.4.7-py2.py3-none-any.whl (67 kB)\n",
      "\u001b[K     |████████████████████████████████| 67 kB 4.4 MB/s eta 0:00:011\n",
      "\u001b[?25hBuilding wheels for collected packages: ConfigSpace\n",
      "  Building wheel for ConfigSpace (PEP 517) ... \u001b[?25ldone\n",
      "\u001b[?25h  Created wheel for ConfigSpace: filename=ConfigSpace-0.4.18-cp37-cp37m-linux_x86_64.whl size=4094615 sha256=59150acc47d04dc511a926407fdd495beaa6f8ea5dd6f6ee726dc841d006cf24\n",
      "  Stored in directory: /home/martin/.cache/pip/wheels/36/f7/0f/36f368c419ea1a8024fc3d6c078c3111dfef43fa1d14cfebe0\n",
      "Successfully built ConfigSpace\n",
      "Installing collected packages: pyparsing, cython, ConfigSpace\n",
      "Successfully installed ConfigSpace-0.4.18 cython-0.29.22 pyparsing-2.4.7\n",
      "Collecting pynisher>=0.6.3\n",
      "  Using cached pynisher-0.6.4.tar.gz (11 kB)\n",
      "Requirement already satisfied: setuptools in /home/martin/miniconda3/envs/autoML/lib/python3.7/site-packages (from pynisher>=0.6.3) (52.0.0.post20210125)\n",
      "Requirement already satisfied: psutil in /home/martin/miniconda3/envs/autoML/lib/python3.7/site-packages (from pynisher>=0.6.3) (5.8.0)\n",
      "Building wheels for collected packages: pynisher\n",
      "  Building wheel for pynisher (setup.py) ... \u001b[?25ldone\n",
      "\u001b[?25h  Created wheel for pynisher: filename=pynisher-0.6.4-py3-none-any.whl size=7043 sha256=84105ecf25ba0101d5519e2727663548dda2a54fc37ed94bfc042a8e50a8bf9b\n",
      "  Stored in directory: /home/martin/.cache/pip/wheels/42/71/95/7555ec3253e1ba8add72ae5febf1b015d297f3b73ba296d6f6\n",
      "Successfully built pynisher\n",
      "Installing collected packages: pynisher\n",
      "Successfully installed pynisher-0.6.4\n",
      "Collecting pyrfr<0.9,>=0.7\n",
      "  Downloading pyrfr-0.8.1-cp37-cp37m-manylinux2014_x86_64.whl (4.0 MB)\n",
      "\u001b[K     |████████████████████████████████| 4.0 MB 6.5 MB/s eta 0:00:01\n",
      "\u001b[?25hInstalling collected packages: pyrfr\n",
      "Successfully installed pyrfr-0.8.1\n",
      "Collecting smac<0.14,>=0.13.1\n",
      "  Using cached smac-0.13.1.tar.gz (258 kB)\n",
      "Requirement already satisfied: numpy>=1.7.1 in /home/martin/miniconda3/envs/autoML/lib/python3.7/site-packages (from smac<0.14,>=0.13.1) (1.20.1)\n",
      "Requirement already satisfied: scipy>=0.18.1 in /home/martin/miniconda3/envs/autoML/lib/python3.7/site-packages (from smac<0.14,>=0.13.1) (1.6.1)\n",
      "Requirement already satisfied: psutil in /home/martin/miniconda3/envs/autoML/lib/python3.7/site-packages (from smac<0.14,>=0.13.1) (5.8.0)\n",
      "Requirement already satisfied: pynisher>=0.4.1 in /home/martin/miniconda3/envs/autoML/lib/python3.7/site-packages (from smac<0.14,>=0.13.1) (0.6.4)\n",
      "Requirement already satisfied: ConfigSpace<0.5,>=0.4.14 in /home/martin/miniconda3/envs/autoML/lib/python3.7/site-packages (from smac<0.14,>=0.13.1) (0.4.18)\n",
      "Requirement already satisfied: joblib in /home/martin/miniconda3/envs/autoML/lib/python3.7/site-packages (from smac<0.14,>=0.13.1) (1.0.1)\n",
      "Requirement already satisfied: scikit-learn>=0.22.0 in /home/martin/miniconda3/envs/autoML/lib/python3.7/site-packages (from smac<0.14,>=0.13.1) (0.24.1)\n",
      "Requirement already satisfied: pyrfr>=0.8.0 in /home/martin/miniconda3/envs/autoML/lib/python3.7/site-packages (from smac<0.14,>=0.13.1) (0.8.1)\n",
      "Collecting lazy_import\n",
      "  Using cached lazy_import-0.2.2.tar.gz (15 kB)\n"
     ]
    },
    {
     "name": "stdout",
     "output_type": "stream",
     "text": [
      "Requirement already satisfied: dask in /home/martin/miniconda3/envs/autoML/lib/python3.7/site-packages (from smac<0.14,>=0.13.1) (2021.3.0)\n",
      "Requirement already satisfied: distributed in /home/martin/miniconda3/envs/autoML/lib/python3.7/site-packages (from smac<0.14,>=0.13.1) (2021.3.0)\n",
      "Requirement already satisfied: pyparsing in /home/martin/miniconda3/envs/autoML/lib/python3.7/site-packages (from ConfigSpace<0.5,>=0.4.14->smac<0.14,>=0.13.1) (2.4.7)\n",
      "Requirement already satisfied: cython in /home/martin/miniconda3/envs/autoML/lib/python3.7/site-packages (from ConfigSpace<0.5,>=0.4.14->smac<0.14,>=0.13.1) (0.29.22)\n",
      "Requirement already satisfied: setuptools in /home/martin/miniconda3/envs/autoML/lib/python3.7/site-packages (from pynisher>=0.4.1->smac<0.14,>=0.13.1) (52.0.0.post20210125)\n",
      "Requirement already satisfied: threadpoolctl>=2.0.0 in /home/martin/miniconda3/envs/autoML/lib/python3.7/site-packages (from scikit-learn>=0.22.0->smac<0.14,>=0.13.1) (2.1.0)\n",
      "Requirement already satisfied: pyyaml in /home/martin/miniconda3/envs/autoML/lib/python3.7/site-packages (from dask->smac<0.14,>=0.13.1) (5.4.1)\n",
      "Requirement already satisfied: cloudpickle>=1.5.0 in /home/martin/miniconda3/envs/autoML/lib/python3.7/site-packages (from distributed->smac<0.14,>=0.13.1) (1.6.0)\n",
      "Requirement already satisfied: msgpack>=0.6.0 in /home/martin/miniconda3/envs/autoML/lib/python3.7/site-packages (from distributed->smac<0.14,>=0.13.1) (1.0.2)\n",
      "Requirement already satisfied: tblib>=1.6.0 in /home/martin/miniconda3/envs/autoML/lib/python3.7/site-packages (from distributed->smac<0.14,>=0.13.1) (1.7.0)\n",
      "Requirement already satisfied: tornado>=5 in /home/martin/miniconda3/envs/autoML/lib/python3.7/site-packages (from distributed->smac<0.14,>=0.13.1) (6.1)\n",
      "Requirement already satisfied: click>=6.6 in /home/martin/miniconda3/envs/autoML/lib/python3.7/site-packages (from distributed->smac<0.14,>=0.13.1) (7.1.2)\n",
      "Requirement already satisfied: zict>=0.1.3 in /home/martin/miniconda3/envs/autoML/lib/python3.7/site-packages (from distributed->smac<0.14,>=0.13.1) (2.0.0)\n",
      "Requirement already satisfied: sortedcontainers!=2.0.0,!=2.0.1 in /home/martin/miniconda3/envs/autoML/lib/python3.7/site-packages (from distributed->smac<0.14,>=0.13.1) (2.3.0)\n",
      "Requirement already satisfied: toolz>=0.8.2 in /home/martin/miniconda3/envs/autoML/lib/python3.7/site-packages (from distributed->smac<0.14,>=0.13.1) (0.11.1)\n",
      "Requirement already satisfied: heapdict in /home/martin/miniconda3/envs/autoML/lib/python3.7/site-packages (from zict>=0.1.3->distributed->smac<0.14,>=0.13.1) (1.0.1)\n",
      "Requirement already satisfied: six in /home/martin/miniconda3/envs/autoML/lib/python3.7/site-packages (from lazy_import->smac<0.14,>=0.13.1) (1.15.0)\n",
      "Building wheels for collected packages: smac, lazy-import\n",
      "  Building wheel for smac (setup.py) ... \u001b[?25ldone\n",
      "\u001b[?25h  Created wheel for smac: filename=smac-0.13.1-py3-none-any.whl size=252181 sha256=161a519b699add7c1b47d45d48d3db74b403fcf362a994d54d440823bf8c537a\n",
      "  Stored in directory: /home/martin/.cache/pip/wheels/35/b9/6b/17b5f3d627b1be6cdcc5357f797bd9e4ea8cbae3d1ff00e621\n",
      "  Building wheel for lazy-import (setup.py) ... \u001b[?25ldone\n",
      "\u001b[?25h  Created wheel for lazy-import: filename=lazy_import-0.2.2-py2.py3-none-any.whl size=16486 sha256=a0eeb389a827cda86e1b1ef7baa0b6383100c786e20f4ac691a5aa6ec0802f7f\n",
      "  Stored in directory: /home/martin/.cache/pip/wheels/e6/8e/c7/c338956a635caa3b3153cd8e49b183badb75230ecf19144dff\n",
      "Successfully built smac lazy-import\n",
      "Installing collected packages: lazy-import, smac\n",
      "Successfully installed lazy-import-0.2.2 smac-0.13.1\n"
     ]
    }
   ],
   "source": [
    "# curl https://raw.githubusercontent.com/automl/auto-sklearn/master/requirements.txt | xargs -n 1 -L 1 pip3 install\n",
    "! cat auto-sklearn-requirements.txt | xargs -n 1 -L 1 pip3 install"
   ]
  },
  {
   "cell_type": "code",
   "execution_count": 2,
   "id": "mexican-tablet",
   "metadata": {},
   "outputs": [
    {
     "name": "stdout",
     "output_type": "stream",
     "text": [
      "Collecting auto-sklearn\n",
      "  Using cached auto-sklearn-0.12.4.tar.gz (6.1 MB)\n",
      "Requirement already satisfied: setuptools in /home/martin/miniconda3/envs/autoML/lib/python3.7/site-packages (from auto-sklearn) (52.0.0.post20210125)\n",
      "Requirement already satisfied: numpy>=1.9.0 in /home/martin/miniconda3/envs/autoML/lib/python3.7/site-packages (from auto-sklearn) (1.20.1)\n",
      "Requirement already satisfied: scipy>=0.14.1 in /home/martin/miniconda3/envs/autoML/lib/python3.7/site-packages (from auto-sklearn) (1.6.1)\n",
      "Requirement already satisfied: joblib in /home/martin/miniconda3/envs/autoML/lib/python3.7/site-packages (from auto-sklearn) (1.0.1)\n",
      "Requirement already satisfied: scikit-learn<0.25.0,>=0.24.0 in /home/martin/miniconda3/envs/autoML/lib/python3.7/site-packages (from auto-sklearn) (0.24.1)\n",
      "Requirement already satisfied: dask in /home/martin/miniconda3/envs/autoML/lib/python3.7/site-packages (from auto-sklearn) (2021.3.0)\n",
      "Requirement already satisfied: distributed>=2.2.0 in /home/martin/miniconda3/envs/autoML/lib/python3.7/site-packages (from auto-sklearn) (2021.3.0)\n",
      "Requirement already satisfied: pyyaml in /home/martin/miniconda3/envs/autoML/lib/python3.7/site-packages (from auto-sklearn) (5.4.1)\n",
      "Requirement already satisfied: pandas>=1.0 in /home/martin/miniconda3/envs/autoML/lib/python3.7/site-packages (from auto-sklearn) (1.2.3)\n",
      "Requirement already satisfied: liac-arff in /home/martin/miniconda3/envs/autoML/lib/python3.7/site-packages (from auto-sklearn) (2.5.0)\n",
      "Requirement already satisfied: ConfigSpace<0.5,>=0.4.14 in /home/martin/miniconda3/envs/autoML/lib/python3.7/site-packages (from auto-sklearn) (0.4.18)\n",
      "Requirement already satisfied: pynisher>=0.6.3 in /home/martin/miniconda3/envs/autoML/lib/python3.7/site-packages (from auto-sklearn) (0.6.4)\n",
      "Requirement already satisfied: pyrfr<0.9,>=0.8.1 in /home/martin/miniconda3/envs/autoML/lib/python3.7/site-packages (from auto-sklearn) (0.8.1)\n",
      "Requirement already satisfied: smac<0.14,>=0.13.1 in /home/martin/miniconda3/envs/autoML/lib/python3.7/site-packages (from auto-sklearn) (0.13.1)\n",
      "Requirement already satisfied: pyparsing in /home/martin/miniconda3/envs/autoML/lib/python3.7/site-packages (from ConfigSpace<0.5,>=0.4.14->auto-sklearn) (2.4.7)\n",
      "Requirement already satisfied: cython in /home/martin/miniconda3/envs/autoML/lib/python3.7/site-packages (from ConfigSpace<0.5,>=0.4.14->auto-sklearn) (0.29.22)\n",
      "Requirement already satisfied: zict>=0.1.3 in /home/martin/miniconda3/envs/autoML/lib/python3.7/site-packages (from distributed>=2.2.0->auto-sklearn) (2.0.0)\n",
      "Requirement already satisfied: psutil>=5.0 in /home/martin/miniconda3/envs/autoML/lib/python3.7/site-packages (from distributed>=2.2.0->auto-sklearn) (5.8.0)\n",
      "Requirement already satisfied: msgpack>=0.6.0 in /home/martin/miniconda3/envs/autoML/lib/python3.7/site-packages (from distributed>=2.2.0->auto-sklearn) (1.0.2)\n",
      "Requirement already satisfied: cloudpickle>=1.5.0 in /home/martin/miniconda3/envs/autoML/lib/python3.7/site-packages (from distributed>=2.2.0->auto-sklearn) (1.6.0)\n",
      "Requirement already satisfied: sortedcontainers!=2.0.0,!=2.0.1 in /home/martin/miniconda3/envs/autoML/lib/python3.7/site-packages (from distributed>=2.2.0->auto-sklearn) (2.3.0)\n",
      "Requirement already satisfied: toolz>=0.8.2 in /home/martin/miniconda3/envs/autoML/lib/python3.7/site-packages (from distributed>=2.2.0->auto-sklearn) (0.11.1)\n",
      "Requirement already satisfied: tblib>=1.6.0 in /home/martin/miniconda3/envs/autoML/lib/python3.7/site-packages (from distributed>=2.2.0->auto-sklearn) (1.7.0)\n",
      "Requirement already satisfied: tornado>=5 in /home/martin/miniconda3/envs/autoML/lib/python3.7/site-packages (from distributed>=2.2.0->auto-sklearn) (6.1)\n",
      "Requirement already satisfied: click>=6.6 in /home/martin/miniconda3/envs/autoML/lib/python3.7/site-packages (from distributed>=2.2.0->auto-sklearn) (7.1.2)\n",
      "Requirement already satisfied: pytz>=2017.3 in /home/martin/miniconda3/envs/autoML/lib/python3.7/site-packages (from pandas>=1.0->auto-sklearn) (2021.1)\n",
      "Requirement already satisfied: python-dateutil>=2.7.3 in /home/martin/miniconda3/envs/autoML/lib/python3.7/site-packages (from pandas>=1.0->auto-sklearn) (2.8.1)\n",
      "Requirement already satisfied: six>=1.5 in /home/martin/miniconda3/envs/autoML/lib/python3.7/site-packages (from python-dateutil>=2.7.3->pandas>=1.0->auto-sklearn) (1.15.0)\n",
      "Requirement already satisfied: threadpoolctl>=2.0.0 in /home/martin/miniconda3/envs/autoML/lib/python3.7/site-packages (from scikit-learn<0.25.0,>=0.24.0->auto-sklearn) (2.1.0)\n",
      "Requirement already satisfied: lazy-import in /home/martin/miniconda3/envs/autoML/lib/python3.7/site-packages (from smac<0.14,>=0.13.1->auto-sklearn) (0.2.2)\n",
      "Requirement already satisfied: heapdict in /home/martin/miniconda3/envs/autoML/lib/python3.7/site-packages (from zict>=0.1.3->distributed>=2.2.0->auto-sklearn) (1.0.1)\n",
      "Building wheels for collected packages: auto-sklearn\n",
      "  Building wheel for auto-sklearn (setup.py) ... \u001b[?25ldone\n",
      "\u001b[?25h  Created wheel for auto-sklearn: filename=auto_sklearn-0.12.4-py3-none-any.whl size=6367618 sha256=3b6a3d1c9c393eba0823d1b7f0b0415fe83932d33d8e4054b867ad711050542e\n",
      "  Stored in directory: /home/martin/.cache/pip/wheels/ab/00/0d/f7edef58d6fce191e5f8f9396a7a2e1fd860e5a9256b2dc7d4\n",
      "Successfully built auto-sklearn\n",
      "Installing collected packages: auto-sklearn\n",
      "Successfully installed auto-sklearn-0.12.4\n"
     ]
    }
   ],
   "source": [
    "!pip install auto-sklearn"
   ]
  },
  {
   "cell_type": "code",
   "execution_count": 6,
   "id": "brutal-pleasure",
   "metadata": {},
   "outputs": [],
   "source": [
    "import sklearn.metrics\n",
    "import autosklearn.regression\n",
    "import pandas as pd"
   ]
  },
  {
   "cell_type": "markdown",
   "id": "artificial-meter",
   "metadata": {},
   "source": [
    "## let's attack our house-prices example"
   ]
  },
  {
   "cell_type": "code",
   "execution_count": 5,
   "id": "outstanding-messenger",
   "metadata": {},
   "outputs": [
    {
     "name": "stdout",
     "output_type": "stream",
     "text": [
      "/home/martin/python/fhnw_lecture/notebooks\r\n"
     ]
    }
   ],
   "source": [
    "!pwd"
   ]
  },
  {
   "cell_type": "code",
   "execution_count": 7,
   "id": "thick-three",
   "metadata": {},
   "outputs": [],
   "source": [
    "train = pd.read_csv('../data/train.csv', sep=\",\")\n",
    "test = pd.read_csv('../data/test.csv')"
   ]
  },
  {
   "cell_type": "code",
   "execution_count": null,
   "id": "respected-pearl",
   "metadata": {},
   "outputs": [],
   "source": []
  },
  {
   "cell_type": "markdown",
   "id": "operational-track",
   "metadata": {},
   "source": [
    "# autogluon.tabular"
   ]
  },
  {
   "cell_type": "code",
   "execution_count": 8,
   "id": "green-calculation",
   "metadata": {},
   "outputs": [
    {
     "name": "stdout",
     "output_type": "stream",
     "text": [
      "Collecting mxnet==1.7.0.post1\n",
      "  Downloading mxnet-1.7.0.post1-py2.py3-none-manylinux2014_x86_64.whl (55.0 MB)\n",
      "\u001b[K     |████████████████████████████████| 55.0 MB 5.7 MB/s eta 0:00:01    |███                             | 5.3 MB 3.3 MB/s eta 0:00:16     |███▎                            | 5.6 MB 3.3 MB/s eta 0:00:16     |███▌                            | 6.0 MB 3.3 MB/s eta 0:00:16     |██████████▉                     | 18.7 MB 6.4 MB/s eta 0:00:06     |███████████                     | 19.0 MB 6.4 MB/s eta 0:00:06     |███████████▎                    | 19.4 MB 6.4 MB/s eta 0:00:06     |████████████                    | 20.7 MB 6.9 MB/s eta 0:00:05     |█████████████▉                  | 23.7 MB 6.9 MB/s eta 0:00:05     |███████████████▌                | 26.7 MB 7.9 MB/s eta 0:00:04     |██████████████████▊             | 32.2 MB 7.9 MB/s eta 0:00:03     |███████████████████             | 32.5 MB 7.9 MB/s eta 0:00:03     |██████████████████████▊         | 39.0 MB 8.3 MB/s eta 0:00:02     |████████████████████████▋       | 42.4 MB 5.9 MB/s eta 0:00:03     |████████████████████████████▉   | 49.5 MB 5.8 MB/s eta 0:00:01     |█████████████████████████████▋  | 50.9 MB 5.8 MB/s eta 0:00:01     |███████████████████████████████▉| 54.7 MB 5.7 MB/s eta 0:00:01\n",
      "\u001b[?25hCollecting graphviz<0.9.0,>=0.8.1\n",
      "  Downloading graphviz-0.8.4-py2.py3-none-any.whl (16 kB)\n",
      "Requirement already satisfied: numpy<2.0.0,>1.16.0 in /home/martin/miniconda3/envs/autoML/lib/python3.7/site-packages (from mxnet==1.7.0.post1) (1.20.1)\n",
      "Collecting requests<3,>=2.20.0\n",
      "  Downloading requests-2.25.1-py2.py3-none-any.whl (61 kB)\n",
      "\u001b[K     |████████████████████████████████| 61 kB 6.9 MB/s eta 0:00:011\n",
      "\u001b[?25hCollecting chardet<5,>=3.0.2\n",
      "  Downloading chardet-4.0.0-py2.py3-none-any.whl (178 kB)\n",
      "\u001b[K     |████████████████████████████████| 178 kB 6.8 MB/s eta 0:00:01\n",
      "\u001b[?25hCollecting urllib3<1.27,>=1.21.1\n",
      "  Downloading urllib3-1.26.4-py2.py3-none-any.whl (153 kB)\n",
      "\u001b[K     |████████████████████████████████| 153 kB 6.4 MB/s eta 0:00:01\n",
      "\u001b[?25hCollecting idna<3,>=2.5\n",
      "  Downloading idna-2.10-py2.py3-none-any.whl (58 kB)\n",
      "\u001b[K     |████████████████████████████████| 58 kB 8.1 MB/s  eta 0:00:01\n",
      "\u001b[?25hRequirement already satisfied: certifi>=2017.4.17 in /home/martin/miniconda3/envs/autoML/lib/python3.7/site-packages (from requests<3,>=2.20.0->mxnet==1.7.0.post1) (2020.12.5)\n",
      "Installing collected packages: urllib3, idna, chardet, requests, graphviz, mxnet\n",
      "Successfully installed chardet-4.0.0 graphviz-0.8.4 idna-2.10 mxnet-1.7.0.post1 requests-2.25.1 urllib3-1.26.4\n"
     ]
    }
   ],
   "source": [
    "!pip install mxnet==1.7.0.post1"
   ]
  },
  {
   "cell_type": "code",
   "execution_count": 9,
   "id": "medieval-bibliography",
   "metadata": {},
   "outputs": [
    {
     "name": "stdout",
     "output_type": "stream",
     "text": [
      "Collecting autogluon-core==0.0.16b20210114\n",
      "  Downloading autogluon.core-0.0.16b20210114-py3-none-any.whl (246 kB)\n",
      "\u001b[K     |████████████████████████████████| 246 kB 3.9 MB/s eta 0:00:01\n",
      "\u001b[?25hCollecting autogluon-tabular==0.0.16b20210114\n",
      "  Downloading autogluon.tabular-0.0.16b20210114-py3-none-any.whl (322 kB)\n",
      "\u001b[K     |████████████████████████████████| 322 kB 4.4 MB/s eta 0:00:01\n",
      "\u001b[?25hCollecting matplotlib\n",
      "  Downloading matplotlib-3.3.4-cp37-cp37m-manylinux1_x86_64.whl (11.5 MB)\n",
      "\u001b[K     |████████████████████████████████| 11.5 MB 3.9 MB/s eta 0:00:01     |████████████████████████████▉   | 10.4 MB 3.9 MB/s eta 0:00:01\n",
      "\u001b[?25hCollecting paramiko>=2.4\n",
      "  Downloading paramiko-2.7.2-py2.py3-none-any.whl (206 kB)\n",
      "\u001b[K     |████████████████████████████████| 206 kB 6.0 MB/s eta 0:00:01\n",
      "\u001b[?25hRequirement already satisfied: cython in /home/martin/miniconda3/envs/autoML/lib/python3.7/site-packages (from autogluon-core==0.0.16b20210114) (0.29.22)\n",
      "Requirement already satisfied: tornado>=5.0.1 in /home/martin/miniconda3/envs/autoML/lib/python3.7/site-packages (from autogluon-core==0.0.16b20210114) (6.1)\n",
      "Collecting scipy<1.5.0,>=1.3.3\n",
      "  Downloading scipy-1.4.1-cp37-cp37m-manylinux1_x86_64.whl (26.1 MB)\n",
      "\u001b[K     |████████████████████████████████| 26.1 MB 777 kB/s eta 0:00:012    |█████████▎                      | 7.5 MB 10.8 MB/s eta 0:00:02     |███████████▎                    | 9.2 MB 10.8 MB/s eta 0:00:02\n",
      "\u001b[?25hCollecting boto3\n",
      "  Downloading boto3-1.17.30-py2.py3-none-any.whl (131 kB)\n",
      "\u001b[K     |████████████████████████████████| 131 kB 3.7 MB/s eta 0:00:01\n",
      "\u001b[?25hRequirement already satisfied: graphviz<0.9.0,>=0.8.1 in /home/martin/miniconda3/envs/autoML/lib/python3.7/site-packages (from autogluon-core==0.0.16b20210114) (0.8.4)\n",
      "Requirement already satisfied: requests in /home/martin/miniconda3/envs/autoML/lib/python3.7/site-packages (from autogluon-core==0.0.16b20210114) (2.25.1)\n",
      "Requirement already satisfied: numpy>=1.16.0 in /home/martin/miniconda3/envs/autoML/lib/python3.7/site-packages (from autogluon-core==0.0.16b20210114) (1.20.1)\n",
      "Requirement already satisfied: dask>=2.6.0 in /home/martin/miniconda3/envs/autoML/lib/python3.7/site-packages (from autogluon-core==0.0.16b20210114) (2021.3.0)\n",
      "Collecting pytest\n",
      "  Using cached pytest-6.2.2-py3-none-any.whl (280 kB)\n",
      "Collecting tqdm>=4.38.0\n",
      "  Downloading tqdm-4.59.0-py2.py3-none-any.whl (74 kB)\n",
      "\u001b[K     |████████████████████████████████| 74 kB 3.4 MB/s eta 0:00:01\n",
      "\u001b[?25hCollecting ConfigSpace<=0.4.16\n",
      "  Downloading ConfigSpace-0.4.16.tar.gz (964 kB)\n",
      "\u001b[K     |████████████████████████████████| 964 kB 6.4 MB/s eta 0:00:01     |█████████████▎                  | 399 kB 6.4 MB/s eta 0:00:01\n",
      "\u001b[?25h  Installing build dependencies ... \u001b[?25ldone\n",
      "\u001b[?25h  Getting requirements to build wheel ... \u001b[?25ldone\n",
      "\u001b[?25h    Preparing wheel metadata ... \u001b[?25ldone\n",
      "\u001b[?25hRequirement already satisfied: distributed>=2.6.0 in /home/martin/miniconda3/envs/autoML/lib/python3.7/site-packages (from autogluon-core==0.0.16b20210114) (2021.3.0)\n",
      "Collecting scikit-learn<0.24,>=0.22.0\n",
      "  Downloading scikit_learn-0.23.2-cp37-cp37m-manylinux1_x86_64.whl (6.8 MB)\n",
      "\u001b[K     |████████████████████████████████| 6.8 MB 6.1 MB/s eta 0:00:01\n",
      "\u001b[?25hCollecting dill==0.3.3\n",
      "  Downloading dill-0.3.3-py2.py3-none-any.whl (81 kB)\n",
      "\u001b[K     |████████████████████████████████| 81 kB 6.4 MB/s eta 0:00:01\n",
      "\u001b[?25hRequirement already satisfied: pandas<2.0,>=1.0.0 in /home/martin/miniconda3/envs/autoML/lib/python3.7/site-packages (from autogluon-core==0.0.16b20210114) (1.2.3)\n",
      "Collecting autograd>=1.3\n",
      "  Downloading autograd-1.3.tar.gz (38 kB)\n",
      "Collecting scikit-optimize\n",
      "  Downloading scikit_optimize-0.8.1-py2.py3-none-any.whl (101 kB)\n",
      "\u001b[K     |████████████████████████████████| 101 kB 7.0 MB/s ta 0:00:011\n",
      "\u001b[?25hCollecting psutil<=5.7.0,>=5.0.0\n",
      "  Downloading psutil-5.7.0.tar.gz (449 kB)\n",
      "\u001b[K     |████████████████████████████████| 449 kB 4.7 MB/s eta 0:00:01\n",
      "\u001b[?25hCollecting fastai<2.0,>=1.0\n",
      "  Downloading fastai-1.0.61-py3-none-any.whl (239 kB)\n",
      "\u001b[K     |████████████████████████████████| 239 kB 6.4 MB/s eta 0:00:01\n",
      "\u001b[?25hCollecting networkx<3.0,>=2.3\n",
      "  Downloading networkx-2.5-py3-none-any.whl (1.6 MB)\n",
      "\u001b[K     |████████████████████████████████| 1.6 MB 6.9 MB/s eta 0:00:01\n",
      "\u001b[?25hCollecting torch<2.0,>=1.0\n",
      "  Downloading torch-1.8.0-cp37-cp37m-manylinux1_x86_64.whl (735.5 MB)\n",
      "\u001b[K     |████████████████████████████████| 735.5 MB 7.3 MB/s eta 0:00:012   |█▌                              | 34.3 MB 6.3 MB/s eta 0:01:52     |█▋                              | 37.7 MB 6.3 MB/s eta 0:01:51     |█▉                              | 40.9 MB 6.3 MB/s eta 0:01:51     |██▏                             | 48.9 MB 8.5 MB/s eta 0:01:21     |██▎                             | 52.3 MB 6.7 MB/s eta 0:01:42     |██▎                             | 53.3 MB 6.7 MB/s eta 0:01:42     |██▋                             | 59.4 MB 7.1 MB/s eta 0:01:36     |██▊                             | 63.5 MB 7.1 MB/s eta 0:01:36     |███▍                            | 78.4 MB 7.3 MB/s eta 0:01:31     |███▌                            | 80.4 MB 7.3 MB/s eta 0:01:31     |███▋                            | 83.5 MB 7.3 MB/s eta 0:01:30     |███▊                            | 85.0 MB 8.7 MB/s eta 0:01:15     |████▋                           | 106.0 MB 4.5 MB/s eta 0:02:20     |████▋                           | 106.7 MB 4.5 MB/s eta 0:02:20     |██████▋                         | 151.0 MB 5.9 MB/s eta 0:01:40     |███████▊                        | 176.4 MB 8.8 MB/s eta 0:01:04     |████████                        | 182.1 MB 6.2 MB/s eta 0:01:30     |████████▎                       | 191.0 MB 9.0 MB/s eta 0:01:01     |█████████▎                      | 213.9 MB 7.1 MB/s eta 0:01:14     |█████████▉                      | 225.6 MB 6.2 MB/s eta 0:01:22     |██████████▉                     | 248.4 MB 5.7 MB/s eta 0:01:27     |██████████▉                     | 249.4 MB 5.7 MB/s eta 0:01:26     |███████████▌                    | 265.0 MB 6.7 MB/s eta 0:01:11     |███████████▉                    | 272.7 MB 9.1 MB/s eta 0:00:51     |███████████▉                    | 273.1 MB 9.1 MB/s eta 0:00:51     |████████████                    | 276.1 MB 9.1 MB/s eta 0:00:51     |█████████████                   | 300.9 MB 8.7 MB/s eta 0:00:50     |█████████████▎                  | 304.4 MB 4.6 MB/s eta 0:01:33     |███████████████▋                | 359.8 MB 5.7 MB/s eta 0:01:06     |████████████████                | 368.0 MB 7.4 MB/s eta 0:00:50     |██████████████████▎             | 420.7 MB 4.1 MB/s eta 0:01:17     |███████████████████▋            | 450.0 MB 6.9 MB/s eta 0:00:42     |███████████████████▋            | 450.3 MB 6.9 MB/s eta 0:00:42     |███████████████████▋            | 450.7 MB 6.9 MB/s eta 0:00:42     |█████████████████████▉          | 501.2 MB 6.6 MB/s eta 0:00:36     |███████████████████████████▌    | 633.3 MB 7.3 MB/s eta 0:00:15     |████████████████████████████    | 643.7 MB 7.3 MB/s eta 0:00:13     |████████████████████████████▎   | 650.9 MB 4.7 MB/s eta 0:00:19     |█████████████████████████████▏  | 671.2 MB 5.6 MB/s eta 0:00:12     |██████████████████████████████▎ | 695.1 MB 6.3 MB/s eta 0:00:07     |██████████████████████████████▌ | 699.9 MB 6.3 MB/s eta 0:00:06     |███████████████████████████████▌| 724.7 MB 7.2 MB/s eta 0:00:02     |███████████████████████████████▉| 730.9 MB 7.3 MB/s eta 0:00:01     |████████████████████████████████| 734.6 MB 7.3 MB/s eta 0:00:01"
     ]
    }
   ],
   "source": [
    "!pip install autogluon-core==0.0.16b20210114 autogluon-tabular==0.0.16b20210114"
   ]
  },
  {
   "cell_type": "code",
   "execution_count": null,
   "id": "wrapped-winner",
   "metadata": {},
   "outputs": [],
   "source": []
  }
 ],
 "metadata": {
  "kernelspec": {
   "display_name": "Python [conda env:autoML]",
   "language": "python",
   "name": "conda-env-autoML-py"
  },
  "language_info": {
   "codemirror_mode": {
    "name": "ipython",
    "version": 3
   },
   "file_extension": ".py",
   "mimetype": "text/x-python",
   "name": "python",
   "nbconvert_exporter": "python",
   "pygments_lexer": "ipython3",
   "version": "3.7.10"
  }
 },
 "nbformat": 4,
 "nbformat_minor": 5
}
