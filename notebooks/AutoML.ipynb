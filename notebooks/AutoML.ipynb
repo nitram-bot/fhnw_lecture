{
 "cells": [
  {
   "cell_type": "markdown",
   "id": "seven-burke",
   "metadata": {},
   "source": [
    "__Xgboost__ is one of the most popular machine-learning algorithms but the number of possible parameter combinations goes towards infinity:\n",
    "- Booster: gbtree, gblinear or dart; gbtree and dart \n",
    "- disable_default_eval_metric \n",
    "- eta [default=0.3, alias: learning_rate]\n",
    "- gamma [default=0, alias: min_split_loss]\n",
    "- max_depth [default=6]\n",
    "- min_child_weight [default=1]\n",
    "- max_delta_step [default=0]\n",
    "- subsample [default=1]\n",
    "- colsample_bytree \n",
    "- colsample_bylevel \n",
    "- colsample_bynode \n",
    "- lambda [default=1, alias: reg_lambda]\n",
    "- alpha [default=0, alias: reg_alpha]\n",
    "- tree_method string [default= auto\n",
    "- sketch_eps [default=0.03]\n",
    "- scale_pos_weight [default=1]\n",
    "- refresh_leaf [default=1]\n",
    "- process_type [default= default]\n",
    "- grow_policy [default= depthwise]\n",
    "- max_leaves [default=0]\n",
    "- max_bin, [default=256]\n",
    "- sample_type [default= uniform]\n",
    "- normalize_type [default= tree]\n",
    "- rate_drop [default=0.0]\n",
    "- one_drop [default=0]\n",
    "- skip_drop [default=0.0]\n",
    "- updater [default= shotgun]\n",
    "\n"
   ]
  },
  {
   "cell_type": "markdown",
   "id": "handled-swing",
   "metadata": {},
   "source": [
    " - [BigML](https://bigml.com/)\n",
    " - [H2O.ai](http://docs.h2o.ai/h2o/latest-stable/h2o-docs/automl.html)\n",
    " - [rapidminer](https://rapidminer.com/products/go/)\n",
    " - [DataRobot](https://www.datarobot.com/solutions/data-scientists/)\n",
    " - [Microsoft Azure](https://azure.microsoft.com/en-us/services/machine-learning/automatedml/)\n",
    " - [Google Cloud AutoML](https://cloud.google.com/automl)\n",
    " - [Amazon AutoML](https://aws.amazon.com/blogs/machine-learning/code-free-machine-learning-automl-with-autogluon-amazon-sagemaker-and-aws-lambda/)\n",
    "\n",
    "A competitor from Zurich:\n",
    " - [Modulus.ai](https://www.modulos.ai/)"
   ]
  },
  {
   "cell_type": "markdown",
   "id": "threaded-andrew",
   "metadata": {},
   "source": [
    "<img alt=\"\" caption=\"Bayesian Optimization: surrogate function (black, blue) and acquisition function (green)\" \n",
    "id=\"bayesian_optimization\" src=\"../images/image4.png\" width=\"320\" height=\"320\">\n"
   ]
  },
  {
   "cell_type": "markdown",
   "id": "minute-knock",
   "metadata": {},
   "source": [
    "<img alt=\"\" caption=\"Auto-Sklearn\" \n",
    "id=\"auto-sklearn\" src=\"../images/image3.png\" width=\"720\" height=\"520\">\n"
   ]
  },
  {
   "cell_type": "markdown",
   "id": "interracial-radar",
   "metadata": {},
   "source": [
    "__SMAC__ (sequential model-based algorithm configuration)\n",
    "\n",
    " - Data Set gets divided into n folds\n",
    " - For each fold, characteristics of the data are determined and a signature for this fold is calculated with PCA\n",
    " - A hyperparameter configuration applied to a fold leads to the following result c (cost) `[h1, h2, h3, h4, h5][s1, s2, s3] -> c`\n",
    " - Initially, random combinations of hyperparameters and data folds are evaluated to obtain measurement points\n",
    " - For these combinations random forests are calculated\n",
    " - New configurations (candidates) are combined with all data-folds signatures and classified by the random forest\n",
    " - The predictions of the end-leaves of the random forest are averaged over all data-fold signatures and these results are summed up over all trees in the forest. This results in mean values and variances that are used in the acquisition function (max. objective, min uncertainty).\n",
    " - In this way, many different parameter combinations can be tested without having to teach the actual ML algorithm with the new parameter configurations.\n",
    " - The hyperparameter combinations with the highest values in the acquisition function are tested against the incumbent (best combination so far) on the ML algorithm. Thus, new measuring points are created and the random forest is relearned.\n"
   ]
  },
  {
   "cell_type": "markdown",
   "id": "biblical-sheet",
   "metadata": {},
   "source": [
    "[install auto-sklearn](https://automl.github.io/auto-sklearn/master/installation.html)"
   ]
  }
 ],
 "metadata": {
  "kernelspec": {
   "display_name": "Python 3",
   "language": "python",
   "name": "python3"
  },
  "language_info": {
   "codemirror_mode": {
    "name": "ipython",
    "version": 3
   },
   "file_extension": ".py",
   "mimetype": "text/x-python",
   "name": "python",
   "nbconvert_exporter": "python",
   "pygments_lexer": "ipython3",
   "version": "3.6.12"
  }
 },
 "nbformat": 4,
 "nbformat_minor": 5
}
