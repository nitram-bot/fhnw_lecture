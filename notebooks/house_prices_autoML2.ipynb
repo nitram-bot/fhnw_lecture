{
 "cells": [
  {
   "cell_type": "markdown",
   "id": "d4de0930",
   "metadata": {},
   "source": [
    "# autogluon.tabular"
   ]
  },
  {
   "cell_type": "code",
   "execution_count": 1,
   "id": "1ad78305",
   "metadata": {},
   "outputs": [],
   "source": [
    "import pandas as pd\n",
    "import numpy as np\n",
    "\n",
    "from sklearn.model_selection import train_test_split\n",
    "train = pd.read_csv('../data/train.csv', sep=\",\")\n",
    "test = pd.read_csv('../data/test.csv')\n",
    "\n",
    "import sklearn\n",
    "y = train['SalePrice']\n",
    "X = train.drop('SalePrice', axis=1)\n",
    "categorical = [var for var in X.columns if X[var].dtype=='O']\n",
    "numerical = [var for var in X.columns if X[var].dtype!='O']\n",
    "X[categorical] = X[categorical].fillna('None')\n",
    "\n",
    "# auto-sklearn can not deal with categorical variables\n",
    "X= pd.concat([pd.get_dummies(X[categorical], dummy_na=True), X[numerical]], axis=1)\n",
    "\n",
    "y = np.log1p(y)\n",
    "X_train, X_test, y_train, y_test = \\\n",
    "    train_test_split(X, y, random_state=42, test_size=0.2)"
   ]
  },
  {
   "cell_type": "code",
   "execution_count": 2,
   "id": "727a8596",
   "metadata": {},
   "outputs": [
    {
     "name": "stderr",
     "output_type": "stream",
     "text": [
      "/home/martin/miniconda3/envs/autoML2/lib/python3.8/site-packages/tqdm/auto.py:22: TqdmWarning: IProgress not found. Please update jupyter and ipywidgets. See https://ipywidgets.readthedocs.io/en/stable/user_install.html\n",
      "  from .autonotebook import tqdm as notebook_tqdm\n",
      "No path specified. Models will be saved in: \"AutogluonModels/ag-20220428_071938/\"\n",
      "Presets specified: ['best_quality']\n",
      "Beginning AutoGluon training ... Time limit = 600s\n",
      "AutoGluon will save models to \"AutogluonModels/ag-20220428_071938/\"\n",
      "AutoGluon Version:  0.4.0\n",
      "Python Version:     3.8.13\n",
      "Operating System:   Linux\n",
      "Train Data Rows:    1168\n",
      "Train Data Columns: 347\n",
      "Label Column: SalePrice\n",
      "Preprocessing data ...\n",
      "AutoGluon infers your prediction problem is: 'regression' (because dtype of label-column == float and many unique label-values observed).\n",
      "\tLabel info (max, min, mean, stddev): (13.521140839642674, 10.460270761075149, 12.03066, 0.39061)\n",
      "\tIf 'regression' is not the correct problem_type, please manually specify the problem_type parameter during predictor init (You may specify problem_type as one of: ['binary', 'multiclass', 'regression'])\n",
      "Using Feature Generators to preprocess the data ...\n",
      "Fitting AutoMLPipelineFeatureGenerator...\n",
      "\tAvailable Memory:                    11401.49 MB\n",
      "\tTrain Data (Original)  Memory Usage: 0.71 MB (0.0% of available memory)\n",
      "\tInferring data type of each feature based on column values. Set feature_metadata_in to manually specify special dtypes of the features.\n",
      "\tStage 1 Generators:\n",
      "\t\tFitting AsTypeFeatureGenerator...\n",
      "\t\t\tNote: Converting 265 features to boolean dtype as they only contain 2 unique values.\n",
      "\tStage 2 Generators:\n",
      "\t\tFitting FillNaFeatureGenerator...\n",
      "\tStage 3 Generators:\n",
      "\t\tFitting IdentityFeatureGenerator...\n",
      "\tStage 4 Generators:\n",
      "\t\tFitting DropUniqueFeatureGenerator...\n",
      "\tUseless Original Features (Count: 45): ['MSZoning_nan', 'Street_nan', 'Alley_nan', 'LotShape_nan', 'LandContour_nan', 'Utilities_nan', 'LotConfig_nan', 'LandSlope_nan', 'Neighborhood_nan', 'Condition1_nan', 'Condition2_nan', 'BldgType_nan', 'HouseStyle_nan', 'RoofStyle_nan', 'RoofMatl_Membran', 'RoofMatl_nan', 'Exterior1st_nan', 'Exterior2nd_nan', 'MasVnrType_nan', 'ExterQual_nan', 'ExterCond_nan', 'Foundation_nan', 'BsmtQual_nan', 'BsmtCond_nan', 'BsmtExposure_nan', 'BsmtFinType1_nan', 'BsmtFinType2_nan', 'Heating_nan', 'HeatingQC_nan', 'CentralAir_nan', 'Electrical_Mix', 'Electrical_nan', 'KitchenQual_nan', 'Functional_nan', 'FireplaceQu_nan', 'GarageType_nan', 'GarageFinish_nan', 'GarageQual_nan', 'GarageCond_nan', 'PavedDrive_nan', 'PoolQC_nan', 'Fence_nan', 'MiscFeature_nan', 'SaleType_nan', 'SaleCondition_nan']\n",
      "\t\tThese features carry no predictive signal and should be manually investigated.\n",
      "\t\tThis is typically a feature which has the same value for all rows.\n",
      "\t\tThese features do not need to be present at inference time.\n",
      "\tTypes of features in original data (raw dtype, special dtypes):\n",
      "\t\t('float', []) :   3 | ['LotFrontage', 'MasVnrArea', 'GarageYrBlt']\n",
      "\t\t('int', [])   : 299 | ['MSZoning_C (all)', 'MSZoning_FV', 'MSZoning_RH', 'MSZoning_RL', 'MSZoning_RM', ...]\n",
      "\tTypes of features in processed data (raw dtype, special dtypes):\n",
      "\t\t('float', [])     :   3 | ['LotFrontage', 'MasVnrArea', 'GarageYrBlt']\n",
      "\t\t('int', [])       :  34 | ['Id', 'MSSubClass', 'LotArea', 'OverallQual', 'OverallCond', ...]\n",
      "\t\t('int', ['bool']) : 265 | ['MSZoning_C (all)', 'MSZoning_FV', 'MSZoning_RH', 'MSZoning_RL', 'MSZoning_RM', ...]\n",
      "\t0.5s = Fit runtime\n",
      "\t302 features in original data used to generate 302 features in processed data.\n",
      "\tTrain Data (Processed) Memory Usage: 0.66 MB (0.0% of available memory)\n",
      "Data preprocessing and feature engineering runtime = 0.61s ...\n",
      "AutoGluon will gauge predictive performance using evaluation metric: 'root_mean_squared_error'\n",
      "\tTo change this, specify the eval_metric parameter of Predictor()\n",
      "AutoGluon will fit 2 stack levels (L1 to L2) ...\n",
      "Fitting 11 L1 models ...\n",
      "Fitting model: KNeighborsUnif_BAG_L1 ... Training model for up to 399.49s of the 599.39s of remaining time.\n",
      "\t-0.2314\t = Validation score   (root_mean_squared_error)\n",
      "\t0.02s\t = Training   runtime\n",
      "\t0.09s\t = Validation runtime\n",
      "Fitting model: KNeighborsDist_BAG_L1 ... Training model for up to 399.27s of the 599.16s of remaining time.\n",
      "\t-0.2298\t = Validation score   (root_mean_squared_error)\n",
      "\t0.01s\t = Training   runtime\n",
      "\t0.04s\t = Validation runtime\n",
      "Fitting model: LightGBMXT_BAG_L1 ... Training model for up to 399.13s of the 599.02s of remaining time.\n",
      "Will use sequential fold fitting strategy because ray>=1.7.0,<1.8.0 is not installed.\n",
      "\tFitting 8 child models (S1F1 - S1F8) | Fitting with SequentialLocalFoldFittingStrategy\n"
     ]
    },
    {
     "name": "stdout",
     "output_type": "stream",
     "text": [
      "[1000]\tvalid_set's rmse: 0.126404\n",
      "[2000]\tvalid_set's rmse: 0.1238\n",
      "[3000]\tvalid_set's rmse: 0.122984\n",
      "[4000]\tvalid_set's rmse: 0.122838\n",
      "[5000]\tvalid_set's rmse: 0.122841\n",
      "[1000]\tvalid_set's rmse: 0.108385\n",
      "[1000]\tvalid_set's rmse: 0.141634\n",
      "[2000]\tvalid_set's rmse: 0.140099\n",
      "[3000]\tvalid_set's rmse: 0.139629\n",
      "[4000]\tvalid_set's rmse: 0.139504\n",
      "[5000]\tvalid_set's rmse: 0.139486\n",
      "[6000]\tvalid_set's rmse: 0.139481\n",
      "[7000]\tvalid_set's rmse: 0.13948\n",
      "[8000]\tvalid_set's rmse: 0.139479\n",
      "[9000]\tvalid_set's rmse: 0.139479\n",
      "[10000]\tvalid_set's rmse: 0.139478\n"
     ]
    },
    {
     "name": "stderr",
     "output_type": "stream",
     "text": [
      "\t-0.1273\t = Validation score   (root_mean_squared_error)\n",
      "\t24.38s\t = Training   runtime\n",
      "\t0.15s\t = Validation runtime\n",
      "Fitting model: LightGBM_BAG_L1 ... Training model for up to 373.02s of the 572.91s of remaining time.\n",
      "\tFitting 8 child models (S1F1 - S1F8) | Fitting with SequentialLocalFoldFittingStrategy\n"
     ]
    },
    {
     "name": "stdout",
     "output_type": "stream",
     "text": [
      "[1000]\tvalid_set's rmse: 0.131082\n",
      "[2000]\tvalid_set's rmse: 0.128549\n",
      "[3000]\tvalid_set's rmse: 0.127994\n",
      "[4000]\tvalid_set's rmse: 0.12786\n",
      "[5000]\tvalid_set's rmse: 0.127825\n",
      "[6000]\tvalid_set's rmse: 0.127816\n",
      "[7000]\tvalid_set's rmse: 0.127814\n",
      "[8000]\tvalid_set's rmse: 0.127814\n",
      "[9000]\tvalid_set's rmse: 0.127814\n",
      "[10000]\tvalid_set's rmse: 0.127814\n",
      "[1000]\tvalid_set's rmse: 0.14488\n",
      "[2000]\tvalid_set's rmse: 0.14393\n",
      "[3000]\tvalid_set's rmse: 0.143713\n",
      "[4000]\tvalid_set's rmse: 0.143662\n",
      "[5000]\tvalid_set's rmse: 0.143655\n",
      "[6000]\tvalid_set's rmse: 0.143653\n",
      "[7000]\tvalid_set's rmse: 0.143652\n",
      "[8000]\tvalid_set's rmse: 0.143652\n",
      "[9000]\tvalid_set's rmse: 0.143652\n",
      "[10000]\tvalid_set's rmse: 0.143652\n"
     ]
    },
    {
     "name": "stderr",
     "output_type": "stream",
     "text": [
      "\t-0.1319\t = Validation score   (root_mean_squared_error)\n",
      "\t31.29s\t = Training   runtime\n",
      "\t0.2s\t = Validation runtime\n",
      "Fitting model: RandomForestMSE_BAG_L1 ... Training model for up to 339.59s of the 539.48s of remaining time.\n",
      "\t-0.1461\t = Validation score   (root_mean_squared_error)\n",
      "\t2.59s\t = Training   runtime\n",
      "\t0.16s\t = Validation runtime\n",
      "Fitting model: CatBoost_BAG_L1 ... Training model for up to 335.7s of the 535.59s of remaining time.\n",
      "\tFitting 8 child models (S1F1 - S1F8) | Fitting with SequentialLocalFoldFittingStrategy\n",
      "\t-0.1217\t = Validation score   (root_mean_squared_error)\n",
      "\t61.11s\t = Training   runtime\n",
      "\t0.17s\t = Validation runtime\n",
      "Fitting model: ExtraTreesMSE_BAG_L1 ... Training model for up to 274.1s of the 474.0s of remaining time.\n",
      "\t-0.1444\t = Validation score   (root_mean_squared_error)\n",
      "\t1.82s\t = Training   runtime\n",
      "\t0.18s\t = Validation runtime\n",
      "Fitting model: NeuralNetFastAI_BAG_L1 ... Training model for up to 271.01s of the 470.91s of remaining time.\n",
      "\tFitting 8 child models (S1F1 - S1F8) | Fitting with SequentialLocalFoldFittingStrategy\n",
      "\t-0.1521\t = Validation score   (root_mean_squared_error)\n",
      "\t21.84s\t = Training   runtime\n",
      "\t1.09s\t = Validation runtime\n",
      "Fitting model: XGBoost_BAG_L1 ... Training model for up to 247.46s of the 447.36s of remaining time.\n",
      "\tFitting 8 child models (S1F1 - S1F8) | Fitting with SequentialLocalFoldFittingStrategy\n",
      "\t-0.1303\t = Validation score   (root_mean_squared_error)\n",
      "\t15.67s\t = Training   runtime\n",
      "\t0.07s\t = Validation runtime\n",
      "Fitting model: NeuralNetTorch_BAG_L1 ... Training model for up to 230.02s of the 429.91s of remaining time.\n",
      "\tFitting 8 child models (S1F1 - S1F8) | Fitting with SequentialLocalFoldFittingStrategy\n",
      "\t-0.1206\t = Validation score   (root_mean_squared_error)\n",
      "\t23.11s\t = Training   runtime\n",
      "\t0.17s\t = Validation runtime\n",
      "Fitting model: LightGBMLarge_BAG_L1 ... Training model for up to 206.42s of the 406.32s of remaining time.\n",
      "\tFitting 8 child models (S1F1 - S1F8) | Fitting with SequentialLocalFoldFittingStrategy\n"
     ]
    },
    {
     "name": "stdout",
     "output_type": "stream",
     "text": [
      "[1000]\tvalid_set's rmse: 0.135672\n",
      "[1000]\tvalid_set's rmse: 0.127402\n"
     ]
    },
    {
     "name": "stderr",
     "output_type": "stream",
     "text": [
      "\t-0.1443\t = Validation score   (root_mean_squared_error)\n",
      "\t26.65s\t = Training   runtime\n",
      "\t0.07s\t = Validation runtime\n",
      "Completed 1/20 k-fold bagging repeats ...\n",
      "Fitting model: WeightedEnsemble_L2 ... Training model for up to 360.0s of the 378.27s of remaining time.\n",
      "\t-0.1158\t = Validation score   (root_mean_squared_error)\n",
      "\t0.36s\t = Training   runtime\n",
      "\t0.0s\t = Validation runtime\n",
      "Fitting 9 L2 models ...\n",
      "Fitting model: LightGBMXT_BAG_L2 ... Training model for up to 377.88s of the 377.84s of remaining time.\n",
      "\tFitting 8 child models (S1F1 - S1F8) | Fitting with SequentialLocalFoldFittingStrategy\n"
     ]
    },
    {
     "name": "stdout",
     "output_type": "stream",
     "text": [
      "[1000]\tvalid_set's rmse: 0.123061\n",
      "[2000]\tvalid_set's rmse: 0.120556\n",
      "[3000]\tvalid_set's rmse: 0.119978\n",
      "[4000]\tvalid_set's rmse: 0.119896\n",
      "[5000]\tvalid_set's rmse: 0.119878\n",
      "[6000]\tvalid_set's rmse: 0.119877\n",
      "[7000]\tvalid_set's rmse: 0.119877\n",
      "[8000]\tvalid_set's rmse: 0.119877\n",
      "[9000]\tvalid_set's rmse: 0.119877\n",
      "[10000]\tvalid_set's rmse: 0.119877\n"
     ]
    },
    {
     "name": "stderr",
     "output_type": "stream",
     "text": [
      "\t-0.1246\t = Validation score   (root_mean_squared_error)\n",
      "\t15.34s\t = Training   runtime\n",
      "\t0.1s\t = Validation runtime\n",
      "Fitting model: LightGBM_BAG_L2 ... Training model for up to 361.03s of the 360.99s of remaining time.\n",
      "\tFitting 8 child models (S1F1 - S1F8) | Fitting with SequentialLocalFoldFittingStrategy\n",
      "\t-0.1191\t = Validation score   (root_mean_squared_error)\n",
      "\t6.12s\t = Training   runtime\n",
      "\t0.04s\t = Validation runtime\n",
      "Fitting model: RandomForestMSE_BAG_L2 ... Training model for up to 354.64s of the 354.6s of remaining time.\n",
      "\t-0.1184\t = Validation score   (root_mean_squared_error)\n",
      "\t2.74s\t = Training   runtime\n",
      "\t0.19s\t = Validation runtime\n",
      "Fitting model: CatBoost_BAG_L2 ... Training model for up to 350.73s of the 350.7s of remaining time.\n",
      "\tFitting 8 child models (S1F1 - S1F8) | Fitting with SequentialLocalFoldFittingStrategy\n",
      "\t-0.1187\t = Validation score   (root_mean_squared_error)\n",
      "\t18.54s\t = Training   runtime\n",
      "\t0.19s\t = Validation runtime\n",
      "Fitting model: ExtraTreesMSE_BAG_L2 ... Training model for up to 331.74s of the 331.7s of remaining time.\n",
      "\t-0.1183\t = Validation score   (root_mean_squared_error)\n",
      "\t2.16s\t = Training   runtime\n",
      "\t0.19s\t = Validation runtime\n",
      "Fitting model: NeuralNetFastAI_BAG_L2 ... Training model for up to 327.99s of the 327.96s of remaining time.\n",
      "\tFitting 8 child models (S1F1 - S1F8) | Fitting with SequentialLocalFoldFittingStrategy\n",
      "No improvement since epoch 4: early stopping\n",
      "\t-0.1476\t = Validation score   (root_mean_squared_error)\n",
      "\t12.24s\t = Training   runtime\n",
      "\t0.6s\t = Validation runtime\n",
      "Fitting model: XGBoost_BAG_L2 ... Training model for up to 314.7s of the 314.66s of remaining time.\n",
      "\tFitting 8 child models (S1F1 - S1F8) | Fitting with SequentialLocalFoldFittingStrategy\n",
      "\t-0.1202\t = Validation score   (root_mean_squared_error)\n",
      "\t13.0s\t = Training   runtime\n",
      "\t0.06s\t = Validation runtime\n",
      "Fitting model: NeuralNetTorch_BAG_L2 ... Training model for up to 300.29s of the 300.25s of remaining time.\n",
      "\tFitting 8 child models (S1F1 - S1F8) | Fitting with SequentialLocalFoldFittingStrategy\n",
      "\t-0.123\t = Validation score   (root_mean_squared_error)\n",
      "\t19.98s\t = Training   runtime\n",
      "\t0.22s\t = Validation runtime\n",
      "Fitting model: LightGBMLarge_BAG_L2 ... Training model for up to 279.73s of the 279.69s of remaining time.\n",
      "\tFitting 8 child models (S1F1 - S1F8) | Fitting with SequentialLocalFoldFittingStrategy\n"
     ]
    },
    {
     "name": "stdout",
     "output_type": "stream",
     "text": [
      "[1000]\tvalid_set's rmse: 0.13881\n",
      "[2000]\tvalid_set's rmse: 0.138753\n",
      "[3000]\tvalid_set's rmse: 0.138751\n",
      "[4000]\tvalid_set's rmse: 0.138751\n",
      "[5000]\tvalid_set's rmse: 0.138751\n"
     ]
    },
    {
     "name": "stderr",
     "output_type": "stream",
     "text": [
      "\tRan out of time, early stopping on iteration 5259. Best iteration is:\n",
      "\t[5259]\tvalid_set's rmse: 0.138751\n",
      "\t-0.1217\t = Validation score   (root_mean_squared_error)\n",
      "\t58.0s\t = Training   runtime\n",
      "\t0.19s\t = Validation runtime\n",
      "Repeating k-fold bagging: 2/20\n",
      "Fitting model: LightGBMXT_BAG_L2 ... Training model for up to 219.11s of the 219.07s of remaining time.\n",
      "\tFitting 8 child models (S2F1 - S2F8) | Fitting with SequentialLocalFoldFittingStrategy\n",
      "\t-0.1246\t = Validation score   (root_mean_squared_error)\n",
      "\t22.05s\t = Training   runtime\n",
      "\t0.16s\t = Validation runtime\n",
      "Fitting model: LightGBM_BAG_L2 ... Training model for up to 212.07s of the 212.03s of remaining time.\n",
      "\tFitting 8 child models (S2F1 - S2F8) | Fitting with SequentialLocalFoldFittingStrategy\n"
     ]
    },
    {
     "name": "stdout",
     "output_type": "stream",
     "text": [
      "[1000]\tvalid_set's rmse: 0.112512\n",
      "[2000]\tvalid_set's rmse: 0.112096\n"
     ]
    },
    {
     "name": "stderr",
     "output_type": "stream",
     "text": [
      "\t-0.1183\t = Validation score   (root_mean_squared_error)\n",
      "\t15.44s\t = Training   runtime\n",
      "\t0.09s\t = Validation runtime\n",
      "Fitting model: CatBoost_BAG_L2 ... Training model for up to 202.38s of the 202.34s of remaining time.\n",
      "\tFitting 8 child models (S2F1 - S2F8) | Fitting with SequentialLocalFoldFittingStrategy\n",
      "\t-0.1184\t = Validation score   (root_mean_squared_error)\n",
      "\t37.16s\t = Training   runtime\n",
      "\t0.48s\t = Validation runtime\n",
      "Fitting model: NeuralNetFastAI_BAG_L2 ... Training model for up to 183.23s of the 183.19s of remaining time.\n",
      "\tFitting 8 child models (S2F1 - S2F8) | Fitting with SequentialLocalFoldFittingStrategy\n",
      "No improvement since epoch 4: early stopping\n",
      "\t-0.1368\t = Validation score   (root_mean_squared_error)\n",
      "\t22.97s\t = Training   runtime\n",
      "\t1.12s\t = Validation runtime\n",
      "Fitting model: XGBoost_BAG_L2 ... Training model for up to 171.58s of the 171.54s of remaining time.\n",
      "\tFitting 8 child models (S2F1 - S2F8) | Fitting with SequentialLocalFoldFittingStrategy\n",
      "\t-0.1197\t = Validation score   (root_mean_squared_error)\n",
      "\t26.31s\t = Training   runtime\n",
      "\t0.12s\t = Validation runtime\n",
      "Fitting model: NeuralNetTorch_BAG_L2 ... Training model for up to 157.0s of the 156.96s of remaining time.\n",
      "\tFitting 8 child models (S2F1 - S2F8) | Fitting with SequentialLocalFoldFittingStrategy\n",
      "\t-0.1192\t = Validation score   (root_mean_squared_error)\n",
      "\t43.25s\t = Training   runtime\n",
      "\t0.41s\t = Validation runtime\n",
      "Fitting model: LightGBMLarge_BAG_L2 ... Training model for up to 133.26s of the 133.22s of remaining time.\n",
      "\tFitting 8 child models (S2F1 - S2F8) | Fitting with SequentialLocalFoldFittingStrategy\n"
     ]
    },
    {
     "name": "stdout",
     "output_type": "stream",
     "text": [
      "[1000]\tvalid_set's rmse: 0.129064\n"
     ]
    },
    {
     "name": "stderr",
     "output_type": "stream",
     "text": [
      "\t-0.1212\t = Validation score   (root_mean_squared_error)\n",
      "\t84.42s\t = Training   runtime\n",
      "\t0.25s\t = Validation runtime\n",
      "Completed 2/20 k-fold bagging repeats ...\n",
      "Fitting model: WeightedEnsemble_L3 ... Training model for up to 360.0s of the 106.0s of remaining time.\n",
      "\t-0.1152\t = Validation score   (root_mean_squared_error)\n",
      "\t0.42s\t = Training   runtime\n",
      "\t0.0s\t = Validation runtime\n",
      "AutoGluon training complete, total runtime = 494.54s ... Best model: \"WeightedEnsemble_L3\"\n",
      "TabularPredictor saved. To load, use: predictor = TabularPredictor.load(\"AutogluonModels/ag-20220428_071938/\")\n"
     ]
    }
   ],
   "source": [
    "from autogluon.tabular import TabularDataset, TabularPredictor\n",
    "X_train = pd.concat([X_train, y_train], axis=1)\n",
    "X_test = pd.concat([X_test, y_test], axis=1)\n",
    "train_data = TabularDataset(X_train)\n",
    "test_data = TabularDataset(X_test)\n",
    "predictor = TabularPredictor(label='SalePrice',eval_metric = 'root_mean_squared_error').fit(train_data, time_limit=600,\n",
    "                                                   presets='best_quality',auto_stack=True,)  # For a fair comparison with auto-sklearn\n",
    "# leaderboard = predictor.leaderboard(test_data)\n"
   ]
  },
  {
   "cell_type": "code",
   "execution_count": 3,
   "id": "0c957a8e",
   "metadata": {},
   "outputs": [
    {
     "name": "stderr",
     "output_type": "stream",
     "text": [
      "Evaluation: root_mean_squared_error on test data: -0.12737148484064817\n",
      "\tNote: Scores are always higher_is_better. This metric score can be multiplied by -1 to get the metric value.\n",
      "Evaluations on test data:\n",
      "{\n",
      "    \"root_mean_squared_error\": -0.12737148484064817,\n",
      "    \"mean_squared_error\": -0.01622349515051147,\n",
      "    \"mean_absolute_error\": -0.08117024051113171,\n",
      "    \"r2\": 0.9130624875138512,\n",
      "    \"pearsonr\": 0.9566585345492157,\n",
      "    \"median_absolute_error\": -0.051626665127356475\n",
      "}\n"
     ]
    }
   ],
   "source": [
    "y_test = test_data['SalePrice']  # values to predict\n",
    "test_data_nolab = test_data.drop(columns=['SalePrice'])  # delete label column to prove we're not cheating\n",
    "y_pred = predictor.predict(test_data_nolab)\n",
    "\n",
    "perf = predictor.evaluate_predictions(y_true=y_test, y_pred=y_pred, auxiliary_metrics=True)"
   ]
  },
  {
   "cell_type": "code",
   "execution_count": 4,
   "id": "0b632c03",
   "metadata": {},
   "outputs": [
    {
     "name": "stdout",
     "output_type": "stream",
     "text": [
      "*** Summary of fit() ***\n",
      "Estimated performance of each model:\n",
      "                     model  score_val  pred_time_val    fit_time  pred_time_val_marginal  fit_time_marginal  stack_level  can_infer  fit_order\n",
      "0      WeightedEnsemble_L3  -0.115242       3.868423  335.963227                0.000435           0.416505            3       True         22\n",
      "1      WeightedEnsemble_L2  -0.115841       0.766218  155.921300                0.000423           0.355999            2       True         12\n",
      "2     ExtraTreesMSE_BAG_L2  -0.118288       2.581448  210.651275                0.188036           2.157560            2       True         17\n",
      "3          LightGBM_BAG_L2  -0.118298       2.486632  223.929707                0.093220          15.435992            2       True         14\n",
      "4          CatBoost_BAG_L2  -0.118424       2.870297  245.651820                0.476886          37.158105            2       True         16\n",
      "5   RandomForestMSE_BAG_L2  -0.118427       2.586271  211.234514                0.192860           2.740799            2       True         15\n",
      "6    NeuralNetTorch_BAG_L2  -0.119241       2.800655  251.743866                0.407243          43.250151            2       True         20\n",
      "7           XGBoost_BAG_L2  -0.119748       2.509742  234.804116                0.116331          26.310400            2       True         19\n",
      "8    NeuralNetTorch_BAG_L1  -0.120636       0.172924   23.112324                0.172924          23.112324            1       True         10\n",
      "9     LightGBMLarge_BAG_L2  -0.121167       2.638998  292.917365                0.245586          84.423650            2       True         21\n",
      "10         CatBoost_BAG_L1  -0.121689       0.174893   61.106448                0.174893          61.106448            1       True          6\n",
      "11       LightGBMXT_BAG_L2  -0.124615       2.549822  230.541121                0.156410          22.047406            2       True         13\n",
      "12       LightGBMXT_BAG_L1  -0.127298       0.152919   24.383299                0.152919          24.383299            1       True          3\n",
      "13          XGBoost_BAG_L1  -0.130315       0.067339   15.672306                0.067339          15.672306            1       True          9\n",
      "14         LightGBM_BAG_L1  -0.131890       0.197719   31.290924                0.197719          31.290924            1       True          4\n",
      "15  NeuralNetFastAI_BAG_L2  -0.136806       3.517419  231.462947                1.124008          22.969232            2       True         18\n",
      "16    LightGBMLarge_BAG_L1  -0.144294       0.069429   26.654736                0.069429          26.654736            1       True         11\n",
      "17    ExtraTreesMSE_BAG_L1  -0.144446       0.179904    1.816567                0.179904           1.816567            1       True          7\n",
      "18  RandomForestMSE_BAG_L1  -0.146066       0.164688    2.593783                0.164688           2.593783            1       True          5\n",
      "19  NeuralNetFastAI_BAG_L1  -0.152103       1.085919   21.837151                1.085919          21.837151            1       True          8\n",
      "20   KNeighborsDist_BAG_L1  -0.229760       0.036988    0.010402                0.036988           0.010402            1       True          2\n",
      "21   KNeighborsUnif_BAG_L1  -0.231418       0.090689    0.015775                0.090689           0.015775            1       True          1\n",
      "Number of models trained: 22\n",
      "Types of models trained:\n",
      "{'StackerEnsembleModel_CatBoost', 'StackerEnsembleModel_NNFastAiTabular', 'StackerEnsembleModel_LGB', 'WeightedEnsembleModel', 'StackerEnsembleModel_TabularNeuralNetTorch', 'StackerEnsembleModel_XT', 'StackerEnsembleModel_XGBoost', 'StackerEnsembleModel_RF', 'StackerEnsembleModel_KNN'}\n",
      "Bagging used: True  (with 8 folds)\n",
      "Multi-layer stack-ensembling used: True  (with 3 levels)\n",
      "Feature Metadata (Processed):\n",
      "(raw dtype, special dtypes):\n",
      "('float', [])     :   3 | ['LotFrontage', 'MasVnrArea', 'GarageYrBlt']\n",
      "('int', [])       :  34 | ['Id', 'MSSubClass', 'LotArea', 'OverallQual', 'OverallCond', ...]\n",
      "('int', ['bool']) : 265 | ['MSZoning_C (all)', 'MSZoning_FV', 'MSZoning_RH', 'MSZoning_RL', 'MSZoning_RM', ...]\n",
      "*** End of fit() summary ***\n"
     ]
    },
    {
     "name": "stderr",
     "output_type": "stream",
     "text": [
      "/home/martin/miniconda3/envs/autoML2/lib/python3.8/site-packages/autogluon/core/utils/plots.py:138: UserWarning: AutoGluon summary plots cannot be created because bokeh is not installed. To see plots, please do: \"pip install bokeh==2.0.1\"\n",
      "  warnings.warn('AutoGluon summary plots cannot be created because bokeh is not installed. To see plots, please do: \"pip install bokeh==2.0.1\"')\n"
     ]
    }
   ],
   "source": [
    "results = predictor.fit_summary(show_plot=True)"
   ]
  },
  {
   "cell_type": "code",
   "execution_count": null,
   "id": "946a3537",
   "metadata": {},
   "outputs": [],
   "source": []
  }
 ],
 "metadata": {
  "kernelspec": {
   "display_name": "Python [conda env:autoML2]",
   "language": "python",
   "name": "conda-env-autoML2-py"
  },
  "language_info": {
   "codemirror_mode": {
    "name": "ipython",
    "version": 3
   },
   "file_extension": ".py",
   "mimetype": "text/x-python",
   "name": "python",
   "nbconvert_exporter": "python",
   "pygments_lexer": "ipython3",
   "version": "3.8.13"
  }
 },
 "nbformat": 4,
 "nbformat_minor": 5
}
