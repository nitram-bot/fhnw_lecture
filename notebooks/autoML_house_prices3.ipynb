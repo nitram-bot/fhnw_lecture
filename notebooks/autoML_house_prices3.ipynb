{
 "cells": [
  {
   "cell_type": "markdown",
   "id": "7d9f4908",
   "metadata": {},
   "source": [
    "# Scikit-Optimize\n",
    "\n",
    "Probably you'll have to reload the notebook for the changes being in place. Scikit-Optimize works only with sklearn 0.23.2"
   ]
  },
  {
   "cell_type": "code",
   "execution_count": 1,
   "id": "6a8d8d1e",
   "metadata": {},
   "outputs": [
    {
     "data": {
      "text/plain": [
       "'0.9.0'"
      ]
     },
     "metadata": {},
     "output_type": "display_data"
    },
    {
     "data": {
      "text/plain": [
       "'1.2.2'"
      ]
     },
     "metadata": {},
     "output_type": "display_data"
    }
   ],
   "source": [
    "import skopt\n",
    "import importlib\n",
    "import sklearn\n",
    "display(skopt.__version__)\n",
    "importlib.reload(sklearn)\n",
    "display(sklearn.__version__)\n",
    "\n",
    "# Since BayesSearchCV can not deal with missing values, we have to impute them before:\n",
    "\n",
    "from sklearn.impute import SimpleImputer\n",
    "from sklearn.pipeline import make_pipeline\n",
    "from sklearn.pipeline import Pipeline\n",
    "from sklearn.preprocessing import OneHotEncoder\n",
    "from sklearn.compose import ColumnTransformer\n",
    "import numpy as np\n",
    "import pandas as pd\n",
    "\n",
    "\n",
    "from sklearn.model_selection import train_test_split\n",
    "train = pd.read_csv('../data/train.csv', sep=\",\")\n",
    "test = pd.read_csv('../data/test.csv')\n",
    "\n",
    "import sklearn\n",
    "y = train['SalePrice']\n",
    "X = train.drop('SalePrice', axis=1)\n",
    "categorical = [var for var in X.columns if X[var].dtype=='O']\n",
    "numerical = [var for var in X.columns if X[var].dtype!='O']\n",
    "X[categorical] = X[categorical].fillna('None')\n",
    "\n",
    "# auto-sklearn can not deal with categorical variables\n",
    "X= pd.concat([pd.get_dummies(X[categorical], dummy_na=True), X[numerical]], axis=1)\n",
    "\n",
    "y = np.log1p(y)\n",
    "X_train, X_test, y_train, y_test = \\\n",
    "    train_test_split(X, y, random_state=42, test_size=0.2)"
   ]
  },
  {
   "cell_type": "code",
   "execution_count": 2,
   "id": "91554e75",
   "metadata": {},
   "outputs": [
    {
     "name": "stdout",
     "output_type": "stream",
     "text": [
      "Fitting 5 folds for each of 1 candidates, totalling 5 fits\n"
     ]
    },
    {
     "name": "stderr",
     "output_type": "stream",
     "text": [
      "/home/martin/miniconda3/envs/skopt/lib/python3.8/site-packages/skopt/searchcv.py:300: UserWarning: The `iid` parameter has been deprecated and will be ignored.\n",
      "  warnings.warn(\"The `iid` parameter has been deprecated \"\n"
     ]
    },
    {
     "name": "stdout",
     "output_type": "stream",
     "text": [
      "Fitting 5 folds for each of 1 candidates, totalling 5 fits\n",
      "Fitting 5 folds for each of 1 candidates, totalling 5 fits\n",
      "Fitting 5 folds for each of 1 candidates, totalling 5 fits\n",
      "Fitting 5 folds for each of 1 candidates, totalling 5 fits\n",
      "Fitting 5 folds for each of 1 candidates, totalling 5 fits\n",
      "Fitting 5 folds for each of 1 candidates, totalling 5 fits\n",
      "Fitting 5 folds for each of 1 candidates, totalling 5 fits\n",
      "Fitting 5 folds for each of 1 candidates, totalling 5 fits\n",
      "Fitting 5 folds for each of 1 candidates, totalling 5 fits\n",
      "Fitting 5 folds for each of 1 candidates, totalling 5 fits\n",
      "Fitting 5 folds for each of 1 candidates, totalling 5 fits\n",
      "Fitting 5 folds for each of 1 candidates, totalling 5 fits\n",
      "Fitting 5 folds for each of 1 candidates, totalling 5 fits\n",
      "Fitting 5 folds for each of 1 candidates, totalling 5 fits\n",
      "Fitting 5 folds for each of 1 candidates, totalling 5 fits\n",
      "Fitting 5 folds for each of 1 candidates, totalling 5 fits\n",
      "Fitting 5 folds for each of 1 candidates, totalling 5 fits\n",
      "Fitting 5 folds for each of 1 candidates, totalling 5 fits\n"
     ]
    },
    {
     "name": "stderr",
     "output_type": "stream",
     "text": [
      "/home/martin/miniconda3/envs/skopt/lib/python3.8/site-packages/skopt/optimizer/optimizer.py:449: UserWarning: The objective has been evaluated at this point before.\n",
      "  warnings.warn(\"The objective has been evaluated \"\n"
     ]
    },
    {
     "name": "stdout",
     "output_type": "stream",
     "text": [
      "Fitting 5 folds for each of 1 candidates, totalling 5 fits\n",
      "Fitting 5 folds for each of 1 candidates, totalling 5 fits\n",
      "Fitting 5 folds for each of 1 candidates, totalling 5 fits\n",
      "Fitting 5 folds for each of 1 candidates, totalling 5 fits\n",
      "Fitting 5 folds for each of 1 candidates, totalling 5 fits\n",
      "Fitting 5 folds for each of 1 candidates, totalling 5 fits\n",
      "Fitting 5 folds for each of 1 candidates, totalling 5 fits\n",
      "Fitting 5 folds for each of 1 candidates, totalling 5 fits\n",
      "Fitting 5 folds for each of 1 candidates, totalling 5 fits\n",
      "Fitting 5 folds for each of 1 candidates, totalling 5 fits\n",
      "Fitting 5 folds for each of 1 candidates, totalling 5 fits\n",
      "Fitting 5 folds for each of 1 candidates, totalling 5 fits\n",
      "Fitting 5 folds for each of 1 candidates, totalling 5 fits\n"
     ]
    },
    {
     "name": "stderr",
     "output_type": "stream",
     "text": [
      "/home/martin/miniconda3/envs/skopt/lib/python3.8/site-packages/skopt/optimizer/optimizer.py:449: UserWarning: The objective has been evaluated at this point before.\n",
      "  warnings.warn(\"The objective has been evaluated \"\n"
     ]
    },
    {
     "name": "stdout",
     "output_type": "stream",
     "text": [
      "Fitting 5 folds for each of 1 candidates, totalling 5 fits\n",
      "Fitting 5 folds for each of 1 candidates, totalling 5 fits\n",
      "Fitting 5 folds for each of 1 candidates, totalling 5 fits\n",
      "Fitting 5 folds for each of 1 candidates, totalling 5 fits\n"
     ]
    },
    {
     "name": "stderr",
     "output_type": "stream",
     "text": [
      "/home/martin/miniconda3/envs/skopt/lib/python3.8/site-packages/skopt/optimizer/optimizer.py:449: UserWarning: The objective has been evaluated at this point before.\n",
      "  warnings.warn(\"The objective has been evaluated \"\n"
     ]
    },
    {
     "name": "stdout",
     "output_type": "stream",
     "text": [
      "Fitting 5 folds for each of 1 candidates, totalling 5 fits\n",
      "Fitting 5 folds for each of 1 candidates, totalling 5 fits\n",
      "Fitting 5 folds for each of 1 candidates, totalling 5 fits\n",
      "Fitting 5 folds for each of 1 candidates, totalling 5 fits\n",
      "Fitting 5 folds for each of 1 candidates, totalling 5 fits\n",
      "Fitting 5 folds for each of 1 candidates, totalling 5 fits\n",
      "Fitting 5 folds for each of 1 candidates, totalling 5 fits\n",
      "Fitting 5 folds for each of 1 candidates, totalling 5 fits\n",
      "Fitting 5 folds for each of 1 candidates, totalling 5 fits\n",
      "Fitting 5 folds for each of 1 candidates, totalling 5 fits\n",
      "Fitting 5 folds for each of 1 candidates, totalling 5 fits\n",
      "Fitting 5 folds for each of 1 candidates, totalling 5 fits\n",
      "Fitting 5 folds for each of 1 candidates, totalling 5 fits\n",
      "Fitting 5 folds for each of 1 candidates, totalling 5 fits\n",
      "Fitting 5 folds for each of 1 candidates, totalling 5 fits\n",
      "Fitting 5 folds for each of 1 candidates, totalling 5 fits\n",
      "Fitting 5 folds for each of 1 candidates, totalling 5 fits\n",
      "Fitting 5 folds for each of 1 candidates, totalling 5 fits\n",
      "Fitting 5 folds for each of 1 candidates, totalling 5 fits\n",
      "Fitting 5 folds for each of 1 candidates, totalling 5 fits\n"
     ]
    },
    {
     "name": "stderr",
     "output_type": "stream",
     "text": [
      "/home/martin/miniconda3/envs/skopt/lib/python3.8/site-packages/skopt/optimizer/optimizer.py:449: UserWarning: The objective has been evaluated at this point before.\n",
      "  warnings.warn(\"The objective has been evaluated \"\n"
     ]
    },
    {
     "name": "stdout",
     "output_type": "stream",
     "text": [
      "Fitting 5 folds for each of 1 candidates, totalling 5 fits\n",
      "Fitting 5 folds for each of 1 candidates, totalling 5 fits\n"
     ]
    },
    {
     "name": "stderr",
     "output_type": "stream",
     "text": [
      "/home/martin/miniconda3/envs/skopt/lib/python3.8/site-packages/skopt/optimizer/optimizer.py:449: UserWarning: The objective has been evaluated at this point before.\n",
      "  warnings.warn(\"The objective has been evaluated \"\n"
     ]
    },
    {
     "name": "stdout",
     "output_type": "stream",
     "text": [
      "Fitting 5 folds for each of 1 candidates, totalling 5 fits\n",
      "Fitting 5 folds for each of 1 candidates, totalling 5 fits\n"
     ]
    },
    {
     "name": "stderr",
     "output_type": "stream",
     "text": [
      "/home/martin/miniconda3/envs/skopt/lib/python3.8/site-packages/skopt/optimizer/optimizer.py:449: UserWarning: The objective has been evaluated at this point before.\n",
      "  warnings.warn(\"The objective has been evaluated \"\n"
     ]
    },
    {
     "name": "stdout",
     "output_type": "stream",
     "text": [
      "Fitting 5 folds for each of 1 candidates, totalling 5 fits\n"
     ]
    },
    {
     "name": "stderr",
     "output_type": "stream",
     "text": [
      "/home/martin/miniconda3/envs/skopt/lib/python3.8/site-packages/skopt/optimizer/optimizer.py:449: UserWarning: The objective has been evaluated at this point before.\n",
      "  warnings.warn(\"The objective has been evaluated \"\n"
     ]
    },
    {
     "name": "stdout",
     "output_type": "stream",
     "text": [
      "Fitting 5 folds for each of 1 candidates, totalling 5 fits\n",
      "Fitting 5 folds for each of 1 candidates, totalling 5 fits\n",
      "Fitting 5 folds for each of 1 candidates, totalling 5 fits\n"
     ]
    },
    {
     "data": {
      "text/html": [
       "<style>#sk-container-id-1 {color: black;background-color: white;}#sk-container-id-1 pre{padding: 0;}#sk-container-id-1 div.sk-toggleable {background-color: white;}#sk-container-id-1 label.sk-toggleable__label {cursor: pointer;display: block;width: 100%;margin-bottom: 0;padding: 0.3em;box-sizing: border-box;text-align: center;}#sk-container-id-1 label.sk-toggleable__label-arrow:before {content: \"▸\";float: left;margin-right: 0.25em;color: #696969;}#sk-container-id-1 label.sk-toggleable__label-arrow:hover:before {color: black;}#sk-container-id-1 div.sk-estimator:hover label.sk-toggleable__label-arrow:before {color: black;}#sk-container-id-1 div.sk-toggleable__content {max-height: 0;max-width: 0;overflow: hidden;text-align: left;background-color: #f0f8ff;}#sk-container-id-1 div.sk-toggleable__content pre {margin: 0.2em;color: black;border-radius: 0.25em;background-color: #f0f8ff;}#sk-container-id-1 input.sk-toggleable__control:checked~div.sk-toggleable__content {max-height: 200px;max-width: 100%;overflow: auto;}#sk-container-id-1 input.sk-toggleable__control:checked~label.sk-toggleable__label-arrow:before {content: \"▾\";}#sk-container-id-1 div.sk-estimator input.sk-toggleable__control:checked~label.sk-toggleable__label {background-color: #d4ebff;}#sk-container-id-1 div.sk-label input.sk-toggleable__control:checked~label.sk-toggleable__label {background-color: #d4ebff;}#sk-container-id-1 input.sk-hidden--visually {border: 0;clip: rect(1px 1px 1px 1px);clip: rect(1px, 1px, 1px, 1px);height: 1px;margin: -1px;overflow: hidden;padding: 0;position: absolute;width: 1px;}#sk-container-id-1 div.sk-estimator {font-family: monospace;background-color: #f0f8ff;border: 1px dotted black;border-radius: 0.25em;box-sizing: border-box;margin-bottom: 0.5em;}#sk-container-id-1 div.sk-estimator:hover {background-color: #d4ebff;}#sk-container-id-1 div.sk-parallel-item::after {content: \"\";width: 100%;border-bottom: 1px solid gray;flex-grow: 1;}#sk-container-id-1 div.sk-label:hover label.sk-toggleable__label {background-color: #d4ebff;}#sk-container-id-1 div.sk-serial::before {content: \"\";position: absolute;border-left: 1px solid gray;box-sizing: border-box;top: 0;bottom: 0;left: 50%;z-index: 0;}#sk-container-id-1 div.sk-serial {display: flex;flex-direction: column;align-items: center;background-color: white;padding-right: 0.2em;padding-left: 0.2em;position: relative;}#sk-container-id-1 div.sk-item {position: relative;z-index: 1;}#sk-container-id-1 div.sk-parallel {display: flex;align-items: stretch;justify-content: center;background-color: white;position: relative;}#sk-container-id-1 div.sk-item::before, #sk-container-id-1 div.sk-parallel-item::before {content: \"\";position: absolute;border-left: 1px solid gray;box-sizing: border-box;top: 0;bottom: 0;left: 50%;z-index: -1;}#sk-container-id-1 div.sk-parallel-item {display: flex;flex-direction: column;z-index: 1;position: relative;background-color: white;}#sk-container-id-1 div.sk-parallel-item:first-child::after {align-self: flex-end;width: 50%;}#sk-container-id-1 div.sk-parallel-item:last-child::after {align-self: flex-start;width: 50%;}#sk-container-id-1 div.sk-parallel-item:only-child::after {width: 0;}#sk-container-id-1 div.sk-dashed-wrapped {border: 1px dashed gray;margin: 0 0.4em 0.5em 0.4em;box-sizing: border-box;padding-bottom: 0.4em;background-color: white;}#sk-container-id-1 div.sk-label label {font-family: monospace;font-weight: bold;display: inline-block;line-height: 1.2em;}#sk-container-id-1 div.sk-label-container {text-align: center;}#sk-container-id-1 div.sk-container {/* jupyter's `normalize.less` sets `[hidden] { display: none; }` but bootstrap.min.css set `[hidden] { display: none !important; }` so we also need the `!important` here to be able to override the default hidden behavior on the sphinx rendered scikit-learn.org. See: https://github.com/scikit-learn/scikit-learn/issues/21755 */display: inline-block !important;position: relative;}#sk-container-id-1 div.sk-text-repr-fallback {display: none;}</style><div id=\"sk-container-id-1\" class=\"sk-top-container\"><div class=\"sk-text-repr-fallback\"><pre>BayesSearchCV(cv=5, estimator=GradientBoostingRegressor(), iid=True, n_iter=64,\n",
       "              n_jobs=-1, random_state=0,\n",
       "              search_spaces={&#x27;learning_rate&#x27;: Real(low=0.1, high=0.3, prior=&#x27;uniform&#x27;, transform=&#x27;normalize&#x27;),\n",
       "                             &#x27;loss&#x27;: Categorical(categories=(&#x27;squared_error&#x27;,), prior=None),\n",
       "                             &#x27;max_depth&#x27;: Integer(low=3, high=6, prior=&#x27;uniform&#x27;, transform=&#x27;normalize&#x27;),\n",
       "                             &#x27;max_features&#x27;: Real(low=0.6, high=1.0, prior=&#x27;uniform&#x27;, transform=&#x27;normalize&#x27;),\n",
       "                             &#x27;n_estimators&#x27;: Integer(low=100, high=600, prior=&#x27;uniform&#x27;, transform=&#x27;normalize&#x27;),\n",
       "                             &#x27;subsample&#x27;: Real(low=0.6, high=1.0, prior=&#x27;uniform&#x27;, transform=&#x27;normalize&#x27;)},\n",
       "              verbose=1)</pre><b>In a Jupyter environment, please rerun this cell to show the HTML representation or trust the notebook. <br />On GitHub, the HTML representation is unable to render, please try loading this page with nbviewer.org.</b></div><div class=\"sk-container\" hidden><div class=\"sk-item sk-dashed-wrapped\"><div class=\"sk-label-container\"><div class=\"sk-label sk-toggleable\"><input class=\"sk-toggleable__control sk-hidden--visually\" id=\"sk-estimator-id-1\" type=\"checkbox\" ><label for=\"sk-estimator-id-1\" class=\"sk-toggleable__label sk-toggleable__label-arrow\">BayesSearchCV</label><div class=\"sk-toggleable__content\"><pre>BayesSearchCV(cv=5, estimator=GradientBoostingRegressor(), iid=True, n_iter=64,\n",
       "              n_jobs=-1, random_state=0,\n",
       "              search_spaces={&#x27;learning_rate&#x27;: Real(low=0.1, high=0.3, prior=&#x27;uniform&#x27;, transform=&#x27;normalize&#x27;),\n",
       "                             &#x27;loss&#x27;: Categorical(categories=(&#x27;squared_error&#x27;,), prior=None),\n",
       "                             &#x27;max_depth&#x27;: Integer(low=3, high=6, prior=&#x27;uniform&#x27;, transform=&#x27;normalize&#x27;),\n",
       "                             &#x27;max_features&#x27;: Real(low=0.6, high=1.0, prior=&#x27;uniform&#x27;, transform=&#x27;normalize&#x27;),\n",
       "                             &#x27;n_estimators&#x27;: Integer(low=100, high=600, prior=&#x27;uniform&#x27;, transform=&#x27;normalize&#x27;),\n",
       "                             &#x27;subsample&#x27;: Real(low=0.6, high=1.0, prior=&#x27;uniform&#x27;, transform=&#x27;normalize&#x27;)},\n",
       "              verbose=1)</pre></div></div></div><div class=\"sk-parallel\"><div class=\"sk-parallel-item\"><div class=\"sk-item\"><div class=\"sk-label-container\"><div class=\"sk-label sk-toggleable\"><input class=\"sk-toggleable__control sk-hidden--visually\" id=\"sk-estimator-id-2\" type=\"checkbox\" ><label for=\"sk-estimator-id-2\" class=\"sk-toggleable__label sk-toggleable__label-arrow\">estimator: GradientBoostingRegressor</label><div class=\"sk-toggleable__content\"><pre>GradientBoostingRegressor()</pre></div></div></div><div class=\"sk-serial\"><div class=\"sk-item\"><div class=\"sk-estimator sk-toggleable\"><input class=\"sk-toggleable__control sk-hidden--visually\" id=\"sk-estimator-id-3\" type=\"checkbox\" ><label for=\"sk-estimator-id-3\" class=\"sk-toggleable__label sk-toggleable__label-arrow\">GradientBoostingRegressor</label><div class=\"sk-toggleable__content\"><pre>GradientBoostingRegressor()</pre></div></div></div></div></div></div></div></div></div></div>"
      ],
      "text/plain": [
       "BayesSearchCV(cv=5, estimator=GradientBoostingRegressor(), iid=True, n_iter=64,\n",
       "              n_jobs=-1, random_state=0,\n",
       "              search_spaces={'learning_rate': Real(low=0.1, high=0.3, prior='uniform', transform='normalize'),\n",
       "                             'loss': Categorical(categories=('squared_error',), prior=None),\n",
       "                             'max_depth': Integer(low=3, high=6, prior='uniform', transform='normalize'),\n",
       "                             'max_features': Real(low=0.6, high=1.0, prior='uniform', transform='normalize'),\n",
       "                             'n_estimators': Integer(low=100, high=600, prior='uniform', transform='normalize'),\n",
       "                             'subsample': Real(low=0.6, high=1.0, prior='uniform', transform='normalize')},\n",
       "              verbose=1)"
      ]
     },
     "execution_count": 2,
     "metadata": {},
     "output_type": "execute_result"
    }
   ],
   "source": [
    "numeric_transformer = SimpleImputer(missing_values=np.nan, strategy='mean')\n",
    "\n",
    "X_train.loc[:, numerical] = numeric_transformer.fit_transform(X_train.loc[:, numerical])\n",
    "X_test.loc[:, numerical] = numeric_transformer.fit_transform(X_test.loc[:, numerical])\n",
    "\n",
    "from skopt.space import Real, Categorical, Integer\n",
    "from skopt import BayesSearchCV\n",
    "from sklearn.ensemble import GradientBoostingRegressor\n",
    "\n",
    "regressor = BayesSearchCV(\n",
    "    estimator = GradientBoostingRegressor(),\n",
    "      search_spaces ={\n",
    "         'learning_rate': Real(0.1,0.3),\n",
    "         'loss': Categorical(['squared_error']),\n",
    "         'max_depth': Integer(3,6),\n",
    "         'n_estimators': Integer(100, 600),\n",
    "         'subsample': Real(0.6, 1.0),\n",
    "         'max_features': Real(0.6, 1.0) \n",
    "      },\n",
    "    n_iter=64,\n",
    "    random_state=0,\n",
    "    verbose=1, iid=True,\n",
    "    cv=5, n_jobs=-1\n",
    "  )\n",
    "regressor.fit(X_train,y_train)"
   ]
  },
  {
   "cell_type": "code",
   "execution_count": 3,
   "id": "a5c72047",
   "metadata": {},
   "outputs": [
    {
     "name": "stdout",
     "output_type": "stream",
     "text": [
      "mean-squared-error: 0.135512186426193\n"
     ]
    }
   ],
   "source": [
    "predictions = regressor.predict(X_test)\n",
    "print(\"mean-squared-error:\", sklearn.metrics.mean_squared_error(y_test, predictions, squared=False))"
   ]
  },
  {
   "cell_type": "code",
   "execution_count": 7,
   "id": "45fe9461",
   "metadata": {},
   "outputs": [
    {
     "name": "stdout",
     "output_type": "stream",
     "text": [
      "Requirement already satisfied: tpot in /home/martin/miniconda3/envs/skopt/lib/python3.8/site-packages (0.11.7)\n",
      "Requirement already satisfied: numpy>=1.16.3 in /home/martin/miniconda3/envs/skopt/lib/python3.8/site-packages (from tpot) (1.19.5)\n",
      "Requirement already satisfied: tqdm>=4.36.1 in /home/martin/miniconda3/envs/skopt/lib/python3.8/site-packages (from tpot) (4.65.0)\n",
      "Requirement already satisfied: scipy>=1.3.1 in /home/martin/miniconda3/envs/skopt/lib/python3.8/site-packages (from tpot) (1.10.1)\n",
      "Requirement already satisfied: deap>=1.2 in /home/martin/miniconda3/envs/skopt/lib/python3.8/site-packages (from tpot) (1.3.3)\n",
      "Requirement already satisfied: xgboost>=1.1.0 in /home/martin/miniconda3/envs/skopt/lib/python3.8/site-packages (from tpot) (1.7.5)\n",
      "Requirement already satisfied: scikit-learn>=0.22.0 in /home/martin/miniconda3/envs/skopt/lib/python3.8/site-packages (from tpot) (1.2.2)\n",
      "Requirement already satisfied: update-checker>=0.16 in /home/martin/miniconda3/envs/skopt/lib/python3.8/site-packages (from tpot) (0.18.0)\n",
      "Requirement already satisfied: joblib>=0.13.2 in /home/martin/miniconda3/envs/skopt/lib/python3.8/site-packages (from tpot) (1.2.0)\n",
      "Requirement already satisfied: pandas>=0.24.2 in /home/martin/miniconda3/envs/skopt/lib/python3.8/site-packages (from tpot) (1.4.0)\n",
      "Requirement already satisfied: stopit>=1.1.1 in /home/martin/miniconda3/envs/skopt/lib/python3.8/site-packages (from tpot) (1.1.2)\n",
      "Requirement already satisfied: pytz>=2020.1 in /home/martin/miniconda3/envs/skopt/lib/python3.8/site-packages (from pandas>=0.24.2->tpot) (2023.3)\n",
      "Requirement already satisfied: python-dateutil>=2.8.1 in /home/martin/miniconda3/envs/skopt/lib/python3.8/site-packages (from pandas>=0.24.2->tpot) (2.8.2)\n",
      "Requirement already satisfied: threadpoolctl>=2.0.0 in /home/martin/miniconda3/envs/skopt/lib/python3.8/site-packages (from scikit-learn>=0.22.0->tpot) (3.1.0)\n",
      "Requirement already satisfied: requests>=2.3.0 in /home/martin/miniconda3/envs/skopt/lib/python3.8/site-packages (from update-checker>=0.16->tpot) (2.28.2)\n",
      "Requirement already satisfied: six>=1.5 in /home/martin/miniconda3/envs/skopt/lib/python3.8/site-packages (from python-dateutil>=2.8.1->pandas>=0.24.2->tpot) (1.16.0)\n",
      "Requirement already satisfied: idna<4,>=2.5 in /home/martin/miniconda3/envs/skopt/lib/python3.8/site-packages (from requests>=2.3.0->update-checker>=0.16->tpot) (3.4)\n",
      "Requirement already satisfied: charset-normalizer<4,>=2 in /home/martin/miniconda3/envs/skopt/lib/python3.8/site-packages (from requests>=2.3.0->update-checker>=0.16->tpot) (3.1.0)\n",
      "Requirement already satisfied: urllib3<1.27,>=1.21.1 in /home/martin/miniconda3/envs/skopt/lib/python3.8/site-packages (from requests>=2.3.0->update-checker>=0.16->tpot) (1.26.15)\n",
      "Requirement already satisfied: certifi>=2017.4.17 in /home/martin/miniconda3/envs/skopt/lib/python3.8/site-packages (from requests>=2.3.0->update-checker>=0.16->tpot) (2022.12.7)\n",
      "Collecting ipywidgets\n",
      "  Downloading ipywidgets-8.0.6-py3-none-any.whl (138 kB)\n",
      "\u001b[2K     \u001b[90m━━━━━━━━━━━━━━━━━━━━━━━━━━━━━━━━━━━━━\u001b[0m \u001b[32m138.3/138.3 kB\u001b[0m \u001b[31m782.8 kB/s\u001b[0m eta \u001b[36m0:00:00\u001b[0ma \u001b[36m0:00:01\u001b[0m\n",
      "\u001b[?25hRequirement already satisfied: ipykernel>=4.5.1 in /home/martin/miniconda3/envs/skopt/lib/python3.8/site-packages (from ipywidgets) (6.19.2)\n",
      "Requirement already satisfied: traitlets>=4.3.1 in /home/martin/miniconda3/envs/skopt/lib/python3.8/site-packages (from ipywidgets) (5.7.1)\n",
      "Collecting jupyterlab-widgets~=3.0.7\n",
      "  Downloading jupyterlab_widgets-3.0.7-py3-none-any.whl (198 kB)\n",
      "\u001b[2K     \u001b[90m━━━━━━━━━━━━━━━━━━━━━━━━━━━━━━━━━━━━━━━\u001b[0m \u001b[32m198.2/198.2 kB\u001b[0m \u001b[31m2.1 MB/s\u001b[0m eta \u001b[36m0:00:00\u001b[0ma \u001b[36m0:00:01\u001b[0m\n",
      "\u001b[?25hRequirement already satisfied: ipython>=6.1.0 in /home/martin/miniconda3/envs/skopt/lib/python3.8/site-packages (from ipywidgets) (8.12.0)\n",
      "Collecting widgetsnbextension~=4.0.7\n",
      "  Downloading widgetsnbextension-4.0.7-py3-none-any.whl (2.1 MB)\n",
      "\u001b[2K     \u001b[90m━━━━━━━━━━━━━━━━━━━━━━━━━━━━━━━━━━━━━━━━\u001b[0m \u001b[32m2.1/2.1 MB\u001b[0m \u001b[31m752.3 kB/s\u001b[0m eta \u001b[36m0:00:00\u001b[0m00:01\u001b[0m00:01\u001b[0m\n",
      "\u001b[?25hRequirement already satisfied: packaging in /home/martin/miniconda3/envs/skopt/lib/python3.8/site-packages (from ipykernel>=4.5.1->ipywidgets) (23.0)\n",
      "Requirement already satisfied: comm>=0.1.1 in /home/martin/miniconda3/envs/skopt/lib/python3.8/site-packages (from ipykernel>=4.5.1->ipywidgets) (0.1.2)\n",
      "Requirement already satisfied: jupyter-client>=6.1.12 in /home/martin/miniconda3/envs/skopt/lib/python3.8/site-packages (from ipykernel>=4.5.1->ipywidgets) (8.1.0)\n",
      "Requirement already satisfied: psutil in /home/martin/miniconda3/envs/skopt/lib/python3.8/site-packages (from ipykernel>=4.5.1->ipywidgets) (5.9.0)\n",
      "Requirement already satisfied: debugpy>=1.0 in /home/martin/miniconda3/envs/skopt/lib/python3.8/site-packages (from ipykernel>=4.5.1->ipywidgets) (1.5.1)\n",
      "Requirement already satisfied: pyzmq>=17 in /home/martin/miniconda3/envs/skopt/lib/python3.8/site-packages (from ipykernel>=4.5.1->ipywidgets) (23.2.0)\n",
      "Requirement already satisfied: tornado>=6.1 in /home/martin/miniconda3/envs/skopt/lib/python3.8/site-packages (from ipykernel>=4.5.1->ipywidgets) (6.2)\n",
      "Requirement already satisfied: nest-asyncio in /home/martin/miniconda3/envs/skopt/lib/python3.8/site-packages (from ipykernel>=4.5.1->ipywidgets) (1.5.6)\n",
      "Requirement already satisfied: matplotlib-inline>=0.1 in /home/martin/miniconda3/envs/skopt/lib/python3.8/site-packages (from ipykernel>=4.5.1->ipywidgets) (0.1.6)\n",
      "Requirement already satisfied: typing-extensions in /home/martin/miniconda3/envs/skopt/lib/python3.8/site-packages (from ipython>=6.1.0->ipywidgets) (4.4.0)\n",
      "Requirement already satisfied: backcall in /home/martin/miniconda3/envs/skopt/lib/python3.8/site-packages (from ipython>=6.1.0->ipywidgets) (0.2.0)\n",
      "Requirement already satisfied: prompt-toolkit!=3.0.37,<3.1.0,>=3.0.30 in /home/martin/miniconda3/envs/skopt/lib/python3.8/site-packages (from ipython>=6.1.0->ipywidgets) (3.0.36)\n",
      "Requirement already satisfied: pygments>=2.4.0 in /home/martin/miniconda3/envs/skopt/lib/python3.8/site-packages (from ipython>=6.1.0->ipywidgets) (2.11.2)\n",
      "Requirement already satisfied: stack-data in /home/martin/miniconda3/envs/skopt/lib/python3.8/site-packages (from ipython>=6.1.0->ipywidgets) (0.2.0)\n",
      "Requirement already satisfied: pickleshare in /home/martin/miniconda3/envs/skopt/lib/python3.8/site-packages (from ipython>=6.1.0->ipywidgets) (0.7.5)\n",
      "Requirement already satisfied: pexpect>4.3 in /home/martin/miniconda3/envs/skopt/lib/python3.8/site-packages (from ipython>=6.1.0->ipywidgets) (4.8.0)\n",
      "Requirement already satisfied: jedi>=0.16 in /home/martin/miniconda3/envs/skopt/lib/python3.8/site-packages (from ipython>=6.1.0->ipywidgets) (0.18.1)\n",
      "Requirement already satisfied: decorator in /home/martin/miniconda3/envs/skopt/lib/python3.8/site-packages (from ipython>=6.1.0->ipywidgets) (5.1.1)\n",
      "Requirement already satisfied: parso<0.9.0,>=0.8.0 in /home/martin/miniconda3/envs/skopt/lib/python3.8/site-packages (from jedi>=0.16->ipython>=6.1.0->ipywidgets) (0.8.3)\n",
      "Requirement already satisfied: importlib-metadata>=4.8.3 in /home/martin/miniconda3/envs/skopt/lib/python3.8/site-packages (from jupyter-client>=6.1.12->ipykernel>=4.5.1->ipywidgets) (6.0.0)\n",
      "Requirement already satisfied: jupyter-core!=5.0.*,>=4.12 in /home/martin/miniconda3/envs/skopt/lib/python3.8/site-packages (from jupyter-client>=6.1.12->ipykernel>=4.5.1->ipywidgets) (5.3.0)\n",
      "Requirement already satisfied: python-dateutil>=2.8.2 in /home/martin/miniconda3/envs/skopt/lib/python3.8/site-packages (from jupyter-client>=6.1.12->ipykernel>=4.5.1->ipywidgets) (2.8.2)\n",
      "Requirement already satisfied: ptyprocess>=0.5 in /home/martin/miniconda3/envs/skopt/lib/python3.8/site-packages (from pexpect>4.3->ipython>=6.1.0->ipywidgets) (0.7.0)\n",
      "Requirement already satisfied: wcwidth in /home/martin/miniconda3/envs/skopt/lib/python3.8/site-packages (from prompt-toolkit!=3.0.37,<3.1.0,>=3.0.30->ipython>=6.1.0->ipywidgets) (0.2.5)\n",
      "Requirement already satisfied: asttokens in /home/martin/miniconda3/envs/skopt/lib/python3.8/site-packages (from stack-data->ipython>=6.1.0->ipywidgets) (2.0.5)\n",
      "Requirement already satisfied: pure-eval in /home/martin/miniconda3/envs/skopt/lib/python3.8/site-packages (from stack-data->ipython>=6.1.0->ipywidgets) (0.2.2)\n",
      "Requirement already satisfied: executing in /home/martin/miniconda3/envs/skopt/lib/python3.8/site-packages (from stack-data->ipython>=6.1.0->ipywidgets) (0.8.3)\n",
      "Requirement already satisfied: zipp>=0.5 in /home/martin/miniconda3/envs/skopt/lib/python3.8/site-packages (from importlib-metadata>=4.8.3->jupyter-client>=6.1.12->ipykernel>=4.5.1->ipywidgets) (3.11.0)\n",
      "Requirement already satisfied: platformdirs>=2.5 in /home/martin/miniconda3/envs/skopt/lib/python3.8/site-packages (from jupyter-core!=5.0.*,>=4.12->jupyter-client>=6.1.12->ipykernel>=4.5.1->ipywidgets) (2.5.2)\n",
      "Requirement already satisfied: six>=1.5 in /home/martin/miniconda3/envs/skopt/lib/python3.8/site-packages (from python-dateutil>=2.8.2->jupyter-client>=6.1.12->ipykernel>=4.5.1->ipywidgets) (1.16.0)\n"
     ]
    },
    {
     "name": "stdout",
     "output_type": "stream",
     "text": [
      "Installing collected packages: widgetsnbextension, jupyterlab-widgets, ipywidgets\n",
      "Successfully installed ipywidgets-8.0.6 jupyterlab-widgets-3.0.7 widgetsnbextension-4.0.7\n",
      "Config option `kernel_spec_manager_class` not recognized by `EnableNBExtensionApp`.\n",
      "Enabling notebook extension jupyter-js-widgets/extension...\n",
      "      - Validating: \u001b[32mOK\u001b[0m\n"
     ]
    }
   ],
   "source": [
    "!pip install tpot\n",
    "!pip install --upgrade ipywidgets\n",
    "!jupyter nbextension enable --py widgetsnbextension"
   ]
  },
  {
   "cell_type": "markdown",
   "id": "b896acc9",
   "metadata": {},
   "source": [
    "# TPOT (Tree-based Pipeline Optimization Tool)"
   ]
  },
  {
   "cell_type": "code",
   "execution_count": 4,
   "id": "753fe0a4",
   "metadata": {},
   "outputs": [
    {
     "name": "stderr",
     "output_type": "stream",
     "text": [
      "/home/martin/miniconda3/envs/skopt/lib/python3.8/site-packages/tpot/builtins/__init__.py:36: UserWarning: Warning: optional dependency `torch` is not available. - skipping import of NN models.\n",
      "  warnings.warn(\"Warning: optional dependency `torch` is not available. - skipping import of NN models.\")\n"
     ]
    },
    {
     "data": {
      "application/vnd.jupyter.widget-view+json": {
       "model_id": "109e563c994645f59fefd31a19d91ad8",
       "version_major": 2,
       "version_minor": 0
      },
      "text/plain": [
       "Optimization Progress:   0%|          | 0/300 [00:00<?, ?pipeline/s]"
      ]
     },
     "metadata": {},
     "output_type": "display_data"
    },
    {
     "name": "stdout",
     "output_type": "stream",
     "text": [
      "\n",
      "Generation 1 - Current best internal CV score: -0.016755944202587646\n"
     ]
    },
    {
     "name": "stderr",
     "output_type": "stream",
     "text": [
      "/home/martin/miniconda3/envs/skopt/lib/python3.8/site-packages/tpot/builtins/__init__.py:36: UserWarning: Warning: optional dependency `torch` is not available. - skipping import of NN models.\n",
      "  warnings.warn(\"Warning: optional dependency `torch` is not available. - skipping import of NN models.\")\n",
      "/home/martin/miniconda3/envs/skopt/lib/python3.8/site-packages/tpot/builtins/__init__.py:36: UserWarning: Warning: optional dependency `torch` is not available. - skipping import of NN models.\n",
      "  warnings.warn(\"Warning: optional dependency `torch` is not available. - skipping import of NN models.\")\n",
      "/home/martin/miniconda3/envs/skopt/lib/python3.8/site-packages/tpot/builtins/__init__.py:36: UserWarning: Warning: optional dependency `torch` is not available. - skipping import of NN models.\n",
      "  warnings.warn(\"Warning: optional dependency `torch` is not available. - skipping import of NN models.\")\n",
      "/home/martin/miniconda3/envs/skopt/lib/python3.8/site-packages/tpot/builtins/__init__.py:36: UserWarning: Warning: optional dependency `torch` is not available. - skipping import of NN models.\n",
      "  warnings.warn(\"Warning: optional dependency `torch` is not available. - skipping import of NN models.\")\n",
      "/home/martin/miniconda3/envs/skopt/lib/python3.8/site-packages/tpot/builtins/__init__.py:36: UserWarning: Warning: optional dependency `torch` is not available. - skipping import of NN models.\n",
      "  warnings.warn(\"Warning: optional dependency `torch` is not available. - skipping import of NN models.\")\n",
      "/home/martin/miniconda3/envs/skopt/lib/python3.8/site-packages/tpot/builtins/__init__.py:36: UserWarning: Warning: optional dependency `torch` is not available. - skipping import of NN models.\n",
      "  warnings.warn(\"Warning: optional dependency `torch` is not available. - skipping import of NN models.\")\n",
      "/home/martin/miniconda3/envs/skopt/lib/python3.8/site-packages/tpot/builtins/__init__.py:36: UserWarning: Warning: optional dependency `torch` is not available. - skipping import of NN models.\n",
      "  warnings.warn(\"Warning: optional dependency `torch` is not available. - skipping import of NN models.\")\n"
     ]
    },
    {
     "name": "stdout",
     "output_type": "stream",
     "text": [
      "\n",
      "\n",
      "TPOT closed during evaluation in one generation.\n",
      "WARNING: TPOT may not provide a good pipeline if TPOT is stopped/interrupted in a early generation.\n",
      "\n",
      "\n",
      "TPOT closed prematurely. Will use the current best pipeline.\n",
      "\n",
      "Best pipeline: XGBRegressor(RidgeCV(input_matrix), learning_rate=0.1, max_depth=6, min_child_weight=15, n_estimators=100, n_jobs=1, objective=reg:squarederror, subsample=0.5, verbosity=0)\n"
     ]
    },
    {
     "data": {
      "text/html": [
       "<style>#sk-container-id-2 {color: black;background-color: white;}#sk-container-id-2 pre{padding: 0;}#sk-container-id-2 div.sk-toggleable {background-color: white;}#sk-container-id-2 label.sk-toggleable__label {cursor: pointer;display: block;width: 100%;margin-bottom: 0;padding: 0.3em;box-sizing: border-box;text-align: center;}#sk-container-id-2 label.sk-toggleable__label-arrow:before {content: \"▸\";float: left;margin-right: 0.25em;color: #696969;}#sk-container-id-2 label.sk-toggleable__label-arrow:hover:before {color: black;}#sk-container-id-2 div.sk-estimator:hover label.sk-toggleable__label-arrow:before {color: black;}#sk-container-id-2 div.sk-toggleable__content {max-height: 0;max-width: 0;overflow: hidden;text-align: left;background-color: #f0f8ff;}#sk-container-id-2 div.sk-toggleable__content pre {margin: 0.2em;color: black;border-radius: 0.25em;background-color: #f0f8ff;}#sk-container-id-2 input.sk-toggleable__control:checked~div.sk-toggleable__content {max-height: 200px;max-width: 100%;overflow: auto;}#sk-container-id-2 input.sk-toggleable__control:checked~label.sk-toggleable__label-arrow:before {content: \"▾\";}#sk-container-id-2 div.sk-estimator input.sk-toggleable__control:checked~label.sk-toggleable__label {background-color: #d4ebff;}#sk-container-id-2 div.sk-label input.sk-toggleable__control:checked~label.sk-toggleable__label {background-color: #d4ebff;}#sk-container-id-2 input.sk-hidden--visually {border: 0;clip: rect(1px 1px 1px 1px);clip: rect(1px, 1px, 1px, 1px);height: 1px;margin: -1px;overflow: hidden;padding: 0;position: absolute;width: 1px;}#sk-container-id-2 div.sk-estimator {font-family: monospace;background-color: #f0f8ff;border: 1px dotted black;border-radius: 0.25em;box-sizing: border-box;margin-bottom: 0.5em;}#sk-container-id-2 div.sk-estimator:hover {background-color: #d4ebff;}#sk-container-id-2 div.sk-parallel-item::after {content: \"\";width: 100%;border-bottom: 1px solid gray;flex-grow: 1;}#sk-container-id-2 div.sk-label:hover label.sk-toggleable__label {background-color: #d4ebff;}#sk-container-id-2 div.sk-serial::before {content: \"\";position: absolute;border-left: 1px solid gray;box-sizing: border-box;top: 0;bottom: 0;left: 50%;z-index: 0;}#sk-container-id-2 div.sk-serial {display: flex;flex-direction: column;align-items: center;background-color: white;padding-right: 0.2em;padding-left: 0.2em;position: relative;}#sk-container-id-2 div.sk-item {position: relative;z-index: 1;}#sk-container-id-2 div.sk-parallel {display: flex;align-items: stretch;justify-content: center;background-color: white;position: relative;}#sk-container-id-2 div.sk-item::before, #sk-container-id-2 div.sk-parallel-item::before {content: \"\";position: absolute;border-left: 1px solid gray;box-sizing: border-box;top: 0;bottom: 0;left: 50%;z-index: -1;}#sk-container-id-2 div.sk-parallel-item {display: flex;flex-direction: column;z-index: 1;position: relative;background-color: white;}#sk-container-id-2 div.sk-parallel-item:first-child::after {align-self: flex-end;width: 50%;}#sk-container-id-2 div.sk-parallel-item:last-child::after {align-self: flex-start;width: 50%;}#sk-container-id-2 div.sk-parallel-item:only-child::after {width: 0;}#sk-container-id-2 div.sk-dashed-wrapped {border: 1px dashed gray;margin: 0 0.4em 0.5em 0.4em;box-sizing: border-box;padding-bottom: 0.4em;background-color: white;}#sk-container-id-2 div.sk-label label {font-family: monospace;font-weight: bold;display: inline-block;line-height: 1.2em;}#sk-container-id-2 div.sk-label-container {text-align: center;}#sk-container-id-2 div.sk-container {/* jupyter's `normalize.less` sets `[hidden] { display: none; }` but bootstrap.min.css set `[hidden] { display: none !important; }` so we also need the `!important` here to be able to override the default hidden behavior on the sphinx rendered scikit-learn.org. See: https://github.com/scikit-learn/scikit-learn/issues/21755 */display: inline-block !important;position: relative;}#sk-container-id-2 div.sk-text-repr-fallback {display: none;}</style><div id=\"sk-container-id-2\" class=\"sk-top-container\"><div class=\"sk-text-repr-fallback\"><pre>TPOTRegressor(generations=5, n_jobs=-1, population_size=50, random_state=42,\n",
       "              verbosity=2)</pre><b>In a Jupyter environment, please rerun this cell to show the HTML representation or trust the notebook. <br />On GitHub, the HTML representation is unable to render, please try loading this page with nbviewer.org.</b></div><div class=\"sk-container\" hidden><div class=\"sk-item\"><div class=\"sk-estimator sk-toggleable\"><input class=\"sk-toggleable__control sk-hidden--visually\" id=\"sk-estimator-id-4\" type=\"checkbox\" checked><label for=\"sk-estimator-id-4\" class=\"sk-toggleable__label sk-toggleable__label-arrow\">TPOTRegressor</label><div class=\"sk-toggleable__content\"><pre>TPOTRegressor(generations=5, n_jobs=-1, population_size=50, random_state=42,\n",
       "              verbosity=2)</pre></div></div></div></div></div>"
      ],
      "text/plain": [
       "TPOTRegressor(generations=5, n_jobs=-1, population_size=50, random_state=42,\n",
       "              verbosity=2)"
      ]
     },
     "execution_count": 4,
     "metadata": {},
     "output_type": "execute_result"
    }
   ],
   "source": [
    "# the steps below require a new-start of the notebook - if not the changes are not in place\n",
    "\n",
    "\n",
    "\n",
    "from tpot import TPOTRegressor\n",
    "from sklearn.datasets import load_digits \n",
    "from sklearn.model_selection import train_test_split \n",
    "\n",
    "tpot = TPOTRegressor(generations=5, population_size=50, verbosity=2, random_state=42, n_jobs=-1)\n",
    "tpot.fit(X_train, y_train)"
   ]
  },
  {
   "cell_type": "code",
   "execution_count": 3,
   "id": "2b998fea",
   "metadata": {},
   "outputs": [
    {
     "name": "stdout",
     "output_type": "stream",
     "text": [
      "Imputing missing values in feature set\n",
      "0.1390256800634034\n"
     ]
    },
    {
     "name": "stderr",
     "output_type": "stream",
     "text": [
      "/home/martin/miniconda3/envs/skopt/lib/python3.8/site-packages/sklearn/metrics/_scorer.py:794: FutureWarning: sklearn.metrics.SCORERS is deprecated and will be removed in v1.3. Please use sklearn.metrics.get_scorer_names to get a list of available scorers and sklearn.metrics.get_metric to get scorer.\n",
      "  warnings.warn(\n"
     ]
    }
   ],
   "source": [
    "print(np.sqrt(-tpot.score(X_test, y_test)))"
   ]
  },
  {
   "cell_type": "markdown",
   "id": "55029c90",
   "metadata": {},
   "source": [
    "# OPTUNA"
   ]
  },
  {
   "cell_type": "code",
   "execution_count": null,
   "id": "02f11e8c",
   "metadata": {},
   "outputs": [],
   "source": [
    "!pip install optuna"
   ]
  },
  {
   "cell_type": "code",
   "execution_count": 5,
   "id": "ca954d5c",
   "metadata": {},
   "outputs": [
    {
     "name": "stderr",
     "output_type": "stream",
     "text": [
      "\u001b[32m[I 2023-04-21 17:22:44,434]\u001b[0m A new study created in memory with name: no-name-b95b3bb0-b4b8-4031-8c2b-55ff2b071d9d\u001b[0m\n"
     ]
    },
    {
     "name": "stdout",
     "output_type": "stream",
     "text": [
      "[LightGBM] [Warning] bagging_freq is set=2, subsample_freq=0 will be ignored. Current value: bagging_freq=2\n",
      "[LightGBM] [Warning] bagging_freq is set=2, subsample_freq=0 will be ignored. Current value: bagging_freq=2\n",
      "[LightGBM] [Warning] bagging_freq is set=2, subsample_freq=0 will be ignored. Current value: bagging_freq=2\n"
     ]
    },
    {
     "name": "stderr",
     "output_type": "stream",
     "text": [
      "\u001b[32m[I 2023-04-21 17:22:44,921]\u001b[0m Trial 0 finished with value: 0.1331719503162009 and parameters: {'learning_rate': 0.04778426727419636, 'reg_lambda': 2.0137628576692663e-05, 'n_estimators': 106, 'num_leaves': 28, 'bagging_freq': 2, 'min_child_samples': 18, 'subsample_freq': 0, 'colsample_bytree': 0.8196885328776882, 'subsample': 0.9078787168281531}. Best is trial 0 with value: 0.1331719503162009.\u001b[0m\n"
     ]
    },
    {
     "name": "stdout",
     "output_type": "stream",
     "text": [
      "[LightGBM] [Warning] bagging_freq is set=2, subsample_freq=0 will be ignored. Current value: bagging_freq=2\n",
      "[LightGBM] [Warning] bagging_freq is set=2, subsample_freq=0 will be ignored. Current value: bagging_freq=2\n",
      "[LightGBM] [Warning] bagging_freq is set=6, subsample_freq=1 will be ignored. Current value: bagging_freq=6\n"
     ]
    },
    {
     "name": "stderr",
     "output_type": "stream",
     "text": [
      "\u001b[32m[I 2023-04-21 17:22:45,163]\u001b[0m Trial 1 finished with value: 0.30399101446957627 and parameters: {'learning_rate': 0.0023134812314108823, 'reg_lambda': 0.0011888697566721322, 'n_estimators': 192, 'num_leaves': 7, 'bagging_freq': 6, 'min_child_samples': 75, 'subsample_freq': 1, 'colsample_bytree': 0.9662890284143961, 'subsample': 0.6884661751250831}. Best is trial 0 with value: 0.1331719503162009.\u001b[0m\n"
     ]
    },
    {
     "name": "stdout",
     "output_type": "stream",
     "text": [
      "[LightGBM] [Warning] bagging_freq is set=6, subsample_freq=1 will be ignored. Current value: bagging_freq=6\n",
      "[LightGBM] [Warning] bagging_freq is set=6, subsample_freq=1 will be ignored. Current value: bagging_freq=6\n",
      "[LightGBM] [Warning] bagging_freq is set=6, subsample_freq=1 will be ignored. Current value: bagging_freq=6\n",
      "[LightGBM] [Warning] bagging_freq is set=6, subsample_freq=1 will be ignored. Current value: bagging_freq=6\n",
      "[LightGBM] [Warning] bagging_freq is set=4, subsample_freq=4 will be ignored. Current value: bagging_freq=4\n",
      "[LightGBM] [Warning] bagging_freq is set=4, subsample_freq=4 will be ignored. Current value: bagging_freq=4\n",
      "[LightGBM] [Warning] bagging_freq is set=4, subsample_freq=4 will be ignored. Current value: bagging_freq=4\n",
      "[LightGBM] [Warning] bagging_freq is set=4, subsample_freq=4 will be ignored. Current value: bagging_freq=4\n",
      "[LightGBM] [Warning] bagging_freq is set=4, subsample_freq=4 will be ignored. Current value: bagging_freq=4\n"
     ]
    },
    {
     "name": "stderr",
     "output_type": "stream",
     "text": [
      "\u001b[32m[I 2023-04-21 17:22:46,011]\u001b[0m Trial 2 finished with value: 0.25314946799265947 and parameters: {'learning_rate': 0.0021873044935623157, 'reg_lambda': 0.2207652597573757, 'n_estimators': 298, 'num_leaves': 25, 'bagging_freq': 4, 'min_child_samples': 13, 'subsample_freq': 4, 'colsample_bytree': 0.6368088697353828, 'subsample': 0.6400286135820028}. Best is trial 0 with value: 0.1331719503162009.\u001b[0m\n"
     ]
    },
    {
     "name": "stdout",
     "output_type": "stream",
     "text": [
      "[LightGBM] [Warning] bagging_freq is set=2, subsample_freq=5 will be ignored. Current value: bagging_freq=2\n",
      "[LightGBM] [Warning] bagging_freq is set=2, subsample_freq=5 will be ignored. Current value: bagging_freq=2\n",
      "[LightGBM] [Warning] bagging_freq is set=2, subsample_freq=5 will be ignored. Current value: bagging_freq=2\n",
      "[LightGBM] [Warning] bagging_freq is set=2, subsample_freq=5 will be ignored. Current value: bagging_freq=2\n",
      "[LightGBM] [Warning] bagging_freq is set=2, subsample_freq=5 will be ignored. Current value: bagging_freq=2\n"
     ]
    },
    {
     "name": "stderr",
     "output_type": "stream",
     "text": [
      "\u001b[32m[I 2023-04-21 17:22:46,267]\u001b[0m Trial 3 finished with value: 0.36161411672126204 and parameters: {'learning_rate': 0.0007436630970964551, 'reg_lambda': 0.3435167797456532, 'n_estimators': 144, 'num_leaves': 13, 'bagging_freq': 2, 'min_child_samples': 71, 'subsample_freq': 5, 'colsample_bytree': 0.9439504857326948, 'subsample': 0.8132417645990799}. Best is trial 0 with value: 0.1331719503162009.\u001b[0m\n"
     ]
    },
    {
     "name": "stdout",
     "output_type": "stream",
     "text": [
      "[LightGBM] [Warning] bagging_freq is set=5, subsample_freq=5 will be ignored. Current value: bagging_freq=5\n",
      "[LightGBM] [Warning] bagging_freq is set=5, subsample_freq=5 will be ignored. Current value: bagging_freq=5\n",
      "[LightGBM] [Warning] bagging_freq is set=5, subsample_freq=5 will be ignored. Current value: bagging_freq=5\n"
     ]
    },
    {
     "name": "stderr",
     "output_type": "stream",
     "text": [
      "\u001b[32m[I 2023-04-21 17:22:46,702]\u001b[0m Trial 4 finished with value: 0.3632152974151822 and parameters: {'learning_rate': 0.00039232872985417395, 'reg_lambda': 2.5493621445766998e-08, 'n_estimators': 256, 'num_leaves': 30, 'bagging_freq': 5, 'min_child_samples': 51, 'subsample_freq': 5, 'colsample_bytree': 0.6035500257912987, 'subsample': 0.6564826891768338}. Best is trial 0 with value: 0.1331719503162009.\u001b[0m\n"
     ]
    },
    {
     "name": "stdout",
     "output_type": "stream",
     "text": [
      "[LightGBM] [Warning] bagging_freq is set=5, subsample_freq=5 will be ignored. Current value: bagging_freq=5\n",
      "[LightGBM] [Warning] bagging_freq is set=5, subsample_freq=5 will be ignored. Current value: bagging_freq=5\n",
      "[LightGBM] [Warning] bagging_freq is set=4, subsample_freq=8 will be ignored. Current value: bagging_freq=4\n",
      "[LightGBM] [Warning] bagging_freq is set=4, subsample_freq=8 will be ignored. Current value: bagging_freq=4\n",
      "[LightGBM] [Warning] bagging_freq is set=4, subsample_freq=8 will be ignored. Current value: bagging_freq=4\n",
      "[LightGBM] [Warning] bagging_freq is set=4, subsample_freq=8 will be ignored. Current value: bagging_freq=4\n"
     ]
    },
    {
     "name": "stderr",
     "output_type": "stream",
     "text": [
      "\u001b[32m[I 2023-04-21 17:22:47,102]\u001b[0m Trial 5 finished with value: 0.13970320381279486 and parameters: {'learning_rate': 0.026001771014309966, 'reg_lambda': 0.7060381390665775, 'n_estimators': 180, 'num_leaves': 23, 'bagging_freq': 4, 'min_child_samples': 48, 'subsample_freq': 8, 'colsample_bytree': 0.9671604817834121, 'subsample': 0.8349971863669519}. Best is trial 0 with value: 0.1331719503162009.\u001b[0m\n"
     ]
    },
    {
     "name": "stdout",
     "output_type": "stream",
     "text": [
      "[LightGBM] [Warning] bagging_freq is set=4, subsample_freq=8 will be ignored. Current value: bagging_freq=4\n",
      "[LightGBM] [Warning] bagging_freq is set=1, subsample_freq=0 will be ignored. Current value: bagging_freq=1\n",
      "[LightGBM] [Warning] bagging_freq is set=1, subsample_freq=0 will be ignored. Current value: bagging_freq=1\n",
      "[LightGBM] [Warning] bagging_freq is set=1, subsample_freq=0 will be ignored. Current value: bagging_freq=1\n"
     ]
    },
    {
     "name": "stderr",
     "output_type": "stream",
     "text": [
      "\u001b[32m[I 2023-04-21 17:22:47,420]\u001b[0m Trial 6 finished with value: 0.13012388468582525 and parameters: {'learning_rate': 0.08377615985576459, 'reg_lambda': 0.00797472184642038, 'n_estimators': 174, 'num_leaves': 8, 'bagging_freq': 1, 'min_child_samples': 38, 'subsample_freq': 0, 'colsample_bytree': 0.8292995108819758, 'subsample': 0.9784022211430636}. Best is trial 6 with value: 0.13012388468582525.\u001b[0m\n"
     ]
    },
    {
     "name": "stdout",
     "output_type": "stream",
     "text": [
      "[LightGBM] [Warning] bagging_freq is set=1, subsample_freq=0 will be ignored. Current value: bagging_freq=1\n",
      "[LightGBM] [Warning] bagging_freq is set=1, subsample_freq=0 will be ignored. Current value: bagging_freq=1\n",
      "[LightGBM] [Warning] bagging_freq is set=5, subsample_freq=4 will be ignored. Current value: bagging_freq=5\n",
      "[LightGBM] [Warning] bagging_freq is set=5, subsample_freq=4 will be ignored. Current value: bagging_freq=5\n",
      "[LightGBM] [Warning] bagging_freq is set=5, subsample_freq=4 will be ignored. Current value: bagging_freq=5\n",
      "[LightGBM] [Warning] bagging_freq is set=5, subsample_freq=4 will be ignored. Current value: bagging_freq=5\n",
      "[LightGBM] [Warning] bagging_freq is set=5, subsample_freq=4 will be ignored. Current value: bagging_freq=5\n"
     ]
    },
    {
     "name": "stderr",
     "output_type": "stream",
     "text": [
      "\u001b[32m[I 2023-04-21 17:22:48,257]\u001b[0m Trial 7 finished with value: 0.13394624830938137 and parameters: {'learning_rate': 0.06421287440588039, 'reg_lambda': 0.02702965444985873, 'n_estimators': 365, 'num_leaves': 24, 'bagging_freq': 5, 'min_child_samples': 36, 'subsample_freq': 4, 'colsample_bytree': 0.8080802301262504, 'subsample': 0.8183775733574776}. Best is trial 6 with value: 0.13012388468582525.\u001b[0m\n"
     ]
    },
    {
     "name": "stdout",
     "output_type": "stream",
     "text": [
      "[LightGBM] [Warning] bagging_freq is set=4, subsample_freq=7 will be ignored. Current value: bagging_freq=4\n",
      "[LightGBM] [Warning] bagging_freq is set=4, subsample_freq=7 will be ignored. Current value: bagging_freq=4\n",
      "[LightGBM] [Warning] bagging_freq is set=4, subsample_freq=7 will be ignored. Current value: bagging_freq=4\n"
     ]
    },
    {
     "name": "stderr",
     "output_type": "stream",
     "text": [
      "\u001b[32m[I 2023-04-21 17:22:48,665]\u001b[0m Trial 8 finished with value: 0.36970099635455916 and parameters: {'learning_rate': 0.00043058906418447153, 'reg_lambda': 3.5475322556733533e-07, 'n_estimators': 151, 'num_leaves': 12, 'bagging_freq': 4, 'min_child_samples': 33, 'subsample_freq': 7, 'colsample_bytree': 0.8584064043526174, 'subsample': 0.930058498427218}. Best is trial 6 with value: 0.13012388468582525.\u001b[0m\n"
     ]
    },
    {
     "name": "stdout",
     "output_type": "stream",
     "text": [
      "[LightGBM] [Warning] bagging_freq is set=4, subsample_freq=7 will be ignored. Current value: bagging_freq=4\n",
      "[LightGBM] [Warning] bagging_freq is set=4, subsample_freq=7 will be ignored. Current value: bagging_freq=4\n",
      "[LightGBM] [Warning] bagging_freq is set=6, subsample_freq=4 will be ignored. Current value: bagging_freq=6\n",
      "[LightGBM] [Warning] bagging_freq is set=6, subsample_freq=4 will be ignored. Current value: bagging_freq=6\n",
      "[LightGBM] [Warning] bagging_freq is set=6, subsample_freq=4 will be ignored. Current value: bagging_freq=6\n",
      "[LightGBM] [Warning] bagging_freq is set=6, subsample_freq=4 will be ignored. Current value: bagging_freq=6\n"
     ]
    },
    {
     "name": "stderr",
     "output_type": "stream",
     "text": [
      "\u001b[32m[I 2023-04-21 17:22:49,041]\u001b[0m Trial 9 finished with value: 0.21265126555885808 and parameters: {'learning_rate': 0.004680074918784453, 'reg_lambda': 1.2428282892402725e-07, 'n_estimators': 291, 'num_leaves': 5, 'bagging_freq': 6, 'min_child_samples': 49, 'subsample_freq': 4, 'colsample_bytree': 0.7544537623631173, 'subsample': 0.8753765333677274}. Best is trial 6 with value: 0.13012388468582525.\u001b[0m\n"
     ]
    },
    {
     "name": "stdout",
     "output_type": "stream",
     "text": [
      "[LightGBM] [Warning] bagging_freq is set=6, subsample_freq=4 will be ignored. Current value: bagging_freq=6\n",
      "[LightGBM] [Warning] bagging_freq is set=1, subsample_freq=2 will be ignored. Current value: bagging_freq=1\n",
      "[LightGBM] [Warning] bagging_freq is set=1, subsample_freq=2 will be ignored. Current value: bagging_freq=1\n"
     ]
    },
    {
     "name": "stderr",
     "output_type": "stream",
     "text": [
      "\u001b[32m[I 2023-04-21 17:22:49,343]\u001b[0m Trial 10 finished with value: 0.3804025999571264 and parameters: {'learning_rate': 0.00012254642945568154, 'reg_lambda': 0.0013576229038996367, 'n_estimators': 216, 'num_leaves': 18, 'bagging_freq': 1, 'min_child_samples': 95, 'subsample_freq': 2, 'colsample_bytree': 0.6606160576155682, 'subsample': 0.9932634507334268}. Best is trial 6 with value: 0.13012388468582525.\u001b[0m\n"
     ]
    },
    {
     "name": "stdout",
     "output_type": "stream",
     "text": [
      "[LightGBM] [Warning] bagging_freq is set=1, subsample_freq=2 will be ignored. Current value: bagging_freq=1\n",
      "[LightGBM] [Warning] bagging_freq is set=1, subsample_freq=2 will be ignored. Current value: bagging_freq=1\n",
      "[LightGBM] [Warning] bagging_freq is set=1, subsample_freq=2 will be ignored. Current value: bagging_freq=1\n",
      "[LightGBM] [Warning] bagging_freq is set=2, subsample_freq=0 will be ignored. Current value: bagging_freq=2\n",
      "[LightGBM] [Warning] bagging_freq is set=2, subsample_freq=0 will be ignored. Current value: bagging_freq=2\n",
      "[LightGBM] [Warning] bagging_freq is set=2, subsample_freq=0 will be ignored. Current value: bagging_freq=2\n",
      "[LightGBM] [Warning] bagging_freq is set=2, subsample_freq=0 will be ignored. Current value: bagging_freq=2\n",
      "[LightGBM] [Warning] bagging_freq is set=2, subsample_freq=0 will be ignored. Current value: bagging_freq=2\n"
     ]
    },
    {
     "name": "stderr",
     "output_type": "stream",
     "text": [
      "\u001b[32m[I 2023-04-21 17:22:49,694]\u001b[0m Trial 11 finished with value: 0.1351842684578323 and parameters: {'learning_rate': 0.09457301322996241, 'reg_lambda': 7.738538175622242e-06, 'n_estimators': 100, 'num_leaves': 18, 'bagging_freq': 2, 'min_child_samples': 6, 'subsample_freq': 0, 'colsample_bytree': 0.849561324714234, 'subsample': 0.987926207225194}. Best is trial 6 with value: 0.13012388468582525.\u001b[0m\n"
     ]
    },
    {
     "name": "stdout",
     "output_type": "stream",
     "text": [
      "[LightGBM] [Warning] bagging_freq is set=1, subsample_freq=0 will be ignored. Current value: bagging_freq=1\n",
      "[LightGBM] [Warning] bagging_freq is set=1, subsample_freq=0 will be ignored. Current value: bagging_freq=1\n",
      "[LightGBM] [Warning] bagging_freq is set=1, subsample_freq=0 will be ignored. Current value: bagging_freq=1\n",
      "[LightGBM] [Warning] bagging_freq is set=1, subsample_freq=0 will be ignored. Current value: bagging_freq=1\n",
      "[LightGBM] [Warning] bagging_freq is set=1, subsample_freq=0 will be ignored. Current value: bagging_freq=1\n"
     ]
    },
    {
     "name": "stderr",
     "output_type": "stream",
     "text": [
      "\u001b[32m[I 2023-04-21 17:22:49,953]\u001b[0m Trial 12 finished with value: 0.16045774701001267 and parameters: {'learning_rate': 0.02121546885833841, 'reg_lambda': 3.615767509904318e-05, 'n_estimators': 101, 'num_leaves': 10, 'bagging_freq': 1, 'min_child_samples': 23, 'subsample_freq': 0, 'colsample_bytree': 0.7230783455582046, 'subsample': 0.5152211837634675}. Best is trial 6 with value: 0.13012388468582525.\u001b[0m\n"
     ]
    },
    {
     "name": "stdout",
     "output_type": "stream",
     "text": [
      "[LightGBM] [Warning] bagging_freq is set=2, subsample_freq=2 will be ignored. Current value: bagging_freq=2\n",
      "[LightGBM] [Warning] bagging_freq is set=2, subsample_freq=2 will be ignored. Current value: bagging_freq=2\n",
      "[LightGBM] [Warning] bagging_freq is set=2, subsample_freq=2 will be ignored. Current value: bagging_freq=2\n"
     ]
    },
    {
     "name": "stderr",
     "output_type": "stream",
     "text": [
      "\u001b[32m[I 2023-04-21 17:22:50,468]\u001b[0m Trial 13 finished with value: 0.1315576213127133 and parameters: {'learning_rate': 0.033981374836894986, 'reg_lambda': 0.0007133237386533725, 'n_estimators': 143, 'num_leaves': 30, 'bagging_freq': 2, 'min_child_samples': 25, 'subsample_freq': 2, 'colsample_bytree': 0.5494290917792937, 'subsample': 0.9083098124014953}. Best is trial 6 with value: 0.13012388468582525.\u001b[0m\n"
     ]
    },
    {
     "name": "stdout",
     "output_type": "stream",
     "text": [
      "[LightGBM] [Warning] bagging_freq is set=2, subsample_freq=2 will be ignored. Current value: bagging_freq=2\n",
      "[LightGBM] [Warning] bagging_freq is set=2, subsample_freq=2 will be ignored. Current value: bagging_freq=2\n",
      "[LightGBM] [Warning] bagging_freq is set=3, subsample_freq=2 will be ignored. Current value: bagging_freq=3\n",
      "[LightGBM] [Warning] bagging_freq is set=3, subsample_freq=2 will be ignored. Current value: bagging_freq=3\n",
      "[LightGBM] [Warning] bagging_freq is set=3, subsample_freq=2 will be ignored. Current value: bagging_freq=3\n",
      "[LightGBM] [Warning] bagging_freq is set=3, subsample_freq=2 will be ignored. Current value: bagging_freq=3\n"
     ]
    },
    {
     "name": "stderr",
     "output_type": "stream",
     "text": [
      "\u001b[32m[I 2023-04-21 17:22:51,135]\u001b[0m Trial 14 finished with value: 0.14343281295504282 and parameters: {'learning_rate': 0.012913354494506412, 'reg_lambda': 0.0029576122720344354, 'n_estimators': 230, 'num_leaves': 15, 'bagging_freq': 3, 'min_child_samples': 32, 'subsample_freq': 2, 'colsample_bytree': 0.524894681360779, 'subsample': 0.9330402742066559}. Best is trial 6 with value: 0.13012388468582525.\u001b[0m\n"
     ]
    },
    {
     "name": "stdout",
     "output_type": "stream",
     "text": [
      "[LightGBM] [Warning] bagging_freq is set=3, subsample_freq=2 will be ignored. Current value: bagging_freq=3\n",
      "[LightGBM] [Warning] bagging_freq is set=1, subsample_freq=2 will be ignored. Current value: bagging_freq=1\n",
      "[LightGBM] [Warning] bagging_freq is set=1, subsample_freq=2 will be ignored. Current value: bagging_freq=1\n",
      "[LightGBM] [Warning] bagging_freq is set=1, subsample_freq=2 will be ignored. Current value: bagging_freq=1\n",
      "[LightGBM] [Warning] bagging_freq is set=1, subsample_freq=2 will be ignored. Current value: bagging_freq=1\n"
     ]
    },
    {
     "name": "stderr",
     "output_type": "stream",
     "text": [
      "\u001b[32m[I 2023-04-21 17:22:51,505]\u001b[0m Trial 15 finished with value: 0.1343220344349092 and parameters: {'learning_rate': 0.08192963351646124, 'reg_lambda': 0.0004244630069934887, 'n_estimators': 152, 'num_leaves': 20, 'bagging_freq': 1, 'min_child_samples': 68, 'subsample_freq': 2, 'colsample_bytree': 0.5184641830335093, 'subsample': 0.9814789187312554}. Best is trial 6 with value: 0.13012388468582525.\u001b[0m\n"
     ]
    },
    {
     "name": "stdout",
     "output_type": "stream",
     "text": [
      "[LightGBM] [Warning] bagging_freq is set=1, subsample_freq=2 will be ignored. Current value: bagging_freq=1\n",
      "[LightGBM] [Warning] bagging_freq is set=3, subsample_freq=1 will be ignored. Current value: bagging_freq=3\n",
      "[LightGBM] [Warning] bagging_freq is set=3, subsample_freq=1 will be ignored. Current value: bagging_freq=3\n"
     ]
    },
    {
     "name": "stderr",
     "output_type": "stream",
     "text": [
      "\u001b[32m[I 2023-04-21 17:22:51,866]\u001b[0m Trial 16 finished with value: 0.17011853779055036 and parameters: {'learning_rate': 0.00999879849073995, 'reg_lambda': 0.021174599060138927, 'n_estimators': 192, 'num_leaves': 9, 'bagging_freq': 3, 'min_child_samples': 40, 'subsample_freq': 1, 'colsample_bytree': 0.5864821086160538, 'subsample': 0.8736151656161716}. Best is trial 6 with value: 0.13012388468582525.\u001b[0m\n"
     ]
    },
    {
     "name": "stdout",
     "output_type": "stream",
     "text": [
      "[LightGBM] [Warning] bagging_freq is set=3, subsample_freq=1 will be ignored. Current value: bagging_freq=3\n",
      "[LightGBM] [Warning] bagging_freq is set=3, subsample_freq=1 will be ignored. Current value: bagging_freq=3\n",
      "[LightGBM] [Warning] bagging_freq is set=3, subsample_freq=1 will be ignored. Current value: bagging_freq=3\n"
     ]
    },
    {
     "name": "stderr",
     "output_type": "stream",
     "text": [
      "\u001b[32m[I 2023-04-21 17:22:52,086]\u001b[0m Trial 17 finished with value: 0.144103585217419 and parameters: {'learning_rate': 0.037898136371402276, 'reg_lambda': 0.0002512215487359138, 'n_estimators': 142, 'num_leaves': 4, 'bagging_freq': 3, 'min_child_samples': 61, 'subsample_freq': 3, 'colsample_bytree': 0.7094666656085257, 'subsample': 0.7665916547681366}. Best is trial 6 with value: 0.13012388468582525.\u001b[0m\n"
     ]
    },
    {
     "name": "stdout",
     "output_type": "stream",
     "text": [
      "[LightGBM] [Warning] bagging_freq is set=3, subsample_freq=3 will be ignored. Current value: bagging_freq=3\n",
      "[LightGBM] [Warning] bagging_freq is set=3, subsample_freq=3 will be ignored. Current value: bagging_freq=3\n",
      "[LightGBM] [Warning] bagging_freq is set=3, subsample_freq=3 will be ignored. Current value: bagging_freq=3\n",
      "[LightGBM] [Warning] bagging_freq is set=3, subsample_freq=3 will be ignored. Current value: bagging_freq=3\n",
      "[LightGBM] [Warning] bagging_freq is set=3, subsample_freq=3 will be ignored. Current value: bagging_freq=3\n",
      "[LightGBM] [Warning] bagging_freq is set=7, subsample_freq=1 will be ignored. Current value: bagging_freq=7\n",
      "[LightGBM] [Warning] bagging_freq is set=7, subsample_freq=1 will be ignored. Current value: bagging_freq=7\n",
      "[LightGBM] [Warning] bagging_freq is set=7, subsample_freq=1 will be ignored. Current value: bagging_freq=7\n",
      "[LightGBM] [Warning] bagging_freq is set=7, subsample_freq=1 will be ignored. Current value: bagging_freq=7\n"
     ]
    },
    {
     "name": "stderr",
     "output_type": "stream",
     "text": [
      "\u001b[32m[I 2023-04-21 17:22:53,273]\u001b[0m Trial 18 finished with value: 0.12882530818908466 and parameters: {'learning_rate': 0.03387772173969212, 'reg_lambda': 0.010617334106931582, 'n_estimators': 386, 'num_leaves': 22, 'bagging_freq': 7, 'min_child_samples': 24, 'subsample_freq': 1, 'colsample_bytree': 0.5619200976663752, 'subsample': 0.9414122469905596}. Best is trial 18 with value: 0.12882530818908466.\u001b[0m\n"
     ]
    },
    {
     "name": "stdout",
     "output_type": "stream",
     "text": [
      "[LightGBM] [Warning] bagging_freq is set=7, subsample_freq=1 will be ignored. Current value: bagging_freq=7\n",
      "[LightGBM] [Warning] bagging_freq is set=7, subsample_freq=1 will be ignored. Current value: bagging_freq=7\n",
      "[LightGBM] [Warning] bagging_freq is set=7, subsample_freq=1 will be ignored. Current value: bagging_freq=7\n",
      "[LightGBM] [Warning] bagging_freq is set=7, subsample_freq=1 will be ignored. Current value: bagging_freq=7\n",
      "[LightGBM] [Warning] bagging_freq is set=7, subsample_freq=1 will be ignored. Current value: bagging_freq=7\n",
      "[LightGBM] [Warning] bagging_freq is set=7, subsample_freq=1 will be ignored. Current value: bagging_freq=7\n"
     ]
    },
    {
     "name": "stderr",
     "output_type": "stream",
     "text": [
      "\u001b[32m[I 2023-04-21 17:22:54,280]\u001b[0m Trial 19 finished with value: 0.13247839388729293 and parameters: {'learning_rate': 0.09172102579533407, 'reg_lambda': 0.00972813123943532, 'n_estimators': 377, 'num_leaves': 21, 'bagging_freq': 7, 'min_child_samples': 6, 'subsample_freq': 1, 'colsample_bytree': 0.6638536979879668, 'subsample': 0.9511142848823275}. Best is trial 18 with value: 0.12882530818908466.\u001b[0m\n"
     ]
    },
    {
     "name": "stdout",
     "output_type": "stream",
     "text": [
      "[LightGBM] [Warning] bagging_freq is set=7, subsample_freq=0 will be ignored. Current value: bagging_freq=7\n",
      "[LightGBM] [Warning] bagging_freq is set=7, subsample_freq=0 will be ignored. Current value: bagging_freq=7\n",
      "[LightGBM] [Warning] bagging_freq is set=7, subsample_freq=0 will be ignored. Current value: bagging_freq=7\n"
     ]
    },
    {
     "name": "stderr",
     "output_type": "stream",
     "text": [
      "\u001b[32m[I 2023-04-21 17:22:54,809]\u001b[0m Trial 20 finished with value: 0.1434698885137346 and parameters: {'learning_rate': 0.01574994353196298, 'reg_lambda': 0.07695184474223513, 'n_estimators': 334, 'num_leaves': 16, 'bagging_freq': 7, 'min_child_samples': 83, 'subsample_freq': 0, 'colsample_bytree': 0.5721963035935642, 'subsample': 0.9970121619798881}. Best is trial 18 with value: 0.12882530818908466.\u001b[0m\n"
     ]
    },
    {
     "name": "stdout",
     "output_type": "stream",
     "text": [
      "[LightGBM] [Warning] bagging_freq is set=7, subsample_freq=0 will be ignored. Current value: bagging_freq=7\n",
      "[LightGBM] [Warning] bagging_freq is set=7, subsample_freq=0 will be ignored. Current value: bagging_freq=7\n",
      "[LightGBM] [Warning] bagging_freq is set=2, subsample_freq=2 will be ignored. Current value: bagging_freq=2\n",
      "[LightGBM] [Warning] bagging_freq is set=2, subsample_freq=2 will be ignored. Current value: bagging_freq=2\n",
      "[LightGBM] [Warning] bagging_freq is set=2, subsample_freq=2 will be ignored. Current value: bagging_freq=2\n",
      "[LightGBM] [Warning] bagging_freq is set=2, subsample_freq=2 will be ignored. Current value: bagging_freq=2\n"
     ]
    },
    {
     "name": "stderr",
     "output_type": "stream",
     "text": [
      "\u001b[32m[I 2023-04-21 17:22:55,620]\u001b[0m Trial 21 finished with value: 0.12887851480215584 and parameters: {'learning_rate': 0.033751929669875086, 'reg_lambda': 0.007450385922111217, 'n_estimators': 278, 'num_leaves': 27, 'bagging_freq': 2, 'min_child_samples': 25, 'subsample_freq': 2, 'colsample_bytree': 0.5233390276023616, 'subsample': 0.8851282960890462}. Best is trial 18 with value: 0.12882530818908466.\u001b[0m\n"
     ]
    },
    {
     "name": "stdout",
     "output_type": "stream",
     "text": [
      "[LightGBM] [Warning] bagging_freq is set=2, subsample_freq=2 will be ignored. Current value: bagging_freq=2\n",
      "[LightGBM] [Warning] bagging_freq is set=1, subsample_freq=1 will be ignored. Current value: bagging_freq=1\n",
      "[LightGBM] [Warning] bagging_freq is set=1, subsample_freq=1 will be ignored. Current value: bagging_freq=1\n",
      "[LightGBM] [Warning] bagging_freq is set=1, subsample_freq=1 will be ignored. Current value: bagging_freq=1\n",
      "[LightGBM] [Warning] bagging_freq is set=1, subsample_freq=1 will be ignored. Current value: bagging_freq=1\n",
      "[LightGBM] [Warning] bagging_freq is set=1, subsample_freq=1 will be ignored. Current value: bagging_freq=1\n"
     ]
    },
    {
     "name": "stderr",
     "output_type": "stream",
     "text": [
      "\u001b[32m[I 2023-04-21 17:22:56,355]\u001b[0m Trial 22 finished with value: 0.12877605470607648 and parameters: {'learning_rate': 0.042857380105314744, 'reg_lambda': 0.0063516597216524435, 'n_estimators': 275, 'num_leaves': 26, 'bagging_freq': 1, 'min_child_samples': 40, 'subsample_freq': 1, 'colsample_bytree': 0.503731017519901, 'subsample': 0.9467010207937713}. Best is trial 22 with value: 0.12877605470607648.\u001b[0m\n"
     ]
    },
    {
     "name": "stdout",
     "output_type": "stream",
     "text": [
      "[LightGBM] [Warning] bagging_freq is set=5, subsample_freq=3 will be ignored. Current value: bagging_freq=5\n",
      "[LightGBM] [Warning] bagging_freq is set=5, subsample_freq=3 will be ignored. Current value: bagging_freq=5\n",
      "[LightGBM] [Warning] bagging_freq is set=5, subsample_freq=3 will be ignored. Current value: bagging_freq=5\n",
      "[LightGBM] [Warning] bagging_freq is set=5, subsample_freq=3 will be ignored. Current value: bagging_freq=5\n",
      "[LightGBM] [Warning] bagging_freq is set=5, subsample_freq=3 will be ignored. Current value: bagging_freq=5\n"
     ]
    },
    {
     "name": "stderr",
     "output_type": "stream",
     "text": [
      "\u001b[32m[I 2023-04-21 17:22:57,528]\u001b[0m Trial 23 finished with value: 0.12863914867931386 and parameters: {'learning_rate': 0.03479924895233829, 'reg_lambda': 0.0957398772973251, 'n_estimators': 400, 'num_leaves': 27, 'bagging_freq': 5, 'min_child_samples': 26, 'subsample_freq': 3, 'colsample_bytree': 0.5191849846715882, 'subsample': 0.8830680007100002}. Best is trial 23 with value: 0.12863914867931386.\u001b[0m\n"
     ]
    },
    {
     "name": "stdout",
     "output_type": "stream",
     "text": [
      "[LightGBM] [Warning] bagging_freq is set=6, subsample_freq=3 will be ignored. Current value: bagging_freq=6\n",
      "[LightGBM] [Warning] bagging_freq is set=6, subsample_freq=3 will be ignored. Current value: bagging_freq=6\n",
      "[LightGBM] [Warning] bagging_freq is set=6, subsample_freq=3 will be ignored. Current value: bagging_freq=6\n",
      "[LightGBM] [Warning] bagging_freq is set=6, subsample_freq=3 will be ignored. Current value: bagging_freq=6\n"
     ]
    },
    {
     "name": "stderr",
     "output_type": "stream",
     "text": [
      "\u001b[32m[I 2023-04-21 17:22:58,477]\u001b[0m Trial 24 finished with value: 0.14218818983338505 and parameters: {'learning_rate': 0.008410443819361065, 'reg_lambda': 0.06706120038194831, 'n_estimators': 393, 'num_leaves': 27, 'bagging_freq': 6, 'min_child_samples': 43, 'subsample_freq': 3, 'colsample_bytree': 0.5533006345811867, 'subsample': 0.9419446708759307}. Best is trial 23 with value: 0.12863914867931386.\u001b[0m\n"
     ]
    },
    {
     "name": "stdout",
     "output_type": "stream",
     "text": [
      "[LightGBM] [Warning] bagging_freq is set=6, subsample_freq=3 will be ignored. Current value: bagging_freq=6\n",
      "[LightGBM] [Warning] bagging_freq is set=5, subsample_freq=3 will be ignored. Current value: bagging_freq=5\n",
      "[LightGBM] [Warning] bagging_freq is set=5, subsample_freq=3 will be ignored. Current value: bagging_freq=5\n",
      "[LightGBM] [Warning] bagging_freq is set=5, subsample_freq=3 will be ignored. Current value: bagging_freq=5\n",
      "[LightGBM] [Warning] bagging_freq is set=5, subsample_freq=3 will be ignored. Current value: bagging_freq=5\n"
     ]
    },
    {
     "name": "stderr",
     "output_type": "stream",
     "text": [
      "\u001b[32m[I 2023-04-21 17:22:59,139]\u001b[0m Trial 25 finished with value: 0.13623409043073323 and parameters: {'learning_rate': 0.021185376903701654, 'reg_lambda': 0.08323637322336373, 'n_estimators': 339, 'num_leaves': 22, 'bagging_freq': 5, 'min_child_samples': 59, 'subsample_freq': 3, 'colsample_bytree': 0.5041993257817514, 'subsample': 0.8478602796187624}. Best is trial 23 with value: 0.12863914867931386.\u001b[0m\n"
     ]
    },
    {
     "name": "stdout",
     "output_type": "stream",
     "text": [
      "[LightGBM] [Warning] bagging_freq is set=5, subsample_freq=3 will be ignored. Current value: bagging_freq=5\n",
      "[LightGBM] [Warning] bagging_freq is set=7, subsample_freq=1 will be ignored. Current value: bagging_freq=7\n",
      "[LightGBM] [Warning] bagging_freq is set=7, subsample_freq=1 will be ignored. Current value: bagging_freq=7\n",
      "[LightGBM] [Warning] bagging_freq is set=7, subsample_freq=1 will be ignored. Current value: bagging_freq=7\n",
      "[LightGBM] [Warning] bagging_freq is set=7, subsample_freq=1 will be ignored. Current value: bagging_freq=7\n",
      "[LightGBM] [Warning] bagging_freq is set=7, subsample_freq=1 will be ignored. Current value: bagging_freq=7\n"
     ]
    },
    {
     "name": "stderr",
     "output_type": "stream",
     "text": [
      "\u001b[32m[I 2023-04-21 17:23:00,399]\u001b[0m Trial 26 finished with value: 0.13219382075134467 and parameters: {'learning_rate': 0.05086298669302769, 'reg_lambda': 0.8448959518175472, 'n_estimators': 400, 'num_leaves': 25, 'bagging_freq': 7, 'min_child_samples': 17, 'subsample_freq': 1, 'colsample_bytree': 0.6136715208113337, 'subsample': 0.8975745313728287}. Best is trial 23 with value: 0.12863914867931386.\u001b[0m\n"
     ]
    },
    {
     "name": "stdout",
     "output_type": "stream",
     "text": [
      "[LightGBM] [Warning] bagging_freq is set=6, subsample_freq=5 will be ignored. Current value: bagging_freq=6\n",
      "[LightGBM] [Warning] bagging_freq is set=6, subsample_freq=5 will be ignored. Current value: bagging_freq=6\n",
      "[LightGBM] [Warning] bagging_freq is set=6, subsample_freq=5 will be ignored. Current value: bagging_freq=6\n",
      "[LightGBM] [Warning] bagging_freq is set=6, subsample_freq=5 will be ignored. Current value: bagging_freq=6\n"
     ]
    },
    {
     "name": "stderr",
     "output_type": "stream",
     "text": [
      "\u001b[32m[I 2023-04-21 17:23:01,351]\u001b[0m Trial 27 finished with value: 0.12906111963768935 and parameters: {'learning_rate': 0.019210356365731512, 'reg_lambda': 0.15493990611590283, 'n_estimators': 330, 'num_leaves': 20, 'bagging_freq': 6, 'min_child_samples': 30, 'subsample_freq': 5, 'colsample_bytree': 0.5032232035525849, 'subsample': 0.9476927077176124}. Best is trial 23 with value: 0.12863914867931386.\u001b[0m\n"
     ]
    },
    {
     "name": "stdout",
     "output_type": "stream",
     "text": [
      "[LightGBM] [Warning] bagging_freq is set=6, subsample_freq=5 will be ignored. Current value: bagging_freq=6\n",
      "[LightGBM] [Warning] bagging_freq is set=5, subsample_freq=6 will be ignored. Current value: bagging_freq=5\n",
      "[LightGBM] [Warning] bagging_freq is set=5, subsample_freq=6 will be ignored. Current value: bagging_freq=5\n",
      "[LightGBM] [Warning] bagging_freq is set=5, subsample_freq=6 will be ignored. Current value: bagging_freq=5\n",
      "[LightGBM] [Warning] bagging_freq is set=5, subsample_freq=6 will be ignored. Current value: bagging_freq=5\n",
      "[LightGBM] [Warning] bagging_freq is set=5, subsample_freq=6 will be ignored. Current value: bagging_freq=5\n"
     ]
    },
    {
     "name": "stderr",
     "output_type": "stream",
     "text": [
      "\u001b[32m[I 2023-04-21 17:23:02,678]\u001b[0m Trial 28 finished with value: 0.13071926888188126 and parameters: {'learning_rate': 0.04989103892620451, 'reg_lambda': 0.0024221412148058585, 'n_estimators': 358, 'num_leaves': 28, 'bagging_freq': 5, 'min_child_samples': 14, 'subsample_freq': 6, 'colsample_bytree': 0.5507484751251341, 'subsample': 0.8586267329390332}. Best is trial 23 with value: 0.12863914867931386.\u001b[0m\n"
     ]
    },
    {
     "name": "stdout",
     "output_type": "stream",
     "text": [
      "[LightGBM] [Warning] bagging_freq is set=3, subsample_freq=3 will be ignored. Current value: bagging_freq=3\n",
      "[LightGBM] [Warning] bagging_freq is set=3, subsample_freq=3 will be ignored. Current value: bagging_freq=3\n",
      "[LightGBM] [Warning] bagging_freq is set=3, subsample_freq=3 will be ignored. Current value: bagging_freq=3\n",
      "[LightGBM] [Warning] bagging_freq is set=3, subsample_freq=3 will be ignored. Current value: bagging_freq=3\n"
     ]
    },
    {
     "name": "stderr",
     "output_type": "stream",
     "text": [
      "\u001b[32m[I 2023-04-21 17:23:03,395]\u001b[0m Trial 29 finished with value: 0.13076531272229405 and parameters: {'learning_rate': 0.05187404448779572, 'reg_lambda': 0.04875684729245404, 'n_estimators': 305, 'num_leaves': 26, 'bagging_freq': 3, 'min_child_samples': 44, 'subsample_freq': 3, 'colsample_bytree': 0.5770305321052519, 'subsample': 0.8921676411082538}. Best is trial 23 with value: 0.12863914867931386.\u001b[0m\n"
     ]
    },
    {
     "name": "stdout",
     "output_type": "stream",
     "text": [
      "[LightGBM] [Warning] bagging_freq is set=3, subsample_freq=3 will be ignored. Current value: bagging_freq=3\n",
      "[LightGBM] [Warning] bagging_freq is set=7, subsample_freq=1 will be ignored. Current value: bagging_freq=7\n",
      "[LightGBM] [Warning] bagging_freq is set=7, subsample_freq=1 will be ignored. Current value: bagging_freq=7\n",
      "[LightGBM] [Warning] bagging_freq is set=7, subsample_freq=1 will be ignored. Current value: bagging_freq=7\n",
      "[LightGBM] [Warning] bagging_freq is set=7, subsample_freq=1 will be ignored. Current value: bagging_freq=7\n",
      "[LightGBM] [Warning] bagging_freq is set=7, subsample_freq=1 will be ignored. Current value: bagging_freq=7\n"
     ]
    },
    {
     "name": "stderr",
     "output_type": "stream",
     "text": [
      "\u001b[32m[I 2023-04-21 17:23:04,522]\u001b[0m Trial 30 finished with value: 0.12800583401125704 and parameters: {'learning_rate': 0.030356694408174213, 'reg_lambda': 0.02522228862637491, 'n_estimators': 378, 'num_leaves': 29, 'bagging_freq': 7, 'min_child_samples': 22, 'subsample_freq': 1, 'colsample_bytree': 0.6155212684727918, 'subsample': 0.9130759244709362}. Best is trial 30 with value: 0.12800583401125704.\u001b[0m\n"
     ]
    },
    {
     "name": "stdout",
     "output_type": "stream",
     "text": [
      "[LightGBM] [Warning] bagging_freq is set=7, subsample_freq=1 will be ignored. Current value: bagging_freq=7\n",
      "[LightGBM] [Warning] bagging_freq is set=7, subsample_freq=1 will be ignored. Current value: bagging_freq=7\n",
      "[LightGBM] [Warning] bagging_freq is set=7, subsample_freq=1 will be ignored. Current value: bagging_freq=7\n",
      "[LightGBM] [Warning] bagging_freq is set=7, subsample_freq=1 will be ignored. Current value: bagging_freq=7\n",
      "[LightGBM] [Warning] bagging_freq is set=7, subsample_freq=1 will be ignored. Current value: bagging_freq=7\n"
     ]
    },
    {
     "name": "stderr",
     "output_type": "stream",
     "text": [
      "\u001b[32m[I 2023-04-21 17:23:05,738]\u001b[0m Trial 31 finished with value: 0.12785910031377737 and parameters: {'learning_rate': 0.030459127666456597, 'reg_lambda': 0.01984153711856692, 'n_estimators': 379, 'num_leaves': 29, 'bagging_freq': 7, 'min_child_samples': 24, 'subsample_freq': 1, 'colsample_bytree': 0.5507226693853263, 'subsample': 0.9151243764246579}. Best is trial 31 with value: 0.12785910031377737.\u001b[0m\n"
     ]
    },
    {
     "name": "stdout",
     "output_type": "stream",
     "text": [
      "[LightGBM] [Warning] bagging_freq is set=6, subsample_freq=1 will be ignored. Current value: bagging_freq=6\n",
      "[LightGBM] [Warning] bagging_freq is set=6, subsample_freq=1 will be ignored. Current value: bagging_freq=6\n",
      "[LightGBM] [Warning] bagging_freq is set=6, subsample_freq=1 will be ignored. Current value: bagging_freq=6\n",
      "[LightGBM] [Warning] bagging_freq is set=6, subsample_freq=1 will be ignored. Current value: bagging_freq=6\n",
      "[LightGBM] [Warning] bagging_freq is set=6, subsample_freq=1 will be ignored. Current value: bagging_freq=6\n"
     ]
    },
    {
     "name": "stderr",
     "output_type": "stream",
     "text": [
      "\u001b[32m[I 2023-04-21 17:23:07,064]\u001b[0m Trial 32 finished with value: 0.1290339750573488 and parameters: {'learning_rate': 0.026341757797532547, 'reg_lambda': 0.17014021439476026, 'n_estimators': 366, 'num_leaves': 29, 'bagging_freq': 6, 'min_child_samples': 17, 'subsample_freq': 1, 'colsample_bytree': 0.6153035221828626, 'subsample': 0.8984460728688269}. Best is trial 31 with value: 0.12785910031377737.\u001b[0m\n"
     ]
    },
    {
     "name": "stdout",
     "output_type": "stream",
     "text": [
      "[LightGBM] [Warning] bagging_freq is set=7, subsample_freq=0 will be ignored. Current value: bagging_freq=7\n",
      "[LightGBM] [Warning] bagging_freq is set=7, subsample_freq=0 will be ignored. Current value: bagging_freq=7\n",
      "[LightGBM] [Warning] bagging_freq is set=7, subsample_freq=0 will be ignored. Current value: bagging_freq=7\n",
      "[LightGBM] [Warning] bagging_freq is set=7, subsample_freq=0 will be ignored. Current value: bagging_freq=7\n"
     ]
    },
    {
     "name": "stderr",
     "output_type": "stream",
     "text": [
      "\u001b[32m[I 2023-04-21 17:23:08,077]\u001b[0m Trial 33 finished with value: 0.13195812087487124 and parameters: {'learning_rate': 0.013211372513471802, 'reg_lambda': 0.023528356653716248, 'n_estimators': 353, 'num_leaves': 28, 'bagging_freq': 7, 'min_child_samples': 29, 'subsample_freq': 0, 'colsample_bytree': 0.5372039498496428, 'subsample': 0.9116696414779099}. Best is trial 31 with value: 0.12785910031377737.\u001b[0m\n"
     ]
    },
    {
     "name": "stdout",
     "output_type": "stream",
     "text": [
      "[LightGBM] [Warning] bagging_freq is set=7, subsample_freq=0 will be ignored. Current value: bagging_freq=7\n",
      "[LightGBM] [Warning] bagging_freq is set=6, subsample_freq=2 will be ignored. Current value: bagging_freq=6\n",
      "[LightGBM] [Warning] bagging_freq is set=6, subsample_freq=2 will be ignored. Current value: bagging_freq=6\n",
      "[LightGBM] [Warning] bagging_freq is set=6, subsample_freq=2 will be ignored. Current value: bagging_freq=6\n",
      "[LightGBM] [Warning] bagging_freq is set=6, subsample_freq=2 will be ignored. Current value: bagging_freq=6\n",
      "[LightGBM] [Warning] bagging_freq is set=6, subsample_freq=2 will be ignored. Current value: bagging_freq=6\n"
     ]
    },
    {
     "name": "stderr",
     "output_type": "stream",
     "text": [
      "\u001b[32m[I 2023-04-21 17:23:09,158]\u001b[0m Trial 34 finished with value: 0.13084028754033003 and parameters: {'learning_rate': 0.058691438885153775, 'reg_lambda': 0.00430855221184176, 'n_estimators': 376, 'num_leaves': 26, 'bagging_freq': 6, 'min_child_samples': 22, 'subsample_freq': 2, 'colsample_bytree': 0.5054686138369398, 'subsample': 0.7944774835879774}. Best is trial 31 with value: 0.12785910031377737.\u001b[0m\n"
     ]
    },
    {
     "name": "stdout",
     "output_type": "stream",
     "text": [
      "[LightGBM] [Warning] bagging_freq is set=7, subsample_freq=1 will be ignored. Current value: bagging_freq=7\n",
      "[LightGBM] [Warning] bagging_freq is set=7, subsample_freq=1 will be ignored. Current value: bagging_freq=7\n",
      "[LightGBM] [Warning] bagging_freq is set=7, subsample_freq=1 will be ignored. Current value: bagging_freq=7\n",
      "[LightGBM] [Warning] bagging_freq is set=7, subsample_freq=1 will be ignored. Current value: bagging_freq=7\n",
      "[LightGBM] [Warning] bagging_freq is set=7, subsample_freq=1 will be ignored. Current value: bagging_freq=7\n"
     ]
    },
    {
     "name": "stderr",
     "output_type": "stream",
     "text": [
      "\u001b[32m[I 2023-04-21 17:23:10,442]\u001b[0m Trial 35 finished with value: 0.15739683021779355 and parameters: {'learning_rate': 0.006188580806029796, 'reg_lambda': 0.36021323729882426, 'n_estimators': 314, 'num_leaves': 30, 'bagging_freq': 7, 'min_child_samples': 9, 'subsample_freq': 1, 'colsample_bytree': 0.5848437351783946, 'subsample': 0.8637428947844891}. Best is trial 31 with value: 0.12785910031377737.\u001b[0m\n"
     ]
    },
    {
     "name": "stdout",
     "output_type": "stream",
     "text": [
      "[LightGBM] [Warning] bagging_freq is set=4, subsample_freq=3 will be ignored. Current value: bagging_freq=4\n",
      "[LightGBM] [Warning] bagging_freq is set=4, subsample_freq=3 will be ignored. Current value: bagging_freq=4\n",
      "[LightGBM] [Warning] bagging_freq is set=4, subsample_freq=3 will be ignored. Current value: bagging_freq=4\n",
      "[LightGBM] [Warning] bagging_freq is set=4, subsample_freq=3 will be ignored. Current value: bagging_freq=4\n"
     ]
    },
    {
     "name": "stderr",
     "output_type": "stream",
     "text": [
      "\u001b[32m[I 2023-04-21 17:23:11,374]\u001b[0m Trial 36 finished with value: 0.13202448240326073 and parameters: {'learning_rate': 0.01629416900765668, 'reg_lambda': 0.0014924555108456526, 'n_estimators': 265, 'num_leaves': 24, 'bagging_freq': 4, 'min_child_samples': 13, 'subsample_freq': 3, 'colsample_bytree': 0.5411977538094854, 'subsample': 0.8391366297265456}. Best is trial 31 with value: 0.12785910031377737.\u001b[0m\n"
     ]
    },
    {
     "name": "stdout",
     "output_type": "stream",
     "text": [
      "[LightGBM] [Warning] bagging_freq is set=4, subsample_freq=3 will be ignored. Current value: bagging_freq=4\n",
      "[LightGBM] [Warning] bagging_freq is set=6, subsample_freq=0 will be ignored. Current value: bagging_freq=6\n",
      "[LightGBM] [Warning] bagging_freq is set=6, subsample_freq=0 will be ignored. Current value: bagging_freq=6\n",
      "[LightGBM] [Warning] bagging_freq is set=6, subsample_freq=0 will be ignored. Current value: bagging_freq=6\n",
      "[LightGBM] [Warning] bagging_freq is set=6, subsample_freq=0 will be ignored. Current value: bagging_freq=6\n",
      "[LightGBM] [Warning] bagging_freq is set=6, subsample_freq=0 will be ignored. Current value: bagging_freq=6\n"
     ]
    },
    {
     "name": "stderr",
     "output_type": "stream",
     "text": [
      "\u001b[32m[I 2023-04-21 17:23:12,529]\u001b[0m Trial 37 finished with value: 0.12927198519224908 and parameters: {'learning_rate': 0.026829161404511484, 'reg_lambda': 0.030654699416641205, 'n_estimators': 320, 'num_leaves': 29, 'bagging_freq': 6, 'min_child_samples': 19, 'subsample_freq': 0, 'colsample_bytree': 0.6303697707253513, 'subsample': 0.9632924950346266}. Best is trial 31 with value: 0.12785910031377737.\u001b[0m\n"
     ]
    },
    {
     "name": "stdout",
     "output_type": "stream",
     "text": [
      "[LightGBM] [Warning] bagging_freq is set=5, subsample_freq=1 will be ignored. Current value: bagging_freq=5\n",
      "[LightGBM] [Warning] bagging_freq is set=5, subsample_freq=1 will be ignored. Current value: bagging_freq=5\n",
      "[LightGBM] [Warning] bagging_freq is set=5, subsample_freq=1 will be ignored. Current value: bagging_freq=5\n",
      "[LightGBM] [Warning] bagging_freq is set=5, subsample_freq=1 will be ignored. Current value: bagging_freq=5\n"
     ]
    },
    {
     "name": "stderr",
     "output_type": "stream",
     "text": [
      "\u001b[32m[I 2023-04-21 17:23:13,220]\u001b[0m Trial 38 finished with value: 0.22932072581729526 and parameters: {'learning_rate': 0.002859718442037475, 'reg_lambda': 0.32009025059053187, 'n_estimators': 345, 'num_leaves': 26, 'bagging_freq': 5, 'min_child_samples': 56, 'subsample_freq': 1, 'colsample_bytree': 0.5989556648441537, 'subsample': 0.9186307971261127}. Best is trial 31 with value: 0.12785910031377737.\u001b[0m\n"
     ]
    },
    {
     "name": "stdout",
     "output_type": "stream",
     "text": [
      "[LightGBM] [Warning] bagging_freq is set=5, subsample_freq=1 will be ignored. Current value: bagging_freq=5\n",
      "[LightGBM] [Warning] bagging_freq is set=4, subsample_freq=4 will be ignored. Current value: bagging_freq=4\n",
      "[LightGBM] [Warning] bagging_freq is set=4, subsample_freq=4 will be ignored. Current value: bagging_freq=4\n",
      "[LightGBM] [Warning] bagging_freq is set=4, subsample_freq=4 will be ignored. Current value: bagging_freq=4\n",
      "[LightGBM] [Warning] bagging_freq is set=4, subsample_freq=4 will be ignored. Current value: bagging_freq=4\n",
      "[LightGBM] [Warning] bagging_freq is set=4, subsample_freq=4 will be ignored. Current value: bagging_freq=4\n"
     ]
    },
    {
     "name": "stderr",
     "output_type": "stream",
     "text": [
      "\u001b[32m[I 2023-04-21 17:23:13,943]\u001b[0m Trial 39 finished with value: 0.1292941391360176 and parameters: {'learning_rate': 0.03730998612230198, 'reg_lambda': 0.9091192871595568, 'n_estimators': 236, 'num_leaves': 24, 'bagging_freq': 4, 'min_child_samples': 35, 'subsample_freq': 4, 'colsample_bytree': 0.5707580058333859, 'subsample': 0.961514343926539}. Best is trial 31 with value: 0.12785910031377737.\u001b[0m\n"
     ]
    },
    {
     "name": "stdout",
     "output_type": "stream",
     "text": [
      "[LightGBM] [Warning] bagging_freq is set=6, subsample_freq=2 will be ignored. Current value: bagging_freq=6\n",
      "[LightGBM] [Warning] bagging_freq is set=6, subsample_freq=2 will be ignored. Current value: bagging_freq=6\n",
      "[LightGBM] [Warning] bagging_freq is set=6, subsample_freq=2 will be ignored. Current value: bagging_freq=6\n",
      "[LightGBM] [Warning] bagging_freq is set=6, subsample_freq=2 will be ignored. Current value: bagging_freq=6\n",
      "[LightGBM] [Warning] bagging_freq is set=6, subsample_freq=2 will be ignored. Current value: bagging_freq=6\n"
     ]
    },
    {
     "name": "stderr",
     "output_type": "stream",
     "text": [
      "\u001b[32m[I 2023-04-21 17:23:15,041]\u001b[0m Trial 40 finished with value: 0.13073993633225942 and parameters: {'learning_rate': 0.06992372729332887, 'reg_lambda': 0.00425703744400057, 'n_estimators': 376, 'num_leaves': 28, 'bagging_freq': 6, 'min_child_samples': 28, 'subsample_freq': 2, 'colsample_bytree': 0.5013713646087079, 'subsample': 0.9199373591514205}. Best is trial 31 with value: 0.12785910031377737.\u001b[0m\n"
     ]
    },
    {
     "name": "stdout",
     "output_type": "stream",
     "text": [
      "[LightGBM] [Warning] bagging_freq is set=7, subsample_freq=1 will be ignored. Current value: bagging_freq=7\n",
      "[LightGBM] [Warning] bagging_freq is set=7, subsample_freq=1 will be ignored. Current value: bagging_freq=7\n",
      "[LightGBM] [Warning] bagging_freq is set=7, subsample_freq=1 will be ignored. Current value: bagging_freq=7\n",
      "[LightGBM] [Warning] bagging_freq is set=7, subsample_freq=1 will be ignored. Current value: bagging_freq=7\n",
      "[LightGBM] [Warning] bagging_freq is set=7, subsample_freq=1 will be ignored. Current value: bagging_freq=7\n"
     ]
    },
    {
     "name": "stderr",
     "output_type": "stream",
     "text": [
      "\u001b[32m[I 2023-04-21 17:23:16,095]\u001b[0m Trial 41 finished with value: 0.13002807013961754 and parameters: {'learning_rate': 0.0443148600036323, 'reg_lambda': 0.011590165124782946, 'n_estimators': 387, 'num_leaves': 22, 'bagging_freq': 7, 'min_child_samples': 39, 'subsample_freq': 1, 'colsample_bytree': 0.551145834127839, 'subsample': 0.9633623419791765}. Best is trial 31 with value: 0.12785910031377737.\u001b[0m\n"
     ]
    },
    {
     "name": "stdout",
     "output_type": "stream",
     "text": [
      "[LightGBM] [Warning] bagging_freq is set=7, subsample_freq=0 will be ignored. Current value: bagging_freq=7\n",
      "[LightGBM] [Warning] bagging_freq is set=7, subsample_freq=0 will be ignored. Current value: bagging_freq=7\n",
      "[LightGBM] [Warning] bagging_freq is set=7, subsample_freq=0 will be ignored. Current value: bagging_freq=7\n",
      "[LightGBM] [Warning] bagging_freq is set=7, subsample_freq=0 will be ignored. Current value: bagging_freq=7\n",
      "[LightGBM] [Warning] bagging_freq is set=7, subsample_freq=0 will be ignored. Current value: bagging_freq=7\n"
     ]
    },
    {
     "name": "stderr",
     "output_type": "stream",
     "text": [
      "\u001b[32m[I 2023-04-21 17:23:17,451]\u001b[0m Trial 42 finished with value: 0.12837719441001477 and parameters: {'learning_rate': 0.02680813199987394, 'reg_lambda': 0.015832363106083217, 'n_estimators': 384, 'num_leaves': 25, 'bagging_freq': 7, 'min_child_samples': 21, 'subsample_freq': 0, 'colsample_bytree': 0.5668245865344907, 'subsample': 0.9330185861899153}. Best is trial 31 with value: 0.12785910031377737.\u001b[0m\n"
     ]
    },
    {
     "name": "stdout",
     "output_type": "stream",
     "text": [
      "[LightGBM] [Warning] bagging_freq is set=7, subsample_freq=0 will be ignored. Current value: bagging_freq=7\n",
      "[LightGBM] [Warning] bagging_freq is set=7, subsample_freq=0 will be ignored. Current value: bagging_freq=7\n",
      "[LightGBM] [Warning] bagging_freq is set=7, subsample_freq=0 will be ignored. Current value: bagging_freq=7\n",
      "[LightGBM] [Warning] bagging_freq is set=7, subsample_freq=0 will be ignored. Current value: bagging_freq=7\n",
      "[LightGBM] [Warning] bagging_freq is set=7, subsample_freq=0 will be ignored. Current value: bagging_freq=7\n"
     ]
    },
    {
     "name": "stderr",
     "output_type": "stream",
     "text": [
      "\u001b[32m[I 2023-04-21 17:23:18,804]\u001b[0m Trial 43 finished with value: 0.1310411948581889 and parameters: {'learning_rate': 0.06457581592558699, 'reg_lambda': 0.028327873091776267, 'n_estimators': 400, 'num_leaves': 25, 'bagging_freq': 7, 'min_child_samples': 19, 'subsample_freq': 0, 'colsample_bytree': 0.5345349029379061, 'subsample': 0.8781100322322704}. Best is trial 31 with value: 0.12785910031377737.\u001b[0m\n"
     ]
    },
    {
     "name": "stdout",
     "output_type": "stream",
     "text": [
      "[LightGBM] [Warning] bagging_freq is set=6, subsample_freq=0 will be ignored. Current value: bagging_freq=6\n",
      "[LightGBM] [Warning] bagging_freq is set=6, subsample_freq=0 will be ignored. Current value: bagging_freq=6\n",
      "[LightGBM] [Warning] bagging_freq is set=6, subsample_freq=0 will be ignored. Current value: bagging_freq=6\n",
      "[LightGBM] [Warning] bagging_freq is set=6, subsample_freq=0 will be ignored. Current value: bagging_freq=6\n",
      "[LightGBM] [Warning] bagging_freq is set=6, subsample_freq=0 will be ignored. Current value: bagging_freq=6\n"
     ]
    },
    {
     "name": "stderr",
     "output_type": "stream",
     "text": [
      "\u001b[32m[I 2023-04-21 17:23:20,049]\u001b[0m Trial 44 finished with value: 0.12884987965762318 and parameters: {'learning_rate': 0.02495901127277458, 'reg_lambda': 0.12567668365670312, 'n_estimators': 361, 'num_leaves': 30, 'bagging_freq': 6, 'min_child_samples': 11, 'subsample_freq': 0, 'colsample_bytree': 0.6007634316629082, 'subsample': 0.8186295982477454}. Best is trial 31 with value: 0.12785910031377737.\u001b[0m\n"
     ]
    },
    {
     "name": "stdout",
     "output_type": "stream",
     "text": [
      "[LightGBM] [Warning] bagging_freq is set=7, subsample_freq=1 will be ignored. Current value: bagging_freq=7\n",
      "[LightGBM] [Warning] bagging_freq is set=7, subsample_freq=1 will be ignored. Current value: bagging_freq=7\n",
      "[LightGBM] [Warning] bagging_freq is set=7, subsample_freq=1 will be ignored. Current value: bagging_freq=7\n",
      "[LightGBM] [Warning] bagging_freq is set=7, subsample_freq=1 will be ignored. Current value: bagging_freq=7\n"
     ]
    },
    {
     "name": "stderr",
     "output_type": "stream",
     "text": [
      "\u001b[32m[I 2023-04-21 17:23:20,738]\u001b[0m Trial 45 finished with value: 0.1448727351289901 and parameters: {'learning_rate': 0.011173264948751366, 'reg_lambda': 0.0518204959310539, 'n_estimators': 289, 'num_leaves': 27, 'bagging_freq': 7, 'min_child_samples': 46, 'subsample_freq': 1, 'colsample_bytree': 0.5292116914077828, 'subsample': 0.9233600601836129}. Best is trial 31 with value: 0.12785910031377737.\u001b[0m\n"
     ]
    },
    {
     "name": "stdout",
     "output_type": "stream",
     "text": [
      "[LightGBM] [Warning] bagging_freq is set=7, subsample_freq=1 will be ignored. Current value: bagging_freq=7\n",
      "[LightGBM] [Warning] bagging_freq is set=6, subsample_freq=6 will be ignored. Current value: bagging_freq=6\n",
      "[LightGBM] [Warning] bagging_freq is set=6, subsample_freq=6 will be ignored. Current value: bagging_freq=6\n",
      "[LightGBM] [Warning] bagging_freq is set=6, subsample_freq=6 will be ignored. Current value: bagging_freq=6\n",
      "[LightGBM] [Warning] bagging_freq is set=6, subsample_freq=6 will be ignored. Current value: bagging_freq=6\n",
      "[LightGBM] [Warning] bagging_freq is set=6, subsample_freq=6 will be ignored. Current value: bagging_freq=6\n"
     ]
    },
    {
     "name": "stderr",
     "output_type": "stream",
     "text": [
      "\u001b[32m[I 2023-04-21 17:23:21,759]\u001b[0m Trial 46 finished with value: 0.13004803303904375 and parameters: {'learning_rate': 0.01786486289607688, 'reg_lambda': 0.405093364094975, 'n_estimators': 373, 'num_leaves': 29, 'bagging_freq': 6, 'min_child_samples': 33, 'subsample_freq': 6, 'colsample_bytree': 0.642978058934161, 'subsample': 0.9785326404141294}. Best is trial 31 with value: 0.12785910031377737.\u001b[0m\n"
     ]
    },
    {
     "name": "stdout",
     "output_type": "stream",
     "text": [
      "[LightGBM] [Warning] bagging_freq is set=5, subsample_freq=0 will be ignored. Current value: bagging_freq=5\n",
      "[LightGBM] [Warning] bagging_freq is set=5, subsample_freq=0 will be ignored. Current value: bagging_freq=5\n",
      "[LightGBM] [Warning] bagging_freq is set=5, subsample_freq=0 will be ignored. Current value: bagging_freq=5\n",
      "[LightGBM] [Warning] bagging_freq is set=5, subsample_freq=0 will be ignored. Current value: bagging_freq=5\n",
      "[LightGBM] [Warning] bagging_freq is set=5, subsample_freq=0 will be ignored. Current value: bagging_freq=5\n"
     ]
    },
    {
     "name": "stderr",
     "output_type": "stream",
     "text": [
      "\u001b[32m[I 2023-04-21 17:23:22,882]\u001b[0m Trial 47 finished with value: 0.13059002849767543 and parameters: {'learning_rate': 0.06917725817577598, 'reg_lambda': 0.15523555574100145, 'n_estimators': 344, 'num_leaves': 25, 'bagging_freq': 5, 'min_child_samples': 28, 'subsample_freq': 0, 'colsample_bytree': 0.5688138575771913, 'subsample': 0.9999651220715672}. Best is trial 31 with value: 0.12785910031377737.\u001b[0m\n"
     ]
    },
    {
     "name": "stdout",
     "output_type": "stream",
     "text": [
      "[LightGBM] [Warning] bagging_freq is set=7, subsample_freq=2 will be ignored. Current value: bagging_freq=7\n",
      "[LightGBM] [Warning] bagging_freq is set=7, subsample_freq=2 will be ignored. Current value: bagging_freq=7\n",
      "[LightGBM] [Warning] bagging_freq is set=7, subsample_freq=2 will be ignored. Current value: bagging_freq=7\n",
      "[LightGBM] [Warning] bagging_freq is set=7, subsample_freq=2 will be ignored. Current value: bagging_freq=7\n"
     ]
    },
    {
     "name": "stderr",
     "output_type": "stream",
     "text": [
      "\u001b[32m[I 2023-04-21 17:23:23,742]\u001b[0m Trial 48 finished with value: 0.12832220472963093 and parameters: {'learning_rate': 0.027273751506295706, 'reg_lambda': 0.01689911843674268, 'n_estimators': 388, 'num_leaves': 23, 'bagging_freq': 7, 'min_child_samples': 37, 'subsample_freq': 2, 'colsample_bytree': 0.5932728819074309, 'subsample': 0.904360284549035}. Best is trial 31 with value: 0.12785910031377737.\u001b[0m\n"
     ]
    },
    {
     "name": "stdout",
     "output_type": "stream",
     "text": [
      "[LightGBM] [Warning] bagging_freq is set=7, subsample_freq=2 will be ignored. Current value: bagging_freq=7\n",
      "[LightGBM] [Warning] bagging_freq is set=7, subsample_freq=2 will be ignored. Current value: bagging_freq=7\n",
      "[LightGBM] [Warning] bagging_freq is set=7, subsample_freq=2 will be ignored. Current value: bagging_freq=7\n",
      "[LightGBM] [Warning] bagging_freq is set=7, subsample_freq=2 will be ignored. Current value: bagging_freq=7\n",
      "[LightGBM] [Warning] bagging_freq is set=7, subsample_freq=2 will be ignored. Current value: bagging_freq=7\n",
      "[LightGBM] [Warning] bagging_freq is set=7, subsample_freq=2 will be ignored. Current value: bagging_freq=7\n"
     ]
    },
    {
     "name": "stderr",
     "output_type": "stream",
     "text": [
      "\u001b[32m[I 2023-04-21 17:23:25,006]\u001b[0m Trial 49 finished with value: 0.12975882974755593 and parameters: {'learning_rate': 0.02963380990269221, 'reg_lambda': 0.016026344019089797, 'n_estimators': 389, 'num_leaves': 23, 'bagging_freq': 7, 'min_child_samples': 20, 'subsample_freq': 2, 'colsample_bytree': 0.5955095619290787, 'subsample': 0.8627595444769165}. Best is trial 31 with value: 0.12785910031377737.\u001b[0m\n"
     ]
    },
    {
     "name": "stdout",
     "output_type": "stream",
     "text": [
      "[LightGBM] [Warning] bagging_freq is set=7, subsample_freq=8 will be ignored. Current value: bagging_freq=7\n",
      "[LightGBM] [Warning] bagging_freq is set=7, subsample_freq=8 will be ignored. Current value: bagging_freq=7\n",
      "[LightGBM] [Warning] bagging_freq is set=7, subsample_freq=8 will be ignored. Current value: bagging_freq=7\n",
      "[LightGBM] [Warning] bagging_freq is set=7, subsample_freq=8 will be ignored. Current value: bagging_freq=7\n"
     ]
    },
    {
     "name": "stderr",
     "output_type": "stream",
     "text": [
      "\u001b[32m[I 2023-04-21 17:23:25,955]\u001b[0m Trial 50 finished with value: 0.12882027231135365 and parameters: {'learning_rate': 0.021868198191892566, 'reg_lambda': 0.002146272168671026, 'n_estimators': 365, 'num_leaves': 19, 'bagging_freq': 7, 'min_child_samples': 35, 'subsample_freq': 8, 'colsample_bytree': 0.6166304521291911, 'subsample': 0.8993888617202754}. Best is trial 31 with value: 0.12785910031377737.\u001b[0m\n"
     ]
    },
    {
     "name": "stdout",
     "output_type": "stream",
     "text": [
      "[LightGBM] [Warning] bagging_freq is set=7, subsample_freq=8 will be ignored. Current value: bagging_freq=7\n",
      "[LightGBM] [Warning] bagging_freq is set=7, subsample_freq=2 will be ignored. Current value: bagging_freq=7\n",
      "[LightGBM] [Warning] bagging_freq is set=7, subsample_freq=2 will be ignored. Current value: bagging_freq=7\n",
      "[LightGBM] [Warning] bagging_freq is set=7, subsample_freq=2 will be ignored. Current value: bagging_freq=7\n",
      "[LightGBM] [Warning] bagging_freq is set=7, subsample_freq=2 will be ignored. Current value: bagging_freq=7\n"
     ]
    },
    {
     "name": "stderr",
     "output_type": "stream",
     "text": [
      "\u001b[32m[I 2023-04-21 17:23:26,967]\u001b[0m Trial 51 finished with value: 0.13057600082597703 and parameters: {'learning_rate': 0.04176802764937117, 'reg_lambda': 0.0054611401357807605, 'n_estimators': 383, 'num_leaves': 27, 'bagging_freq': 7, 'min_child_samples': 41, 'subsample_freq': 2, 'colsample_bytree': 0.5574160813549623, 'subsample': 0.9412062193396212}. Best is trial 31 with value: 0.12785910031377737.\u001b[0m\n"
     ]
    },
    {
     "name": "stdout",
     "output_type": "stream",
     "text": [
      "[LightGBM] [Warning] bagging_freq is set=7, subsample_freq=2 will be ignored. Current value: bagging_freq=7\n",
      "[LightGBM] [Warning] bagging_freq is set=7, subsample_freq=1 will be ignored. Current value: bagging_freq=7\n",
      "[LightGBM] [Warning] bagging_freq is set=7, subsample_freq=1 will be ignored. Current value: bagging_freq=7\n",
      "[LightGBM] [Warning] bagging_freq is set=7, subsample_freq=1 will be ignored. Current value: bagging_freq=7\n",
      "[LightGBM] [Warning] bagging_freq is set=7, subsample_freq=1 will be ignored. Current value: bagging_freq=7\n",
      "[LightGBM] [Warning] bagging_freq is set=7, subsample_freq=1 will be ignored. Current value: bagging_freq=7\n"
     ]
    },
    {
     "name": "stderr",
     "output_type": "stream",
     "text": [
      "\u001b[32m[I 2023-04-21 17:23:28,082]\u001b[0m Trial 52 finished with value: 0.1316546484323117 and parameters: {'learning_rate': 0.09763584096677232, 'reg_lambda': 0.015852225817185144, 'n_estimators': 351, 'num_leaves': 29, 'bagging_freq': 7, 'min_child_samples': 25, 'subsample_freq': 1, 'colsample_bytree': 0.5350113590930664, 'subsample': 0.9118444133391533}. Best is trial 31 with value: 0.12785910031377737.\u001b[0m\n"
     ]
    },
    {
     "name": "stdout",
     "output_type": "stream",
     "text": [
      "[LightGBM] [Warning] bagging_freq is set=4, subsample_freq=3 will be ignored. Current value: bagging_freq=4\n",
      "[LightGBM] [Warning] bagging_freq is set=4, subsample_freq=3 will be ignored. Current value: bagging_freq=4\n",
      "[LightGBM] [Warning] bagging_freq is set=4, subsample_freq=3 will be ignored. Current value: bagging_freq=4\n",
      "[LightGBM] [Warning] bagging_freq is set=4, subsample_freq=3 will be ignored. Current value: bagging_freq=4\n",
      "[LightGBM] [Warning] bagging_freq is set=4, subsample_freq=3 will be ignored. Current value: bagging_freq=4\n"
     ]
    },
    {
     "name": "stderr",
     "output_type": "stream",
     "text": [
      "\u001b[32m[I 2023-04-21 17:23:29,184]\u001b[0m Trial 53 finished with value: 0.1285289195491366 and parameters: {'learning_rate': 0.028842880663198362, 'reg_lambda': 0.031437591766039615, 'n_estimators': 398, 'num_leaves': 24, 'bagging_freq': 4, 'min_child_samples': 31, 'subsample_freq': 3, 'colsample_bytree': 0.5807355079500659, 'subsample': 0.8860196055457705}. Best is trial 31 with value: 0.12785910031377737.\u001b[0m\n"
     ]
    },
    {
     "name": "stdout",
     "output_type": "stream",
     "text": [
      "[LightGBM] [Warning] bagging_freq is set=4, subsample_freq=4 will be ignored. Current value: bagging_freq=4\n",
      "[LightGBM] [Warning] bagging_freq is set=4, subsample_freq=4 will be ignored. Current value: bagging_freq=4\n",
      "[LightGBM] [Warning] bagging_freq is set=4, subsample_freq=4 will be ignored. Current value: bagging_freq=4\n",
      "[LightGBM] [Warning] bagging_freq is set=4, subsample_freq=4 will be ignored. Current value: bagging_freq=4\n",
      "[LightGBM] [Warning] bagging_freq is set=4, subsample_freq=4 will be ignored. Current value: bagging_freq=4\n"
     ]
    },
    {
     "name": "stderr",
     "output_type": "stream",
     "text": [
      "\u001b[32m[I 2023-04-21 17:23:30,411]\u001b[0m Trial 54 finished with value: 0.12970988974131298 and parameters: {'learning_rate': 0.029209951019315193, 'reg_lambda': 0.03964167784105737, 'n_estimators': 370, 'num_leaves': 23, 'bagging_freq': 4, 'min_child_samples': 16, 'subsample_freq': 4, 'colsample_bytree': 0.5870665292219813, 'subsample': 0.8775479624787255}. Best is trial 31 with value: 0.12785910031377737.\u001b[0m\n"
     ]
    },
    {
     "name": "stdout",
     "output_type": "stream",
     "text": [
      "[LightGBM] [Warning] bagging_freq is set=4, subsample_freq=3 will be ignored. Current value: bagging_freq=4\n",
      "[LightGBM] [Warning] bagging_freq is set=4, subsample_freq=3 will be ignored. Current value: bagging_freq=4\n",
      "[LightGBM] [Warning] bagging_freq is set=4, subsample_freq=3 will be ignored. Current value: bagging_freq=4\n",
      "[LightGBM] [Warning] bagging_freq is set=4, subsample_freq=3 will be ignored. Current value: bagging_freq=4\n"
     ]
    },
    {
     "name": "stderr",
     "output_type": "stream",
     "text": [
      "\u001b[32m[I 2023-04-21 17:23:31,122]\u001b[0m Trial 55 finished with value: 0.13592733251263334 and parameters: {'learning_rate': 0.013883543571551273, 'reg_lambda': 0.096033621337723, 'n_estimators': 400, 'num_leaves': 24, 'bagging_freq': 4, 'min_child_samples': 50, 'subsample_freq': 3, 'colsample_bytree': 0.6561058143970601, 'subsample': 0.843929970127397}. Best is trial 31 with value: 0.12785910031377737.\u001b[0m\n"
     ]
    },
    {
     "name": "stdout",
     "output_type": "stream",
     "text": [
      "[LightGBM] [Warning] bagging_freq is set=4, subsample_freq=3 will be ignored. Current value: bagging_freq=4\n",
      "[LightGBM] [Warning] bagging_freq is set=3, subsample_freq=3 will be ignored. Current value: bagging_freq=3\n",
      "[LightGBM] [Warning] bagging_freq is set=3, subsample_freq=3 will be ignored. Current value: bagging_freq=3\n",
      "[LightGBM] [Warning] bagging_freq is set=3, subsample_freq=3 will be ignored. Current value: bagging_freq=3\n",
      "[LightGBM] [Warning] bagging_freq is set=3, subsample_freq=3 will be ignored. Current value: bagging_freq=3\n",
      "[LightGBM] [Warning] bagging_freq is set=3, subsample_freq=3 will be ignored. Current value: bagging_freq=3\n"
     ]
    },
    {
     "name": "stderr",
     "output_type": "stream",
     "text": [
      "\u001b[32m[I 2023-04-21 17:23:31,908]\u001b[0m Trial 56 finished with value: 0.12789288336645846 and parameters: {'learning_rate': 0.018199849104804332, 'reg_lambda': 0.01580363987641689, 'n_estimators': 384, 'num_leaves': 12, 'bagging_freq': 3, 'min_child_samples': 22, 'subsample_freq': 3, 'colsample_bytree': 0.6330404688782008, 'subsample': 0.926486262635685}. Best is trial 31 with value: 0.12785910031377737.\u001b[0m\n"
     ]
    },
    {
     "name": "stdout",
     "output_type": "stream",
     "text": [
      "[LightGBM] [Warning] bagging_freq is set=3, subsample_freq=4 will be ignored. Current value: bagging_freq=3\n",
      "[LightGBM] [Warning] bagging_freq is set=3, subsample_freq=4 will be ignored. Current value: bagging_freq=3\n",
      "[LightGBM] [Warning] bagging_freq is set=3, subsample_freq=4 will be ignored. Current value: bagging_freq=3\n",
      "[LightGBM] [Warning] bagging_freq is set=3, subsample_freq=4 will be ignored. Current value: bagging_freq=3\n"
     ]
    },
    {
     "name": "stderr",
     "output_type": "stream",
     "text": [
      "\u001b[32m[I 2023-04-21 17:23:32,809]\u001b[0m Trial 57 finished with value: 0.12857271658122876 and parameters: {'learning_rate': 0.020134567857463016, 'reg_lambda': 0.0011477510682054175, 'n_estimators': 382, 'num_leaves': 13, 'bagging_freq': 3, 'min_child_samples': 32, 'subsample_freq': 4, 'colsample_bytree': 0.6305770158408467, 'subsample': 0.9325735499736658}. Best is trial 31 with value: 0.12785910031377737.\u001b[0m\n"
     ]
    },
    {
     "name": "stdout",
     "output_type": "stream",
     "text": [
      "[LightGBM] [Warning] bagging_freq is set=3, subsample_freq=4 will be ignored. Current value: bagging_freq=3\n",
      "[LightGBM] [Warning] bagging_freq is set=2, subsample_freq=2 will be ignored. Current value: bagging_freq=2\n",
      "[LightGBM] [Warning] bagging_freq is set=2, subsample_freq=2 will be ignored. Current value: bagging_freq=2\n",
      "[LightGBM] [Warning] bagging_freq is set=2, subsample_freq=2 will be ignored. Current value: bagging_freq=2\n",
      "[LightGBM] [Warning] bagging_freq is set=2, subsample_freq=2 will be ignored. Current value: bagging_freq=2\n"
     ]
    },
    {
     "name": "stderr",
     "output_type": "stream",
     "text": [
      "\u001b[32m[I 2023-04-21 17:23:33,619]\u001b[0m Trial 58 finished with value: 0.14087852337111934 and parameters: {'learning_rate': 0.008917764045411763, 'reg_lambda': 0.015207090365893244, 'n_estimators': 356, 'num_leaves': 11, 'bagging_freq': 2, 'min_child_samples': 22, 'subsample_freq': 2, 'colsample_bytree': 0.6842631100083281, 'subsample': 0.9666450017444533}. Best is trial 31 with value: 0.12785910031377737.\u001b[0m\n"
     ]
    },
    {
     "name": "stdout",
     "output_type": "stream",
     "text": [
      "[LightGBM] [Warning] bagging_freq is set=2, subsample_freq=2 will be ignored. Current value: bagging_freq=2\n",
      "[LightGBM] [Warning] bagging_freq is set=4, subsample_freq=3 will be ignored. Current value: bagging_freq=4\n",
      "[LightGBM] [Warning] bagging_freq is set=4, subsample_freq=3 will be ignored. Current value: bagging_freq=4\n",
      "[LightGBM] [Warning] bagging_freq is set=4, subsample_freq=3 will be ignored. Current value: bagging_freq=4\n",
      "[LightGBM] [Warning] bagging_freq is set=4, subsample_freq=3 will be ignored. Current value: bagging_freq=4\n"
     ]
    },
    {
     "name": "stderr",
     "output_type": "stream",
     "text": [
      "\u001b[32m[I 2023-04-21 17:23:34,142]\u001b[0m Trial 59 finished with value: 0.1377673147816678 and parameters: {'learning_rate': 0.01403345247314376, 'reg_lambda': 0.009188237748157402, 'n_estimators': 327, 'num_leaves': 6, 'bagging_freq': 4, 'min_child_samples': 9, 'subsample_freq': 3, 'colsample_bytree': 0.6073652593544095, 'subsample': 0.9226036194882615}. Best is trial 31 with value: 0.12785910031377737.\u001b[0m\n"
     ]
    },
    {
     "name": "stdout",
     "output_type": "stream",
     "text": [
      "[LightGBM] [Warning] bagging_freq is set=4, subsample_freq=3 will be ignored. Current value: bagging_freq=4\n",
      "[LightGBM] [Warning] bagging_freq is set=3, subsample_freq=2 will be ignored. Current value: bagging_freq=3\n",
      "[LightGBM] [Warning] bagging_freq is set=3, subsample_freq=2 will be ignored. Current value: bagging_freq=3\n",
      "[LightGBM] [Warning] bagging_freq is set=3, subsample_freq=2 will be ignored. Current value: bagging_freq=3\n",
      "[LightGBM] [Warning] bagging_freq is set=3, subsample_freq=2 will be ignored. Current value: bagging_freq=3\n",
      "[LightGBM] [Warning] bagging_freq is set=3, subsample_freq=2 will be ignored. Current value: bagging_freq=3\n"
     ]
    },
    {
     "name": "stderr",
     "output_type": "stream",
     "text": [
      "\u001b[32m[I 2023-04-21 17:23:34,954]\u001b[0m Trial 60 finished with value: 0.12711873356932618 and parameters: {'learning_rate': 0.023827484276925586, 'reg_lambda': 0.003707999647619001, 'n_estimators': 389, 'num_leaves': 9, 'bagging_freq': 3, 'min_child_samples': 22, 'subsample_freq': 2, 'colsample_bytree': 0.5686679430948387, 'subsample': 0.896967128465809}. Best is trial 60 with value: 0.12711873356932618.\u001b[0m\n"
     ]
    },
    {
     "name": "stdout",
     "output_type": "stream",
     "text": [
      "[LightGBM] [Warning] bagging_freq is set=3, subsample_freq=2 will be ignored. Current value: bagging_freq=3\n",
      "[LightGBM] [Warning] bagging_freq is set=3, subsample_freq=2 will be ignored. Current value: bagging_freq=3\n",
      "[LightGBM] [Warning] bagging_freq is set=3, subsample_freq=2 will be ignored. Current value: bagging_freq=3\n",
      "[LightGBM] [Warning] bagging_freq is set=3, subsample_freq=2 will be ignored. Current value: bagging_freq=3\n"
     ]
    },
    {
     "name": "stderr",
     "output_type": "stream",
     "text": [
      "\u001b[32m[I 2023-04-21 17:23:35,711]\u001b[0m Trial 61 finished with value: 0.12781521463807324 and parameters: {'learning_rate': 0.02410774445581065, 'reg_lambda': 0.03682570338473072, 'n_estimators': 390, 'num_leaves': 9, 'bagging_freq': 3, 'min_child_samples': 20, 'subsample_freq': 2, 'colsample_bytree': 0.582305398563816, 'subsample': 0.904007352809167}. Best is trial 60 with value: 0.12711873356932618.\u001b[0m\n"
     ]
    },
    {
     "name": "stdout",
     "output_type": "stream",
     "text": [
      "[LightGBM] [Warning] bagging_freq is set=3, subsample_freq=2 will be ignored. Current value: bagging_freq=3\n",
      "[LightGBM] [Warning] bagging_freq is set=3, subsample_freq=2 will be ignored. Current value: bagging_freq=3\n",
      "[LightGBM] [Warning] bagging_freq is set=3, subsample_freq=2 will be ignored. Current value: bagging_freq=3\n",
      "[LightGBM] [Warning] bagging_freq is set=3, subsample_freq=2 will be ignored. Current value: bagging_freq=3\n",
      "[LightGBM] [Warning] bagging_freq is set=3, subsample_freq=2 will be ignored. Current value: bagging_freq=3\n",
      "[LightGBM] [Warning] bagging_freq is set=3, subsample_freq=2 will be ignored. Current value: bagging_freq=3\n"
     ]
    },
    {
     "name": "stderr",
     "output_type": "stream",
     "text": [
      "\u001b[32m[I 2023-04-21 17:23:36,318]\u001b[0m Trial 62 finished with value: 0.14184507951552033 and parameters: {'learning_rate': 0.017179135871359778, 'reg_lambda': 0.0035915366311908585, 'n_estimators': 386, 'num_leaves': 8, 'bagging_freq': 3, 'min_child_samples': 99, 'subsample_freq': 2, 'colsample_bytree': 0.5640614074961658, 'subsample': 0.9051915116361535}. Best is trial 60 with value: 0.12711873356932618.\u001b[0m\n"
     ]
    },
    {
     "name": "stdout",
     "output_type": "stream",
     "text": [
      "[LightGBM] [Warning] bagging_freq is set=3, subsample_freq=2 will be ignored. Current value: bagging_freq=3\n",
      "[LightGBM] [Warning] bagging_freq is set=3, subsample_freq=2 will be ignored. Current value: bagging_freq=3\n",
      "[LightGBM] [Warning] bagging_freq is set=3, subsample_freq=2 will be ignored. Current value: bagging_freq=3\n",
      "[LightGBM] [Warning] bagging_freq is set=3, subsample_freq=2 will be ignored. Current value: bagging_freq=3\n"
     ]
    },
    {
     "name": "stderr",
     "output_type": "stream",
     "text": [
      "\u001b[32m[I 2023-04-21 17:23:37,101]\u001b[0m Trial 63 finished with value: 0.1283661238758639 and parameters: {'learning_rate': 0.037287879191549744, 'reg_lambda': 0.008548920568905025, 'n_estimators': 371, 'num_leaves': 9, 'bagging_freq': 3, 'min_child_samples': 22, 'subsample_freq': 2, 'colsample_bytree': 0.5942057379052511, 'subsample': 0.9321823919783565}. Best is trial 60 with value: 0.12711873356932618.\u001b[0m\n"
     ]
    },
    {
     "name": "stdout",
     "output_type": "stream",
     "text": [
      "[LightGBM] [Warning] bagging_freq is set=3, subsample_freq=2 will be ignored. Current value: bagging_freq=3\n",
      "[LightGBM] [Warning] bagging_freq is set=3, subsample_freq=2 will be ignored. Current value: bagging_freq=3\n",
      "[LightGBM] [Warning] bagging_freq is set=3, subsample_freq=2 will be ignored. Current value: bagging_freq=3\n",
      "[LightGBM] [Warning] bagging_freq is set=3, subsample_freq=2 will be ignored. Current value: bagging_freq=3\n",
      "[LightGBM] [Warning] bagging_freq is set=3, subsample_freq=2 will be ignored. Current value: bagging_freq=3\n",
      "[LightGBM] [Warning] bagging_freq is set=3, subsample_freq=2 will be ignored. Current value: bagging_freq=3\n"
     ]
    },
    {
     "name": "stderr",
     "output_type": "stream",
     "text": [
      "\u001b[32m[I 2023-04-21 17:23:37,842]\u001b[0m Trial 64 finished with value: 0.12804829223980027 and parameters: {'learning_rate': 0.038925385161868775, 'reg_lambda': 0.006683182637121896, 'n_estimators': 368, 'num_leaves': 10, 'bagging_freq': 3, 'min_child_samples': 14, 'subsample_freq': 2, 'colsample_bytree': 0.6220333561539639, 'subsample': 0.9774540790880764}. Best is trial 60 with value: 0.12711873356932618.\u001b[0m\n"
     ]
    },
    {
     "name": "stdout",
     "output_type": "stream",
     "text": [
      "[LightGBM] [Warning] bagging_freq is set=3, subsample_freq=2 will be ignored. Current value: bagging_freq=3\n",
      "[LightGBM] [Warning] bagging_freq is set=3, subsample_freq=2 will be ignored. Current value: bagging_freq=3\n",
      "[LightGBM] [Warning] bagging_freq is set=3, subsample_freq=2 will be ignored. Current value: bagging_freq=3\n",
      "[LightGBM] [Warning] bagging_freq is set=3, subsample_freq=2 will be ignored. Current value: bagging_freq=3\n"
     ]
    },
    {
     "name": "stderr",
     "output_type": "stream",
     "text": [
      "\u001b[32m[I 2023-04-21 17:23:38,592]\u001b[0m Trial 65 finished with value: 0.13020704408070627 and parameters: {'learning_rate': 0.02331158456423587, 'reg_lambda': 0.05411916827128313, 'n_estimators': 364, 'num_leaves': 10, 'bagging_freq': 3, 'min_child_samples': 14, 'subsample_freq': 2, 'colsample_bytree': 0.6270891639377363, 'subsample': 0.9733534774764883}. Best is trial 60 with value: 0.12711873356932618.\u001b[0m\n"
     ]
    },
    {
     "name": "stdout",
     "output_type": "stream",
     "text": [
      "[LightGBM] [Warning] bagging_freq is set=3, subsample_freq=2 will be ignored. Current value: bagging_freq=3\n",
      "[LightGBM] [Warning] bagging_freq is set=2, subsample_freq=2 will be ignored. Current value: bagging_freq=2\n",
      "[LightGBM] [Warning] bagging_freq is set=2, subsample_freq=2 will be ignored. Current value: bagging_freq=2\n",
      "[LightGBM] [Warning] bagging_freq is set=2, subsample_freq=2 will be ignored. Current value: bagging_freq=2\n",
      "[LightGBM] [Warning] bagging_freq is set=2, subsample_freq=2 will be ignored. Current value: bagging_freq=2\n",
      "[LightGBM] [Warning] bagging_freq is set=2, subsample_freq=2 will be ignored. Current value: bagging_freq=2\n"
     ]
    },
    {
     "name": "stderr",
     "output_type": "stream",
     "text": [
      "\u001b[32m[I 2023-04-21 17:23:39,255]\u001b[0m Trial 66 finished with value: 0.13075725133710228 and parameters: {'learning_rate': 0.05182271710258911, 'reg_lambda': 0.0005250557853627682, 'n_estimators': 346, 'num_leaves': 13, 'bagging_freq': 2, 'min_child_samples': 5, 'subsample_freq': 2, 'colsample_bytree': 0.65254432264712, 'subsample': 0.9909320545971292}. Best is trial 60 with value: 0.12711873356932618.\u001b[0m\n"
     ]
    },
    {
     "name": "stdout",
     "output_type": "stream",
     "text": [
      "[LightGBM] [Warning] bagging_freq is set=3, subsample_freq=1 will be ignored. Current value: bagging_freq=3\n",
      "[LightGBM] [Warning] bagging_freq is set=3, subsample_freq=1 will be ignored. Current value: bagging_freq=3\n",
      "[LightGBM] [Warning] bagging_freq is set=3, subsample_freq=1 will be ignored. Current value: bagging_freq=3\n",
      "[LightGBM] [Warning] bagging_freq is set=3, subsample_freq=1 will be ignored. Current value: bagging_freq=3\n"
     ]
    },
    {
     "name": "stderr",
     "output_type": "stream",
     "text": [
      "\u001b[32m[I 2023-04-21 17:23:40,232]\u001b[0m Trial 67 finished with value: 0.1305975610345257 and parameters: {'learning_rate': 0.019643189185930828, 'reg_lambda': 0.005311662672479669, 'n_estimators': 379, 'num_leaves': 15, 'bagging_freq': 3, 'min_child_samples': 9, 'subsample_freq': 1, 'colsample_bytree': 0.6138419538390992, 'subsample': 0.8997911413880835}. Best is trial 60 with value: 0.12711873356932618.\u001b[0m\n"
     ]
    },
    {
     "name": "stdout",
     "output_type": "stream",
     "text": [
      "[LightGBM] [Warning] bagging_freq is set=3, subsample_freq=1 will be ignored. Current value: bagging_freq=3\n",
      "[LightGBM] [Warning] bagging_freq is set=3, subsample_freq=3 will be ignored. Current value: bagging_freq=3\n",
      "[LightGBM] [Warning] bagging_freq is set=3, subsample_freq=3 will be ignored. Current value: bagging_freq=3\n",
      "[LightGBM] [Warning] bagging_freq is set=3, subsample_freq=3 will be ignored. Current value: bagging_freq=3\n",
      "[LightGBM] [Warning] bagging_freq is set=3, subsample_freq=3 will be ignored. Current value: bagging_freq=3\n"
     ]
    },
    {
     "name": "stderr",
     "output_type": "stream",
     "text": [
      "\u001b[32m[I 2023-04-21 17:23:41,129]\u001b[0m Trial 68 finished with value: 0.13319821251793634 and parameters: {'learning_rate': 0.011746982239921256, 'reg_lambda': 0.0023059514177924665, 'n_estimators': 389, 'num_leaves': 12, 'bagging_freq': 3, 'min_child_samples': 16, 'subsample_freq': 3, 'colsample_bytree': 0.6413640476063531, 'subsample': 0.9498341299490336}. Best is trial 60 with value: 0.12711873356932618.\u001b[0m\n"
     ]
    },
    {
     "name": "stdout",
     "output_type": "stream",
     "text": [
      "[LightGBM] [Warning] bagging_freq is set=3, subsample_freq=3 will be ignored. Current value: bagging_freq=3\n",
      "[LightGBM] [Warning] bagging_freq is set=2, subsample_freq=2 will be ignored. Current value: bagging_freq=2\n",
      "[LightGBM] [Warning] bagging_freq is set=2, subsample_freq=2 will be ignored. Current value: bagging_freq=2\n",
      "[LightGBM] [Warning] bagging_freq is set=2, subsample_freq=2 will be ignored. Current value: bagging_freq=2\n",
      "[LightGBM] [Warning] bagging_freq is set=2, subsample_freq=2 will be ignored. Current value: bagging_freq=2\n"
     ]
    },
    {
     "name": "stderr",
     "output_type": "stream",
     "text": [
      "\u001b[32m[I 2023-04-21 17:23:41,523]\u001b[0m Trial 69 finished with value: 0.13033961293666638 and parameters: {'learning_rate': 0.032766547729160975, 'reg_lambda': 0.027747550077389778, 'n_estimators': 205, 'num_leaves': 7, 'bagging_freq': 2, 'min_child_samples': 26, 'subsample_freq': 2, 'colsample_bytree': 0.6797689095166519, 'subsample': 0.9558002958489739}. Best is trial 60 with value: 0.12711873356932618.\u001b[0m\n"
     ]
    },
    {
     "name": "stdout",
     "output_type": "stream",
     "text": [
      "[LightGBM] [Warning] bagging_freq is set=2, subsample_freq=2 will be ignored. Current value: bagging_freq=2\n",
      "learning_rate: 0.023827484276925586\n",
      "reg_lambda: 0.003707999647619001\n",
      "n_estimators: 389\n",
      "num_leaves: 9\n",
      "bagging_freq: 3\n",
      "min_child_samples: 22\n",
      "subsample_freq: 2\n",
      "colsample_bytree: 0.5686679430948387\n",
      "subsample: 0.896967128465809\n",
      "[LightGBM] [Warning] bagging_freq is set=3, subsample_freq=2 will be ignored. Current value: bagging_freq=3\n",
      "result on hold-out set after HPO: 0.1316227408961971\n"
     ]
    }
   ],
   "source": [
    "import lightgbm\n",
    "from sklearn.model_selection import train_test_split\n",
    "from sklearn.metrics import mean_squared_error\n",
    "import numpy as np\n",
    "import optuna\n",
    "from sklearn.model_selection import cross_val_score\n",
    "\n",
    "train = pd.read_csv('../data/train.csv', sep=\",\")\n",
    "categorical = [var for var in train.columns if train[var].dtype=='O']\n",
    "\n",
    "for cat_feat in categorical:\n",
    "    train[cat_feat] = train[cat_feat].astype('category')\n",
    "    \n",
    "y = train['SalePrice']\n",
    "X = train.drop('SalePrice', axis=1)\n",
    "y = np.log1p(y)\n",
    "X_train, X_test, y_train, y_test = \\\n",
    "        train_test_split(X, y, random_state=42, test_size=0.2)\n",
    "\n",
    "def objective(trial):\n",
    "\n",
    "    x_tr, x_te, y_tr, y_te = \\\n",
    "        train_test_split(X_train, y_train, random_state=42, test_size=0.2)\n",
    "    \n",
    "    model = lightgbm.LGBMRegressor()\n",
    "\n",
    "    param = {\n",
    "        \"objective\": \"regression\",\n",
    "        \"metric\": \"'neg_mean_squared_error'\",\n",
    "        \"verbosity\": -1,\n",
    "        \"boosting_type\": \"gbdt\",\n",
    "        \"learning_rate\": trial.suggest_float(\"learning_rate\", 1e-4, 0.1, log=True),\n",
    "        \"reg_lambda\": trial.suggest_float(\"reg_lambda\", 1e-8, 1.0, log=True),\n",
    "        \"n_estimators\" : trial.suggest_int(\"n_estimators\", 100, 400),\n",
    "        \"num_leaves\": trial.suggest_int(\"num_leaves\", 4, 30),\n",
    "        \"bagging_freq\": trial.suggest_int(\"bagging_freq\", 1, 7),\n",
    "        \"min_child_samples\": trial.suggest_int(\"min_child_samples\", 5, 100),\n",
    "        \"subsample_freq\": trial.suggest_int(\"subsample_freq\",0, 8),\n",
    "        \"colsample_bytree\": trial.suggest_float(\"colsample_bytree\",0.5,1.0),\n",
    "        \"subsample\": trial.suggest_float(\"subsample\", 0.5, 1.0)\n",
    "    }\n",
    "    model.set_params(**param)\n",
    "    clf = cross_val_score(\n",
    "    model,\n",
    "         x_tr, y_tr, scoring = 'neg_mean_squared_error'\n",
    "    )\n",
    "\n",
    "    return np.mean(np.sqrt(-clf))\n",
    "\n",
    "study = optuna.create_study()\n",
    "study.optimize(objective , n_trials =70)\n",
    "trial = study.best_trial\n",
    "model = lightgbm.LGBMRegressor()\n",
    "model.set_params(**trial.params)\n",
    "for k,v in trial.params.items():\n",
    "    print(f'{k}: {v}')\n",
    "model.fit(X_train, y_train)\n",
    "print(f'result on hold-out set after HPO: {np.sqrt(mean_squared_error(y_test, model.predict(X_test)))}')"
   ]
  },
  {
   "cell_type": "code",
   "execution_count": null,
   "id": "946a3e1f",
   "metadata": {},
   "outputs": [],
   "source": []
  }
 ],
 "metadata": {
  "kernelspec": {
   "display_name": "Python [conda env:skopt]",
   "language": "python",
   "name": "conda-env-skopt-py"
  },
  "language_info": {
   "codemirror_mode": {
    "name": "ipython",
    "version": 3
   },
   "file_extension": ".py",
   "mimetype": "text/x-python",
   "name": "python",
   "nbconvert_exporter": "python",
   "pygments_lexer": "ipython3",
   "version": "3.8.16"
  }
 },
 "nbformat": 4,
 "nbformat_minor": 5
}
