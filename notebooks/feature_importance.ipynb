{
 "cells": [
  {
   "cell_type": "markdown",
   "metadata": {},
   "source": [
    "readings:\n",
    "https://scikit-learn.org/stable/auto_examples/inspection/plot_permutation_importance.html#sphx-glr-auto-examples-inspection-plot-permutation-importance-py\n",
    "\n",
    "https://roamanalytics.com/2016/10/28/are-categorical-variables-getting-lost-in-your-random-forests/"
   ]
  },
  {
   "cell_type": "code",
   "execution_count": null,
   "metadata": {},
   "outputs": [],
   "source": [
    "!pip install seaborn"
   ]
  },
  {
   "cell_type": "code",
   "execution_count": null,
   "metadata": {
    "ExecuteTime": {
     "end_time": "2020-09-21T18:57:57.323807Z",
     "start_time": "2020-09-21T18:57:55.717040Z"
    }
   },
   "outputs": [],
   "source": [
    "# linear algebra\n",
    "import numpy as np \n",
    "\n",
    "# data processing\n",
    "import pandas as pd \n",
    "\n",
    "# data visualization\n",
    "import seaborn as sns\n",
    "%matplotlib inline\n",
    "from matplotlib import pyplot as plt\n",
    "from matplotlib import style\n",
    "\n",
    "# Algorithms\n",
    "from sklearn.ensemble import RandomForestClassifier\n",
    "from sklearn.tree import DecisionTreeClassifier"
   ]
  },
  {
   "cell_type": "markdown",
   "metadata": {},
   "source": [
    "### Titanic data-set\n",
    "Can you predict who survived and who did not?"
   ]
  },
  {
   "cell_type": "code",
   "execution_count": null,
   "metadata": {
    "ExecuteTime": {
     "end_time": "2020-09-21T18:57:57.323807Z",
     "start_time": "2020-09-21T18:57:55.717040Z"
    }
   },
   "outputs": [],
   "source": [
    "# data\n",
    "test = pd.read_csv(\"../data/titanic/test.csv\")\n",
    "train = pd.read_csv(\"../data/titanic/train.csv\")"
   ]
  },
  {
   "cell_type": "code",
   "execution_count": null,
   "metadata": {
    "ExecuteTime": {
     "end_time": "2020-09-21T18:57:57.333919Z",
     "start_time": "2020-09-21T18:57:57.325692Z"
    }
   },
   "outputs": [],
   "source": [
    "total = train.isnull().sum().sort_values(ascending=False)\n",
    "display(train.shape, test.shape)"
   ]
  },
  {
   "cell_type": "code",
   "execution_count": null,
   "metadata": {
    "ExecuteTime": {
     "end_time": "2020-09-21T18:57:57.340616Z",
     "start_time": "2020-09-21T18:57:57.336285Z"
    }
   },
   "outputs": [],
   "source": [
    "total"
   ]
  },
  {
   "cell_type": "code",
   "execution_count": null,
   "metadata": {
    "ExecuteTime": {
     "end_time": "2020-09-21T18:57:57.350819Z",
     "start_time": "2020-09-21T18:57:57.342516Z"
    }
   },
   "outputs": [],
   "source": [
    "train.info()"
   ]
  },
  {
   "cell_type": "code",
   "execution_count": null,
   "metadata": {
    "ExecuteTime": {
     "end_time": "2020-09-21T18:57:57.358841Z",
     "start_time": "2020-09-21T18:57:57.352150Z"
    }
   },
   "outputs": [],
   "source": [
    "# we have to get rid of the objects somehow:\n",
    "train[['Name', 'Ticket', 'Cabin']].head()"
   ]
  },
  {
   "cell_type": "code",
   "execution_count": null,
   "metadata": {
    "ExecuteTime": {
     "end_time": "2020-09-21T18:57:57.358841Z",
     "start_time": "2020-09-21T18:57:57.352150Z"
    }
   },
   "outputs": [],
   "source": [
    "# Name is unique; Cabin hast to many Nans, Ticket is somehow unique too\n",
    "train = train.drop(['Name', 'Ticket', 'Cabin'], axis = 1)\n",
    "test = test.drop(['Name', 'Ticket', 'Cabin'], axis = 1)"
   ]
  },
  {
   "cell_type": "markdown",
   "metadata": {},
   "source": [
    "Next, we replace the string-variables with numeric (integer) variables and fill missing values in age with the most frequent age."
   ]
  },
  {
   "cell_type": "code",
   "execution_count": null,
   "metadata": {
    "ExecuteTime": {
     "end_time": "2020-09-21T18:57:57.371830Z",
     "start_time": "2020-09-21T18:57:57.360676Z"
    }
   },
   "outputs": [],
   "source": [
    "unique_embarked = set(train.Embarked.unique()).union(test.Embarked.unique())\n",
    "embarked = dict(zip(unique_embarked, list(range(len(unique_embarked)))))\n",
    "unique_sex = set(train.Sex.unique()).union(test.Sex.unique())\n",
    "sex = dict(zip(unique_sex, list(range(len(unique_sex)))))\n",
    "\n",
    "data = [train, test]\n",
    "for dataset in data:\n",
    "    dataset['Embarked'] = dataset['Embarked'].map(embarked)\n",
    "    dataset['Sex'] = dataset['Sex'].map(sex)\n",
    "    dataset['Age'] = dataset['Age'].fillna(dataset['Age'].mode().values[0])    "
   ]
  },
  {
   "cell_type": "code",
   "execution_count": null,
   "metadata": {},
   "outputs": [],
   "source": [
    "embarked"
   ]
  },
  {
   "cell_type": "markdown",
   "metadata": {},
   "source": [
    "not necessary, but we cast our categorical variables to data-type 'category'"
   ]
  },
  {
   "cell_type": "code",
   "execution_count": null,
   "metadata": {},
   "outputs": [],
   "source": [
    "categorical = [var for var in train.columns if train[var].dtype=='O']\n",
    "numerical = [var for var in train.columns if train[var].dtype!='O']\n",
    "train[categorical] = train[categorical].astype('category')\n",
    "test[categorical] = test[categorical].astype('category')"
   ]
  },
  {
   "cell_type": "code",
   "execution_count": null,
   "metadata": {},
   "outputs": [],
   "source": [
    "categorical"
   ]
  },
  {
   "cell_type": "markdown",
   "metadata": {},
   "source": [
    "### we fit a RandomForest Classifier"
   ]
  },
  {
   "cell_type": "code",
   "execution_count": null,
   "metadata": {
    "ExecuteTime": {
     "end_time": "2020-09-21T18:57:57.511356Z",
     "start_time": "2020-09-21T18:57:57.373472Z"
    }
   },
   "outputs": [],
   "source": [
    "survived = train['Survived']\n",
    "train = train.drop('Survived', axis=1)\n",
    "rf = RandomForestClassifier()\n",
    "rf.fit(train, survived)"
   ]
  },
  {
   "cell_type": "markdown",
   "metadata": {},
   "source": [
    "### The RandomForest Classifier comes with an feature_importances_ attribute"
   ]
  },
  {
   "cell_type": "code",
   "execution_count": null,
   "metadata": {
    "ExecuteTime": {
     "end_time": "2020-09-21T18:57:57.639728Z",
     "start_time": "2020-09-21T18:57:57.514221Z"
    }
   },
   "outputs": [],
   "source": [
    "tree_feature_importances = rf.feature_importances_\n",
    "feature_names = train.columns\n",
    "sorted_idx = tree_feature_importances.argsort()\n",
    "y_ticks = np.arange(0, len(feature_names))\n",
    "fig, ax = plt.subplots()\n",
    "ax.barh(y_ticks, tree_feature_importances[sorted_idx])\n",
    "ax.set_yticklabels(feature_names[sorted_idx])\n",
    "ax.set_yticks(y_ticks)\n",
    "ax.set_title(\"Random Forest Feature Importances (Mean Decrease Impurity)\")\n",
    "fig.tight_layout()\n",
    "plt.show()"
   ]
  },
  {
   "cell_type": "markdown",
   "metadata": {},
   "source": [
    "### Why is PassengerId such an important variable?\n",
    "\n",
    "We could even enhance the information contained in PassengerId by target-encoding this variable.<br> No information is lost, results should not be worse.\n",
    "\n",
    "By the way, what exactly are we doing in the for-loop?"
   ]
  },
  {
   "cell_type": "code",
   "execution_count": null,
   "metadata": {
    "ExecuteTime": {
     "end_time": "2020-09-21T18:57:58.056712Z",
     "start_time": "2020-09-21T18:57:57.641732Z"
    }
   },
   "outputs": [],
   "source": [
    "from category_encoders.cat_boost import CatBoostEncoder\n",
    "from category_encoders.one_hot import OneHotEncoder\n",
    "from sklearn.model_selection import StratifiedKFold\n",
    "k=5\n",
    "\n",
    "encoder = CatBoostEncoder(cols = 'PassengerId')\n",
    "folds = StratifiedKFold(n_splits = k, shuffle=True, random_state=1234)\n",
    "\n",
    "test_PassId = np.zeros(test.shape[0])\n",
    "train_trg = train.copy()\n",
    "test_trg = test.copy()\n",
    "for train_fold_idx, test_fold_idx in folds.split(train, survived):\n",
    "    _ = encoder.fit_transform(train.loc[train_fold_idx], survived[train_fold_idx])\n",
    "    train_trg.loc[test_fold_idx, :] = encoder.transform(train.loc[test_fold_idx])\n",
    "    test_PassId += (encoder.transform(test)['PassengerId']/k)\n",
    "test_trg['PassengerId'] = test_PassId"
   ]
  },
  {
   "cell_type": "code",
   "execution_count": null,
   "metadata": {
    "ExecuteTime": {
     "end_time": "2020-09-21T18:57:58.069565Z",
     "start_time": "2020-09-21T18:57:58.058711Z"
    }
   },
   "outputs": [],
   "source": [
    "display(test.head(), test_trg.head())"
   ]
  },
  {
   "cell_type": "code",
   "execution_count": null,
   "metadata": {
    "ExecuteTime": {
     "end_time": "2020-09-21T18:57:58.299213Z",
     "start_time": "2020-09-21T18:57:58.071260Z"
    }
   },
   "outputs": [],
   "source": [
    "rf = RandomForestClassifier()\n",
    "rf.fit(train_trg, survived)\n",
    "tree_feature_importances = rf.feature_importances_\n",
    "feature_names = train.columns\n",
    "sorted_idx = tree_feature_importances.argsort()\n",
    "y_ticks = np.arange(0, len(feature_names))\n",
    "fig, ax = plt.subplots()\n",
    "ax.barh(y_ticks, tree_feature_importances[sorted_idx])\n",
    "ax.set_yticklabels(feature_names[sorted_idx])\n",
    "ax.set_yticks(y_ticks)\n",
    "ax.set_title(\"Random Forest Feature Importances (Mean Decrease Impurity)\")\n",
    "fig.tight_layout()\n",
    "plt.show()"
   ]
  },
  {
   "cell_type": "markdown",
   "metadata": {},
   "source": [
    "### Surprise!\n",
    "What exactly happend? The relevant information about the target should still be contained in the mean-encoded PassengerId-variable."
   ]
  },
  {
   "cell_type": "code",
   "execution_count": null,
   "metadata": {},
   "outputs": [],
   "source": [
    "display(train_trg['PassengerId'].unique(), test_trg['PassengerId'].unique())"
   ]
  },
  {
   "cell_type": "markdown",
   "metadata": {},
   "source": [
    "### Can we make the old PassengerId-variable shine even brighter?"
   ]
  },
  {
   "cell_type": "code",
   "execution_count": null,
   "metadata": {},
   "outputs": [],
   "source": [
    "encoder = OneHotEncoder(cols = ['Age', 'Sex'])\n",
    "train_oh = encoder.fit_transform(train)\n",
    "test_oh = encoder.transform(test)"
   ]
  },
  {
   "cell_type": "code",
   "execution_count": null,
   "metadata": {
    "ExecuteTime": {
     "end_time": "2020-09-21T18:57:59.160944Z",
     "start_time": "2020-09-21T18:57:58.327461Z"
    }
   },
   "outputs": [],
   "source": [
    "rf = RandomForestClassifier()\n",
    "rf.fit(train_oh, survived)\n",
    "tree_feature_importances = rf.feature_importances_\n",
    "feature_names = train_oh.columns\n",
    "sorted_idx = tree_feature_importances.argsort()\n",
    "y_ticks = np.arange(0, len(feature_names))\n",
    "fig, ax = plt.subplots(figsize=(4, 12))\n",
    "ax.barh(y_ticks, tree_feature_importances[sorted_idx])\n",
    "ax.set_yticklabels(feature_names[sorted_idx])\n",
    "ax.set_yticks(y_ticks)\n",
    "ax.set_title(\"Random Forest Feature Importances (Mean Decrease Impurity)\")\n",
    "fig.tight_layout()\n",
    "plt.show()"
   ]
  },
  {
   "cell_type": "markdown",
   "metadata": {},
   "source": [
    "# Gini-coefficient (gini impurity) for splitting variables"
   ]
  },
  {
   "cell_type": "markdown",
   "metadata": {
    "ExecuteTime": {
     "end_time": "2020-09-21T18:33:11.614218Z",
     "start_time": "2020-09-21T18:33:11.610663Z"
    }
   },
   "source": [
    "\\begin{equation*}\n",
    "\\text{gini}=1-\\sum_i^n P_i^2 \n",
    "\\end{equation*}\n",
    "where $i$ is the class index;\n",
    "The gini impurity measueres the purity of a node. If all elements within one node fall in one class, $P_i=1$ and the impurity is at its minimum.<br>\n",
    "Gini impurity favours splitting repeatedly on continuous variables and thus cutting out regions of very low impurity. The continuous variable itself might even contain no real information at all (PassengerId)."
   ]
  },
  {
   "cell_type": "markdown",
   "metadata": {},
   "source": [
    "# Permutation variable importance"
   ]
  },
  {
   "cell_type": "code",
   "execution_count": null,
   "metadata": {},
   "outputs": [],
   "source": [
    "display(train.head(), survived.head())"
   ]
  },
  {
   "cell_type": "code",
   "execution_count": null,
   "metadata": {
    "ExecuteTime": {
     "end_time": "2020-09-21T18:58:02.702371Z",
     "start_time": "2020-09-21T18:57:59.162881Z"
    }
   },
   "outputs": [],
   "source": [
    "from sklearn.inspection import permutation_importance\n",
    "\n",
    "rf_model = RandomForestClassifier()\n",
    "rf_model.fit(train, survived)\n",
    "result = permutation_importance(rf_model, train, survived,\n",
    "        n_repeats=30,\n",
    "        random_state=0)\n",
    "\n",
    "sorted_idx = result.importances_mean.argsort()\n",
    "\n",
    "fig, ax = plt.subplots()\n",
    "ax.boxplot(result.importances[sorted_idx].T,\n",
    "           vert=False, labels=train.columns[sorted_idx])\n",
    "ax.set_title(\"Permutation Importances\")\n",
    "fig.tight_layout()\n",
    "plt.show()"
   ]
  },
  {
   "cell_type": "code",
   "execution_count": null,
   "metadata": {},
   "outputs": [],
   "source": [
    "import dtreeviz\n",
    "from sklearn import tree\n",
    "from dtreeviz.trees import *\n",
    "\n",
    "classifier = tree.DecisionTreeClassifier(max_depth=5)  # limit depth of tree\n",
    "classifier.fit(train, survived)\n",
    "\n",
    "viz = dtreeviz(classifier, \n",
    "               train, \n",
    "               survived,\n",
    "               target_name='survived',\n",
    "               feature_names=train.columns, \n",
    "               class_names=[\"died\", \"survived\"]  # need class_names for classifier\n",
    "              )  \n",
    "              \n",
    "viz.view() "
   ]
  },
  {
   "cell_type": "code",
   "execution_count": null,
   "metadata": {},
   "outputs": [],
   "source": [
    "viz"
   ]
  },
  {
   "cell_type": "markdown",
   "metadata": {},
   "source": [
    "# experiment\n",
    "How well would a random variable perform?\n",
    "  - some values are repeating but random\n",
    "  - all values are unique and random"
   ]
  },
  {
   "cell_type": "code",
   "execution_count": null,
   "metadata": {
    "ExecuteTime": {
     "end_time": "2020-09-21T18:58:02.965667Z",
     "start_time": "2020-09-21T18:58:02.704446Z"
    }
   },
   "outputs": [],
   "source": [
    "# simple random variable not all values unique (vs. PassengerId)\n",
    "\n",
    "from numpy.random import randint\n",
    "train_rand = train.copy()\n",
    "train_rand['my_rand_var'] = randint(0, train.shape[0], train.shape[0])\n",
    "rf_rand = RandomForestClassifier()\n",
    "rf_rand.fit(train_rand, survived)\n",
    "tree_feature_importances = rf_rand.feature_importances_\n",
    "feature_names = train_rand.columns\n",
    "sorted_idx = tree_feature_importances.argsort()\n",
    "y_ticks = np.arange(0, len(feature_names))\n",
    "fig, ax = plt.subplots()\n",
    "ax.barh(y_ticks, tree_feature_importances[sorted_idx])\n",
    "ax.set_yticklabels(feature_names[sorted_idx])\n",
    "ax.set_yticks(y_ticks)\n",
    "ax.set_title(\"Random Forest Feature Importances (MDI)\")\n",
    "fig.tight_layout()\n",
    "plt.show()"
   ]
  },
  {
   "cell_type": "markdown",
   "metadata": {},
   "source": [
    "### Cardinality of Variable in relation to number of observations\n",
    "If the ratio is 1.0, that means that we have as many different values in the variable as there are observations. The number of possible splits that just randomly lead to pure nodes is very high."
   ]
  },
  {
   "cell_type": "code",
   "execution_count": null,
   "metadata": {},
   "outputs": [],
   "source": [
    "display(len(train_rand.Age.unique())/train.shape[0], len(train_rand.my_rand_var.unique())/train.shape[0],\n",
    "       len(train_rand.PassengerId.unique())/train.shape[0])"
   ]
  },
  {
   "cell_type": "markdown",
   "metadata": {},
   "source": [
    "When we repeatedly execute the cell below, in most cases the variable 'my_unique_rand_var' has a higher feature_importance than the 'my_unique_rand_var_sorted' variable.<br>\n",
    "Why is this?<br>\n",
    "Values of both variables are unique. There should be no sorting in the target-variable within the data-frame."
   ]
  },
  {
   "cell_type": "code",
   "execution_count": null,
   "metadata": {
    "ExecuteTime": {
     "end_time": "2020-09-21T18:58:15.310370Z",
     "start_time": "2020-09-21T18:58:15.035496Z"
    }
   },
   "outputs": [],
   "source": [
    "# simple random variable all values unique (vs. PassengerId)\n",
    "\n",
    "from numpy.random import choice\n",
    "train_rand_all_unique = train.copy()\n",
    "train_rand_all_unique['my_unique_rand_var'] = choice(np.arange(train.shape[0]), train.shape[0], replace=False)\n",
    "train_rand_all_unique['my_unique_rand_var_sorted'] = np.arange(train.shape[0])\n",
    "rf_rand_all_unique = RandomForestClassifier()\n",
    "rf_rand_all_unique.fit(train_rand_all_unique, survived)\n",
    "tree_feature_importances = rf_rand_all_unique.feature_importances_\n",
    "feature_names = train_rand_all_unique.columns\n",
    "sorted_idx = tree_feature_importances.argsort()\n",
    "y_ticks = np.arange(0, len(feature_names))\n",
    "fig, ax = plt.subplots()\n",
    "ax.barh(y_ticks, tree_feature_importances[sorted_idx])\n",
    "ax.set_yticklabels(feature_names[sorted_idx])\n",
    "ax.set_yticks(y_ticks)\n",
    "ax.set_title(\"Random Forest Feature Importances (MDI)\")\n",
    "fig.tight_layout()\n",
    "plt.show()"
   ]
  },
  {
   "cell_type": "code",
   "execution_count": null,
   "metadata": {},
   "outputs": [],
   "source": [
    "sns.heatmap(np.round(train_rand_all_unique.corr(), 2), annot=True)"
   ]
  },
  {
   "cell_type": "code",
   "execution_count": null,
   "metadata": {},
   "outputs": [],
   "source": [
    "from sklearn.inspection import permutation_importance\n",
    "\n",
    "rf_model = RandomForestClassifier()\n",
    "rf_model.fit(train_rand_all_unique, survived)\n",
    "result = permutation_importance(rf_model, train_rand_all_unique, survived,\n",
    "        n_repeats=30,\n",
    "        random_state=0)\n",
    "\n",
    "sorted_idx = result.importances_mean.argsort()\n",
    "\n",
    "fig, ax = plt.subplots()\n",
    "ax.boxplot(result.importances[sorted_idx].T,\n",
    "           vert=False, labels=train_rand_all_unique.columns[sorted_idx])\n",
    "ax.set_title(\"Permutation Importances\")\n",
    "fig.tight_layout()\n",
    "plt.show()"
   ]
  },
  {
   "cell_type": "code",
   "execution_count": null,
   "metadata": {},
   "outputs": [],
   "source": [
    "train_rand_all_unique.head()"
   ]
  },
  {
   "cell_type": "markdown",
   "metadata": {},
   "source": [
    "### Interpretation\n",
    "For the interpretation of the importance-scores, this is highly relevant. As we see, PassengerId and my_unique_rand_var_sorted are highly redundant. Nonetheless, both have very high importance-scores; The accuracy of the model will not degrade if we remove one of the variables - even though both have high importance."
   ]
  }
 ],
 "metadata": {
  "kernelspec": {
   "display_name": "Python [conda env:imbalanced]",
   "language": "python",
   "name": "conda-env-imbalanced-py"
  },
  "language_info": {
   "codemirror_mode": {
    "name": "ipython",
    "version": 3
   },
   "file_extension": ".py",
   "mimetype": "text/x-python",
   "name": "python",
   "nbconvert_exporter": "python",
   "pygments_lexer": "ipython3",
   "version": "3.7.10"
  },
  "latex_envs": {
   "LaTeX_envs_menu_present": true,
   "autoclose": false,
   "autocomplete": true,
   "bibliofile": "biblio.bib",
   "cite_by": "apalike",
   "current_citInitial": 1,
   "eqLabelWithNumbers": true,
   "eqNumInitial": 1,
   "hotkeys": {
    "equation": "Ctrl-E",
    "itemize": "Ctrl-I"
   },
   "labels_anchors": false,
   "latex_user_defs": false,
   "report_style_numbering": false,
   "user_envs_cfg": false
  }
 },
 "nbformat": 4,
 "nbformat_minor": 4
}
