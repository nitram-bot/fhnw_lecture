{
 "cells": [
  {
   "cell_type": "markdown",
   "id": "contained-protein",
   "metadata": {},
   "source": [
    "https://towardsdatascience.com/data-leakage-with-hyper-parameter-tuning-c57ba2006046"
   ]
  },
  {
   "cell_type": "code",
   "execution_count": null,
   "id": "potential-latter",
   "metadata": {},
   "outputs": [],
   "source": [
    "X, y = get_some_data()\n",
    "X = SomeFeaturesTransformer().fit_transform(X)\n",
    "X_train, X_test, y_train, y_test = train_test_split(X, y)\n",
    "classifier = SomeClassifier().fit(X_train, y_train)"
   ]
  },
  {
   "cell_type": "markdown",
   "id": "helpful-playlist",
   "metadata": {},
   "source": [
    " - upsampling -> test, train split or cross-validation\n",
    " - scaling on whole data set -> split into train, test\n",
    " - sampling within subject"
   ]
  }
 ],
 "metadata": {
  "kernelspec": {
   "display_name": "Python 3",
   "language": "python",
   "name": "python3"
  },
  "language_info": {
   "codemirror_mode": {
    "name": "ipython",
    "version": 3
   },
   "file_extension": ".py",
   "mimetype": "text/x-python",
   "name": "python",
   "nbconvert_exporter": "python",
   "pygments_lexer": "ipython3",
   "version": "3.6.13"
  }
 },
 "nbformat": 4,
 "nbformat_minor": 5
}
