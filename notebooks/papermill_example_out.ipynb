{
 "cells": [
  {
   "cell_type": "code",
   "execution_count": 1,
   "id": "36de4f0d",
   "metadata": {
    "execution": {
     "iopub.execute_input": "2023-06-15T20:00:11.318524Z",
     "iopub.status.busy": "2023-06-15T20:00:11.317229Z",
     "iopub.status.idle": "2023-06-15T20:00:11.329208Z",
     "shell.execute_reply": "2023-06-15T20:00:11.328278Z"
    },
    "papermill": {
     "duration": 0.027971,
     "end_time": "2023-06-15T20:00:11.331133",
     "exception": false,
     "start_time": "2023-06-15T20:00:11.303162",
     "status": "completed"
    },
    "tags": [
     "parameters"
    ]
   },
   "outputs": [],
   "source": [
    "text = 'this is added as default'"
   ]
  },
  {
   "cell_type": "code",
   "execution_count": 2,
   "id": "1902acf3",
   "metadata": {
    "execution": {
     "iopub.execute_input": "2023-06-15T20:00:11.343018Z",
     "iopub.status.busy": "2023-06-15T20:00:11.342787Z",
     "iopub.status.idle": "2023-06-15T20:00:11.346087Z",
     "shell.execute_reply": "2023-06-15T20:00:11.345470Z"
    },
    "papermill": {
     "duration": 0.010133,
     "end_time": "2023-06-15T20:00:11.347256",
     "exception": false,
     "start_time": "2023-06-15T20:00:11.337123",
     "status": "completed"
    },
    "tags": [
     "injected-parameters"
    ]
   },
   "outputs": [],
   "source": [
    "# Parameters\n",
    "text = \"here comes some text\"\n"
   ]
  },
  {
   "cell_type": "code",
   "execution_count": 3,
   "id": "5ec5e405",
   "metadata": {
    "execution": {
     "iopub.execute_input": "2023-06-15T20:00:11.354821Z",
     "iopub.status.busy": "2023-06-15T20:00:11.354329Z",
     "iopub.status.idle": "2023-06-15T20:00:11.359520Z",
     "shell.execute_reply": "2023-06-15T20:00:11.359019Z"
    },
    "papermill": {
     "duration": 0.010088,
     "end_time": "2023-06-15T20:00:11.360666",
     "exception": false,
     "start_time": "2023-06-15T20:00:11.350578",
     "status": "completed"
    },
    "tags": []
   },
   "outputs": [],
   "source": [
    "with open('/home/martin/python/fhnw_lecture/notebooks/papermill_out.txt', 'w') as outputfile:\n",
    "    outputfile.write(f'this is written with papermill call new and: {text}')"
   ]
  }
 ],
 "metadata": {
  "celltoolbar": "Tags",
  "kernelspec": {
   "display_name": "Python 3 (ipykernel)",
   "language": "python",
   "name": "python3"
  },
  "language_info": {
   "codemirror_mode": {
    "name": "ipython",
    "version": 3
   },
   "file_extension": ".py",
   "mimetype": "text/x-python",
   "name": "python",
   "nbconvert_exporter": "python",
   "pygments_lexer": "ipython3",
   "version": "3.10.11"
  },
  "papermill": {
   "default_parameters": {},
   "duration": 2.193323,
   "end_time": "2023-06-15T20:00:11.479870",
   "environment_variables": {},
   "exception": null,
   "input_path": "papermill_example.ipynb",
   "output_path": "papermill_example_out.ipynb",
   "parameters": {
    "text": "here comes some text"
   },
   "start_time": "2023-06-15T20:00:09.286547",
   "version": "2.4.0"
  }
 },
 "nbformat": 4,
 "nbformat_minor": 5
}