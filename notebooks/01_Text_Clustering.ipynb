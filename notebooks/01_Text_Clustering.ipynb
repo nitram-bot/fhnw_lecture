{
 "cells": [
  {
   "cell_type": "markdown",
   "metadata": {},
   "source": [
    "<img alt=\"\" caption=\"taken from wikipedia\" onmouseover=\"[taken from here](https://en.wikipedia.org/wiki/DBSCAN)\"\n",
    "id=\"bayesian_optimization\" src=\"../images/sphx_glr_plot_cluster_comparison_0011.png\" width=\"720\" height=\"720\">\n",
    "\n",
    "[The image is taken from the sklearn site](https://scikit-learn.org/stable/modules/clustering.html)"
   ]
  },
  {
   "cell_type": "markdown",
   "metadata": {},
   "source": [
    "### Spectral clustering\n",
    "Spectral clustering originates from Graph Theory (Spectral Analysis)\n",
    "The algorithms works as follows:\n",
    "1. a connectivity matrix / affinity matrix W is formed. This matrix is symmetric and is n x n, where n is the number of observations. If there is a link between observation i and observation j there is a 1 in the matrix at positions $W_{ij}$ and $W_{ji}$. Alternatively, for the affinity matrix, there is a similarity measure indicating the closeness of two observations.\n",
    "2. the degree matrix $D$ is formed. It is a diagonal matrix that contains for each observation the number of links (or sum of similarities) to other observations.\n",
    "3. the laplacian matrix $L$ is formed by $L = D -W$. This matrix has several interesting properties:\n",
    "  * the smallest eigenvalue is always 0. If all observations are connected (fully connected), there is exactly one eigenvalue that is 0.\n",
    "  * the corresponding eigenvector is constant.\n",
    "  * are there $r$ connected components (cluster) in the data and if observations are ordered accordingly, the laplacian has block diagonal form:\n",
    "      \n",
    "   $ L =\n",
    "     \\begin{bmatrix}\n",
    "       L_{1} & & \\\\\n",
    "       & \\ddots & \\\\\n",
    "       & & L_{r}\n",
    "     \\end{bmatrix}\n",
    "   $\n",
    "  * the blocks $L_i$ are proper laplacian matrices on their own. Since each component (cluster) is connected within, $L_i$ has exactly one eigenvalue that is 0. The corresponding eigenvector is constant and is zero for all other components. These eigenvectors hence are indicator vectors for their component. "
   ]
  },
  {
   "cell_type": "code",
   "execution_count": 2,
   "metadata": {},
   "outputs": [
    {
     "data": {
      "text/plain": [
       "Text(0, 0.5, 'Height')"
      ]
     },
     "execution_count": 2,
     "metadata": {},
     "output_type": "execute_result"
    },
    {
     "data": {
      "image/png": "[encoded data removed]",
      "text/plain": [
       "<Figure size 432x288 with 1 Axes>"
      ]
     },
     "metadata": {
      "needs_background": "light"
     },
     "output_type": "display_data"
    }
   ],
   "source": [
    "# this simple example is taken from https://towardsdatascience.com/unsupervised-machine-learning-spectral-clustering-algorithm-implemented-from-scratch-in-python-205c87271045\n",
    "import numpy as np\n",
    "import matplotlib.pyplot as plt\n",
    "X = np.array([\n",
    "    [1, 3], [2, 1], [1, 1],\n",
    "    [3, 2], [7, 8], [9, 8],\n",
    "    [9, 9], [8, 7], [13, 14],\n",
    "    [14, 14], [15, 16], [14, 15]\n",
    "])\n",
    "plt.scatter(X[:,0], X[:,1], alpha=0.7, edgecolors='b')\n",
    "plt.xlabel('Weight')\n",
    "plt.ylabel('Height')\n"
   ]
  },
  {
   "cell_type": "markdown",
   "metadata": {},
   "source": [
    "Next we buid the connectivity matrix $W$ (also called adjacency matrix). We see, it has three connected components (clusters):"
   ]
  },
  {
   "cell_type": "code",
   "execution_count": null,
   "metadata": {},
   "outputs": [
    {
     "name": "stdout",
     "output_type": "stream",
     "text": [
      "[[1 1 1 1 0 0 0 0 0 0 0 0]\n",
      " [1 1 1 1 0 0 0 0 0 0 0 0]\n",
      " [1 1 1 1 0 0 0 0 0 0 0 0]\n",
      " [1 1 1 1 0 0 0 0 0 0 0 0]\n",
      " [0 0 0 0 1 1 1 1 0 0 0 0]\n",
      " [0 0 0 0 1 1 1 1 0 0 0 0]\n",
      " [0 0 0 0 1 1 1 1 0 0 0 0]\n",
      " [0 0 0 0 1 1 1 1 0 0 0 0]\n",
      " [0 0 0 0 0 0 0 0 1 1 1 1]\n",
      " [0 0 0 0 0 0 0 0 1 1 1 1]\n",
      " [0 0 0 0 0 0 0 0 1 1 1 1]\n",
      " [0 0 0 0 0 0 0 0 1 1 1 1]]\n"
     ]
    }
   ],
   "source": [
    "from sklearn.metrics import pairwise_distances\n",
    "W = pairwise_distances(X, metric=\"euclidean\")\n",
    "vectorizer = np.vectorize(lambda x: 1 if x < 5 else 0)\n",
    "W = np.vectorize(vectorizer)(W)\n",
    "print(W)"
   ]
  },
  {
   "cell_type": "markdown",
   "metadata": {},
   "source": [
    "Next we buid the degree matrix $D$ and finally the laplacian as $L = D - W$"
   ]
  },
  {
   "cell_type": "code",
   "execution_count": null,
   "metadata": {},
   "outputs": [
    {
     "name": "stdout",
     "output_type": "stream",
     "text": [
      "[[4 0 0 0 0 0 0 0 0 0 0 0]\n",
      " [0 4 0 0 0 0 0 0 0 0 0 0]\n",
      " [0 0 4 0 0 0 0 0 0 0 0 0]\n",
      " [0 0 0 4 0 0 0 0 0 0 0 0]\n",
      " [0 0 0 0 4 0 0 0 0 0 0 0]\n",
      " [0 0 0 0 0 4 0 0 0 0 0 0]\n",
      " [0 0 0 0 0 0 4 0 0 0 0 0]\n",
      " [0 0 0 0 0 0 0 4 0 0 0 0]\n",
      " [0 0 0 0 0 0 0 0 4 0 0 0]\n",
      " [0 0 0 0 0 0 0 0 0 4 0 0]\n",
      " [0 0 0 0 0 0 0 0 0 0 4 0]\n",
      " [0 0 0 0 0 0 0 0 0 0 0 4]]\n"
     ]
    }
   ],
   "source": [
    "#D = np.diag(np.reshape(W.dot(np.ones((W.shape[1], 1))), (W.shape[1],)))\n",
    "D = np.diag(W.sum(axis=1))\n",
    "print(D)"
   ]
  },
  {
   "cell_type": "code",
   "execution_count": null,
   "metadata": {},
   "outputs": [
    {
     "name": "stdout",
     "output_type": "stream",
     "text": [
      "[[ 3 -1 -1 -1  0  0  0  0  0  0  0  0]\n",
      " [-1  3 -1 -1  0  0  0  0  0  0  0  0]\n",
      " [-1 -1  3 -1  0  0  0  0  0  0  0  0]\n",
      " [-1 -1 -1  3  0  0  0  0  0  0  0  0]\n",
      " [ 0  0  0  0  3 -1 -1 -1  0  0  0  0]\n",
      " [ 0  0  0  0 -1  3 -1 -1  0  0  0  0]\n",
      " [ 0  0  0  0 -1 -1  3 -1  0  0  0  0]\n",
      " [ 0  0  0  0 -1 -1 -1  3  0  0  0  0]\n",
      " [ 0  0  0  0  0  0  0  0  3 -1 -1 -1]\n",
      " [ 0  0  0  0  0  0  0  0 -1  3 -1 -1]\n",
      " [ 0  0  0  0  0  0  0  0 -1 -1  3 -1]\n",
      " [ 0  0  0  0  0  0  0  0 -1 -1 -1  3]]\n"
     ]
    }
   ],
   "source": [
    "L = D - W\n",
    "print(L)"
   ]
  },
  {
   "cell_type": "code",
   "execution_count": null,
   "metadata": {},
   "outputs": [
    {
     "data": {
      "text/plain": [
       "Text(0, 0.5, 'eigenvalues')"
      ]
     },
     "execution_count": null,
     "metadata": {},
     "output_type": "execute_result"
    },
    {
     "data": {
      "image/png": "[encoded data removed]",
      "text/plain": [
       "<Figure size 432x288 with 1 Axes>"
      ]
     },
     "metadata": {
      "needs_background": "light"
     },
     "output_type": "display_data"
    }
   ],
   "source": [
    "# eigenvalues and eigenvectors\n",
    "eigenvalues, eigenvectors = np.linalg.eig(L)\n",
    "\n",
    "# sort these based on the eigenvalues\n",
    "eigenvectors = eigenvectors[:,np.argsort(eigenvalues)]\n",
    "eigenvalues = eigenvalues[np.argsort(eigenvalues)]\n",
    "plt.scatter(np.arange(1, W.shape[1]+1), eigenvalues, alpha=0.7, edgecolors='b')\n",
    "plt.xlabel('sorted eigenvalues')\n",
    "plt.ylabel('eigenvalues')\n",
    "\n"
   ]
  },
  {
   "cell_type": "code",
   "execution_count": null,
   "metadata": {},
   "outputs": [
    {
     "name": "stdout",
     "output_type": "stream",
     "text": [
      "corresponding eigenvectors\n",
      "[[-0.5  0.   0. ]\n",
      " [-0.5  0.   0. ]\n",
      " [-0.5  0.   0. ]\n",
      " [-0.5  0.   0. ]\n",
      " [ 0.  -0.5  0. ]\n",
      " [ 0.  -0.5  0. ]\n",
      " [ 0.  -0.5  0. ]\n",
      " [ 0.  -0.5  0. ]\n",
      " [ 0.   0.  -0.5]\n",
      " [ 0.   0.  -0.5]\n",
      " [ 0.   0.  -0.5]\n",
      " [ 0.   0.  -0.5]]\n"
     ]
    }
   ],
   "source": [
    "print('corresponding eigenvectors')\n",
    "print(eigenvectors[:, 0:3])"
   ]
  },
  {
   "cell_type": "markdown",
   "metadata": {},
   "source": [
    "This is a somewhat contrieved example but it illustrates the principal idea. For data that is not as clear cut as our example the spectral embedding matrix (eigenvectors belonging to the $s$ smallest eigenvalues) can be clustered by k-means. Another possibility is to start with the embedding matrix as a indicator matrix and optimize it as to maximize the in-component connectivity (association) and minimize the between component connectivity (cuts)(see https://www1.icsi.berkeley.edu/~stellayu/publication/doc/2003kwayICCV.pdf). In the python sklearn library the last method is called 'discretize'."
   ]
  },
  {
   "cell_type": "markdown",
   "metadata": {},
   "source": [
    "## Example: 20 newsgroups\n",
    "\n",
    "We are going to demonstrate the virtues of spectral clustering on a text-clustering example. The data is a common dataset with nearly balanced classes. Hence, k-means should also be appropriate.\n",
    "\n",
    "<img alt=\"taken from homepage of 20 newsgroups\" caption=\"The different categories of the newsgroup posts\" id=\"20_newsgroups\" src=\"../images/20_newsgroups.png\">\n",
    "\n",
    "Here is one example:\n",
    "\n",
    "```text\n",
    "From: sigma@rahul.net (Kevin Martin)\n",
    "Subject: Re: Stay Away from MAG Innovision!!!\n",
    "Nntp-Posting-Host: bolero\n",
    "Organization: a2i network\n",
    "Lines: 10\n",
    "\n",
    "In <16BB58B33.D1SAR@VM1.CC.UAKRON.EDU> D1SAR@VM1.CC.UAKRON.EDU (Steve Rimar) writes:\n",
    ">My Mag MX15F works fine....................\n",
    "\n",
    "Mine was beautiful for a year and a half.  Then it went <foomp>.  I bought\n",
    "a ViewSonic 6FS instead.  Another great monitor, IMHO.\n",
    "\n",
    "-- \n",
    "Kevin Martin\n",
    "sigma@rahul.net\n",
    "\"I gotta get me another hat.\"\n",
    "```\n",
    "\n",
    "## Organization\n",
    "1. We build tf-idf vectors since we are following the bag-of-words approach\n",
    "2. For building the adjacency/connectivity/affinity matrix we have several possibilities. We will discuss the most relevant ones\n",
    "3. we compare different cluster solution and evaluate their results on the 20 different target labels of the newsgroup posts. For doing this, we introduce the the *adusted rand index*.\n",
    "4. Since we are always curious we verify if we could have guessed the right number of clusters from the eigenvalue criterion as discussed above"
   ]
  },
  {
   "cell_type": "code",
   "execution_count": 5,
   "metadata": {},
   "outputs": [],
   "source": [
    "#%reload_ext autoreload\n",
    "#%autoreload 2\n",
    "from sklearn.datasets import fetch_20newsgroups\n",
    "from sklearn.feature_extraction.text import TfidfVectorizer\n",
    "import numpy as np\n",
    "from sklearn.cluster import SpectralClustering\n",
    "from sklearn.cluster import KMeans\n",
    "from sklearn import metrics\n",
    "import nmslib\n",
    "dataset = fetch_20newsgroups(subset='all', shuffle=True, download_if_missing=True)\n",
    "# http://qwone.com/~jason/20Newsgroups/\n",
    "\n",
    "np.random.seed(123)\n",
    "texts = dataset.data # Extract text\n",
    "target = dataset.target # Extract target"
   ]
  },
  {
   "cell_type": "markdown",
   "metadata": {},
   "source": [
    "# Tf-idf\n",
    "refresher:\n",
    "\n",
    "$w_{i,j} = \\text{tf}_{i,j} \\cdot \\log\\frac{N}{\\text{df}_i}$  \n",
    "with  \n",
    "$\\text{tf}_{i,j}$ is the frequency of term i in document j  \n",
    "$\\text{df}_i$ is the number of documents containing term i  \n",
    "\n",
    "Since we want to cluster newsgroup posts we are more interested in words that are nearly unique to certain groups. By setting max_df = 0.3 we ensure that only words are considered that are not too common, i.e. only in 30% of all posts. By contrast, words that are very seldom but are concerned with special topics discussed in the groups are most important for our endeavor. Hence, there is no limit for min_df.  \n",
    "We tell the vectorizer to remove common english stop words.  \n",
    "By default the vectors returned are normed, i.e. they all have length 1. This is important when we compute the cosine similarity between the vectors."
   ]
  },
  {
   "cell_type": "code",
   "execution_count": 6,
   "metadata": {},
   "outputs": [],
   "source": [
    "# norm='l2' is default\n",
    "vectorizer = TfidfVectorizer(stop_words='english', max_df = 0.3)\n",
    "X = vectorizer.fit_transform(texts)"
   ]
  },
  {
   "cell_type": "code",
   "execution_count": 7,
   "metadata": {},
   "outputs": [
    {
     "name": "stdout",
     "output_type": "stream",
     "text": [
      "18846, 173438\n"
     ]
    }
   ],
   "source": [
    "print(f'{X.shape[0]}, {X.shape[1]}')\n"
   ]
  },
  {
   "cell_type": "markdown",
   "metadata": {},
   "source": [
    "## Connectivity / adjacency / affinity matrix\n",
    "We have several possibilities to express the similarity / connectedness between observations. Some of common ones:  \n",
    "1. The $\\epsilon$ neighborhood graph: all observations whose pairwise distance is less than $\\epsilon$ are connected. (This was used in our contrieved example)\n",
    "2. k-nearest neighborhood graph: for every observation, the k-nearest neighbors get connected. Since the nearest neighbors relationsship is not symmetric, we have to adjust the resulting adjacency matrix: $W_{symm} = 0.5 \\cdot W + W^{T}$ \n",
    "3. fully connected graph: all observations are connected with weights equal to the respective similarity. Possible choices here are\n",
    "  * the gaussian kernel: $\\exp^{-(x_i - x_j)^2/(2\\sigma^2)}$; In sklearn the term $1/(2\\sigma^2) = \\gamma$; the gaussian kernel is also called radial basis function kernel (rbf) or euclidean kernel. For identical vectors $\\exp^{0} = 1$; For dissimilar vectors the term assymptotically approaches 0.\n",
    "  * the cosine kernel: $\\frac{x_i \\cdot x_j^T}{||x_i|| ||x_j||}$; here $||x_i||$ is the norm (length) of vector $x_i$, normalizing the vector to length 1. When the vectors are already normalized, the cosine similarity simplifies to $x_i \\cdot x_j^T$. This is the linear kernel. The cosine measures the angle between two vectors. For identical vectors, the cosine is 1, for orthogonal vectors it is 0.\n",
    "  \n",
    "# our choice\n",
    "Since we deal with very long and sparse vectors, euclidean distance is not a good choice. This has to do with the *curse of dimensionality* (search for it). Typically, for these long tf-idf vectors cosine similarity is used. For bigger data sets, I can not see any reason why we should compute the similarities for all points in the set. Probably, it is sufficient to consider only th $k$ nearest neighbors of each point. This allows us to use sparse matrices, that are far more memory efficient. The sklearn spectral clustering implementation can deal with those matrices. As we will see, this simplification further reduces noise in the data and encourages better overall solutions."
   ]
  },
  {
   "cell_type": "markdown",
   "metadata": {},
   "source": [
    "# Approximate nearest neighbors\n",
    "Computing all mutual distances between the 18846 posts can be very time and memory consuming. Theoretically, we only have to compute the triangular matrix minus the diagonal (distance matrices are symmetrical):\n",
    "$0.5 \\cdot 18846^2 - 18846/2 = 177576435$ mutual distances. A clever idea here, is to compute only the k nearest neighbors of each post and treat all other posts as maximal distant. There are a lot of algorithms around for computing nearest neighbors, the most efficient relying on kd-trees.\n",
    "However, there are also approximate nearest neighbor algorithms that are nearly 100% accurate and are even faster than kd-trees. One of those is the hnsw-algorithm as implemented in the python nmslib (an api for the underlying c++ code)."
   ]
  },
  {
   "cell_type": "code",
   "execution_count": null,
   "metadata": {},
   "outputs": [],
   "source": [
    "# see discussions about 'curse of dimensionality'; to be safe, we opt for cosine-similarity\n",
    "# since we want to be most efficient in everything we do, we use sparse matrices and vectors\n",
    "index = nmslib.init(method='hnsw', space='cosinesimil_sparse', data_type=nmslib.DataType.SPARSE_VECTOR)\n",
    "index.addDataPointBatch(X)\n",
    "index_time_params = {'post':2}\n",
    "index.createIndex(index_time_params, print_progress=True)"
   ]
  },
  {
   "cell_type": "code",
   "execution_count": null,
   "metadata": {},
   "outputs": [],
   "source": [
    "# now we can query the index\n",
    "# By computing distances for the k=1000 neares neighbors, we have to store 1000 * 18846 = 18846000\n",
    "# distances; but compared to the triangular matrix approach discussed above, we still save 158730435\n",
    "# entries in our matrix.\n",
    "\n",
    "nn = 1000\n",
    "neighbors = index.knnQueryBatch(X, k=nn, num_threads=4)\n",
    "\n",
    "\n"
   ]
  },
  {
   "cell_type": "markdown",
   "metadata": {},
   "source": [
    "Next, we build our affinity matrix. Sparse matrices only store the indices and the data for entries in the matrix that acutally contain data. "
   ]
  },
  {
   "cell_type": "code",
   "execution_count": null,
   "metadata": {},
   "outputs": [],
   "source": [
    "from scipy.sparse import csc_matrix\n",
    "# next we construct a sparse matrix with the distances as measured by cosine similarity\n",
    "col = np.array([i for n in neighbors for i in n[0].tolist()]) # column indices of nearest neighbors\n",
    "row = np.repeat(np.arange(0, len(neighbors)), np.array([len(n[0]) for n in neighbors])) # the row index for each nearest neighbor\n",
    "data = np.array([i for n in neighbors for i in n[1].tolist()]) # the similarities\n",
    "\n",
    "# btw, if you do not understand what's going on in the list part of the construction of the col and\n",
    "# the data variable above, I stronly recommend to have a look at *list comprehension*; \n",
    "# list comprehension is a super fast way to get things done in python\n",
    "\n",
    "affinity = csc_matrix((data, (row, col)), shape = (X.shape[0], X.shape[0]))"
   ]
  },
  {
   "cell_type": "code",
   "execution_count": null,
   "metadata": {},
   "outputs": [
    {
     "data": {
      "text/plain": [
       "0.4733438586041509"
      ]
     },
     "execution_count": null,
     "metadata": {},
     "output_type": "execute_result"
    }
   ],
   "source": [
    "# n_clusters = 20 because we know, that there are 20 different newsgroups\n",
    "# n_components = 21; this is cheated because it should normally be set to the same number as\n",
    "#                the n_clusters, but 21 yielded a better solution\n",
    "# assign_labels = 'discretize' defines how the clusters are found within the \n",
    "#                 embedding matrix (matrix composed of eigenvectors belonging to the n_components \n",
    "#                 smallest eigenvalues). As discussed above, 'discretize' maximizes the \n",
    "#                 in-component connectivity and minimizes the between-component connectivity\n",
    "# affinity = 'precomputed' indicates that the affinity matrix is provided by the user\n",
    "# eigen_solver = 'amg' assumes the python-package pyamg is installed. It is by far the fastest\n",
    "#                way the eigenvalue decomposition                \n",
    "#\n",
    "solution = SpectralClustering(n_clusters = 20, n_components = 21, assign_labels='discretize',\\\n",
    "                              affinity = 'precomputed',\\\n",
    "                              eigen_solver='amg').fit(0.5 * (affinity + affinity.T))\n",
    "metrics.adjusted_rand_score(solution.labels_, target)"
   ]
  },
  {
   "cell_type": "markdown",
   "metadata": {},
   "source": [
    "So, let's see what our nearest-neighbor trick was good for. In the next cell we compute the spectral clustering for the whole tf-idf matrix and leave it to sklearn to compute all cosine similarities. As discussed above, since the tf-idf vectors are by default normalized, we can use the 'linear' kernel instead of the 'cosine' kernel. This is faster because the additional steps of getting the norms and dividing is not needed."
   ]
  },
  {
   "cell_type": "code",
   "execution_count": null,
   "metadata": {},
   "outputs": [
    {
     "data": {
      "text/plain": [
       "0.27790619703942143"
      ]
     },
     "execution_count": null,
     "metadata": {},
     "output_type": "execute_result"
    }
   ],
   "source": [
    "# linear kernel instead of cosine_similarity if tf-idf vectors are already normalized\n",
    "solution = SpectralClustering(n_clusters=20, n_components = 21, assign_labels='discretize',\\\n",
    "                              affinity='linear',eigen_solver='amg').fit(X)\n",
    "metrics.adjusted_rand_score(solution.labels_, target)"
   ]
  },
  {
   "cell_type": "markdown",
   "metadata": {},
   "source": [
    "What would the solution be like if we would have used ordinary euclidean distance (=rbf kernel=gaussian kerne)?\n",
    "gamma ($\\gamma = \\frac{1}{2\\sigma^2}$) defines the size of the neighborhood and is similar to the choice of the parameter $k$ in the approx. k-nearest neighbor algorithm we used in the construction of our affinity matrix."
   ]
  },
  {
   "cell_type": "code",
   "execution_count": null,
   "metadata": {},
   "outputs": [
    {
     "data": {
      "text/plain": [
       "0.1732514953135886"
      ]
     },
     "execution_count": null,
     "metadata": {},
     "output_type": "execute_result"
    }
   ],
   "source": [
    "solution = SpectralClustering(n_clusters=20, n_components = 21, assign_labels='discretize',\\\n",
    "                              affinity='rbf',eigen_solver='amg',\\\n",
    "                              gamma = 0.7).fit(X)\n",
    "metrics.adjusted_rand_score(solution.labels_, target)"
   ]
  },
  {
   "cell_type": "markdown",
   "metadata": {},
   "source": [
    "How is ordinary k-means performing? Clustering is done on the tf-idf vectors."
   ]
  },
  {
   "cell_type": "code",
   "execution_count": null,
   "metadata": {},
   "outputs": [
    {
     "data": {
      "text/plain": [
       "0.08430170579222211"
      ]
     },
     "execution_count": null,
     "metadata": {},
     "output_type": "execute_result"
    }
   ],
   "source": [
    "solutionKMeans = KMeans(n_clusters=20, init='k-means++', max_iter=100, n_init=1).fit(X)\n",
    "metrics.adjusted_rand_score(solutionKMeans.labels_, target)"
   ]
  },
  {
   "cell_type": "markdown",
   "metadata": {},
   "source": [
    "Could we have guessed the right number of clusters from the eigenvalues of the laplacian as suggested in all tutorials about spectral clustering?"
   ]
  },
  {
   "cell_type": "code",
   "execution_count": null,
   "metadata": {},
   "outputs": [
    {
     "data": {
      "image/png": "[encoded data removed]",
      "text/plain": [
       "<Figure size 432x288 with 1 Axes>"
      ]
     },
     "metadata": {
      "needs_background": "light"
     },
     "output_type": "display_data"
    }
   ],
   "source": [
    "from scipy.sparse.csgraph import laplacian as csgraph_laplacian\n",
    "from sklearn.utils import check_array\n",
    "from sklearn.utils import check_random_state\n",
    "from sklearn.utils.fixes import lobpcg\n",
    "from sklearn.manifold._spectral_embedding import _set_diag\n",
    "from scipy import sparse\n",
    "from pyamg import smoothed_aggregation_solver\n",
    "import matplotlib.pyplot as plt\n",
    "\n",
    "norm_laplacian = True\n",
    "random_state = check_random_state(1234)\n",
    "\n",
    "laplacian, dd = csgraph_laplacian(connectivity, normed=norm_laplacian, return_diag=True)\n",
    "laplacian = check_array(laplacian, dtype=np.float64, accept_sparse=True)\n",
    "                                \n",
    "laplacian = _set_diag(laplacian, 1, norm_laplacian)\n",
    "diag_shift = 1e-5 * sparse.eye(laplacian.shape[0])\n",
    "laplacian += diag_shift\n",
    "ml = smoothed_aggregation_solver(check_array(laplacian, 'csr'))\n",
    "laplacian -= diag_shift\n",
    "n_components = laplacian.shape[0]\n",
    "M = ml.aspreconditioner()\n",
    "X = random_state.rand(laplacian.shape[0], n_components + 1)\n",
    "X[:, 0] = dd.ravel()\n",
    "eigs, diffusion_map = lobpcg(laplacian, X, M=M, tol=1.e-5, largest=False)\n",
    "plt.scatter(np.arange(len(eigs)), eigs)\n",
    "plt.grid()\n",
    "plt.show()\n"
   ]
  },
  {
   "cell_type": "code",
   "execution_count": null,
   "metadata": {},
   "outputs": [
    {
     "data": {
      "text/plain": [
       "array([-0.08769784,  0.36953977,  0.45080489,  0.48362059,  0.49597784,\n",
       "        0.51719611,  0.53114538,  0.54800999,  0.56116382,  0.57002931])"
      ]
     },
     "execution_count": null,
     "metadata": {},
     "output_type": "execute_result"
    }
   ],
   "source": [
    "eigs[0:10]"
   ]
  },
  {
   "cell_type": "markdown",
   "metadata": {},
   "source": [
    "# DBSCAN\n",
    "Density-based clustering of applications with noise."
   ]
  },
  {
   "cell_type": "markdown",
   "metadata": {},
   "source": [
    "DBSCAN has the concept of __core point__, __border point__ and __outlier__. A data point is considered a core point if there are sufficient (__*minPts*__) data points in its vicinity of radius __*eps*__. Border points are those points that are connected to core points but themselves have not enough data point in their neighborhood. Outliers are the points that are not connected to a core points. "
   ]
  },
  {
   "cell_type": "markdown",
   "metadata": {},
   "source": [
    "<img alt=\"\" caption=\"taken from wikipedia\" onmouseover=\"[taken from here](https://en.wikipedia.org/wiki/DBSCAN)\"\n",
    "id=\"bayesian_optimization\" src=\"../images/1024px-DBSCAN-Illustration.svg.png\" width=\"320\" height=\"320\">\n",
    "\n",
    "[The image is taken from wikipedia](https://en.wikipedia.org/wiki/DBSCAN)\n",
    "* red points (e.g. point A) are __core points__\n",
    "* yellow points (e.g. points B, c) are __border points__\n",
    "* the blue point (N) is an __outlier__\n",
    "\n",
    "<br>\n",
    "A starting point is selected by random and its neighborhood is scanned. Then this is done for all points in the neighborhood and so on. In the next step the starting point is choosen among the points not visited previously until all points were visited.<br>\n",
    "Core points are connected to other core-points and form clusters."
   ]
  },
  {
   "cell_type": "code",
   "execution_count": 34,
   "metadata": {},
   "outputs": [],
   "source": [
    "from sklearn.cluster import DBSCAN\n",
    "db = DBSCAN(eps=0.5, min_samples=14, metric='cosine', n_jobs=-1)\n",
    "clusters = db.fit(X)\n"
   ]
  },
  {
   "cell_type": "code",
   "execution_count": 35,
   "metadata": {},
   "outputs": [
    {
     "data": {
      "text/plain": [
       "array([-1,  0,  1,  2,  3,  4,  5,  6,  7,  8,  9, 10, 11, 12, 13, 14, 15,\n",
       "       16, 17, 18, 19, 20])"
      ]
     },
     "execution_count": 35,
     "metadata": {},
     "output_type": "execute_result"
    }
   ],
   "source": [
    "np.unique(clusters.labels_)"
   ]
  },
  {
   "cell_type": "code",
   "execution_count": 36,
   "metadata": {},
   "outputs": [
    {
     "data": {
      "text/plain": [
       "8.75031255964891e-05"
      ]
     },
     "execution_count": 36,
     "metadata": {},
     "output_type": "execute_result"
    }
   ],
   "source": [
    "metrics.adjusted_rand_score(clusters.labels_, target)"
   ]
  },
  {
   "cell_type": "code",
   "execution_count": null,
   "metadata": {},
   "outputs": [],
   "source": []
  }
 ],
 "metadata": {
  "kernelspec": {
   "display_name": "Python 3",
   "language": "python",
   "name": "python3"
  },
  "language_info": {
   "codemirror_mode": {
    "name": "ipython",
    "version": 3
   },
   "file_extension": ".py",
   "mimetype": "text/x-python",
   "name": "python",
   "nbconvert_exporter": "python",
   "pygments_lexer": "ipython3",
   "version": "3.6.13"
  }
 },
 "nbformat": 4,
 "nbformat_minor": 4
}
