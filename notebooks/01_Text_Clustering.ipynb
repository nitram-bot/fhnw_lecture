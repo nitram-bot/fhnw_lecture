{
 "cells": [
  {
   "cell_type": "markdown",
   "metadata": {},
   "source": [
    "### Spectral clustering\n",
    "Spectral clustering originates from Graph Theory (Spectral Analysis)\n",
    "The algorithms works as follows:\n",
    "1. a connectivity matrix / affinity matrix W is formed. This matrix is symmetric and is n x n, where n is the number of observations. If there is a link between observation i and observation j there is a 1 in the matrix at positions $W_{ij}$ and $W_{ji}$. Alternatively, for the affinity matrix, there is a similarity measure indicating the closeness of two observations.\n",
    "2. the degree matrix $D$ is formed. It is a diagonal matrix that contains for each observation the number of links (or sum of similarities) to other observations.\n",
    "3. the laplacian matrix $L$ is formed by $L = D -W$. This matrix has several interesting properties:\n",
    "  * the smallest eigenvalue is always 0. If all observations are connected (fully connected), there is exactly one eigenvalue that is 0.\n",
    "  * the corresponding eigenvector is constant.\n",
    "  * are there $r$ connected components (cluster) in the data and if observations are ordered accordingly, the laplacian has block diagonal form:\n",
    "      \n",
    "   $ L =\n",
    "     \\begin{bmatrix}\n",
    "       L_{1} & & \\\\\n",
    "       & \\ddots & \\\\\n",
    "       & & L_{r}\n",
    "     \\end{bmatrix}\n",
    "   $\n",
    "  * the blocks $L_i$ are proper laplacian matrices on their own. Since each component (cluster) is connected within, $L_i$ has exactly one eigenvalue that is 0. The corresponding eigenvector is constant and is zero for all other components. These eigenvectors hence are indicator vectors for their component. "
   ]
  },
  {
   "cell_type": "code",
   "execution_count": null,
   "metadata": {},
   "outputs": [
    {
     "data": {
      "text/plain": [
       "Text(0, 0.5, 'Height')"
      ]
     },
     "execution_count": null,
     "metadata": {},
     "output_type": "execute_result"
    },
    {
     "data": {
      "image/png": "[encoded data removed]",
      "text/plain": [
       "<Figure size 432x288 with 1 Axes>"
      ]
     },
     "metadata": {
      "needs_background": "light"
     },
     "output_type": "display_data"
    }
   ],
   "source": [
    "# this simple example is taken from https://towardsdatascience.com/unsupervised-machine-learning-spectral-clustering-algorithm-implemented-from-scratch-in-python-205c87271045\n",
    "import matplotlib.pyplot as plt\n",
    "X = np.array([\n",
    "    [1, 3], [2, 1], [1, 1],\n",
    "    [3, 2], [7, 8], [9, 8],\n",
    "    [9, 9], [8, 7], [13, 14],\n",
    "    [14, 14], [15, 16], [14, 15]\n",
    "])\n",
    "plt.scatter(X[:,0], X[:,1], alpha=0.7, edgecolors='b')\n",
    "plt.xlabel('Weight')\n",
    "plt.ylabel('Height')\n"
   ]
  },
  {
   "cell_type": "markdown",
   "metadata": {},
   "source": [
    "Next we buid the connectivity matrix $W$ (also called adjacency matrix). We see, it has three connected components (clusters):"
   ]
  },
  {
   "cell_type": "code",
   "execution_count": null,
   "metadata": {},
   "outputs": [
    {
     "name": "stdout",
     "output_type": "stream",
     "text": [
      "[[1 1 1 1 0 0 0 0 0 0 0 0]\n",
      " [1 1 1 1 0 0 0 0 0 0 0 0]\n",
      " [1 1 1 1 0 0 0 0 0 0 0 0]\n",
      " [1 1 1 1 0 0 0 0 0 0 0 0]\n",
      " [0 0 0 0 1 1 1 1 0 0 0 0]\n",
      " [0 0 0 0 1 1 1 1 0 0 0 0]\n",
      " [0 0 0 0 1 1 1 1 0 0 0 0]\n",
      " [0 0 0 0 1 1 1 1 0 0 0 0]\n",
      " [0 0 0 0 0 0 0 0 1 1 1 1]\n",
      " [0 0 0 0 0 0 0 0 1 1 1 1]\n",
      " [0 0 0 0 0 0 0 0 1 1 1 1]\n",
      " [0 0 0 0 0 0 0 0 1 1 1 1]]\n"
     ]
    }
   ],
   "source": [
    "from sklearn.metrics import pairwise_distances\n",
    "W = pairwise_distances(X, metric=\"euclidean\")\n",
    "vectorizer = np.vectorize(lambda x: 1 if x < 5 else 0)\n",
    "W = np.vectorize(vectorizer)(W)\n",
    "print(W)"
   ]
  },
  {
   "cell_type": "markdown",
   "metadata": {},
   "source": [
    "Next we buid the degree matrix $D$ and finally the laplacian as $L = D - W$"
   ]
  },
  {
   "cell_type": "code",
   "execution_count": null,
   "metadata": {},
   "outputs": [
    {
     "name": "stdout",
     "output_type": "stream",
     "text": [
      "[[4 0 0 0 0 0 0 0 0 0 0 0]\n",
      " [0 4 0 0 0 0 0 0 0 0 0 0]\n",
      " [0 0 4 0 0 0 0 0 0 0 0 0]\n",
      " [0 0 0 4 0 0 0 0 0 0 0 0]\n",
      " [0 0 0 0 4 0 0 0 0 0 0 0]\n",
      " [0 0 0 0 0 4 0 0 0 0 0 0]\n",
      " [0 0 0 0 0 0 4 0 0 0 0 0]\n",
      " [0 0 0 0 0 0 0 4 0 0 0 0]\n",
      " [0 0 0 0 0 0 0 0 4 0 0 0]\n",
      " [0 0 0 0 0 0 0 0 0 4 0 0]\n",
      " [0 0 0 0 0 0 0 0 0 0 4 0]\n",
      " [0 0 0 0 0 0 0 0 0 0 0 4]]\n"
     ]
    }
   ],
   "source": [
    "#D = np.diag(np.reshape(W.dot(np.ones((W.shape[1], 1))), (W.shape[1],)))\n",
    "D = np.diag(W.sum(axis=1))\n",
    "print(D)"
   ]
  },
  {
   "cell_type": "code",
   "execution_count": null,
   "metadata": {},
   "outputs": [
    {
     "name": "stdout",
     "output_type": "stream",
     "text": [
      "[[ 3 -1 -1 -1  0  0  0  0  0  0  0  0]\n",
      " [-1  3 -1 -1  0  0  0  0  0  0  0  0]\n",
      " [-1 -1  3 -1  0  0  0  0  0  0  0  0]\n",
      " [-1 -1 -1  3  0  0  0  0  0  0  0  0]\n",
      " [ 0  0  0  0  3 -1 -1 -1  0  0  0  0]\n",
      " [ 0  0  0  0 -1  3 -1 -1  0  0  0  0]\n",
      " [ 0  0  0  0 -1 -1  3 -1  0  0  0  0]\n",
      " [ 0  0  0  0 -1 -1 -1  3  0  0  0  0]\n",
      " [ 0  0  0  0  0  0  0  0  3 -1 -1 -1]\n",
      " [ 0  0  0  0  0  0  0  0 -1  3 -1 -1]\n",
      " [ 0  0  0  0  0  0  0  0 -1 -1  3 -1]\n",
      " [ 0  0  0  0  0  0  0  0 -1 -1 -1  3]]\n"
     ]
    }
   ],
   "source": [
    "L = D - W\n",
    "print(L)"
   ]
  },
  {
   "cell_type": "code",
   "execution_count": null,
   "metadata": {},
   "outputs": [
    {
     "data": {
      "text/plain": [
       "Text(0, 0.5, 'eigenvalues')"
      ]
     },
     "execution_count": null,
     "metadata": {},
     "output_type": "execute_result"
    },
    {
     "data": {
      "image/png": "[encoded data removed]",
      "text/plain": [
       "<Figure size 432x288 with 1 Axes>"
      ]
     },
     "metadata": {
      "needs_background": "light"
     },
     "output_type": "display_data"
    }
   ],
   "source": [
    "# eigenvalues and eigenvectors\n",
    "eigenvalues, eigenvectors = np.linalg.eig(L)\n",
    "\n",
    "# sort these based on the eigenvalues\n",
    "eigenvectors = eigenvectors[:,np.argsort(eigenvalues)]\n",
    "eigenvalues = eigenvalues[np.argsort(eigenvalues)]\n",
    "plt.scatter(np.arange(1, W.shape[1]+1), eigenvalues, alpha=0.7, edgecolors='b')\n",
    "plt.xlabel('sorted eigenvalues')\n",
    "plt.ylabel('eigenvalues')\n",
    "\n"
   ]
  },
  {
   "cell_type": "code",
   "execution_count": null,
   "metadata": {},
   "outputs": [
    {
     "name": "stdout",
     "output_type": "stream",
     "text": [
      "corresponding eigenvectors\n",
      "[[-0.5  0.   0. ]\n",
      " [-0.5  0.   0. ]\n",
      " [-0.5  0.   0. ]\n",
      " [-0.5  0.   0. ]\n",
      " [ 0.  -0.5  0. ]\n",
      " [ 0.  -0.5  0. ]\n",
      " [ 0.  -0.5  0. ]\n",
      " [ 0.  -0.5  0. ]\n",
      " [ 0.   0.  -0.5]\n",
      " [ 0.   0.  -0.5]\n",
      " [ 0.   0.  -0.5]\n",
      " [ 0.   0.  -0.5]]\n"
     ]
    }
   ],
   "source": [
    "print('corresponding eigenvectors')\n",
    "print(eigenvectors[:, 0:3])"
   ]
  },
  {
   "cell_type": "markdown",
   "metadata": {},
   "source": [
    "This is a somewhat contrieved example but it illustrates the principal idea. For data that is not as clear cut as our example the spectral embedding matrix (eigenvectors belonging to the $s$ smallest eigenvalues) can be clustered by k-means. Another possibility is to start with the embedding matrix as a indicator matrix and optimize it as to maximize the in-component connectivity (association) and minimize the between component connectivity (cuts)(see https://www1.icsi.berkeley.edu/~stellayu/publication/doc/2003kwayICCV.pdf). In the python sklearn library the last method is called 'discretize'."
   ]
  },
  {
   "cell_type": "markdown",
   "metadata": {},
   "source": [
    "## Example: 20 newsgroups\n",
    "<img alt=\"taken from homepage of 20 newsgroups\" caption=\"The different categories of the newsgroup posts\" id=\"20_newsgroups\" src=\"../images/20_newsgroups.png\">"
   ]
  },
  {
   "cell_type": "code",
   "execution_count": null,
   "metadata": {},
   "outputs": [
    {
     "data": {
      "text/plain": [
       "array([10,  3, 17,  3,  4, 12,  4, 10, 10, 19])"
      ]
     },
     "execution_count": null,
     "metadata": {},
     "output_type": "execute_result"
    }
   ],
   "source": [
    "#%reload_ext autoreload\n",
    "#%autoreload 2\n",
    "from sklearn.datasets import fetch_20newsgroups\n",
    "from sklearn.feature_extraction.text import TfidfVectorizer\n",
    "import numpy as np\n",
    "from sklearn.cluster import SpectralClustering\n",
    "from sklearn.cluster import KMeans\n",
    "from sklearn import metrics\n",
    "import nmslib\n",
    "dataset = fetch_20newsgroups(subset='all', shuffle=True, download_if_missing=True)\n",
    "# http://qwone.com/~jason/20Newsgroups/\n",
    "\n",
    "np.random.seed(123)\n",
    "texts = dataset.data # Extract text\n",
    "target = dataset.target # Extract target\n",
    "texts[0:10]\n",
    "target[0:10]"
   ]
  },
  {
   "cell_type": "markdown",
   "metadata": {},
   "source": [
    "Since we want to cluster newsgroup posts we are more interested in words that are nearly unique to certain groups. By setting max_df = 0.3 we ensure that only words are considered that are not too common, i.e. only in 30% of all posts. By contrast, words that are very seldom but are concerned with special topics discussed in the groups are most important for our endeavor. Hence, there is no limit for min_df."
   ]
  },
  {
   "cell_type": "code",
   "execution_count": null,
   "metadata": {},
   "outputs": [],
   "source": [
    "# norm='l2' is default\n",
    "vectorizer = TfidfVectorizer(stop_words='english', max_df = 0.3)\n",
    "X = vectorizer.fit_transform(texts)"
   ]
  },
  {
   "cell_type": "code",
   "execution_count": null,
   "metadata": {},
   "outputs": [
    {
     "name": "stdout",
     "output_type": "stream",
     "text": [
      "18846, 173438\n"
     ]
    }
   ],
   "source": [
    "print(f'{X.shape[0]}, {X.shape[1]}')\n"
   ]
  },
  {
   "cell_type": "markdown",
   "metadata": {},
   "source": [
    "# Approximate nearest neighbors\n",
    "Computing all mutual distances between the 18846 posts can be very time and memory consuming. Theoretically, we only have to compute the triangular matrix minus the diagonal:\n",
    "$0.5 \\cdot 18846^2 - 18846/2 = 177576435$ mutual distances. A clever idea here, is to compute only the k nearest neighbors of each post and treat all other posts as maximal distant. There are a lot of algorithms around for computing nearest neighbors, the most efficient relying on kd-trees.\n",
    "However, there are als approximate nearest neighbor algorithms that are nearly 100% accurate and are even faster than kd-trees. One of those is the hnsw-algorithm as implemented in the python nmslib (a api for the underlying c++ code)."
   ]
  },
  {
   "cell_type": "code",
   "execution_count": null,
   "metadata": {},
   "outputs": [],
   "source": [
    "# see discussions about 'curse of dimensionality'; to be safe, we opt for cosine-similarity\n",
    "# since we want to be most efficient in everything we do, we use sparse matrices and vectors\n",
    "index = nmslib.init(method='hnsw', space='cosinesimil_sparse', data_type=nmslib.DataType.SPARSE_VECTOR)\n",
    "index.addDataPointBatch(X)\n",
    "index_time_params = {'post':2}\n",
    "index.createIndex(index_time_params, print_progress=True)"
   ]
  },
  {
   "cell_type": "code",
   "execution_count": null,
   "metadata": {},
   "outputs": [],
   "source": [
    "# now we can query the index\n",
    "# By computing distances for the k=1000 neares neighbors, we have to store 1000 * 18846 = 18846000\n",
    "# distances; but compared to the triangular matrix approach discussed above, we still save 158730435\n",
    "# entries in our matrix.\n",
    "\n",
    "nn = 1000\n",
    "neighbors = index.knnQueryBatch(X, k=nn, num_threads=4)\n",
    "\n",
    "\n"
   ]
  },
  {
   "cell_type": "code",
   "execution_count": null,
   "metadata": {},
   "outputs": [],
   "source": [
    "from scipy.sparse import csc_matrix\n",
    "# next we construct a sparse matrix with the distances as measured by cosine similarity\n",
    "col = np.array([i for n in neighbors for i in n[0].tolist()]) # column indices of nearest neighbors\n",
    "row = np.repeat(np.arange(0, len(neighbors)), np.array([len(n[0]) for n in neighbors])) # the row index for each nearest neighbor\n",
    "data = np.array([i for n in neighbors for i in n[1].tolist()]) # the distances\n",
    "\n",
    "connectivity = csc_matrix((data, (row, col)), shape = (X.shape[0], X.shape[0]))"
   ]
  },
  {
   "cell_type": "code",
   "execution_count": null,
   "metadata": {},
   "outputs": [
    {
     "name": "stderr",
     "output_type": "stream",
     "text": [
      "/home/martin/anaconda3/lib/python3.7/site-packages/sklearn/manifold/_spectral_embedding.py:212: UserWarning: Array is not symmetric, and will be converted to symmetric by average with its transpose.\n",
      "  adjacency = check_symmetric(adjacency)\n"
     ]
    },
    {
     "data": {
      "text/plain": [
       "0.47012944320662386"
      ]
     },
     "execution_count": null,
     "metadata": {},
     "output_type": "execute_result"
    }
   ],
   "source": [
    "# gamma is not needed here, because it is a parameter for constructing the affinity matrix\n",
    "solution = SpectralClustering(n_clusters = 20, n_components = 21, assign_labels='discretize',\\\n",
    "                              affinity = 'precomputed', gamma=0.7,\\\n",
    "                              eigen_solver='amg').fit(connectivity)\n",
    "metrics.adjusted_rand_score(solution.labels_, target)"
   ]
  },
  {
   "cell_type": "code",
   "execution_count": null,
   "metadata": {},
   "outputs": [
    {
     "data": {
      "text/plain": [
       "0.17378867652568164"
      ]
     },
     "execution_count": null,
     "metadata": {},
     "output_type": "execute_result"
    }
   ],
   "source": [
    "solution = SpectralClustering(n_clusters=20, n_components = 21, assign_labels='discretize',\\\n",
    "                              affinity='rbf',eigen_solver='amg',\\\n",
    "                              gamma = 0.7).fit(X)\n",
    "metrics.adjusted_rand_score(solution.labels_, target)"
   ]
  },
  {
   "cell_type": "code",
   "execution_count": null,
   "metadata": {},
   "outputs": [],
   "source": []
  },
  {
   "cell_type": "code",
   "execution_count": null,
   "metadata": {},
   "outputs": [
    {
     "data": {
      "text/plain": [
       "0.27790619703942143"
      ]
     },
     "execution_count": null,
     "metadata": {},
     "output_type": "execute_result"
    }
   ],
   "source": [
    "# linear kernel instead of cosine_similarity if tf-idf vectors are already normalized\n",
    "solution = SpectralClustering(n_clusters=20, n_components = 21, assign_labels='discretize',\\\n",
    "                              affinity='linear',eigen_solver='amg').fit(X)\n",
    "metrics.adjusted_rand_score(solution.labels_, target)"
   ]
  },
  {
   "cell_type": "code",
   "execution_count": null,
   "metadata": {},
   "outputs": [
    {
     "data": {
      "text/plain": [
       "0.08430170579222211"
      ]
     },
     "execution_count": null,
     "metadata": {},
     "output_type": "execute_result"
    }
   ],
   "source": [
    "solutionKMeans = KMeans(n_clusters=20, init='k-means++', max_iter=100, n_init=1).fit(X)\n",
    "metrics.adjusted_rand_score(solutionKMeans.labels_, target)"
   ]
  },
  {
   "cell_type": "markdown",
   "metadata": {},
   "source": [
    "Could we have guessed the right number of clusters from the eigenvalues of the laplacian as suggested in all tutorials about spectral clustering?"
   ]
  },
  {
   "cell_type": "code",
   "execution_count": null,
   "metadata": {},
   "outputs": [
    {
     "data": {
      "image/png": "[encoded data removed]",
      "text/plain": [
       "<Figure size 432x288 with 1 Axes>"
      ]
     },
     "metadata": {
      "needs_background": "light"
     },
     "output_type": "display_data"
    }
   ],
   "source": [
    "from scipy.sparse.csgraph import laplacian as csgraph_laplacian\n",
    "from sklearn.utils import check_array\n",
    "from sklearn.utils import check_random_state\n",
    "from sklearn.utils.fixes import lobpcg\n",
    "from sklearn.manifold._spectral_embedding import _set_diag\n",
    "from scipy import sparse\n",
    "from pyamg import smoothed_aggregation_solver\n",
    "import matplotlib.pyplot as plt\n",
    "\n",
    "norm_laplacian = True\n",
    "random_state = check_random_state(1234)\n",
    "\n",
    "laplacian, dd = csgraph_laplacian(connectivity, normed=norm_laplacian, return_diag=True)\n",
    "laplacian = check_array(laplacian, dtype=np.float64, accept_sparse=True)\n",
    "                                \n",
    "laplacian = _set_diag(laplacian, 1, norm_laplacian)\n",
    "diag_shift = 1e-5 * sparse.eye(laplacian.shape[0])\n",
    "laplacian += diag_shift\n",
    "ml = smoothed_aggregation_solver(check_array(laplacian, 'csr'))\n",
    "laplacian -= diag_shift\n",
    "n_components = laplacian.shape[0]\n",
    "M = ml.aspreconditioner()\n",
    "X = random_state.rand(laplacian.shape[0], n_components + 1)\n",
    "X[:, 0] = dd.ravel()\n",
    "eigs, diffusion_map = lobpcg(laplacian, X, M=M, tol=1.e-5, largest=False)\n",
    "plt.scatter(np.arange(len(eigs)), eigs)\n",
    "plt.grid()\n",
    "plt.show()\n"
   ]
  },
  {
   "cell_type": "code",
   "execution_count": null,
   "metadata": {},
   "outputs": [
    {
     "data": {
      "text/plain": [
       "array([-0.08769784,  0.36953977,  0.45080489,  0.48362059,  0.49597784,\n",
       "        0.51719611,  0.53114538,  0.54800999,  0.56116382,  0.57002931])"
      ]
     },
     "execution_count": null,
     "metadata": {},
     "output_type": "execute_result"
    }
   ],
   "source": [
    "eigs[0:10]"
   ]
  }
 ],
 "metadata": {
  "kernelspec": {
   "display_name": "Python 3",
   "language": "python",
   "name": "python3"
  }
 },
 "nbformat": 4,
 "nbformat_minor": 4
}
