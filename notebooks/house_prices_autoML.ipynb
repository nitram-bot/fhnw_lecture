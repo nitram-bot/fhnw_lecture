{
 "cells": [
  {
   "cell_type": "code",
   "execution_count": 1,
   "id": "patient-white",
   "metadata": {},
   "outputs": [],
   "source": [
    "%load_ext autoreload\n",
    "%autoreload 2"
   ]
  },
  {
   "cell_type": "markdown",
   "id": "threaded-booth",
   "metadata": {},
   "source": [
    "## let's attack our house-prices example"
   ]
  },
  {
   "cell_type": "code",
   "execution_count": 2,
   "id": "useful-rally",
   "metadata": {},
   "outputs": [],
   "source": [
    "import pandas as pd\n",
    "import numpy as np\n",
    "\n",
    "from sklearn.model_selection import train_test_split\n",
    "train = pd.read_csv('../data/train.csv', sep=\",\")\n",
    "test = pd.read_csv('../data/test.csv')\n",
    "\n",
    "import sklearn\n",
    "y = train['SalePrice']\n",
    "X = train.drop('SalePrice', axis=1)\n",
    "categorical = [var for var in X.columns if X[var].dtype=='O']\n",
    "numerical = [var for var in X.columns if X[var].dtype!='O']\n",
    "X[categorical] = X[categorical].fillna('None')\n",
    "\n",
    "# auto-sklearn can not deal with categorical variables\n",
    "X= pd.concat([pd.get_dummies(X[categorical], dummy_na=True), X[numerical]], axis=1)\n",
    "\n",
    "y = np.log1p(y)\n",
    "X_train, X_test, y_train, y_test = \\\n",
    "    train_test_split(X, y, random_state=42, test_size=0.2)"
   ]
  },
  {
   "cell_type": "markdown",
   "id": "lovely-spokesman",
   "metadata": {},
   "source": [
    "# Auto-Sklearn"
   ]
  },
  {
   "cell_type": "markdown",
   "id": "eastern-friendship",
   "metadata": {},
   "source": [
    "[install auto-sklearn](https://automl.github.io/auto-sklearn/master/installation.html)"
   ]
  },
  {
   "cell_type": "code",
   "execution_count": 4,
   "id": "excess-assets",
   "metadata": {},
   "outputs": [
    {
     "name": "stdout",
     "output_type": "stream",
     "text": [
      "  % Total    % Received % Xferd  Average Speed   Time    Time     Time  Current\n",
      "                                 Dload  Upload   Total   Spent    Left  Speed\n",
      "100   209  100   209    0     0    484      0 --:--:-- --:--:-- --:--:--   488\n",
      "Requirement already satisfied: setuptools in /home/martin/miniconda3/envs/autoML/lib/python3.7/site-packages (52.0.0.post20210125)\n",
      "Requirement already satisfied: numpy>=1.9.0 in /home/martin/miniconda3/envs/autoML/lib/python3.7/site-packages (1.20.1)\n",
      "Requirement already satisfied: scipy>=0.14.1 in /home/martin/miniconda3/envs/autoML/lib/python3.7/site-packages (1.4.1)\n",
      "Requirement already satisfied: numpy>=1.13.3 in /home/martin/miniconda3/envs/autoML/lib/python3.7/site-packages (from scipy>=0.14.1) (1.20.1)\n",
      "Requirement already satisfied: joblib in /home/martin/miniconda3/envs/autoML/lib/python3.7/site-packages (1.0.1)\n",
      "Requirement already satisfied: scikit-learn<0.25.0,>=0.24.0 in /home/martin/miniconda3/envs/autoML/lib/python3.7/site-packages (0.24.2)\n",
      "Requirement already satisfied: scipy>=0.19.1 in /home/martin/miniconda3/envs/autoML/lib/python3.7/site-packages (from scikit-learn<0.25.0,>=0.24.0) (1.4.1)\n",
      "Requirement already satisfied: numpy>=1.13.3 in /home/martin/miniconda3/envs/autoML/lib/python3.7/site-packages (from scikit-learn<0.25.0,>=0.24.0) (1.20.1)\n",
      "Requirement already satisfied: joblib>=0.11 in /home/martin/miniconda3/envs/autoML/lib/python3.7/site-packages (from scikit-learn<0.25.0,>=0.24.0) (1.0.1)\n",
      "Requirement already satisfied: threadpoolctl>=2.0.0 in /home/martin/miniconda3/envs/autoML/lib/python3.7/site-packages (from scikit-learn<0.25.0,>=0.24.0) (2.1.0)\n",
      "Requirement already satisfied: dask in /home/martin/miniconda3/envs/autoML/lib/python3.7/site-packages (2021.3.0)\n",
      "Requirement already satisfied: pyyaml in /home/martin/miniconda3/envs/autoML/lib/python3.7/site-packages (from dask) (5.4.1)\n",
      "Requirement already satisfied: distributed>=2.2.0 in /home/martin/miniconda3/envs/autoML/lib/python3.7/site-packages (2021.3.0)\n",
      "Requirement already satisfied: zict>=0.1.3 in /home/martin/miniconda3/envs/autoML/lib/python3.7/site-packages (from distributed>=2.2.0) (2.0.0)\n",
      "Requirement already satisfied: pyyaml in /home/martin/miniconda3/envs/autoML/lib/python3.7/site-packages (from distributed>=2.2.0) (5.4.1)\n",
      "Requirement already satisfied: dask>=2021.03.0 in /home/martin/miniconda3/envs/autoML/lib/python3.7/site-packages (from distributed>=2.2.0) (2021.3.0)\n",
      "Requirement already satisfied: cloudpickle>=1.5.0 in /home/martin/miniconda3/envs/autoML/lib/python3.7/site-packages (from distributed>=2.2.0) (1.6.0)\n",
      "Requirement already satisfied: sortedcontainers!=2.0.0,!=2.0.1 in /home/martin/miniconda3/envs/autoML/lib/python3.7/site-packages (from distributed>=2.2.0) (2.3.0)\n",
      "Requirement already satisfied: setuptools in /home/martin/miniconda3/envs/autoML/lib/python3.7/site-packages (from distributed>=2.2.0) (52.0.0.post20210125)\n",
      "Requirement already satisfied: tornado>=5 in /home/martin/miniconda3/envs/autoML/lib/python3.7/site-packages (from distributed>=2.2.0) (6.1)\n",
      "Requirement already satisfied: click>=6.6 in /home/martin/miniconda3/envs/autoML/lib/python3.7/site-packages (from distributed>=2.2.0) (7.1.2)\n",
      "Requirement already satisfied: toolz>=0.8.2 in /home/martin/miniconda3/envs/autoML/lib/python3.7/site-packages (from distributed>=2.2.0) (0.11.1)\n",
      "Requirement already satisfied: psutil>=5.0 in /home/martin/miniconda3/envs/autoML/lib/python3.7/site-packages (from distributed>=2.2.0) (5.7.0)\n",
      "Requirement already satisfied: msgpack>=0.6.0 in /home/martin/miniconda3/envs/autoML/lib/python3.7/site-packages (from distributed>=2.2.0) (1.0.2)\n",
      "Requirement already satisfied: tblib>=1.6.0 in /home/martin/miniconda3/envs/autoML/lib/python3.7/site-packages (from distributed>=2.2.0) (1.7.0)\n",
      "Requirement already satisfied: heapdict in /home/martin/miniconda3/envs/autoML/lib/python3.7/site-packages (from zict>=0.1.3->distributed>=2.2.0) (1.0.1)\n",
      "Requirement already satisfied: pyyaml in /home/martin/miniconda3/envs/autoML/lib/python3.7/site-packages (5.4.1)\n",
      "Requirement already satisfied: pandas>=1.0 in /home/martin/miniconda3/envs/autoML/lib/python3.7/site-packages (1.2.3)\n",
      "Requirement already satisfied: pytz>=2017.3 in /home/martin/miniconda3/envs/autoML/lib/python3.7/site-packages (from pandas>=1.0) (2021.1)\n",
      "Requirement already satisfied: python-dateutil>=2.7.3 in /home/martin/miniconda3/envs/autoML/lib/python3.7/site-packages (from pandas>=1.0) (2.8.1)\n",
      "Requirement already satisfied: numpy>=1.16.5 in /home/martin/miniconda3/envs/autoML/lib/python3.7/site-packages (from pandas>=1.0) (1.20.1)\n",
      "Requirement already satisfied: six>=1.5 in /home/martin/miniconda3/envs/autoML/lib/python3.7/site-packages (from python-dateutil>=2.7.3->pandas>=1.0) (1.15.0)\n",
      "Requirement already satisfied: liac-arff in /home/martin/miniconda3/envs/autoML/lib/python3.7/site-packages (2.5.0)\n",
      "Requirement already satisfied: ConfigSpace<0.5,>=0.4.14 in /home/martin/miniconda3/envs/autoML/lib/python3.7/site-packages (0.4.16)\n",
      "Requirement already satisfied: cython in /home/martin/miniconda3/envs/autoML/lib/python3.7/site-packages (from ConfigSpace<0.5,>=0.4.14) (0.29.22)\n",
      "Requirement already satisfied: pyparsing in /home/martin/miniconda3/envs/autoML/lib/python3.7/site-packages (from ConfigSpace<0.5,>=0.4.14) (2.4.7)\n",
      "Requirement already satisfied: numpy in /home/martin/miniconda3/envs/autoML/lib/python3.7/site-packages (from ConfigSpace<0.5,>=0.4.14) (1.20.1)\n",
      "Requirement already satisfied: pynisher>=0.6.3 in /home/martin/miniconda3/envs/autoML/lib/python3.7/site-packages (0.6.4)\n",
      "Requirement already satisfied: setuptools in /home/martin/miniconda3/envs/autoML/lib/python3.7/site-packages (from pynisher>=0.6.3) (52.0.0.post20210125)\n",
      "Requirement already satisfied: psutil in /home/martin/miniconda3/envs/autoML/lib/python3.7/site-packages (from pynisher>=0.6.3) (5.7.0)\n",
      "Requirement already satisfied: pyrfr<0.9,>=0.8.1 in /home/martin/miniconda3/envs/autoML/lib/python3.7/site-packages (0.8.1)\n",
      "Requirement already satisfied: smac<0.14,>=0.13.1 in /home/martin/miniconda3/envs/autoML/lib/python3.7/site-packages (0.13.1)\n",
      "Requirement already satisfied: scikit-learn>=0.22.0 in /home/martin/miniconda3/envs/autoML/lib/python3.7/site-packages (from smac<0.14,>=0.13.1) (0.24.2)\n",
      "Requirement already satisfied: joblib in /home/martin/miniconda3/envs/autoML/lib/python3.7/site-packages (from smac<0.14,>=0.13.1) (1.0.1)\n",
      "Requirement already satisfied: distributed in /home/martin/miniconda3/envs/autoML/lib/python3.7/site-packages (from smac<0.14,>=0.13.1) (2021.3.0)\n",
      "Requirement already satisfied: dask in /home/martin/miniconda3/envs/autoML/lib/python3.7/site-packages (from smac<0.14,>=0.13.1) (2021.3.0)\n",
      "Requirement already satisfied: numpy>=1.7.1 in /home/martin/miniconda3/envs/autoML/lib/python3.7/site-packages (from smac<0.14,>=0.13.1) (1.20.1)\n",
      "Requirement already satisfied: scipy>=0.18.1 in /home/martin/miniconda3/envs/autoML/lib/python3.7/site-packages (from smac<0.14,>=0.13.1) (1.4.1)\n",
      "Requirement already satisfied: pynisher>=0.4.1 in /home/martin/miniconda3/envs/autoML/lib/python3.7/site-packages (from smac<0.14,>=0.13.1) (0.6.4)\n",
      "Requirement already satisfied: psutil in /home/martin/miniconda3/envs/autoML/lib/python3.7/site-packages (from smac<0.14,>=0.13.1) (5.7.0)\n",
      "Requirement already satisfied: lazy-import in /home/martin/miniconda3/envs/autoML/lib/python3.7/site-packages (from smac<0.14,>=0.13.1) (0.2.2)\n",
      "Requirement already satisfied: ConfigSpace<0.5,>=0.4.14 in /home/martin/miniconda3/envs/autoML/lib/python3.7/site-packages (from smac<0.14,>=0.13.1) (0.4.16)\n",
      "Requirement already satisfied: pyrfr>=0.8.0 in /home/martin/miniconda3/envs/autoML/lib/python3.7/site-packages (from smac<0.14,>=0.13.1) (0.8.1)\n",
      "Requirement already satisfied: pyparsing in /home/martin/miniconda3/envs/autoML/lib/python3.7/site-packages (from ConfigSpace<0.5,>=0.4.14->smac<0.14,>=0.13.1) (2.4.7)\n",
      "Requirement already satisfied: cython in /home/martin/miniconda3/envs/autoML/lib/python3.7/site-packages (from ConfigSpace<0.5,>=0.4.14->smac<0.14,>=0.13.1) (0.29.22)\n",
      "Requirement already satisfied: setuptools in /home/martin/miniconda3/envs/autoML/lib/python3.7/site-packages (from pynisher>=0.4.1->smac<0.14,>=0.13.1) (52.0.0.post20210125)\n"
     ]
    },
    {
     "name": "stdout",
     "output_type": "stream",
     "text": [
      "Requirement already satisfied: threadpoolctl>=2.0.0 in /home/martin/miniconda3/envs/autoML/lib/python3.7/site-packages (from scikit-learn>=0.22.0->smac<0.14,>=0.13.1) (2.1.0)\n",
      "Requirement already satisfied: pyyaml in /home/martin/miniconda3/envs/autoML/lib/python3.7/site-packages (from dask->smac<0.14,>=0.13.1) (5.4.1)\n",
      "Requirement already satisfied: tblib>=1.6.0 in /home/martin/miniconda3/envs/autoML/lib/python3.7/site-packages (from distributed->smac<0.14,>=0.13.1) (1.7.0)\n",
      "Requirement already satisfied: tornado>=5 in /home/martin/miniconda3/envs/autoML/lib/python3.7/site-packages (from distributed->smac<0.14,>=0.13.1) (6.1)\n",
      "Requirement already satisfied: msgpack>=0.6.0 in /home/martin/miniconda3/envs/autoML/lib/python3.7/site-packages (from distributed->smac<0.14,>=0.13.1) (1.0.2)\n",
      "Requirement already satisfied: sortedcontainers!=2.0.0,!=2.0.1 in /home/martin/miniconda3/envs/autoML/lib/python3.7/site-packages (from distributed->smac<0.14,>=0.13.1) (2.3.0)\n",
      "Requirement already satisfied: click>=6.6 in /home/martin/miniconda3/envs/autoML/lib/python3.7/site-packages (from distributed->smac<0.14,>=0.13.1) (7.1.2)\n",
      "Requirement already satisfied: toolz>=0.8.2 in /home/martin/miniconda3/envs/autoML/lib/python3.7/site-packages (from distributed->smac<0.14,>=0.13.1) (0.11.1)\n",
      "Requirement already satisfied: cloudpickle>=1.5.0 in /home/martin/miniconda3/envs/autoML/lib/python3.7/site-packages (from distributed->smac<0.14,>=0.13.1) (1.6.0)\n",
      "Requirement already satisfied: zict>=0.1.3 in /home/martin/miniconda3/envs/autoML/lib/python3.7/site-packages (from distributed->smac<0.14,>=0.13.1) (2.0.0)\n",
      "Requirement already satisfied: heapdict in /home/martin/miniconda3/envs/autoML/lib/python3.7/site-packages (from zict>=0.1.3->distributed->smac<0.14,>=0.13.1) (1.0.1)\n",
      "Requirement already satisfied: six in /home/martin/miniconda3/envs/autoML/lib/python3.7/site-packages (from lazy-import->smac<0.14,>=0.13.1) (1.15.0)\n"
     ]
    }
   ],
   "source": [
    "!curl https://raw.githubusercontent.com/automl/auto-sklearn/master/requirements.txt | xargs -n 1 -L 1 pip3 install\n",
    "# ! cat auto-sklearn-requirements.txt | xargs -n 1 -L 1 pip3 install"
   ]
  },
  {
   "cell_type": "code",
   "execution_count": 5,
   "id": "worse-paintball",
   "metadata": {},
   "outputs": [
    {
     "name": "stdout",
     "output_type": "stream",
     "text": [
      "Requirement already satisfied: auto-sklearn==0.12.4 in /home/martin/miniconda3/envs/autoML/lib/python3.7/site-packages (0.12.4)\n",
      "Requirement already satisfied: pynisher>=0.6.3 in /home/martin/miniconda3/envs/autoML/lib/python3.7/site-packages (from auto-sklearn==0.12.4) (0.6.4)\n",
      "Requirement already satisfied: joblib in /home/martin/miniconda3/envs/autoML/lib/python3.7/site-packages (from auto-sklearn==0.12.4) (1.0.1)\n",
      "Requirement already satisfied: pandas>=1.0 in /home/martin/miniconda3/envs/autoML/lib/python3.7/site-packages (from auto-sklearn==0.12.4) (1.2.3)\n",
      "Requirement already satisfied: distributed>=2.2.0 in /home/martin/miniconda3/envs/autoML/lib/python3.7/site-packages (from auto-sklearn==0.12.4) (2021.3.0)\n",
      "Requirement already satisfied: ConfigSpace<0.5,>=0.4.14 in /home/martin/miniconda3/envs/autoML/lib/python3.7/site-packages (from auto-sklearn==0.12.4) (0.4.16)\n",
      "Requirement already satisfied: dask in /home/martin/miniconda3/envs/autoML/lib/python3.7/site-packages (from auto-sklearn==0.12.4) (2021.3.0)\n",
      "Requirement already satisfied: liac-arff in /home/martin/miniconda3/envs/autoML/lib/python3.7/site-packages (from auto-sklearn==0.12.4) (2.5.0)\n",
      "Requirement already satisfied: pyrfr<0.9,>=0.8.1 in /home/martin/miniconda3/envs/autoML/lib/python3.7/site-packages (from auto-sklearn==0.12.4) (0.8.1)\n",
      "Requirement already satisfied: numpy>=1.9.0 in /home/martin/miniconda3/envs/autoML/lib/python3.7/site-packages (from auto-sklearn==0.12.4) (1.20.1)\n",
      "Requirement already satisfied: scipy>=0.14.1 in /home/martin/miniconda3/envs/autoML/lib/python3.7/site-packages (from auto-sklearn==0.12.4) (1.4.1)\n",
      "Requirement already satisfied: smac<0.14,>=0.13.1 in /home/martin/miniconda3/envs/autoML/lib/python3.7/site-packages (from auto-sklearn==0.12.4) (0.13.1)\n",
      "Requirement already satisfied: scikit-learn<0.25.0,>=0.24.0 in /home/martin/miniconda3/envs/autoML/lib/python3.7/site-packages (from auto-sklearn==0.12.4) (0.24.2)\n",
      "Requirement already satisfied: setuptools in /home/martin/miniconda3/envs/autoML/lib/python3.7/site-packages (from auto-sklearn==0.12.4) (52.0.0.post20210125)\n",
      "Requirement already satisfied: pyyaml in /home/martin/miniconda3/envs/autoML/lib/python3.7/site-packages (from auto-sklearn==0.12.4) (5.4.1)\n",
      "Requirement already satisfied: pyparsing in /home/martin/miniconda3/envs/autoML/lib/python3.7/site-packages (from ConfigSpace<0.5,>=0.4.14->auto-sklearn==0.12.4) (2.4.7)\n",
      "Requirement already satisfied: cython in /home/martin/miniconda3/envs/autoML/lib/python3.7/site-packages (from ConfigSpace<0.5,>=0.4.14->auto-sklearn==0.12.4) (0.29.22)\n",
      "Requirement already satisfied: click>=6.6 in /home/martin/miniconda3/envs/autoML/lib/python3.7/site-packages (from distributed>=2.2.0->auto-sklearn==0.12.4) (7.1.2)\n",
      "Requirement already satisfied: tornado>=5 in /home/martin/miniconda3/envs/autoML/lib/python3.7/site-packages (from distributed>=2.2.0->auto-sklearn==0.12.4) (6.1)\n",
      "Requirement already satisfied: toolz>=0.8.2 in /home/martin/miniconda3/envs/autoML/lib/python3.7/site-packages (from distributed>=2.2.0->auto-sklearn==0.12.4) (0.11.1)\n",
      "Requirement already satisfied: zict>=0.1.3 in /home/martin/miniconda3/envs/autoML/lib/python3.7/site-packages (from distributed>=2.2.0->auto-sklearn==0.12.4) (2.0.0)\n",
      "Requirement already satisfied: cloudpickle>=1.5.0 in /home/martin/miniconda3/envs/autoML/lib/python3.7/site-packages (from distributed>=2.2.0->auto-sklearn==0.12.4) (1.6.0)\n",
      "Requirement already satisfied: sortedcontainers!=2.0.0,!=2.0.1 in /home/martin/miniconda3/envs/autoML/lib/python3.7/site-packages (from distributed>=2.2.0->auto-sklearn==0.12.4) (2.3.0)\n",
      "Requirement already satisfied: msgpack>=0.6.0 in /home/martin/miniconda3/envs/autoML/lib/python3.7/site-packages (from distributed>=2.2.0->auto-sklearn==0.12.4) (1.0.2)\n",
      "Requirement already satisfied: tblib>=1.6.0 in /home/martin/miniconda3/envs/autoML/lib/python3.7/site-packages (from distributed>=2.2.0->auto-sklearn==0.12.4) (1.7.0)\n",
      "Requirement already satisfied: psutil>=5.0 in /home/martin/miniconda3/envs/autoML/lib/python3.7/site-packages (from distributed>=2.2.0->auto-sklearn==0.12.4) (5.7.0)\n",
      "Requirement already satisfied: pytz>=2017.3 in /home/martin/miniconda3/envs/autoML/lib/python3.7/site-packages (from pandas>=1.0->auto-sklearn==0.12.4) (2021.1)\n",
      "Requirement already satisfied: python-dateutil>=2.7.3 in /home/martin/miniconda3/envs/autoML/lib/python3.7/site-packages (from pandas>=1.0->auto-sklearn==0.12.4) (2.8.1)\n",
      "Requirement already satisfied: six>=1.5 in /home/martin/miniconda3/envs/autoML/lib/python3.7/site-packages (from python-dateutil>=2.7.3->pandas>=1.0->auto-sklearn==0.12.4) (1.15.0)\n",
      "Requirement already satisfied: threadpoolctl>=2.0.0 in /home/martin/miniconda3/envs/autoML/lib/python3.7/site-packages (from scikit-learn<0.25.0,>=0.24.0->auto-sklearn==0.12.4) (2.1.0)\n",
      "Requirement already satisfied: lazy-import in /home/martin/miniconda3/envs/autoML/lib/python3.7/site-packages (from smac<0.14,>=0.13.1->auto-sklearn==0.12.4) (0.2.2)\n",
      "Requirement already satisfied: heapdict in /home/martin/miniconda3/envs/autoML/lib/python3.7/site-packages (from zict>=0.1.3->distributed>=2.2.0->auto-sklearn==0.12.4) (1.0.1)\n"
     ]
    }
   ],
   "source": [
    "!pip install -U auto-sklearn==0.12.4"
   ]
  },
  {
   "cell_type": "code",
   "execution_count": 6,
   "id": "lucky-superintendent",
   "metadata": {},
   "outputs": [
    {
     "name": "stdout",
     "output_type": "stream",
     "text": [
      "Collecting scikit-learn==0.24.0\n",
      "  Downloading scikit_learn-0.24.0-cp37-cp37m-manylinux2010_x86_64.whl (22.3 MB)\n",
      "\u001b[K     |████████████████████████████████| 22.3 MB 8.7 MB/s eta 0:00:01     |████████████████████▉           | 14.5 MB 4.8 MB/s eta 0:00:02     |███████████████████████         | 16.1 MB 4.6 MB/s eta 0:00:02\n",
      "\u001b[?25hRequirement already satisfied: numpy>=1.13.3 in /home/martin/miniconda3/envs/autoML/lib/python3.7/site-packages (from scikit-learn==0.24.0) (1.20.1)\n",
      "Requirement already satisfied: threadpoolctl>=2.0.0 in /home/martin/miniconda3/envs/autoML/lib/python3.7/site-packages (from scikit-learn==0.24.0) (2.1.0)\n",
      "Requirement already satisfied: joblib>=0.11 in /home/martin/miniconda3/envs/autoML/lib/python3.7/site-packages (from scikit-learn==0.24.0) (1.0.1)\n",
      "Requirement already satisfied: scipy>=0.19.1 in /home/martin/miniconda3/envs/autoML/lib/python3.7/site-packages (from scikit-learn==0.24.0) (1.4.1)\n",
      "Installing collected packages: scikit-learn\n",
      "  Attempting uninstall: scikit-learn\n",
      "    Found existing installation: scikit-learn 0.24.2\n",
      "    Uninstalling scikit-learn-0.24.2:\n",
      "      Successfully uninstalled scikit-learn-0.24.2\n",
      "\u001b[31mERROR: pip's dependency resolver does not currently take into account all the packages that are installed. This behaviour is the source of the following dependency conflicts.\n",
      "autogluon-tabular 0.0.16b20210114 requires scikit-learn<0.24,>=0.22.0, but you have scikit-learn 0.24.0 which is incompatible.\n",
      "autogluon-core 0.0.16b20210114 requires scikit-learn<0.24,>=0.22.0, but you have scikit-learn 0.24.0 which is incompatible.\u001b[0m\n",
      "Successfully installed scikit-learn-0.24.0\n"
     ]
    }
   ],
   "source": [
    "!pip install -U scikit-learn==0.24.0"
   ]
  },
  {
   "cell_type": "code",
   "execution_count": 6,
   "id": "spectacular-printer",
   "metadata": {},
   "outputs": [],
   "source": [
    "import sklearn.metrics\n",
    "import autosklearn.regression\n",
    "import pandas as pd\n",
    "import numpy as np\n",
    "import warnings\n",
    "warnings.filterwarnings(\"default\")"
   ]
  },
  {
   "cell_type": "markdown",
   "id": "intensive-contributor",
   "metadata": {},
   "source": [
    "[Parameters](https://automl.github.io/auto-sklearn/master/api.html#regression)"
   ]
  },
  {
   "cell_type": "code",
   "execution_count": 7,
   "id": "stupid-solution",
   "metadata": {},
   "outputs": [
    {
     "name": "stderr",
     "output_type": "stream",
     "text": [
      "/home/martin/miniconda3/envs/autoML/lib/python3.7/site-packages/ipykernel/ipkernel.py:287: DeprecationWarning: `should_run_async` will not call `transform_cell` automatically in the future. Please pass the result to `transformed_cell` argument and any exception that happen during thetransform in `preprocessing_exc_tuple` in IPython 7.17 and above.\n",
      "  and should_run_async(code)\n"
     ]
    }
   ],
   "source": [
    "! rm -rf /tmp/autosklearn_*\n",
    "automl = autosklearn.regression.AutoSklearnRegressor(\n",
    "    time_left_for_this_task=600,\n",
    "    per_run_time_limit=30,\n",
    "    memory_limit = 4096,\n",
    "    ensemble_size = 8, \n",
    "    ensemble_nbest=4,\n",
    "    max_models_on_disc = 16,\n",
    "    n_jobs = 2,\n",
    "    include_estimators = ['gradient_boosting', 'ard_regression', 'sgd'],\n",
    "    resampling_strategy = 'cv',\n",
    "    # include_preprocessors=[\"no_preprocessing\"],\n",
    "    tmp_folder='/tmp/autosklearn_regression_example_tmp',\n",
    "    output_folder='/tmp/autosklearn_regression_example_out',\n",
    "    delete_tmp_folder_after_terminate = True,\n",
    "    delete_output_folder_after_terminate = False\n",
    ")"
   ]
  },
  {
   "cell_type": "code",
   "execution_count": 8,
   "id": "immune-release",
   "metadata": {},
   "outputs": [
    {
     "name": "stderr",
     "output_type": "stream",
     "text": [
      "/home/martin/miniconda3/envs/autoML/lib/python3.7/site-packages/autosklearn/automl.py:820: DeprecationWarning: `np.float` is a deprecated alias for the builtin `float`. To silence this warning, use `float` by itself. Doing this will not modify any behavior and is safe. If you specifically wanted the numpy scalar type, use `np.float64` here.\n",
      "Deprecated in NumPy 1.20; for more details and guidance: https://numpy.org/devdocs/release/1.20.0-notes.html#deprecations\n",
      "  elif X.dtype in (np.float64, np.float):\n",
      "/home/martin/miniconda3/envs/autoML/lib/python3.7/site-packages/autosklearn/automl.py:524: DeprecationWarning: dist() and linux_distribution() functions are deprecated in Python 3.5\n",
      "  self._logger.debug('  Distribution: %s', platform.linux_distribution())\n",
      "/home/martin/miniconda3/envs/autoML/lib/python3.7/site-packages/autosklearn/pipeline/base.py:327: DeprecationWarning: `np.float` is a deprecated alias for the builtin `float`. To silence this warning, use `float` by itself. Doing this will not modify any behavior and is safe. If you specifically wanted the numpy scalar type, use `np.float64` here.\n",
      "Deprecated in NumPy 1.20; for more details and guidance: https://numpy.org/devdocs/release/1.20.0-notes.html#deprecations\n",
      "  node.get_hyperparameter_search_space(dataset_properties),\n",
      "/home/martin/miniconda3/envs/autoML/lib/python3.7/site-packages/autosklearn/pipeline/components/data_preprocessing/minority_coalescense/__init__.py:55: DeprecationWarning: `np.float` is a deprecated alias for the builtin `float`. To silence this warning, use `float` by itself. Doing this will not modify any behavior and is safe. If you specifically wanted the numpy scalar type, use `np.float64` here.\n",
      "Deprecated in NumPy 1.20; for more details and guidance: https://numpy.org/devdocs/release/1.20.0-notes.html#deprecations\n",
      "  cs.add_hyperparameter(preprocessor)\n",
      "/home/martin/miniconda3/envs/autoML/lib/python3.7/site-packages/autosklearn/pipeline/components/data_preprocessing/minority_coalescense/minority_coalescer.py:53: DeprecationWarning: `np.float` is a deprecated alias for the builtin `float`. To silence this warning, use `float` by itself. Doing this will not modify any behavior and is safe. If you specifically wanted the numpy scalar type, use `np.float64` here.\n",
      "Deprecated in NumPy 1.20; for more details and guidance: https://numpy.org/devdocs/release/1.20.0-notes.html#deprecations\n",
      "  cs.add_hyperparameter(minimum_fraction)\n",
      "/home/martin/miniconda3/envs/autoML/lib/python3.7/site-packages/autosklearn/pipeline/components/data_preprocessing/minority_coalescense/__init__.py:61: DeprecationWarning: `np.float` is a deprecated alias for the builtin `float`. To silence this warning, use `float` by itself. Doing this will not modify any behavior and is safe. If you specifically wanted the numpy scalar type, use `np.float64` here.\n",
      "Deprecated in NumPy 1.20; for more details and guidance: https://numpy.org/devdocs/release/1.20.0-notes.html#deprecations\n",
      "  parent_hyperparameter=parent_hyperparameter)\n",
      "/home/martin/miniconda3/envs/autoML/lib/python3.7/site-packages/autosklearn/pipeline/base.py:339: DeprecationWarning: `np.float` is a deprecated alias for the builtin `float`. To silence this warning, use `float` by itself. Doing this will not modify any behavior and is safe. If you specifically wanted the numpy scalar type, use `np.float64` here.\n",
      "Deprecated in NumPy 1.20; for more details and guidance: https://numpy.org/devdocs/release/1.20.0-notes.html#deprecations\n",
      "  cs.add_configuration_space(node_name, sub_config_space)\n",
      "/home/martin/miniconda3/envs/autoML/lib/python3.7/site-packages/autosklearn/pipeline/components/data_preprocessing/categorical_encoding/__init__.py:58: DeprecationWarning: `np.float` is a deprecated alias for the builtin `float`. To silence this warning, use `float` by itself. Doing this will not modify any behavior and is safe. If you specifically wanted the numpy scalar type, use `np.float64` here.\n",
      "Deprecated in NumPy 1.20; for more details and guidance: https://numpy.org/devdocs/release/1.20.0-notes.html#deprecations\n",
      "  cs.add_hyperparameter(preprocessor)\n",
      "/home/martin/miniconda3/envs/autoML/lib/python3.7/site-packages/autosklearn/pipeline/components/data_preprocessing/categorical_encoding/__init__.py:64: DeprecationWarning: `np.float` is a deprecated alias for the builtin `float`. To silence this warning, use `float` by itself. Doing this will not modify any behavior and is safe. If you specifically wanted the numpy scalar type, use `np.float64` here.\n",
      "Deprecated in NumPy 1.20; for more details and guidance: https://numpy.org/devdocs/release/1.20.0-notes.html#deprecations\n",
      "  parent_hyperparameter=parent_hyperparameter)\n",
      "/home/martin/miniconda3/envs/autoML/lib/python3.7/site-packages/autosklearn/pipeline/base.py:38: DeprecationWarning: `np.float` is a deprecated alias for the builtin `float`. To silence this warning, use `float` by itself. Doing this will not modify any behavior and is safe. If you specifically wanted the numpy scalar type, use `np.float64` here.\n",
      "Deprecated in NumPy 1.20; for more details and guidance: https://numpy.org/devdocs/release/1.20.0-notes.html#deprecations\n",
      "  self.config = self.config_space.get_default_configuration()\n",
      "/home/martin/miniconda3/envs/autoML/lib/python3.7/site-packages/autosklearn/pipeline/base.py:191: DeprecationWarning: `np.float` is a deprecated alias for the builtin `float`. To silence this warning, use `float` by itself. Doing this will not modify any behavior and is safe. If you specifically wanted the numpy scalar type, use `np.float64` here.\n",
      "Deprecated in NumPy 1.20; for more details and guidance: https://numpy.org/devdocs/release/1.20.0-notes.html#deprecations\n",
      "  values=sub_config_dict)\n",
      "/home/martin/miniconda3/envs/autoML/lib/python3.7/site-packages/autosklearn/pipeline/components/data_preprocessing/imputation/numerical_imputation.py:55: DeprecationWarning: `np.float` is a deprecated alias for the builtin `float`. To silence this warning, use `float` by itself. Doing this will not modify any behavior and is safe. If you specifically wanted the numpy scalar type, use `np.float64` here.\n",
      "Deprecated in NumPy 1.20; for more details and guidance: https://numpy.org/devdocs/release/1.20.0-notes.html#deprecations\n",
      "  cs.add_hyperparameter(strategy)\n",
      "/home/martin/miniconda3/envs/autoML/lib/python3.7/site-packages/autosklearn/pipeline/components/data_preprocessing/rescaling/__init__.py:58: DeprecationWarning: `np.float` is a deprecated alias for the builtin `float`. To silence this warning, use `float` by itself. Doing this will not modify any behavior and is safe. If you specifically wanted the numpy scalar type, use `np.float64` here.\n",
      "Deprecated in NumPy 1.20; for more details and guidance: https://numpy.org/devdocs/release/1.20.0-notes.html#deprecations\n",
      "  cs.add_hyperparameter(preprocessor)\n",
      "/home/martin/miniconda3/envs/autoML/lib/python3.7/site-packages/autosklearn/pipeline/components/data_preprocessing/rescaling/__init__.py:64: DeprecationWarning: `np.float` is a deprecated alias for the builtin `float`. To silence this warning, use `float` by itself. Doing this will not modify any behavior and is safe. If you specifically wanted the numpy scalar type, use `np.float64` here.\n",
      "Deprecated in NumPy 1.20; for more details and guidance: https://numpy.org/devdocs/release/1.20.0-notes.html#deprecations\n",
      "  parent_hyperparameter=parent_hyperparameter)\n",
      "/home/martin/miniconda3/envs/autoML/lib/python3.7/site-packages/autosklearn/pipeline/components/data_preprocessing/rescaling/quantile_transformer.py:44: DeprecationWarning: `np.int` is a deprecated alias for the builtin `int`. To silence this warning, use `int` by itself. Doing this will not modify any behavior and is safe. When replacing `np.int`, you may wish to use e.g. `np.int64` or `np.int32` to specify the precision. If you wish to review your current use, check the release note link for additional information.\n",
      "Deprecated in NumPy 1.20; for more details and guidance: https://numpy.org/devdocs/release/1.20.0-notes.html#deprecations\n",
      "  'n_quantiles', lower=10, upper=2000, default_value=1000\n",
      "/home/martin/miniconda3/envs/autoML/lib/python3.7/site-packages/autosklearn/pipeline/components/data_preprocessing/rescaling/quantile_transformer.py:49: DeprecationWarning: `np.int` is a deprecated alias for the builtin `int`. To silence this warning, use `int` by itself. Doing this will not modify any behavior and is safe. When replacing `np.int`, you may wish to use e.g. `np.int64` or `np.int32` to specify the precision. If you wish to review your current use, check the release note link for additional information.\n",
      "Deprecated in NumPy 1.20; for more details and guidance: https://numpy.org/devdocs/release/1.20.0-notes.html#deprecations\n",
      "  cs.add_hyperparameters((n_quantiles, output_distribution))\n",
      "/home/martin/miniconda3/envs/autoML/lib/python3.7/site-packages/autosklearn/pipeline/components/data_preprocessing/rescaling/quantile_transformer.py:49: DeprecationWarning: `np.float` is a deprecated alias for the builtin `float`. To silence this warning, use `float` by itself. Doing this will not modify any behavior and is safe. If you specifically wanted the numpy scalar type, use `np.float64` here.\n",
      "Deprecated in NumPy 1.20; for more details and guidance: https://numpy.org/devdocs/release/1.20.0-notes.html#deprecations\n",
      "  cs.add_hyperparameters((n_quantiles, output_distribution))\n",
      "/home/martin/miniconda3/envs/autoML/lib/python3.7/copy.py:88: DeprecationWarning: `np.int` is a deprecated alias for the builtin `int`. To silence this warning, use `int` by itself. Doing this will not modify any behavior and is safe. When replacing `np.int`, you may wish to use e.g. `np.int64` or `np.int32` to specify the precision. If you wish to review your current use, check the release note link for additional information.\n",
      "Deprecated in NumPy 1.20; for more details and guidance: https://numpy.org/devdocs/release/1.20.0-notes.html#deprecations\n",
      "  return copier(x)\n",
      "/home/martin/miniconda3/envs/autoML/lib/python3.7/site-packages/autosklearn/pipeline/components/data_preprocessing/rescaling/__init__.py:64: DeprecationWarning: `np.int` is a deprecated alias for the builtin `int`. To silence this warning, use `int` by itself. Doing this will not modify any behavior and is safe. When replacing `np.int`, you may wish to use e.g. `np.int64` or `np.int32` to specify the precision. If you wish to review your current use, check the release note link for additional information.\n",
      "Deprecated in NumPy 1.20; for more details and guidance: https://numpy.org/devdocs/release/1.20.0-notes.html#deprecations\n",
      "  parent_hyperparameter=parent_hyperparameter)\n",
      "/home/martin/miniconda3/envs/autoML/lib/python3.7/site-packages/autosklearn/pipeline/components/data_preprocessing/rescaling/robust_scaler.py:46: DeprecationWarning: `np.float` is a deprecated alias for the builtin `float`. To silence this warning, use `float` by itself. Doing this will not modify any behavior and is safe. If you specifically wanted the numpy scalar type, use `np.float64` here.\n",
      "Deprecated in NumPy 1.20; for more details and guidance: https://numpy.org/devdocs/release/1.20.0-notes.html#deprecations\n",
      "  cs.add_hyperparameters((q_min, q_max))\n",
      "/home/martin/miniconda3/envs/autoML/lib/python3.7/site-packages/autosklearn/pipeline/base.py:339: DeprecationWarning: `np.int` is a deprecated alias for the builtin `int`. To silence this warning, use `int` by itself. Doing this will not modify any behavior and is safe. When replacing `np.int`, you may wish to use e.g. `np.int64` or `np.int32` to specify the precision. If you wish to review your current use, check the release note link for additional information.\n",
      "Deprecated in NumPy 1.20; for more details and guidance: https://numpy.org/devdocs/release/1.20.0-notes.html#deprecations\n",
      "  cs.add_configuration_space(node_name, sub_config_space)\n",
      "/home/martin/miniconda3/envs/autoML/lib/python3.7/site-packages/autosklearn/pipeline/components/data_preprocessing/data_preprocessing.py:185: DeprecationWarning: `np.float` is a deprecated alias for the builtin `float`. To silence this warning, use `float` by itself. Doing this will not modify any behavior and is safe. If you specifically wanted the numpy scalar type, use `np.float64` here.\n",
      "Deprecated in NumPy 1.20; for more details and guidance: https://numpy.org/devdocs/release/1.20.0-notes.html#deprecations\n",
      "  st_operation.get_hyperparameter_search_space(dataset_properties))\n",
      "/home/martin/miniconda3/envs/autoML/lib/python3.7/site-packages/autosklearn/pipeline/components/data_preprocessing/data_preprocessing.py:185: DeprecationWarning: `np.int` is a deprecated alias for the builtin `int`. To silence this warning, use `int` by itself. Doing this will not modify any behavior and is safe. When replacing `np.int`, you may wish to use e.g. `np.int64` or `np.int32` to specify the precision. If you wish to review your current use, check the release note link for additional information.\n",
      "Deprecated in NumPy 1.20; for more details and guidance: https://numpy.org/devdocs/release/1.20.0-notes.html#deprecations\n",
      "  st_operation.get_hyperparameter_search_space(dataset_properties))\n",
      "/home/martin/miniconda3/envs/autoML/lib/python3.7/site-packages/autosklearn/pipeline/base.py:327: DeprecationWarning: `np.int` is a deprecated alias for the builtin `int`. To silence this warning, use `int` by itself. Doing this will not modify any behavior and is safe. When replacing `np.int`, you may wish to use e.g. `np.int64` or `np.int32` to specify the precision. If you wish to review your current use, check the release note link for additional information.\n",
      "Deprecated in NumPy 1.20; for more details and guidance: https://numpy.org/devdocs/release/1.20.0-notes.html#deprecations\n",
      "  node.get_hyperparameter_search_space(dataset_properties),\n",
      "/home/martin/miniconda3/envs/autoML/lib/python3.7/site-packages/autosklearn/pipeline/components/feature_preprocessing/__init__.py:117: DeprecationWarning: `np.float` is a deprecated alias for the builtin `float`. To silence this warning, use `float` by itself. Doing this will not modify any behavior and is safe. If you specifically wanted the numpy scalar type, use `np.float64` here.\n",
      "Deprecated in NumPy 1.20; for more details and guidance: https://numpy.org/devdocs/release/1.20.0-notes.html#deprecations\n",
      "  cs.add_hyperparameter(preprocessor)\n",
      "/home/martin/miniconda3/envs/autoML/lib/python3.7/site-packages/autosklearn/pipeline/components/feature_preprocessing/extra_trees_preproc_for_regression.py:119: DeprecationWarning: `np.int` is a deprecated alias for the builtin `int`. To silence this warning, use `int` by itself. Doing this will not modify any behavior and is safe. When replacing `np.int`, you may wish to use e.g. `np.int64` or `np.int32` to specify the precision. If you wish to review your current use, check the release note link for additional information.\n",
      "Deprecated in NumPy 1.20; for more details and guidance: https://numpy.org/devdocs/release/1.20.0-notes.html#deprecations\n",
      "  \"min_samples_split\", 2, 20, default_value=2)\n",
      "/home/martin/miniconda3/envs/autoML/lib/python3.7/site-packages/autosklearn/pipeline/components/feature_preprocessing/extra_trees_preproc_for_regression.py:121: DeprecationWarning: `np.int` is a deprecated alias for the builtin `int`. To silence this warning, use `int` by itself. Doing this will not modify any behavior and is safe. When replacing `np.int`, you may wish to use e.g. `np.int64` or `np.int32` to specify the precision. If you wish to review your current use, check the release note link for additional information.\n",
      "Deprecated in NumPy 1.20; for more details and guidance: https://numpy.org/devdocs/release/1.20.0-notes.html#deprecations\n",
      "  \"min_samples_leaf\", 1, 20, default_value=1)\n",
      "/home/martin/miniconda3/envs/autoML/lib/python3.7/site-packages/autosklearn/pipeline/components/feature_preprocessing/extra_trees_preproc_for_regression.py:130: DeprecationWarning: `np.int` is a deprecated alias for the builtin `int`. To silence this warning, use `int` by itself. Doing this will not modify any behavior and is safe. When replacing `np.int`, you may wish to use e.g. `np.int64` or `np.int32` to specify the precision. If you wish to review your current use, check the release note link for additional information.\n",
      "Deprecated in NumPy 1.20; for more details and guidance: https://numpy.org/devdocs/release/1.20.0-notes.html#deprecations\n",
      "  bootstrap])\n",
      "/home/martin/miniconda3/envs/autoML/lib/python3.7/site-packages/autosklearn/pipeline/components/feature_preprocessing/extra_trees_preproc_for_regression.py:130: DeprecationWarning: `np.float` is a deprecated alias for the builtin `float`. To silence this warning, use `float` by itself. Doing this will not modify any behavior and is safe. If you specifically wanted the numpy scalar type, use `np.float64` here.\n",
      "Deprecated in NumPy 1.20; for more details and guidance: https://numpy.org/devdocs/release/1.20.0-notes.html#deprecations\n",
      "  bootstrap])\n",
      "/home/martin/miniconda3/envs/autoML/lib/python3.7/site-packages/autosklearn/pipeline/components/feature_preprocessing/__init__.py:123: DeprecationWarning: `np.int` is a deprecated alias for the builtin `int`. To silence this warning, use `int` by itself. Doing this will not modify any behavior and is safe. When replacing `np.int`, you may wish to use e.g. `np.int64` or `np.int32` to specify the precision. If you wish to review your current use, check the release note link for additional information.\n",
      "Deprecated in NumPy 1.20; for more details and guidance: https://numpy.org/devdocs/release/1.20.0-notes.html#deprecations\n",
      "  parent_hyperparameter=parent_hyperparameter)\n",
      "/home/martin/miniconda3/envs/autoML/lib/python3.7/site-packages/autosklearn/pipeline/components/feature_preprocessing/__init__.py:123: DeprecationWarning: `np.float` is a deprecated alias for the builtin `float`. To silence this warning, use `float` by itself. Doing this will not modify any behavior and is safe. If you specifically wanted the numpy scalar type, use `np.float64` here.\n",
      "Deprecated in NumPy 1.20; for more details and guidance: https://numpy.org/devdocs/release/1.20.0-notes.html#deprecations\n",
      "  parent_hyperparameter=parent_hyperparameter)\n",
      "/home/martin/miniconda3/envs/autoML/lib/python3.7/site-packages/autosklearn/pipeline/components/feature_preprocessing/fast_ica.py:71: DeprecationWarning: `np.int` is a deprecated alias for the builtin `int`. To silence this warning, use `int` by itself. Doing this will not modify any behavior and is safe. When replacing `np.int`, you may wish to use e.g. `np.int64` or `np.int32` to specify the precision. If you wish to review your current use, check the release note link for additional information.\n",
      "Deprecated in NumPy 1.20; for more details and guidance: https://numpy.org/devdocs/release/1.20.0-notes.html#deprecations\n",
      "  n_components = UniformIntegerHyperparameter(\"n_components\", 10, 2000, default_value=100)\n",
      "/home/martin/miniconda3/envs/autoML/lib/python3.7/site-packages/autosklearn/pipeline/components/feature_preprocessing/fast_ica.py:75: DeprecationWarning: `np.int` is a deprecated alias for the builtin `int`. To silence this warning, use `int` by itself. Doing this will not modify any behavior and is safe. When replacing `np.int`, you may wish to use e.g. `np.int64` or `np.int32` to specify the precision. If you wish to review your current use, check the release note link for additional information.\n",
      "Deprecated in NumPy 1.20; for more details and guidance: https://numpy.org/devdocs/release/1.20.0-notes.html#deprecations\n",
      "  cs.add_hyperparameters([n_components, algorithm, whiten, fun])\n",
      "/home/martin/miniconda3/envs/autoML/lib/python3.7/site-packages/autosklearn/pipeline/components/feature_preprocessing/fast_ica.py:75: DeprecationWarning: `np.float` is a deprecated alias for the builtin `float`. To silence this warning, use `float` by itself. Doing this will not modify any behavior and is safe. If you specifically wanted the numpy scalar type, use `np.float64` here.\n",
      "Deprecated in NumPy 1.20; for more details and guidance: https://numpy.org/devdocs/release/1.20.0-notes.html#deprecations\n",
      "  cs.add_hyperparameters([n_components, algorithm, whiten, fun])\n",
      "/home/martin/miniconda3/envs/autoML/lib/python3.7/site-packages/autosklearn/pipeline/components/feature_preprocessing/feature_agglomeration.py:63: DeprecationWarning: `np.int` is a deprecated alias for the builtin `int`. To silence this warning, use `int` by itself. Doing this will not modify any behavior and is safe. When replacing `np.int`, you may wish to use e.g. `np.int64` or `np.int32` to specify the precision. If you wish to review your current use, check the release note link for additional information.\n",
      "Deprecated in NumPy 1.20; for more details and guidance: https://numpy.org/devdocs/release/1.20.0-notes.html#deprecations\n",
      "  n_clusters = UniformIntegerHyperparameter(\"n_clusters\", 2, 400, 25)\n",
      "/home/martin/miniconda3/envs/autoML/lib/python3.7/site-packages/autosklearn/pipeline/components/feature_preprocessing/feature_agglomeration.py:71: DeprecationWarning: `np.int` is a deprecated alias for the builtin `int`. To silence this warning, use `int` by itself. Doing this will not modify any behavior and is safe. When replacing `np.int`, you may wish to use e.g. `np.int64` or `np.int32` to specify the precision. If you wish to review your current use, check the release note link for additional information.\n",
      "Deprecated in NumPy 1.20; for more details and guidance: https://numpy.org/devdocs/release/1.20.0-notes.html#deprecations\n",
      "  cs.add_hyperparameters([n_clusters, affinity, linkage, pooling_func])\n",
      "/home/martin/miniconda3/envs/autoML/lib/python3.7/site-packages/autosklearn/pipeline/components/feature_preprocessing/feature_agglomeration.py:71: DeprecationWarning: `np.float` is a deprecated alias for the builtin `float`. To silence this warning, use `float` by itself. Doing this will not modify any behavior and is safe. If you specifically wanted the numpy scalar type, use `np.float64` here.\n",
      "Deprecated in NumPy 1.20; for more details and guidance: https://numpy.org/devdocs/release/1.20.0-notes.html#deprecations\n",
      "  cs.add_hyperparameters([n_clusters, affinity, linkage, pooling_func])\n",
      "/home/martin/miniconda3/envs/autoML/lib/python3.7/site-packages/autosklearn/pipeline/components/feature_preprocessing/feature_agglomeration.py:76: DeprecationWarning: `np.int` is a deprecated alias for the builtin `int`. To silence this warning, use `int` by itself. Doing this will not modify any behavior and is safe. When replacing `np.int`, you may wish to use e.g. `np.int64` or `np.int32` to specify the precision. If you wish to review your current use, check the release note link for additional information.\n",
      "Deprecated in NumPy 1.20; for more details and guidance: https://numpy.org/devdocs/release/1.20.0-notes.html#deprecations\n",
      "  cs.add_forbidden_clause(affinity_and_linkage)\n",
      "/home/martin/miniconda3/envs/autoML/lib/python3.7/site-packages/autosklearn/pipeline/components/feature_preprocessing/feature_agglomeration.py:76: DeprecationWarning: `np.float` is a deprecated alias for the builtin `float`. To silence this warning, use `float` by itself. Doing this will not modify any behavior and is safe. If you specifically wanted the numpy scalar type, use `np.float64` here.\n",
      "Deprecated in NumPy 1.20; for more details and guidance: https://numpy.org/devdocs/release/1.20.0-notes.html#deprecations\n",
      "  cs.add_forbidden_clause(affinity_and_linkage)\n",
      "/home/martin/miniconda3/envs/autoML/lib/python3.7/site-packages/autosklearn/pipeline/components/feature_preprocessing/kernel_pca.py:78: DeprecationWarning: `np.int` is a deprecated alias for the builtin `int`. To silence this warning, use `int` by itself. Doing this will not modify any behavior and is safe. When replacing `np.int`, you may wish to use e.g. `np.int64` or `np.int32` to specify the precision. If you wish to review your current use, check the release note link for additional information.\n",
      "Deprecated in NumPy 1.20; for more details and guidance: https://numpy.org/devdocs/release/1.20.0-notes.html#deprecations\n",
      "  \"n_components\", 10, 2000, default_value=100)\n",
      "/home/martin/miniconda3/envs/autoML/lib/python3.7/site-packages/autosklearn/pipeline/components/feature_preprocessing/kernel_pca.py:86: DeprecationWarning: `np.int` is a deprecated alias for the builtin `int`. To silence this warning, use `int` by itself. Doing this will not modify any behavior and is safe. When replacing `np.int`, you may wish to use e.g. `np.int64` or `np.int32` to specify the precision. If you wish to review your current use, check the release note link for additional information.\n",
      "Deprecated in NumPy 1.20; for more details and guidance: https://numpy.org/devdocs/release/1.20.0-notes.html#deprecations\n",
      "  degree = UniformIntegerHyperparameter('degree', 2, 5, 3)\n",
      "/home/martin/miniconda3/envs/autoML/lib/python3.7/site-packages/autosklearn/pipeline/components/feature_preprocessing/kernel_pca.py:89: DeprecationWarning: `np.int` is a deprecated alias for the builtin `int`. To silence this warning, use `int` by itself. Doing this will not modify any behavior and is safe. When replacing `np.int`, you may wish to use e.g. `np.int64` or `np.int32` to specify the precision. If you wish to review your current use, check the release note link for additional information.\n",
      "Deprecated in NumPy 1.20; for more details and guidance: https://numpy.org/devdocs/release/1.20.0-notes.html#deprecations\n",
      "  cs.add_hyperparameters([n_components, kernel, degree, gamma, coef0])\n",
      "/home/martin/miniconda3/envs/autoML/lib/python3.7/site-packages/autosklearn/pipeline/components/feature_preprocessing/kernel_pca.py:89: DeprecationWarning: `np.float` is a deprecated alias for the builtin `float`. To silence this warning, use `float` by itself. Doing this will not modify any behavior and is safe. If you specifically wanted the numpy scalar type, use `np.float64` here.\n",
      "Deprecated in NumPy 1.20; for more details and guidance: https://numpy.org/devdocs/release/1.20.0-notes.html#deprecations\n",
      "  cs.add_hyperparameters([n_components, kernel, degree, gamma, coef0])\n",
      "/home/martin/miniconda3/envs/autoML/lib/python3.7/site-packages/autosklearn/pipeline/components/feature_preprocessing/kitchen_sinks.py:57: DeprecationWarning: `np.int` is a deprecated alias for the builtin `int`. To silence this warning, use `int` by itself. Doing this will not modify any behavior and is safe. When replacing `np.int`, you may wish to use e.g. `np.int64` or `np.int32` to specify the precision. If you wish to review your current use, check the release note link for additional information.\n",
      "Deprecated in NumPy 1.20; for more details and guidance: https://numpy.org/devdocs/release/1.20.0-notes.html#deprecations\n",
      "  \"n_components\", 50, 10000, default_value=100, log=True)\n",
      "/home/martin/miniconda3/envs/autoML/lib/python3.7/site-packages/autosklearn/pipeline/components/feature_preprocessing/kitchen_sinks.py:59: DeprecationWarning: `np.int` is a deprecated alias for the builtin `int`. To silence this warning, use `int` by itself. Doing this will not modify any behavior and is safe. When replacing `np.int`, you may wish to use e.g. `np.int64` or `np.int32` to specify the precision. If you wish to review your current use, check the release note link for additional information.\n",
      "Deprecated in NumPy 1.20; for more details and guidance: https://numpy.org/devdocs/release/1.20.0-notes.html#deprecations\n",
      "  cs.add_hyperparameters([gamma, n_components])\n",
      "/home/martin/miniconda3/envs/autoML/lib/python3.7/site-packages/autosklearn/pipeline/components/feature_preprocessing/kitchen_sinks.py:59: DeprecationWarning: `np.float` is a deprecated alias for the builtin `float`. To silence this warning, use `float` by itself. Doing this will not modify any behavior and is safe. If you specifically wanted the numpy scalar type, use `np.float64` here.\n",
      "Deprecated in NumPy 1.20; for more details and guidance: https://numpy.org/devdocs/release/1.20.0-notes.html#deprecations\n",
      "  cs.add_hyperparameters([gamma, n_components])\n",
      "/home/martin/miniconda3/envs/autoML/lib/python3.7/site-packages/autosklearn/pipeline/components/feature_preprocessing/nystroem_sampler.py:95: DeprecationWarning: `np.int` is a deprecated alias for the builtin `int`. To silence this warning, use `int` by itself. Doing this will not modify any behavior and is safe. When replacing `np.int`, you may wish to use e.g. `np.int64` or `np.int32` to specify the precision. If you wish to review your current use, check the release note link for additional information.\n",
      "Deprecated in NumPy 1.20; for more details and guidance: https://numpy.org/devdocs/release/1.20.0-notes.html#deprecations\n",
      "  \"n_components\", 50, 10000, default_value=100, log=True)\n",
      "/home/martin/miniconda3/envs/autoML/lib/python3.7/site-packages/autosklearn/pipeline/components/feature_preprocessing/nystroem_sampler.py:98: DeprecationWarning: `np.int` is a deprecated alias for the builtin `int`. To silence this warning, use `int` by itself. Doing this will not modify any behavior and is safe. When replacing `np.int`, you may wish to use e.g. `np.int64` or `np.int32` to specify the precision. If you wish to review your current use, check the release note link for additional information.\n",
      "Deprecated in NumPy 1.20; for more details and guidance: https://numpy.org/devdocs/release/1.20.0-notes.html#deprecations\n",
      "  degree = UniformIntegerHyperparameter('degree', 2, 5, 3)\n",
      "/home/martin/miniconda3/envs/autoML/lib/python3.7/site-packages/autosklearn/pipeline/components/feature_preprocessing/nystroem_sampler.py:102: DeprecationWarning: `np.int` is a deprecated alias for the builtin `int`. To silence this warning, use `int` by itself. Doing this will not modify any behavior and is safe. When replacing `np.int`, you may wish to use e.g. `np.int64` or `np.int32` to specify the precision. If you wish to review your current use, check the release note link for additional information.\n",
      "Deprecated in NumPy 1.20; for more details and guidance: https://numpy.org/devdocs/release/1.20.0-notes.html#deprecations\n",
      "  cs.add_hyperparameters([kernel, degree, gamma, coef0, n_components])\n",
      "/home/martin/miniconda3/envs/autoML/lib/python3.7/site-packages/autosklearn/pipeline/components/feature_preprocessing/nystroem_sampler.py:102: DeprecationWarning: `np.float` is a deprecated alias for the builtin `float`. To silence this warning, use `float` by itself. Doing this will not modify any behavior and is safe. If you specifically wanted the numpy scalar type, use `np.float64` here.\n",
      "Deprecated in NumPy 1.20; for more details and guidance: https://numpy.org/devdocs/release/1.20.0-notes.html#deprecations\n",
      "  cs.add_hyperparameters([kernel, degree, gamma, coef0, n_components])\n",
      "/home/martin/miniconda3/envs/autoML/lib/python3.7/site-packages/autosklearn/pipeline/components/feature_preprocessing/pca.py:60: DeprecationWarning: `np.float` is a deprecated alias for the builtin `float`. To silence this warning, use `float` by itself. Doing this will not modify any behavior and is safe. If you specifically wanted the numpy scalar type, use `np.float64` here.\n",
      "Deprecated in NumPy 1.20; for more details and guidance: https://numpy.org/devdocs/release/1.20.0-notes.html#deprecations\n",
      "  cs.add_hyperparameters([keep_variance, whiten])\n",
      "/home/martin/miniconda3/envs/autoML/lib/python3.7/site-packages/autosklearn/pipeline/components/feature_preprocessing/polynomial.py:54: DeprecationWarning: `np.int` is a deprecated alias for the builtin `int`. To silence this warning, use `int` by itself. Doing this will not modify any behavior and is safe. When replacing `np.int`, you may wish to use e.g. `np.int64` or `np.int32` to specify the precision. If you wish to review your current use, check the release note link for additional information.\n",
      "Deprecated in NumPy 1.20; for more details and guidance: https://numpy.org/devdocs/release/1.20.0-notes.html#deprecations\n",
      "  degree = UniformIntegerHyperparameter(\"degree\", 2, 3, 2)\n",
      "/home/martin/miniconda3/envs/autoML/lib/python3.7/site-packages/autosklearn/pipeline/components/feature_preprocessing/polynomial.py:61: DeprecationWarning: `np.int` is a deprecated alias for the builtin `int`. To silence this warning, use `int` by itself. Doing this will not modify any behavior and is safe. When replacing `np.int`, you may wish to use e.g. `np.int64` or `np.int32` to specify the precision. If you wish to review your current use, check the release note link for additional information.\n",
      "Deprecated in NumPy 1.20; for more details and guidance: https://numpy.org/devdocs/release/1.20.0-notes.html#deprecations\n",
      "  cs.add_hyperparameters([degree, interaction_only, include_bias])\n",
      "/home/martin/miniconda3/envs/autoML/lib/python3.7/site-packages/autosklearn/pipeline/components/feature_preprocessing/polynomial.py:61: DeprecationWarning: `np.float` is a deprecated alias for the builtin `float`. To silence this warning, use `float` by itself. Doing this will not modify any behavior and is safe. If you specifically wanted the numpy scalar type, use `np.float64` here.\n",
      "Deprecated in NumPy 1.20; for more details and guidance: https://numpy.org/devdocs/release/1.20.0-notes.html#deprecations\n",
      "  cs.add_hyperparameters([degree, interaction_only, include_bias])\n",
      "/home/martin/miniconda3/envs/autoML/lib/python3.7/site-packages/autosklearn/pipeline/components/feature_preprocessing/random_trees_embedding.py:85: DeprecationWarning: `np.int` is a deprecated alias for the builtin `int`. To silence this warning, use `int` by itself. Doing this will not modify any behavior and is safe. When replacing `np.int`, you may wish to use e.g. `np.int64` or `np.int32` to specify the precision. If you wish to review your current use, check the release note link for additional information.\n",
      "Deprecated in NumPy 1.20; for more details and guidance: https://numpy.org/devdocs/release/1.20.0-notes.html#deprecations\n",
      "  default_value=10)\n",
      "/home/martin/miniconda3/envs/autoML/lib/python3.7/site-packages/autosklearn/pipeline/components/feature_preprocessing/random_trees_embedding.py:88: DeprecationWarning: `np.int` is a deprecated alias for the builtin `int`. To silence this warning, use `int` by itself. Doing this will not modify any behavior and is safe. When replacing `np.int`, you may wish to use e.g. `np.int64` or `np.int32` to specify the precision. If you wish to review your current use, check the release note link for additional information.\n",
      "Deprecated in NumPy 1.20; for more details and guidance: https://numpy.org/devdocs/release/1.20.0-notes.html#deprecations\n",
      "  default_value=5)\n",
      "/home/martin/miniconda3/envs/autoML/lib/python3.7/site-packages/autosklearn/pipeline/components/feature_preprocessing/random_trees_embedding.py:91: DeprecationWarning: `np.int` is a deprecated alias for the builtin `int`. To silence this warning, use `int` by itself. Doing this will not modify any behavior and is safe. When replacing `np.int`, you may wish to use e.g. `np.int64` or `np.int32` to specify the precision. If you wish to review your current use, check the release note link for additional information.\n",
      "Deprecated in NumPy 1.20; for more details and guidance: https://numpy.org/devdocs/release/1.20.0-notes.html#deprecations\n",
      "  default_value=2)\n",
      "/home/martin/miniconda3/envs/autoML/lib/python3.7/site-packages/autosklearn/pipeline/components/feature_preprocessing/random_trees_embedding.py:94: DeprecationWarning: `np.int` is a deprecated alias for the builtin `int`. To silence this warning, use `int` by itself. Doing this will not modify any behavior and is safe. When replacing `np.int`, you may wish to use e.g. `np.int64` or `np.int32` to specify the precision. If you wish to review your current use, check the release note link for additional information.\n",
      "Deprecated in NumPy 1.20; for more details and guidance: https://numpy.org/devdocs/release/1.20.0-notes.html#deprecations\n",
      "  default_value=1)\n",
      "/home/martin/miniconda3/envs/autoML/lib/python3.7/site-packages/autosklearn/pipeline/components/feature_preprocessing/random_trees_embedding.py:102: DeprecationWarning: `np.int` is a deprecated alias for the builtin `int`. To silence this warning, use `int` by itself. Doing this will not modify any behavior and is safe. When replacing `np.int`, you may wish to use e.g. `np.int64` or `np.int32` to specify the precision. If you wish to review your current use, check the release note link for additional information.\n",
      "Deprecated in NumPy 1.20; for more details and guidance: https://numpy.org/devdocs/release/1.20.0-notes.html#deprecations\n",
      "  max_leaf_nodes, bootstrap])\n",
      "/home/martin/miniconda3/envs/autoML/lib/python3.7/site-packages/autosklearn/pipeline/components/feature_preprocessing/random_trees_embedding.py:102: DeprecationWarning: `np.float` is a deprecated alias for the builtin `float`. To silence this warning, use `float` by itself. Doing this will not modify any behavior and is safe. If you specifically wanted the numpy scalar type, use `np.float64` here.\n",
      "Deprecated in NumPy 1.20; for more details and guidance: https://numpy.org/devdocs/release/1.20.0-notes.html#deprecations\n",
      "  max_leaf_nodes, bootstrap])\n",
      "/home/martin/miniconda3/envs/autoML/lib/python3.7/site-packages/autosklearn/pipeline/components/feature_preprocessing/select_percentile_regression.py:53: DeprecationWarning: `np.float` is a deprecated alias for the builtin `float`. To silence this warning, use `float` by itself. Doing this will not modify any behavior and is safe. If you specifically wanted the numpy scalar type, use `np.float64` here.\n",
      "Deprecated in NumPy 1.20; for more details and guidance: https://numpy.org/devdocs/release/1.20.0-notes.html#deprecations\n",
      "  cs.add_hyperparameters([percentile, score_func])\n",
      "/home/martin/miniconda3/envs/autoML/lib/python3.7/site-packages/autosklearn/pipeline/components/feature_preprocessing/select_rates_regression.py:92: DeprecationWarning: `np.float` is a deprecated alias for the builtin `float`. To silence this warning, use `float` by itself. Doing this will not modify any behavior and is safe. If you specifically wanted the numpy scalar type, use `np.float64` here.\n",
      "Deprecated in NumPy 1.20; for more details and guidance: https://numpy.org/devdocs/release/1.20.0-notes.html#deprecations\n",
      "  cs.add_hyperparameter(alpha)\n",
      "/home/martin/miniconda3/envs/autoML/lib/python3.7/site-packages/autosklearn/pipeline/components/feature_preprocessing/select_rates_regression.py:93: DeprecationWarning: `np.float` is a deprecated alias for the builtin `float`. To silence this warning, use `float` by itself. Doing this will not modify any behavior and is safe. If you specifically wanted the numpy scalar type, use `np.float64` here.\n",
      "Deprecated in NumPy 1.20; for more details and guidance: https://numpy.org/devdocs/release/1.20.0-notes.html#deprecations\n",
      "  cs.add_hyperparameter(score_func)\n",
      "/home/martin/miniconda3/envs/autoML/lib/python3.7/site-packages/autosklearn/pipeline/components/feature_preprocessing/select_rates_regression.py:94: DeprecationWarning: `np.float` is a deprecated alias for the builtin `float`. To silence this warning, use `float` by itself. Doing this will not modify any behavior and is safe. If you specifically wanted the numpy scalar type, use `np.float64` here.\n",
      "Deprecated in NumPy 1.20; for more details and guidance: https://numpy.org/devdocs/release/1.20.0-notes.html#deprecations\n",
      "  cs.add_hyperparameter(mode)\n",
      "/home/martin/miniconda3/envs/autoML/lib/python3.7/site-packages/autosklearn/pipeline/components/regression/__init__.py:103: DeprecationWarning: `np.float` is a deprecated alias for the builtin `float`. To silence this warning, use `float` by itself. Doing this will not modify any behavior and is safe. If you specifically wanted the numpy scalar type, use `np.float64` here.\n",
      "Deprecated in NumPy 1.20; for more details and guidance: https://numpy.org/devdocs/release/1.20.0-notes.html#deprecations\n",
      "  cs.add_hyperparameter(estimator)\n",
      "/home/martin/miniconda3/envs/autoML/lib/python3.7/site-packages/autosklearn/pipeline/components/regression/ard_regression.py:97: DeprecationWarning: `np.float` is a deprecated alias for the builtin `float`. To silence this warning, use `float` by itself. Doing this will not modify any behavior and is safe. If you specifically wanted the numpy scalar type, use `np.float64` here.\n",
      "Deprecated in NumPy 1.20; for more details and guidance: https://numpy.org/devdocs/release/1.20.0-notes.html#deprecations\n",
      "  lambda_2, threshold_lambda, fit_intercept])\n",
      "/home/martin/miniconda3/envs/autoML/lib/python3.7/site-packages/autosklearn/pipeline/components/regression/__init__.py:109: DeprecationWarning: `np.float` is a deprecated alias for the builtin `float`. To silence this warning, use `float` by itself. Doing this will not modify any behavior and is safe. If you specifically wanted the numpy scalar type, use `np.float64` here.\n",
      "Deprecated in NumPy 1.20; for more details and guidance: https://numpy.org/devdocs/release/1.20.0-notes.html#deprecations\n",
      "  parent_hyperparameter=parent_hyperparameter)\n"
     ]
    },
    {
     "name": "stderr",
     "output_type": "stream",
     "text": [
      "/home/martin/miniconda3/envs/autoML/lib/python3.7/site-packages/autosklearn/pipeline/components/regression/gradient_boosting.py:159: DeprecationWarning: `np.int` is a deprecated alias for the builtin `int`. To silence this warning, use `int` by itself. Doing this will not modify any behavior and is safe. When replacing `np.int`, you may wish to use e.g. `np.int64` or `np.int32` to specify the precision. If you wish to review your current use, check the release note link for additional information.\n",
      "Deprecated in NumPy 1.20; for more details and guidance: https://numpy.org/devdocs/release/1.20.0-notes.html#deprecations\n",
      "  name=\"min_samples_leaf\", lower=1, upper=200, default_value=20, log=True)\n",
      "/home/martin/miniconda3/envs/autoML/lib/python3.7/site-packages/autosklearn/pipeline/components/regression/gradient_boosting.py:163: DeprecationWarning: `np.int` is a deprecated alias for the builtin `int`. To silence this warning, use `int` by itself. Doing this will not modify any behavior and is safe. When replacing `np.int`, you may wish to use e.g. `np.int64` or `np.int32` to specify the precision. If you wish to review your current use, check the release note link for additional information.\n",
      "Deprecated in NumPy 1.20; for more details and guidance: https://numpy.org/devdocs/release/1.20.0-notes.html#deprecations\n",
      "  name=\"max_leaf_nodes\", lower=3, upper=2047, default_value=31, log=True)\n",
      "/home/martin/miniconda3/envs/autoML/lib/python3.7/site-packages/autosklearn/pipeline/components/regression/gradient_boosting.py:175: DeprecationWarning: `np.int` is a deprecated alias for the builtin `int`. To silence this warning, use `int` by itself. Doing this will not modify any behavior and is safe. When replacing `np.int`, you may wish to use e.g. `np.int64` or `np.int32` to specify the precision. If you wish to review your current use, check the release note link for additional information.\n",
      "Deprecated in NumPy 1.20; for more details and guidance: https://numpy.org/devdocs/release/1.20.0-notes.html#deprecations\n",
      "  name=\"n_iter_no_change\", lower=1, upper=20, default_value=10)\n",
      "/home/martin/miniconda3/envs/autoML/lib/python3.7/site-packages/autosklearn/pipeline/components/regression/gradient_boosting.py:182: DeprecationWarning: `np.int` is a deprecated alias for the builtin `int`. To silence this warning, use `int` by itself. Doing this will not modify any behavior and is safe. When replacing `np.int`, you may wish to use e.g. `np.int64` or `np.int32` to specify the precision. If you wish to review your current use, check the release note link for additional information.\n",
      "Deprecated in NumPy 1.20; for more details and guidance: https://numpy.org/devdocs/release/1.20.0-notes.html#deprecations\n",
      "  validation_fraction])\n",
      "/home/martin/miniconda3/envs/autoML/lib/python3.7/site-packages/autosklearn/pipeline/components/regression/gradient_boosting.py:182: DeprecationWarning: `np.float` is a deprecated alias for the builtin `float`. To silence this warning, use `float` by itself. Doing this will not modify any behavior and is safe. If you specifically wanted the numpy scalar type, use `np.float64` here.\n",
      "Deprecated in NumPy 1.20; for more details and guidance: https://numpy.org/devdocs/release/1.20.0-notes.html#deprecations\n",
      "  validation_fraction])\n",
      "/home/martin/miniconda3/envs/autoML/lib/python3.7/site-packages/autosklearn/pipeline/components/regression/__init__.py:109: DeprecationWarning: `np.int` is a deprecated alias for the builtin `int`. To silence this warning, use `int` by itself. Doing this will not modify any behavior and is safe. When replacing `np.int`, you may wish to use e.g. `np.int64` or `np.int32` to specify the precision. If you wish to review your current use, check the release note link for additional information.\n",
      "Deprecated in NumPy 1.20; for more details and guidance: https://numpy.org/devdocs/release/1.20.0-notes.html#deprecations\n",
      "  parent_hyperparameter=parent_hyperparameter)\n",
      "/home/martin/miniconda3/envs/autoML/lib/python3.7/site-packages/autosklearn/pipeline/components/regression/sgd.py:182: DeprecationWarning: `np.float` is a deprecated alias for the builtin `float`. To silence this warning, use `float` by itself. Doing this will not modify any behavior and is safe. If you specifically wanted the numpy scalar type, use `np.float64` here.\n",
      "Deprecated in NumPy 1.20; for more details and guidance: https://numpy.org/devdocs/release/1.20.0-notes.html#deprecations\n",
      "  power_t, average])\n",
      "/home/martin/miniconda3/envs/autoML/lib/python3.7/site-packages/autosklearn/pipeline/create_searchspace_util.py:253: DeprecationWarning: `np.float` is a deprecated alias for the builtin `float`. To silence this warning, use `float` by itself. Doing this will not modify any behavior and is safe. If you specifically wanted the numpy scalar type, use `np.float64` here.\n",
      "Deprecated in NumPy 1.20; for more details and guidance: https://numpy.org/devdocs/release/1.20.0-notes.html#deprecations\n",
      "  conf_space.add_forbidden_clause(forbidden)\n",
      "/home/martin/miniconda3/envs/autoML/lib/python3.7/site-packages/autosklearn/pipeline/regression.py:209: DeprecationWarning: `np.float` is a deprecated alias for the builtin `float`. To silence this warning, use `float` by itself. Doing this will not modify any behavior and is safe. If you specifically wanted the numpy scalar type, use `np.float64` here.\n",
      "Deprecated in NumPy 1.20; for more details and guidance: https://numpy.org/devdocs/release/1.20.0-notes.html#deprecations\n",
      "  \"feature_preprocessor:__choice__\"), f)))\n",
      "/home/martin/miniconda3/envs/autoML/lib/python3.7/site-packages/autosklearn/pipeline/components/data_preprocessing/data_preprocessing.py:151: DeprecationWarning: `np.float` is a deprecated alias for the builtin `float`. To silence this warning, use `float` by itself. Doing this will not modify any behavior and is safe. If you specifically wanted the numpy scalar type, use `np.float64` here.\n",
      "Deprecated in NumPy 1.20; for more details and guidance: https://numpy.org/devdocs/release/1.20.0-notes.html#deprecations\n",
      "  values=sub_config_dict)\n",
      "/home/martin/miniconda3/envs/autoML/lib/python3.7/site-packages/autosklearn/pipeline/components/feature_preprocessing/truncatedSVD.py:50: DeprecationWarning: `np.int` is a deprecated alias for the builtin `int`. To silence this warning, use `int` by itself. Doing this will not modify any behavior and is safe. When replacing `np.int`, you may wish to use e.g. `np.int64` or `np.int32` to specify the precision. If you wish to review your current use, check the release note link for additional information.\n",
      "Deprecated in NumPy 1.20; for more details and guidance: https://numpy.org/devdocs/release/1.20.0-notes.html#deprecations\n",
      "  \"target_dim\", 10, 256, default_value=128)\n",
      "/home/martin/miniconda3/envs/autoML/lib/python3.7/site-packages/autosklearn/pipeline/components/feature_preprocessing/truncatedSVD.py:52: DeprecationWarning: `np.int` is a deprecated alias for the builtin `int`. To silence this warning, use `int` by itself. Doing this will not modify any behavior and is safe. When replacing `np.int`, you may wish to use e.g. `np.int64` or `np.int32` to specify the precision. If you wish to review your current use, check the release note link for additional information.\n",
      "Deprecated in NumPy 1.20; for more details and guidance: https://numpy.org/devdocs/release/1.20.0-notes.html#deprecations\n",
      "  cs.add_hyperparameter(target_dim)\n",
      "/home/martin/miniconda3/envs/autoML/lib/python3.7/site-packages/autosklearn/pipeline/components/feature_preprocessing/truncatedSVD.py:52: DeprecationWarning: `np.float` is a deprecated alias for the builtin `float`. To silence this warning, use `float` by itself. Doing this will not modify any behavior and is safe. If you specifically wanted the numpy scalar type, use `np.float64` here.\n",
      "Deprecated in NumPy 1.20; for more details and guidance: https://numpy.org/devdocs/release/1.20.0-notes.html#deprecations\n",
      "  cs.add_hyperparameter(target_dim)\n",
      "/home/martin/miniconda3/envs/autoML/lib/python3.7/site-packages/autosklearn/pipeline/components/regression/adaboost.py:63: DeprecationWarning: `np.int` is a deprecated alias for the builtin `int`. To silence this warning, use `int` by itself. Doing this will not modify any behavior and is safe. When replacing `np.int`, you may wish to use e.g. `np.int64` or `np.int32` to specify the precision. If you wish to review your current use, check the release note link for additional information.\n",
      "Deprecated in NumPy 1.20; for more details and guidance: https://numpy.org/devdocs/release/1.20.0-notes.html#deprecations\n",
      "  log=False)\n",
      "/home/martin/miniconda3/envs/autoML/lib/python3.7/site-packages/autosklearn/pipeline/components/regression/adaboost.py:71: DeprecationWarning: `np.int` is a deprecated alias for the builtin `int`. To silence this warning, use `int` by itself. Doing this will not modify any behavior and is safe. When replacing `np.int`, you may wish to use e.g. `np.int64` or `np.int32` to specify the precision. If you wish to review your current use, check the release note link for additional information.\n",
      "Deprecated in NumPy 1.20; for more details and guidance: https://numpy.org/devdocs/release/1.20.0-notes.html#deprecations\n",
      "  name=\"max_depth\", lower=1, upper=10, default_value=1, log=False)\n",
      "/home/martin/miniconda3/envs/autoML/lib/python3.7/site-packages/autosklearn/pipeline/components/regression/adaboost.py:73: DeprecationWarning: `np.int` is a deprecated alias for the builtin `int`. To silence this warning, use `int` by itself. Doing this will not modify any behavior and is safe. When replacing `np.int`, you may wish to use e.g. `np.int64` or `np.int32` to specify the precision. If you wish to review your current use, check the release note link for additional information.\n",
      "Deprecated in NumPy 1.20; for more details and guidance: https://numpy.org/devdocs/release/1.20.0-notes.html#deprecations\n",
      "  cs.add_hyperparameters([n_estimators, learning_rate, loss, max_depth])\n",
      "/home/martin/miniconda3/envs/autoML/lib/python3.7/site-packages/autosklearn/pipeline/components/regression/adaboost.py:73: DeprecationWarning: `np.float` is a deprecated alias for the builtin `float`. To silence this warning, use `float` by itself. Doing this will not modify any behavior and is safe. If you specifically wanted the numpy scalar type, use `np.float64` here.\n",
      "Deprecated in NumPy 1.20; for more details and guidance: https://numpy.org/devdocs/release/1.20.0-notes.html#deprecations\n",
      "  cs.add_hyperparameters([n_estimators, learning_rate, loss, max_depth])\n",
      "/home/martin/miniconda3/envs/autoML/lib/python3.7/site-packages/autosklearn/pipeline/components/regression/decision_tree.py:90: DeprecationWarning: `np.int` is a deprecated alias for the builtin `int`. To silence this warning, use `int` by itself. Doing this will not modify any behavior and is safe. When replacing `np.int`, you may wish to use e.g. `np.int64` or `np.int32` to specify the precision. If you wish to review your current use, check the release note link for additional information.\n",
      "Deprecated in NumPy 1.20; for more details and guidance: https://numpy.org/devdocs/release/1.20.0-notes.html#deprecations\n",
      "  \"min_samples_split\", 2, 20, default_value=2)\n",
      "/home/martin/miniconda3/envs/autoML/lib/python3.7/site-packages/autosklearn/pipeline/components/regression/decision_tree.py:92: DeprecationWarning: `np.int` is a deprecated alias for the builtin `int`. To silence this warning, use `int` by itself. Doing this will not modify any behavior and is safe. When replacing `np.int`, you may wish to use e.g. `np.int64` or `np.int32` to specify the precision. If you wish to review your current use, check the release note link for additional information.\n",
      "Deprecated in NumPy 1.20; for more details and guidance: https://numpy.org/devdocs/release/1.20.0-notes.html#deprecations\n",
      "  \"min_samples_leaf\", 1, 20, default_value=1)\n",
      "/home/martin/miniconda3/envs/autoML/lib/python3.7/site-packages/autosklearn/pipeline/components/regression/decision_tree.py:101: DeprecationWarning: `np.int` is a deprecated alias for the builtin `int`. To silence this warning, use `int` by itself. Doing this will not modify any behavior and is safe. When replacing `np.int`, you may wish to use e.g. `np.int64` or `np.int32` to specify the precision. If you wish to review your current use, check the release note link for additional information.\n",
      "Deprecated in NumPy 1.20; for more details and guidance: https://numpy.org/devdocs/release/1.20.0-notes.html#deprecations\n",
      "  min_impurity_decrease])\n",
      "/home/martin/miniconda3/envs/autoML/lib/python3.7/site-packages/autosklearn/pipeline/components/regression/decision_tree.py:101: DeprecationWarning: `np.float` is a deprecated alias for the builtin `float`. To silence this warning, use `float` by itself. Doing this will not modify any behavior and is safe. If you specifically wanted the numpy scalar type, use `np.float64` here.\n",
      "Deprecated in NumPy 1.20; for more details and guidance: https://numpy.org/devdocs/release/1.20.0-notes.html#deprecations\n",
      "  min_impurity_decrease])\n",
      "/home/martin/miniconda3/envs/autoML/lib/python3.7/site-packages/autosklearn/pipeline/components/regression/extra_trees.py:139: DeprecationWarning: `np.int` is a deprecated alias for the builtin `int`. To silence this warning, use `int` by itself. Doing this will not modify any behavior and is safe. When replacing `np.int`, you may wish to use e.g. `np.int64` or `np.int32` to specify the precision. If you wish to review your current use, check the release note link for additional information.\n",
      "Deprecated in NumPy 1.20; for more details and guidance: https://numpy.org/devdocs/release/1.20.0-notes.html#deprecations\n",
      "  \"min_samples_split\", 2, 20, default_value=2)\n",
      "/home/martin/miniconda3/envs/autoML/lib/python3.7/site-packages/autosklearn/pipeline/components/regression/extra_trees.py:141: DeprecationWarning: `np.int` is a deprecated alias for the builtin `int`. To silence this warning, use `int` by itself. Doing this will not modify any behavior and is safe. When replacing `np.int`, you may wish to use e.g. `np.int64` or `np.int32` to specify the precision. If you wish to review your current use, check the release note link for additional information.\n",
      "Deprecated in NumPy 1.20; for more details and guidance: https://numpy.org/devdocs/release/1.20.0-notes.html#deprecations\n",
      "  \"min_samples_leaf\", 1, 20, default_value=1)\n",
      "/home/martin/miniconda3/envs/autoML/lib/python3.7/site-packages/autosklearn/pipeline/components/regression/extra_trees.py:152: DeprecationWarning: `np.int` is a deprecated alias for the builtin `int`. To silence this warning, use `int` by itself. Doing this will not modify any behavior and is safe. When replacing `np.int`, you may wish to use e.g. `np.int64` or `np.int32` to specify the precision. If you wish to review your current use, check the release note link for additional information.\n",
      "Deprecated in NumPy 1.20; for more details and guidance: https://numpy.org/devdocs/release/1.20.0-notes.html#deprecations\n",
      "  bootstrap])\n",
      "/home/martin/miniconda3/envs/autoML/lib/python3.7/site-packages/autosklearn/pipeline/components/regression/extra_trees.py:152: DeprecationWarning: `np.float` is a deprecated alias for the builtin `float`. To silence this warning, use `float` by itself. Doing this will not modify any behavior and is safe. If you specifically wanted the numpy scalar type, use `np.float64` here.\n",
      "Deprecated in NumPy 1.20; for more details and guidance: https://numpy.org/devdocs/release/1.20.0-notes.html#deprecations\n",
      "  bootstrap])\n",
      "/home/martin/miniconda3/envs/autoML/lib/python3.7/site-packages/autosklearn/pipeline/components/regression/gaussian_process.py:71: DeprecationWarning: `np.float` is a deprecated alias for the builtin `float`. To silence this warning, use `float` by itself. Doing this will not modify any behavior and is safe. If you specifically wanted the numpy scalar type, use `np.float64` here.\n",
      "Deprecated in NumPy 1.20; for more details and guidance: https://numpy.org/devdocs/release/1.20.0-notes.html#deprecations\n",
      "  cs.add_hyperparameters([alpha, thetaL, thetaU])\n",
      "/home/martin/miniconda3/envs/autoML/lib/python3.7/site-packages/autosklearn/pipeline/components/regression/k_nearest_neighbors.py:53: DeprecationWarning: `np.int` is a deprecated alias for the builtin `int`. To silence this warning, use `int` by itself. Doing this will not modify any behavior and is safe. When replacing `np.int`, you may wish to use e.g. `np.int64` or `np.int32` to specify the precision. If you wish to review your current use, check the release note link for additional information.\n",
      "Deprecated in NumPy 1.20; for more details and guidance: https://numpy.org/devdocs/release/1.20.0-notes.html#deprecations\n",
      "  name=\"n_neighbors\", lower=1, upper=100, log=True, default_value=1)\n",
      "/home/martin/miniconda3/envs/autoML/lib/python3.7/site-packages/autosklearn/pipeline/components/regression/k_nearest_neighbors.py:58: DeprecationWarning: `np.int` is a deprecated alias for the builtin `int`. To silence this warning, use `int` by itself. Doing this will not modify any behavior and is safe. When replacing `np.int`, you may wish to use e.g. `np.int64` or `np.int32` to specify the precision. If you wish to review your current use, check the release note link for additional information.\n",
      "Deprecated in NumPy 1.20; for more details and guidance: https://numpy.org/devdocs/release/1.20.0-notes.html#deprecations\n",
      "  cs.add_hyperparameters([n_neighbors, weights, p])\n",
      "/home/martin/miniconda3/envs/autoML/lib/python3.7/site-packages/autosklearn/pipeline/components/regression/k_nearest_neighbors.py:58: DeprecationWarning: `np.float` is a deprecated alias for the builtin `float`. To silence this warning, use `float` by itself. Doing this will not modify any behavior and is safe. If you specifically wanted the numpy scalar type, use `np.float64` here.\n",
      "Deprecated in NumPy 1.20; for more details and guidance: https://numpy.org/devdocs/release/1.20.0-notes.html#deprecations\n",
      "  cs.add_hyperparameters([n_neighbors, weights, p])\n",
      "/home/martin/miniconda3/envs/autoML/lib/python3.7/site-packages/autosklearn/pipeline/components/regression/liblinear_svr.py:85: DeprecationWarning: `np.float` is a deprecated alias for the builtin `float`. To silence this warning, use `float` by itself. Doing this will not modify any behavior and is safe. If you specifically wanted the numpy scalar type, use `np.float64` here.\n",
      "Deprecated in NumPy 1.20; for more details and guidance: https://numpy.org/devdocs/release/1.20.0-notes.html#deprecations\n",
      "  intercept_scaling])\n",
      "/home/martin/miniconda3/envs/autoML/lib/python3.7/site-packages/autosklearn/pipeline/components/regression/liblinear_svr.py:91: DeprecationWarning: `np.float` is a deprecated alias for the builtin `float`. To silence this warning, use `float` by itself. Doing this will not modify any behavior and is safe. If you specifically wanted the numpy scalar type, use `np.float64` here.\n",
      "Deprecated in NumPy 1.20; for more details and guidance: https://numpy.org/devdocs/release/1.20.0-notes.html#deprecations\n",
      "  cs.add_forbidden_clause(dual_and_loss)\n",
      "/home/martin/miniconda3/envs/autoML/lib/python3.7/site-packages/autosklearn/pipeline/components/regression/libsvm_svr.py:131: DeprecationWarning: `np.int` is a deprecated alias for the builtin `int`. To silence this warning, use `int` by itself. Doing this will not modify any behavior and is safe. When replacing `np.int`, you may wish to use e.g. `np.int64` or `np.int32` to specify the precision. If you wish to review your current use, check the release note link for additional information.\n",
      "Deprecated in NumPy 1.20; for more details and guidance: https://numpy.org/devdocs/release/1.20.0-notes.html#deprecations\n",
      "  name=\"degree\", lower=2, upper=5, default_value=3)\n",
      "/home/martin/miniconda3/envs/autoML/lib/python3.7/site-packages/autosklearn/pipeline/components/regression/libsvm_svr.py:148: DeprecationWarning: `np.int` is a deprecated alias for the builtin `int`. To silence this warning, use `int` by itself. Doing this will not modify any behavior and is safe. When replacing `np.int`, you may wish to use e.g. `np.int64` or `np.int32` to specify the precision. If you wish to review your current use, check the release note link for additional information.\n",
      "Deprecated in NumPy 1.20; for more details and guidance: https://numpy.org/devdocs/release/1.20.0-notes.html#deprecations\n",
      "  tol, max_iter, epsilon])\n",
      "/home/martin/miniconda3/envs/autoML/lib/python3.7/site-packages/autosklearn/pipeline/components/regression/libsvm_svr.py:148: DeprecationWarning: `np.float` is a deprecated alias for the builtin `float`. To silence this warning, use `float` by itself. Doing this will not modify any behavior and is safe. If you specifically wanted the numpy scalar type, use `np.float64` here.\n",
      "Deprecated in NumPy 1.20; for more details and guidance: https://numpy.org/devdocs/release/1.20.0-notes.html#deprecations\n",
      "  tol, max_iter, epsilon])\n",
      "/home/martin/miniconda3/envs/autoML/lib/python3.7/site-packages/autosklearn/pipeline/components/regression/mlp.py:184: DeprecationWarning: `np.int` is a deprecated alias for the builtin `int`. To silence this warning, use `int` by itself. Doing this will not modify any behavior and is safe. When replacing `np.int`, you may wish to use e.g. `np.int64` or `np.int32` to specify the precision. If you wish to review your current use, check the release note link for additional information.\n",
      "Deprecated in NumPy 1.20; for more details and guidance: https://numpy.org/devdocs/release/1.20.0-notes.html#deprecations\n",
      "  lower=1, upper=3, default_value=1)\n",
      "/home/martin/miniconda3/envs/autoML/lib/python3.7/site-packages/autosklearn/pipeline/components/regression/mlp.py:187: DeprecationWarning: `np.int` is a deprecated alias for the builtin `int`. To silence this warning, use `int` by itself. Doing this will not modify any behavior and is safe. When replacing `np.int`, you may wish to use e.g. `np.int64` or `np.int32` to specify the precision. If you wish to review your current use, check the release note link for additional information.\n",
      "Deprecated in NumPy 1.20; for more details and guidance: https://numpy.org/devdocs/release/1.20.0-notes.html#deprecations\n",
      "  log=True)\n",
      "/home/martin/miniconda3/envs/autoML/lib/python3.7/site-packages/autosklearn/pipeline/components/regression/mlp.py:228: DeprecationWarning: `np.int` is a deprecated alias for the builtin `int`. To silence this warning, use `int` by itself. Doing this will not modify any behavior and is safe. When replacing `np.int`, you may wish to use e.g. `np.int64` or `np.int32` to specify the precision. If you wish to review your current use, check the release note link for additional information.\n",
      "Deprecated in NumPy 1.20; for more details and guidance: https://numpy.org/devdocs/release/1.20.0-notes.html#deprecations\n",
      "  beta_1, beta_2, epsilon])\n",
      "/home/martin/miniconda3/envs/autoML/lib/python3.7/site-packages/autosklearn/pipeline/components/regression/mlp.py:228: DeprecationWarning: `np.float` is a deprecated alias for the builtin `float`. To silence this warning, use `float` by itself. Doing this will not modify any behavior and is safe. If you specifically wanted the numpy scalar type, use `np.float64` here.\n",
      "Deprecated in NumPy 1.20; for more details and guidance: https://numpy.org/devdocs/release/1.20.0-notes.html#deprecations\n",
      "  beta_1, beta_2, epsilon])\n",
      "/home/martin/miniconda3/envs/autoML/lib/python3.7/site-packages/autosklearn/pipeline/components/regression/random_forest.py:129: DeprecationWarning: `np.int` is a deprecated alias for the builtin `int`. To silence this warning, use `int` by itself. Doing this will not modify any behavior and is safe. When replacing `np.int`, you may wish to use e.g. `np.int64` or `np.int32` to specify the precision. If you wish to review your current use, check the release note link for additional information.\n",
      "Deprecated in NumPy 1.20; for more details and guidance: https://numpy.org/devdocs/release/1.20.0-notes.html#deprecations\n",
      "  \"min_samples_split\", 2, 20, default_value=2)\n",
      "/home/martin/miniconda3/envs/autoML/lib/python3.7/site-packages/autosklearn/pipeline/components/regression/random_forest.py:131: DeprecationWarning: `np.int` is a deprecated alias for the builtin `int`. To silence this warning, use `int` by itself. Doing this will not modify any behavior and is safe. When replacing `np.int`, you may wish to use e.g. `np.int64` or `np.int32` to specify the precision. If you wish to review your current use, check the release note link for additional information.\n",
      "Deprecated in NumPy 1.20; for more details and guidance: https://numpy.org/devdocs/release/1.20.0-notes.html#deprecations\n",
      "  \"min_samples_leaf\", 1, 20, default_value=1)\n",
      "/home/martin/miniconda3/envs/autoML/lib/python3.7/site-packages/autosklearn/pipeline/components/regression/random_forest.py:143: DeprecationWarning: `np.int` is a deprecated alias for the builtin `int`. To silence this warning, use `int` by itself. Doing this will not modify any behavior and is safe. When replacing `np.int`, you may wish to use e.g. `np.int64` or `np.int32` to specify the precision. If you wish to review your current use, check the release note link for additional information.\n",
      "Deprecated in NumPy 1.20; for more details and guidance: https://numpy.org/devdocs/release/1.20.0-notes.html#deprecations\n",
      "  min_impurity_decrease, bootstrap])\n",
      "/home/martin/miniconda3/envs/autoML/lib/python3.7/site-packages/autosklearn/pipeline/components/regression/random_forest.py:143: DeprecationWarning: `np.float` is a deprecated alias for the builtin `float`. To silence this warning, use `float` by itself. Doing this will not modify any behavior and is safe. If you specifically wanted the numpy scalar type, use `np.float64` here.\n",
      "Deprecated in NumPy 1.20; for more details and guidance: https://numpy.org/devdocs/release/1.20.0-notes.html#deprecations\n",
      "  min_impurity_decrease, bootstrap])\n"
     ]
    },
    {
     "name": "stderr",
     "output_type": "stream",
     "text": [
      "/home/martin/miniconda3/envs/autoML/lib/python3.7/site-packages/autosklearn/metalearning/metalearning/meta_base.py:50: DeprecationWarning: `np.int` is a deprecated alias for the builtin `int`. To silence this warning, use `int` by itself. Doing this will not modify any behavior and is safe. When replacing `np.int`, you may wish to use e.g. `np.int64` or `np.int32` to specify the precision. If you wish to review your current use, check the release note link for additional information.\n",
      "Deprecated in NumPy 1.20; for more details and guidance: https://numpy.org/devdocs/release/1.20.0-notes.html#deprecations\n",
      "  (Configuration(configuration_space, values=configuration))\n",
      "/home/martin/miniconda3/envs/autoML/lib/python3.7/site-packages/autosklearn/metalearning/metalearning/meta_base.py:50: DeprecationWarning: `np.float` is a deprecated alias for the builtin `float`. To silence this warning, use `float` by itself. Doing this will not modify any behavior and is safe. If you specifically wanted the numpy scalar type, use `np.float64` here.\n",
      "Deprecated in NumPy 1.20; for more details and guidance: https://numpy.org/devdocs/release/1.20.0-notes.html#deprecations\n",
      "  (Configuration(configuration_space, values=configuration))\n",
      "/home/martin/miniconda3/envs/autoML/lib/python3.7/site-packages/autosklearn/metalearning/metalearning/meta_base.py:68: DeprecationWarning: The default dtype for empty Series will be 'object' instead of 'float64' in a future version. Specify a dtype explicitly to silence this warning.\n",
      "  runs = pd.Series([], name=name)\n",
      "/home/martin/miniconda3/envs/autoML/lib/python3.7/site-packages/autosklearn/smbo.py:182: DeprecationWarning: `np.float` is a deprecated alias for the builtin `float`. To silence this warning, use `float` by itself. Doing this will not modify any behavior and is safe. If you specifically wanted the numpy scalar type, use `np.float64` here.\n",
      "Deprecated in NumPy 1.20; for more details and guidance: https://numpy.org/devdocs/release/1.20.0-notes.html#deprecations\n",
      "  default_config = scenario.cs.get_default_configuration()\n",
      "/home/martin/miniconda3/envs/autoML/lib/python3.7/site-packages/sklearn/base.py:315: UserWarning: Trying to unpickle estimator RobustScaler from version 0.24.0 when using version 0.24.2. This might lead to breaking code or invalid results. Use at your own risk.\n",
      "  UserWarning)\n",
      "/home/martin/miniconda3/envs/autoML/lib/python3.7/site-packages/sklearn/base.py:315: UserWarning: Trying to unpickle estimator SimpleImputer from version 0.24.0 when using version 0.24.2. This might lead to breaking code or invalid results. Use at your own risk.\n",
      "  UserWarning)\n",
      "/home/martin/miniconda3/envs/autoML/lib/python3.7/site-packages/sklearn/base.py:315: UserWarning: Trying to unpickle estimator VarianceThreshold from version 0.24.0 when using version 0.24.2. This might lead to breaking code or invalid results. Use at your own risk.\n",
      "  UserWarning)\n",
      "/home/martin/miniconda3/envs/autoML/lib/python3.7/site-packages/sklearn/base.py:315: UserWarning: Trying to unpickle estimator ColumnTransformer from version 0.24.0 when using version 0.24.2. This might lead to breaking code or invalid results. Use at your own risk.\n",
      "  UserWarning)\n",
      "/home/martin/miniconda3/envs/autoML/lib/python3.7/site-packages/sklearn/base.py:315: UserWarning: Trying to unpickle estimator SelectPercentile from version 0.24.0 when using version 0.24.2. This might lead to breaking code or invalid results. Use at your own risk.\n",
      "  UserWarning)\n",
      "/home/martin/miniconda3/envs/autoML/lib/python3.7/site-packages/sklearn/base.py:315: UserWarning: Trying to unpickle estimator ARDRegression from version 0.24.0 when using version 0.24.2. This might lead to breaking code or invalid results. Use at your own risk.\n",
      "  UserWarning)\n",
      "/home/martin/miniconda3/envs/autoML/lib/python3.7/site-packages/sklearn/base.py:315: UserWarning: Trying to unpickle estimator VotingRegressor from version 0.24.0 when using version 0.24.2. This might lead to breaking code or invalid results. Use at your own risk.\n",
      "  UserWarning)\n"
     ]
    },
    {
     "data": {
      "text/plain": [
       "AutoSklearnRegressor(delete_output_folder_after_terminate=False,\n",
       "                     ensemble_nbest=4, ensemble_size=8,\n",
       "                     include_estimators=['gradient_boosting', 'ard_regression',\n",
       "                                         'sgd'],\n",
       "                     max_models_on_disc=16, memory_limit=4096, n_jobs=2,\n",
       "                     output_folder='/tmp/autosklearn_regression_example_out',\n",
       "                     per_run_time_limit=30, resampling_strategy='cv',\n",
       "                     time_left_for_this_task=600,\n",
       "                     tmp_folder='/tmp/autosklearn_regression_example_tmp')"
      ]
     },
     "execution_count": 8,
     "metadata": {},
     "output_type": "execute_result"
    }
   ],
   "source": [
    "automl.fit(X_train, y_train, dataset_name='house-prices')"
   ]
  },
  {
   "cell_type": "code",
   "execution_count": 9,
   "id": "objective-destruction",
   "metadata": {},
   "outputs": [
    {
     "name": "stdout",
     "output_type": "stream",
     "text": [
      "[(0.625000, SimpleRegressionPipeline({'data_preprocessing:categorical_transformer:categorical_encoding:__choice__': 'one_hot_encoding', 'data_preprocessing:categorical_transformer:category_coalescence:__choice__': 'no_coalescense', 'data_preprocessing:numerical_transformer:imputation:strategy': 'mean', 'data_preprocessing:numerical_transformer:rescaling:__choice__': 'robust_scaler', 'feature_preprocessor:__choice__': 'select_percentile_regression', 'regressor:__choice__': 'ard_regression', 'data_preprocessing:numerical_transformer:rescaling:robust_scaler:q_max': 0.7760749320397202, 'data_preprocessing:numerical_transformer:rescaling:robust_scaler:q_min': 0.28724945996048523, 'feature_preprocessor:select_percentile_regression:percentile': 50.0, 'feature_preprocessor:select_percentile_regression:score_func': 'mutual_info', 'regressor:ard_regression:alpha_1': 1e-06, 'regressor:ard_regression:alpha_2': 1.0000000000000004e-06, 'regressor:ard_regression:fit_intercept': 'True', 'regressor:ard_regression:lambda_1': 2.5370351479058053e-08, 'regressor:ard_regression:lambda_2': 1.137905800052067e-07, 'regressor:ard_regression:n_iter': 300, 'regressor:ard_regression:threshold_lambda': 10000.00000000001, 'regressor:ard_regression:tol': 0.0008487507053201007},\n",
      "dataset_properties={\n",
      "  'task': 4,\n",
      "  'sparse': False,\n",
      "  'multioutput': False,\n",
      "  'target_type': 'regression',\n",
      "  'signed': False})),\n",
      "(0.375000, SimpleRegressionPipeline({'data_preprocessing:categorical_transformer:categorical_encoding:__choice__': 'no_encoding', 'data_preprocessing:categorical_transformer:category_coalescence:__choice__': 'minority_coalescer', 'data_preprocessing:numerical_transformer:imputation:strategy': 'most_frequent', 'data_preprocessing:numerical_transformer:rescaling:__choice__': 'robust_scaler', 'feature_preprocessor:__choice__': 'select_percentile_regression', 'regressor:__choice__': 'ard_regression', 'data_preprocessing:categorical_transformer:category_coalescence:minority_coalescer:minimum_fraction': 0.00014899709205673406, 'data_preprocessing:numerical_transformer:rescaling:robust_scaler:q_max': 0.8498515960462831, 'data_preprocessing:numerical_transformer:rescaling:robust_scaler:q_min': 0.2493877412289307, 'feature_preprocessor:select_percentile_regression:percentile': 53.074440365115905, 'feature_preprocessor:select_percentile_regression:score_func': 'mutual_info', 'regressor:ard_regression:alpha_1': 2.7664515192592053e-05, 'regressor:ard_regression:alpha_2': 9.504988116581138e-07, 'regressor:ard_regression:fit_intercept': 'True', 'regressor:ard_regression:lambda_1': 4.184987756432487e-09, 'regressor:ard_regression:lambda_2': 4.238533890074848e-07, 'regressor:ard_regression:n_iter': 300, 'regressor:ard_regression:threshold_lambda': 78251.58542976103, 'regressor:ard_regression:tol': 0.0006951835906397672},\n",
      "dataset_properties={\n",
      "  'task': 4,\n",
      "  'sparse': False,\n",
      "  'multioutput': False,\n",
      "  'target_type': 'regression',\n",
      "  'signed': False})),\n",
      "]\n"
     ]
    },
    {
     "name": "stderr",
     "output_type": "stream",
     "text": [
      "/home/martin/miniconda3/envs/autoML/lib/python3.7/site-packages/ipykernel/ipkernel.py:287: DeprecationWarning: `should_run_async` will not call `transform_cell` automatically in the future. Please pass the result to `transformed_cell` argument and any exception that happen during thetransform in `preprocessing_exc_tuple` in IPython 7.17 and above.\n",
      "  and should_run_async(code)\n"
     ]
    },
    {
     "data": {
      "text/plain": [
       "'0.12.4'"
      ]
     },
     "execution_count": 9,
     "metadata": {},
     "output_type": "execute_result"
    }
   ],
   "source": [
    "print(automl.show_models())\n",
    "\n",
    "autosklearn.__version__"
   ]
  },
  {
   "cell_type": "code",
   "execution_count": 10,
   "id": "forward-gender",
   "metadata": {},
   "outputs": [
    {
     "name": "stdout",
     "output_type": "stream",
     "text": [
      "R2 score: 0.8944212884104441\n",
      "mean-squared-error: 0.14036433928773803\n"
     ]
    }
   ],
   "source": [
    "predictions = automl.predict(X_test)\n",
    "print(\"R2 score:\", sklearn.metrics.r2_score(y_test, predictions))\n",
    "print(\"mean-squared-error:\", sklearn.metrics.mean_squared_error(y_test, predictions, squared=False))"
   ]
  },
  {
   "cell_type": "markdown",
   "id": "capable-bleeding",
   "metadata": {},
   "source": [
    "# autogluon.tabular"
   ]
  },
  {
   "cell_type": "code",
   "execution_count": 11,
   "id": "fifth-starter",
   "metadata": {},
   "outputs": [
    {
     "name": "stderr",
     "output_type": "stream",
     "text": [
      "/home/martin/miniconda3/envs/autoML/lib/python3.7/site-packages/ipykernel/ipkernel.py:287: DeprecationWarning: `should_run_async` will not call `transform_cell` automatically in the future. Please pass the result to `transformed_cell` argument and any exception that happen during thetransform in `preprocessing_exc_tuple` in IPython 7.17 and above.\n",
      "  and should_run_async(code)\n"
     ]
    },
    {
     "name": "stdout",
     "output_type": "stream",
     "text": [
      "Requirement already satisfied: mxnet==1.7.0.post1 in /home/martin/miniconda3/envs/autoML/lib/python3.7/site-packages (1.7.0.post1)\r\n",
      "Requirement already satisfied: numpy<2.0.0,>1.16.0 in /home/martin/miniconda3/envs/autoML/lib/python3.7/site-packages (from mxnet==1.7.0.post1) (1.20.1)\r\n",
      "Requirement already satisfied: graphviz<0.9.0,>=0.8.1 in /home/martin/miniconda3/envs/autoML/lib/python3.7/site-packages (from mxnet==1.7.0.post1) (0.8.4)\r\n",
      "Requirement already satisfied: requests<3,>=2.20.0 in /home/martin/miniconda3/envs/autoML/lib/python3.7/site-packages (from mxnet==1.7.0.post1) (2.25.1)\r\n",
      "Requirement already satisfied: urllib3<1.27,>=1.21.1 in /home/martin/miniconda3/envs/autoML/lib/python3.7/site-packages (from requests<3,>=2.20.0->mxnet==1.7.0.post1) (1.26.4)\r\n",
      "Requirement already satisfied: chardet<5,>=3.0.2 in /home/martin/miniconda3/envs/autoML/lib/python3.7/site-packages (from requests<3,>=2.20.0->mxnet==1.7.0.post1) (4.0.0)\r\n",
      "Requirement already satisfied: certifi>=2017.4.17 in /home/martin/miniconda3/envs/autoML/lib/python3.7/site-packages (from requests<3,>=2.20.0->mxnet==1.7.0.post1) (2020.12.5)\r\n",
      "Requirement already satisfied: idna<3,>=2.5 in /home/martin/miniconda3/envs/autoML/lib/python3.7/site-packages (from requests<3,>=2.20.0->mxnet==1.7.0.post1) (2.10)\r\n"
     ]
    }
   ],
   "source": [
    "!pip install mxnet==1.7.0.post1"
   ]
  },
  {
   "cell_type": "code",
   "execution_count": 12,
   "id": "outstanding-technique",
   "metadata": {},
   "outputs": [
    {
     "name": "stdout",
     "output_type": "stream",
     "text": [
      "Requirement already satisfied: autogluon-core==0.0.16b20210114 in /home/martin/miniconda3/envs/autoML/lib/python3.7/site-packages (0.0.16b20210114)\n",
      "Requirement already satisfied: autogluon-tabular==0.0.16b20210114 in /home/martin/miniconda3/envs/autoML/lib/python3.7/site-packages (0.0.16b20210114)\n",
      "Requirement already satisfied: tornado>=5.0.1 in /home/martin/miniconda3/envs/autoML/lib/python3.7/site-packages (from autogluon-core==0.0.16b20210114) (6.1)\n",
      "Requirement already satisfied: pytest in /home/martin/miniconda3/envs/autoML/lib/python3.7/site-packages (from autogluon-core==0.0.16b20210114) (6.2.2)\n",
      "Requirement already satisfied: ConfigSpace<=0.4.16 in /home/martin/miniconda3/envs/autoML/lib/python3.7/site-packages (from autogluon-core==0.0.16b20210114) (0.4.16)\n",
      "Requirement already satisfied: dill==0.3.3 in /home/martin/miniconda3/envs/autoML/lib/python3.7/site-packages (from autogluon-core==0.0.16b20210114) (0.3.3)\n",
      "Requirement already satisfied: tqdm>=4.38.0 in /home/martin/miniconda3/envs/autoML/lib/python3.7/site-packages (from autogluon-core==0.0.16b20210114) (4.59.0)\n",
      "Requirement already satisfied: scipy<1.5.0,>=1.3.3 in /home/martin/miniconda3/envs/autoML/lib/python3.7/site-packages (from autogluon-core==0.0.16b20210114) (1.4.1)\n",
      "Requirement already satisfied: graphviz<0.9.0,>=0.8.1 in /home/martin/miniconda3/envs/autoML/lib/python3.7/site-packages (from autogluon-core==0.0.16b20210114) (0.8.4)\n",
      "Collecting scikit-learn<0.24,>=0.22.0\n",
      "  Downloading scikit_learn-0.23.2-cp37-cp37m-manylinux1_x86_64.whl (6.8 MB)\n",
      "\u001b[K     |████████████████████████████████| 6.8 MB 1.2 MB/s eta 0:00:01     |███████████████████████████████▌| 6.7 MB 1.3 MB/s eta 0:00:01\n",
      "\u001b[?25hRequirement already satisfied: paramiko>=2.4 in /home/martin/miniconda3/envs/autoML/lib/python3.7/site-packages (from autogluon-core==0.0.16b20210114) (2.7.2)\n",
      "Requirement already satisfied: cython in /home/martin/miniconda3/envs/autoML/lib/python3.7/site-packages (from autogluon-core==0.0.16b20210114) (0.29.22)\n",
      "Requirement already satisfied: pandas<2.0,>=1.0.0 in /home/martin/miniconda3/envs/autoML/lib/python3.7/site-packages (from autogluon-core==0.0.16b20210114) (1.2.3)\n",
      "Requirement already satisfied: boto3 in /home/martin/miniconda3/envs/autoML/lib/python3.7/site-packages (from autogluon-core==0.0.16b20210114) (1.17.33)\n",
      "Requirement already satisfied: numpy>=1.16.0 in /home/martin/miniconda3/envs/autoML/lib/python3.7/site-packages (from autogluon-core==0.0.16b20210114) (1.20.1)\n",
      "Requirement already satisfied: scikit-optimize in /home/martin/miniconda3/envs/autoML/lib/python3.7/site-packages (from autogluon-core==0.0.16b20210114) (0.8.1)\n",
      "Requirement already satisfied: matplotlib in /home/martin/miniconda3/envs/autoML/lib/python3.7/site-packages (from autogluon-core==0.0.16b20210114) (3.3.4)\n",
      "Requirement already satisfied: autograd>=1.3 in /home/martin/miniconda3/envs/autoML/lib/python3.7/site-packages (from autogluon-core==0.0.16b20210114) (1.3)\n",
      "Requirement already satisfied: requests in /home/martin/miniconda3/envs/autoML/lib/python3.7/site-packages (from autogluon-core==0.0.16b20210114) (2.25.1)\n",
      "Requirement already satisfied: dask>=2.6.0 in /home/martin/miniconda3/envs/autoML/lib/python3.7/site-packages (from autogluon-core==0.0.16b20210114) (2021.3.0)\n",
      "Requirement already satisfied: distributed>=2.6.0 in /home/martin/miniconda3/envs/autoML/lib/python3.7/site-packages (from autogluon-core==0.0.16b20210114) (2021.3.0)\n",
      "Requirement already satisfied: gluoncv<1.0,>=0.9.1 in /home/martin/miniconda3/envs/autoML/lib/python3.7/site-packages (from autogluon-tabular==0.0.16b20210114) (0.10.0)\n",
      "Requirement already satisfied: fastai<2.0,>=1.0 in /home/martin/miniconda3/envs/autoML/lib/python3.7/site-packages (from autogluon-tabular==0.0.16b20210114) (1.0.61)\n",
      "Requirement already satisfied: lightgbm<4.0,>=3.0 in /home/martin/miniconda3/envs/autoML/lib/python3.7/site-packages (from autogluon-tabular==0.0.16b20210114) (3.1.1)\n",
      "Requirement already satisfied: networkx<3.0,>=2.3 in /home/martin/miniconda3/envs/autoML/lib/python3.7/site-packages (from autogluon-tabular==0.0.16b20210114) (2.5)\n",
      "Requirement already satisfied: catboost<0.25,>=0.23.0 in /home/martin/miniconda3/envs/autoML/lib/python3.7/site-packages (from autogluon-tabular==0.0.16b20210114) (0.24.4)\n",
      "Requirement already satisfied: torch<2.0,>=1.0 in /home/martin/miniconda3/envs/autoML/lib/python3.7/site-packages (from autogluon-tabular==0.0.16b20210114) (1.8.0)\n",
      "Requirement already satisfied: psutil<=5.7.0,>=5.0.0 in /home/martin/miniconda3/envs/autoML/lib/python3.7/site-packages (from autogluon-tabular==0.0.16b20210114) (5.7.0)\n",
      "Requirement already satisfied: xgboost<1.3,>=1.2 in /home/martin/miniconda3/envs/autoML/lib/python3.7/site-packages (from autogluon-tabular==0.0.16b20210114) (1.2.1)\n",
      "Requirement already satisfied: future>=0.15.2 in /home/martin/miniconda3/envs/autoML/lib/python3.7/site-packages (from autograd>=1.3->autogluon-core==0.0.16b20210114) (0.18.2)\n",
      "Requirement already satisfied: six in /home/martin/miniconda3/envs/autoML/lib/python3.7/site-packages (from catboost<0.25,>=0.23.0->autogluon-tabular==0.0.16b20210114) (1.15.0)\n",
      "Requirement already satisfied: plotly in /home/martin/miniconda3/envs/autoML/lib/python3.7/site-packages (from catboost<0.25,>=0.23.0->autogluon-tabular==0.0.16b20210114) (4.14.3)\n",
      "Requirement already satisfied: pyparsing in /home/martin/miniconda3/envs/autoML/lib/python3.7/site-packages (from ConfigSpace<=0.4.16->autogluon-core==0.0.16b20210114) (2.4.7)\n",
      "Requirement already satisfied: pyyaml in /home/martin/miniconda3/envs/autoML/lib/python3.7/site-packages (from dask>=2.6.0->autogluon-core==0.0.16b20210114) (5.4.1)\n",
      "Requirement already satisfied: zict>=0.1.3 in /home/martin/miniconda3/envs/autoML/lib/python3.7/site-packages (from distributed>=2.6.0->autogluon-core==0.0.16b20210114) (2.0.0)\n",
      "Requirement already satisfied: click>=6.6 in /home/martin/miniconda3/envs/autoML/lib/python3.7/site-packages (from distributed>=2.6.0->autogluon-core==0.0.16b20210114) (7.1.2)\n",
      "Requirement already satisfied: setuptools in /home/martin/miniconda3/envs/autoML/lib/python3.7/site-packages (from distributed>=2.6.0->autogluon-core==0.0.16b20210114) (52.0.0.post20210125)\n",
      "Requirement already satisfied: toolz>=0.8.2 in /home/martin/miniconda3/envs/autoML/lib/python3.7/site-packages (from distributed>=2.6.0->autogluon-core==0.0.16b20210114) (0.11.1)\n",
      "Requirement already satisfied: msgpack>=0.6.0 in /home/martin/miniconda3/envs/autoML/lib/python3.7/site-packages (from distributed>=2.6.0->autogluon-core==0.0.16b20210114) (1.0.2)\n",
      "Requirement already satisfied: cloudpickle>=1.5.0 in /home/martin/miniconda3/envs/autoML/lib/python3.7/site-packages (from distributed>=2.6.0->autogluon-core==0.0.16b20210114) (1.6.0)\n",
      "Requirement already satisfied: sortedcontainers!=2.0.0,!=2.0.1 in /home/martin/miniconda3/envs/autoML/lib/python3.7/site-packages (from distributed>=2.6.0->autogluon-core==0.0.16b20210114) (2.3.0)\n",
      "Requirement already satisfied: tblib>=1.6.0 in /home/martin/miniconda3/envs/autoML/lib/python3.7/site-packages (from distributed>=2.6.0->autogluon-core==0.0.16b20210114) (1.7.0)\n",
      "Requirement already satisfied: bottleneck in /home/martin/miniconda3/envs/autoML/lib/python3.7/site-packages (from fastai<2.0,>=1.0->autogluon-tabular==0.0.16b20210114) (1.3.2)\n",
      "Requirement already satisfied: spacy>=2.0.18 in /home/martin/miniconda3/envs/autoML/lib/python3.7/site-packages (from fastai<2.0,>=1.0->autogluon-tabular==0.0.16b20210114) (3.0.5)\n",
      "Requirement already satisfied: fastprogress>=0.2.1 in /home/martin/miniconda3/envs/autoML/lib/python3.7/site-packages (from fastai<2.0,>=1.0->autogluon-tabular==0.0.16b20210114) (1.0.0)\n",
      "Requirement already satisfied: packaging in /home/martin/miniconda3/envs/autoML/lib/python3.7/site-packages (from fastai<2.0,>=1.0->autogluon-tabular==0.0.16b20210114) (20.9)\n",
      "Requirement already satisfied: beautifulsoup4 in /home/martin/miniconda3/envs/autoML/lib/python3.7/site-packages (from fastai<2.0,>=1.0->autogluon-tabular==0.0.16b20210114) (4.9.3)\n",
      "Requirement already satisfied: Pillow in /home/martin/miniconda3/envs/autoML/lib/python3.7/site-packages (from fastai<2.0,>=1.0->autogluon-tabular==0.0.16b20210114) (8.1.2)\n",
      "Requirement already satisfied: nvidia-ml-py3 in /home/martin/miniconda3/envs/autoML/lib/python3.7/site-packages (from fastai<2.0,>=1.0->autogluon-tabular==0.0.16b20210114) (7.352.0)\n",
      "Requirement already satisfied: torchvision in /home/martin/miniconda3/envs/autoML/lib/python3.7/site-packages (from fastai<2.0,>=1.0->autogluon-tabular==0.0.16b20210114) (0.9.0)\n",
      "Requirement already satisfied: numexpr in /home/martin/miniconda3/envs/autoML/lib/python3.7/site-packages (from fastai<2.0,>=1.0->autogluon-tabular==0.0.16b20210114) (2.7.3)\n",
      "Requirement already satisfied: decord in /home/martin/miniconda3/envs/autoML/lib/python3.7/site-packages (from gluoncv<1.0,>=0.9.1->autogluon-tabular==0.0.16b20210114) (0.5.2)\n",
      "Requirement already satisfied: autocfg in /home/martin/miniconda3/envs/autoML/lib/python3.7/site-packages (from gluoncv<1.0,>=0.9.1->autogluon-tabular==0.0.16b20210114) (0.0.8)\n",
      "Requirement already satisfied: opencv-python in /home/martin/miniconda3/envs/autoML/lib/python3.7/site-packages (from gluoncv<1.0,>=0.9.1->autogluon-tabular==0.0.16b20210114) (4.5.1.48)\n",
      "Requirement already satisfied: portalocker in /home/martin/miniconda3/envs/autoML/lib/python3.7/site-packages (from gluoncv<1.0,>=0.9.1->autogluon-tabular==0.0.16b20210114) (2.2.1)\n",
      "Requirement already satisfied: tensorboardx in /home/martin/miniconda3/envs/autoML/lib/python3.7/site-packages (from gluoncv<1.0,>=0.9.1->autogluon-tabular==0.0.16b20210114) (2.1)\n",
      "Requirement already satisfied: yacs in /home/martin/miniconda3/envs/autoML/lib/python3.7/site-packages (from gluoncv<1.0,>=0.9.1->autogluon-tabular==0.0.16b20210114) (0.1.8)\n"
     ]
    },
    {
     "name": "stdout",
     "output_type": "stream",
     "text": [
      "Requirement already satisfied: wheel in /home/martin/miniconda3/envs/autoML/lib/python3.7/site-packages (from lightgbm<4.0,>=3.0->autogluon-tabular==0.0.16b20210114) (0.36.2)\n",
      "Requirement already satisfied: decorator>=4.3.0 in /home/martin/miniconda3/envs/autoML/lib/python3.7/site-packages (from networkx<3.0,>=2.3->autogluon-tabular==0.0.16b20210114) (4.4.2)\n",
      "Requirement already satisfied: python-dateutil>=2.7.3 in /home/martin/miniconda3/envs/autoML/lib/python3.7/site-packages (from pandas<2.0,>=1.0.0->autogluon-core==0.0.16b20210114) (2.8.1)\n",
      "Requirement already satisfied: pytz>=2017.3 in /home/martin/miniconda3/envs/autoML/lib/python3.7/site-packages (from pandas<2.0,>=1.0.0->autogluon-core==0.0.16b20210114) (2021.1)\n",
      "Requirement already satisfied: bcrypt>=3.1.3 in /home/martin/miniconda3/envs/autoML/lib/python3.7/site-packages (from paramiko>=2.4->autogluon-core==0.0.16b20210114) (3.2.0)\n",
      "Requirement already satisfied: pynacl>=1.0.1 in /home/martin/miniconda3/envs/autoML/lib/python3.7/site-packages (from paramiko>=2.4->autogluon-core==0.0.16b20210114) (1.4.0)\n",
      "Requirement already satisfied: cryptography>=2.5 in /home/martin/miniconda3/envs/autoML/lib/python3.7/site-packages (from paramiko>=2.4->autogluon-core==0.0.16b20210114) (3.4.6)\n",
      "Requirement already satisfied: cffi>=1.1 in /home/martin/miniconda3/envs/autoML/lib/python3.7/site-packages (from bcrypt>=3.1.3->paramiko>=2.4->autogluon-core==0.0.16b20210114) (1.14.5)\n",
      "Requirement already satisfied: pycparser in /home/martin/miniconda3/envs/autoML/lib/python3.7/site-packages (from cffi>=1.1->bcrypt>=3.1.3->paramiko>=2.4->autogluon-core==0.0.16b20210114) (2.20)\n",
      "Requirement already satisfied: threadpoolctl>=2.0.0 in /home/martin/miniconda3/envs/autoML/lib/python3.7/site-packages (from scikit-learn<0.24,>=0.22.0->autogluon-core==0.0.16b20210114) (2.1.0)\n",
      "Requirement already satisfied: joblib>=0.11 in /home/martin/miniconda3/envs/autoML/lib/python3.7/site-packages (from scikit-learn<0.24,>=0.22.0->autogluon-core==0.0.16b20210114) (1.0.1)\n",
      "Requirement already satisfied: pathy>=0.3.5 in /home/martin/miniconda3/envs/autoML/lib/python3.7/site-packages (from spacy>=2.0.18->fastai<2.0,>=1.0->autogluon-tabular==0.0.16b20210114) (0.4.0)\n",
      "Requirement already satisfied: importlib-metadata>=0.20 in /home/martin/miniconda3/envs/autoML/lib/python3.7/site-packages (from spacy>=2.0.18->fastai<2.0,>=1.0->autogluon-tabular==0.0.16b20210114) (3.7.3)\n",
      "Requirement already satisfied: typer<0.4.0,>=0.3.0 in /home/martin/miniconda3/envs/autoML/lib/python3.7/site-packages (from spacy>=2.0.18->fastai<2.0,>=1.0->autogluon-tabular==0.0.16b20210114) (0.3.2)\n",
      "Requirement already satisfied: spacy-legacy<3.1.0,>=3.0.0 in /home/martin/miniconda3/envs/autoML/lib/python3.7/site-packages (from spacy>=2.0.18->fastai<2.0,>=1.0->autogluon-tabular==0.0.16b20210114) (3.0.1)\n",
      "Requirement already satisfied: wasabi<1.1.0,>=0.8.1 in /home/martin/miniconda3/envs/autoML/lib/python3.7/site-packages (from spacy>=2.0.18->fastai<2.0,>=1.0->autogluon-tabular==0.0.16b20210114) (0.8.2)\n",
      "Requirement already satisfied: typing-extensions<4.0.0.0,>=3.7.4 in /home/martin/miniconda3/envs/autoML/lib/python3.7/site-packages (from spacy>=2.0.18->fastai<2.0,>=1.0->autogluon-tabular==0.0.16b20210114) (3.7.4.3)\n",
      "Requirement already satisfied: pydantic<1.8.0,>=1.7.1 in /home/martin/miniconda3/envs/autoML/lib/python3.7/site-packages (from spacy>=2.0.18->fastai<2.0,>=1.0->autogluon-tabular==0.0.16b20210114) (1.7.3)\n",
      "Requirement already satisfied: murmurhash<1.1.0,>=0.28.0 in /home/martin/miniconda3/envs/autoML/lib/python3.7/site-packages (from spacy>=2.0.18->fastai<2.0,>=1.0->autogluon-tabular==0.0.16b20210114) (1.0.5)\n",
      "Requirement already satisfied: preshed<3.1.0,>=3.0.2 in /home/martin/miniconda3/envs/autoML/lib/python3.7/site-packages (from spacy>=2.0.18->fastai<2.0,>=1.0->autogluon-tabular==0.0.16b20210114) (3.0.5)\n",
      "Requirement already satisfied: srsly<3.0.0,>=2.4.0 in /home/martin/miniconda3/envs/autoML/lib/python3.7/site-packages (from spacy>=2.0.18->fastai<2.0,>=1.0->autogluon-tabular==0.0.16b20210114) (2.4.0)\n",
      "Requirement already satisfied: blis<0.8.0,>=0.4.0 in /home/martin/miniconda3/envs/autoML/lib/python3.7/site-packages (from spacy>=2.0.18->fastai<2.0,>=1.0->autogluon-tabular==0.0.16b20210114) (0.7.4)\n",
      "Requirement already satisfied: cymem<2.1.0,>=2.0.2 in /home/martin/miniconda3/envs/autoML/lib/python3.7/site-packages (from spacy>=2.0.18->fastai<2.0,>=1.0->autogluon-tabular==0.0.16b20210114) (2.0.5)\n",
      "Requirement already satisfied: thinc<8.1.0,>=8.0.2 in /home/martin/miniconda3/envs/autoML/lib/python3.7/site-packages (from spacy>=2.0.18->fastai<2.0,>=1.0->autogluon-tabular==0.0.16b20210114) (8.0.2)\n",
      "Requirement already satisfied: catalogue<2.1.0,>=2.0.1 in /home/martin/miniconda3/envs/autoML/lib/python3.7/site-packages (from spacy>=2.0.18->fastai<2.0,>=1.0->autogluon-tabular==0.0.16b20210114) (2.0.1)\n",
      "Requirement already satisfied: jinja2 in /home/martin/miniconda3/envs/autoML/lib/python3.7/site-packages (from spacy>=2.0.18->fastai<2.0,>=1.0->autogluon-tabular==0.0.16b20210114) (2.11.3)\n",
      "Requirement already satisfied: zipp>=0.5 in /home/martin/miniconda3/envs/autoML/lib/python3.7/site-packages (from importlib-metadata>=0.20->spacy>=2.0.18->fastai<2.0,>=1.0->autogluon-tabular==0.0.16b20210114) (3.4.1)\n",
      "Requirement already satisfied: smart-open<4.0.0,>=2.2.0 in /home/martin/miniconda3/envs/autoML/lib/python3.7/site-packages (from pathy>=0.3.5->spacy>=2.0.18->fastai<2.0,>=1.0->autogluon-tabular==0.0.16b20210114) (3.0.0)\n",
      "Requirement already satisfied: idna<3,>=2.5 in /home/martin/miniconda3/envs/autoML/lib/python3.7/site-packages (from requests->autogluon-core==0.0.16b20210114) (2.10)\n",
      "Requirement already satisfied: chardet<5,>=3.0.2 in /home/martin/miniconda3/envs/autoML/lib/python3.7/site-packages (from requests->autogluon-core==0.0.16b20210114) (4.0.0)\n",
      "Requirement already satisfied: certifi>=2017.4.17 in /home/martin/miniconda3/envs/autoML/lib/python3.7/site-packages (from requests->autogluon-core==0.0.16b20210114) (2020.12.5)\n",
      "Requirement already satisfied: urllib3<1.27,>=1.21.1 in /home/martin/miniconda3/envs/autoML/lib/python3.7/site-packages (from requests->autogluon-core==0.0.16b20210114) (1.26.4)\n",
      "Requirement already satisfied: heapdict in /home/martin/miniconda3/envs/autoML/lib/python3.7/site-packages (from zict>=0.1.3->distributed>=2.6.0->autogluon-core==0.0.16b20210114) (1.0.1)\n",
      "Requirement already satisfied: soupsieve>1.2 in /home/martin/miniconda3/envs/autoML/lib/python3.7/site-packages (from beautifulsoup4->fastai<2.0,>=1.0->autogluon-tabular==0.0.16b20210114) (2.2.1)\n",
      "Requirement already satisfied: botocore<1.21.0,>=1.20.33 in /home/martin/miniconda3/envs/autoML/lib/python3.7/site-packages (from boto3->autogluon-core==0.0.16b20210114) (1.20.33)\n",
      "Requirement already satisfied: jmespath<1.0.0,>=0.7.1 in /home/martin/miniconda3/envs/autoML/lib/python3.7/site-packages (from boto3->autogluon-core==0.0.16b20210114) (0.10.0)\n",
      "Requirement already satisfied: s3transfer<0.4.0,>=0.3.0 in /home/martin/miniconda3/envs/autoML/lib/python3.7/site-packages (from boto3->autogluon-core==0.0.16b20210114) (0.3.6)\n",
      "Requirement already satisfied: MarkupSafe>=0.23 in /home/martin/miniconda3/envs/autoML/lib/python3.7/site-packages (from jinja2->spacy>=2.0.18->fastai<2.0,>=1.0->autogluon-tabular==0.0.16b20210114) (1.1.1)\n",
      "Requirement already satisfied: cycler>=0.10 in /home/martin/miniconda3/envs/autoML/lib/python3.7/site-packages (from matplotlib->autogluon-core==0.0.16b20210114) (0.10.0)\n",
      "Requirement already satisfied: kiwisolver>=1.0.1 in /home/martin/miniconda3/envs/autoML/lib/python3.7/site-packages (from matplotlib->autogluon-core==0.0.16b20210114) (1.3.1)\n",
      "Requirement already satisfied: retrying>=1.3.3 in /home/martin/miniconda3/envs/autoML/lib/python3.7/site-packages (from plotly->catboost<0.25,>=0.23.0->autogluon-tabular==0.0.16b20210114) (1.3.3)\n",
      "Requirement already satisfied: attrs>=19.2.0 in /home/martin/miniconda3/envs/autoML/lib/python3.7/site-packages (from pytest->autogluon-core==0.0.16b20210114) (20.3.0)\n",
      "Requirement already satisfied: toml in /home/martin/miniconda3/envs/autoML/lib/python3.7/site-packages (from pytest->autogluon-core==0.0.16b20210114) (0.10.2)\n",
      "Requirement already satisfied: pluggy<1.0.0a1,>=0.12 in /home/martin/miniconda3/envs/autoML/lib/python3.7/site-packages (from pytest->autogluon-core==0.0.16b20210114) (0.13.1)\n",
      "Requirement already satisfied: py>=1.8.2 in /home/martin/miniconda3/envs/autoML/lib/python3.7/site-packages (from pytest->autogluon-core==0.0.16b20210114) (1.10.0)\n",
      "Requirement already satisfied: iniconfig in /home/martin/miniconda3/envs/autoML/lib/python3.7/site-packages (from pytest->autogluon-core==0.0.16b20210114) (1.1.1)\n"
     ]
    },
    {
     "name": "stdout",
     "output_type": "stream",
     "text": [
      "Requirement already satisfied: pyaml>=16.9 in /home/martin/miniconda3/envs/autoML/lib/python3.7/site-packages (from scikit-optimize->autogluon-core==0.0.16b20210114) (20.4.0)\n",
      "Requirement already satisfied: protobuf>=3.8.0 in /home/martin/miniconda3/envs/autoML/lib/python3.7/site-packages (from tensorboardx->gluoncv<1.0,>=0.9.1->autogluon-tabular==0.0.16b20210114) (3.15.6)\n",
      "Installing collected packages: scikit-learn\n",
      "  Attempting uninstall: scikit-learn\n",
      "    Found existing installation: scikit-learn 0.24.0\n",
      "    Uninstalling scikit-learn-0.24.0:\n",
      "      Successfully uninstalled scikit-learn-0.24.0\n",
      "\u001b[31mERROR: pip's dependency resolver does not currently take into account all the packages that are installed. This behaviour is the source of the following dependency conflicts.\n",
      "imbalanced-learn 0.8.0 requires scikit-learn>=0.24, but you have scikit-learn 0.23.2 which is incompatible.\n",
      "auto-sklearn 0.12.4 requires scikit-learn<0.25.0,>=0.24.0, but you have scikit-learn 0.23.2 which is incompatible.\u001b[0m\n",
      "Successfully installed scikit-learn-0.23.2\n"
     ]
    }
   ],
   "source": [
    "!pip install autogluon-core==0.0.16b20210114 autogluon-tabular==0.0.16b20210114"
   ]
  },
  {
   "cell_type": "code",
   "execution_count": 13,
   "id": "domestic-timer",
   "metadata": {},
   "outputs": [
    {
     "name": "stderr",
     "output_type": "stream",
     "text": [
      "/home/martin/miniconda3/envs/autoML/lib/python3.7/site-packages/autograd/numpy/numpy_wrapper.py:20: DeprecationWarning: `np.int` is a deprecated alias for the builtin `int`. To silence this warning, use `int` by itself. Doing this will not modify any behavior and is safe. When replacing `np.int`, you may wish to use e.g. `np.int64` or `np.int32` to specify the precision. If you wish to review your current use, check the release note link for additional information.\n",
      "Deprecated in NumPy 1.20; for more details and guidance: https://numpy.org/devdocs/release/1.20.0-notes.html#deprecations\n",
      "  int_types = {_np.int, _np.int8, _np.int16, _np.int32, _np.int64, _np.integer}\n",
      "/home/martin/miniconda3/envs/autoML/lib/python3.7/site-packages/mxnet/numpy/utils.py:37: DeprecationWarning: `np.bool` is a deprecated alias for the builtin `bool`. To silence this warning, use `bool` by itself. Doing this will not modify any behavior and is safe. If you specifically wanted the numpy scalar type, use `np.bool_` here.\n",
      "Deprecated in NumPy 1.20; for more details and guidance: https://numpy.org/devdocs/release/1.20.0-notes.html#deprecations\n",
      "  bool = onp.bool\n",
      "/home/martin/miniconda3/envs/autoML/lib/python3.7/site-packages/mxnet/numpy/fallback.py:143: DeprecationWarning: In accordance with NEP 32, the function mirr was removed from NumPy version 1.20.  A replacement for this function is available in the numpy_financial library: https://pypi.org/project/numpy-financial\n",
      "  mirr = onp.mirr\n",
      "/home/martin/miniconda3/envs/autoML/lib/python3.7/site-packages/mxnet/numpy/fallback.py:160: DeprecationWarning: In accordance with NEP 32, the function npv was removed from NumPy version 1.20.  A replacement for this function is available in the numpy_financial library: https://pypi.org/project/numpy-financial\n",
      "  npv = onp.npv\n",
      "/home/martin/miniconda3/envs/autoML/lib/python3.7/site-packages/mxnet/numpy/fallback.py:164: DeprecationWarning: In accordance with NEP 32, the function pmt was removed from NumPy version 1.20.  A replacement for this function is available in the numpy_financial library: https://pypi.org/project/numpy-financial\n",
      "  pmt = onp.pmt\n",
      "/home/martin/miniconda3/envs/autoML/lib/python3.7/site-packages/mxnet/numpy/fallback.py:173: DeprecationWarning: In accordance with NEP 32, the function ppmt was removed from NumPy version 1.20.  A replacement for this function is available in the numpy_financial library: https://pypi.org/project/numpy-financial\n",
      "  ppmt = onp.ppmt\n",
      "/home/martin/miniconda3/envs/autoML/lib/python3.7/site-packages/mxnet/numpy/fallback.py:176: DeprecationWarning: In accordance with NEP 32, the function pv was removed from NumPy version 1.20.  A replacement for this function is available in the numpy_financial library: https://pypi.org/project/numpy-financial\n",
      "  pv = onp.pv\n",
      "/home/martin/miniconda3/envs/autoML/lib/python3.7/site-packages/mxnet/numpy/fallback.py:177: DeprecationWarning: In accordance with NEP 32, the function rate was removed from NumPy version 1.20.  A replacement for this function is available in the numpy_financial library: https://pypi.org/project/numpy-financial\n",
      "  rate = onp.rate\n",
      "/home/martin/miniconda3/envs/autoML/lib/python3.7/importlib/_bootstrap.py:219: RuntimeWarning: numpy.ufunc size changed, may indicate binary incompatibility. Expected 192 from C header, got 216 from PyObject\n",
      "  return f(*args, **kwds)\n",
      "/home/martin/miniconda3/envs/autoML/lib/python3.7/site-packages/sklearn/feature_extraction/image.py:172: DeprecationWarning: `np.int` is a deprecated alias for the builtin `int`. To silence this warning, use `int` by itself. Doing this will not modify any behavior and is safe. When replacing `np.int`, you may wish to use e.g. `np.int64` or `np.int32` to specify the precision. If you wish to review your current use, check the release note link for additional information.\n",
      "Deprecated in NumPy 1.20; for more details and guidance: https://numpy.org/devdocs/release/1.20.0-notes.html#deprecations\n",
      "  dtype=np.int):\n",
      "/home/martin/miniconda3/envs/autoML/lib/python3.7/importlib/_bootstrap.py:219: RuntimeWarning: numpy.ufunc size changed, may indicate binary incompatibility. Expected 192 from C header, got 216 from PyObject\n",
      "  return f(*args, **kwds)\n",
      "/home/martin/miniconda3/envs/autoML/lib/python3.7/site-packages/scipy/io/matlab/mio5.py:98: DeprecationWarning: `np.bool` is a deprecated alias for the builtin `bool`. To silence this warning, use `bool` by itself. Doing this will not modify any behavior and is safe. If you specifically wanted the numpy scalar type, use `np.bool_` here.\n",
      "Deprecated in NumPy 1.20; for more details and guidance: https://numpy.org/devdocs/release/1.20.0-notes.html#deprecations\n",
      "  from .mio5_utils import VarReader5\n"
     ]
    }
   ],
   "source": [
    "from autogluon.tabular import TabularPrediction as task\n",
    "label_column = 'class'\n",
    "X_train = pd.concat([X_train, y_train], axis=1)"
   ]
  },
  {
   "cell_type": "code",
   "execution_count": 14,
   "id": "industrial-islam",
   "metadata": {},
   "outputs": [
    {
     "name": "stdout",
     "output_type": "stream",
     "text": [
      "[WARNING] [2021-07-08 08:44:15,467:root] WARNING: Using deprecated argument `time_limits`. Use `time_limit` instead! This will cause an exception in future releases.\n",
      "[WARNING] [2021-07-08 08:44:15,492:root] Warning: `cache_data=False` will disable or limit advanced functionality after training such as feature importance calculations. It is recommended to set `cache_data=True` unless you explicitly wish to not have the data saved to disk.\n",
      "[WARNING] [2021-07-08 08:44:15,496:autogluon.tabular.learner.abstract_learner] Warning: `cache_data=False` will disable or limit advanced functionality after training such as feature importance calculations. It is recommended to set `cache_data=True` unless you explicitly wish to not have the data saved to disk.\n"
     ]
    },
    {
     "name": "stderr",
     "output_type": "stream",
     "text": [
      "/home/martin/miniconda3/envs/autoML/lib/python3.7/site-packages/ipykernel/ipkernel.py:287: DeprecationWarning: `should_run_async` will not call `transform_cell` automatically in the future. Please pass the result to `transformed_cell` argument and any exception that happen during thetransform in `preprocessing_exc_tuple` in IPython 7.17 and above.\n",
      "  and should_run_async(code)\n"
     ]
    },
    {
     "name": "stdout",
     "output_type": "stream",
     "text": [
      "[1000]\ttrain_set's rmse: 0.00456947\tvalid_set's rmse: 0.133531\n",
      "[2000]\ttrain_set's rmse: 0.0010747\tvalid_set's rmse: 0.133358\n",
      "[1000]\ttrain_set's rmse: 0.00732903\tvalid_set's rmse: 0.165941\n",
      "[2000]\ttrain_set's rmse: 0.00174502\tvalid_set's rmse: 0.163439\n",
      "[3000]\ttrain_set's rmse: 0.000438622\tvalid_set's rmse: 0.162985\n",
      "[4000]\ttrain_set's rmse: 0.000112624\tvalid_set's rmse: 0.162895\n",
      "[5000]\ttrain_set's rmse: 2.95958e-05\tvalid_set's rmse: 0.162879\n",
      "[6000]\ttrain_set's rmse: 7.70912e-06\tvalid_set's rmse: 0.162875\n",
      "[7000]\ttrain_set's rmse: 2.05131e-06\tvalid_set's rmse: 0.162874\n",
      "[8000]\ttrain_set's rmse: 5.91651e-07\tvalid_set's rmse: 0.162873\n",
      "[9000]\ttrain_set's rmse: 1.94868e-07\tvalid_set's rmse: 0.162873\n",
      "[10000]\ttrain_set's rmse: 6.65949e-08\tvalid_set's rmse: 0.162873\n",
      "[1000]\ttrain_set's rmse: 0.00491533\tvalid_set's rmse: 0.122266\n",
      "[2000]\ttrain_set's rmse: 0.00101376\tvalid_set's rmse: 0.119548\n",
      "[3000]\ttrain_set's rmse: 0.00023835\tvalid_set's rmse: 0.118962\n",
      "[4000]\ttrain_set's rmse: 5.69615e-05\tvalid_set's rmse: 0.118818\n",
      "[5000]\ttrain_set's rmse: 1.41307e-05\tvalid_set's rmse: 0.118785\n",
      "[6000]\ttrain_set's rmse: 3.49591e-06\tvalid_set's rmse: 0.118779\n",
      "[7000]\ttrain_set's rmse: 8.92567e-07\tvalid_set's rmse: 0.118778\n",
      "[8000]\ttrain_set's rmse: 2.3804e-07\tvalid_set's rmse: 0.118777\n",
      "[9000]\ttrain_set's rmse: 6.51518e-08\tvalid_set's rmse: 0.118777\n",
      "[10000]\ttrain_set's rmse: 1.80519e-08\tvalid_set's rmse: 0.118777\n",
      "[1000]\ttrain_set's rmse: 0.00788461\tvalid_set's rmse: 0.174703\n",
      "[2000]\ttrain_set's rmse: 0.00187286\tvalid_set's rmse: 0.172813\n",
      "[3000]\ttrain_set's rmse: 0.000554974\tvalid_set's rmse: 0.172339\n",
      "[4000]\ttrain_set's rmse: 0.000173655\tvalid_set's rmse: 0.172232\n",
      "[1000]\ttrain_set's rmse: 0.00896266\tvalid_set's rmse: 0.122928\n",
      "[2000]\ttrain_set's rmse: 0.00267546\tvalid_set's rmse: 0.120154\n",
      "[3000]\ttrain_set's rmse: 0.000752284\tvalid_set's rmse: 0.119306\n",
      "[4000]\ttrain_set's rmse: 0.000242538\tvalid_set's rmse: 0.119148\n"
     ]
    },
    {
     "name": "stderr",
     "output_type": "stream",
     "text": [
      "/home/martin/miniconda3/envs/autoML/lib/python3.7/importlib/_bootstrap.py:219: RuntimeWarning: numpy.ufunc size changed, may indicate binary incompatibility. Expected 192 from C header, got 216 from PyObject\n",
      "  return f(*args, **kwds)\n"
     ]
    },
    {
     "name": "stdout",
     "output_type": "stream",
     "text": [
      "[1000]\ttrain_set's rmse: 0.000442992\tvalid_set's rmse: 0.179714\n",
      "[2000]\ttrain_set's rmse: 1.36068e-05\tvalid_set's rmse: 0.179674\n",
      "[1000]\ttrain_set's rmse: 0.0052852\tvalid_set's rmse: 0.153197\n",
      "[2000]\ttrain_set's rmse: 0.000943732\tvalid_set's rmse: 0.152956\n",
      "[3000]\ttrain_set's rmse: 0.000216624\tvalid_set's rmse: 0.152796\n",
      "[4000]\ttrain_set's rmse: 6.47335e-05\tvalid_set's rmse: 0.152741\n",
      "[5000]\ttrain_set's rmse: 2.42404e-05\tvalid_set's rmse: 0.152729\n",
      "[6000]\ttrain_set's rmse: 8.29404e-06\tvalid_set's rmse: 0.152727\n",
      "[7000]\ttrain_set's rmse: 3.20374e-06\tvalid_set's rmse: 0.152727\n",
      "[8000]\ttrain_set's rmse: 1.1156e-06\tvalid_set's rmse: 0.152726\n",
      "[9000]\ttrain_set's rmse: 3.32339e-07\tvalid_set's rmse: 0.152726\n",
      "[1000]\ttrain_set's rmse: 0.00837283\tvalid_set's rmse: 0.150451\n",
      "[2000]\ttrain_set's rmse: 0.0018469\tvalid_set's rmse: 0.148982\n",
      "[3000]\ttrain_set's rmse: 0.000455694\tvalid_set's rmse: 0.148602\n",
      "[4000]\ttrain_set's rmse: 0.000124136\tvalid_set's rmse: 0.148497\n",
      "[5000]\ttrain_set's rmse: 3.47122e-05\tvalid_set's rmse: 0.148474\n",
      "[6000]\ttrain_set's rmse: 8.63134e-06\tvalid_set's rmse: 0.14847\n",
      "[7000]\ttrain_set's rmse: 1.90755e-06\tvalid_set's rmse: 0.148469\n",
      "[1000]\ttrain_set's rmse: 0.0065787\tvalid_set's rmse: 0.0994657\n",
      "[2000]\ttrain_set's rmse: 0.00131256\tvalid_set's rmse: 0.0990827\n",
      "[1000]\ttrain_set's rmse: 0.00583988\tvalid_set's rmse: 0.15883\n",
      "[2000]\ttrain_set's rmse: 0.000956697\tvalid_set's rmse: 0.157369\n",
      "[3000]\ttrain_set's rmse: 0.000199869\tvalid_set's rmse: 0.157134\n",
      "[4000]\ttrain_set's rmse: 4.65814e-05\tvalid_set's rmse: 0.157098\n",
      "[5000]\ttrain_set's rmse: 1.16169e-05\tvalid_set's rmse: 0.157092\n",
      "[6000]\ttrain_set's rmse: 2.92213e-06\tvalid_set's rmse: 0.157091\n",
      "[7000]\ttrain_set's rmse: 7.52577e-07\tvalid_set's rmse: 0.157091\n",
      "[1000]\ttrain_set's rmse: 0.00567891\tvalid_set's rmse: 0.111206\n",
      "[2000]\ttrain_set's rmse: 0.00120036\tvalid_set's rmse: 0.110308\n",
      "[3000]\ttrain_set's rmse: 0.000223101\tvalid_set's rmse: 0.110172\n",
      "[4000]\ttrain_set's rmse: 5.09838e-05\tvalid_set's rmse: 0.110159\n",
      "[1000]\ttrain_set's rmse: 0.00713977\tvalid_set's rmse: 0.118791\n",
      "[2000]\ttrain_set's rmse: 0.00129369\tvalid_set's rmse: 0.117534\n",
      "[3000]\ttrain_set's rmse: 0.00033709\tvalid_set's rmse: 0.117265\n",
      "[4000]\ttrain_set's rmse: 7.92505e-05\tvalid_set's rmse: 0.117213\n",
      "[1000]\ttrain_set's rmse: 0.00666311\tvalid_set's rmse: 0.139394\n",
      "*** Summary of fit() ***\n",
      "Estimated performance of each model:\n",
      "                     model  score_val  pred_time_val    fit_time  pred_time_val_marginal  fit_time_marginal  stack_level  can_infer  fit_order\n",
      "0      WeightedEnsemble_L1  -0.118848       0.728455   94.146286                0.000734           0.421075            1       True          9\n",
      "1          CatBoost_BAG_L0  -0.121112       0.085803   33.968914                0.085803          33.968914            0       True          6\n",
      "2      WeightedEnsemble_L2  -0.121711       9.320919  392.309715                0.000561           0.425385            2       True         18\n",
      "3          CatBoost_BAG_L1  -0.122422       4.255704  202.660008                0.305350          53.031017            1       True         15\n",
      "4          LightGBM_BAG_L1  -0.123874       4.203236  192.231599                0.252882          42.602608            1       True         13\n",
      "5   RandomForestMSE_BAG_L1  -0.125688       8.469638  256.263381                4.519284         106.634391            1       True         10\n",
      "6           XGBoost_BAG_L0  -0.125811       0.069272    9.437428                0.069272           9.437428            0       True          7\n",
      "7        LightGBMXT_BAG_L1  -0.125846       4.242841  189.616313                0.292487          39.987322            1       True         14\n",
      "8        LightGBMXT_BAG_L0  -0.127079       0.132108   14.073735                0.132108          14.073735            0       True          5\n",
      "9           XGBoost_BAG_L1  -0.127194       4.210376  169.445258                0.260022          19.816267            1       True         16\n",
      "10   LightGBMCustom_BAG_L1  -0.127580       4.137656  211.491974                0.187302          61.862984            1       True         17\n",
      "11         LightGBM_BAG_L0  -0.129466       0.440538   36.245133                0.440538          36.245133            0       True          4\n",
      "12   LightGBMCustom_BAG_L0  -0.142634       0.086596   34.683249                0.086596          34.683249            0       True          8\n",
      "13  RandomForestMSE_BAG_L0  -0.146803       1.058579   21.068578                1.058579          21.068578            0       True          1\n",
      "14   KNeighborsDist_BAG_L1  -0.228129       8.116056  149.958992                4.165702           0.330002            1       True         12\n",
      "15   KNeighborsUnif_BAG_L1  -0.229783       8.118420  149.960706                4.168066           0.331715            1       True         11\n",
      "16   KNeighborsDist_BAG_L0  -0.232939       1.038256    0.074053                1.038256           0.074053            0       True          3\n",
      "17   KNeighborsUnif_BAG_L0  -0.234407       1.039201    0.077900                1.039201           0.077900            0       True          2\n",
      "Number of models trained: 18\n",
      "Types of models trained:\n",
      "{'StackerEnsembleModel_XGBoost', 'StackerEnsembleModel_CatBoost', 'WeightedEnsembleModel', 'StackerEnsembleModel_LGB', 'StackerEnsembleModel_RF', 'StackerEnsembleModel_KNN'}\n",
      "Bagging used: True  (with 10 folds)\n",
      "Multi-layer stack-ensembling used: True  (with 2 levels)\n",
      "Hyperparameter-tuning used: False \n",
      "Feature Metadata (Processed):\n",
      "(raw dtype, special dtypes):\n",
      "('float', []) :   3 | ['LotFrontage', 'MasVnrArea', 'GarageYrBlt']\n",
      "('int', [])   : 299 | ['MSZoning_C (all)', 'MSZoning_FV', 'MSZoning_RH', 'MSZoning_RL', 'MSZoning_RM', ...]\n",
      "*** End of fit() summary ***\n"
     ]
    },
    {
     "name": "stderr",
     "output_type": "stream",
     "text": [
      "/home/martin/miniconda3/envs/autoML/lib/python3.7/site-packages/autogluon/core/utils/plots.py:141: UserWarning: AutoGluon summary plots cannot be created because bokeh is not installed. To see plots, please do: \"pip install bokeh==2.0.1\"\n",
      "  warnings.warn('AutoGluon summary plots cannot be created because bokeh is not installed. To see plots, please do: \"pip install bokeh==2.0.1\"')\n"
     ]
    },
    {
     "data": {
      "text/plain": [
       "{'model_types': {'RandomForestMSE_BAG_L0': 'StackerEnsembleModel_RF',\n",
       "  'KNeighborsUnif_BAG_L0': 'StackerEnsembleModel_KNN',\n",
       "  'KNeighborsDist_BAG_L0': 'StackerEnsembleModel_KNN',\n",
       "  'LightGBM_BAG_L0': 'StackerEnsembleModel_LGB',\n",
       "  'LightGBMXT_BAG_L0': 'StackerEnsembleModel_LGB',\n",
       "  'CatBoost_BAG_L0': 'StackerEnsembleModel_CatBoost',\n",
       "  'XGBoost_BAG_L0': 'StackerEnsembleModel_XGBoost',\n",
       "  'LightGBMCustom_BAG_L0': 'StackerEnsembleModel_LGB',\n",
       "  'WeightedEnsemble_L1': 'WeightedEnsembleModel',\n",
       "  'RandomForestMSE_BAG_L1': 'StackerEnsembleModel_RF',\n",
       "  'KNeighborsUnif_BAG_L1': 'StackerEnsembleModel_KNN',\n",
       "  'KNeighborsDist_BAG_L1': 'StackerEnsembleModel_KNN',\n",
       "  'LightGBM_BAG_L1': 'StackerEnsembleModel_LGB',\n",
       "  'LightGBMXT_BAG_L1': 'StackerEnsembleModel_LGB',\n",
       "  'CatBoost_BAG_L1': 'StackerEnsembleModel_CatBoost',\n",
       "  'XGBoost_BAG_L1': 'StackerEnsembleModel_XGBoost',\n",
       "  'LightGBMCustom_BAG_L1': 'StackerEnsembleModel_LGB',\n",
       "  'WeightedEnsemble_L2': 'WeightedEnsembleModel'},\n",
       " 'model_performance': {'RandomForestMSE_BAG_L0': -0.14680348763546588,\n",
       "  'KNeighborsUnif_BAG_L0': -0.23440669073635853,\n",
       "  'KNeighborsDist_BAG_L0': -0.23293947678590082,\n",
       "  'LightGBM_BAG_L0': -0.12946567427783584,\n",
       "  'LightGBMXT_BAG_L0': -0.12707891182260622,\n",
       "  'CatBoost_BAG_L0': -0.1211119657240855,\n",
       "  'XGBoost_BAG_L0': -0.1258106832414674,\n",
       "  'LightGBMCustom_BAG_L0': -0.14263430523021123,\n",
       "  'WeightedEnsemble_L1': -0.11884846917987332,\n",
       "  'RandomForestMSE_BAG_L1': -0.1256879507788052,\n",
       "  'KNeighborsUnif_BAG_L1': -0.22978333174346097,\n",
       "  'KNeighborsDist_BAG_L1': -0.2281290973424551,\n",
       "  'LightGBM_BAG_L1': -0.1238736804287228,\n",
       "  'LightGBMXT_BAG_L1': -0.12584597914732062,\n",
       "  'CatBoost_BAG_L1': -0.1224217909704758,\n",
       "  'XGBoost_BAG_L1': -0.12719363087673202,\n",
       "  'LightGBMCustom_BAG_L1': -0.12757988103433385,\n",
       "  'WeightedEnsemble_L2': -0.12171122369204145},\n",
       " 'model_best': 'WeightedEnsemble_L1',\n",
       " 'model_paths': {'RandomForestMSE_BAG_L0': '/tmp/autogluon_regression_example_tmp/models/RandomForestMSE_BAG_L0/',\n",
       "  'KNeighborsUnif_BAG_L0': '/tmp/autogluon_regression_example_tmp/models/KNeighborsUnif_BAG_L0/',\n",
       "  'KNeighborsDist_BAG_L0': '/tmp/autogluon_regression_example_tmp/models/KNeighborsDist_BAG_L0/',\n",
       "  'LightGBM_BAG_L0': '/tmp/autogluon_regression_example_tmp/models/LightGBM_BAG_L0/',\n",
       "  'LightGBMXT_BAG_L0': '/tmp/autogluon_regression_example_tmp/models/LightGBMXT_BAG_L0/',\n",
       "  'CatBoost_BAG_L0': '/tmp/autogluon_regression_example_tmp/models/CatBoost_BAG_L0/',\n",
       "  'XGBoost_BAG_L0': '/tmp/autogluon_regression_example_tmp/models/XGBoost_BAG_L0/',\n",
       "  'LightGBMCustom_BAG_L0': '/tmp/autogluon_regression_example_tmp/models/LightGBMCustom_BAG_L0/',\n",
       "  'WeightedEnsemble_L1': '/tmp/autogluon_regression_example_tmp/models/WeightedEnsemble_L1/',\n",
       "  'RandomForestMSE_BAG_L1': '/tmp/autogluon_regression_example_tmp/models/RandomForestMSE_BAG_L1/',\n",
       "  'KNeighborsUnif_BAG_L1': '/tmp/autogluon_regression_example_tmp/models/KNeighborsUnif_BAG_L1/',\n",
       "  'KNeighborsDist_BAG_L1': '/tmp/autogluon_regression_example_tmp/models/KNeighborsDist_BAG_L1/',\n",
       "  'LightGBM_BAG_L1': '/tmp/autogluon_regression_example_tmp/models/LightGBM_BAG_L1/',\n",
       "  'LightGBMXT_BAG_L1': '/tmp/autogluon_regression_example_tmp/models/LightGBMXT_BAG_L1/',\n",
       "  'CatBoost_BAG_L1': '/tmp/autogluon_regression_example_tmp/models/CatBoost_BAG_L1/',\n",
       "  'XGBoost_BAG_L1': '/tmp/autogluon_regression_example_tmp/models/XGBoost_BAG_L1/',\n",
       "  'LightGBMCustom_BAG_L1': '/tmp/autogluon_regression_example_tmp/models/LightGBMCustom_BAG_L1/',\n",
       "  'WeightedEnsemble_L2': '/tmp/autogluon_regression_example_tmp/models/WeightedEnsemble_L2/'},\n",
       " 'model_fit_times': {'RandomForestMSE_BAG_L0': 21.068578004837036,\n",
       "  'KNeighborsUnif_BAG_L0': 0.07790017127990723,\n",
       "  'KNeighborsDist_BAG_L0': 0.07405304908752441,\n",
       "  'LightGBM_BAG_L0': 36.24513292312622,\n",
       "  'LightGBMXT_BAG_L0': 14.073734998703003,\n",
       "  'CatBoost_BAG_L0': 33.968914270401,\n",
       "  'XGBoost_BAG_L0': 9.43742847442627,\n",
       "  'LightGBMCustom_BAG_L0': 34.68324875831604,\n",
       "  'WeightedEnsemble_L1': 0.42107534408569336,\n",
       "  'RandomForestMSE_BAG_L1': 106.63439083099365,\n",
       "  'KNeighborsUnif_BAG_L1': 0.3317148685455322,\n",
       "  'KNeighborsDist_BAG_L1': 0.3300018310546875,\n",
       "  'LightGBM_BAG_L1': 42.60260844230652,\n",
       "  'LightGBMXT_BAG_L1': 39.987322092056274,\n",
       "  'CatBoost_BAG_L1': 53.0310173034668,\n",
       "  'XGBoost_BAG_L1': 19.816267490386963,\n",
       "  'LightGBMCustom_BAG_L1': 61.86298370361328,\n",
       "  'WeightedEnsemble_L2': 0.4253852367401123},\n",
       " 'model_pred_times': {'RandomForestMSE_BAG_L0': 1.0585789680480957,\n",
       "  'KNeighborsUnif_BAG_L0': 1.039201021194458,\n",
       "  'KNeighborsDist_BAG_L0': 1.0382564067840576,\n",
       "  'LightGBM_BAG_L0': 0.4405384063720703,\n",
       "  'LightGBMXT_BAG_L0': 0.13210773468017578,\n",
       "  'CatBoost_BAG_L0': 0.08580327033996582,\n",
       "  'XGBoost_BAG_L0': 0.06927204132080078,\n",
       "  'LightGBMCustom_BAG_L0': 0.08659625053405762,\n",
       "  'WeightedEnsemble_L1': 0.0007336139678955078,\n",
       "  'RandomForestMSE_BAG_L1': 4.519284248352051,\n",
       "  'KNeighborsUnif_BAG_L1': 4.168065786361694,\n",
       "  'KNeighborsDist_BAG_L1': 4.165701866149902,\n",
       "  'LightGBM_BAG_L1': 0.2528822422027588,\n",
       "  'LightGBMXT_BAG_L1': 0.29248714447021484,\n",
       "  'CatBoost_BAG_L1': 0.30535006523132324,\n",
       "  'XGBoost_BAG_L1': 0.2600221633911133,\n",
       "  'LightGBMCustom_BAG_L1': 0.1873016357421875,\n",
       "  'WeightedEnsemble_L2': 0.000560760498046875},\n",
       " 'num_bagging_folds': 10,\n",
       " 'max_stack_level': 2,\n",
       " 'feature_prune': False,\n",
       " 'hyperparameter_tune': False,\n",
       " 'model_hyperparams': {'RandomForestMSE_BAG_L0': {'use_orig_features': True,\n",
       "   'max_base_models': 25,\n",
       "   'max_base_models_per_type': 5},\n",
       "  'KNeighborsUnif_BAG_L0': {'use_orig_features': True,\n",
       "   'max_base_models': 25,\n",
       "   'max_base_models_per_type': 5},\n",
       "  'KNeighborsDist_BAG_L0': {'use_orig_features': True,\n",
       "   'max_base_models': 25,\n",
       "   'max_base_models_per_type': 5},\n",
       "  'LightGBM_BAG_L0': {'use_orig_features': True,\n",
       "   'max_base_models': 25,\n",
       "   'max_base_models_per_type': 5},\n",
       "  'LightGBMXT_BAG_L0': {'use_orig_features': True,\n",
       "   'max_base_models': 25,\n",
       "   'max_base_models_per_type': 5},\n",
       "  'CatBoost_BAG_L0': {'use_orig_features': True,\n",
       "   'max_base_models': 25,\n",
       "   'max_base_models_per_type': 5},\n",
       "  'XGBoost_BAG_L0': {'use_orig_features': True,\n",
       "   'max_base_models': 25,\n",
       "   'max_base_models_per_type': 5},\n",
       "  'LightGBMCustom_BAG_L0': {'use_orig_features': True,\n",
       "   'max_base_models': 25,\n",
       "   'max_base_models_per_type': 5},\n",
       "  'WeightedEnsemble_L1': {'use_orig_features': False,\n",
       "   'max_base_models': 25,\n",
       "   'max_base_models_per_type': 5},\n",
       "  'RandomForestMSE_BAG_L1': {'use_orig_features': True,\n",
       "   'max_base_models': 25,\n",
       "   'max_base_models_per_type': 5},\n",
       "  'KNeighborsUnif_BAG_L1': {'use_orig_features': True,\n",
       "   'max_base_models': 25,\n",
       "   'max_base_models_per_type': 5},\n",
       "  'KNeighborsDist_BAG_L1': {'use_orig_features': True,\n",
       "   'max_base_models': 25,\n",
       "   'max_base_models_per_type': 5},\n",
       "  'LightGBM_BAG_L1': {'use_orig_features': True,\n",
       "   'max_base_models': 25,\n",
       "   'max_base_models_per_type': 5},\n",
       "  'LightGBMXT_BAG_L1': {'use_orig_features': True,\n",
       "   'max_base_models': 25,\n",
       "   'max_base_models_per_type': 5},\n",
       "  'CatBoost_BAG_L1': {'use_orig_features': True,\n",
       "   'max_base_models': 25,\n",
       "   'max_base_models_per_type': 5},\n",
       "  'XGBoost_BAG_L1': {'use_orig_features': True,\n",
       "   'max_base_models': 25,\n",
       "   'max_base_models_per_type': 5},\n",
       "  'LightGBMCustom_BAG_L1': {'use_orig_features': True,\n",
       "   'max_base_models': 25,\n",
       "   'max_base_models_per_type': 5},\n",
       "  'WeightedEnsemble_L2': {'use_orig_features': False,\n",
       "   'max_base_models': 25,\n",
       "   'max_base_models_per_type': 5}},\n",
       " 'leaderboard':                      model  score_val  pred_time_val    fit_time  \\\n",
       " 0      WeightedEnsemble_L1  -0.118848       0.728455   94.146286   \n",
       " 1          CatBoost_BAG_L0  -0.121112       0.085803   33.968914   \n",
       " 2      WeightedEnsemble_L2  -0.121711       9.320919  392.309715   \n",
       " 3          CatBoost_BAG_L1  -0.122422       4.255704  202.660008   \n",
       " 4          LightGBM_BAG_L1  -0.123874       4.203236  192.231599   \n",
       " 5   RandomForestMSE_BAG_L1  -0.125688       8.469638  256.263381   \n",
       " 6           XGBoost_BAG_L0  -0.125811       0.069272    9.437428   \n",
       " 7        LightGBMXT_BAG_L1  -0.125846       4.242841  189.616313   \n",
       " 8        LightGBMXT_BAG_L0  -0.127079       0.132108   14.073735   \n",
       " 9           XGBoost_BAG_L1  -0.127194       4.210376  169.445258   \n",
       " 10   LightGBMCustom_BAG_L1  -0.127580       4.137656  211.491974   \n",
       " 11         LightGBM_BAG_L0  -0.129466       0.440538   36.245133   \n",
       " 12   LightGBMCustom_BAG_L0  -0.142634       0.086596   34.683249   \n",
       " 13  RandomForestMSE_BAG_L0  -0.146803       1.058579   21.068578   \n",
       " 14   KNeighborsDist_BAG_L1  -0.228129       8.116056  149.958992   \n",
       " 15   KNeighborsUnif_BAG_L1  -0.229783       8.118420  149.960706   \n",
       " 16   KNeighborsDist_BAG_L0  -0.232939       1.038256    0.074053   \n",
       " 17   KNeighborsUnif_BAG_L0  -0.234407       1.039201    0.077900   \n",
       " \n",
       "     pred_time_val_marginal  fit_time_marginal  stack_level  can_infer  \\\n",
       " 0                 0.000734           0.421075            1       True   \n",
       " 1                 0.085803          33.968914            0       True   \n",
       " 2                 0.000561           0.425385            2       True   \n",
       " 3                 0.305350          53.031017            1       True   \n",
       " 4                 0.252882          42.602608            1       True   \n",
       " 5                 4.519284         106.634391            1       True   \n",
       " 6                 0.069272           9.437428            0       True   \n",
       " 7                 0.292487          39.987322            1       True   \n",
       " 8                 0.132108          14.073735            0       True   \n",
       " 9                 0.260022          19.816267            1       True   \n",
       " 10                0.187302          61.862984            1       True   \n",
       " 11                0.440538          36.245133            0       True   \n",
       " 12                0.086596          34.683249            0       True   \n",
       " 13                1.058579          21.068578            0       True   \n",
       " 14                4.165702           0.330002            1       True   \n",
       " 15                4.168066           0.331715            1       True   \n",
       " 16                1.038256           0.074053            0       True   \n",
       " 17                1.039201           0.077900            0       True   \n",
       " \n",
       "     fit_order  \n",
       " 0           9  \n",
       " 1           6  \n",
       " 2          18  \n",
       " 3          15  \n",
       " 4          13  \n",
       " 5          10  \n",
       " 6           7  \n",
       " 7          14  \n",
       " 8           5  \n",
       " 9          16  \n",
       " 10         17  \n",
       " 11          4  \n",
       " 12          8  \n",
       " 13          1  \n",
       " 14         12  \n",
       " 15         11  \n",
       " 16          3  \n",
       " 17          2  }"
      ]
     },
     "execution_count": 14,
     "metadata": {},
     "output_type": "execute_result"
    }
   ],
   "source": [
    "predictor = task.fit(train_data=X_train, label='SalePrice',\n",
    "                    time_limits=600, output_directory='/tmp/autogluon_regression_example_tmp',\n",
    "                    presets='best_quality', problem_type='regression',\n",
    "                    eval_metric='root_mean_squared_error', auto_stack=True, save_space=True,\n",
    "                    cache_data=False,\n",
    "                    excluded_model_types = ['XT', 'NN', 'FASTAI'],\n",
    "                    nthreads_per_trial=2)\n",
    "y_pred = predictor.predict(X_test)\n",
    "perf = predictor.evaluate_predictions(y_true=y_test, y_pred=y_pred)\n",
    "predictor.fit_summary()"
   ]
  },
  {
   "cell_type": "code",
   "execution_count": 15,
   "id": "competitive-serbia",
   "metadata": {},
   "outputs": [
    {
     "name": "stderr",
     "output_type": "stream",
     "text": [
      "/home/martin/miniconda3/envs/autoML/lib/python3.7/site-packages/ipykernel/ipkernel.py:287: DeprecationWarning: `should_run_async` will not call `transform_cell` automatically in the future. Please pass the result to `transformed_cell` argument and any exception that happen during thetransform in `preprocessing_exc_tuple` in IPython 7.17 and above.\n",
      "  and should_run_async(code)\n"
     ]
    },
    {
     "data": {
      "text/plain": [
       "0.13033138813696107"
      ]
     },
     "execution_count": 15,
     "metadata": {},
     "output_type": "execute_result"
    }
   ],
   "source": [
    "perf"
   ]
  },
  {
   "cell_type": "markdown",
   "id": "filled-accessory",
   "metadata": {},
   "source": [
    "# Scikit-Optimize"
   ]
  },
  {
   "cell_type": "markdown",
   "id": "voluntary-flower",
   "metadata": {},
   "source": [
    "Probably you'll have to reload the notebook for the changes being in place. Scikit-Optimize works only with sklearn 0.23.2"
   ]
  },
  {
   "cell_type": "code",
   "execution_count": 16,
   "id": "otherwise-blend",
   "metadata": {},
   "outputs": [
    {
     "name": "stdout",
     "output_type": "stream",
     "text": [
      "Requirement already satisfied: scikit-learn==0.23.2 in /home/martin/miniconda3/envs/autoML/lib/python3.7/site-packages (0.23.2)\r\n",
      "Requirement already satisfied: scipy>=0.19.1 in /home/martin/miniconda3/envs/autoML/lib/python3.7/site-packages (from scikit-learn==0.23.2) (1.4.1)\r\n",
      "Requirement already satisfied: numpy>=1.13.3 in /home/martin/miniconda3/envs/autoML/lib/python3.7/site-packages (from scikit-learn==0.23.2) (1.20.1)\r\n",
      "Requirement already satisfied: joblib>=0.11 in /home/martin/miniconda3/envs/autoML/lib/python3.7/site-packages (from scikit-learn==0.23.2) (1.0.1)\r\n",
      "Requirement already satisfied: threadpoolctl>=2.0.0 in /home/martin/miniconda3/envs/autoML/lib/python3.7/site-packages (from scikit-learn==0.23.2) (2.1.0)\r\n"
     ]
    }
   ],
   "source": [
    "!pip install scikit-learn==0.23.2"
   ]
  },
  {
   "cell_type": "code",
   "execution_count": 3,
   "id": "powerful-glasgow",
   "metadata": {},
   "outputs": [
    {
     "data": {
      "text/plain": [
       "'0.8.1'"
      ]
     },
     "metadata": {},
     "output_type": "display_data"
    },
    {
     "data": {
      "text/plain": [
       "'0.23.2'"
      ]
     },
     "metadata": {},
     "output_type": "display_data"
    }
   ],
   "source": [
    "import skopt\n",
    "import importlib\n",
    "display(skopt.__version__)\n",
    "importlib.reload(sklearn)\n",
    "display(sklearn.__version__)"
   ]
  },
  {
   "cell_type": "markdown",
   "id": "asian-onion",
   "metadata": {},
   "source": [
    "Since BayesSearchCV can not deal with missing values, we have to impute them before:"
   ]
  },
  {
   "cell_type": "code",
   "execution_count": 25,
   "id": "worldwide-disease",
   "metadata": {},
   "outputs": [
    {
     "name": "stderr",
     "output_type": "stream",
     "text": [
      "/home/martin/miniconda3/envs/autoML/lib/python3.7/site-packages/pandas/core/indexing.py:1738: SettingWithCopyWarning: \n",
      "A value is trying to be set on a copy of a slice from a DataFrame.\n",
      "Try using .loc[row_indexer,col_indexer] = value instead\n",
      "\n",
      "See the caveats in the documentation: https://pandas.pydata.org/pandas-docs/stable/user_guide/indexing.html#returning-a-view-versus-a-copy\n",
      "  self._setitem_single_column(loc, value[:, i].tolist(), pi)\n",
      "/home/martin/miniconda3/envs/autoML/lib/python3.7/site-packages/pandas/core/indexing.py:1738: SettingWithCopyWarning: \n",
      "A value is trying to be set on a copy of a slice from a DataFrame.\n",
      "Try using .loc[row_indexer,col_indexer] = value instead\n",
      "\n",
      "See the caveats in the documentation: https://pandas.pydata.org/pandas-docs/stable/user_guide/indexing.html#returning-a-view-versus-a-copy\n",
      "  self._setitem_single_column(loc, value[:, i].tolist(), pi)\n"
     ]
    }
   ],
   "source": [
    "from sklearn.impute import SimpleImputer\n",
    "from sklearn.pipeline import make_pipeline\n",
    "from sklearn.pipeline import Pipeline\n",
    "from sklearn.preprocessing import OneHotEncoder\n",
    "from sklearn.compose import ColumnTransformer\n",
    "numeric_transformer = SimpleImputer(missing_values=np.nan, strategy='mean')\n",
    "\n",
    "X_train.loc[:, numerical] = numeric_transformer.fit_transform(X_train.loc[:, numerical])\n",
    "X_test.loc[:, numerical] = numeric_transformer.fit_transform(X_test.loc[:, numerical])"
   ]
  },
  {
   "cell_type": "code",
   "execution_count": 13,
   "id": "prompt-newman",
   "metadata": {},
   "outputs": [
    {
     "name": "stdout",
     "output_type": "stream",
     "text": [
      "Fitting 5 folds for each of 1 candidates, totalling 5 fits\n"
     ]
    },
    {
     "name": "stderr",
     "output_type": "stream",
     "text": [
      "[Parallel(n_jobs=-1)]: Using backend LokyBackend with 4 concurrent workers.\n",
      "[Parallel(n_jobs=-1)]: Done   5 out of   5 | elapsed:    6.7s finished\n",
      "[Parallel(n_jobs=-1)]: Using backend LokyBackend with 4 concurrent workers.\n"
     ]
    },
    {
     "name": "stdout",
     "output_type": "stream",
     "text": [
      "Fitting 5 folds for each of 1 candidates, totalling 5 fits\n"
     ]
    },
    {
     "name": "stderr",
     "output_type": "stream",
     "text": [
      "[Parallel(n_jobs=-1)]: Done   5 out of   5 | elapsed:    2.7s finished\n",
      "[Parallel(n_jobs=-1)]: Using backend LokyBackend with 4 concurrent workers.\n"
     ]
    },
    {
     "name": "stdout",
     "output_type": "stream",
     "text": [
      "Fitting 5 folds for each of 1 candidates, totalling 5 fits\n"
     ]
    },
    {
     "name": "stderr",
     "output_type": "stream",
     "text": [
      "[Parallel(n_jobs=-1)]: Done   5 out of   5 | elapsed:    2.1s finished\n",
      "[Parallel(n_jobs=-1)]: Using backend LokyBackend with 4 concurrent workers.\n"
     ]
    },
    {
     "name": "stdout",
     "output_type": "stream",
     "text": [
      "Fitting 5 folds for each of 1 candidates, totalling 5 fits\n"
     ]
    },
    {
     "name": "stderr",
     "output_type": "stream",
     "text": [
      "[Parallel(n_jobs=-1)]: Done   5 out of   5 | elapsed:    1.9s finished\n",
      "[Parallel(n_jobs=-1)]: Using backend LokyBackend with 4 concurrent workers.\n"
     ]
    },
    {
     "name": "stdout",
     "output_type": "stream",
     "text": [
      "Fitting 5 folds for each of 1 candidates, totalling 5 fits\n"
     ]
    },
    {
     "name": "stderr",
     "output_type": "stream",
     "text": [
      "[Parallel(n_jobs=-1)]: Done   5 out of   5 | elapsed:    2.7s finished\n",
      "[Parallel(n_jobs=-1)]: Using backend LokyBackend with 4 concurrent workers.\n"
     ]
    },
    {
     "name": "stdout",
     "output_type": "stream",
     "text": [
      "Fitting 5 folds for each of 1 candidates, totalling 5 fits\n"
     ]
    },
    {
     "name": "stderr",
     "output_type": "stream",
     "text": [
      "[Parallel(n_jobs=-1)]: Done   5 out of   5 | elapsed:    2.4s finished\n",
      "[Parallel(n_jobs=-1)]: Using backend LokyBackend with 4 concurrent workers.\n"
     ]
    },
    {
     "name": "stdout",
     "output_type": "stream",
     "text": [
      "Fitting 5 folds for each of 1 candidates, totalling 5 fits\n"
     ]
    },
    {
     "name": "stderr",
     "output_type": "stream",
     "text": [
      "[Parallel(n_jobs=-1)]: Done   5 out of   5 | elapsed:    1.8s finished\n",
      "[Parallel(n_jobs=-1)]: Using backend LokyBackend with 4 concurrent workers.\n"
     ]
    },
    {
     "name": "stdout",
     "output_type": "stream",
     "text": [
      "Fitting 5 folds for each of 1 candidates, totalling 5 fits\n"
     ]
    },
    {
     "name": "stderr",
     "output_type": "stream",
     "text": [
      "[Parallel(n_jobs=-1)]: Done   5 out of   5 | elapsed:    2.2s finished\n",
      "[Parallel(n_jobs=-1)]: Using backend LokyBackend with 4 concurrent workers.\n"
     ]
    },
    {
     "name": "stdout",
     "output_type": "stream",
     "text": [
      "Fitting 5 folds for each of 1 candidates, totalling 5 fits\n"
     ]
    },
    {
     "name": "stderr",
     "output_type": "stream",
     "text": [
      "[Parallel(n_jobs=-1)]: Done   5 out of   5 | elapsed:    2.5s finished\n"
     ]
    },
    {
     "name": "stdout",
     "output_type": "stream",
     "text": [
      "Fitting 5 folds for each of 1 candidates, totalling 5 fits\n"
     ]
    },
    {
     "name": "stderr",
     "output_type": "stream",
     "text": [
      "[Parallel(n_jobs=-1)]: Using backend LokyBackend with 4 concurrent workers.\n",
      "[Parallel(n_jobs=-1)]: Done   5 out of   5 | elapsed:    2.1s finished\n"
     ]
    },
    {
     "name": "stdout",
     "output_type": "stream",
     "text": [
      "Fitting 5 folds for each of 1 candidates, totalling 5 fits\n"
     ]
    },
    {
     "name": "stderr",
     "output_type": "stream",
     "text": [
      "[Parallel(n_jobs=-1)]: Using backend LokyBackend with 4 concurrent workers.\n",
      "[Parallel(n_jobs=-1)]: Done   5 out of   5 | elapsed:    1.7s finished\n"
     ]
    },
    {
     "name": "stdout",
     "output_type": "stream",
     "text": [
      "Fitting 5 folds for each of 1 candidates, totalling 5 fits\n"
     ]
    },
    {
     "name": "stderr",
     "output_type": "stream",
     "text": [
      "[Parallel(n_jobs=-1)]: Using backend LokyBackend with 4 concurrent workers.\n",
      "[Parallel(n_jobs=-1)]: Done   5 out of   5 | elapsed:    2.9s finished\n"
     ]
    },
    {
     "name": "stdout",
     "output_type": "stream",
     "text": [
      "Fitting 5 folds for each of 1 candidates, totalling 5 fits\n"
     ]
    },
    {
     "name": "stderr",
     "output_type": "stream",
     "text": [
      "[Parallel(n_jobs=-1)]: Using backend LokyBackend with 4 concurrent workers.\n",
      "[Parallel(n_jobs=-1)]: Done   5 out of   5 | elapsed:    1.7s finished\n"
     ]
    },
    {
     "name": "stdout",
     "output_type": "stream",
     "text": [
      "Fitting 5 folds for each of 1 candidates, totalling 5 fits\n"
     ]
    },
    {
     "name": "stderr",
     "output_type": "stream",
     "text": [
      "[Parallel(n_jobs=-1)]: Using backend LokyBackend with 4 concurrent workers.\n",
      "[Parallel(n_jobs=-1)]: Done   5 out of   5 | elapsed:    3.2s finished\n",
      "/home/martin/miniconda3/envs/autoML/lib/python3.7/site-packages/skopt/optimizer/optimizer.py:449: UserWarning: The objective has been evaluated at this point before.\n",
      "  warnings.warn(\"The objective has been evaluated \"\n"
     ]
    },
    {
     "name": "stdout",
     "output_type": "stream",
     "text": [
      "Fitting 5 folds for each of 1 candidates, totalling 5 fits\n"
     ]
    },
    {
     "name": "stderr",
     "output_type": "stream",
     "text": [
      "[Parallel(n_jobs=-1)]: Using backend LokyBackend with 4 concurrent workers.\n",
      "[Parallel(n_jobs=-1)]: Done   5 out of   5 | elapsed:    3.4s finished\n",
      "/home/martin/miniconda3/envs/autoML/lib/python3.7/site-packages/skopt/optimizer/optimizer.py:449: UserWarning: The objective has been evaluated at this point before.\n",
      "  warnings.warn(\"The objective has been evaluated \"\n"
     ]
    },
    {
     "name": "stdout",
     "output_type": "stream",
     "text": [
      "Fitting 5 folds for each of 1 candidates, totalling 5 fits\n"
     ]
    },
    {
     "name": "stderr",
     "output_type": "stream",
     "text": [
      "[Parallel(n_jobs=-1)]: Using backend LokyBackend with 4 concurrent workers.\n",
      "[Parallel(n_jobs=-1)]: Done   5 out of   5 | elapsed:    1.6s finished\n"
     ]
    },
    {
     "name": "stdout",
     "output_type": "stream",
     "text": [
      "Fitting 5 folds for each of 1 candidates, totalling 5 fits\n"
     ]
    },
    {
     "name": "stderr",
     "output_type": "stream",
     "text": [
      "[Parallel(n_jobs=-1)]: Using backend LokyBackend with 4 concurrent workers.\n",
      "[Parallel(n_jobs=-1)]: Done   5 out of   5 | elapsed:    3.9s finished\n"
     ]
    },
    {
     "name": "stdout",
     "output_type": "stream",
     "text": [
      "Fitting 5 folds for each of 1 candidates, totalling 5 fits\n"
     ]
    },
    {
     "name": "stderr",
     "output_type": "stream",
     "text": [
      "[Parallel(n_jobs=-1)]: Using backend LokyBackend with 4 concurrent workers.\n",
      "[Parallel(n_jobs=-1)]: Done   5 out of   5 | elapsed:    4.1s finished\n"
     ]
    },
    {
     "name": "stdout",
     "output_type": "stream",
     "text": [
      "Fitting 5 folds for each of 1 candidates, totalling 5 fits\n"
     ]
    },
    {
     "name": "stderr",
     "output_type": "stream",
     "text": [
      "[Parallel(n_jobs=-1)]: Using backend LokyBackend with 4 concurrent workers.\n",
      "[Parallel(n_jobs=-1)]: Done   5 out of   5 | elapsed:    1.5s finished\n",
      "/home/martin/miniconda3/envs/autoML/lib/python3.7/site-packages/skopt/optimizer/optimizer.py:449: UserWarning: The objective has been evaluated at this point before.\n",
      "  warnings.warn(\"The objective has been evaluated \"\n"
     ]
    },
    {
     "name": "stdout",
     "output_type": "stream",
     "text": [
      "Fitting 5 folds for each of 1 candidates, totalling 5 fits\n"
     ]
    },
    {
     "name": "stderr",
     "output_type": "stream",
     "text": [
      "[Parallel(n_jobs=-1)]: Using backend LokyBackend with 4 concurrent workers.\n",
      "[Parallel(n_jobs=-1)]: Done   5 out of   5 | elapsed:    1.4s finished\n",
      "/home/martin/miniconda3/envs/autoML/lib/python3.7/site-packages/skopt/optimizer/optimizer.py:449: UserWarning: The objective has been evaluated at this point before.\n",
      "  warnings.warn(\"The objective has been evaluated \"\n"
     ]
    },
    {
     "name": "stdout",
     "output_type": "stream",
     "text": [
      "Fitting 5 folds for each of 1 candidates, totalling 5 fits\n"
     ]
    },
    {
     "name": "stderr",
     "output_type": "stream",
     "text": [
      "[Parallel(n_jobs=-1)]: Using backend LokyBackend with 4 concurrent workers.\n",
      "[Parallel(n_jobs=-1)]: Done   5 out of   5 | elapsed:    1.5s finished\n"
     ]
    },
    {
     "name": "stdout",
     "output_type": "stream",
     "text": [
      "Fitting 5 folds for each of 1 candidates, totalling 5 fits\n"
     ]
    },
    {
     "name": "stderr",
     "output_type": "stream",
     "text": [
      "[Parallel(n_jobs=-1)]: Using backend LokyBackend with 4 concurrent workers.\n",
      "[Parallel(n_jobs=-1)]: Done   5 out of   5 | elapsed:    1.7s finished\n"
     ]
    },
    {
     "name": "stdout",
     "output_type": "stream",
     "text": [
      "Fitting 5 folds for each of 1 candidates, totalling 5 fits\n"
     ]
    },
    {
     "name": "stderr",
     "output_type": "stream",
     "text": [
      "[Parallel(n_jobs=-1)]: Using backend LokyBackend with 4 concurrent workers.\n",
      "[Parallel(n_jobs=-1)]: Done   5 out of   5 | elapsed:    2.0s finished\n",
      "/home/martin/miniconda3/envs/autoML/lib/python3.7/site-packages/skopt/optimizer/optimizer.py:449: UserWarning: The objective has been evaluated at this point before.\n",
      "  warnings.warn(\"The objective has been evaluated \"\n"
     ]
    },
    {
     "name": "stdout",
     "output_type": "stream",
     "text": [
      "Fitting 5 folds for each of 1 candidates, totalling 5 fits\n"
     ]
    },
    {
     "name": "stderr",
     "output_type": "stream",
     "text": [
      "[Parallel(n_jobs=-1)]: Using backend LokyBackend with 4 concurrent workers.\n",
      "[Parallel(n_jobs=-1)]: Done   5 out of   5 | elapsed:    1.8s finished\n"
     ]
    },
    {
     "name": "stdout",
     "output_type": "stream",
     "text": [
      "Fitting 5 folds for each of 1 candidates, totalling 5 fits\n"
     ]
    },
    {
     "name": "stderr",
     "output_type": "stream",
     "text": [
      "[Parallel(n_jobs=-1)]: Using backend LokyBackend with 4 concurrent workers.\n",
      "[Parallel(n_jobs=-1)]: Done   5 out of   5 | elapsed:    3.0s finished\n",
      "/home/martin/miniconda3/envs/autoML/lib/python3.7/site-packages/skopt/optimizer/optimizer.py:449: UserWarning: The objective has been evaluated at this point before.\n",
      "  warnings.warn(\"The objective has been evaluated \"\n"
     ]
    },
    {
     "name": "stdout",
     "output_type": "stream",
     "text": [
      "Fitting 5 folds for each of 1 candidates, totalling 5 fits\n"
     ]
    },
    {
     "name": "stderr",
     "output_type": "stream",
     "text": [
      "[Parallel(n_jobs=-1)]: Using backend LokyBackend with 4 concurrent workers.\n",
      "[Parallel(n_jobs=-1)]: Done   5 out of   5 | elapsed:    1.4s finished\n"
     ]
    },
    {
     "name": "stdout",
     "output_type": "stream",
     "text": [
      "Fitting 5 folds for each of 1 candidates, totalling 5 fits\n"
     ]
    },
    {
     "name": "stderr",
     "output_type": "stream",
     "text": [
      "[Parallel(n_jobs=-1)]: Using backend LokyBackend with 4 concurrent workers.\n",
      "[Parallel(n_jobs=-1)]: Done   5 out of   5 | elapsed:    2.4s finished\n"
     ]
    },
    {
     "name": "stdout",
     "output_type": "stream",
     "text": [
      "Fitting 5 folds for each of 1 candidates, totalling 5 fits\n"
     ]
    },
    {
     "name": "stderr",
     "output_type": "stream",
     "text": [
      "[Parallel(n_jobs=-1)]: Using backend LokyBackend with 4 concurrent workers.\n",
      "[Parallel(n_jobs=-1)]: Done   5 out of   5 | elapsed:    1.7s finished\n"
     ]
    },
    {
     "name": "stdout",
     "output_type": "stream",
     "text": [
      "Fitting 5 folds for each of 1 candidates, totalling 5 fits\n"
     ]
    },
    {
     "name": "stderr",
     "output_type": "stream",
     "text": [
      "[Parallel(n_jobs=-1)]: Using backend LokyBackend with 4 concurrent workers.\n",
      "[Parallel(n_jobs=-1)]: Done   5 out of   5 | elapsed:    3.4s finished\n"
     ]
    },
    {
     "name": "stdout",
     "output_type": "stream",
     "text": [
      "Fitting 5 folds for each of 1 candidates, totalling 5 fits\n"
     ]
    },
    {
     "name": "stderr",
     "output_type": "stream",
     "text": [
      "[Parallel(n_jobs=-1)]: Using backend LokyBackend with 4 concurrent workers.\n",
      "[Parallel(n_jobs=-1)]: Done   5 out of   5 | elapsed:    1.9s finished\n",
      "/home/martin/miniconda3/envs/autoML/lib/python3.7/site-packages/skopt/optimizer/optimizer.py:449: UserWarning: The objective has been evaluated at this point before.\n",
      "  warnings.warn(\"The objective has been evaluated \"\n"
     ]
    },
    {
     "name": "stdout",
     "output_type": "stream",
     "text": [
      "Fitting 5 folds for each of 1 candidates, totalling 5 fits\n"
     ]
    },
    {
     "name": "stderr",
     "output_type": "stream",
     "text": [
      "[Parallel(n_jobs=-1)]: Using backend LokyBackend with 4 concurrent workers.\n",
      "[Parallel(n_jobs=-1)]: Done   5 out of   5 | elapsed:    1.7s finished\n"
     ]
    },
    {
     "name": "stdout",
     "output_type": "stream",
     "text": [
      "Fitting 5 folds for each of 1 candidates, totalling 5 fits\n"
     ]
    },
    {
     "name": "stderr",
     "output_type": "stream",
     "text": [
      "[Parallel(n_jobs=-1)]: Using backend LokyBackend with 4 concurrent workers.\n",
      "[Parallel(n_jobs=-1)]: Done   5 out of   5 | elapsed:    1.7s finished\n"
     ]
    },
    {
     "data": {
      "text/plain": [
       "BayesSearchCV(cv=5, estimator=GradientBoostingRegressor(), n_iter=32, n_jobs=-1,\n",
       "              random_state=0,\n",
       "              search_spaces={'learning_rate': Real(low=0.1, high=0.3, prior='uniform', transform='identity'),\n",
       "                             'loss': Categorical(categories=('lad', 'ls', 'huber', 'quantile'), prior=None),\n",
       "                             'max_depth': Integer(low=3, high=6, prior='uniform', transform='identity')},\n",
       "              verbose=1)"
      ]
     },
     "execution_count": 13,
     "metadata": {},
     "output_type": "execute_result"
    }
   ],
   "source": [
    "from skopt.space import Real, Categorical, Integer\n",
    "from skopt import BayesSearchCV\n",
    "from sklearn.ensemble import GradientBoostingRegressor\n",
    "\n",
    "regressor = BayesSearchCV(\n",
    "    estimator = GradientBoostingRegressor(),\n",
    "      search_spaces ={\n",
    "         'learning_rate': Real(0.1,0.3),\n",
    "         'loss': Categorical(['lad','ls','huber','quantile']),\n",
    "         'max_depth': Integer(3,6),\n",
    "      },\n",
    "    n_iter=32,\n",
    "    random_state=0,\n",
    "    verbose=1, iid=True,\n",
    "    cv=5, n_jobs=-1\n",
    "  )\n",
    "regressor.fit(X_train,y_train)"
   ]
  },
  {
   "cell_type": "code",
   "execution_count": 26,
   "id": "derived-tribute",
   "metadata": {},
   "outputs": [
    {
     "name": "stdout",
     "output_type": "stream",
     "text": [
      "mean-squared-error: 0.136962734227094\n"
     ]
    }
   ],
   "source": [
    "predictions = regressor.predict(X_test)\n",
    "print(\"mean-squared-error:\", sklearn.metrics.mean_squared_error(y_test, predictions, squared=False))"
   ]
  },
  {
   "cell_type": "markdown",
   "id": "abroad-property",
   "metadata": {},
   "source": [
    "# TPOT (Tree-based Pipeline Optimization Tool)"
   ]
  },
  {
   "cell_type": "code",
   "execution_count": 27,
   "id": "regulation-employer",
   "metadata": {},
   "outputs": [
    {
     "name": "stdout",
     "output_type": "stream",
     "text": [
      "Requirement already satisfied: tpot in /home/martin/miniconda3/envs/autoML/lib/python3.7/site-packages (0.11.7)\n",
      "Requirement already satisfied: joblib>=0.13.2 in /home/martin/miniconda3/envs/autoML/lib/python3.7/site-packages (from tpot) (1.0.1)\n",
      "Requirement already satisfied: scipy>=1.3.1 in /home/martin/miniconda3/envs/autoML/lib/python3.7/site-packages (from tpot) (1.4.1)\n",
      "Requirement already satisfied: scikit-learn>=0.22.0 in /home/martin/miniconda3/envs/autoML/lib/python3.7/site-packages (from tpot) (0.23.2)\n",
      "Requirement already satisfied: xgboost>=1.1.0 in /home/martin/miniconda3/envs/autoML/lib/python3.7/site-packages (from tpot) (1.2.1)\n",
      "Requirement already satisfied: update-checker>=0.16 in /home/martin/miniconda3/envs/autoML/lib/python3.7/site-packages (from tpot) (0.18.0)\n",
      "Requirement already satisfied: tqdm>=4.36.1 in /home/martin/miniconda3/envs/autoML/lib/python3.7/site-packages (from tpot) (4.59.0)\n",
      "Requirement already satisfied: numpy>=1.16.3 in /home/martin/miniconda3/envs/autoML/lib/python3.7/site-packages (from tpot) (1.20.1)\n",
      "Requirement already satisfied: stopit>=1.1.1 in /home/martin/miniconda3/envs/autoML/lib/python3.7/site-packages (from tpot) (1.1.2)\n",
      "Requirement already satisfied: deap>=1.2 in /home/martin/miniconda3/envs/autoML/lib/python3.7/site-packages (from tpot) (1.3.1)\n",
      "Requirement already satisfied: pandas>=0.24.2 in /home/martin/miniconda3/envs/autoML/lib/python3.7/site-packages (from tpot) (1.2.3)\n",
      "Requirement already satisfied: python-dateutil>=2.7.3 in /home/martin/miniconda3/envs/autoML/lib/python3.7/site-packages (from pandas>=0.24.2->tpot) (2.8.1)\n",
      "Requirement already satisfied: pytz>=2017.3 in /home/martin/miniconda3/envs/autoML/lib/python3.7/site-packages (from pandas>=0.24.2->tpot) (2021.1)\n",
      "Requirement already satisfied: six>=1.5 in /home/martin/miniconda3/envs/autoML/lib/python3.7/site-packages (from python-dateutil>=2.7.3->pandas>=0.24.2->tpot) (1.15.0)\n",
      "Requirement already satisfied: threadpoolctl>=2.0.0 in /home/martin/miniconda3/envs/autoML/lib/python3.7/site-packages (from scikit-learn>=0.22.0->tpot) (2.1.0)\n",
      "Requirement already satisfied: requests>=2.3.0 in /home/martin/miniconda3/envs/autoML/lib/python3.7/site-packages (from update-checker>=0.16->tpot) (2.25.1)\n",
      "Requirement already satisfied: urllib3<1.27,>=1.21.1 in /home/martin/miniconda3/envs/autoML/lib/python3.7/site-packages (from requests>=2.3.0->update-checker>=0.16->tpot) (1.26.4)\n",
      "Requirement already satisfied: idna<3,>=2.5 in /home/martin/miniconda3/envs/autoML/lib/python3.7/site-packages (from requests>=2.3.0->update-checker>=0.16->tpot) (2.10)\n",
      "Requirement already satisfied: certifi>=2017.4.17 in /home/martin/miniconda3/envs/autoML/lib/python3.7/site-packages (from requests>=2.3.0->update-checker>=0.16->tpot) (2020.12.5)\n",
      "Requirement already satisfied: chardet<5,>=3.0.2 in /home/martin/miniconda3/envs/autoML/lib/python3.7/site-packages (from requests>=2.3.0->update-checker>=0.16->tpot) (4.0.0)\n"
     ]
    }
   ],
   "source": [
    "!pip install tpot"
   ]
  },
  {
   "cell_type": "markdown",
   "id": "homeless-shareware",
   "metadata": {},
   "source": [
    "the steps below require a new-start of the notebook - if not the changes are not in place"
   ]
  },
  {
   "cell_type": "code",
   "execution_count": 28,
   "id": "polish-horse",
   "metadata": {},
   "outputs": [
    {
     "name": "stdout",
     "output_type": "stream",
     "text": [
      "Requirement already satisfied: ipywidgets in /home/martin/miniconda3/envs/autoML/lib/python3.7/site-packages (7.6.3)\n",
      "Requirement already satisfied: nbformat>=4.2.0 in /home/martin/miniconda3/envs/autoML/lib/python3.7/site-packages (from ipywidgets) (5.1.3)\n",
      "Requirement already satisfied: widgetsnbextension~=3.5.0 in /home/martin/miniconda3/envs/autoML/lib/python3.7/site-packages (from ipywidgets) (3.5.1)\n",
      "Requirement already satisfied: traitlets>=4.3.1 in /home/martin/miniconda3/envs/autoML/lib/python3.7/site-packages (from ipywidgets) (5.0.5)\n",
      "Requirement already satisfied: jupyterlab-widgets>=1.0.0 in /home/martin/miniconda3/envs/autoML/lib/python3.7/site-packages (from ipywidgets) (1.0.0)\n",
      "Requirement already satisfied: ipykernel>=4.5.1 in /home/martin/miniconda3/envs/autoML/lib/python3.7/site-packages (from ipywidgets) (5.3.4)\n",
      "Requirement already satisfied: ipython>=4.0.0 in /home/martin/miniconda3/envs/autoML/lib/python3.7/site-packages (from ipywidgets) (7.21.0)\n",
      "Requirement already satisfied: tornado>=4.2 in /home/martin/miniconda3/envs/autoML/lib/python3.7/site-packages (from ipykernel>=4.5.1->ipywidgets) (6.1)\n",
      "Requirement already satisfied: jupyter-client in /home/martin/miniconda3/envs/autoML/lib/python3.7/site-packages (from ipykernel>=4.5.1->ipywidgets) (6.1.7)\n",
      "Requirement already satisfied: jedi>=0.16 in /home/martin/miniconda3/envs/autoML/lib/python3.7/site-packages (from ipython>=4.0.0->ipywidgets) (0.17.0)\n",
      "Requirement already satisfied: pexpect>4.3 in /home/martin/miniconda3/envs/autoML/lib/python3.7/site-packages (from ipython>=4.0.0->ipywidgets) (4.8.0)\n",
      "Requirement already satisfied: decorator in /home/martin/miniconda3/envs/autoML/lib/python3.7/site-packages (from ipython>=4.0.0->ipywidgets) (4.4.2)\n",
      "Requirement already satisfied: backcall in /home/martin/miniconda3/envs/autoML/lib/python3.7/site-packages (from ipython>=4.0.0->ipywidgets) (0.2.0)\n",
      "Requirement already satisfied: pickleshare in /home/martin/miniconda3/envs/autoML/lib/python3.7/site-packages (from ipython>=4.0.0->ipywidgets) (0.7.5)\n",
      "Requirement already satisfied: prompt-toolkit!=3.0.0,!=3.0.1,<3.1.0,>=2.0.0 in /home/martin/miniconda3/envs/autoML/lib/python3.7/site-packages (from ipython>=4.0.0->ipywidgets) (3.0.8)\n",
      "Requirement already satisfied: setuptools>=18.5 in /home/martin/miniconda3/envs/autoML/lib/python3.7/site-packages (from ipython>=4.0.0->ipywidgets) (52.0.0.post20210125)\n",
      "Requirement already satisfied: pygments in /home/martin/miniconda3/envs/autoML/lib/python3.7/site-packages (from ipython>=4.0.0->ipywidgets) (2.8.1)\n",
      "Requirement already satisfied: parso>=0.7.0 in /home/martin/miniconda3/envs/autoML/lib/python3.7/site-packages (from jedi>=0.16->ipython>=4.0.0->ipywidgets) (0.8.1)\n",
      "Requirement already satisfied: ipython-genutils in /home/martin/miniconda3/envs/autoML/lib/python3.7/site-packages (from nbformat>=4.2.0->ipywidgets) (0.2.0)\n",
      "Requirement already satisfied: jsonschema!=2.5.0,>=2.4 in /home/martin/miniconda3/envs/autoML/lib/python3.7/site-packages (from nbformat>=4.2.0->ipywidgets) (3.2.0)\n",
      "Requirement already satisfied: jupyter-core in /home/martin/miniconda3/envs/autoML/lib/python3.7/site-packages (from nbformat>=4.2.0->ipywidgets) (4.7.1)\n",
      "Requirement already satisfied: importlib-metadata in /home/martin/miniconda3/envs/autoML/lib/python3.7/site-packages (from jsonschema!=2.5.0,>=2.4->nbformat>=4.2.0->ipywidgets) (3.7.3)\n",
      "Requirement already satisfied: attrs>=17.4.0 in /home/martin/miniconda3/envs/autoML/lib/python3.7/site-packages (from jsonschema!=2.5.0,>=2.4->nbformat>=4.2.0->ipywidgets) (20.3.0)\n",
      "Requirement already satisfied: pyrsistent>=0.14.0 in /home/martin/miniconda3/envs/autoML/lib/python3.7/site-packages (from jsonschema!=2.5.0,>=2.4->nbformat>=4.2.0->ipywidgets) (0.18.0)\n",
      "Requirement already satisfied: six>=1.11.0 in /home/martin/miniconda3/envs/autoML/lib/python3.7/site-packages (from jsonschema!=2.5.0,>=2.4->nbformat>=4.2.0->ipywidgets) (1.15.0)\n",
      "Requirement already satisfied: ptyprocess>=0.5 in /home/martin/miniconda3/envs/autoML/lib/python3.7/site-packages (from pexpect>4.3->ipython>=4.0.0->ipywidgets) (0.7.0)\n",
      "Requirement already satisfied: wcwidth in /home/martin/miniconda3/envs/autoML/lib/python3.7/site-packages (from prompt-toolkit!=3.0.0,!=3.0.1,<3.1.0,>=2.0.0->ipython>=4.0.0->ipywidgets) (0.2.5)\n",
      "Requirement already satisfied: notebook>=4.4.1 in /home/martin/miniconda3/envs/autoML/lib/python3.7/site-packages (from widgetsnbextension~=3.5.0->ipywidgets) (6.4.0)\n",
      "Requirement already satisfied: terminado>=0.8.3 in /home/martin/miniconda3/envs/autoML/lib/python3.7/site-packages (from notebook>=4.4.1->widgetsnbextension~=3.5.0->ipywidgets) (0.10.1)\n",
      "Requirement already satisfied: argon2-cffi in /home/martin/miniconda3/envs/autoML/lib/python3.7/site-packages (from notebook>=4.4.1->widgetsnbextension~=3.5.0->ipywidgets) (20.1.0)\n",
      "Requirement already satisfied: nbconvert in /home/martin/miniconda3/envs/autoML/lib/python3.7/site-packages (from notebook>=4.4.1->widgetsnbextension~=3.5.0->ipywidgets) (6.1.0)\n",
      "Requirement already satisfied: prometheus-client in /home/martin/miniconda3/envs/autoML/lib/python3.7/site-packages (from notebook>=4.4.1->widgetsnbextension~=3.5.0->ipywidgets) (0.11.0)\n",
      "Requirement already satisfied: jinja2 in /home/martin/miniconda3/envs/autoML/lib/python3.7/site-packages (from notebook>=4.4.1->widgetsnbextension~=3.5.0->ipywidgets) (2.11.3)\n",
      "Requirement already satisfied: pyzmq>=17 in /home/martin/miniconda3/envs/autoML/lib/python3.7/site-packages (from notebook>=4.4.1->widgetsnbextension~=3.5.0->ipywidgets) (20.0.0)\n",
      "Requirement already satisfied: Send2Trash>=1.5.0 in /home/martin/miniconda3/envs/autoML/lib/python3.7/site-packages (from notebook>=4.4.1->widgetsnbextension~=3.5.0->ipywidgets) (1.7.1)\n",
      "Requirement already satisfied: python-dateutil>=2.1 in /home/martin/miniconda3/envs/autoML/lib/python3.7/site-packages (from jupyter-client->ipykernel>=4.5.1->ipywidgets) (2.8.1)\n",
      "Requirement already satisfied: cffi>=1.0.0 in /home/martin/miniconda3/envs/autoML/lib/python3.7/site-packages (from argon2-cffi->notebook>=4.4.1->widgetsnbextension~=3.5.0->ipywidgets) (1.14.5)\n",
      "Requirement already satisfied: pycparser in /home/martin/miniconda3/envs/autoML/lib/python3.7/site-packages (from cffi>=1.0.0->argon2-cffi->notebook>=4.4.1->widgetsnbextension~=3.5.0->ipywidgets) (2.20)\n",
      "Requirement already satisfied: zipp>=0.5 in /home/martin/miniconda3/envs/autoML/lib/python3.7/site-packages (from importlib-metadata->jsonschema!=2.5.0,>=2.4->nbformat>=4.2.0->ipywidgets) (3.4.1)\n",
      "Requirement already satisfied: typing-extensions>=3.6.4 in /home/martin/miniconda3/envs/autoML/lib/python3.7/site-packages (from importlib-metadata->jsonschema!=2.5.0,>=2.4->nbformat>=4.2.0->ipywidgets) (3.7.4.3)\n",
      "Requirement already satisfied: MarkupSafe>=0.23 in /home/martin/miniconda3/envs/autoML/lib/python3.7/site-packages (from jinja2->notebook>=4.4.1->widgetsnbextension~=3.5.0->ipywidgets) (1.1.1)\n",
      "Requirement already satisfied: entrypoints>=0.2.2 in /home/martin/miniconda3/envs/autoML/lib/python3.7/site-packages (from nbconvert->notebook>=4.4.1->widgetsnbextension~=3.5.0->ipywidgets) (0.3)\n",
      "Requirement already satisfied: defusedxml in /home/martin/miniconda3/envs/autoML/lib/python3.7/site-packages (from nbconvert->notebook>=4.4.1->widgetsnbextension~=3.5.0->ipywidgets) (0.7.1)\n",
      "Requirement already satisfied: nbclient<0.6.0,>=0.5.0 in /home/martin/miniconda3/envs/autoML/lib/python3.7/site-packages (from nbconvert->notebook>=4.4.1->widgetsnbextension~=3.5.0->ipywidgets) (0.5.3)\n",
      "Requirement already satisfied: testpath in /home/martin/miniconda3/envs/autoML/lib/python3.7/site-packages (from nbconvert->notebook>=4.4.1->widgetsnbextension~=3.5.0->ipywidgets) (0.5.0)\n",
      "Requirement already satisfied: pandocfilters>=1.4.1 in /home/martin/miniconda3/envs/autoML/lib/python3.7/site-packages (from nbconvert->notebook>=4.4.1->widgetsnbextension~=3.5.0->ipywidgets) (1.4.3)\n",
      "Requirement already satisfied: jupyterlab-pygments in /home/martin/miniconda3/envs/autoML/lib/python3.7/site-packages (from nbconvert->notebook>=4.4.1->widgetsnbextension~=3.5.0->ipywidgets) (0.1.2)\n",
      "Requirement already satisfied: bleach in /home/martin/miniconda3/envs/autoML/lib/python3.7/site-packages (from nbconvert->notebook>=4.4.1->widgetsnbextension~=3.5.0->ipywidgets) (3.3.0)\n",
      "Requirement already satisfied: mistune<2,>=0.8.1 in /home/martin/miniconda3/envs/autoML/lib/python3.7/site-packages (from nbconvert->notebook>=4.4.1->widgetsnbextension~=3.5.0->ipywidgets) (0.8.4)\n"
     ]
    },
    {
     "name": "stdout",
     "output_type": "stream",
     "text": [
      "Requirement already satisfied: async-generator in /home/martin/miniconda3/envs/autoML/lib/python3.7/site-packages (from nbclient<0.6.0,>=0.5.0->nbconvert->notebook>=4.4.1->widgetsnbextension~=3.5.0->ipywidgets) (1.10)\n",
      "Requirement already satisfied: nest-asyncio in /home/martin/miniconda3/envs/autoML/lib/python3.7/site-packages (from nbclient<0.6.0,>=0.5.0->nbconvert->notebook>=4.4.1->widgetsnbextension~=3.5.0->ipywidgets) (1.5.1)\n",
      "Requirement already satisfied: packaging in /home/martin/miniconda3/envs/autoML/lib/python3.7/site-packages (from bleach->nbconvert->notebook>=4.4.1->widgetsnbextension~=3.5.0->ipywidgets) (20.9)\n",
      "Requirement already satisfied: webencodings in /home/martin/miniconda3/envs/autoML/lib/python3.7/site-packages (from bleach->nbconvert->notebook>=4.4.1->widgetsnbextension~=3.5.0->ipywidgets) (0.5.1)\n",
      "Requirement already satisfied: pyparsing>=2.0.2 in /home/martin/miniconda3/envs/autoML/lib/python3.7/site-packages (from packaging->bleach->nbconvert->notebook>=4.4.1->widgetsnbextension~=3.5.0->ipywidgets) (2.4.7)\n",
      "Enabling notebook extension jupyter-js-widgets/extension...\n",
      "      - Validating: \u001b[32mOK\u001b[0m\n"
     ]
    }
   ],
   "source": [
    "!pip install --upgrade ipywidgets\n",
    "!jupyter nbextension enable --py widgetsnbextension"
   ]
  },
  {
   "cell_type": "code",
   "execution_count": 29,
   "id": "hydraulic-content",
   "metadata": {},
   "outputs": [
    {
     "data": {
      "application/vnd.jupyter.widget-view+json": {
       "model_id": "",
       "version_major": 2,
       "version_minor": 0
      },
      "text/plain": [
       "Optimization Progress:   0%|          | 0/300 [00:00<?, ?pipeline/s]"
      ]
     },
     "metadata": {},
     "output_type": "display_data"
    },
    {
     "name": "stdout",
     "output_type": "stream",
     "text": [
      "\n",
      "Generation 1 - Current best internal CV score: -0.017092608323869624\n",
      "\n",
      "Generation 2 - Current best internal CV score: -0.017092608323869624\n",
      "\n",
      "Generation 3 - Current best internal CV score: -0.017092608323869624\n",
      "\n",
      "Generation 4 - Current best internal CV score: -0.016532793401539948\n",
      "\n",
      "Generation 5 - Current best internal CV score: -0.016321850860696603\n",
      "\n",
      "Best pipeline: GradientBoostingRegressor(RidgeCV(input_matrix), alpha=0.9, learning_rate=0.1, loss=ls, max_depth=10, max_features=0.4, min_samples_leaf=18, min_samples_split=15, n_estimators=100, subsample=0.6000000000000001)\n",
      "0.13685696531984778\n"
     ]
    }
   ],
   "source": [
    "from tpot import TPOTRegressor\n",
    "from sklearn.datasets import load_digits \n",
    "from sklearn.model_selection import train_test_split \n",
    "\n",
    "tpot = TPOTRegressor(generations=5, population_size=50, verbosity=2, random_state=42, n_jobs=-1)\n",
    "tpot.fit(X_train, y_train)\n",
    "print(np.sqrt(-tpot.score(X_test, y_test)))"
   ]
  },
  {
   "cell_type": "code",
   "execution_count": null,
   "id": "moral-turtle",
   "metadata": {},
   "outputs": [],
   "source": []
  }
 ],
 "metadata": {
  "kernelspec": {
   "display_name": "Python [conda env:autoML]",
   "language": "python",
   "name": "conda-env-autoML-py"
  },
  "language_info": {
   "codemirror_mode": {
    "name": "ipython",
    "version": 3
   },
   "file_extension": ".py",
   "mimetype": "text/x-python",
   "name": "python",
   "nbconvert_exporter": "python",
   "pygments_lexer": "ipython3",
   "version": "3.7.10"
  },
  "latex_envs": {
   "LaTeX_envs_menu_present": true,
   "autoclose": false,
   "autocomplete": true,
   "bibliofile": "biblio.bib",
   "cite_by": "apalike",
   "current_citInitial": 1,
   "eqLabelWithNumbers": true,
   "eqNumInitial": 1,
   "hotkeys": {
    "equation": "Ctrl-E",
    "itemize": "Ctrl-I"
   },
   "labels_anchors": false,
   "latex_user_defs": false,
   "report_style_numbering": false,
   "user_envs_cfg": false
  }
 },
 "nbformat": 4,
 "nbformat_minor": 5
}
