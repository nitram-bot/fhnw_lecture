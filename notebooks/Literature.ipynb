{
 "cells": [
  {
   "cell_type": "markdown",
   "id": "bronze-safety",
   "metadata": {},
   "source": [
    " - [Can AutoML outperform humans? An evaluation on popular OpenML datasets using AutoML Benchmark](https://arxiv.org/abs/2009.01564)\n",
    " - [Benchmark and Survey of Automated Machine Learning Frameworks](https://arxiv.org/abs/1904.12054)\n",
    " - [AutoGluon-Tabular: Robust and Accurate AutoML for Structured Data](https://arxiv.org/abs/2003.06505)"
   ]
  },
  {
   "cell_type": "markdown",
   "id": "convinced-aquatic",
   "metadata": {},
   "source": [
    " - [SMOTE](https://arxiv.org/pdf/1106.1813.pdf)"
   ]
  }
 ],
 "metadata": {
  "kernelspec": {
   "display_name": "Python 3",
   "language": "python",
   "name": "python3"
  },
  "language_info": {
   "codemirror_mode": {
    "name": "ipython",
    "version": 3
   },
   "file_extension": ".py",
   "mimetype": "text/x-python",
   "name": "python",
   "nbconvert_exporter": "python",
   "pygments_lexer": "ipython3",
   "version": "3.6.13"
  }
 },
 "nbformat": 4,
 "nbformat_minor": 5
}
