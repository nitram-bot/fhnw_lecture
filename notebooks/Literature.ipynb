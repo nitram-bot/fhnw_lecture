{
 "cells": [
  {
   "cell_type": "markdown",
   "id": "fatty-wesley",
   "metadata": {},
   "source": [
    " - [AutoML.org](https://www.automl.org/book/)\n",
    "     - [Chapter 1: Hyperparameter Optimization](https://www.automl.org/wp-content/uploads/2019/05/AutoML_Book_Chapter1.pdf)\n",
    "     - [Chapter 2: Meta-Learning (optional)](https://www.automl.org/wp-content/uploads/2019/05/AutoML_Book_Chapter2.pdf)\n",
    "     - [Chapter 5: Hyperopt-Sklearn](https://www.automl.org/wp-content/uploads/2019/05/AutoML_Book_Chapter5.pdf)\n",
    "     - [Chapter 6: Auto-sklearn: Efficient and Robust Automated Machine Learning](https://www.automl.org/wp-content/uploads/2019/05/AutoML_Book_Chapter6.pdf)\n",
    " - [Can AutoML outperform humans? An evaluation on popular OpenML datasets using AutoML Benchmark](https://arxiv.org/abs/2009.01564)\n",
    " - [Benchmark and Survey of Automated Machine Learning Frameworks](https://arxiv.org/abs/1904.12054)\n",
    " - [AutoGluon-Tabular: Robust and Accurate AutoML for Structured Data](https://arxiv.org/abs/2003.06505)"
   ]
  },
  {
   "cell_type": "markdown",
   "id": "processed-individual",
   "metadata": {},
   "source": [
    " - [SMOTE](https://arxiv.org/pdf/1106.1813.pdf)"
   ]
  },
  {
   "cell_type": "markdown",
   "id": "featured-melissa",
   "metadata": {},
   "source": [
    " - [Han Xiao](https://hanxiao.io/2019/07/29/Generic-Neural-Elastic-Search-From-bert-as-service-and-Go-Way-Beyond/)"
   ]
  },
  {
   "cell_type": "markdown",
   "id": "premium-refrigerator",
   "metadata": {},
   "source": [
    " - [performance optimisation](https://pub.towardsai.net/comprehensive-guide-to-optimize-your-pandas-code-62980f8c0e64)"
   ]
  },
  {
   "cell_type": "markdown",
   "id": "false-bacon",
   "metadata": {},
   "source": [
    "### Data leakage\n",
    "[examples of data leakage in competitions: start on page 30](https://static1.squarespace.com/static/5a4c161cfe54ef45b17aa18e/t/5ab4013b88251b7b684c6025/1521746286132/week2-part2.pdf)<br>\n",
    "[alternative to the text above here is the video](https://www.coursera.org/lecture/competitive-data-science/basic-data-leaks-5w9Gy)<br>\n",
    "[Medical data mining: insights from winning two competitions](https://www.prem-melville.com/publications/medical-mining-dmkd09.pdf)"
   ]
  },
  {
   "cell_type": "markdown",
   "id": "adaptive-resource",
   "metadata": {},
   "source": [
    "### Mean Encoding\n",
    "\n",
    "__important__: if you're not allowed to read any more 'towardsdatascience' article or 'medium' articles -- just remove the cookies for the page (inspect -> applications -> cookies) and reload the page afterwards.\n",
    "\n",
    "\n",
    "[Overfitting in Scaling prior to Hyperparameter Tuning and](https://towardsdatascience.com/data-leakage-with-hyper-parameter-tuning-c57ba2006046)<br>\n",
    "[Benchmark of different target (aka mean) encoding strategies](https://towardsdatascience.com/benchmarking-categorical-encoders-9c322bd77ee8)<br>\n",
    "[Validation Schemes](http://ethen8181.github.io/machine-learning/model_selection/model_selection.html)<br>\n",
    "[nested cross-validation python-code-example](https://github.com/rasbt/model-eval-article-supplementary/blob/master/code/nested_cv_code.ipynb)"
   ]
  },
  {
   "cell_type": "markdown",
   "id": "waiting-separation",
   "metadata": {},
   "source": [
    "## Clustering\n",
    "[Spectral Clustering 1st attempt](https://towardsdatascience.com/spectral-clustering-aba2640c0d5b)<br>\n",
    "[Spectral Clustering 2nd attempt](https://towardsdatascience.com/unsupervised-machine-learning-spectral-clustering-algorithm-implemented-from-scratch-in-python-205c87271045)<br>\n",
    "[Spectral Clustering 3rd attempt](https://towardsdatascience.com/spectral-graph-clustering-and-optimal-number-of-clusters-estimation-32704189afbe)<br>\n",
    "[DBSCAN](https://towardsdatascience.com/dbscan-clustering-explained-97556a2ad556)"
   ]
  },
  {
   "cell_type": "markdown",
   "id": "million-monster",
   "metadata": {},
   "source": [
    "## Tree Methods\n",
    "[Trees, Forests, Ensembles](https://github.com/tdgunes/COMP6246-2018Fall/blob/master/lab3/lab3.pdf)<br>"
   ]
  },
  {
   "cell_type": "markdown",
   "id": "innocent-newark",
   "metadata": {},
   "source": [
    "## Gradient Boosting"
   ]
  },
  {
   "cell_type": "markdown",
   "id": "touched-buying",
   "metadata": {},
   "source": [
    "[Understanding LightGBM Parameters (and How to Tune Them](https://neptune.ai/blog/lightgbm-parameters-guide)\n",
    "[Gradient Boosting and the most important parameters](https://youtu.be/5CWwwtEM2TA)"
   ]
  }
 ],
 "metadata": {
  "kernelspec": {
   "display_name": "Python 3",
   "language": "python",
   "name": "python3"
  },
  "language_info": {
   "codemirror_mode": {
    "name": "ipython",
    "version": 3
   },
   "file_extension": ".py",
   "mimetype": "text/x-python",
   "name": "python",
   "nbconvert_exporter": "python",
   "pygments_lexer": "ipython3",
   "version": "3.6.13"
  }
 },
 "nbformat": 4,
 "nbformat_minor": 5
}
