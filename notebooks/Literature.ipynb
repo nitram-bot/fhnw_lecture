{
 "cells": [
  {
   "cell_type": "markdown",
   "id": "bronze-safety",
   "metadata": {},
   "source": [
    " - [AutoML.org](https://www.automl.org/book/)\n",
    "     - [Chapter 1: Hyperparameter Optimization](https://www.automl.org/wp-content/uploads/2019/05/AutoML_Book_Chapter1.pdf)\n",
    "     - [Chapter 2: Meta-Learning (optional)](https://www.automl.org/wp-content/uploads/2019/05/AutoML_Book_Chapter2.pdf)\n",
    "     - [Chapter 5: Hyperopt-Sklearn](https://www.automl.org/wp-content/uploads/2019/05/AutoML_Book_Chapter5.pdf)\n",
    "     - [Chapter 6: Auto-sklearn: Efficient and Robust Automated Machine Learning](https://www.automl.org/wp-content/uploads/2019/05/AutoML_Book_Chapter6.pdf)\n",
    " - [Can AutoML outperform humans? An evaluation on popular OpenML datasets using AutoML Benchmark](https://arxiv.org/abs/2009.01564)\n",
    " - [Benchmark and Survey of Automated Machine Learning Frameworks](https://arxiv.org/abs/1904.12054)\n",
    " - [AutoGluon-Tabular: Robust and Accurate AutoML for Structured Data](https://arxiv.org/abs/2003.06505)"
   ]
  },
  {
   "cell_type": "markdown",
   "id": "secret-toolbox",
   "metadata": {},
   "source": [
    " - [SMOTE](https://arxiv.org/pdf/1106.1813.pdf)"
   ]
  },
  {
   "cell_type": "markdown",
   "id": "protective-provider",
   "metadata": {},
   "source": [
    " - [Han Xiao](https://hanxiao.io/2019/07/29/Generic-Neural-Elastic-Search-From-bert-as-service-and-Go-Way-Beyond/)"
   ]
  },
  {
   "cell_type": "markdown",
   "id": "effective-velvet",
   "metadata": {},
   "source": [
    " - [performance optimisation](https://pub.towardsai.net/comprehensive-guide-to-optimize-your-pandas-code-62980f8c0e64)"
   ]
  },
  {
   "cell_type": "markdown",
   "id": "approved-arcade",
   "metadata": {},
   "source": [
    "### Data leakage\n",
    "[examples of data leakage in competitions: start on page 30](https://static1.squarespace.com/static/5a4c161cfe54ef45b17aa18e/t/5ab4013b88251b7b684c6025/1521746286132/week2-part2.pdf)<br>\n",
    "[alternative to the text above here is the video](https://www.coursera.org/lecture/competitive-data-science/basic-data-leaks-5w9Gy)<br>\n",
    "[Medical data mining: insights from winning two competitions](https://www.prem-melville.com/publications/medical-mining-dmkd09.pdf)"
   ]
  }
 ],
 "metadata": {
  "kernelspec": {
   "display_name": "Python 3",
   "language": "python",
   "name": "python3"
  },
  "language_info": {
   "codemirror_mode": {
    "name": "ipython",
    "version": 3
   },
   "file_extension": ".py",
   "mimetype": "text/x-python",
   "name": "python",
   "nbconvert_exporter": "python",
   "pygments_lexer": "ipython3",
   "version": "3.6.13"
  }
 },
 "nbformat": 4,
 "nbformat_minor": 5
}
