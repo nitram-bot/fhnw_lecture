{
 "cells": [
  {
   "cell_type": "code",
   "execution_count": 1,
   "id": "compatible-territory",
   "metadata": {},
   "outputs": [
    {
     "name": "stdout",
     "output_type": "stream",
     "text": [
      "/home/martin/python/fhnw_lecture/notebooks\r\n"
     ]
    }
   ],
   "source": [
    "!pwd"
   ]
  },
  {
   "cell_type": "markdown",
   "id": "functional-railway",
   "metadata": {},
   "source": [
    "For different projects you might need different conda-environments. This is not always easy to have in a docker container. For this, I wrote a small script helping with this:"
   ]
  },
  {
   "cell_type": "code",
   "execution_count": 2,
   "id": "radical-salvation",
   "metadata": {},
   "outputs": [
    {
     "name": "stdout",
     "output_type": "stream",
     "text": [
      "Collecting package metadata (current_repodata.json): done\n",
      "Solving environment: failed with repodata from current_repodata.json, will retry with next repodata source.\n",
      "Collecting package metadata (repodata.json): done\n",
      "Solving environment: / \n",
      "Warning: 2 possible package resolutions (only showing differing packages):\n",
      "  - defaults/linux-64::jedi-0.17.0-py37_0, defaults/noarch::parso-0.8.1-pyhd3eb1b0_0\n",
      "  - defaults/linux-64::jedi-0.17.2-py37h06a4308_1, defaults/noarch::parso-0.7.0-pydone\n",
      "\n",
      "## Package Plan ##\n",
      "\n",
      "  environment location: /home/martin/miniconda3/envs/autoML\n",
      "\n",
      "  added / updated specs:\n",
      "    - ipykernel\n",
      "    - pip\n",
      "    - python=3.7\n",
      "\n",
      "\n",
      "The following packages will be downloaded:\n",
      "\n",
      "    package                    |            build\n",
      "    ---------------------------|-----------------\n",
      "    certifi-2020.12.5          |   py37h06a4308_0         141 KB\n",
      "    ipykernel-5.3.4            |   py37h5ca1d4c_0         179 KB\n",
      "    ipython-7.21.0             |   py37hb070fc8_0         978 KB\n",
      "    jedi-0.17.0                |           py37_0         775 KB\n",
      "    jupyter_core-4.7.1         |   py37h06a4308_0          68 KB\n",
      "    pip-21.0.1                 |   py37h06a4308_0         1.8 MB\n",
      "    python-3.7.10              |       hdb3f193_0        45.2 MB\n",
      "    pyzmq-20.0.0               |   py37h2531618_1         439 KB\n",
      "    setuptools-52.0.0          |   py37h06a4308_0         710 KB\n",
      "    six-1.15.0                 |   py37h06a4308_0          27 KB\n",
      "    tornado-6.1                |   py37h27cfd23_0         589 KB\n",
      "    traitlets-5.0.5            |     pyhd3eb1b0_0          81 KB\n",
      "    ------------------------------------------------------------\n",
      "                                           Total:        50.8 MB\n",
      "\n",
      "The following NEW packages will be INSTALLED:\n",
      "\n",
      "  _libgcc_mutex      pkgs/main/linux-64::_libgcc_mutex-0.1-main\n",
      "  backcall           pkgs/main/noarch::backcall-0.2.0-pyhd3eb1b0_0\n",
      "  ca-certificates    pkgs/main/linux-64::ca-certificates-2021.1.19-h06a4308_1\n",
      "  certifi            pkgs/main/linux-64::certifi-2020.12.5-py37h06a4308_0\n",
      "  decorator          pkgs/main/noarch::decorator-4.4.2-pyhd3eb1b0_0\n",
      "  ipykernel          pkgs/main/linux-64::ipykernel-5.3.4-py37h5ca1d4c_0\n",
      "  ipython            pkgs/main/linux-64::ipython-7.21.0-py37hb070fc8_0\n",
      "  ipython_genutils   pkgs/main/noarch::ipython_genutils-0.2.0-pyhd3eb1b0_1\n",
      "  jedi               pkgs/main/linux-64::jedi-0.17.0-py37_0\n",
      "  jupyter_client     pkgs/main/noarch::jupyter_client-6.1.7-py_0\n",
      "  jupyter_core       pkgs/main/linux-64::jupyter_core-4.7.1-py37h06a4308_0\n",
      "  ld_impl_linux-64   pkgs/main/linux-64::ld_impl_linux-64-2.33.1-h53a641e_7\n",
      "  libedit            pkgs/main/linux-64::libedit-3.1.20191231-h14c3975_1\n",
      "  libffi             pkgs/main/linux-64::libffi-3.3-he6710b0_2\n",
      "  libgcc-ng          pkgs/main/linux-64::libgcc-ng-9.1.0-hdf63c60_0\n",
      "  libsodium          pkgs/main/linux-64::libsodium-1.0.18-h7b6447c_0\n",
      "  libstdcxx-ng       pkgs/main/linux-64::libstdcxx-ng-9.1.0-hdf63c60_0\n",
      "  ncurses            pkgs/main/linux-64::ncurses-6.2-he6710b0_1\n",
      "  openssl            pkgs/main/linux-64::openssl-1.1.1j-h27cfd23_0\n",
      "  parso              pkgs/main/noarch::parso-0.8.1-pyhd3eb1b0_0\n",
      "  pexpect            pkgs/main/noarch::pexpect-4.8.0-pyhd3eb1b0_3\n",
      "  pickleshare        pkgs/main/noarch::pickleshare-0.7.5-pyhd3eb1b0_1003\n",
      "  pip                pkgs/main/linux-64::pip-21.0.1-py37h06a4308_0\n",
      "  prompt-toolkit     pkgs/main/noarch::prompt-toolkit-3.0.8-py_0\n",
      "  ptyprocess         pkgs/main/noarch::ptyprocess-0.7.0-pyhd3eb1b0_2\n",
      "  pygments           pkgs/main/noarch::pygments-2.8.1-pyhd3eb1b0_0\n",
      "  python             pkgs/main/linux-64::python-3.7.10-hdb3f193_0\n",
      "  python-dateutil    pkgs/main/noarch::python-dateutil-2.8.1-pyhd3eb1b0_0\n",
      "  pyzmq              pkgs/main/linux-64::pyzmq-20.0.0-py37h2531618_1\n",
      "  readline           pkgs/main/linux-64::readline-8.1-h27cfd23_0\n",
      "  setuptools         pkgs/main/linux-64::setuptools-52.0.0-py37h06a4308_0\n",
      "  six                pkgs/main/linux-64::six-1.15.0-py37h06a4308_0\n",
      "  sqlite             pkgs/main/linux-64::sqlite-3.33.0-h62c20be_0\n",
      "  tk                 pkgs/main/linux-64::tk-8.6.10-hbc83047_0\n",
      "  tornado            pkgs/main/linux-64::tornado-6.1-py37h27cfd23_0\n",
      "  traitlets          pkgs/main/noarch::traitlets-5.0.5-pyhd3eb1b0_0\n",
      "  wcwidth            pkgs/main/noarch::wcwidth-0.2.5-py_0\n",
      "  wheel              pkgs/main/noarch::wheel-0.36.2-pyhd3eb1b0_0\n",
      "  xz                 pkgs/main/linux-64::xz-5.2.5-h7b6447c_0\n",
      "  zeromq             pkgs/main/linux-64::zeromq-4.3.3-he6710b0_3\n",
      "  zlib               pkgs/main/linux-64::zlib-1.2.11-h7b6447c_3\n",
      "\n",
      "\n",
      "\n",
      "Downloading and Extracting Packages\n",
      "certifi-2020.12.5    | 141 KB    | ##################################### | 100% \n",
      "six-1.15.0           | 27 KB     | ##################################### | 100% \n",
      "ipykernel-5.3.4      | 179 KB    | ##################################### | 100% \n",
      "jedi-0.17.0          | 775 KB    | ##################################### | 100% \n",
      "traitlets-5.0.5      | 81 KB     | ##################################### | 100% \n",
      "python-3.7.10        | 45.2 MB   | ##################################### | 100% \n",
      "ipython-7.21.0       | 978 KB    | ##################################### | 100% \n",
      "tornado-6.1          | 589 KB    | ##################################### | 100% \n",
      "pip-21.0.1           | 1.8 MB    | ##################################### | 100% \n",
      "setuptools-52.0.0    | 710 KB    | ##################################### | 100% \n",
      "pyzmq-20.0.0         | 439 KB    | ##################################### | 100% \n",
      "jupyter_core-4.7.1   | 68 KB     | ##################################### | 100% \n",
      "Preparing transaction: done\n",
      "Verifying transaction: done\n",
      "Executing transaction: done\n",
      "#\n",
      "# To activate this environment, use\n",
      "#\n",
      "#     $ conda activate autoML\n",
      "#\n",
      "# To deactivate an active environment, use\n",
      "#\n",
      "#     $ conda deactivate\n",
      "\n",
      "Installed kernelspec autoML in /home/martin/.local/share/jupyter/kernels/automl\n"
     ]
    }
   ],
   "source": [
    "!../../../create_conda_env.sh autoML 3.7 # 1.argument: name of new environment 2.argument: python-version"
   ]
  },
  {
   "cell_type": "markdown",
   "id": "cleared-parts",
   "metadata": {},
   "source": [
    "Next:\n",
    " - reload the jupyter-notebook server (`Ctrl + R`) or:\n",
    "     <img alt=\"\" caption=\"reload\" id=\"reload\" src=\"../images/reload_nb_server.png\" width=\"220\" height=\"220\">\n",
    " - open new notebook with the new kernel:\n",
    "     <img alt=\"\" caption=\"new kernel\" id=\"new_kernel\" src=\"../images/new_nb_kernel.png\" width=\"320\" height=\"320\">\n",
    " -  or open an existing one and change the kernel:\n",
    "     <img alt=\"\" caption=\"change kernel\" id=\"change_kernel\" src=\"../images/change_kernel.png\" width=\"320\" height=\"320\">\n",
    "     \n",
    "Next, you will have to install new packages:"
   ]
  },
  {
   "cell_type": "code",
   "execution_count": 1,
   "id": "thick-heart",
   "metadata": {},
   "outputs": [
    {
     "name": "stdout",
     "output_type": "stream",
     "text": [
      "Collecting scipy\n",
      "  Downloading scipy-1.6.1-cp37-cp37m-manylinux1_x86_64.whl (27.4 MB)\n",
      "\u001b[K     |████████████████████████████████| 27.4 MB 101 kB/s eta 0:00:011    |█████████████▎                  | 11.4 MB 6.3 MB/s eta 0:00:03\n",
      "\u001b[?25hCollecting numpy>=1.16.5\n",
      "  Downloading numpy-1.20.1-cp37-cp37m-manylinux2010_x86_64.whl (15.3 MB)\n",
      "\u001b[K     |████████████████████████████████| 15.3 MB 7.5 MB/s eta 0:00:01     |█████████████████████▌          | 10.3 MB 3.9 MB/s eta 0:00:02     |███████████████████████████▋    | 13.2 MB 7.5 MB/s eta 0:00:01\n",
      "\u001b[?25hInstalling collected packages: numpy, scipy\n",
      "Successfully installed numpy-1.20.1 scipy-1.6.1\n"
     ]
    }
   ],
   "source": [
    "!pip install scipy"
   ]
  },
  {
   "cell_type": "markdown",
   "id": "elementary-modern",
   "metadata": {},
   "source": [
    "Of course, you can also do everything on the command-line in the terminal - for me more convenient:<br>\n",
    "`./create_conda_env.sh autoML 3.7`<br> \n",
    "`conda activate autoML`<br> \n",
    "`pip install scipy`"
   ]
  }
 ],
 "metadata": {
  "kernelspec": {
   "display_name": "Python [conda env:autoML]",
   "language": "python",
   "name": "conda-env-autoML-py"
  },
  "language_info": {
   "codemirror_mode": {
    "name": "ipython",
    "version": 3
   },
   "file_extension": ".py",
   "mimetype": "text/x-python",
   "name": "python",
   "nbconvert_exporter": "python",
   "pygments_lexer": "ipython3",
   "version": "3.7.10"
  }
 },
 "nbformat": 4,
 "nbformat_minor": 5
}
