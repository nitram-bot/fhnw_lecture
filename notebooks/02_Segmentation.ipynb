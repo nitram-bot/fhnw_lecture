{
 "cells": [
  {
   "cell_type": "markdown",
   "metadata": {},
   "source": [
    "## Rand Index\n",
    "The rand index is a measure of how well to partitions of a set of objects coincide:\n",
    "$$R=\\frac{a + b}{a + b + c + d} = \\frac{a + b}{n \\choose2}$$,\n",
    "where\n",
    "$a$ is the number of pairs of elements that are in the same subset for both partitions\n",
    "$b$ is the number of pairs of elements that are in different subsets for both partitions\n",
    "$c$ is the number of pairs of elements that are in the same subset for the first partition but not for the second \n",
    "$d$ is the number of pairs of elements that are in the different subsets for the first partition but in the same subset for the second partition\n",
    "\n",
    "The Rand index is the percentage of consistent/congruent decisions for the two partitions."
   ]
  }
 ],
 "metadata": {
  "kernelspec": {
   "display_name": "Python 3",
   "language": "python",
   "name": "python3"
  }
 },
 "nbformat": 4,
 "nbformat_minor": 4
}
