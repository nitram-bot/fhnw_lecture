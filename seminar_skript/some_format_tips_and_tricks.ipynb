{
 "cells": [
  {
   "cell_type": "markdown",
   "id": "057ae22f",
   "metadata": {},
   "source": [
    "```{note}\n",
    "here comes a note\n",
    "```"
   ]
  },
  {
   "cell_type": "markdown",
   "id": "02167278",
   "metadata": {},
   "source": [
    "```{warning}\n",
    "watch out\n",
    "```"
   ]
  },
  {
   "cell_type": "markdown",
   "id": "ab2f7c09",
   "metadata": {},
   "source": [
    "\n",
    "```{seealso}\n",
    "here is an import link\n",
    "```"
   ]
  },
  {
   "cell_type": "markdown",
   "id": "afb74e7f",
   "metadata": {},
   "source": [
    "```{centered} this text is in the middle of the page\n",
    "```"
   ]
  },
  {
   "cell_type": "markdown",
   "id": "b537a911",
   "metadata": {},
   "source": [
    "\n",
    "```{admonition} This admonition was styled...\n",
    ":class: tip\n",
    "With a tip class!\n",
    "```"
   ]
  },
  {
   "cell_type": "markdown",
   "id": "621c93eb",
   "metadata": {},
   "source": [
    "```{sidebar} My sidebar title\n",
    "My sidebar content\n",
    "```"
   ]
  },
  {
   "cell_type": "markdown",
   "id": "cabfe273",
   "metadata": {},
   "source": [
    "```{epigraph}\n",
    "Here is a cool quotation.\n",
    "\n",
    "From me, Jo the Jovyan\n",
    "```"
   ]
  },
  {
   "cell_type": "markdown",
   "id": "0a5e59ba",
   "metadata": {},
   "source": [
    "````{important}\n",
    "```{note}\n",
    "This text is **standard** _Markdown_\n",
    "```\n",
    "````"
   ]
  }
 ],
 "metadata": {
  "kernelspec": {
   "display_name": "Python 3",
   "language": "python",
   "name": "python3"
  },
  "language_info": {
   "codemirror_mode": {
    "name": "ipython",
    "version": 3
   },
   "file_extension": ".py",
   "mimetype": "text/x-python",
   "name": "python",
   "nbconvert_exporter": "python",
   "pygments_lexer": "ipython3",
   "version": "3.6.13"
  }
 },
 "nbformat": 4,
 "nbformat_minor": 5
}
