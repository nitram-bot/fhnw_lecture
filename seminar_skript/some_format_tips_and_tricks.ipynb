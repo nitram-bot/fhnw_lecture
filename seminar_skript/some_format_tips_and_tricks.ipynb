{
 "cells": [
  {
   "cell_type": "markdown",
   "id": "057ae22f",
   "metadata": {},
   "source": [
    "```{note}\n",
    "here comes a note\n",
    "```"
   ]
  },
  {
   "cell_type": "markdown",
   "id": "02167278",
   "metadata": {},
   "source": [
    "```{warning}\n",
    "watch out\n",
    "```"
   ]
  },
  {
   "cell_type": "markdown",
   "id": "ab2f7c09",
   "metadata": {},
   "source": [
    "\n",
    "```{seealso}\n",
    "here is an import link\n",
    "```"
   ]
  },
  {
   "cell_type": "markdown",
   "id": "afb74e7f",
   "metadata": {},
   "source": [
    "```{centered} this text is in the middle of the page\n",
    "```"
   ]
  },
  {
   "cell_type": "markdown",
   "id": "b537a911",
   "metadata": {},
   "source": [
    "\n",
    "```{admonition} This admonition was styled...\n",
    ":class: tip\n",
    "With a tip class!\n",
    "```"
   ]
  },
  {
   "cell_type": "markdown",
   "id": "621c93eb",
   "metadata": {},
   "source": [
    "```{sidebar} My sidebar title\n",
    "My sidebar content\n",
    "```"
   ]
  },
  {
   "cell_type": "markdown",
   "id": "cabfe273",
   "metadata": {},
   "source": [
    "```{epigraph}\n",
    "Here is a cool quotation.\n",
    "\n",
    "From me, Jo the Jovyan\n",
    "```"
   ]
  },
  {
   "cell_type": "markdown",
   "id": "0a5e59ba",
   "metadata": {},
   "source": [
    "````{important}\n",
    "```{note}\n",
    "This text is **standard** _Markdown_\n",
    "```\n",
    "````"
   ]
  },
  {
   "cell_type": "code",
   "execution_count": 1,
   "id": "25d616fe",
   "metadata": {},
   "outputs": [
    {
     "data": {
      "text/html": [
       "<marquee style='width: 30%; color: blue;'><b>Whee!</b></marquee>\n"
      ],
      "text/plain": [
       "<IPython.core.display.HTML object>"
      ]
     },
     "metadata": {},
     "output_type": "display_data"
    }
   ],
   "source": [
    "%%html\n",
    "<marquee style='width: 30%; color: blue;'><b>Whee!</b></marquee>"
   ]
  },
  {
   "cell_type": "code",
   "execution_count": 2,
   "id": "81cffa65",
   "metadata": {},
   "outputs": [
    {
     "data": {
      "text/html": [
       "<svg xmlns=\"http://www.w3.org/2000/svg\" viewBox=\"0 0 450 400\" width=\"200\" height=\"200\">\n",
       "  <rect x=\"80\" y=\"60\" width=\"250\" height=\"250\" rx=\"20\" style=\"fill:red; stroke:black; fill-opacity:0.7\" />\n",
       "  <rect x=\"180\" y=\"110\" width=\"250\" height=\"250\" rx=\"40\" style=\"fill:blue; stroke:black; fill-opacity:0.5;\" />\n",
       "</svg>\n"
      ],
      "text/plain": [
       "<IPython.core.display.HTML object>"
      ]
     },
     "metadata": {},
     "output_type": "display_data"
    }
   ],
   "source": [
    "%%html\n",
    "<svg xmlns=\"http://www.w3.org/2000/svg\" viewBox=\"0 0 450 400\" width=\"200\" height=\"200\">\n",
    "  <rect x=\"80\" y=\"60\" width=\"250\" height=\"250\" rx=\"20\" style=\"fill:red; stroke:black; fill-opacity:0.7\" />\n",
    "  <rect x=\"180\" y=\"110\" width=\"250\" height=\"250\" rx=\"40\" style=\"fill:blue; stroke:black; fill-opacity:0.5;\" />\n",
    "</svg>"
   ]
  },
  {
   "cell_type": "markdown",
   "id": "9771ccd8",
   "metadata": {},
   "source": [
    "$A_{m,n} =\n",
    " \\begin{pmatrix}\n",
    "  a_{1,1} & a_{1,2} & \\cdots & a_{1,n} \\\\\n",
    "  a_{2,1} & a_{2,2} & \\cdots & a_{2,n} \\\\\n",
    "  \\vdots  & \\vdots  & \\ddots & \\vdots  \\\\\n",
    "  a_{m,1} & a_{m,2} & \\cdots & a_{m,n}\n",
    " \\end{pmatrix}$"
   ]
  },
  {
   "cell_type": "markdown",
   "id": "03fcb435",
   "metadata": {},
   "source": [
    "First column name  | Second column name \n",
    "-------------------|------------------\n",
    "Row 1, Col 1       | Row 1, Col 2 \n",
    "Row 2, Col 1       | Row 2, Col 2 "
   ]
  }
 ],
 "metadata": {
  "kernelspec": {
   "display_name": "Python 3 (ipykernel)",
   "language": "python",
   "name": "python3"
  },
  "language_info": {
   "codemirror_mode": {
    "name": "ipython",
    "version": 3
   },
   "file_extension": ".py",
   "mimetype": "text/x-python",
   "name": "python",
   "nbconvert_exporter": "python",
   "pygments_lexer": "ipython3",
   "version": "3.8.16"
  }
 },
 "nbformat": 4,
 "nbformat_minor": 5
}
