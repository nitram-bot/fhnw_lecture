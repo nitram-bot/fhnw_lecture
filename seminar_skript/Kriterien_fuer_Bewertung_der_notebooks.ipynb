{
 "cells": [
  {
   "cell_type": "markdown",
   "id": "01915d2e",
   "metadata": {},
   "source": [
    "### Kriterien für die Bewertung der notebooks\n",
    "\n",
    " - richtiges Anwenden der Besonderheiten des data-sets\n",
    "     ja, ja\n",
    " - Auswahl richtige loss-Funktion\n",
    "     ja\n",
    " - Verteilung der target-Values\n",
    "     ja\n",
    " - feature-engineering\n",
    "     ja\n",
    " - korrekte Einschätzung der Modell-Performance\n",
    "     ja\n",
    " - richtiges Anwenden von feature-importance\n",
    "     ja\n",
    " - grid-search: korrekte Definition des Such-Raums\n",
    " - Verwendung von Pipelines\n",
    "     nur einmal\n",
    " - Suche nach bestem Algorithmus (Lern-Algorithmus); mindestens 2 verschieden Ansätze\n",
    "     ja"
   ]
  }
 ],
 "metadata": {
  "kernelspec": {
   "display_name": "Python 3",
   "language": "python",
   "name": "python3"
  },
  "language_info": {
   "codemirror_mode": {
    "name": "ipython",
    "version": 3
   },
   "file_extension": ".py",
   "mimetype": "text/x-python",
   "name": "python",
   "nbconvert_exporter": "python",
   "pygments_lexer": "ipython3",
   "version": "3.6.13"
  },
  "latex_envs": {
   "LaTeX_envs_menu_present": true,
   "autoclose": false,
   "autocomplete": true,
   "bibliofile": "biblio.bib",
   "cite_by": "apalike",
   "current_citInitial": 1,
   "eqLabelWithNumbers": true,
   "eqNumInitial": 1,
   "hotkeys": {
    "equation": "Ctrl-E",
    "itemize": "Ctrl-I"
   },
   "labels_anchors": false,
   "latex_user_defs": false,
   "report_style_numbering": false,
   "user_envs_cfg": false
  }
 },
 "nbformat": 4,
 "nbformat_minor": 5
}
