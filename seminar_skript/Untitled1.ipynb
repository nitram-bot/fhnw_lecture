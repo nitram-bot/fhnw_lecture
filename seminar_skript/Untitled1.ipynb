{
 "cells": [
  {
   "cell_type": "code",
   "execution_count": 2,
   "id": "dd72f5b9",
   "metadata": {},
   "outputs": [],
   "source": [
    "import pandas as pd\n",
    "# Setting column names\n",
    "columns = [\"age\",\"workclass\" ,\"final-weight\",\"education\",\"education-num\",\"marital-status\",\"occupation\", \"relationship\", \"race\", \"sex\", \"capital-gain\",\n",
    "            \"capital-loss\", \"hours-per-week\", \"native-country\", \"salary\" ]\n",
    "\n",
    "# Reading datasets\n",
    "train_df = pd.read_csv('../data/adult.data', names=columns, header=None, skipinitialspace = True)\n",
    "test_df = pd.read_csv('../data/adult.test', names=columns, header=None, skipinitialspace = True)"
   ]
  },
  {
   "cell_type": "code",
   "execution_count": 9,
   "id": "b358f32c",
   "metadata": {},
   "outputs": [
    {
     "data": {
      "text/plain": [
       "array([['Bachelors', 13],\n",
       "       ['Bachelors', 13],\n",
       "       ['HS-grad', 9],\n",
       "       ...,\n",
       "       ['HS-grad', 9],\n",
       "       ['HS-grad', 9],\n",
       "       ['HS-grad', 9]], dtype=object)"
      ]
     },
     "execution_count": 9,
     "metadata": {},
     "output_type": "execute_result"
    }
   ],
   "source": [
    "train_df[['education', 'education-num']].values"
   ]
  },
  {
   "cell_type": "code",
   "execution_count": 5,
   "id": "d7fca7e6",
   "metadata": {},
   "outputs": [],
   "source": [
    "from scipy import stats"
   ]
  },
  {
   "cell_type": "code",
   "execution_count": 6,
   "id": "93662164",
   "metadata": {},
   "outputs": [
    {
     "ename": "TypeError",
     "evalue": "unsupported operand type(s) for +: 'float' and 'str'",
     "output_type": "error",
     "traceback": [
      "\u001b[0;31m---------------------------------------------------------------------------\u001b[0m",
      "\u001b[0;31mTypeError\u001b[0m                                 Traceback (most recent call last)",
      "\u001b[0;32m<ipython-input-6-492f98fdd7ea>\u001b[0m in \u001b[0;36m<module>\u001b[0;34m\u001b[0m\n\u001b[0;32m----> 1\u001b[0;31m \u001b[0mstats\u001b[0m\u001b[0;34m.\u001b[0m\u001b[0mpointbiserialr\u001b[0m\u001b[0;34m(\u001b[0m\u001b[0mtrain_df\u001b[0m\u001b[0;34m[\u001b[0m\u001b[0;34m'education'\u001b[0m\u001b[0;34m]\u001b[0m\u001b[0;34m,\u001b[0m \u001b[0mtrain_df\u001b[0m\u001b[0;34m[\u001b[0m\u001b[0;34m'education-num'\u001b[0m\u001b[0;34m]\u001b[0m\u001b[0;34m)\u001b[0m\u001b[0;34m\u001b[0m\u001b[0;34m\u001b[0m\u001b[0m\n\u001b[0m",
      "\u001b[0;32m~/miniconda3/envs/imbalanced/lib/python3.7/site-packages/scipy/stats/stats.py\u001b[0m in \u001b[0;36mpointbiserialr\u001b[0;34m(x, y)\u001b[0m\n\u001b[1;32m   4391\u001b[0m \u001b[0;34m\u001b[0m\u001b[0m\n\u001b[1;32m   4392\u001b[0m     \"\"\"\n\u001b[0;32m-> 4393\u001b[0;31m     \u001b[0mrpb\u001b[0m\u001b[0;34m,\u001b[0m \u001b[0mprob\u001b[0m \u001b[0;34m=\u001b[0m \u001b[0mpearsonr\u001b[0m\u001b[0;34m(\u001b[0m\u001b[0mx\u001b[0m\u001b[0;34m,\u001b[0m \u001b[0my\u001b[0m\u001b[0;34m)\u001b[0m\u001b[0;34m\u001b[0m\u001b[0;34m\u001b[0m\u001b[0m\n\u001b[0m\u001b[1;32m   4394\u001b[0m     \u001b[0;32mreturn\u001b[0m \u001b[0mPointbiserialrResult\u001b[0m\u001b[0;34m(\u001b[0m\u001b[0mrpb\u001b[0m\u001b[0;34m,\u001b[0m \u001b[0mprob\u001b[0m\u001b[0;34m)\u001b[0m\u001b[0;34m\u001b[0m\u001b[0;34m\u001b[0m\u001b[0m\n\u001b[1;32m   4395\u001b[0m \u001b[0;34m\u001b[0m\u001b[0m\n",
      "\u001b[0;32m~/miniconda3/envs/imbalanced/lib/python3.7/site-packages/scipy/stats/stats.py\u001b[0m in \u001b[0;36mpearsonr\u001b[0;34m(x, y)\u001b[0m\n\u001b[1;32m   3917\u001b[0m     \u001b[0;31m# that the data type is at least 64 bit floating point.  It might have\u001b[0m\u001b[0;34m\u001b[0m\u001b[0;34m\u001b[0m\u001b[0;34m\u001b[0m\u001b[0m\n\u001b[1;32m   3918\u001b[0m     \u001b[0;31m# more precision if the input is, for example, np.longdouble.\u001b[0m\u001b[0;34m\u001b[0m\u001b[0;34m\u001b[0m\u001b[0;34m\u001b[0m\u001b[0m\n\u001b[0;32m-> 3919\u001b[0;31m     \u001b[0mdtype\u001b[0m \u001b[0;34m=\u001b[0m \u001b[0mtype\u001b[0m\u001b[0;34m(\u001b[0m\u001b[0;36m1.0\u001b[0m \u001b[0;34m+\u001b[0m \u001b[0mx\u001b[0m\u001b[0;34m[\u001b[0m\u001b[0;36m0\u001b[0m\u001b[0;34m]\u001b[0m \u001b[0;34m+\u001b[0m \u001b[0my\u001b[0m\u001b[0;34m[\u001b[0m\u001b[0;36m0\u001b[0m\u001b[0;34m]\u001b[0m\u001b[0;34m)\u001b[0m\u001b[0;34m\u001b[0m\u001b[0;34m\u001b[0m\u001b[0m\n\u001b[0m\u001b[1;32m   3920\u001b[0m \u001b[0;34m\u001b[0m\u001b[0m\n\u001b[1;32m   3921\u001b[0m     \u001b[0;32mif\u001b[0m \u001b[0mn\u001b[0m \u001b[0;34m==\u001b[0m \u001b[0;36m2\u001b[0m\u001b[0;34m:\u001b[0m\u001b[0;34m\u001b[0m\u001b[0;34m\u001b[0m\u001b[0m\n",
      "\u001b[0;31mTypeError\u001b[0m: unsupported operand type(s) for +: 'float' and 'str'"
     ]
    }
   ],
   "source": [
    "stats.pointbiserialr(train_df['education'], train_df['education-num'])"
   ]
  },
  {
   "cell_type": "code",
   "execution_count": 8,
   "id": "32dddf93",
   "metadata": {},
   "outputs": [
    {
     "data": {
      "text/plain": [
       "0.20983272911133505"
      ]
     },
     "execution_count": 8,
     "metadata": {},
     "output_type": "execute_result"
    }
   ],
   "source": [
    "stats.spearmanr(train_df['education'], train_df['education-num'])[0]"
   ]
  },
  {
   "cell_type": "code",
   "execution_count": 3,
   "id": "013003cc",
   "metadata": {},
   "outputs": [
    {
     "data": {
      "text/plain": [
       "{('10th', 6),\n",
       " ('11th', 7),\n",
       " ('12th', 8),\n",
       " ('1st-4th', 2),\n",
       " ('5th-6th', 3),\n",
       " ('7th-8th', 4),\n",
       " ('9th', 5),\n",
       " ('Assoc-acdm', 12),\n",
       " ('Assoc-voc', 11),\n",
       " ('Bachelors', 13),\n",
       " ('Doctorate', 16),\n",
       " ('HS-grad', 9),\n",
       " ('Masters', 14),\n",
       " ('Preschool', 1),\n",
       " ('Prof-school', 15),\n",
       " ('Some-college', 10)}"
      ]
     },
     "execution_count": 3,
     "metadata": {},
     "output_type": "execute_result"
    }
   ],
   "source": [
    "set(list(zip(train_df['education'].values, train_df['education-num'].values)))"
   ]
  },
  {
   "cell_type": "code",
   "execution_count": 7,
   "id": "a566deab",
   "metadata": {},
   "outputs": [],
   "source": [
    "from sklearn.metrics import  precision_recall_fscore_support\n",
    "\n",
    "p, r, f1, _= precision_recall_fscore_support([0, 0, 1, 1, 0, 0], [0, 1, 0, 1, 0, 0])"
   ]
  },
  {
   "cell_type": "code",
   "execution_count": 9,
   "id": "d53a7bdf",
   "metadata": {},
   "outputs": [
    {
     "data": {
      "text/plain": [
       "array([0.75, 0.5 ])"
      ]
     },
     "execution_count": 9,
     "metadata": {},
     "output_type": "execute_result"
    }
   ],
   "source": [
    "p"
   ]
  }
 ],
 "metadata": {
  "kernelspec": {
   "display_name": "Python [conda env:imbalanced]",
   "language": "python",
   "name": "conda-env-imbalanced-py"
  },
  "language_info": {
   "codemirror_mode": {
    "name": "ipython",
    "version": 3
   },
   "file_extension": ".py",
   "mimetype": "text/x-python",
   "name": "python",
   "nbconvert_exporter": "python",
   "pygments_lexer": "ipython3",
   "version": "3.7.10"
  }
 },
 "nbformat": 4,
 "nbformat_minor": 5
}
