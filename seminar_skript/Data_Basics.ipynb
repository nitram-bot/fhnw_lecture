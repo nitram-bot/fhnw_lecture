{
 "cells": [
  {
   "cell_type": "code",
   "execution_count": 111,
   "id": "20159874",
   "metadata": {
    "slideshow": {
     "slide_type": "skip"
    },
    "tags": [
     "hide-input"
    ]
   },
   "outputs": [],
   "source": [
    "from IPython.display import Image\n",
    "import warnings\n",
    "warnings.filterwarnings('ignore')"
   ]
  },
  {
   "cell_type": "code",
   "execution_count": 30,
   "id": "a5c53324",
   "metadata": {
    "slideshow": {
     "slide_type": "slide"
    },
    "tags": [
     "hide-input"
    ]
   },
   "outputs": [
    {
     "data": {
      "text/html": [
       "<div>\n",
       "<style scoped>\n",
       "    .dataframe tbody tr th:only-of-type {\n",
       "        vertical-align: middle;\n",
       "    }\n",
       "\n",
       "    .dataframe tbody tr th {\n",
       "        vertical-align: top;\n",
       "    }\n",
       "\n",
       "    .dataframe thead th {\n",
       "        text-align: right;\n",
       "    }\n",
       "</style>\n",
       "<table border=\"1\" class=\"dataframe\">\n",
       "  <thead>\n",
       "    <tr style=\"text-align: right;\">\n",
       "      <th></th>\n",
       "      <th>Pclass</th>\n",
       "      <th>Sex</th>\n",
       "      <th>Age</th>\n",
       "      <th>Cabin</th>\n",
       "    </tr>\n",
       "  </thead>\n",
       "  <tbody>\n",
       "    <tr>\n",
       "      <th>0</th>\n",
       "      <td>3</td>\n",
       "      <td>male</td>\n",
       "      <td>22.0</td>\n",
       "      <td>NaN</td>\n",
       "    </tr>\n",
       "    <tr>\n",
       "      <th>1</th>\n",
       "      <td>1</td>\n",
       "      <td>female</td>\n",
       "      <td>38.0</td>\n",
       "      <td>C85</td>\n",
       "    </tr>\n",
       "    <tr>\n",
       "      <th>2</th>\n",
       "      <td>3</td>\n",
       "      <td>female</td>\n",
       "      <td>26.0</td>\n",
       "      <td>NaN</td>\n",
       "    </tr>\n",
       "    <tr>\n",
       "      <th>3</th>\n",
       "      <td>1</td>\n",
       "      <td>female</td>\n",
       "      <td>35.0</td>\n",
       "      <td>C123</td>\n",
       "    </tr>\n",
       "    <tr>\n",
       "      <th>4</th>\n",
       "      <td>3</td>\n",
       "      <td>male</td>\n",
       "      <td>35.0</td>\n",
       "      <td>NaN</td>\n",
       "    </tr>\n",
       "  </tbody>\n",
       "</table>\n",
       "</div>"
      ],
      "text/plain": [
       "   Pclass     Sex   Age Cabin\n",
       "0       3    male  22.0   NaN\n",
       "1       1  female  38.0   C85\n",
       "2       3  female  26.0   NaN\n",
       "3       1  female  35.0  C123\n",
       "4       3    male  35.0   NaN"
      ]
     },
     "execution_count": 30,
     "metadata": {},
     "output_type": "execute_result"
    }
   ],
   "source": [
    "import pandas as pd\n",
    "train = pd.read_csv(\"../data/titanic/train.csv\")\n",
    "\n",
    "example = train[['Pclass', 'Sex', 'Age', 'Cabin']]\n",
    "example.head()"
   ]
  },
  {
   "cell_type": "markdown",
   "id": "88dcfd0a",
   "metadata": {
    "slideshow": {
     "slide_type": "slide"
    }
   },
   "source": [
    "### continuous variables\n",
    " - are always approximations, e.g. the age could be 22 years, 2 months, 1 week, 1 day, 10 hours, 2 minuts, 55 seconds, ...\n",
    " - have an ordering, e.g. $22\\,\\text{years} < 38\\,\\text{years}$\n",
    " - you can interpret differences: $38\\,\\text{years} - 22\\,\\text{years} = 16\\,\\text{years}$"
   ]
  },
  {
   "cell_type": "code",
   "execution_count": 31,
   "id": "025103fd",
   "metadata": {
    "tags": [
     "hide-input"
    ]
   },
   "outputs": [
    {
     "data": {
      "text/html": [
       "<div>\n",
       "<style scoped>\n",
       "    .dataframe tbody tr th:only-of-type {\n",
       "        vertical-align: middle;\n",
       "    }\n",
       "\n",
       "    .dataframe tbody tr th {\n",
       "        vertical-align: top;\n",
       "    }\n",
       "\n",
       "    .dataframe thead th {\n",
       "        text-align: right;\n",
       "    }\n",
       "</style>\n",
       "<table border=\"1\" class=\"dataframe\">\n",
       "  <thead>\n",
       "    <tr style=\"text-align: right;\">\n",
       "      <th></th>\n",
       "      <th>Age</th>\n",
       "    </tr>\n",
       "  </thead>\n",
       "  <tbody>\n",
       "    <tr>\n",
       "      <th>0</th>\n",
       "      <td>22.0</td>\n",
       "    </tr>\n",
       "    <tr>\n",
       "      <th>1</th>\n",
       "      <td>38.0</td>\n",
       "    </tr>\n",
       "    <tr>\n",
       "      <th>2</th>\n",
       "      <td>26.0</td>\n",
       "    </tr>\n",
       "    <tr>\n",
       "      <th>3</th>\n",
       "      <td>35.0</td>\n",
       "    </tr>\n",
       "    <tr>\n",
       "      <th>4</th>\n",
       "      <td>35.0</td>\n",
       "    </tr>\n",
       "  </tbody>\n",
       "</table>\n",
       "</div>"
      ],
      "text/plain": [
       "    Age\n",
       "0  22.0\n",
       "1  38.0\n",
       "2  26.0\n",
       "3  35.0\n",
       "4  35.0"
      ]
     },
     "execution_count": 31,
     "metadata": {},
     "output_type": "execute_result"
    }
   ],
   "source": [
    "example[['Age']].head()"
   ]
  },
  {
   "cell_type": "markdown",
   "id": "b249d42f",
   "metadata": {
    "slideshow": {
     "slide_type": "slide"
    }
   },
   "source": [
    "### categorical or discrete variables\n",
    "  - are always finite, e.g. Sex is most of the time binary and it's either female or male (I know that's not the best exambple - please do not confuse sex with gender)\n",
    "  - there is no ordering\n",
    "  - you can not interpret differences\n",
    "  - sex is a special case because it's also a __binary variable__; another example for discrete variables is marital status that can be __single, married, widowed, divorced, separated__"
   ]
  },
  {
   "cell_type": "code",
   "execution_count": 32,
   "id": "30657d8b",
   "metadata": {
    "tags": [
     "hide-input"
    ]
   },
   "outputs": [
    {
     "data": {
      "text/html": [
       "<div>\n",
       "<style scoped>\n",
       "    .dataframe tbody tr th:only-of-type {\n",
       "        vertical-align: middle;\n",
       "    }\n",
       "\n",
       "    .dataframe tbody tr th {\n",
       "        vertical-align: top;\n",
       "    }\n",
       "\n",
       "    .dataframe thead th {\n",
       "        text-align: right;\n",
       "    }\n",
       "</style>\n",
       "<table border=\"1\" class=\"dataframe\">\n",
       "  <thead>\n",
       "    <tr style=\"text-align: right;\">\n",
       "      <th></th>\n",
       "      <th>Sex</th>\n",
       "    </tr>\n",
       "  </thead>\n",
       "  <tbody>\n",
       "    <tr>\n",
       "      <th>0</th>\n",
       "      <td>male</td>\n",
       "    </tr>\n",
       "    <tr>\n",
       "      <th>1</th>\n",
       "      <td>female</td>\n",
       "    </tr>\n",
       "    <tr>\n",
       "      <th>2</th>\n",
       "      <td>female</td>\n",
       "    </tr>\n",
       "    <tr>\n",
       "      <th>3</th>\n",
       "      <td>female</td>\n",
       "    </tr>\n",
       "    <tr>\n",
       "      <th>4</th>\n",
       "      <td>male</td>\n",
       "    </tr>\n",
       "  </tbody>\n",
       "</table>\n",
       "</div>"
      ],
      "text/plain": [
       "      Sex\n",
       "0    male\n",
       "1  female\n",
       "2  female\n",
       "3  female\n",
       "4    male"
      ]
     },
     "execution_count": 32,
     "metadata": {},
     "output_type": "execute_result"
    }
   ],
   "source": [
    "example[['Sex']].head()"
   ]
  },
  {
   "cell_type": "markdown",
   "id": "408e6a9f",
   "metadata": {
    "slideshow": {
     "slide_type": "slide"
    }
   },
   "source": [
    "### ordinal variables\n",
    "  - are always finite, e.g the passenger-class is either 1, 2, or 3 but nothing in between\n",
    "  - it's still possible to have an ordering: $\\text{p-class 1} > \\text{p-class 2} > \\text{p-class 3}$\n",
    "  - you can not interpret the differences: $\\text{p-class 3} - \\text{p-class 2} = \\text{p-class \n",
    " 1}$?"
   ]
  },
  {
   "cell_type": "code",
   "execution_count": 33,
   "id": "8e8c7846",
   "metadata": {
    "tags": [
     "hide-input"
    ]
   },
   "outputs": [
    {
     "data": {
      "text/html": [
       "<div>\n",
       "<style scoped>\n",
       "    .dataframe tbody tr th:only-of-type {\n",
       "        vertical-align: middle;\n",
       "    }\n",
       "\n",
       "    .dataframe tbody tr th {\n",
       "        vertical-align: top;\n",
       "    }\n",
       "\n",
       "    .dataframe thead th {\n",
       "        text-align: right;\n",
       "    }\n",
       "</style>\n",
       "<table border=\"1\" class=\"dataframe\">\n",
       "  <thead>\n",
       "    <tr style=\"text-align: right;\">\n",
       "      <th></th>\n",
       "      <th>Pclass</th>\n",
       "    </tr>\n",
       "  </thead>\n",
       "  <tbody>\n",
       "    <tr>\n",
       "      <th>0</th>\n",
       "      <td>3</td>\n",
       "    </tr>\n",
       "    <tr>\n",
       "      <th>1</th>\n",
       "      <td>1</td>\n",
       "    </tr>\n",
       "    <tr>\n",
       "      <th>2</th>\n",
       "      <td>3</td>\n",
       "    </tr>\n",
       "    <tr>\n",
       "      <th>3</th>\n",
       "      <td>1</td>\n",
       "    </tr>\n",
       "    <tr>\n",
       "      <th>4</th>\n",
       "      <td>3</td>\n",
       "    </tr>\n",
       "  </tbody>\n",
       "</table>\n",
       "</div>"
      ],
      "text/plain": [
       "   Pclass\n",
       "0       3\n",
       "1       1\n",
       "2       3\n",
       "3       1\n",
       "4       3"
      ]
     },
     "execution_count": 33,
     "metadata": {},
     "output_type": "execute_result"
    }
   ],
   "source": [
    "example[['Pclass']].head()"
   ]
  },
  {
   "cell_type": "markdown",
   "id": "5ed82d25",
   "metadata": {
    "slideshow": {
     "slide_type": "slide"
    }
   },
   "source": [
    "## Processing of Variable\n",
    "### Continuous Variables\n",
    "\n",
    "We can easily transform a continuous variable into a ordinal variable by setting cut-points. E.g., we could say that all passengers younger than 2 years are renamed as 'Baby', all passengers between 2 years and 17 years as 'Child', etc.."
   ]
  },
  {
   "cell_type": "code",
   "execution_count": 34,
   "id": "d4142544",
   "metadata": {},
   "outputs": [
    {
     "data": {
      "text/html": [
       "<div>\n",
       "<style scoped>\n",
       "    .dataframe tbody tr th:only-of-type {\n",
       "        vertical-align: middle;\n",
       "    }\n",
       "\n",
       "    .dataframe tbody tr th {\n",
       "        vertical-align: top;\n",
       "    }\n",
       "\n",
       "    .dataframe thead th {\n",
       "        text-align: right;\n",
       "    }\n",
       "</style>\n",
       "<table border=\"1\" class=\"dataframe\">\n",
       "  <thead>\n",
       "    <tr style=\"text-align: right;\">\n",
       "      <th></th>\n",
       "      <th>Age</th>\n",
       "      <th>Age_binned</th>\n",
       "    </tr>\n",
       "  </thead>\n",
       "  <tbody>\n",
       "    <tr>\n",
       "      <th>30</th>\n",
       "      <td>40.0</td>\n",
       "      <td>Adult</td>\n",
       "    </tr>\n",
       "    <tr>\n",
       "      <th>31</th>\n",
       "      <td>NaN</td>\n",
       "      <td>NaN</td>\n",
       "    </tr>\n",
       "    <tr>\n",
       "      <th>32</th>\n",
       "      <td>NaN</td>\n",
       "      <td>NaN</td>\n",
       "    </tr>\n",
       "    <tr>\n",
       "      <th>33</th>\n",
       "      <td>66.0</td>\n",
       "      <td>Elderly</td>\n",
       "    </tr>\n",
       "    <tr>\n",
       "      <th>34</th>\n",
       "      <td>28.0</td>\n",
       "      <td>Adult</td>\n",
       "    </tr>\n",
       "    <tr>\n",
       "      <th>35</th>\n",
       "      <td>42.0</td>\n",
       "      <td>Adult</td>\n",
       "    </tr>\n",
       "    <tr>\n",
       "      <th>36</th>\n",
       "      <td>NaN</td>\n",
       "      <td>NaN</td>\n",
       "    </tr>\n",
       "    <tr>\n",
       "      <th>37</th>\n",
       "      <td>21.0</td>\n",
       "      <td>Adult</td>\n",
       "    </tr>\n",
       "    <tr>\n",
       "      <th>38</th>\n",
       "      <td>18.0</td>\n",
       "      <td>Adult</td>\n",
       "    </tr>\n",
       "    <tr>\n",
       "      <th>39</th>\n",
       "      <td>14.0</td>\n",
       "      <td>Child</td>\n",
       "    </tr>\n",
       "  </tbody>\n",
       "</table>\n",
       "</div>"
      ],
      "text/plain": [
       "     Age Age_binned\n",
       "30  40.0      Adult\n",
       "31   NaN        NaN\n",
       "32   NaN        NaN\n",
       "33  66.0    Elderly\n",
       "34  28.0      Adult\n",
       "35  42.0      Adult\n",
       "36   NaN        NaN\n",
       "37  21.0      Adult\n",
       "38  18.0      Adult\n",
       "39  14.0      Child"
      ]
     },
     "execution_count": 34,
     "metadata": {},
     "output_type": "execute_result"
    }
   ],
   "source": [
    "example['Age_binned'] =pd.cut(example.Age,bins=[0,2,17,65,99],labels=['Baby','Child','Adult','Elderly'])# .iloc[30:40]\n",
    "example[['Age','Age_binned']][30:40]"
   ]
  },
  {
   "cell_type": "markdown",
   "id": "637a6f91",
   "metadata": {
    "slideshow": {
     "slide_type": "slide"
    }
   },
   "source": [
    "### Categorical or discrete variables\n",
    "For mathematical models it's hard to work with categories as for example *male*, *female* or *Adult*, *Baby*, *Child*, etc..<br>\n",
    "This is why we have to turn them into categorical variables. This is done by adding new columns to the data, one for each category-level:"
   ]
  },
  {
   "cell_type": "code",
   "execution_count": 35,
   "id": "e1bc2db3",
   "metadata": {},
   "outputs": [
    {
     "data": {
      "text/html": [
       "<div>\n",
       "<style scoped>\n",
       "    .dataframe tbody tr th:only-of-type {\n",
       "        vertical-align: middle;\n",
       "    }\n",
       "\n",
       "    .dataframe tbody tr th {\n",
       "        vertical-align: top;\n",
       "    }\n",
       "\n",
       "    .dataframe thead th {\n",
       "        text-align: right;\n",
       "    }\n",
       "</style>\n",
       "<table border=\"1\" class=\"dataframe\">\n",
       "  <thead>\n",
       "    <tr style=\"text-align: right;\">\n",
       "      <th></th>\n",
       "      <th>Age</th>\n",
       "      <th>Age_binned</th>\n",
       "      <th>Baby</th>\n",
       "      <th>Child</th>\n",
       "      <th>Adult</th>\n",
       "      <th>Elderly</th>\n",
       "    </tr>\n",
       "  </thead>\n",
       "  <tbody>\n",
       "    <tr>\n",
       "      <th>30</th>\n",
       "      <td>40.0</td>\n",
       "      <td>Adult</td>\n",
       "      <td>0</td>\n",
       "      <td>0</td>\n",
       "      <td>1</td>\n",
       "      <td>0</td>\n",
       "    </tr>\n",
       "    <tr>\n",
       "      <th>31</th>\n",
       "      <td>NaN</td>\n",
       "      <td>NaN</td>\n",
       "      <td>0</td>\n",
       "      <td>0</td>\n",
       "      <td>0</td>\n",
       "      <td>0</td>\n",
       "    </tr>\n",
       "    <tr>\n",
       "      <th>32</th>\n",
       "      <td>NaN</td>\n",
       "      <td>NaN</td>\n",
       "      <td>0</td>\n",
       "      <td>0</td>\n",
       "      <td>0</td>\n",
       "      <td>0</td>\n",
       "    </tr>\n",
       "    <tr>\n",
       "      <th>33</th>\n",
       "      <td>66.0</td>\n",
       "      <td>Elderly</td>\n",
       "      <td>0</td>\n",
       "      <td>0</td>\n",
       "      <td>0</td>\n",
       "      <td>1</td>\n",
       "    </tr>\n",
       "    <tr>\n",
       "      <th>34</th>\n",
       "      <td>28.0</td>\n",
       "      <td>Adult</td>\n",
       "      <td>0</td>\n",
       "      <td>0</td>\n",
       "      <td>1</td>\n",
       "      <td>0</td>\n",
       "    </tr>\n",
       "    <tr>\n",
       "      <th>35</th>\n",
       "      <td>42.0</td>\n",
       "      <td>Adult</td>\n",
       "      <td>0</td>\n",
       "      <td>0</td>\n",
       "      <td>1</td>\n",
       "      <td>0</td>\n",
       "    </tr>\n",
       "    <tr>\n",
       "      <th>36</th>\n",
       "      <td>NaN</td>\n",
       "      <td>NaN</td>\n",
       "      <td>0</td>\n",
       "      <td>0</td>\n",
       "      <td>0</td>\n",
       "      <td>0</td>\n",
       "    </tr>\n",
       "    <tr>\n",
       "      <th>37</th>\n",
       "      <td>21.0</td>\n",
       "      <td>Adult</td>\n",
       "      <td>0</td>\n",
       "      <td>0</td>\n",
       "      <td>1</td>\n",
       "      <td>0</td>\n",
       "    </tr>\n",
       "    <tr>\n",
       "      <th>38</th>\n",
       "      <td>18.0</td>\n",
       "      <td>Adult</td>\n",
       "      <td>0</td>\n",
       "      <td>0</td>\n",
       "      <td>1</td>\n",
       "      <td>0</td>\n",
       "    </tr>\n",
       "    <tr>\n",
       "      <th>39</th>\n",
       "      <td>14.0</td>\n",
       "      <td>Child</td>\n",
       "      <td>0</td>\n",
       "      <td>1</td>\n",
       "      <td>0</td>\n",
       "      <td>0</td>\n",
       "    </tr>\n",
       "  </tbody>\n",
       "</table>\n",
       "</div>"
      ],
      "text/plain": [
       "     Age Age_binned  Baby  Child  Adult  Elderly\n",
       "30  40.0      Adult     0      0      1        0\n",
       "31   NaN        NaN     0      0      0        0\n",
       "32   NaN        NaN     0      0      0        0\n",
       "33  66.0    Elderly     0      0      0        1\n",
       "34  28.0      Adult     0      0      1        0\n",
       "35  42.0      Adult     0      0      1        0\n",
       "36   NaN        NaN     0      0      0        0\n",
       "37  21.0      Adult     0      0      1        0\n",
       "38  18.0      Adult     0      0      1        0\n",
       "39  14.0      Child     0      1      0        0"
      ]
     },
     "execution_count": 35,
     "metadata": {},
     "output_type": "execute_result"
    }
   ],
   "source": [
    "nexample = pd.concat([example, pd.get_dummies(example['Age_binned'])], axis=1)\n",
    "nexample[['Age','Age_binned','Baby', 'Child', 'Adult', 'Elderly']][30:40]"
   ]
  },
  {
   "cell_type": "markdown",
   "id": "8f79b91a",
   "metadata": {
    "slideshow": {
     "slide_type": "slide"
    }
   },
   "source": [
    "This is called:<br>\n",
    "  - one-hot encoding\n",
    "  - sometimes this is also incorrectly called dummy encoding\n",
    "  - real __dummy encoding__ has one column less than one-hot encoding: The idea is, if its not *Child*, nor *Adult* or *Elderly*, then is must be *Baby* - so we do not need an extra column for *Baby*\n",
    "  \n",
    "Most intuitively the __real__ dummy-encoding can be seen with __sex__: even though there are two different categories, we just need one column"
   ]
  },
  {
   "cell_type": "code",
   "execution_count": 43,
   "id": "6aafb5d5",
   "metadata": {
    "tags": [
     "hide-input"
    ]
   },
   "outputs": [
    {
     "data": {
      "text/html": [
       "<div>\n",
       "<style scoped>\n",
       "    .dataframe tbody tr th:only-of-type {\n",
       "        vertical-align: middle;\n",
       "    }\n",
       "\n",
       "    .dataframe tbody tr th {\n",
       "        vertical-align: top;\n",
       "    }\n",
       "\n",
       "    .dataframe thead th {\n",
       "        text-align: right;\n",
       "    }\n",
       "</style>\n",
       "<table border=\"1\" class=\"dataframe\">\n",
       "  <thead>\n",
       "    <tr style=\"text-align: right;\">\n",
       "      <th></th>\n",
       "      <th>Sex</th>\n",
       "      <th>Sex2</th>\n",
       "    </tr>\n",
       "  </thead>\n",
       "  <tbody>\n",
       "    <tr>\n",
       "      <th>0</th>\n",
       "      <td>male</td>\n",
       "      <td>0</td>\n",
       "    </tr>\n",
       "    <tr>\n",
       "      <th>1</th>\n",
       "      <td>female</td>\n",
       "      <td>1</td>\n",
       "    </tr>\n",
       "    <tr>\n",
       "      <th>2</th>\n",
       "      <td>female</td>\n",
       "      <td>1</td>\n",
       "    </tr>\n",
       "    <tr>\n",
       "      <th>3</th>\n",
       "      <td>female</td>\n",
       "      <td>1</td>\n",
       "    </tr>\n",
       "    <tr>\n",
       "      <th>4</th>\n",
       "      <td>male</td>\n",
       "      <td>0</td>\n",
       "    </tr>\n",
       "  </tbody>\n",
       "</table>\n",
       "</div>"
      ],
      "text/plain": [
       "      Sex  Sex2\n",
       "0    male     0\n",
       "1  female     1\n",
       "2  female     1\n",
       "3  female     1\n",
       "4    male     0"
      ]
     },
     "execution_count": 43,
     "metadata": {},
     "output_type": "execute_result"
    }
   ],
   "source": [
    "nnexample = pd.concat([nexample, nexample[['Sex']].replace({\"Sex\": {'female':1, 'male': 0}}).rename(columns={'Sex': 'Sex2'})], axis=1)\n",
    "nnexample[['Sex', 'Sex2']].head()"
   ]
  },
  {
   "cell_type": "markdown",
   "id": "c52d10c3",
   "metadata": {
    "slideshow": {
     "slide_type": "subslide"
    }
   },
   "source": [
    "### ordinal data\n",
    "  - there are methods for ordinal data, e.g. ordinal regression\n",
    "  - most of the time ordinal variables are just treated as categorical variables"
   ]
  },
  {
   "cell_type": "markdown",
   "id": "c12fad66",
   "metadata": {
    "slideshow": {
     "slide_type": "slide"
    }
   },
   "source": [
    "## Missing Data\n",
    "Data can be missing:\n",
    "  - at random\n",
    "  - systematically, i.e. the fact that the data is missing could bear some valuable information\n",
    "  \n",
    "For categorical and ordinal data, missing data is just another category.<br>\n",
    "For continuous variables there are several possibilities to deal with missing data. The most frequent ones are:<br>\n",
    "  - imputation by the mean (the mean-value of all non-missing values is taken)\n",
    "  - imputation by the median (the value with half of all values larger and half of all values smaller is taken)\n",
    "  - imputation by the mode (the most frequent value is taken)\n",
    "  \n",
    "However, since we do not know for sure, why data is missing it is often helpfull to keep track of it by creating a new indicator variable for missing values:\n",
    "\n",
    "__First, we create the indicator variable:__"
   ]
  },
  {
   "cell_type": "code",
   "execution_count": 47,
   "id": "8f503ed9",
   "metadata": {
    "slideshow": {
     "slide_type": "slide"
    },
    "tags": [
     "hide-input"
    ]
   },
   "outputs": [
    {
     "data": {
      "text/html": [
       "<div>\n",
       "<style scoped>\n",
       "    .dataframe tbody tr th:only-of-type {\n",
       "        vertical-align: middle;\n",
       "    }\n",
       "\n",
       "    .dataframe tbody tr th {\n",
       "        vertical-align: top;\n",
       "    }\n",
       "\n",
       "    .dataframe thead th {\n",
       "        text-align: right;\n",
       "    }\n",
       "</style>\n",
       "<table border=\"1\" class=\"dataframe\">\n",
       "  <thead>\n",
       "    <tr style=\"text-align: right;\">\n",
       "      <th></th>\n",
       "      <th>Age</th>\n",
       "      <th>missing_Age</th>\n",
       "    </tr>\n",
       "  </thead>\n",
       "  <tbody>\n",
       "    <tr>\n",
       "      <th>30</th>\n",
       "      <td>40.0</td>\n",
       "      <td>0</td>\n",
       "    </tr>\n",
       "    <tr>\n",
       "      <th>31</th>\n",
       "      <td>NaN</td>\n",
       "      <td>1</td>\n",
       "    </tr>\n",
       "    <tr>\n",
       "      <th>32</th>\n",
       "      <td>NaN</td>\n",
       "      <td>1</td>\n",
       "    </tr>\n",
       "    <tr>\n",
       "      <th>33</th>\n",
       "      <td>66.0</td>\n",
       "      <td>0</td>\n",
       "    </tr>\n",
       "    <tr>\n",
       "      <th>34</th>\n",
       "      <td>28.0</td>\n",
       "      <td>0</td>\n",
       "    </tr>\n",
       "    <tr>\n",
       "      <th>35</th>\n",
       "      <td>42.0</td>\n",
       "      <td>0</td>\n",
       "    </tr>\n",
       "    <tr>\n",
       "      <th>36</th>\n",
       "      <td>NaN</td>\n",
       "      <td>1</td>\n",
       "    </tr>\n",
       "    <tr>\n",
       "      <th>37</th>\n",
       "      <td>21.0</td>\n",
       "      <td>0</td>\n",
       "    </tr>\n",
       "    <tr>\n",
       "      <th>38</th>\n",
       "      <td>18.0</td>\n",
       "      <td>0</td>\n",
       "    </tr>\n",
       "    <tr>\n",
       "      <th>39</th>\n",
       "      <td>14.0</td>\n",
       "      <td>0</td>\n",
       "    </tr>\n",
       "  </tbody>\n",
       "</table>\n",
       "</div>"
      ],
      "text/plain": [
       "     Age  missing_Age\n",
       "30  40.0            0\n",
       "31   NaN            1\n",
       "32   NaN            1\n",
       "33  66.0            0\n",
       "34  28.0            0\n",
       "35  42.0            0\n",
       "36   NaN            1\n",
       "37  21.0            0\n",
       "38  18.0            0\n",
       "39  14.0            0"
      ]
     },
     "execution_count": 47,
     "metadata": {},
     "output_type": "execute_result"
    }
   ],
   "source": [
    "nnexample['missing_Age'] = pd.isna(nexample['Age']).astype(int)\n",
    "nnexample[['Age', 'missing_Age']][30:40]"
   ]
  },
  {
   "cell_type": "markdown",
   "id": "34bf3a3e",
   "metadata": {
    "slideshow": {
     "slide_type": "slide"
    }
   },
   "source": [
    "__Second, we impute missing values with the average Age:__"
   ]
  },
  {
   "cell_type": "code",
   "execution_count": 49,
   "id": "17ea50f3",
   "metadata": {
    "tags": [
     "hide-input"
    ]
   },
   "outputs": [
    {
     "data": {
      "text/html": [
       "<div>\n",
       "<style scoped>\n",
       "    .dataframe tbody tr th:only-of-type {\n",
       "        vertical-align: middle;\n",
       "    }\n",
       "\n",
       "    .dataframe tbody tr th {\n",
       "        vertical-align: top;\n",
       "    }\n",
       "\n",
       "    .dataframe thead th {\n",
       "        text-align: right;\n",
       "    }\n",
       "</style>\n",
       "<table border=\"1\" class=\"dataframe\">\n",
       "  <thead>\n",
       "    <tr style=\"text-align: right;\">\n",
       "      <th></th>\n",
       "      <th>Age</th>\n",
       "      <th>missing_Age</th>\n",
       "    </tr>\n",
       "  </thead>\n",
       "  <tbody>\n",
       "    <tr>\n",
       "      <th>30</th>\n",
       "      <td>40.000000</td>\n",
       "      <td>0</td>\n",
       "    </tr>\n",
       "    <tr>\n",
       "      <th>31</th>\n",
       "      <td>29.699118</td>\n",
       "      <td>1</td>\n",
       "    </tr>\n",
       "    <tr>\n",
       "      <th>32</th>\n",
       "      <td>29.699118</td>\n",
       "      <td>1</td>\n",
       "    </tr>\n",
       "    <tr>\n",
       "      <th>33</th>\n",
       "      <td>66.000000</td>\n",
       "      <td>0</td>\n",
       "    </tr>\n",
       "    <tr>\n",
       "      <th>34</th>\n",
       "      <td>28.000000</td>\n",
       "      <td>0</td>\n",
       "    </tr>\n",
       "    <tr>\n",
       "      <th>35</th>\n",
       "      <td>42.000000</td>\n",
       "      <td>0</td>\n",
       "    </tr>\n",
       "    <tr>\n",
       "      <th>36</th>\n",
       "      <td>29.699118</td>\n",
       "      <td>1</td>\n",
       "    </tr>\n",
       "    <tr>\n",
       "      <th>37</th>\n",
       "      <td>21.000000</td>\n",
       "      <td>0</td>\n",
       "    </tr>\n",
       "    <tr>\n",
       "      <th>38</th>\n",
       "      <td>18.000000</td>\n",
       "      <td>0</td>\n",
       "    </tr>\n",
       "    <tr>\n",
       "      <th>39</th>\n",
       "      <td>14.000000</td>\n",
       "      <td>0</td>\n",
       "    </tr>\n",
       "  </tbody>\n",
       "</table>\n",
       "</div>"
      ],
      "text/plain": [
       "          Age  missing_Age\n",
       "30  40.000000            0\n",
       "31  29.699118            1\n",
       "32  29.699118            1\n",
       "33  66.000000            0\n",
       "34  28.000000            0\n",
       "35  42.000000            0\n",
       "36  29.699118            1\n",
       "37  21.000000            0\n",
       "38  18.000000            0\n",
       "39  14.000000            0"
      ]
     },
     "execution_count": 49,
     "metadata": {},
     "output_type": "execute_result"
    }
   ],
   "source": [
    "nnexample['Age'] = nnexample['Age'].fillna(nnexample['Age'].mean())\n",
    "nnexample[['Age', 'missing_Age']][30:40]"
   ]
  },
  {
   "cell_type": "markdown",
   "id": "6caf8a40",
   "metadata": {
    "slideshow": {
     "slide_type": "slide"
    }
   },
   "source": [
    "### Interactions\n",
    "Interactions are another important concept in linear modelling. Here, the effect of one variable on the dependent variable $y$ depends on the value of another variable.<br>\n",
    "In the example below we try to model the probability that a person buys a house. Of course, monthly income is an important variable and the higher it is, the more likely that said person will buy a house. Another important variable is marital status. Married people with children in the household tend strongly to buy houses, especially if their monthly income is high. On the other hand, singles, even if they have a high income, will tend not to buy a house.<br>\n",
    "So we see, the variable \"monthly income\" __interacts__ with the variable \"marital status\": the effect of the two variables together is more than the sum of the effects of the individual variables."
   ]
  },
  {
   "cell_type": "code",
   "execution_count": 50,
   "id": "c179e4ee",
   "metadata": {
    "tags": [
     "hide-input"
    ]
   },
   "outputs": [
    {
     "data": {
      "image/png": "[encoded data removed]",
      "text/plain": [
       "<Figure size 432x288 with 1 Axes>"
      ]
     },
     "metadata": {
      "needs_background": "light"
     },
     "output_type": "display_data"
    }
   ],
   "source": [
    "import numpy as np\n",
    "from statsmodels.graphics.factorplots import interaction_plot\n",
    "import pandas as pd\n",
    "\n",
    "income = np.random.randint(0, 2, size = 80) # low vs high\n",
    "marital = np.random.randint(1, 4, size = 80) # single, married, married & kids\n",
    "\n",
    "probability = np.random.rand(80) + income * np.random.rand(80) * marital\n",
    "probability = (probability - np.min(probability))\n",
    "probability = probability/np.max(probability)\n",
    "\n",
    "marital = pd.Series(marital)\n",
    "marital.replace(to_replace = {1:'single', 2:'married', 3:'marrid w kids'}, inplace =True)\n",
    "\n",
    "income = pd.Series(income)\n",
    "income.replace(to_replace = {0:'low', 1:'high'}, inplace = True)\n",
    "\n",
    "fig = interaction_plot(income, marital, probability,\n",
    "                       colors=['mediumorchid', 'cyan', 'fuchsia'], ms=10, xlabel='income',\n",
    "                       ylabel='probability of buying a house',\n",
    "                       legendtitle='marital status')\n"
   ]
  },
  {
   "cell_type": "markdown",
   "id": "33538586",
   "metadata": {
    "slideshow": {
     "slide_type": "slide"
    }
   },
   "source": [
    "### Standardization / Normalization\n",
    "Sometimes we have to bring different variables into the same range. This is very important for Neural Networks, but also for other algorithms it can sometimes be benefitial. <br>\n",
    "Assume, we have the age of some passengers as in the following table:"
   ]
  },
  {
   "cell_type": "code",
   "execution_count": 104,
   "id": "6a980972",
   "metadata": {
    "tags": [
     "hide-input"
    ]
   },
   "outputs": [
    {
     "data": {
      "text/html": [
       "<style  type=\"text/css\" >\n",
       "</style><table id=\"T_8d451_\" style='display:inline'><caption>passengers and age</caption><thead>    <tr>        <th class=\"blank level0\" ></th>        <th class=\"col_heading level0 col0\" >Name</th>        <th class=\"col_heading level0 col1\" >Age</th>    </tr></thead><tbody>\n",
       "                <tr>\n",
       "                        <th id=\"T_8d451_level0_row0\" class=\"row_heading level0 row0\" >0</th>\n",
       "                        <td id=\"T_8d451_row0_col0\" class=\"data row0 col0\" >Braund, Mr. Owen Harris</td>\n",
       "                        <td id=\"T_8d451_row0_col1\" class=\"data row0 col1\" >22.000000</td>\n",
       "            </tr>\n",
       "            <tr>\n",
       "                        <th id=\"T_8d451_level0_row1\" class=\"row_heading level0 row1\" >1</th>\n",
       "                        <td id=\"T_8d451_row1_col0\" class=\"data row1 col0\" >Cumings, Mrs. John Bradley (Florence Briggs Thayer)</td>\n",
       "                        <td id=\"T_8d451_row1_col1\" class=\"data row1 col1\" >38.000000</td>\n",
       "            </tr>\n",
       "            <tr>\n",
       "                        <th id=\"T_8d451_level0_row2\" class=\"row_heading level0 row2\" >2</th>\n",
       "                        <td id=\"T_8d451_row2_col0\" class=\"data row2 col0\" >Heikkinen, Miss. Laina</td>\n",
       "                        <td id=\"T_8d451_row2_col1\" class=\"data row2 col1\" >26.000000</td>\n",
       "            </tr>\n",
       "            <tr>\n",
       "                        <th id=\"T_8d451_level0_row3\" class=\"row_heading level0 row3\" >3</th>\n",
       "                        <td id=\"T_8d451_row3_col0\" class=\"data row3 col0\" >Futrelle, Mrs. Jacques Heath (Lily May Peel)</td>\n",
       "                        <td id=\"T_8d451_row3_col1\" class=\"data row3 col1\" >35.000000</td>\n",
       "            </tr>\n",
       "            <tr>\n",
       "                        <th id=\"T_8d451_level0_row4\" class=\"row_heading level0 row4\" >4</th>\n",
       "                        <td id=\"T_8d451_row4_col0\" class=\"data row4 col0\" >Allen, Mr. William Henry</td>\n",
       "                        <td id=\"T_8d451_row4_col1\" class=\"data row4 col1\" >35.000000</td>\n",
       "            </tr>\n",
       "            <tr>\n",
       "                        <th id=\"T_8d451_level0_row5\" class=\"row_heading level0 row5\" >6</th>\n",
       "                        <td id=\"T_8d451_row5_col0\" class=\"data row5 col0\" >McCarthy, Mr. Timothy J</td>\n",
       "                        <td id=\"T_8d451_row5_col1\" class=\"data row5 col1\" >54.000000</td>\n",
       "            </tr>\n",
       "            <tr>\n",
       "                        <th id=\"T_8d451_level0_row6\" class=\"row_heading level0 row6\" >7</th>\n",
       "                        <td id=\"T_8d451_row6_col0\" class=\"data row6 col0\" >Palsson, Master. Gosta Leonard</td>\n",
       "                        <td id=\"T_8d451_row6_col1\" class=\"data row6 col1\" >2.000000</td>\n",
       "            </tr>\n",
       "            <tr>\n",
       "                        <th id=\"T_8d451_level0_row7\" class=\"row_heading level0 row7\" >8</th>\n",
       "                        <td id=\"T_8d451_row7_col0\" class=\"data row7 col0\" >Johnson, Mrs. Oscar W (Elisabeth Vilhelmina Berg)</td>\n",
       "                        <td id=\"T_8d451_row7_col1\" class=\"data row7 col1\" >27.000000</td>\n",
       "            </tr>\n",
       "            <tr>\n",
       "                        <th id=\"T_8d451_level0_row8\" class=\"row_heading level0 row8\" >9</th>\n",
       "                        <td id=\"T_8d451_row8_col0\" class=\"data row8 col0\" >Nasser, Mrs. Nicholas (Adele Achem)</td>\n",
       "                        <td id=\"T_8d451_row8_col1\" class=\"data row8 col1\" >14.000000</td>\n",
       "            </tr>\n",
       "            <tr>\n",
       "                        <th id=\"T_8d451_level0_row9\" class=\"row_heading level0 row9\" >10</th>\n",
       "                        <td id=\"T_8d451_row9_col0\" class=\"data row9 col0\" >Sandstrom, Miss. Marguerite Rut</td>\n",
       "                        <td id=\"T_8d451_row9_col1\" class=\"data row9 col1\" >4.000000</td>\n",
       "            </tr>\n",
       "            <tr>\n",
       "                        <th id=\"T_8d451_level0_row10\" class=\"row_heading level0 row10\" >11</th>\n",
       "                        <td id=\"T_8d451_row10_col0\" class=\"data row10 col0\" >Bonnell, Miss. Elizabeth</td>\n",
       "                        <td id=\"T_8d451_row10_col1\" class=\"data row10 col1\" >58.000000</td>\n",
       "            </tr>\n",
       "            <tr>\n",
       "                        <th id=\"T_8d451_level0_row11\" class=\"row_heading level0 row11\" >12</th>\n",
       "                        <td id=\"T_8d451_row11_col0\" class=\"data row11 col0\" >Saundercock, Mr. William Henry</td>\n",
       "                        <td id=\"T_8d451_row11_col1\" class=\"data row11 col1\" >20.000000</td>\n",
       "            </tr>\n",
       "            <tr>\n",
       "                        <th id=\"T_8d451_level0_row12\" class=\"row_heading level0 row12\" >13</th>\n",
       "                        <td id=\"T_8d451_row12_col0\" class=\"data row12 col0\" >Andersson, Mr. Anders Johan</td>\n",
       "                        <td id=\"T_8d451_row12_col1\" class=\"data row12 col1\" >39.000000</td>\n",
       "            </tr>\n",
       "            <tr>\n",
       "                        <th id=\"T_8d451_level0_row13\" class=\"row_heading level0 row13\" >14</th>\n",
       "                        <td id=\"T_8d451_row13_col0\" class=\"data row13 col0\" >Vestrom, Miss. Hulda Amanda Adolfina</td>\n",
       "                        <td id=\"T_8d451_row13_col1\" class=\"data row13 col1\" >14.000000</td>\n",
       "            </tr>\n",
       "            <tr>\n",
       "                        <th id=\"T_8d451_level0_row14\" class=\"row_heading level0 row14\" >15</th>\n",
       "                        <td id=\"T_8d451_row14_col0\" class=\"data row14 col0\" >Hewlett, Mrs. (Mary D Kingcome) </td>\n",
       "                        <td id=\"T_8d451_row14_col1\" class=\"data row14 col1\" >55.000000</td>\n",
       "            </tr>\n",
       "    </tbody></table> <style  type=\"text/css\" >\n",
       "</style><table id=\"T_5229a_\" style='display:inline'><caption>mean value and standarddeviation</caption><thead>    <tr>        <th class=\"blank level0\" ></th>        <th class=\"col_heading level0 col0\" >mean</th>        <th class=\"col_heading level0 col1\" >standarddeviation</th>    </tr></thead><tbody>\n",
       "                <tr>\n",
       "                        <th id=\"T_5229a_level0_row0\" class=\"row_heading level0 row0\" >0</th>\n",
       "                        <td id=\"T_5229a_row0_col0\" class=\"data row0 col0\" >29.533333</td>\n",
       "                        <td id=\"T_5229a_row0_col1\" class=\"data row0 col1\" >17.602218</td>\n",
       "            </tr>\n",
       "    </tbody></table>"
      ]
     },
     "metadata": {},
     "output_type": "display_data"
    }
   ],
   "source": [
    "from IPython.display import display, display_html\n",
    "\n",
    "passenger_age = train[['Name', 'Age']].dropna()[0:15]\n",
    "mean_std = pd.DataFrame({'mean':[passenger_age['Age'].mean()], 'standarddeviation':[passenger_age['Age'].std()]})\n",
    "\n",
    "df1_styler = passenger_age.style.set_table_attributes(\"style='display:inline'\")\\\n",
    ".set_caption('passengers and age')\n",
    "df2_styler = mean_std.style.set_table_attributes(\"style='display:inline'\").set_caption('mean value and standarddeviation')\n",
    "\n",
    "display_html(df1_styler._repr_html_() + ' ' + df2_styler._repr_html_(), raw=True)"
   ]
  },
  {
   "cell_type": "markdown",
   "id": "c65acd76",
   "metadata": {
    "slideshow": {
     "slide_type": "subslide"
    }
   },
   "source": [
    "We obtain normalized values by applying the following z-transform:\n",
    "\n",
    "\\begin{eqnarray}\n",
    "z_i=&\\frac{x_i - \\bar{x}}{\\sigma}\\\\\n",
    "\\text{with:}&\\\\\n",
    "\\bar{x}=&\\text{mean}\\\\\n",
    "\\sigma=&\\text{standarddeviation}\n",
    "\\end{eqnarray}\n",
    "\n"
   ]
  },
  {
   "cell_type": "code",
   "execution_count": 105,
   "id": "e5ce1732",
   "metadata": {
    "slideshow": {
     "slide_type": "slide"
    }
   },
   "outputs": [
    {
     "data": {
      "text/html": [
       "<div>\n",
       "<style scoped>\n",
       "    .dataframe tbody tr th:only-of-type {\n",
       "        vertical-align: middle;\n",
       "    }\n",
       "\n",
       "    .dataframe tbody tr th {\n",
       "        vertical-align: top;\n",
       "    }\n",
       "\n",
       "    .dataframe thead th {\n",
       "        text-align: right;\n",
       "    }\n",
       "</style>\n",
       "<table border=\"1\" class=\"dataframe\">\n",
       "  <thead>\n",
       "    <tr style=\"text-align: right;\">\n",
       "      <th></th>\n",
       "      <th>Name</th>\n",
       "      <th>Age</th>\n",
       "      <th>normalized age</th>\n",
       "    </tr>\n",
       "  </thead>\n",
       "  <tbody>\n",
       "    <tr>\n",
       "      <th>0</th>\n",
       "      <td>Braund, Mr. Owen Harris</td>\n",
       "      <td>22.0</td>\n",
       "      <td>-0.427976</td>\n",
       "    </tr>\n",
       "    <tr>\n",
       "      <th>1</th>\n",
       "      <td>Cumings, Mrs. John Bradley (Florence Briggs Th...</td>\n",
       "      <td>38.0</td>\n",
       "      <td>0.481000</td>\n",
       "    </tr>\n",
       "    <tr>\n",
       "      <th>2</th>\n",
       "      <td>Heikkinen, Miss. Laina</td>\n",
       "      <td>26.0</td>\n",
       "      <td>-0.200732</td>\n",
       "    </tr>\n",
       "    <tr>\n",
       "      <th>3</th>\n",
       "      <td>Futrelle, Mrs. Jacques Heath (Lily May Peel)</td>\n",
       "      <td>35.0</td>\n",
       "      <td>0.310567</td>\n",
       "    </tr>\n",
       "    <tr>\n",
       "      <th>4</th>\n",
       "      <td>Allen, Mr. William Henry</td>\n",
       "      <td>35.0</td>\n",
       "      <td>0.310567</td>\n",
       "    </tr>\n",
       "    <tr>\n",
       "      <th>6</th>\n",
       "      <td>McCarthy, Mr. Timothy J</td>\n",
       "      <td>54.0</td>\n",
       "      <td>1.389976</td>\n",
       "    </tr>\n",
       "    <tr>\n",
       "      <th>7</th>\n",
       "      <td>Palsson, Master. Gosta Leonard</td>\n",
       "      <td>2.0</td>\n",
       "      <td>-1.564197</td>\n",
       "    </tr>\n",
       "    <tr>\n",
       "      <th>8</th>\n",
       "      <td>Johnson, Mrs. Oscar W (Elisabeth Vilhelmina Berg)</td>\n",
       "      <td>27.0</td>\n",
       "      <td>-0.143921</td>\n",
       "    </tr>\n",
       "    <tr>\n",
       "      <th>9</th>\n",
       "      <td>Nasser, Mrs. Nicholas (Adele Achem)</td>\n",
       "      <td>14.0</td>\n",
       "      <td>-0.882465</td>\n",
       "    </tr>\n",
       "    <tr>\n",
       "      <th>10</th>\n",
       "      <td>Sandstrom, Miss. Marguerite Rut</td>\n",
       "      <td>4.0</td>\n",
       "      <td>-1.450575</td>\n",
       "    </tr>\n",
       "    <tr>\n",
       "      <th>11</th>\n",
       "      <td>Bonnell, Miss. Elizabeth</td>\n",
       "      <td>58.0</td>\n",
       "      <td>1.617220</td>\n",
       "    </tr>\n",
       "    <tr>\n",
       "      <th>12</th>\n",
       "      <td>Saundercock, Mr. William Henry</td>\n",
       "      <td>20.0</td>\n",
       "      <td>-0.541598</td>\n",
       "    </tr>\n",
       "    <tr>\n",
       "      <th>13</th>\n",
       "      <td>Andersson, Mr. Anders Johan</td>\n",
       "      <td>39.0</td>\n",
       "      <td>0.537811</td>\n",
       "    </tr>\n",
       "    <tr>\n",
       "      <th>14</th>\n",
       "      <td>Vestrom, Miss. Hulda Amanda Adolfina</td>\n",
       "      <td>14.0</td>\n",
       "      <td>-0.882465</td>\n",
       "    </tr>\n",
       "    <tr>\n",
       "      <th>15</th>\n",
       "      <td>Hewlett, Mrs. (Mary D Kingcome)</td>\n",
       "      <td>55.0</td>\n",
       "      <td>1.446787</td>\n",
       "    </tr>\n",
       "  </tbody>\n",
       "</table>\n",
       "</div>"
      ],
      "text/plain": [
       "                                                 Name   Age  normalized age\n",
       "0                             Braund, Mr. Owen Harris  22.0       -0.427976\n",
       "1   Cumings, Mrs. John Bradley (Florence Briggs Th...  38.0        0.481000\n",
       "2                              Heikkinen, Miss. Laina  26.0       -0.200732\n",
       "3        Futrelle, Mrs. Jacques Heath (Lily May Peel)  35.0        0.310567\n",
       "4                            Allen, Mr. William Henry  35.0        0.310567\n",
       "6                             McCarthy, Mr. Timothy J  54.0        1.389976\n",
       "7                      Palsson, Master. Gosta Leonard   2.0       -1.564197\n",
       "8   Johnson, Mrs. Oscar W (Elisabeth Vilhelmina Berg)  27.0       -0.143921\n",
       "9                 Nasser, Mrs. Nicholas (Adele Achem)  14.0       -0.882465\n",
       "10                    Sandstrom, Miss. Marguerite Rut   4.0       -1.450575\n",
       "11                           Bonnell, Miss. Elizabeth  58.0        1.617220\n",
       "12                     Saundercock, Mr. William Henry  20.0       -0.541598\n",
       "13                        Andersson, Mr. Anders Johan  39.0        0.537811\n",
       "14               Vestrom, Miss. Hulda Amanda Adolfina  14.0       -0.882465\n",
       "15                   Hewlett, Mrs. (Mary D Kingcome)   55.0        1.446787"
      ]
     },
     "metadata": {},
     "output_type": "display_data"
    }
   ],
   "source": [
    "passenger_age['normalized age'] = (passenger_age['Age'] - passenger_age['Age'].mean())/passenger_age['Age'].std()\n",
    "display(passenger_age)"
   ]
  },
  {
   "cell_type": "markdown",
   "id": "d6496195",
   "metadata": {
    "slideshow": {
     "slide_type": "slide"
    }
   },
   "source": [
    "Now, let's do the same for another variable: Fare - the price payed for the passage"
   ]
  },
  {
   "cell_type": "code",
   "execution_count": 106,
   "id": "beaec13f",
   "metadata": {
    "tags": [
     "hide-input"
    ]
   },
   "outputs": [
    {
     "data": {
      "text/html": [
       "<div>\n",
       "<style scoped>\n",
       "    .dataframe tbody tr th:only-of-type {\n",
       "        vertical-align: middle;\n",
       "    }\n",
       "\n",
       "    .dataframe tbody tr th {\n",
       "        vertical-align: top;\n",
       "    }\n",
       "\n",
       "    .dataframe thead th {\n",
       "        text-align: right;\n",
       "    }\n",
       "</style>\n",
       "<table border=\"1\" class=\"dataframe\">\n",
       "  <thead>\n",
       "    <tr style=\"text-align: right;\">\n",
       "      <th></th>\n",
       "      <th>Name</th>\n",
       "      <th>Age</th>\n",
       "      <th>normalized age</th>\n",
       "      <th>Fare</th>\n",
       "      <th>normalized_Fare</th>\n",
       "    </tr>\n",
       "  </thead>\n",
       "  <tbody>\n",
       "    <tr>\n",
       "      <th>0</th>\n",
       "      <td>Braund, Mr. Owen Harris</td>\n",
       "      <td>22.0</td>\n",
       "      <td>-0.427976</td>\n",
       "      <td>72.500</td>\n",
       "      <td>-0.868610</td>\n",
       "    </tr>\n",
       "    <tr>\n",
       "      <th>1</th>\n",
       "      <td>Cumings, Mrs. John Bradley (Florence Briggs Th...</td>\n",
       "      <td>38.0</td>\n",
       "      <td>0.481000</td>\n",
       "      <td>712.833</td>\n",
       "      <td>2.347294</td>\n",
       "    </tr>\n",
       "    <tr>\n",
       "      <th>2</th>\n",
       "      <td>Heikkinen, Miss. Laina</td>\n",
       "      <td>26.0</td>\n",
       "      <td>-0.200732</td>\n",
       "      <td>79.250</td>\n",
       "      <td>-0.834709</td>\n",
       "    </tr>\n",
       "    <tr>\n",
       "      <th>3</th>\n",
       "      <td>Futrelle, Mrs. Jacques Heath (Lily May Peel)</td>\n",
       "      <td>35.0</td>\n",
       "      <td>0.310567</td>\n",
       "      <td>531.000</td>\n",
       "      <td>1.434086</td>\n",
       "    </tr>\n",
       "    <tr>\n",
       "      <th>4</th>\n",
       "      <td>Allen, Mr. William Henry</td>\n",
       "      <td>35.0</td>\n",
       "      <td>0.310567</td>\n",
       "      <td>80.500</td>\n",
       "      <td>-0.828432</td>\n",
       "    </tr>\n",
       "    <tr>\n",
       "      <th>6</th>\n",
       "      <td>McCarthy, Mr. Timothy J</td>\n",
       "      <td>54.0</td>\n",
       "      <td>1.389976</td>\n",
       "      <td>518.625</td>\n",
       "      <td>1.371936</td>\n",
       "    </tr>\n",
       "    <tr>\n",
       "      <th>7</th>\n",
       "      <td>Palsson, Master. Gosta Leonard</td>\n",
       "      <td>2.0</td>\n",
       "      <td>-1.564197</td>\n",
       "      <td>210.750</td>\n",
       "      <td>-0.174285</td>\n",
       "    </tr>\n",
       "    <tr>\n",
       "      <th>8</th>\n",
       "      <td>Johnson, Mrs. Oscar W (Elisabeth Vilhelmina Berg)</td>\n",
       "      <td>27.0</td>\n",
       "      <td>-0.143921</td>\n",
       "      <td>111.333</td>\n",
       "      <td>-0.673581</td>\n",
       "    </tr>\n",
       "    <tr>\n",
       "      <th>9</th>\n",
       "      <td>Nasser, Mrs. Nicholas (Adele Achem)</td>\n",
       "      <td>14.0</td>\n",
       "      <td>-0.882465</td>\n",
       "      <td>300.708</td>\n",
       "      <td>0.277505</td>\n",
       "    </tr>\n",
       "    <tr>\n",
       "      <th>10</th>\n",
       "      <td>Sandstrom, Miss. Marguerite Rut</td>\n",
       "      <td>4.0</td>\n",
       "      <td>-1.450575</td>\n",
       "      <td>167.000</td>\n",
       "      <td>-0.394008</td>\n",
       "    </tr>\n",
       "    <tr>\n",
       "      <th>11</th>\n",
       "      <td>Bonnell, Miss. Elizabeth</td>\n",
       "      <td>58.0</td>\n",
       "      <td>1.617220</td>\n",
       "      <td>265.500</td>\n",
       "      <td>0.100682</td>\n",
       "    </tr>\n",
       "    <tr>\n",
       "      <th>12</th>\n",
       "      <td>Saundercock, Mr. William Henry</td>\n",
       "      <td>20.0</td>\n",
       "      <td>-0.541598</td>\n",
       "      <td>80.500</td>\n",
       "      <td>-0.828432</td>\n",
       "    </tr>\n",
       "    <tr>\n",
       "      <th>13</th>\n",
       "      <td>Andersson, Mr. Anders Johan</td>\n",
       "      <td>39.0</td>\n",
       "      <td>0.537811</td>\n",
       "      <td>312.750</td>\n",
       "      <td>0.337983</td>\n",
       "    </tr>\n",
       "    <tr>\n",
       "      <th>14</th>\n",
       "      <td>Vestrom, Miss. Hulda Amanda Adolfina</td>\n",
       "      <td>14.0</td>\n",
       "      <td>-0.882465</td>\n",
       "      <td>78.542</td>\n",
       "      <td>-0.838265</td>\n",
       "    </tr>\n",
       "    <tr>\n",
       "      <th>15</th>\n",
       "      <td>Hewlett, Mrs. (Mary D Kingcome)</td>\n",
       "      <td>55.0</td>\n",
       "      <td>1.446787</td>\n",
       "      <td>160.000</td>\n",
       "      <td>-0.429164</td>\n",
       "    </tr>\n",
       "  </tbody>\n",
       "</table>\n",
       "</div>"
      ],
      "text/plain": [
       "                                                 Name   Age  normalized age  \\\n",
       "0                             Braund, Mr. Owen Harris  22.0       -0.427976   \n",
       "1   Cumings, Mrs. John Bradley (Florence Briggs Th...  38.0        0.481000   \n",
       "2                              Heikkinen, Miss. Laina  26.0       -0.200732   \n",
       "3        Futrelle, Mrs. Jacques Heath (Lily May Peel)  35.0        0.310567   \n",
       "4                            Allen, Mr. William Henry  35.0        0.310567   \n",
       "6                             McCarthy, Mr. Timothy J  54.0        1.389976   \n",
       "7                      Palsson, Master. Gosta Leonard   2.0       -1.564197   \n",
       "8   Johnson, Mrs. Oscar W (Elisabeth Vilhelmina Berg)  27.0       -0.143921   \n",
       "9                 Nasser, Mrs. Nicholas (Adele Achem)  14.0       -0.882465   \n",
       "10                    Sandstrom, Miss. Marguerite Rut   4.0       -1.450575   \n",
       "11                           Bonnell, Miss. Elizabeth  58.0        1.617220   \n",
       "12                     Saundercock, Mr. William Henry  20.0       -0.541598   \n",
       "13                        Andersson, Mr. Anders Johan  39.0        0.537811   \n",
       "14               Vestrom, Miss. Hulda Amanda Adolfina  14.0       -0.882465   \n",
       "15                   Hewlett, Mrs. (Mary D Kingcome)   55.0        1.446787   \n",
       "\n",
       "       Fare  normalized_Fare  \n",
       "0    72.500        -0.868610  \n",
       "1   712.833         2.347294  \n",
       "2    79.250        -0.834709  \n",
       "3   531.000         1.434086  \n",
       "4    80.500        -0.828432  \n",
       "6   518.625         1.371936  \n",
       "7   210.750        -0.174285  \n",
       "8   111.333        -0.673581  \n",
       "9   300.708         0.277505  \n",
       "10  167.000        -0.394008  \n",
       "11  265.500         0.100682  \n",
       "12   80.500        -0.828432  \n",
       "13  312.750         0.337983  \n",
       "14   78.542        -0.838265  \n",
       "15  160.000        -0.429164  "
      ]
     },
     "metadata": {},
     "output_type": "display_data"
    }
   ],
   "source": [
    "passenger_age = passenger_age.merge(train['Fare'] * 10, left_index=True, right_index=True)\n",
    "passenger_age['normalized_Fare'] = (passenger_age['Fare'] - passenger_age['Fare'].mean())/passenger_age['Fare'].std()\n",
    "display(passenger_age)"
   ]
  },
  {
   "cell_type": "markdown",
   "id": "51511209",
   "metadata": {
    "slideshow": {
     "slide_type": "slide"
    }
   },
   "source": [
    "The un-standardized variables accross passengers look like this:"
   ]
  },
  {
   "cell_type": "code",
   "execution_count": 107,
   "id": "5ac400ce",
   "metadata": {
    "tags": [
     "hide-input"
    ]
   },
   "outputs": [
    {
     "data": {
      "text/plain": [
       "<AxesSubplot:>"
      ]
     },
     "execution_count": 107,
     "metadata": {},
     "output_type": "execute_result"
    },
    {
     "data": {
      "image/png": "[encoded data removed]",
      "text/plain": [
       "<Figure size 432x288 with 1 Axes>"
      ]
     },
     "metadata": {
      "needs_background": "light"
     },
     "output_type": "display_data"
    }
   ],
   "source": [
    "passenger_age[['Age', 'Fare']].plot.line()"
   ]
  },
  {
   "cell_type": "markdown",
   "id": "487c2e86",
   "metadata": {
    "slideshow": {
     "slide_type": "subslide"
    }
   },
   "source": [
    "The standardized variables accross passengers look like this:"
   ]
  },
  {
   "cell_type": "code",
   "execution_count": 108,
   "id": "3d6d6cb7",
   "metadata": {
    "tags": [
     "hide-input"
    ]
   },
   "outputs": [
    {
     "data": {
      "text/plain": [
       "<AxesSubplot:>"
      ]
     },
     "execution_count": 108,
     "metadata": {},
     "output_type": "execute_result"
    },
    {
     "data": {
      "image/png": "[encoded data removed]",
      "text/plain": [
       "<Figure size 432x288 with 1 Axes>"
      ]
     },
     "metadata": {
      "needs_background": "light"
     },
     "output_type": "display_data"
    }
   ],
   "source": [
    "passenger_age[['normalized age', 'normalized_Fare']].plot.line()"
   ]
  },
  {
   "cell_type": "markdown",
   "id": "0909561e",
   "metadata": {},
   "source": [
    "## not covered here\n",
    "The following topics are more advanced and do not apply to tree-methods. In a possible follow-up we can discuss them as well:\n",
    "  - power-transforms\n",
    "  - mean-encoding"
   ]
  },
  {
   "cell_type": "markdown",
   "id": "841a8bd5",
   "metadata": {},
   "source": [
    "# Overfitting and Cross-Validation\n",
    "All classification and regression algorithms are prone to overfitting:<br>\n",
    "The algorithms learn pecularities of the train-data, that are not present in the real-world data.<br> \n",
    "When over-fitted, the algorithms are not generalizing to the real data.<br>\n",
    "\n",
    "__Capacity__ refers to the ratio of free parameters and the amount of training data."
   ]
  },
  {
   "cell_type": "code",
   "execution_count": 112,
   "id": "ac1ddfd0",
   "metadata": {
    "tags": [
     "hide-input"
    ]
   },
   "outputs": [
    {
     "data": {
      "image/png": "[encoded data removed]",
      "text/plain": [
       "<IPython.core.display.Image object>"
      ]
     },
     "execution_count": 112,
     "metadata": {},
     "output_type": "execute_result"
    }
   ],
   "source": [
    "Image('../images/bias_variance_tradeoff.png')"
   ]
  },
  {
   "cell_type": "markdown",
   "id": "9afead31",
   "metadata": {},
   "source": [
    "# Cross-Validation\n",
    "In most real-word applications we do not know the data universe, i.e. we do not know all possible data points that might be there. Our training data is possibly just a biased subsample of the population.<br>\n",
    "When we fit our algorithm to such a subsample its performance will degrade, when applied to new, unseen data points. In order to have an idea, how well our algorithm will perform in such cases, we can use a cross-validation scheme:<br>\n",
    "In the example below, a 5-fold cross-validation is illustrated.\n",
    "* split the training data in 5 equal sized parts. In *sklearn* you can choose *StratifiedKFold*, that essentially tries to keep the percentages of all classes stable within each fold.\n",
    "* train your algorithmm on 4 folds and classify data in the 5th hold-out fold. Keep the performance on this fold.\n",
    "* repeat the last step 4 more times and use each time another fold as your hold-out fold.\n",
    "* at the end, you have 5 independent estimates of your algorithm's performance\n",
    "* compute the mean of theses 5 estimates for an overall estimate"
   ]
  },
  {
   "cell_type": "code",
   "execution_count": 113,
   "id": "9ed7782a",
   "metadata": {
    "tags": [
     "hide-input"
    ]
   },
   "outputs": [
    {
     "data": {
      "image/png": "[encoded data removed]",
      "text/plain": [
       "<IPython.core.display.Image object>"
      ]
     },
     "execution_count": 113,
     "metadata": {},
     "output_type": "execute_result"
    }
   ],
   "source": [
    "from IPython import display\n",
    "display.Image('../images/cross_validation.png')"
   ]
  }
 ],
 "metadata": {
  "celltoolbar": "Tags",
  "kernelspec": {
   "display_name": "Python [conda env:imbalanced]",
   "language": "python",
   "name": "conda-env-imbalanced-py"
  },
  "language_info": {
   "codemirror_mode": {
    "name": "ipython",
    "version": 3
   },
   "file_extension": ".py",
   "mimetype": "text/x-python",
   "name": "python",
   "nbconvert_exporter": "python",
   "pygments_lexer": "ipython3",
   "version": "3.7.10"
  }
 },
 "nbformat": 4,
 "nbformat_minor": 5
}
