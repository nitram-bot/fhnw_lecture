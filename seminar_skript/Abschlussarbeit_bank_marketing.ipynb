{
 "cells": [
  {
   "cell_type": "markdown",
   "id": "23c0ecdc",
   "metadata": {
    "slideshow": {
     "slide_type": "slide"
    }
   },
   "source": [
    "## Abschlussarbeit\n",
    "Hier bearbeiten wir ein der Dataset Inter-American Development Bank:<br>\n",
    "https://www.kaggle.com/c/costa-rican-household-poverty-prediction/overview\n",
    "\n",
    "\n",
    "Ziel ist es, das Haushaltseinkommen von Puerto Ricanern in 4 Einkommensstufen vorherzusagen.<br>\n",
    "\n",
    "\n",
    "__Es gibt 2 Dateien__:<br>\n",
    "\n",
    "1. train.csv\n",
    "2. codebook.csv - zur Erklärung der Variablen\n"
   ]
  },
  {
   "cell_type": "markdown",
   "id": "fd695afc",
   "metadata": {
    "slideshow": {
     "slide_type": "skip"
    },
    "tags": [
     "remove-cell"
    ]
   },
   "source": [
    "## Abschlussarbeit\n",
    "Hier bearbeiten wir ein Dataset aus einer Marketing Kampagne: https://archive.ics.uci.edu/ml/datasets/bank+marketing\n",
    "Ziel ist es, vorherzusagen, welcher der Kunden ein Festgeldkonto (term deposit) eröffnet.<br>\n",
    "\n",
    "\n",
    "__Wichtig__: Ihr müsst das Dataset von obigen Link herunterladen. Wir arbeiten exklusiv mit dem Dataset \"bank-additional-full.csv\", welches sich in dem Ordner \"bank-additional.zip\" befindet.<br>\n",
    "\n",
    "Nur dieses Set ist anspruchsvoll genug, damit wir die Inhalte der Lehrveranstaltung vollumfänglich anwenden können."
   ]
  },
  {
   "cell_type": "markdown",
   "id": "0be813b7",
   "metadata": {
    "slideshow": {
     "slide_type": "subslide"
    }
   },
   "source": [
    "### Kriterien für die Bewertung der notebooks (Project-Arbeit)\n",
    "\n",
    " - richtiges Anwenden der Besonderheiten des data-sets\n",
    " \n",
    " - Auswahl richtige loss-Funktion\n",
    " \n",
    " - Verteilung der target-Values\n",
    " \n",
    " - feature-engineering\n",
    " \n",
    " - korrekte Einschätzung der Modell-Performance\n",
    " \n",
    " - richtiges Anwenden von feature-importance\n",
    " \n",
    " - grid-search: korrekte Definition des Such-Raums\n",
    " \n",
    " - Verwendung von Pipelines\n",
    " \n",
    " - Suche nach bestem Algorithmus (Lern-Algorithmus); mindestens 2 verschieden Ansätze\n",
    " "
   ]
  },
  {
   "cell_type": "code",
   "execution_count": null,
   "id": "fa09c4c7",
   "metadata": {},
   "outputs": [],
   "source": []
  }
 ],
 "metadata": {
  "celltoolbar": "Slideshow",
  "kernelspec": {
   "display_name": "Python 3 (ipykernel)",
   "language": "python",
   "name": "python3"
  },
  "language_info": {
   "codemirror_mode": {
    "name": "ipython",
    "version": 3
   },
   "file_extension": ".py",
   "mimetype": "text/x-python",
   "name": "python",
   "nbconvert_exporter": "python",
   "pygments_lexer": "ipython3",
   "version": "3.8.16"
  }
 },
 "nbformat": 4,
 "nbformat_minor": 5
}
